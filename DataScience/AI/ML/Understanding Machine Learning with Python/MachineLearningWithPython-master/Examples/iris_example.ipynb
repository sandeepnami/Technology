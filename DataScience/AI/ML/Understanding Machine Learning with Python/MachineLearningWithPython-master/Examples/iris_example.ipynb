{
 "cells": [
  {
   "cell_type": "code",
   "execution_count": 1,
   "metadata": {
    "collapsed": false
   },
   "outputs": [
    {
     "data": {
      "text/plain": [
       "SVC(C=1.0, cache_size=200, class_weight=None, coef0=0.0,\n",
       "  decision_function_shape=None, degree=3, gamma='auto', kernel='rbf',\n",
       "  max_iter=-1, probability=False, random_state=None, shrinking=True,\n",
       "  tol=0.001, verbose=False)"
      ]
     },
     "execution_count": 1,
     "metadata": {},
     "output_type": "execute_result"
    }
   ],
   "source": [
    "from sklearn import svm\n",
    "from sklearn import datasets\n",
    "\n",
    "# load the Support vector machine algorithm\n",
    "clf = svm.SVC()\n",
    "# iris is a classic dataset that comes with sklearn.  It has Iris flower features and the resulting type of\n",
    "#  Iris.  See https://archive.ics.uci.edu/ml/datasets/Iris for the details.\n",
    "iris = datasets.load_iris()\n",
    "# X (iris.data is a list of sizes of a flower.  There are 4 features of the form [5.6, 3.0, 4.1, 1.3] )\n",
    "# y is the type of flower (0,1,2) for (Iris Setosa, Iris Versicolour, Iris Virginica)\n",
    "X, y = iris.data, iris.target\n",
    "# create a trained model with the iris data\n",
    "clf.fit(X,y)\n"
   ]
  },
  {
   "cell_type": "code",
   "execution_count": 2,
   "metadata": {
    "collapsed": false
   },
   "outputs": [
    {
     "data": {
      "text/plain": [
       "['clf_trained.pkl',\n",
       " 'clf_trained.pkl_01.npy',\n",
       " 'clf_trained.pkl_02.npy',\n",
       " 'clf_trained.pkl_03.npy',\n",
       " 'clf_trained.pkl_04.npy',\n",
       " 'clf_trained.pkl_05.npy',\n",
       " 'clf_trained.pkl_06.npy',\n",
       " 'clf_trained.pkl_07.npy',\n",
       " 'clf_trained.pkl_08.npy',\n",
       " 'clf_trained.pkl_09.npy',\n",
       " 'clf_trained.pkl_10.npy',\n",
       " 'clf_trained.pkl_11.npy']"
      ]
     },
     "execution_count": 2,
     "metadata": {},
     "output_type": "execute_result"
    }
   ],
   "source": [
    "# Save the trained model to disk so we can use the model at a later time to predict the class of a new flower\n",
    "\n",
    "from sklearn.externals import joblib\n",
    "joblib.dump(clf, 'clf_trained.pkl')"
   ]
  },
  {
   "cell_type": "code",
   "execution_count": 9,
   "metadata": {
    "collapsed": false
   },
   "outputs": [
    {
     "name": "stdout",
     "output_type": "stream",
     "text": [
      "predicted species is: 1\n",
      "predicted species is: 0\n",
      "predicted species is: 2\n"
     ]
    },
    {
     "name": "stderr",
     "output_type": "stream",
     "text": [
      "C:\\Anaconda3\\lib\\site-packages\\sklearn\\utils\\validation.py:386: DeprecationWarning: Passing 1d arrays as data is deprecated in 0.17 and willraise ValueError in 0.19. Reshape your data either using X.reshape(-1, 1) if your data has a single feature or X.reshape(1, -1) if it contains a single sample.\n",
      "  DeprecationWarning)\n",
      "C:\\Anaconda3\\lib\\site-packages\\sklearn\\utils\\validation.py:386: DeprecationWarning: Passing 1d arrays as data is deprecated in 0.17 and willraise ValueError in 0.19. Reshape your data either using X.reshape(-1, 1) if your data has a single feature or X.reshape(1, -1) if it contains a single sample.\n",
      "  DeprecationWarning)\n",
      "C:\\Anaconda3\\lib\\site-packages\\sklearn\\utils\\validation.py:386: DeprecationWarning: Passing 1d arrays as data is deprecated in 0.17 and willraise ValueError in 0.19. Reshape your data either using X.reshape(-1, 1) if your data has a single feature or X.reshape(1, -1) if it contains a single sample.\n",
      "  DeprecationWarning)\n"
     ]
    }
   ],
   "source": [
    "# at some time later, or even in a different program (this is why the 2nd occurance of the import)\n",
    "from sklearn.externals import joblib\n",
    "clf_trained = joblib.load('clf_trained.pkl')\n",
    "\n",
    "# Use the trained model to predict the Iris species based on the features of \"new\" flowers\n",
    "new_flower_a =  [ 5.3, 3.0, 4.1, 1.2]\n",
    "new_flower_b =  [ 3.5, 2.1, 2.1, 1.5]\n",
    "new_flower_c =  [10.5, 2.1, 2.1, 1.5]\n",
    "\n",
    "y_hat_a = clf_trained.predict( new_flower_a)\n",
    "# What is the predicted species of the flower based on it's feature values?\n",
    "print (\"predicted species is: {0:d}\".format(y_hat_a[0]))\n",
    "\n",
    "y_hat_b = clf_trained.predict( new_flower_b)\n",
    "# What is the predicted species of the flower based on it's feature values?\n",
    "print (\"predicted species is: {0:d}\".format(y_hat_b[0]))\n",
    "\n",
    "y_hat_c = clf_trained.predict( new_flower_c)\n",
    "# What is the predicted species of the flower based on it's feature values?\n",
    "print (\"predicted species is: {0:d}\".format(y_hat_c[0]))\n"
   ]
  },
  {
   "cell_type": "code",
   "execution_count": null,
   "metadata": {
    "collapsed": true
   },
   "outputs": [],
   "source": []
  }
 ],
 "metadata": {
  "kernelspec": {
   "display_name": "Python 3",
   "language": "python",
   "name": "python3"
  },
  "language_info": {
   "codemirror_mode": {
    "name": "ipython",
    "version": 3
   },
   "file_extension": ".py",
   "mimetype": "text/x-python",
   "name": "python",
   "nbconvert_exporter": "python",
   "pygments_lexer": "ipython3",
   "version": "3.5.1"
  }
 },
 "nbformat": 4,
 "nbformat_minor": 0
}
