{
 "cells": [
  {
   "cell_type": "code",
   "execution_count": 53,
   "metadata": {},
   "outputs": [],
   "source": [
    "import numpy as np\n",
    "import pandas as pd\n",
    "\n",
    "from scipy import stats\n",
    "\n",
    "import seaborn as sns\n",
    "import matplotlib.pyplot as plt\n",
    "\n",
    "sns.set_theme(style=\"darkgrid\")"
   ]
  },
  {
   "cell_type": "markdown",
   "metadata": {},
   "source": [
    "#### Dataset:"
   ]
  },
  {
   "cell_type": "markdown",
   "metadata": {},
   "source": [
    "https://www.sheffield.ac.uk/mash/statistics/datasets\n",
    "    \n",
    "This dataset contains information on new born babies and their parents. It contains mostly continuous variables (although some have only a few values e.g. number of cigarettes smoked per day) and is most useful for correlation and regression. The birthweights of the babies who mothers smoked have been adjusted slightly to exaggerate the differences between mothers who smoked and didn’t smoke so students can see the difference more clearly in a scatterplot with gestational age and scatter colour coded by smoking status"
   ]
  },
  {
   "cell_type": "markdown",
   "metadata": {},
   "source": [
    "ID - Baby number\n",
    "\n",
    "Length - Length of baby (inches)\n",
    "\n",
    "Birthweight - Weight of baby (lbs)\n",
    "\n",
    "Headcirc - Head Circumference\n",
    "\n",
    "Gestation - Gestation (weeks)\n",
    "\n",
    "smoker - Mother smokes 1 = smoker 0 = non-smoker\n",
    "\n",
    "mage - Maternal age\n",
    "\n",
    "mnocig - Number of cigarettes smoked per day by mother\n",
    "\n",
    "mheight - Mothers height (inches)\n",
    "\n",
    "mppwt - Mothers pre-pregnancy weight (lbs)\n",
    "\n",
    "fage - Father's age\n",
    "\n",
    "fedyrs - Father’s years in education\n",
    "\n",
    "fnocig - Number of cigarettes smoked per day by father\n",
    "\n",
    "fheight - Father's height (inches)\n",
    "\n",
    "lowbwt - Low birth weight, 0 = No and 1 = yes\n",
    "\n",
    "mage35 - Mother over 35, 0 = No and 1 = yes"
   ]
  },
  {
   "cell_type": "code",
   "execution_count": 54,
   "metadata": {},
   "outputs": [
    {
     "data": {
      "text/html": [
       "<div>\n",
       "<style scoped>\n",
       "    .dataframe tbody tr th:only-of-type {\n",
       "        vertical-align: middle;\n",
       "    }\n",
       "\n",
       "    .dataframe tbody tr th {\n",
       "        vertical-align: top;\n",
       "    }\n",
       "\n",
       "    .dataframe thead th {\n",
       "        text-align: right;\n",
       "    }\n",
       "</style>\n",
       "<table border=\"1\" class=\"dataframe\">\n",
       "  <thead>\n",
       "    <tr style=\"text-align: right;\">\n",
       "      <th></th>\n",
       "      <th>ID</th>\n",
       "      <th>Length</th>\n",
       "      <th>Birthweight</th>\n",
       "      <th>Headcirc</th>\n",
       "      <th>Gestation</th>\n",
       "      <th>smoker</th>\n",
       "      <th>mage</th>\n",
       "      <th>mnocig</th>\n",
       "      <th>mheight</th>\n",
       "      <th>mppwt</th>\n",
       "      <th>fage</th>\n",
       "      <th>fedyrs</th>\n",
       "      <th>fnocig</th>\n",
       "      <th>fheight</th>\n",
       "      <th>lowbwt</th>\n",
       "      <th>mage35</th>\n",
       "    </tr>\n",
       "  </thead>\n",
       "  <tbody>\n",
       "    <tr>\n",
       "      <th>0</th>\n",
       "      <td>1360</td>\n",
       "      <td>56</td>\n",
       "      <td>4.55</td>\n",
       "      <td>34</td>\n",
       "      <td>44</td>\n",
       "      <td>0</td>\n",
       "      <td>20</td>\n",
       "      <td>0</td>\n",
       "      <td>162</td>\n",
       "      <td>57</td>\n",
       "      <td>23</td>\n",
       "      <td>10</td>\n",
       "      <td>35</td>\n",
       "      <td>179</td>\n",
       "      <td>0</td>\n",
       "      <td>0</td>\n",
       "    </tr>\n",
       "    <tr>\n",
       "      <th>1</th>\n",
       "      <td>1016</td>\n",
       "      <td>53</td>\n",
       "      <td>4.32</td>\n",
       "      <td>36</td>\n",
       "      <td>40</td>\n",
       "      <td>0</td>\n",
       "      <td>19</td>\n",
       "      <td>0</td>\n",
       "      <td>171</td>\n",
       "      <td>62</td>\n",
       "      <td>19</td>\n",
       "      <td>12</td>\n",
       "      <td>0</td>\n",
       "      <td>183</td>\n",
       "      <td>0</td>\n",
       "      <td>0</td>\n",
       "    </tr>\n",
       "    <tr>\n",
       "      <th>2</th>\n",
       "      <td>462</td>\n",
       "      <td>58</td>\n",
       "      <td>4.10</td>\n",
       "      <td>39</td>\n",
       "      <td>41</td>\n",
       "      <td>0</td>\n",
       "      <td>35</td>\n",
       "      <td>0</td>\n",
       "      <td>172</td>\n",
       "      <td>58</td>\n",
       "      <td>31</td>\n",
       "      <td>16</td>\n",
       "      <td>25</td>\n",
       "      <td>185</td>\n",
       "      <td>0</td>\n",
       "      <td>1</td>\n",
       "    </tr>\n",
       "    <tr>\n",
       "      <th>3</th>\n",
       "      <td>1187</td>\n",
       "      <td>53</td>\n",
       "      <td>4.07</td>\n",
       "      <td>38</td>\n",
       "      <td>44</td>\n",
       "      <td>0</td>\n",
       "      <td>20</td>\n",
       "      <td>0</td>\n",
       "      <td>174</td>\n",
       "      <td>68</td>\n",
       "      <td>26</td>\n",
       "      <td>14</td>\n",
       "      <td>25</td>\n",
       "      <td>189</td>\n",
       "      <td>0</td>\n",
       "      <td>0</td>\n",
       "    </tr>\n",
       "    <tr>\n",
       "      <th>4</th>\n",
       "      <td>553</td>\n",
       "      <td>54</td>\n",
       "      <td>3.94</td>\n",
       "      <td>37</td>\n",
       "      <td>42</td>\n",
       "      <td>0</td>\n",
       "      <td>24</td>\n",
       "      <td>0</td>\n",
       "      <td>175</td>\n",
       "      <td>66</td>\n",
       "      <td>30</td>\n",
       "      <td>12</td>\n",
       "      <td>0</td>\n",
       "      <td>184</td>\n",
       "      <td>0</td>\n",
       "      <td>0</td>\n",
       "    </tr>\n",
       "  </tbody>\n",
       "</table>\n",
       "</div>"
      ],
      "text/plain": [
       "     ID  Length  Birthweight  Headcirc  Gestation  smoker  mage  mnocig  \\\n",
       "0  1360      56         4.55        34         44       0    20       0   \n",
       "1  1016      53         4.32        36         40       0    19       0   \n",
       "2   462      58         4.10        39         41       0    35       0   \n",
       "3  1187      53         4.07        38         44       0    20       0   \n",
       "4   553      54         3.94        37         42       0    24       0   \n",
       "\n",
       "   mheight  mppwt  fage  fedyrs  fnocig  fheight  lowbwt  mage35  \n",
       "0      162     57    23      10      35      179       0       0  \n",
       "1      171     62    19      12       0      183       0       0  \n",
       "2      172     58    31      16      25      185       0       1  \n",
       "3      174     68    26      14      25      189       0       0  \n",
       "4      175     66    30      12       0      184       0       0  "
      ]
     },
     "execution_count": 54,
     "metadata": {},
     "output_type": "execute_result"
    }
   ],
   "source": [
    "birth_weight_data = pd.read_csv('datasets/Birthweight_reduced_kg_R.csv')\n",
    "\n",
    "birth_weight_data.head()"
   ]
  },
  {
   "cell_type": "markdown",
   "metadata": {},
   "source": [
    "* Find the shape of the data,data type of individual columns"
   ]
  },
  {
   "cell_type": "code",
   "execution_count": 55,
   "metadata": {},
   "outputs": [
    {
     "data": {
      "text/plain": [
       "(42, 16)"
      ]
     },
     "execution_count": 55,
     "metadata": {},
     "output_type": "execute_result"
    }
   ],
   "source": [
    "birth_weight_data.shape"
   ]
  },
  {
   "cell_type": "code",
   "execution_count": 56,
   "metadata": {},
   "outputs": [
    {
     "name": "stdout",
     "output_type": "stream",
     "text": [
      "<class 'pandas.core.frame.DataFrame'>\n",
      "RangeIndex: 42 entries, 0 to 41\n",
      "Data columns (total 16 columns):\n",
      " #   Column       Non-Null Count  Dtype  \n",
      "---  ------       --------------  -----  \n",
      " 0   ID           42 non-null     int64  \n",
      " 1   Length       42 non-null     int64  \n",
      " 2   Birthweight  42 non-null     float64\n",
      " 3   Headcirc     42 non-null     int64  \n",
      " 4   Gestation    42 non-null     int64  \n",
      " 5   smoker       42 non-null     int64  \n",
      " 6   mage         42 non-null     int64  \n",
      " 7   mnocig       42 non-null     int64  \n",
      " 8   mheight      42 non-null     int64  \n",
      " 9   mppwt        42 non-null     int64  \n",
      " 10  fage         42 non-null     int64  \n",
      " 11  fedyrs       42 non-null     int64  \n",
      " 12  fnocig       42 non-null     int64  \n",
      " 13  fheight      42 non-null     int64  \n",
      " 14  lowbwt       42 non-null     int64  \n",
      " 15  mage35       42 non-null     int64  \n",
      "dtypes: float64(1), int64(15)\n",
      "memory usage: 5.4 KB\n"
     ]
    }
   ],
   "source": [
    "birth_weight_data.info()"
   ]
  },
  {
   "cell_type": "markdown",
   "metadata": {},
   "source": [
    "* Check the presence of missing values"
   ]
  },
  {
   "cell_type": "code",
   "execution_count": 57,
   "metadata": {},
   "outputs": [
    {
     "data": {
      "text/plain": [
       "ID             0\n",
       "Length         0\n",
       "Birthweight    0\n",
       "Headcirc       0\n",
       "Gestation      0\n",
       "smoker         0\n",
       "mage           0\n",
       "mnocig         0\n",
       "mheight        0\n",
       "mppwt          0\n",
       "fage           0\n",
       "fedyrs         0\n",
       "fnocig         0\n",
       "fheight        0\n",
       "lowbwt         0\n",
       "mage35         0\n",
       "dtype: int64"
      ]
     },
     "execution_count": 57,
     "metadata": {},
     "output_type": "execute_result"
    }
   ],
   "source": [
    "birth_weight_data.isnull().sum()"
   ]
  },
  {
   "cell_type": "markdown",
   "metadata": {},
   "source": [
    "* Describe the data"
   ]
  },
  {
   "cell_type": "code",
   "execution_count": 58,
   "metadata": {},
   "outputs": [
    {
     "data": {
      "text/html": [
       "<div>\n",
       "<style scoped>\n",
       "    .dataframe tbody tr th:only-of-type {\n",
       "        vertical-align: middle;\n",
       "    }\n",
       "\n",
       "    .dataframe tbody tr th {\n",
       "        vertical-align: top;\n",
       "    }\n",
       "\n",
       "    .dataframe thead th {\n",
       "        text-align: right;\n",
       "    }\n",
       "</style>\n",
       "<table border=\"1\" class=\"dataframe\">\n",
       "  <thead>\n",
       "    <tr style=\"text-align: right;\">\n",
       "      <th></th>\n",
       "      <th>count</th>\n",
       "      <th>mean</th>\n",
       "      <th>std</th>\n",
       "      <th>min</th>\n",
       "      <th>25%</th>\n",
       "      <th>50%</th>\n",
       "      <th>75%</th>\n",
       "      <th>max</th>\n",
       "    </tr>\n",
       "  </thead>\n",
       "  <tbody>\n",
       "    <tr>\n",
       "      <th>ID</th>\n",
       "      <td>42.0</td>\n",
       "      <td>894.071429</td>\n",
       "      <td>467.616186</td>\n",
       "      <td>27.00</td>\n",
       "      <td>537.25</td>\n",
       "      <td>821.000</td>\n",
       "      <td>1269.5000</td>\n",
       "      <td>1764.00</td>\n",
       "    </tr>\n",
       "    <tr>\n",
       "      <th>Length</th>\n",
       "      <td>42.0</td>\n",
       "      <td>51.333333</td>\n",
       "      <td>2.935624</td>\n",
       "      <td>43.00</td>\n",
       "      <td>50.00</td>\n",
       "      <td>52.000</td>\n",
       "      <td>53.0000</td>\n",
       "      <td>58.00</td>\n",
       "    </tr>\n",
       "    <tr>\n",
       "      <th>Birthweight</th>\n",
       "      <td>42.0</td>\n",
       "      <td>3.312857</td>\n",
       "      <td>0.603895</td>\n",
       "      <td>1.92</td>\n",
       "      <td>2.94</td>\n",
       "      <td>3.295</td>\n",
       "      <td>3.6475</td>\n",
       "      <td>4.57</td>\n",
       "    </tr>\n",
       "    <tr>\n",
       "      <th>Headcirc</th>\n",
       "      <td>42.0</td>\n",
       "      <td>34.595238</td>\n",
       "      <td>2.399792</td>\n",
       "      <td>30.00</td>\n",
       "      <td>33.00</td>\n",
       "      <td>34.000</td>\n",
       "      <td>36.0000</td>\n",
       "      <td>39.00</td>\n",
       "    </tr>\n",
       "    <tr>\n",
       "      <th>Gestation</th>\n",
       "      <td>42.0</td>\n",
       "      <td>39.190476</td>\n",
       "      <td>2.643336</td>\n",
       "      <td>33.00</td>\n",
       "      <td>38.00</td>\n",
       "      <td>39.500</td>\n",
       "      <td>41.0000</td>\n",
       "      <td>45.00</td>\n",
       "    </tr>\n",
       "    <tr>\n",
       "      <th>smoker</th>\n",
       "      <td>42.0</td>\n",
       "      <td>0.523810</td>\n",
       "      <td>0.505487</td>\n",
       "      <td>0.00</td>\n",
       "      <td>0.00</td>\n",
       "      <td>1.000</td>\n",
       "      <td>1.0000</td>\n",
       "      <td>1.00</td>\n",
       "    </tr>\n",
       "    <tr>\n",
       "      <th>mage</th>\n",
       "      <td>42.0</td>\n",
       "      <td>25.547619</td>\n",
       "      <td>5.666342</td>\n",
       "      <td>18.00</td>\n",
       "      <td>20.25</td>\n",
       "      <td>24.000</td>\n",
       "      <td>29.0000</td>\n",
       "      <td>41.00</td>\n",
       "    </tr>\n",
       "    <tr>\n",
       "      <th>mnocig</th>\n",
       "      <td>42.0</td>\n",
       "      <td>9.428571</td>\n",
       "      <td>12.511737</td>\n",
       "      <td>0.00</td>\n",
       "      <td>0.00</td>\n",
       "      <td>4.500</td>\n",
       "      <td>15.7500</td>\n",
       "      <td>50.00</td>\n",
       "    </tr>\n",
       "    <tr>\n",
       "      <th>mheight</th>\n",
       "      <td>42.0</td>\n",
       "      <td>164.452381</td>\n",
       "      <td>6.504041</td>\n",
       "      <td>149.00</td>\n",
       "      <td>161.00</td>\n",
       "      <td>164.500</td>\n",
       "      <td>169.5000</td>\n",
       "      <td>181.00</td>\n",
       "    </tr>\n",
       "    <tr>\n",
       "      <th>mppwt</th>\n",
       "      <td>42.0</td>\n",
       "      <td>57.500000</td>\n",
       "      <td>7.198408</td>\n",
       "      <td>45.00</td>\n",
       "      <td>52.25</td>\n",
       "      <td>57.000</td>\n",
       "      <td>62.0000</td>\n",
       "      <td>78.00</td>\n",
       "    </tr>\n",
       "    <tr>\n",
       "      <th>fage</th>\n",
       "      <td>42.0</td>\n",
       "      <td>28.904762</td>\n",
       "      <td>6.863866</td>\n",
       "      <td>19.00</td>\n",
       "      <td>23.00</td>\n",
       "      <td>29.500</td>\n",
       "      <td>32.0000</td>\n",
       "      <td>46.00</td>\n",
       "    </tr>\n",
       "    <tr>\n",
       "      <th>fedyrs</th>\n",
       "      <td>42.0</td>\n",
       "      <td>13.666667</td>\n",
       "      <td>2.160247</td>\n",
       "      <td>10.00</td>\n",
       "      <td>12.00</td>\n",
       "      <td>14.000</td>\n",
       "      <td>16.0000</td>\n",
       "      <td>16.00</td>\n",
       "    </tr>\n",
       "    <tr>\n",
       "      <th>fnocig</th>\n",
       "      <td>42.0</td>\n",
       "      <td>17.190476</td>\n",
       "      <td>17.308165</td>\n",
       "      <td>0.00</td>\n",
       "      <td>0.00</td>\n",
       "      <td>18.500</td>\n",
       "      <td>25.0000</td>\n",
       "      <td>50.00</td>\n",
       "    </tr>\n",
       "    <tr>\n",
       "      <th>fheight</th>\n",
       "      <td>42.0</td>\n",
       "      <td>180.500000</td>\n",
       "      <td>6.978189</td>\n",
       "      <td>169.00</td>\n",
       "      <td>175.25</td>\n",
       "      <td>180.500</td>\n",
       "      <td>184.7500</td>\n",
       "      <td>200.00</td>\n",
       "    </tr>\n",
       "    <tr>\n",
       "      <th>lowbwt</th>\n",
       "      <td>42.0</td>\n",
       "      <td>0.142857</td>\n",
       "      <td>0.354169</td>\n",
       "      <td>0.00</td>\n",
       "      <td>0.00</td>\n",
       "      <td>0.000</td>\n",
       "      <td>0.0000</td>\n",
       "      <td>1.00</td>\n",
       "    </tr>\n",
       "    <tr>\n",
       "      <th>mage35</th>\n",
       "      <td>42.0</td>\n",
       "      <td>0.095238</td>\n",
       "      <td>0.297102</td>\n",
       "      <td>0.00</td>\n",
       "      <td>0.00</td>\n",
       "      <td>0.000</td>\n",
       "      <td>0.0000</td>\n",
       "      <td>1.00</td>\n",
       "    </tr>\n",
       "  </tbody>\n",
       "</table>\n",
       "</div>"
      ],
      "text/plain": [
       "             count        mean         std     min     25%      50%  \\\n",
       "ID            42.0  894.071429  467.616186   27.00  537.25  821.000   \n",
       "Length        42.0   51.333333    2.935624   43.00   50.00   52.000   \n",
       "Birthweight   42.0    3.312857    0.603895    1.92    2.94    3.295   \n",
       "Headcirc      42.0   34.595238    2.399792   30.00   33.00   34.000   \n",
       "Gestation     42.0   39.190476    2.643336   33.00   38.00   39.500   \n",
       "smoker        42.0    0.523810    0.505487    0.00    0.00    1.000   \n",
       "mage          42.0   25.547619    5.666342   18.00   20.25   24.000   \n",
       "mnocig        42.0    9.428571   12.511737    0.00    0.00    4.500   \n",
       "mheight       42.0  164.452381    6.504041  149.00  161.00  164.500   \n",
       "mppwt         42.0   57.500000    7.198408   45.00   52.25   57.000   \n",
       "fage          42.0   28.904762    6.863866   19.00   23.00   29.500   \n",
       "fedyrs        42.0   13.666667    2.160247   10.00   12.00   14.000   \n",
       "fnocig        42.0   17.190476   17.308165    0.00    0.00   18.500   \n",
       "fheight       42.0  180.500000    6.978189  169.00  175.25  180.500   \n",
       "lowbwt        42.0    0.142857    0.354169    0.00    0.00    0.000   \n",
       "mage35        42.0    0.095238    0.297102    0.00    0.00    0.000   \n",
       "\n",
       "                   75%      max  \n",
       "ID           1269.5000  1764.00  \n",
       "Length         53.0000    58.00  \n",
       "Birthweight     3.6475     4.57  \n",
       "Headcirc       36.0000    39.00  \n",
       "Gestation      41.0000    45.00  \n",
       "smoker          1.0000     1.00  \n",
       "mage           29.0000    41.00  \n",
       "mnocig         15.7500    50.00  \n",
       "mheight       169.5000   181.00  \n",
       "mppwt          62.0000    78.00  \n",
       "fage           32.0000    46.00  \n",
       "fedyrs         16.0000    16.00  \n",
       "fnocig         25.0000    50.00  \n",
       "fheight       184.7500   200.00  \n",
       "lowbwt          0.0000     1.00  \n",
       "mage35          0.0000     1.00  "
      ]
     },
     "execution_count": 58,
     "metadata": {},
     "output_type": "execute_result"
    }
   ],
   "source": [
    "birth_weight_data.describe().T"
   ]
  },
  {
   "cell_type": "code",
   "execution_count": 59,
   "metadata": {},
   "outputs": [
    {
     "data": {
      "text/plain": [
       "1    22\n",
       "0    20\n",
       "Name: smoker, dtype: int64"
      ]
     },
     "execution_count": 59,
     "metadata": {},
     "output_type": "execute_result"
    }
   ],
   "source": [
    "birth_weight_data['smoker'].value_counts()"
   ]
  },
  {
   "cell_type": "code",
   "execution_count": 60,
   "metadata": {},
   "outputs": [
    {
     "data": {
      "text/plain": [
       "<AxesSubplot:xlabel='Birthweight', ylabel='Count'>"
      ]
     },
     "execution_count": 60,
     "metadata": {},
     "output_type": "execute_result"
    },
    {
     "data": {
      "image/png": "[encoded data removed]",
      "text/plain": [
       "<Figure size 864x576 with 1 Axes>"
      ]
     },
     "metadata": {},
     "output_type": "display_data"
    }
   ],
   "source": [
    "plt.figure(figsize = (12, 8))\n",
    "\n",
    "sns.histplot(birth_weight_data['Birthweight'], kde = True)"
   ]
  },
  {
   "cell_type": "code",
   "execution_count": 61,
   "metadata": {},
   "outputs": [
    {
     "data": {
      "image/png": "[encoded data removed]",
      "text/plain": [
       "<Figure size 864x576 with 1 Axes>"
      ]
     },
     "metadata": {},
     "output_type": "display_data"
    }
   ],
   "source": [
    "plt.figure(figsize = (12, 8))\n",
    "\n",
    "stats.probplot(birth_weight_data['Birthweight'], dist = 'norm', plot = plt);"
   ]
  },
  {
   "cell_type": "code",
   "execution_count": 62,
   "metadata": {},
   "outputs": [
    {
     "data": {
      "text/plain": [
       "ShapiroResult(statistic=0.9899008274078369, pvalue=0.9684654474258423)"
      ]
     },
     "execution_count": 62,
     "metadata": {},
     "output_type": "execute_result"
    }
   ],
   "source": [
    "stats.shapiro(birth_weight_data['Birthweight'])"
   ]
  },
  {
   "cell_type": "markdown",
   "metadata": {},
   "source": [
    "* Scatter plot to look for visual evidence of dependency between attributes smoker and charges accross different ages"
   ]
  },
  {
   "cell_type": "markdown",
   "metadata": {},
   "source": [
    "#### Box Plot - Birth weight vs Smoker"
   ]
  },
  {
   "cell_type": "code",
   "execution_count": 63,
   "metadata": {},
   "outputs": [
    {
     "data": {
      "image/png": "[encoded data removed]",
      "text/plain": [
       "<Figure size 864x576 with 1 Axes>"
      ]
     },
     "metadata": {},
     "output_type": "display_data"
    }
   ],
   "source": [
    "plt.figure(figsize=(12, 8))\n",
    "\n",
    "sns.boxplot(data=birth_weight_data, x='smoker', y='Birthweight')\n",
    "\n",
    "plt.show()"
   ]
  },
  {
   "cell_type": "markdown",
   "metadata": {},
   "source": [
    "* Making samples for the smoker categories"
   ]
  },
  {
   "cell_type": "code",
   "execution_count": 64,
   "metadata": {},
   "outputs": [],
   "source": [
    "sample_01 = birth_weight_data[(birth_weight_data['smoker'] == 0)]\n",
    "\n",
    "sample_02 = birth_weight_data[(birth_weight_data['smoker'] == 1)]"
   ]
  },
  {
   "cell_type": "code",
   "execution_count": 65,
   "metadata": {},
   "outputs": [
    {
     "data": {
      "text/plain": [
       "((20, 16), (22, 16))"
      ]
     },
     "execution_count": 65,
     "metadata": {},
     "output_type": "execute_result"
    }
   ],
   "source": [
    "sample_01.shape, sample_02.shape"
   ]
  },
  {
   "cell_type": "markdown",
   "metadata": {},
   "source": [
    "* From above we can see that the number of samples are different. Let's make it same and then we can do the test"
   ]
  },
  {
   "cell_type": "code",
   "execution_count": 66,
   "metadata": {},
   "outputs": [
    {
     "data": {
      "text/plain": [
       "((20, 16), (20, 16))"
      ]
     },
     "execution_count": 66,
     "metadata": {},
     "output_type": "execute_result"
    }
   ],
   "source": [
    "sample_02 = sample_02.sample(20)\n",
    "\n",
    "sample_01.shape, sample_02.shape"
   ]
  },
  {
   "cell_type": "markdown",
   "metadata": {},
   "source": [
    "* Let's assume that following are our hypothesis testing"
   ]
  },
  {
   "cell_type": "markdown",
   "metadata": {},
   "source": [
    "* __Null hypothesis (H0): u1 = u2, which translates to the mean of `sample_01` is equal to the mean of `sample_02`__\n",
    "* __Alternative hypothesis (H1): u1 ? u2, which translates to the means of `sample_01` is not equal to `sample_02`__"
   ]
  },
  {
   "cell_type": "markdown",
   "metadata": {},
   "source": [
    "#### Levene's test for homogeneity of variance\n",
    "\n",
    "* The most common assessment for homogeneity of variance is Levene's test. The Levene's test uses an F-test to test the null hypothesis that the variance is equal across groups. A p value less than .05 indicates a violation of the assumption."
   ]
  },
  {
   "cell_type": "code",
   "execution_count": 67,
   "metadata": {
    "scrolled": true
   },
   "outputs": [
    {
     "data": {
      "text/plain": [
       "LeveneResult(statistic=0.6851326489511107, pvalue=0.4129931327820482)"
      ]
     },
     "execution_count": 67,
     "metadata": {},
     "output_type": "execute_result"
    }
   ],
   "source": [
    "stats.levene(sample_01['Birthweight'], sample_02['Birthweight'])"
   ]
  },
  {
   "cell_type": "markdown",
   "metadata": {},
   "source": [
    "#### Independent t-test by using scipy.stats"
   ]
  },
  {
   "cell_type": "code",
   "execution_count": 68,
   "metadata": {},
   "outputs": [
    {
     "data": {
      "text/plain": [
       "Ttest_indResult(statistic=2.1269397644916808, pvalue=0.03997649825582795)"
      ]
     },
     "execution_count": 68,
     "metadata": {},
     "output_type": "execute_result"
    }
   ],
   "source": [
    "stats.ttest_ind(sample_01['Birthweight'], sample_02['Birthweight'])"
   ]
  },
  {
   "cell_type": "code",
   "execution_count": null,
   "metadata": {},
   "outputs": [],
   "source": []
  },
  {
   "cell_type": "markdown",
   "metadata": {},
   "source": [
    "### Head circumference vs. Smoker"
   ]
  },
  {
   "cell_type": "code",
   "execution_count": 69,
   "metadata": {},
   "outputs": [
    {
     "data": {
      "text/plain": [
       "<AxesSubplot:xlabel='Headcirc', ylabel='Count'>"
      ]
     },
     "execution_count": 69,
     "metadata": {},
     "output_type": "execute_result"
    },
    {
     "data": {
      "image/png": "[encoded data removed]",
      "text/plain": [
       "<Figure size 864x576 with 1 Axes>"
      ]
     },
     "metadata": {},
     "output_type": "display_data"
    }
   ],
   "source": [
    "plt.figure(figsize = (12, 8))\n",
    "\n",
    "sns.histplot(birth_weight_data['Headcirc'], kde = True)"
   ]
  },
  {
   "cell_type": "code",
   "execution_count": 70,
   "metadata": {},
   "outputs": [
    {
     "data": {
      "image/png": "[encoded data removed]",
      "text/plain": [
       "<Figure size 864x576 with 1 Axes>"
      ]
     },
     "metadata": {},
     "output_type": "display_data"
    }
   ],
   "source": [
    "plt.figure(figsize = (12, 8))\n",
    "\n",
    "stats.probplot(birth_weight_data['Headcirc'], dist = 'norm', plot = plt);"
   ]
  },
  {
   "cell_type": "code",
   "execution_count": 71,
   "metadata": {},
   "outputs": [
    {
     "data": {
      "text/plain": [
       "ShapiroResult(statistic=0.9504274129867554, pvalue=0.06690217554569244)"
      ]
     },
     "execution_count": 71,
     "metadata": {},
     "output_type": "execute_result"
    }
   ],
   "source": [
    "stats.shapiro(birth_weight_data['Headcirc'])"
   ]
  },
  {
   "cell_type": "code",
   "execution_count": 72,
   "metadata": {},
   "outputs": [
    {
     "data": {
      "text/plain": [
       "<AxesSubplot:xlabel='smoker', ylabel='Headcirc'>"
      ]
     },
     "execution_count": 72,
     "metadata": {},
     "output_type": "execute_result"
    },
    {
     "data": {
      "image/png": "[encoded data removed]",
      "text/plain": [
       "<Figure size 864x576 with 1 Axes>"
      ]
     },
     "metadata": {},
     "output_type": "display_data"
    }
   ],
   "source": [
    "plt.figure(figsize=(12, 8))\n",
    "\n",
    "sns.boxplot(y=birth_weight_data['Headcirc'], x=birth_weight_data['smoker'])"
   ]
  },
  {
   "cell_type": "code",
   "execution_count": 73,
   "metadata": {},
   "outputs": [
    {
     "data": {
      "text/plain": [
       "LeveneResult(statistic=0.7765006385696037, pvalue=0.3837532721628545)"
      ]
     },
     "execution_count": 73,
     "metadata": {},
     "output_type": "execute_result"
    }
   ],
   "source": [
    "stats.levene(sample_01['Headcirc'], sample_02['Headcirc'])"
   ]
  },
  {
   "cell_type": "code",
   "execution_count": 74,
   "metadata": {},
   "outputs": [
    {
     "data": {
      "text/plain": [
       "Ttest_indResult(statistic=1.314556278094053, pvalue=0.19653829291181862)"
      ]
     },
     "execution_count": 74,
     "metadata": {},
     "output_type": "execute_result"
    }
   ],
   "source": [
    "stats.ttest_ind(sample_01['Headcirc'], sample_02['Headcirc'])"
   ]
  },
  {
   "cell_type": "code",
   "execution_count": null,
   "metadata": {},
   "outputs": [],
   "source": []
  }
 ],
 "metadata": {
  "kernelspec": {
   "display_name": "Python 3",
   "language": "python",
   "name": "python3"
  },
  "language_info": {
   "codemirror_mode": {
    "name": "ipython",
    "version": 3
   },
   "file_extension": ".py",
   "mimetype": "text/x-python",
   "name": "python",
   "nbconvert_exporter": "python",
   "pygments_lexer": "ipython3",
   "version": "3.8.5"
  }
 },
 "nbformat": 4,
 "nbformat_minor": 5
}
