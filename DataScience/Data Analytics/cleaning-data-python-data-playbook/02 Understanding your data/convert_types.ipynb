{
    "cells": [
     {
      "cell_type": "code",
      "execution_count": 2,
      "metadata": {},
      "outputs": [],
      "source": [
       "import pandas as pd"
      ]
     },
     {
      "cell_type": "code",
      "execution_count": 3,
      "metadata": {},
      "outputs": [],
      "source": [
       "data = pd.read_csv(\"artwork_sample.csv\")"
      ]
     },
     {
      "cell_type": "code",
      "execution_count": 4,
      "metadata": {},
      "outputs": [
       {
        "data": {
         "text/html": [
          "<div>\n",
          "<style scoped>\n",
          "    .dataframe tbody tr th:only-of-type {\n",
          "        vertical-align: middle;\n",
          "    }\n",
          "\n",
          "    .dataframe tbody tr th {\n",
          "        vertical-align: top;\n",
          "    }\n",
          "\n",
          "    .dataframe thead th {\n",
          "        text-align: right;\n",
          "    }\n",
          "</style>\n",
          "<table border=\"1\" class=\"dataframe\">\n",
          "  <thead>\n",
          "    <tr style=\"text-align: right;\">\n",
          "      <th></th>\n",
          "      <th>id</th>\n",
          "      <th>accession_number</th>\n",
          "      <th>artist</th>\n",
          "      <th>artistRole</th>\n",
          "      <th>artistId</th>\n",
          "      <th>title</th>\n",
          "      <th>dateText</th>\n",
          "      <th>medium</th>\n",
          "      <th>creditLine</th>\n",
          "      <th>year</th>\n",
          "      <th>acquisitionYear</th>\n",
          "      <th>dimensions</th>\n",
          "      <th>width</th>\n",
          "      <th>height</th>\n",
          "      <th>depth</th>\n",
          "      <th>units</th>\n",
          "      <th>inscription</th>\n",
          "      <th>thumbnailCopyright</th>\n",
          "      <th>thumbnailUrl</th>\n",
          "      <th>url</th>\n",
          "    </tr>\n",
          "  </thead>\n",
          "  <tbody>\n",
          "    <tr>\n",
          "      <th>0</th>\n",
          "      <td>1035</td>\n",
          "      <td>A00001</td>\n",
          "      <td>Blake, Robert</td>\n",
          "      <td>artist</td>\n",
          "      <td>38</td>\n",
          "      <td>A Figure Bowing before a Seated Old Man with h...</td>\n",
          "      <td>date not known</td>\n",
          "      <td>Watercolour, ink, chalk and graphite on paper....</td>\n",
          "      <td>Presented by Mrs John Richmond 1922</td>\n",
          "      <td>NaN</td>\n",
          "      <td>1922</td>\n",
          "      <td>support: 394 x 419 mm</td>\n",
          "      <td>394</td>\n",
          "      <td>419</td>\n",
          "      <td>NaN</td>\n",
          "      <td>mm</td>\n",
          "      <td>NaN</td>\n",
          "      <td>NaN</td>\n",
          "      <td>http://www.tate.org.uk/art/images/work/A/A00/A...</td>\n",
          "      <td>http://www.tate.org.uk/art/artworks/blake-a-fi...</td>\n",
          "    </tr>\n",
          "    <tr>\n",
          "      <th>1</th>\n",
          "      <td>1036</td>\n",
          "      <td>A00002</td>\n",
          "      <td>Blake, Robert</td>\n",
          "      <td>artist</td>\n",
          "      <td>38</td>\n",
          "      <td>Two Drawings of Frightened Figures, Probably f...</td>\n",
          "      <td>date not known</td>\n",
          "      <td>Graphite on paper</td>\n",
          "      <td>Presented by Mrs John Richmond 1922</td>\n",
          "      <td>NaN</td>\n",
          "      <td>1922</td>\n",
          "      <td>support: 311 x 213 mm</td>\n",
          "      <td>311</td>\n",
          "      <td>213</td>\n",
          "      <td>NaN</td>\n",
          "      <td>mm</td>\n",
          "      <td>NaN</td>\n",
          "      <td>NaN</td>\n",
          "      <td>http://www.tate.org.uk/art/images/work/A/A00/A...</td>\n",
          "      <td>http://www.tate.org.uk/art/artworks/blake-two-...</td>\n",
          "    </tr>\n",
          "    <tr>\n",
          "      <th>2</th>\n",
          "      <td>1037</td>\n",
          "      <td>A00003</td>\n",
          "      <td>Blake, Robert</td>\n",
          "      <td>artist</td>\n",
          "      <td>38</td>\n",
          "      <td>The Preaching of Warning. Verso: An Old Man En...</td>\n",
          "      <td>?c.1785</td>\n",
          "      <td>Graphite on paper. Verso: graphite on paper</td>\n",
          "      <td>Presented by Mrs John Richmond 1922</td>\n",
          "      <td>1785.0</td>\n",
          "      <td>1922</td>\n",
          "      <td>support: 343 x 467 mm</td>\n",
          "      <td>343</td>\n",
          "      <td>467</td>\n",
          "      <td>NaN</td>\n",
          "      <td>mm</td>\n",
          "      <td>NaN</td>\n",
          "      <td>NaN</td>\n",
          "      <td>http://www.tate.org.uk/art/images/work/A/A00/A...</td>\n",
          "      <td>http://www.tate.org.uk/art/artworks/blake-the-...</td>\n",
          "    </tr>\n",
          "    <tr>\n",
          "      <th>3</th>\n",
          "      <td>1038</td>\n",
          "      <td>A00004</td>\n",
          "      <td>Blake, Robert</td>\n",
          "      <td>artist</td>\n",
          "      <td>38</td>\n",
          "      <td>Six Drawings of Figures with Outstretched Arms</td>\n",
          "      <td>date not known</td>\n",
          "      <td>Graphite on paper</td>\n",
          "      <td>Presented by Mrs John Richmond 1922</td>\n",
          "      <td>NaN</td>\n",
          "      <td>1922</td>\n",
          "      <td>support: 318 x 394 mm</td>\n",
          "      <td>318</td>\n",
          "      <td>394</td>\n",
          "      <td>NaN</td>\n",
          "      <td>mm</td>\n",
          "      <td>NaN</td>\n",
          "      <td>NaN</td>\n",
          "      <td>http://www.tate.org.uk/art/images/work/A/A00/A...</td>\n",
          "      <td>http://www.tate.org.uk/art/artworks/blake-six-...</td>\n",
          "    </tr>\n",
          "    <tr>\n",
          "      <th>4</th>\n",
          "      <td>1039</td>\n",
          "      <td>A00005</td>\n",
          "      <td>Blake, William</td>\n",
          "      <td>artist</td>\n",
          "      <td>39</td>\n",
          "      <td>The Circle of the Lustful: Francesca da Rimini...</td>\n",
          "      <td>1826–7, reprinted 1892</td>\n",
          "      <td>Line engraving on paper</td>\n",
          "      <td>Purchased with the assistance of a special gra...</td>\n",
          "      <td>1826.0</td>\n",
          "      <td>1919</td>\n",
          "      <td>image: 243 x 335 mm</td>\n",
          "      <td>243</td>\n",
          "      <td>335</td>\n",
          "      <td>NaN</td>\n",
          "      <td>mm</td>\n",
          "      <td>NaN</td>\n",
          "      <td>NaN</td>\n",
          "      <td>http://www.tate.org.uk/art/images/work/A/A00/A...</td>\n",
          "      <td>http://www.tate.org.uk/art/artworks/blake-the-...</td>\n",
          "    </tr>\n",
          "  </tbody>\n",
          "</table>\n",
          "</div>"
         ],
         "text/plain": [
          "     id accession_number          artist artistRole  artistId  \\\n",
          "0  1035           A00001   Blake, Robert     artist        38   \n",
          "1  1036           A00002   Blake, Robert     artist        38   \n",
          "2  1037           A00003   Blake, Robert     artist        38   \n",
          "3  1038           A00004   Blake, Robert     artist        38   \n",
          "4  1039           A00005  Blake, William     artist        39   \n",
          "\n",
          "                                               title                dateText  \\\n",
          "0  A Figure Bowing before a Seated Old Man with h...          date not known   \n",
          "1  Two Drawings of Frightened Figures, Probably f...          date not known   \n",
          "2  The Preaching of Warning. Verso: An Old Man En...                 ?c.1785   \n",
          "3     Six Drawings of Figures with Outstretched Arms          date not known   \n",
          "4  The Circle of the Lustful: Francesca da Rimini...  1826–7, reprinted 1892   \n",
          "\n",
          "                                              medium  \\\n",
          "0  Watercolour, ink, chalk and graphite on paper....   \n",
          "1                                  Graphite on paper   \n",
          "2        Graphite on paper. Verso: graphite on paper   \n",
          "3                                  Graphite on paper   \n",
          "4                            Line engraving on paper   \n",
          "\n",
          "                                          creditLine    year  acquisitionYear  \\\n",
          "0                Presented by Mrs John Richmond 1922     NaN             1922   \n",
          "1                Presented by Mrs John Richmond 1922     NaN             1922   \n",
          "2                Presented by Mrs John Richmond 1922  1785.0             1922   \n",
          "3                Presented by Mrs John Richmond 1922     NaN             1922   \n",
          "4  Purchased with the assistance of a special gra...  1826.0             1919   \n",
          "\n",
          "              dimensions  width  height  depth units  inscription  \\\n",
          "0  support: 394 x 419 mm    394     419    NaN    mm          NaN   \n",
          "1  support: 311 x 213 mm    311     213    NaN    mm          NaN   \n",
          "2  support: 343 x 467 mm    343     467    NaN    mm          NaN   \n",
          "3  support: 318 x 394 mm    318     394    NaN    mm          NaN   \n",
          "4    image: 243 x 335 mm    243     335    NaN    mm          NaN   \n",
          "\n",
          "   thumbnailCopyright                                       thumbnailUrl  \\\n",
          "0                 NaN  http://www.tate.org.uk/art/images/work/A/A00/A...   \n",
          "1                 NaN  http://www.tate.org.uk/art/images/work/A/A00/A...   \n",
          "2                 NaN  http://www.tate.org.uk/art/images/work/A/A00/A...   \n",
          "3                 NaN  http://www.tate.org.uk/art/images/work/A/A00/A...   \n",
          "4                 NaN  http://www.tate.org.uk/art/images/work/A/A00/A...   \n",
          "\n",
          "                                                 url  \n",
          "0  http://www.tate.org.uk/art/artworks/blake-a-fi...  \n",
          "1  http://www.tate.org.uk/art/artworks/blake-two-...  \n",
          "2  http://www.tate.org.uk/art/artworks/blake-the-...  \n",
          "3  http://www.tate.org.uk/art/artworks/blake-six-...  \n",
          "4  http://www.tate.org.uk/art/artworks/blake-the-...  "
         ]
        },
        "execution_count": 4,
        "metadata": {},
        "output_type": "execute_result"
       }
      ],
      "source": [
       "data.head()"
      ]
     },
     {
      "cell_type": "code",
      "execution_count": 5,
      "metadata": {},
      "outputs": [
       {
        "data": {
         "text/plain": [
          "id                      int64\n",
          "accession_number       object\n",
          "artist                 object\n",
          "artistRole             object\n",
          "artistId                int64\n",
          "title                  object\n",
          "dateText               object\n",
          "medium                 object\n",
          "creditLine             object\n",
          "year                  float64\n",
          "acquisitionYear         int64\n",
          "dimensions             object\n",
          "width                   int64\n",
          "height                  int64\n",
          "depth                 float64\n",
          "units                  object\n",
          "inscription           float64\n",
          "thumbnailCopyright    float64\n",
          "thumbnailUrl           object\n",
          "url                    object\n",
          "dtype: object"
         ]
        },
        "execution_count": 5,
        "metadata": {},
        "output_type": "execute_result"
       }
      ],
      "source": [
       "data.dtypes"
      ]
     },
     {
      "cell_type": "code",
      "execution_count": 6,
      "metadata": {},
      "outputs": [
       {
        "data": {
         "text/plain": [
          "0    1922\n",
          "1    1922\n",
          "2    1922\n",
          "3    1922\n",
          "4    1919\n",
          "5    1919\n",
          "6    1919\n",
          "7    1919\n",
          "8    1919\n",
          "9    1919\n",
          "Name: acquisitionYear, dtype: int64"
         ]
        },
        "execution_count": 6,
        "metadata": {},
        "output_type": "execute_result"
       }
      ],
      "source": [
       "data.acquisitionYear"
      ]
     },
     {
      "cell_type": "code",
      "execution_count": 7,
      "metadata": {},
      "outputs": [
       {
        "data": {
         "text/plain": [
          "0    1922.0\n",
          "1    1922.0\n",
          "2    1922.0\n",
          "3    1922.0\n",
          "4    1919.0\n",
          "5    1919.0\n",
          "6    1919.0\n",
          "7    1919.0\n",
          "8    1919.0\n",
          "9    1919.0\n",
          "Name: acquisitionYear, dtype: float64"
         ]
        },
        "execution_count": 7,
        "metadata": {},
        "output_type": "execute_result"
       }
      ],
      "source": [
       "data.acquisitionYear.astype(float)"
      ]
     },
     {
      "cell_type": "code",
      "execution_count": 8,
      "metadata": {},
      "outputs": [
       {
        "data": {
         "text/plain": [
          "0    1922\n",
          "1    1922\n",
          "2    1922\n",
          "3    1922\n",
          "4    1919\n",
          "5    1919\n",
          "6    1919\n",
          "7    1919\n",
          "8    1919\n",
          "9    1919\n",
          "Name: acquisitionYear, dtype: int64"
         ]
        },
        "execution_count": 8,
        "metadata": {},
        "output_type": "execute_result"
       }
      ],
      "source": [
       "data.acquisitionYear"
      ]
     },
     {
      "cell_type": "code",
      "execution_count": 9,
      "metadata": {},
      "outputs": [],
      "source": [
       "data.acquisitionYear = data.acquisitionYear.astype(float)"
      ]
     },
     {
      "cell_type": "code",
      "execution_count": 10,
      "metadata": {},
      "outputs": [
       {
        "data": {
         "text/plain": [
          "dtype('float64')"
         ]
        },
        "execution_count": 10,
        "metadata": {},
        "output_type": "execute_result"
       }
      ],
      "source": [
       "data.acquisitionYear.dtype"
      ]
     },
     {
      "cell_type": "code",
      "execution_count": 12,
      "metadata": {},
      "outputs": [],
      "source": [
       "fulldf = pd.read_csv(\"artwork_data.csv\", low_memory=False)"
      ]
     },
     {
      "cell_type": "code",
      "execution_count": 13,
      "metadata": {},
      "outputs": [
       {
        "data": {
         "text/html": [
          "<div>\n",
          "<style scoped>\n",
          "    .dataframe tbody tr th:only-of-type {\n",
          "        vertical-align: middle;\n",
          "    }\n",
          "\n",
          "    .dataframe tbody tr th {\n",
          "        vertical-align: top;\n",
          "    }\n",
          "\n",
          "    .dataframe thead th {\n",
          "        text-align: right;\n",
          "    }\n",
          "</style>\n",
          "<table border=\"1\" class=\"dataframe\">\n",
          "  <thead>\n",
          "    <tr style=\"text-align: right;\">\n",
          "      <th></th>\n",
          "      <th>id</th>\n",
          "      <th>accession_number</th>\n",
          "      <th>artist</th>\n",
          "      <th>artistRole</th>\n",
          "      <th>artistId</th>\n",
          "      <th>title</th>\n",
          "      <th>dateText</th>\n",
          "      <th>medium</th>\n",
          "      <th>creditLine</th>\n",
          "      <th>year</th>\n",
          "      <th>acquisitionYear</th>\n",
          "      <th>dimensions</th>\n",
          "      <th>width</th>\n",
          "      <th>height</th>\n",
          "      <th>depth</th>\n",
          "      <th>units</th>\n",
          "      <th>inscription</th>\n",
          "      <th>thumbnailCopyright</th>\n",
          "      <th>thumbnailUrl</th>\n",
          "      <th>url</th>\n",
          "    </tr>\n",
          "  </thead>\n",
          "  <tbody>\n",
          "    <tr>\n",
          "      <th>0</th>\n",
          "      <td>1035</td>\n",
          "      <td>A00001</td>\n",
          "      <td>Blake, Robert</td>\n",
          "      <td>artist</td>\n",
          "      <td>38</td>\n",
          "      <td>A Figure Bowing before a Seated Old Man with h...</td>\n",
          "      <td>date not known</td>\n",
          "      <td>Watercolour, ink, chalk and graphite on paper....</td>\n",
          "      <td>Presented by Mrs John Richmond 1922</td>\n",
          "      <td>NaN</td>\n",
          "      <td>1922.0</td>\n",
          "      <td>support: 394 x 419 mm</td>\n",
          "      <td>394</td>\n",
          "      <td>419</td>\n",
          "      <td>NaN</td>\n",
          "      <td>mm</td>\n",
          "      <td>NaN</td>\n",
          "      <td>NaN</td>\n",
          "      <td>http://www.tate.org.uk/art/images/work/A/A00/A...</td>\n",
          "      <td>http://www.tate.org.uk/art/artworks/blake-a-fi...</td>\n",
          "    </tr>\n",
          "    <tr>\n",
          "      <th>1</th>\n",
          "      <td>1036</td>\n",
          "      <td>A00002</td>\n",
          "      <td>Blake, Robert</td>\n",
          "      <td>artist</td>\n",
          "      <td>38</td>\n",
          "      <td>Two Drawings of Frightened Figures, Probably f...</td>\n",
          "      <td>date not known</td>\n",
          "      <td>Graphite on paper</td>\n",
          "      <td>Presented by Mrs John Richmond 1922</td>\n",
          "      <td>NaN</td>\n",
          "      <td>1922.0</td>\n",
          "      <td>support: 311 x 213 mm</td>\n",
          "      <td>311</td>\n",
          "      <td>213</td>\n",
          "      <td>NaN</td>\n",
          "      <td>mm</td>\n",
          "      <td>NaN</td>\n",
          "      <td>NaN</td>\n",
          "      <td>http://www.tate.org.uk/art/images/work/A/A00/A...</td>\n",
          "      <td>http://www.tate.org.uk/art/artworks/blake-two-...</td>\n",
          "    </tr>\n",
          "    <tr>\n",
          "      <th>2</th>\n",
          "      <td>1037</td>\n",
          "      <td>A00003</td>\n",
          "      <td>Blake, Robert</td>\n",
          "      <td>artist</td>\n",
          "      <td>38</td>\n",
          "      <td>The Preaching of Warning. Verso: An Old Man En...</td>\n",
          "      <td>?c.1785</td>\n",
          "      <td>Graphite on paper. Verso: graphite on paper</td>\n",
          "      <td>Presented by Mrs John Richmond 1922</td>\n",
          "      <td>1785</td>\n",
          "      <td>1922.0</td>\n",
          "      <td>support: 343 x 467 mm</td>\n",
          "      <td>343</td>\n",
          "      <td>467</td>\n",
          "      <td>NaN</td>\n",
          "      <td>mm</td>\n",
          "      <td>NaN</td>\n",
          "      <td>NaN</td>\n",
          "      <td>http://www.tate.org.uk/art/images/work/A/A00/A...</td>\n",
          "      <td>http://www.tate.org.uk/art/artworks/blake-the-...</td>\n",
          "    </tr>\n",
          "    <tr>\n",
          "      <th>3</th>\n",
          "      <td>1038</td>\n",
          "      <td>A00004</td>\n",
          "      <td>Blake, Robert</td>\n",
          "      <td>artist</td>\n",
          "      <td>38</td>\n",
          "      <td>Six Drawings of Figures with Outstretched Arms</td>\n",
          "      <td>date not known</td>\n",
          "      <td>Graphite on paper</td>\n",
          "      <td>Presented by Mrs John Richmond 1922</td>\n",
          "      <td>NaN</td>\n",
          "      <td>1922.0</td>\n",
          "      <td>support: 318 x 394 mm</td>\n",
          "      <td>318</td>\n",
          "      <td>394</td>\n",
          "      <td>NaN</td>\n",
          "      <td>mm</td>\n",
          "      <td>NaN</td>\n",
          "      <td>NaN</td>\n",
          "      <td>http://www.tate.org.uk/art/images/work/A/A00/A...</td>\n",
          "      <td>http://www.tate.org.uk/art/artworks/blake-six-...</td>\n",
          "    </tr>\n",
          "    <tr>\n",
          "      <th>4</th>\n",
          "      <td>1039</td>\n",
          "      <td>A00005</td>\n",
          "      <td>Blake, William</td>\n",
          "      <td>artist</td>\n",
          "      <td>39</td>\n",
          "      <td>The Circle of the Lustful: Francesca da Rimini...</td>\n",
          "      <td>1826–7, reprinted 1892</td>\n",
          "      <td>Line engraving on paper</td>\n",
          "      <td>Purchased with the assistance of a special gra...</td>\n",
          "      <td>1826</td>\n",
          "      <td>1919.0</td>\n",
          "      <td>image: 243 x 335 mm</td>\n",
          "      <td>243</td>\n",
          "      <td>335</td>\n",
          "      <td>NaN</td>\n",
          "      <td>mm</td>\n",
          "      <td>NaN</td>\n",
          "      <td>NaN</td>\n",
          "      <td>http://www.tate.org.uk/art/images/work/A/A00/A...</td>\n",
          "      <td>http://www.tate.org.uk/art/artworks/blake-the-...</td>\n",
          "    </tr>\n",
          "  </tbody>\n",
          "</table>\n",
          "</div>"
         ],
         "text/plain": [
          "     id accession_number          artist artistRole  artistId  \\\n",
          "0  1035           A00001   Blake, Robert     artist        38   \n",
          "1  1036           A00002   Blake, Robert     artist        38   \n",
          "2  1037           A00003   Blake, Robert     artist        38   \n",
          "3  1038           A00004   Blake, Robert     artist        38   \n",
          "4  1039           A00005  Blake, William     artist        39   \n",
          "\n",
          "                                               title                dateText  \\\n",
          "0  A Figure Bowing before a Seated Old Man with h...          date not known   \n",
          "1  Two Drawings of Frightened Figures, Probably f...          date not known   \n",
          "2  The Preaching of Warning. Verso: An Old Man En...                 ?c.1785   \n",
          "3     Six Drawings of Figures with Outstretched Arms          date not known   \n",
          "4  The Circle of the Lustful: Francesca da Rimini...  1826–7, reprinted 1892   \n",
          "\n",
          "                                              medium  \\\n",
          "0  Watercolour, ink, chalk and graphite on paper....   \n",
          "1                                  Graphite on paper   \n",
          "2        Graphite on paper. Verso: graphite on paper   \n",
          "3                                  Graphite on paper   \n",
          "4                            Line engraving on paper   \n",
          "\n",
          "                                          creditLine  year  acquisitionYear  \\\n",
          "0                Presented by Mrs John Richmond 1922   NaN           1922.0   \n",
          "1                Presented by Mrs John Richmond 1922   NaN           1922.0   \n",
          "2                Presented by Mrs John Richmond 1922  1785           1922.0   \n",
          "3                Presented by Mrs John Richmond 1922   NaN           1922.0   \n",
          "4  Purchased with the assistance of a special gra...  1826           1919.0   \n",
          "\n",
          "              dimensions width height  depth units inscription  \\\n",
          "0  support: 394 x 419 mm   394    419    NaN    mm         NaN   \n",
          "1  support: 311 x 213 mm   311    213    NaN    mm         NaN   \n",
          "2  support: 343 x 467 mm   343    467    NaN    mm         NaN   \n",
          "3  support: 318 x 394 mm   318    394    NaN    mm         NaN   \n",
          "4    image: 243 x 335 mm   243    335    NaN    mm         NaN   \n",
          "\n",
          "  thumbnailCopyright                                       thumbnailUrl  \\\n",
          "0                NaN  http://www.tate.org.uk/art/images/work/A/A00/A...   \n",
          "1                NaN  http://www.tate.org.uk/art/images/work/A/A00/A...   \n",
          "2                NaN  http://www.tate.org.uk/art/images/work/A/A00/A...   \n",
          "3                NaN  http://www.tate.org.uk/art/images/work/A/A00/A...   \n",
          "4                NaN  http://www.tate.org.uk/art/images/work/A/A00/A...   \n",
          "\n",
          "                                                 url  \n",
          "0  http://www.tate.org.uk/art/artworks/blake-a-fi...  \n",
          "1  http://www.tate.org.uk/art/artworks/blake-two-...  \n",
          "2  http://www.tate.org.uk/art/artworks/blake-the-...  \n",
          "3  http://www.tate.org.uk/art/artworks/blake-six-...  \n",
          "4  http://www.tate.org.uk/art/artworks/blake-the-...  "
         ]
        },
        "execution_count": 13,
        "metadata": {},
        "output_type": "execute_result"
       }
      ],
      "source": [
       "fulldf.head()"
      ]
     },
     {
      "cell_type": "code",
      "execution_count": 14,
      "metadata": {},
      "outputs": [
       {
        "data": {
         "text/plain": [
          "id                      int64\n",
          "accession_number       object\n",
          "artist                 object\n",
          "artistRole             object\n",
          "artistId                int64\n",
          "title                  object\n",
          "dateText               object\n",
          "medium                 object\n",
          "creditLine             object\n",
          "year                   object\n",
          "acquisitionYear       float64\n",
          "dimensions             object\n",
          "width                  object\n",
          "height                 object\n",
          "depth                 float64\n",
          "units                  object\n",
          "inscription            object\n",
          "thumbnailCopyright     object\n",
          "thumbnailUrl           object\n",
          "url                    object\n",
          "dtype: object"
         ]
        },
        "execution_count": 14,
        "metadata": {},
        "output_type": "execute_result"
       }
      ],
      "source": [
       "fulldf.dtypes"
      ]
     },
     {
      "cell_type": "code",
      "execution_count": 15,
      "metadata": {},
      "outputs": [
       {
        "ename": "ValueError",
        "evalue": "could not convert string to float: 'mm'",
        "output_type": "error",
        "traceback": [
         "\u001b[1;31m---------------------------------------------------------------------------\u001b[0m",
         "\u001b[1;31mValueError\u001b[0m                                Traceback (most recent call last)",
         "Cell \u001b[1;32mIn[15], line 1\u001b[0m\n\u001b[1;32m----> 1\u001b[0m \u001b[43mfulldf\u001b[49m\u001b[38;5;241;43m.\u001b[39;49m\u001b[43mheight\u001b[49m\u001b[38;5;241;43m.\u001b[39;49m\u001b[43mastype\u001b[49m\u001b[43m(\u001b[49m\u001b[38;5;28;43mfloat\u001b[39;49m\u001b[43m)\u001b[49m\n",
         "File \u001b[1;32mc:\\Users\\10678745\\AppData\\Local\\Programs\\Python\\Python311\\Lib\\site-packages\\pandas\\core\\generic.py:6534\u001b[0m, in \u001b[0;36mNDFrame.astype\u001b[1;34m(self, dtype, copy, errors)\u001b[0m\n\u001b[0;32m   6530\u001b[0m     results \u001b[38;5;241m=\u001b[39m [ser\u001b[38;5;241m.\u001b[39mastype(dtype, copy\u001b[38;5;241m=\u001b[39mcopy) \u001b[38;5;28;01mfor\u001b[39;00m _, ser \u001b[38;5;129;01min\u001b[39;00m \u001b[38;5;28mself\u001b[39m\u001b[38;5;241m.\u001b[39mitems()]\n\u001b[0;32m   6532\u001b[0m \u001b[38;5;28;01melse\u001b[39;00m:\n\u001b[0;32m   6533\u001b[0m     \u001b[38;5;66;03m# else, only a single dtype is given\u001b[39;00m\n\u001b[1;32m-> 6534\u001b[0m     new_data \u001b[38;5;241m=\u001b[39m \u001b[38;5;28;43mself\u001b[39;49m\u001b[38;5;241;43m.\u001b[39;49m\u001b[43m_mgr\u001b[49m\u001b[38;5;241;43m.\u001b[39;49m\u001b[43mastype\u001b[49m\u001b[43m(\u001b[49m\u001b[43mdtype\u001b[49m\u001b[38;5;241;43m=\u001b[39;49m\u001b[43mdtype\u001b[49m\u001b[43m,\u001b[49m\u001b[43m \u001b[49m\u001b[43mcopy\u001b[49m\u001b[38;5;241;43m=\u001b[39;49m\u001b[43mcopy\u001b[49m\u001b[43m,\u001b[49m\u001b[43m \u001b[49m\u001b[43merrors\u001b[49m\u001b[38;5;241;43m=\u001b[39;49m\u001b[43merrors\u001b[49m\u001b[43m)\u001b[49m\n\u001b[0;32m   6535\u001b[0m     res \u001b[38;5;241m=\u001b[39m \u001b[38;5;28mself\u001b[39m\u001b[38;5;241m.\u001b[39m_constructor_from_mgr(new_data, axes\u001b[38;5;241m=\u001b[39mnew_data\u001b[38;5;241m.\u001b[39maxes)\n\u001b[0;32m   6536\u001b[0m     \u001b[38;5;28;01mreturn\u001b[39;00m res\u001b[38;5;241m.\u001b[39m__finalize__(\u001b[38;5;28mself\u001b[39m, method\u001b[38;5;241m=\u001b[39m\u001b[38;5;124m\"\u001b[39m\u001b[38;5;124mastype\u001b[39m\u001b[38;5;124m\"\u001b[39m)\n",
         "File \u001b[1;32mc:\\Users\\10678745\\AppData\\Local\\Programs\\Python\\Python311\\Lib\\site-packages\\pandas\\core\\internals\\managers.py:414\u001b[0m, in \u001b[0;36mBaseBlockManager.astype\u001b[1;34m(self, dtype, copy, errors)\u001b[0m\n\u001b[0;32m    411\u001b[0m \u001b[38;5;28;01melif\u001b[39;00m using_copy_on_write():\n\u001b[0;32m    412\u001b[0m     copy \u001b[38;5;241m=\u001b[39m \u001b[38;5;28;01mFalse\u001b[39;00m\n\u001b[1;32m--> 414\u001b[0m \u001b[38;5;28;01mreturn\u001b[39;00m \u001b[38;5;28;43mself\u001b[39;49m\u001b[38;5;241;43m.\u001b[39;49m\u001b[43mapply\u001b[49m\u001b[43m(\u001b[49m\n\u001b[0;32m    415\u001b[0m \u001b[43m    \u001b[49m\u001b[38;5;124;43m\"\u001b[39;49m\u001b[38;5;124;43mastype\u001b[39;49m\u001b[38;5;124;43m\"\u001b[39;49m\u001b[43m,\u001b[49m\n\u001b[0;32m    416\u001b[0m \u001b[43m    \u001b[49m\u001b[43mdtype\u001b[49m\u001b[38;5;241;43m=\u001b[39;49m\u001b[43mdtype\u001b[49m\u001b[43m,\u001b[49m\n\u001b[0;32m    417\u001b[0m \u001b[43m    \u001b[49m\u001b[43mcopy\u001b[49m\u001b[38;5;241;43m=\u001b[39;49m\u001b[43mcopy\u001b[49m\u001b[43m,\u001b[49m\n\u001b[0;32m    418\u001b[0m \u001b[43m    \u001b[49m\u001b[43merrors\u001b[49m\u001b[38;5;241;43m=\u001b[39;49m\u001b[43merrors\u001b[49m\u001b[43m,\u001b[49m\n\u001b[0;32m    419\u001b[0m \u001b[43m    \u001b[49m\u001b[43musing_cow\u001b[49m\u001b[38;5;241;43m=\u001b[39;49m\u001b[43musing_copy_on_write\u001b[49m\u001b[43m(\u001b[49m\u001b[43m)\u001b[49m\u001b[43m,\u001b[49m\n\u001b[0;32m    420\u001b[0m \u001b[43m\u001b[49m\u001b[43m)\u001b[49m\n",
         "File \u001b[1;32mc:\\Users\\10678745\\AppData\\Local\\Programs\\Python\\Python311\\Lib\\site-packages\\pandas\\core\\internals\\managers.py:354\u001b[0m, in \u001b[0;36mBaseBlockManager.apply\u001b[1;34m(self, f, align_keys, **kwargs)\u001b[0m\n\u001b[0;32m    352\u001b[0m         applied \u001b[38;5;241m=\u001b[39m b\u001b[38;5;241m.\u001b[39mapply(f, \u001b[38;5;241m*\u001b[39m\u001b[38;5;241m*\u001b[39mkwargs)\n\u001b[0;32m    353\u001b[0m     \u001b[38;5;28;01melse\u001b[39;00m:\n\u001b[1;32m--> 354\u001b[0m         applied \u001b[38;5;241m=\u001b[39m \u001b[38;5;28;43mgetattr\u001b[39;49m\u001b[43m(\u001b[49m\u001b[43mb\u001b[49m\u001b[43m,\u001b[49m\u001b[43m \u001b[49m\u001b[43mf\u001b[49m\u001b[43m)\u001b[49m\u001b[43m(\u001b[49m\u001b[38;5;241;43m*\u001b[39;49m\u001b[38;5;241;43m*\u001b[39;49m\u001b[43mkwargs\u001b[49m\u001b[43m)\u001b[49m\n\u001b[0;32m    355\u001b[0m     result_blocks \u001b[38;5;241m=\u001b[39m extend_blocks(applied, result_blocks)\n\u001b[0;32m    357\u001b[0m out \u001b[38;5;241m=\u001b[39m \u001b[38;5;28mtype\u001b[39m(\u001b[38;5;28mself\u001b[39m)\u001b[38;5;241m.\u001b[39mfrom_blocks(result_blocks, \u001b[38;5;28mself\u001b[39m\u001b[38;5;241m.\u001b[39maxes)\n",
         "File \u001b[1;32mc:\\Users\\10678745\\AppData\\Local\\Programs\\Python\\Python311\\Lib\\site-packages\\pandas\\core\\internals\\blocks.py:616\u001b[0m, in \u001b[0;36mBlock.astype\u001b[1;34m(self, dtype, copy, errors, using_cow)\u001b[0m\n\u001b[0;32m    596\u001b[0m \u001b[38;5;250m\u001b[39m\u001b[38;5;124;03m\"\"\"\u001b[39;00m\n\u001b[0;32m    597\u001b[0m \u001b[38;5;124;03mCoerce to the new dtype.\u001b[39;00m\n\u001b[0;32m    598\u001b[0m \n\u001b[1;32m   (...)\u001b[0m\n\u001b[0;32m    612\u001b[0m \u001b[38;5;124;03mBlock\u001b[39;00m\n\u001b[0;32m    613\u001b[0m \u001b[38;5;124;03m\"\"\"\u001b[39;00m\n\u001b[0;32m    614\u001b[0m values \u001b[38;5;241m=\u001b[39m \u001b[38;5;28mself\u001b[39m\u001b[38;5;241m.\u001b[39mvalues\n\u001b[1;32m--> 616\u001b[0m new_values \u001b[38;5;241m=\u001b[39m \u001b[43mastype_array_safe\u001b[49m\u001b[43m(\u001b[49m\u001b[43mvalues\u001b[49m\u001b[43m,\u001b[49m\u001b[43m \u001b[49m\u001b[43mdtype\u001b[49m\u001b[43m,\u001b[49m\u001b[43m \u001b[49m\u001b[43mcopy\u001b[49m\u001b[38;5;241;43m=\u001b[39;49m\u001b[43mcopy\u001b[49m\u001b[43m,\u001b[49m\u001b[43m \u001b[49m\u001b[43merrors\u001b[49m\u001b[38;5;241;43m=\u001b[39;49m\u001b[43merrors\u001b[49m\u001b[43m)\u001b[49m\n\u001b[0;32m    618\u001b[0m new_values \u001b[38;5;241m=\u001b[39m maybe_coerce_values(new_values)\n\u001b[0;32m    620\u001b[0m refs \u001b[38;5;241m=\u001b[39m \u001b[38;5;28;01mNone\u001b[39;00m\n",
         "File \u001b[1;32mc:\\Users\\10678745\\AppData\\Local\\Programs\\Python\\Python311\\Lib\\site-packages\\pandas\\core\\dtypes\\astype.py:238\u001b[0m, in \u001b[0;36mastype_array_safe\u001b[1;34m(values, dtype, copy, errors)\u001b[0m\n\u001b[0;32m    235\u001b[0m     dtype \u001b[38;5;241m=\u001b[39m dtype\u001b[38;5;241m.\u001b[39mnumpy_dtype\n\u001b[0;32m    237\u001b[0m \u001b[38;5;28;01mtry\u001b[39;00m:\n\u001b[1;32m--> 238\u001b[0m     new_values \u001b[38;5;241m=\u001b[39m \u001b[43mastype_array\u001b[49m\u001b[43m(\u001b[49m\u001b[43mvalues\u001b[49m\u001b[43m,\u001b[49m\u001b[43m \u001b[49m\u001b[43mdtype\u001b[49m\u001b[43m,\u001b[49m\u001b[43m \u001b[49m\u001b[43mcopy\u001b[49m\u001b[38;5;241;43m=\u001b[39;49m\u001b[43mcopy\u001b[49m\u001b[43m)\u001b[49m\n\u001b[0;32m    239\u001b[0m \u001b[38;5;28;01mexcept\u001b[39;00m (\u001b[38;5;167;01mValueError\u001b[39;00m, \u001b[38;5;167;01mTypeError\u001b[39;00m):\n\u001b[0;32m    240\u001b[0m     \u001b[38;5;66;03m# e.g. _astype_nansafe can fail on object-dtype of strings\u001b[39;00m\n\u001b[0;32m    241\u001b[0m     \u001b[38;5;66;03m#  trying to convert to float\u001b[39;00m\n\u001b[0;32m    242\u001b[0m     \u001b[38;5;28;01mif\u001b[39;00m errors \u001b[38;5;241m==\u001b[39m \u001b[38;5;124m\"\u001b[39m\u001b[38;5;124mignore\u001b[39m\u001b[38;5;124m\"\u001b[39m:\n",
         "File \u001b[1;32mc:\\Users\\10678745\\AppData\\Local\\Programs\\Python\\Python311\\Lib\\site-packages\\pandas\\core\\dtypes\\astype.py:183\u001b[0m, in \u001b[0;36mastype_array\u001b[1;34m(values, dtype, copy)\u001b[0m\n\u001b[0;32m    180\u001b[0m     values \u001b[38;5;241m=\u001b[39m values\u001b[38;5;241m.\u001b[39mastype(dtype, copy\u001b[38;5;241m=\u001b[39mcopy)\n\u001b[0;32m    182\u001b[0m \u001b[38;5;28;01melse\u001b[39;00m:\n\u001b[1;32m--> 183\u001b[0m     values \u001b[38;5;241m=\u001b[39m \u001b[43m_astype_nansafe\u001b[49m\u001b[43m(\u001b[49m\u001b[43mvalues\u001b[49m\u001b[43m,\u001b[49m\u001b[43m \u001b[49m\u001b[43mdtype\u001b[49m\u001b[43m,\u001b[49m\u001b[43m \u001b[49m\u001b[43mcopy\u001b[49m\u001b[38;5;241;43m=\u001b[39;49m\u001b[43mcopy\u001b[49m\u001b[43m)\u001b[49m\n\u001b[0;32m    185\u001b[0m \u001b[38;5;66;03m# in pandas we don't store numpy str dtypes, so convert to object\u001b[39;00m\n\u001b[0;32m    186\u001b[0m \u001b[38;5;28;01mif\u001b[39;00m \u001b[38;5;28misinstance\u001b[39m(dtype, np\u001b[38;5;241m.\u001b[39mdtype) \u001b[38;5;129;01mand\u001b[39;00m \u001b[38;5;28missubclass\u001b[39m(values\u001b[38;5;241m.\u001b[39mdtype\u001b[38;5;241m.\u001b[39mtype, \u001b[38;5;28mstr\u001b[39m):\n",
         "File \u001b[1;32mc:\\Users\\10678745\\AppData\\Local\\Programs\\Python\\Python311\\Lib\\site-packages\\pandas\\core\\dtypes\\astype.py:134\u001b[0m, in \u001b[0;36m_astype_nansafe\u001b[1;34m(arr, dtype, copy, skipna)\u001b[0m\n\u001b[0;32m    130\u001b[0m     \u001b[38;5;28;01mraise\u001b[39;00m \u001b[38;5;167;01mValueError\u001b[39;00m(msg)\n\u001b[0;32m    132\u001b[0m \u001b[38;5;28;01mif\u001b[39;00m copy \u001b[38;5;129;01mor\u001b[39;00m arr\u001b[38;5;241m.\u001b[39mdtype \u001b[38;5;241m==\u001b[39m \u001b[38;5;28mobject\u001b[39m \u001b[38;5;129;01mor\u001b[39;00m dtype \u001b[38;5;241m==\u001b[39m \u001b[38;5;28mobject\u001b[39m:\n\u001b[0;32m    133\u001b[0m     \u001b[38;5;66;03m# Explicit copy, or required since NumPy can't view from / to object.\u001b[39;00m\n\u001b[1;32m--> 134\u001b[0m     \u001b[38;5;28;01mreturn\u001b[39;00m \u001b[43marr\u001b[49m\u001b[38;5;241;43m.\u001b[39;49m\u001b[43mastype\u001b[49m\u001b[43m(\u001b[49m\u001b[43mdtype\u001b[49m\u001b[43m,\u001b[49m\u001b[43m \u001b[49m\u001b[43mcopy\u001b[49m\u001b[38;5;241;43m=\u001b[39;49m\u001b[38;5;28;43;01mTrue\u001b[39;49;00m\u001b[43m)\u001b[49m\n\u001b[0;32m    136\u001b[0m \u001b[38;5;28;01mreturn\u001b[39;00m arr\u001b[38;5;241m.\u001b[39mastype(dtype, copy\u001b[38;5;241m=\u001b[39mcopy)\n",
         "\u001b[1;31mValueError\u001b[0m: could not convert string to float: 'mm'"
        ]
       }
      ],
      "source": [
       "fulldf.height.astype(float)"
      ]
     },
     {
      "cell_type": "code",
      "execution_count": 17,
      "metadata": {},
      "outputs": [
       {
        "data": {
         "text/plain": [
          "0         419.0\n",
          "1         213.0\n",
          "2         467.0\n",
          "3         394.0\n",
          "4         335.0\n",
          "          ...  \n",
          "69196     305.0\n",
          "69197     305.0\n",
          "69198    2410.0\n",
          "69199       NaN\n",
          "69200     660.0\n",
          "Name: height, Length: 69201, dtype: float64"
         ]
        },
        "execution_count": 17,
        "metadata": {},
        "output_type": "execute_result"
       }
      ],
      "source": [
       "pd.to_numeric(fulldf.height,errors=\"coerce\")"
      ]
     },
     {
      "cell_type": "code",
      "execution_count": 18,
      "metadata": {},
      "outputs": [
       {
        "data": {
         "text/plain": [
          "dtype('O')"
         ]
        },
        "execution_count": 18,
        "metadata": {},
        "output_type": "execute_result"
       }
      ],
      "source": [
       "fulldf.height.dtype"
      ]
     },
     {
      "cell_type": "code",
      "execution_count": 19,
      "metadata": {},
      "outputs": [],
      "source": [
       "fulldf.height = pd.to_numeric(fulldf.height,errors=\"coerce\")"
      ]
     },
     {
      "cell_type": "code",
      "execution_count": 20,
      "metadata": {},
      "outputs": [
       {
        "data": {
         "text/plain": [
          "dtype('float64')"
         ]
        },
        "execution_count": 20,
        "metadata": {},
        "output_type": "execute_result"
       }
      ],
      "source": [
       "fulldf.height.dtype"
      ]
     },
     {
      "cell_type": "code",
      "execution_count": null,
      "metadata": {},
      "outputs": [],
      "source": []
     }
    ],
    "metadata": {
     "kernelspec": {
      "display_name": "Python 3",
      "language": "python",
      "name": "python3"
     },
     "language_info": {
      "codemirror_mode": {
       "name": "ipython",
       "version": 3
      },
      "file_extension": ".py",
      "mimetype": "text/x-python",
      "name": "python",
      "nbconvert_exporter": "python",
      "pygments_lexer": "ipython3",
      "version": "3.11.0"
     }
    },
    "nbformat": 4,
    "nbformat_minor": 2
   }
   