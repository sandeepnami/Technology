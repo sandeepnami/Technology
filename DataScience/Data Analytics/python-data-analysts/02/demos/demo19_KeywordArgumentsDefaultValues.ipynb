{
 "cells": [
  {
   "cell_type": "code",
   "execution_count": 3,
   "metadata": {},
   "outputs": [],
   "source": [
    "def car_parts(name, brand, hp, engine, zero_to_sixty, top_speed, price):\n",
    "    \n",
    "    other_details = hp, engine, top_speed, price\n",
    "    \n",
    "    print(\"Name of the car :\", name)\n",
    "    print(\"Brand :\", brand,\"\\n0 to 60:\", zero_to_sixty)\n",
    "    print(\"Price :\", price)\n",
    "    print(\"Remaining details (hp, engine, top_speed, price):\", other_details)"
   ]
  },
  {
   "cell_type": "code",
   "execution_count": 4,
   "metadata": {},
   "outputs": [
    {
     "name": "stdout",
     "output_type": "stream",
     "text": [
      "Name of the car : Aventador\n",
      "Brand : Lamborghini \n",
      "0 to 60: 2.9\n",
      "Price : 261000\n",
      "Remaining details (hp, engine, top_speed, price): (544, 7.0, 220, 261000)\n"
     ]
    }
   ],
   "source": [
    "car_parts(\"Aventador\",\n",
    "          \"Lamborghini\",\n",
    "          544,\n",
    "          7.0,\n",
    "          2.9,\n",
    "          220,\n",
    "          261000)"
   ]
  },
  {
   "cell_type": "code",
   "execution_count": 7,
   "metadata": {},
   "outputs": [
    {
     "ename": "TypeError",
     "evalue": "car_parts() missing 2 required positional arguments: 'top_speed' and 'price'",
     "output_type": "error",
     "traceback": [
      "\u001b[0;31m---------------------------------------------------------------------------\u001b[0m",
      "\u001b[0;31mTypeError\u001b[0m                                 Traceback (most recent call last)",
      "\u001b[0;32m<ipython-input-7-5ebfbb4d9fda>\u001b[0m in \u001b[0;36m<module>\u001b[0;34m\u001b[0m\n\u001b[1;32m      3\u001b[0m           \u001b[0;36m544\u001b[0m\u001b[0;34m,\u001b[0m\u001b[0;34m\u001b[0m\u001b[0;34m\u001b[0m\u001b[0m\n\u001b[1;32m      4\u001b[0m           \u001b[0;36m7.0\u001b[0m\u001b[0;34m,\u001b[0m\u001b[0;34m\u001b[0m\u001b[0;34m\u001b[0m\u001b[0m\n\u001b[0;32m----> 5\u001b[0;31m           261000)\n\u001b[0m",
      "\u001b[0;31mTypeError\u001b[0m: car_parts() missing 2 required positional arguments: 'top_speed' and 'price'"
     ]
    }
   ],
   "source": [
    "car_parts(\"Aventador\",\n",
    "          \"Lamborghini\",\n",
    "          544,\n",
    "          7.0,\n",
    "          261000)"
   ]
  },
  {
   "cell_type": "code",
   "execution_count": 26,
   "metadata": {},
   "outputs": [
    {
     "name": "stdout",
     "output_type": "stream",
     "text": [
      "Name of the car : Aventador\n",
      "Brand : Lamborghini \n",
      "0 to 60: 7.0\n",
      "Price : 220\n",
      "Remaining details (hp, engine, top_speed, price): (261000, 544, 2.9, 220)\n"
     ]
    }
   ],
   "source": [
    "car_parts(\"Aventador\",\n",
    "          \"Lamborghini\",\n",
    "          261000,\n",
    "          544,\n",
    "          7.0,\n",
    "          2.9,\n",
    "          220)"
   ]
  },
  {
   "cell_type": "code",
   "execution_count": 8,
   "metadata": {},
   "outputs": [
    {
     "name": "stdout",
     "output_type": "stream",
     "text": [
      "Name of the car : Aventador\n",
      "Brand : Lamborghini \n",
      "0 to 60: 2.9\n",
      "Price : 261000\n",
      "Remaining details (hp, engine, top_speed, price): (544, 7.0, 220, 261000)\n"
     ]
    }
   ],
   "source": [
    "car_parts(\"Aventador\",\n",
    "          \"Lamborghini\",\n",
    "          544,\n",
    "          7.0,\n",
    "          2.9,\n",
    "          220,\n",
    "          price=261000)"
   ]
  },
  {
   "cell_type": "code",
   "execution_count": 27,
   "metadata": {},
   "outputs": [
    {
     "name": "stdout",
     "output_type": "stream",
     "text": [
      "Name of the car : Aventador\n",
      "Brand : Lamborghini \n",
      "0 to 60: 2.9\n",
      "Price : 261000\n",
      "Remaining details (hp, engine, top_speed, price): (544, 7.0, 220, 261000)\n"
     ]
    }
   ],
   "source": [
    "car_parts(\"Aventador\",\n",
    "          \"Lamborghini\",\n",
    "          hp=544,\n",
    "          engine=7.0,\n",
    "          zero_to_sixty=2.9,\n",
    "          top_speed=220,\n",
    "          price=261000)"
   ]
  },
  {
   "cell_type": "code",
   "execution_count": 28,
   "metadata": {},
   "outputs": [
    {
     "ename": "TypeError",
     "evalue": "car_parts() got an unexpected keyword argument 'zerotosixty'",
     "output_type": "error",
     "traceback": [
      "\u001b[0;31m---------------------------------------------------------------------------\u001b[0m",
      "\u001b[0;31mTypeError\u001b[0m                                 Traceback (most recent call last)",
      "\u001b[0;32m<ipython-input-28-ededef543f3a>\u001b[0m in \u001b[0;36m<module>\u001b[0;34m\u001b[0m\n\u001b[1;32m      5\u001b[0m           \u001b[0mzerotosixty\u001b[0m\u001b[0;34m=\u001b[0m\u001b[0;36m2.9\u001b[0m\u001b[0;34m,\u001b[0m\u001b[0;34m\u001b[0m\u001b[0;34m\u001b[0m\u001b[0m\n\u001b[1;32m      6\u001b[0m           \u001b[0mtop_speed\u001b[0m\u001b[0;34m=\u001b[0m\u001b[0;36m220\u001b[0m\u001b[0;34m,\u001b[0m\u001b[0;34m\u001b[0m\u001b[0;34m\u001b[0m\u001b[0m\n\u001b[0;32m----> 7\u001b[0;31m           price=261000)\n\u001b[0m",
      "\u001b[0;31mTypeError\u001b[0m: car_parts() got an unexpected keyword argument 'zerotosixty'"
     ]
    }
   ],
   "source": [
    "car_parts(\"Aventador\",\n",
    "          \"Lamborghini\",\n",
    "          hp=544,\n",
    "          engine=7.0,\n",
    "          zerotosixty=2.9,\n",
    "          top_speed=220,\n",
    "          price=261000)"
   ]
  },
  {
   "cell_type": "code",
   "execution_count": 29,
   "metadata": {},
   "outputs": [
    {
     "ename": "SyntaxError",
     "evalue": "positional argument follows keyword argument (<ipython-input-29-14cb08fa1502>, line 4)",
     "output_type": "error",
     "traceback": [
      "\u001b[0;36m  File \u001b[0;32m\"<ipython-input-29-14cb08fa1502>\"\u001b[0;36m, line \u001b[0;32m4\u001b[0m\n\u001b[0;31m    7.0,\u001b[0m\n\u001b[0m    ^\u001b[0m\n\u001b[0;31mSyntaxError\u001b[0m\u001b[0;31m:\u001b[0m positional argument follows keyword argument\n"
     ]
    }
   ],
   "source": [
    "car_parts(\"Aventador\",\n",
    "          \"Lamborghini\",\n",
    "          hp=544,\n",
    "          7.0,\n",
    "          zero_to_sixty=2.9,\n",
    "          top_speed=220,\n",
    "          price=261000)"
   ]
  },
  {
   "cell_type": "code",
   "execution_count": 30,
   "metadata": {},
   "outputs": [
    {
     "ename": "SyntaxError",
     "evalue": "positional argument follows keyword argument (<ipython-input-30-fa136c3a202e>, line 7)",
     "output_type": "error",
     "traceback": [
      "\u001b[0;36m  File \u001b[0;32m\"<ipython-input-30-fa136c3a202e>\"\u001b[0;36m, line \u001b[0;32m7\u001b[0m\n\u001b[0;31m    261000)\u001b[0m\n\u001b[0m    ^\u001b[0m\n\u001b[0;31mSyntaxError\u001b[0m\u001b[0;31m:\u001b[0m positional argument follows keyword argument\n"
     ]
    }
   ],
   "source": [
    "car_parts(\"Aventador\",\n",
    "          \"Lamborghini\",\n",
    "          hp=544,\n",
    "          engine=7.0,\n",
    "          zero_to_sixty=2.9,\n",
    "          top_speed=220,\n",
    "          261000)"
   ]
  },
  {
   "cell_type": "code",
   "execution_count": 31,
   "metadata": {},
   "outputs": [
    {
     "name": "stdout",
     "output_type": "stream",
     "text": [
      "Name of the car : Aventador\n",
      "Brand : Lamborghini \n",
      "0 to 60: 2.9\n",
      "Price : 261000\n",
      "Remaining details (hp, engine, top_speed, price): (544, 7.0, 220, 261000)\n"
     ]
    }
   ],
   "source": [
    "car_parts(brand=\"Lamborghini\",\n",
    "          name=\"Aventador\",\n",
    "          hp=544,\n",
    "          top_speed=220,\n",
    "          price=261000,\n",
    "          engine=7.0,\n",
    "          zero_to_sixty=2.9)"
   ]
  },
  {
   "cell_type": "code",
   "execution_count": 32,
   "metadata": {},
   "outputs": [],
   "source": [
    "def car_parts(name, brand, hp, engine, zero_to_sixty, top_speed, price=35000):\n",
    "    \n",
    "    other_details = hp, engine, top_speed, price\n",
    "    \n",
    "    print(\"Name of the car :\", name)\n",
    "    print(\"Brand :\", brand,\"\\n0 to 60:\", zero_to_sixty)\n",
    "    print(\"Price :\", price)\n",
    "    print(\"Remaining details (hp, engine, top_speed, price):\", other_details)"
   ]
  },
  {
   "cell_type": "code",
   "execution_count": 33,
   "metadata": {},
   "outputs": [
    {
     "name": "stdout",
     "output_type": "stream",
     "text": [
      "Name of the car : Mustang\n",
      "Brand : Ford \n",
      "0 to 60: 7.0\n",
      "Price : 35000\n",
      "Remaining details (hp, engine, top_speed, price): (295, 5.0, 150, 35000)\n"
     ]
    }
   ],
   "source": [
    "car_parts(\"Mustang\",\n",
    "          \"Ford\",\n",
    "          hp=295,\n",
    "          engine=5.0,\n",
    "          zero_to_sixty=7.0,\n",
    "          top_speed=150)"
   ]
  },
  {
   "cell_type": "code",
   "execution_count": 34,
   "metadata": {},
   "outputs": [
    {
     "ename": "TypeError",
     "evalue": "car_parts() missing 1 required positional argument: 'zero_to_sixty'",
     "output_type": "error",
     "traceback": [
      "\u001b[0;31m---------------------------------------------------------------------------\u001b[0m",
      "\u001b[0;31mTypeError\u001b[0m                                 Traceback (most recent call last)",
      "\u001b[0;32m<ipython-input-34-0e9be5278ac5>\u001b[0m in \u001b[0;36m<module>\u001b[0;34m\u001b[0m\n\u001b[1;32m      3\u001b[0m           \u001b[0mhp\u001b[0m\u001b[0;34m=\u001b[0m\u001b[0;36m295\u001b[0m\u001b[0;34m,\u001b[0m\u001b[0;34m\u001b[0m\u001b[0;34m\u001b[0m\u001b[0m\n\u001b[1;32m      4\u001b[0m           \u001b[0mengine\u001b[0m\u001b[0;34m=\u001b[0m\u001b[0;36m5.0\u001b[0m\u001b[0;34m,\u001b[0m\u001b[0;34m\u001b[0m\u001b[0;34m\u001b[0m\u001b[0m\n\u001b[0;32m----> 5\u001b[0;31m           top_speed=150)\n\u001b[0m",
      "\u001b[0;31mTypeError\u001b[0m: car_parts() missing 1 required positional argument: 'zero_to_sixty'"
     ]
    }
   ],
   "source": [
    "car_parts(\"Mustang\",\n",
    "          \"Ford\",\n",
    "          hp=295,\n",
    "          engine=5.0,\n",
    "          top_speed=150)"
   ]
  },
  {
   "cell_type": "code",
   "execution_count": 35,
   "metadata": {},
   "outputs": [
    {
     "name": "stdout",
     "output_type": "stream",
     "text": [
      "Name of the car : Mustang\n",
      "Brand : Ford \n",
      "0 to 60: 7.0\n",
      "Price : 30000\n",
      "Remaining details (hp, engine, top_speed, price): (295, 5.0, 150, 30000)\n"
     ]
    }
   ],
   "source": [
    "car_parts(\"Mustang\",\n",
    "          \"Ford\",\n",
    "          hp=295,\n",
    "          engine=5.0,\n",
    "          zero_to_sixty=7.0,\n",
    "          top_speed=150,\n",
    "          price=30000)"
   ]
  },
  {
   "cell_type": "code",
   "execution_count": 36,
   "metadata": {},
   "outputs": [],
   "source": [
    "def car_parts(name=\"Mustang\", brand=\"Ford\", \n",
    "              hp=295, engine=5.0, \n",
    "              zero_to_sixty=8.0, \n",
    "              top_speed=200, price=35000):\n",
    "    \n",
    "    other_details = hp, engine, top_speed, price\n",
    "    \n",
    "    print(\"Name of the car :\", name)\n",
    "    print(\"Brand :\", brand,\"\\n0 to 60:\", zero_to_sixty)\n",
    "    print(\"Price :\", price)\n",
    "    print(\"Remaining details (hp, engine, top_speed, price):\", other_details)"
   ]
  },
  {
   "cell_type": "code",
   "execution_count": 37,
   "metadata": {},
   "outputs": [
    {
     "name": "stdout",
     "output_type": "stream",
     "text": [
      "Name of the car : Mustang\n",
      "Brand : Ford \n",
      "0 to 60: 8.0\n",
      "Price : 35000\n",
      "Remaining details (hp, engine, top_speed, price): (295, 5.0, 200, 35000)\n"
     ]
    }
   ],
   "source": [
    "car_parts()"
   ]
  },
  {
   "cell_type": "code",
   "execution_count": 38,
   "metadata": {},
   "outputs": [
    {
     "name": "stdout",
     "output_type": "stream",
     "text": [
      "Name of the car : Viper\n",
      "Brand : Dodge \n",
      "0 to 60: 8.0\n",
      "Price : 35000\n",
      "Remaining details (hp, engine, top_speed, price): (295, 5.0, 200, 35000)\n"
     ]
    }
   ],
   "source": [
    "car_parts(name=\"Viper\", brand=\"Dodge\")"
   ]
  },
  {
   "cell_type": "code",
   "execution_count": null,
   "metadata": {},
   "outputs": [],
   "source": []
  }
 ],
 "metadata": {
  "kernelspec": {
   "display_name": "Python 3",
   "language": "python",
   "name": "python3"
  },
  "language_info": {
   "codemirror_mode": {
    "name": "ipython",
    "version": 3
   },
   "file_extension": ".py",
   "mimetype": "text/x-python",
   "name": "python",
   "nbconvert_exporter": "python",
   "pygments_lexer": "ipython3",
   "version": "3.6.9"
  }
 },
 "nbformat": 4,
 "nbformat_minor": 2
}
