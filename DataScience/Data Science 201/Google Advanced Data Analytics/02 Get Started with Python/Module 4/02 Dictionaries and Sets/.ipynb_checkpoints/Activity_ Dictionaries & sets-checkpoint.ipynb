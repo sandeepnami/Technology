{
 "cells": [
  {
   "cell_type": "markdown",
   "metadata": {
    "id": "-Lwnt5KN31Fq"
   },
   "source": [
    "<h1>Activity: Dictionaries and sets</h1>"
   ]
  },
  {
   "cell_type": "markdown",
   "metadata": {
    "id": "g3HOxOPG39KQ"
   },
   "source": [
    "## Introduction\n",
    "\n",
    "In this lab, you will practice creating, modifying, and working with data structures in Python. This will develop your knowledge of different kinds of data structures and the different operations that you can perform with them to answer questions about the data. This will help you prepare for projects you may encounter where you will need to use data structures to store and keep track of data.\n",
    "\n",
    "In your work as an analyst, you are continuing your research into air quality data collected by the U.S. Environmental Protection Agency (EPA). The air quality index (AQI) is a number that runs from 0 to 500. The higher the AQI value, the greater the level of air pollution and the greater the health concern. For example, an AQI value of 50 or below represents good air quality, while an AQI value over 300 represents hazardous air quality. Refer to this guide from [AirNow.gov](https://www.airnow.gov/aqi/aqi-basics/) for more information.\n",
    "\n",
    "In this activity, you will create, modify, and update dictionaries and sets. You will also be working with more data than in previous labs to more closely resemble situations encountered by working data professionals."
   ]
  },
  {
   "cell_type": "markdown",
   "metadata": {
    "id": "nWswZUkx388N"
   },
   "source": [
    "## Tips for completing this lab\n",
    "\n",
    "As you navigate this lab, keep the following tips in mind:\n",
    "\n",
    "- `### YOUR CODE HERE ###` indicates where you should write code. Be sure to replace this with your own code before running the code cell.\n",
    "- Feel free to open the hints for additional guidance as you work on each task.\n",
    "- To enter your answer to a question, double-click the markdown cell to edit. Be sure to replace the \"[Double-click to enter your responses here.]\" with your own answer.\n",
    "- You can save your work manually by clicking File and then Save in the menu bar at the top of the notebook.\n",
    "- You can download your work locally by clicking File and then Download and then specifying your preferred file format in the menu bar at the top of the notebook.\n",
    "\n"
   ]
  },
  {
   "cell_type": "markdown",
   "metadata": {
    "id": "JlXRqG234ys5"
   },
   "source": [
    "# Task 1: Create a dictionary to store information</h2></summary>\n",
    "\n",
    "Dictionaries are useful when you need a data structure to store information that can be referenced or looked up.\n",
    "\n",
    "In this task you'll begin with three `list` objects:\n",
    "\n",
    "* `state_list` - an ordered list of the state where each data point was recorded\n",
    "* `county_list` - an ordered list of the county where each data point was recorded\n",
    "* `aqi_list` - an ordered list of AQI records\n",
    "\n",
    "As a refresher, here is an example table of some of the information contained in these variables:\n",
    "\n",
    "| state_name | county_name | aqi |\n",
    "| --- | --- | --- |\n",
    "| Arizona | Maricopa | 9 |\n",
    "| California | Alameda | 11 |\n",
    "| California | Sacramento | 35 |\n",
    "| Kentucky | Jefferson | 6 |\n",
    "| Louisiana | East Baton Rouge | 5 |\n",
    "\n",
    "\n",
    "</details>\n",
    "\n",
    "**Reminder:** This lab uses more data than the last one. This table is just a small sample of the information contained in the three lists that are provided for this activity. "
   ]
  },
  {
   "cell_type": "markdown",
   "metadata": {
    "id": "Xnom2939uK6t"
   },
   "source": [
    "## 1a: Create a list of tuples\n",
    "\n",
    "Begin with an intermediary step to prepare the information to be put in a dictionary.\n",
    "\n",
    "* Convert `state_list`, `county_list`, and `aqi_list` to a list of tuples, where each tuple contains information for a single record: `(state, county, aqi)`.\n",
    "\n",
    "* Assign the result to a variable called `epa_tuples`.\n",
    "\n"
   ]
  },
  {
   "cell_type": "code",
   "execution_count": 1,
   "metadata": {
    "id": "ifs5GtHdctXg"
   },
   "outputs": [],
   "source": [
    "# RUN THIS CELL TO IMPORT YOUR DATA\n",
    "import ada_c2_labs as lab\n",
    "state_list = lab.fetch_epa('state')\n",
    "county_list = lab.fetch_epa('county')\n",
    "aqi_list = lab.fetch_epa('aqi')"
   ]
  },
  {
   "cell_type": "code",
   "execution_count": 3,
   "metadata": {
    "id": "UFDv3-UMSSQ1"
   },
   "outputs": [
    {
     "name": "stdout",
     "output_type": "stream",
     "text": [
      "[('Arizona', 'Maricopa', 18.0), ('Arizona', 'Maricopa', 9.0), ('Arizona', 'Pima', 20.0), ('California', 'Alameda', 11.0), ('California', 'Butte', 6.0), ('California', 'Fresno', 11.0), ('California', 'Kern', 7.0), ('California', 'Kern', 3.0), ('California', 'Kern', 7.0), ('California', 'Los Angeles', 13.0), ('California', 'Los Angeles', 18.0), ('California', 'Mono', 5.0), ('California', 'Sacramento', 35.0), ('California', 'San Bernardino', 18.0), ('California', 'San Diego', 23.0), ('California', 'Santa Barbara', 0.0), ('California', 'Shasta', 11.0), ('Colorado', 'El Paso', 9.0), ('Florida', 'Duval', 15.0), ('Florida', 'Duval', 13.0), ('Florida', 'Hillsborough', 19.0), ('Hawaii', 'Honolulu', 10.0), ('Illinois', 'Sangamon', 20.0), ('Indiana', 'Marion', 32.0), ('Kentucky', 'Henderson', 8.0), ('Kentucky', 'Jefferson', 6.0), ('Kentucky', 'McCracken', 13.0), ('Kentucky', 'McCracken', 13.0), ('Louisiana', 'East Baton Rouge', 5.0), ('Maryland', 'Baltimore (City)', 33.0), ('Massachusetts', 'Suffolk', 13.0), ('Michigan', 'Wayne', 19.0), ('Minnesota', 'Saint Louis', 16.0), ('Missouri', 'Saint Louis', 10.0), ('New Jersey', 'Bergen', 41.0), ('New Jersey', 'Middlesex', 17.0), ('New Mexico', 'Bernalillo', 11.0), ('New Mexico', 'San Juan', 6.0), ('New York', 'New York', 13.0), ('New York', 'New York', 24.0), ('New York', 'Niagara', 13.0), ('North Carolina', 'Mecklenburg', 28.0), ('Ohio', 'Franklin', 10.0), ('Ohio', 'Hamilton', 17.0), ('Oklahoma', 'Oklahoma', 14.0), ('Oregon', 'Klamath', 31.0), ('Oregon', 'Multnomah', 28.0), ('Pennsylvania', 'Erie', 7.0), ('Pennsylvania', 'Philadelphia', 13.0), ('Tennessee', 'Shelby', 38.0), ('Texas', 'Bexar', 22.0), ('Utah', 'Salt Lake', 19.0), ('Vermont', 'Chittenden', 18.0), ('Vermont', 'Chittenden', 20.0), ('Virginia', 'Fairfax', 39.0), ('Virginia', 'Norfolk City', 15.0), ('Virginia', 'Richmond City', 17.0), ('Washington', 'King', 55.0), ('Washington', 'King', 22.0), ('Washington', 'Yakima', 35.0), ('Wisconsin', 'Milwaukee', 10.0), ('Arizona', 'Maricopa', 56.0), ('Arizona', 'Pima', 30.0), ('California', 'Humboldt', 30.0), ('California', 'Humboldt', 11.0), ('California', 'Riverside', 18.0), ('California', 'San Bernardino', 11.0), ('California', 'San Bernardino', 22.0), ('California', 'San Bernardino', 11.0), ('California', 'San Diego', 24.0), ('California', 'Santa Barbara', 11.0), ('California', 'Santa Barbara', 7.0), ('California', 'Santa Clara', 11.0), ('California', 'Sonoma', 11.0), ('California', 'Stanislaus', 0.0), ('Colorado', 'Boulder', 28.0), ('Colorado', 'El Paso', 9.0), ('Colorado', 'El Paso', 9.0), ('Hawaii', 'Honolulu', 6.0), ('Illinois', 'Sangamon', 26.0), ('Indiana', 'Marion', 27.0), ('Iowa', 'Polk', 14.0), ('Kansas', 'Sedgwick', 16.0), ('Louisiana', 'Orleans', 5.0), ('Maryland', 'Allegany', 9.0), ('Maryland', 'Montgomery', 24.0), ('Michigan', 'Wayne', 17.0), ('Minnesota', 'Hennepin', 16.0), ('Missouri', 'Clay', 6.0), ('Missouri', 'Jackson', 3.0), ('Montana', 'Missoula', 14.0), ('Nevada', 'Washoe', 52.0), ('Nevada', 'Washoe', 8.0), ('New Jersey', 'Camden', 7.0), ('New Mexico', 'San Juan', 17.0), ('New Mexico', 'San Juan', 14.0), ('New York', 'Monroe', 18.0), ('New York', 'Niagara', 6.0), ('New York', 'Schenectady', 19.0), ('Ohio', 'Franklin', 11.0), ('Ohio', 'Lucas', 13.0), ('Oklahoma', 'Cleveland', 7.0), ('Oklahoma', 'Tulsa', 13.0), ('Oklahoma', 'Tulsa', 16.0), ('Pennsylvania', 'Dauphin', 6.0), ('Pennsylvania', 'Lancaster', 5.0), ('Pennsylvania', 'Philadelphia', 10.0), ('Tennessee', 'Shelby', 74.0), ('Texas', 'Bexar', 6.0), ('Texas', 'Dallas', 2.0), ('Utah', 'Davis', 22.0), ('Utah', 'Salt Lake', 19.0), ('Virginia', 'Fairfax', 15.0), ('Virginia', 'Alexandria City', 13.0), ('Virginia', 'Newport News City', 8.0), ('Washington', 'King', 44.0), ('Washington', 'Snohomish', 76.0), ('Washington', 'Spokane', 32.0), ('West Virginia', 'Greenbrier', 2.0), ('Wisconsin', 'Milwaukee', 22.0), ('Puerto Rico', 'San Juan', 35.0), ('Puerto Rico', 'San Juan', 18.0), ('Alabama', 'Jefferson', 23.0), ('Arizona', 'Maricopa', 66.0), ('Arizona', 'Maricopa', 14.0), ('Arizona', 'Maricopa', 60.0), ('Arizona', 'Pima', 20.0), ('Arizona', 'Pima', 36.0), ('California', 'Butte', 9.0), ('California', 'Kern', 19.0), ('California', 'Los Angeles', 23.0), ('California', 'Los Angeles', 33.0), ('California', 'Los Angeles', 10.0), ('California', 'Monterey', 16.0), ('California', 'Placer', 13.0), ('California', 'Santa Barbara', 47.0), ('California', 'Santa Barbara', 0.0), ('California', 'Santa Clara', 6.0), ('California', 'Tulare', 11.0), ('Colorado', 'El Paso', 25.0), ('Colorado', 'El Paso', 7.0), ('Colorado', 'El Paso', 10.0), ('Colorado', 'El Paso', 8.0), ('District Of Columbia', 'District of Columbia', 22.0), ('Florida', 'Broward', 17.0), ('Florida', 'Broward', 24.0), ('Florida', 'Broward', 15.0), ('Florida', 'Hillsborough', 13.0), ('Georgia', 'DeKalb', 8.0), ('Illinois', 'Sangamon', 16.0), ('Indiana', 'St. Joseph', 9.0), ('Indiana', 'Vanderburgh', 15.0), ('Massachusetts', 'Suffolk', 23.0), ('Michigan', 'Macomb', 31.0), ('Minnesota', 'Ramsey', 20.0), ('Nebraska', 'Douglas', 28.0), ('Nevada', 'Clark', 13.0), ('New Jersey', 'Atlantic', 26.0), ('New Jersey', 'Bergen', 11.0), ('New Mexico', 'Bernalillo', 13.0), ('New York', 'Nassau', 7.0), ('New York', 'Niagara', 9.0), ('North Carolina', 'Mecklenburg', 11.0), ('Pennsylvania', 'Berks', 19.0), ('Pennsylvania', 'Berks', 16.0), ('Pennsylvania', 'Erie', 18.0), ('Pennsylvania', 'Lackawanna', 5.0), ('Pennsylvania', 'Philadelphia', 13.0), ('Pennsylvania', 'Washington', 9.0), ('Texas', 'El Paso', 47.0), ('Utah', 'Salt Lake', 31.0), ('Utah', 'Utah', 42.0), ('Utah', 'Utah', 15.0), ('Washington', 'Yakima', 58.0), ('Washington', 'Yakima', 57.0), ('Wisconsin', 'Milwaukee', 14.0), ('Wisconsin', 'Milwaukee', 9.0), ('Wisconsin', 'Racine', 35.0), ('Puerto Rico', 'San Juan', 28.0), ('Country Of Mexico', 'CHIHUAHUA STATE', 45.0), ('Arizona', 'Maricopa', 8.0), ('Arizona', 'Maricopa', 18.0), ('Arizona', 'Pima', 16.0), ('Arizona', 'Pima', 30.0), ('Arizona', 'Pima', 5.0), ('California', 'Alameda', 11.0), ('California', 'Contra Costa', 15.0), ('California', 'El Dorado', 16.0), ('California', 'Fresno', 5.0), ('California', 'Mendocino', 0.0), ('California', 'Riverside', 13.0), ('California', 'Riverside', 40.0), ('California', 'San Diego', 10.0), ('California', 'Solano', 3.0), ('Colorado', 'Arapahoe', 15.0), ('Colorado', 'Denver', 28.0), ('Colorado', 'Larimer', 5.0), ('Colorado', 'Larimer', 6.0), ('Connecticut', 'Fairfield', 24.0), ('Florida', 'Broward', 5.0), ('Florida', 'Duval', 13.0), ('Florida', 'Duval', 16.0), ('Florida', 'Miami-Dade', 43.0), ('Hawaii', 'Honolulu', 5.0), ('Hawaii', 'Honolulu', 7.0), ('Illinois', 'Sangamon', 14.0), ('Iowa', 'Polk', 18.0), ('Kentucky', 'Jefferson', 15.0), ('Kentucky', 'McCracken', 8.0), ('Maryland', \"Prince George's\", 3.0), ('Massachusetts', 'Hampden', 19.0), ('Michigan', 'Kalamazoo', 6.0), ('Michigan', 'Kalamazoo', 6.0), ('Minnesota', 'Hennepin', 32.0), ('Nevada', 'Washoe', 13.0), ('New Jersey', 'Hudson', 32.0), ('New Jersey', 'Middlesex', 20.0), ('New Jersey', 'Union', 16.0), ('New York', 'Kings', 48.0), ('North Carolina', 'Forsyth', 18.0), ('North Carolina', 'Forsyth', 23.0), ('Ohio', 'Cuyahoga', 36.0), ('Ohio', 'Cuyahoga', 31.0), ('Ohio', 'Cuyahoga', 11.0), ('Ohio', 'Mahoning', 2.0), ('Oregon', 'Jackson', 51.0), ('Oregon', 'Lane', 32.0), ('Pennsylvania', 'Allegheny', 5.0), ('Pennsylvania', 'Luzerne', 11.0), ('Tennessee', 'Knox', 27.0), ('Tennessee', 'Shelby', 7.0), ('Texas', 'Bexar', 34.0), ('Texas', 'Bexar', 18.0), ('Texas', 'Dallas', 25.0), ('Texas', 'El Paso', 7.0), ('Texas', 'El Paso', 18.0), ('Texas', 'Harris', 14.0), ('Utah', 'Salt Lake', 20.0), ('Utah', 'Utah', 23.0), ('Virginia', 'Arlington', 16.0), ('Virginia', 'Norfolk City', 6.0), ('West Virginia', 'Kanawha', 8.0), ('Alabama', 'Jefferson', 5.0), ('Arizona', 'Pima', 13.0), ('Arizona', 'Pima', 11.0), ('Arizona', 'Pima', 5.0), ('California', 'Alameda', 11.0), ('California', 'Butte', 14.0), ('California', 'El Dorado', 8.0), ('California', 'El Dorado', 6.0), ('California', 'Fresno', 35.0), ('California', 'Los Angeles', 38.0), ('California', 'Los Angeles', 22.0), ('California', 'Los Angeles', 93.0), ('California', 'Los Angeles', 10.0), ('California', 'Los Angeles', 11.0), ('California', 'Placer', 6.0), ('California', 'Riverside', 43.0), ('California', 'San Bernardino', 5.0), ('California', 'San Diego', 16.0), ('California', 'San Diego', 7.0), ('California', 'San Luis Obispo', 13.0), ('California', 'Santa Clara', 10.0), ('California', 'Ventura', 7.0), ('Colorado', 'Boulder', 11.0), ('Colorado', 'El Paso', 31.0), ('Colorado', 'El Paso', 23.0), ('Colorado', 'El Paso', 9.0), ('Colorado', 'Mesa', 20.0), ('Connecticut', 'Fairfield', 24.0), ('Florida', 'Broward', 8.0), ('Florida', 'Duval', 11.0), ('Florida', 'Duval', 18.0), ('Florida', 'Hillsborough', 15.0), ('Florida', 'Hillsborough', 17.0), ('Florida', 'Orange', 9.0), ('Florida', 'Palm Beach', 18.0), ('Florida', 'Pinellas', 7.0), ('Florida', 'Sarasota', 7.0), ('Hawaii', 'Honolulu', 7.0), ('Illinois', 'Cook', 9.0), ('Indiana', 'St. Joseph', 17.0), ('Kansas', 'Sedgwick', 9.0), ('Maryland', 'Baltimore', 15.0), ('Michigan', 'Wayne', 7.0), ('Missouri', 'St. Louis City', 6.0), ('Montana', 'Missoula', 19.0), ('Nebraska', 'Douglas', 8.0), ('Nebraska', 'Lancaster', 23.0), ('New Jersey', 'Burlington', 45.0), ('New Jersey', 'Camden', 18.0), ('New Jersey', 'Morris', 17.0), ('New Mexico', 'Bernalillo', 54.0), ('New Mexico', 'Bernalillo', 10.0), ('New Mexico', 'Bernalillo', 16.0), ('New York', 'New York', 39.0), ('New York', 'Niagara', 6.0), ('North Carolina', 'Forsyth', 8.0), ('Ohio', 'Cuyahoga', 17.0), ('Ohio', 'Cuyahoga', 14.0), ('Ohio', 'Cuyahoga', 14.0), ('Ohio', 'Cuyahoga', 13.0), ('Ohio', 'Summit', 18.0), ('Oregon', 'Lane', 9.0), ('Pennsylvania', 'Allegheny', 9.0), ('Pennsylvania', 'Allegheny', 22.0), ('Pennsylvania', 'Lackawanna', 11.0), ('Pennsylvania', 'Schuylkill', 9.0), ('Tennessee', 'Knox', 39.0), ('Texas', 'El Paso', 40.0), ('Texas', 'El Paso', 30.0), ('Texas', 'Harris', 11.0), ('Texas', 'Harris', 16.0), ('Texas', 'Tarrant', 10.0), ('Utah', 'Salt Lake', 9.0), ('Utah', 'Utah', 38.0), ('Utah', 'Utah', 16.0), ('Virginia', 'Fairfax', 47.0), ('Virginia', 'Fairfax', 9.0), ('West Virginia', 'Brooke', 6.0), ('West Virginia', 'Hancock', 5.0), ('Arizona', 'Maricopa', 33.0), ('California', 'El Dorado', 18.0), ('California', 'Los Angeles', 17.0), ('California', 'Los Angeles', 24.0), ('California', 'Marin', 8.0), ('California', 'Monterey', 7.0), ('California', 'Monterey', 1.0), ('California', 'Napa', 10.0), ('California', 'Placer', 16.0), ('California', 'San Bernardino', 6.0), ('California', 'San Diego', 6.0), ('California', 'San Francisco', 20.0), ('California', 'San Luis Obispo', 6.0), ('California', 'Sutter', 28.0), ('California', 'Tulare', 8.0), ('California', 'Ventura', 19.0), ('Colorado', 'Denver', 19.0), ('Colorado', 'El Paso', 36.0), ('Colorado', 'El Paso', 24.0), ('Colorado', 'El Paso', 5.0), ('Colorado', 'El Paso', 20.0), ('Connecticut', 'Fairfield', 10.0), ('District Of Columbia', 'District of Columbia', 7.0), ('Florida', 'Broward', 15.0), ('Florida', 'Broward', 8.0), ('Florida', 'Duval', 6.0), ('Florida', 'Miami-Dade', 7.0), ('Florida', 'Pinellas', 15.0), ('Georgia', 'Fulton', 25.0), ('Hawaii', 'Honolulu', 6.0), ('Illinois', 'Cook', 19.0), ('Illinois', 'Peoria', 40.0), ('Indiana', 'Allen', 19.0), ('Indiana', 'Allen', 9.0), ('Indiana', 'St. Joseph', 20.0), ('Indiana', 'Vigo', 14.0), ('Kansas', 'Sherman', 0.0), ('Kentucky', 'Jefferson', 7.0), ('Kentucky', 'McCracken', 6.0), ('Minnesota', 'Hennepin', 13.0), ('Minnesota', 'Stearns', 22.0), ('Missouri', 'Saint Louis', 8.0), ('Missouri', 'Taney', 9.0), ('Nebraska', 'Douglas', 50.0), ('Nevada', 'Douglas', 8.0), ('Nevada', 'Washoe', 13.0), ('New Jersey', 'Bergen', 11.0), ('New Jersey', 'Camden', 8.0), ('New Jersey', 'Hudson', 30.0), ('New Mexico', 'Dona Ana', 11.0), ('New Mexico', 'Sandoval', 6.0), ('North Carolina', 'Chatham', 5.0), ('North Carolina', 'Cumberland', 10.0), ('North Carolina', 'Forsyth', 6.0), ('North Carolina', 'Forsyth', 6.0), ('North Carolina', 'Mecklenburg', 30.0), ('Ohio', 'Hamilton', 9.0), ('Ohio', 'Stark', 13.0), ('Oklahoma', 'Comanche', 13.0), ('Pennsylvania', 'Allegheny', 8.0), ('Pennsylvania', 'Beaver', 7.0), ('Pennsylvania', 'Cambria', 23.0), ('Pennsylvania', 'Schuylkill', 6.0), ('Tennessee', 'Davidson', 18.0), ('Texas', 'Harris', 9.0), ('Texas', 'Harris', 34.0), ('Texas', 'Tarrant', 5.0), ('Vermont', 'Chittenden', 3.0), ('Virginia', 'Fairfax', 6.0), ('Virginia', 'Newport News City', 11.0), ('Washington', 'King', 45.0), ('Washington', 'King', 35.0), ('Washington', 'Thurston', 32.0), ('Wisconsin', 'Milwaukee', 2.0), ('Wisconsin', 'Milwaukee', 7.0), ('Country Of Mexico', 'CHIHUAHUA STATE', 13.0), ('Alabama', 'Montgomery', 0.0), ('Arizona', 'Maricopa', 30.0), ('California', 'Fresno', 23.0), ('California', 'Kern', 8.0), ('California', 'Los Angeles', 20.0), ('California', 'Monterey', 6.0), ('California', 'Orange', 47.0), ('California', 'Orange', 3.0), ('California', 'Placer', 10.0), ('California', 'Sacramento', 7.0), ('California', 'Sacramento', 5.0), ('California', 'San Bernardino', 2.0), ('California', 'San Bernardino', 10.0), ('California', 'San Francisco', 8.0), ('California', 'San Joaquin', 3.0), ('California', 'San Joaquin', 5.0), ('California', 'Santa Clara', 10.0), ('Colorado', 'Larimer', 16.0), ('District Of Columbia', 'District of Columbia', 22.0), ('District Of Columbia', 'District of Columbia', 13.0), ('Florida', 'Broward', 15.0), ('Florida', 'Duval', 10.0), ('Florida', 'Pinellas', 20.0), ('Florida', 'Sarasota', 36.0), ('Hawaii', 'Honolulu', 11.0), ('Illinois', 'Cook', 10.0), ('Illinois', 'Cook', 11.0), ('Illinois', 'Madison', 17.0), ('Illinois', 'Madison', 14.0), ('Illinois', 'Will', 1.0), ('Kentucky', 'Jefferson', 16.0), ('Kentucky', 'Kenton', 17.0), ('Louisiana', 'East Baton Rouge', 32.0), ('Louisiana', 'East Baton Rouge', 49.0), ('Missouri', 'Jackson', 2.0), ('Nevada', 'Clark', 15.0), ('Nevada', 'Washoe', 32.0), ('New Jersey', 'Middlesex', 25.0), ('New Jersey', 'Union', 49.0), ('New Mexico', 'Bernalillo', 6.0), ('New York', 'Nassau', 23.0), ('North Carolina', 'Forsyth', 19.0), ('North Carolina', 'Gaston', 19.0), ('North Carolina', 'Wake', 32.0), ('Ohio', 'Franklin', 13.0), ('Ohio', 'Lake', 20.0), ('Ohio', 'Stark', 10.0), ('Pennsylvania', 'Dauphin', 16.0), ('Pennsylvania', 'Dauphin', 14.0), ('Pennsylvania', 'Philadelphia', 24.0), ('Texas', 'El Paso', 40.0), ('Texas', 'El Paso', 15.0), ('Texas', 'Harris', 9.0), ('Texas', 'Harris', 11.0), ('Texas', 'Tarrant', 15.0), ('Texas', 'Travis', 11.0), ('Utah', 'Salt Lake', 13.0), ('Utah', 'Utah', 40.0), ('Vermont', 'Chittenden', 49.0), ('Virginia', 'Fairfax', 8.0), ('Virginia', 'Richmond City', 8.0), ('Washington', 'King', 25.0), ('Washington', 'King', 13.0), ('Washington', 'Snohomish', 40.0), ('Washington', 'Spokane', 19.0), ('West Virginia', 'Ohio', 16.0), ('Wisconsin', 'Milwaukee', 3.0), ('Country Of Mexico', 'BAJA CALIFORNIA NORTE', 14.0), ('Alaska', 'Fairbanks North Star ', 23.0), ('Arizona', 'Maricopa', 22.0), ('Arizona', 'Maricopa', 11.0), ('California', 'Alameda', 15.0), ('California', 'Calaveras', 3.0), ('California', 'Contra Costa', 13.0), ('California', 'Fresno', 15.0), ('California', 'Los Angeles', 59.0), ('California', 'Orange', 16.0), ('California', 'Sacramento', 20.0), ('California', 'Sacramento', 5.0), ('California', 'San Diego', 24.0), ('California', 'San Diego', 6.0), ('California', 'San Francisco', 16.0), ('California', 'San Francisco', 16.0), ('California', 'Santa Barbara', 2.0), ('California', 'Sutter', 5.0), ('California', 'Tulare', 17.0), ('Colorado', 'Denver', 25.0), ('Colorado', 'Weld', 28.0), ('Colorado', 'Weld', 16.0), ('Colorado', 'Weld', 13.0), ('Florida', 'Sarasota', 15.0), ('Hawaii', 'Honolulu', 2.0), ('Hawaii', 'Honolulu', 13.0), ('Iowa', 'Linn', 9.0), ('Kentucky', 'Bell', 11.0), ('Kentucky', 'Jefferson', 10.0), ('Massachusetts', 'Hampden', 11.0), ('Michigan', 'Oakland', 11.0), ('Missouri', 'Saint Louis', 11.0), ('Missouri', 'Saint Louis', 6.0), ('Missouri', 'Saint Louis', 10.0), ('Missouri', 'Saint Louis', 6.0), ('Nevada', 'Clark', 6.0), ('Nevada', 'Clark', 19.0), ('New Jersey', 'Essex', 11.0), ('New Jersey', 'Essex', 13.0), ('New Mexico', 'Bernalillo', 6.0), ('New York', 'Monroe', 9.0), ('North Carolina', 'Forsyth', 9.0), ('North Carolina', 'Mecklenburg', 10.0), ('North Carolina', 'Mecklenburg', 36.0), ('Ohio', 'Cuyahoga', 8.0), ('Ohio', 'Montgomery', 6.0), ('Ohio', 'Stark', 7.0), ('Oklahoma', 'Comanche', 8.0), ('Oklahoma', 'Oklahoma', 30.0), ('Oregon', 'Jackson', 24.0), ('Oregon', 'Multnomah', 23.0), ('Pennsylvania', 'Allegheny', 15.0), ('Pennsylvania', 'Erie', 6.0), ('Pennsylvania', 'Monroe', 1.0), ('Pennsylvania', 'Washington', 2.0), ('Pennsylvania', 'Washington', 0.0), ('Pennsylvania', 'Westmoreland', 1.0), ('Tennessee', 'Davidson', 24.0), ('Tennessee', 'Davidson', 28.0), ('Tennessee', 'Shelby', 9.0), ('Tennessee', 'Shelby', 9.0), ('Texas', 'Bexar', 11.0), ('Texas', 'Webb', 10.0), ('Utah', 'Salt Lake', 15.0), ('Vermont', 'Rutland', 15.0), ('Virginia', 'Alexandria City', 6.0), ('Virginia', 'Richmond City', 0.0), ('Washington', 'Clark', 15.0), ('Washington', 'Clark', 15.0), ('Washington', 'Spokane', 13.0), ('Wisconsin', 'Milwaukee', 5.0), ('Wisconsin', 'Milwaukee', 13.0), ('Wisconsin', 'Milwaukee', 10.0), ('Puerto Rico', 'San Juan', 18.0), ('Country Of Mexico', 'BAJA CALIFORNIA NORTE', 36.0), ('Alaska', 'Anchorage ', 39.0), ('Arizona', 'Maricopa', 7.0), ('Arizona', 'Maricopa', 31.0), ('California', 'Alameda', 5.0), ('California', 'Alameda', 11.0), ('California', 'El Dorado', 23.0), ('California', 'Los Angeles', 13.0), ('California', 'Los Angeles', 20.0), ('California', 'Mendocino', 8.0), ('California', 'Sonoma', 17.0), ('Colorado', 'Boulder', 7.0), ('Colorado', 'Denver', 30.0), ('Colorado', 'El Paso', 11.0), ('Florida', 'Hillsborough', 20.0), ('Florida', 'Hillsborough', 11.0), ('Florida', 'Orange', 17.0), ('Florida', 'Palm Beach', 17.0), ('Illinois', 'Cook', 10.0), ('Illinois', 'Will', 2.0), ('Indiana', 'Marion', 19.0), ('Iowa', 'Polk', 11.0), ('Maryland', 'Baltimore (City)', 18.0), ('Massachusetts', 'Hampden', 7.0), ('Massachusetts', 'Suffolk', 24.0), ('Massachusetts', 'Worcester', 24.0), ('Minnesota', 'Ramsey', 10.0), ('Missouri', 'Greene', 11.0), ('Missouri', 'Jackson', 8.0), ('Missouri', 'St. Louis City', 15.0), ('Montana', 'Flathead', 28.0), ('Nebraska', 'Douglas', 3.0), ('Nevada', 'Clark', 16.0), ('Nevada', 'Clark', 28.0), ('Nevada', 'Douglas', 14.0), ('Nevada', 'Washoe', 7.0), ('New Jersey', 'Union', 35.0), ('New Mexico', 'Bernalillo', 10.0), ('New Mexico', 'Bernalillo', 26.0), ('New York', 'Erie', 5.0), ('New York', 'Monroe', 1.0), ('New York', 'New York', 13.0), ('New York', 'Niagara', 5.0), ('North Carolina', 'Durham', 16.0), ('North Carolina', 'Durham', 18.0), ('Ohio', 'Summit', 11.0), ('Oklahoma', 'Cleveland', 16.0), ('Oklahoma', 'Oklahoma', 13.0), ('Oregon', 'Deschutes', 34.0), ('Pennsylvania', 'Bucks', 5.0), ('Pennsylvania', 'Lackawanna', 0.0), ('Pennsylvania', 'Philadelphia', 11.0), ('Tennessee', 'Davidson', 10.0), ('Tennessee', 'Shelby', 15.0), ('Texas', 'Bexar', 14.0), ('Texas', 'Dallas', 6.0), ('Texas', 'El Paso', 10.0), ('Texas', 'El Paso', 15.0), ('Utah', 'Salt Lake', 25.0), ('Vermont', 'Chittenden', 3.0), ('Virginia', 'Fairfax', 9.0), ('Washington', 'Spokane', 20.0), ('Wisconsin', 'Milwaukee', 2.0), ('Wisconsin', 'Waukesha', 3.0), ('Puerto Rico', 'San Juan', 17.0), ('Country Of Mexico', 'BAJA CALIFORNIA NORTE', 14.0), ('Country Of Mexico', 'CHIHUAHUA STATE', 34.0), ('Alabama', 'Jefferson', 5.0), ('Arizona', 'Maricopa', 18.0), ('Arizona', 'Maricopa', 66.0), ('Arizona', 'Maricopa', 22.0), ('Arizona', 'Maricopa', 25.0), ('California', 'El Dorado', 6.0), ('California', 'Los Angeles', 14.0), ('California', 'Los Angeles', 28.0), ('California', 'Los Angeles', 16.0), ('California', 'Orange', 10.0), ('California', 'Orange', 47.0), ('California', 'Sacramento', 14.0), ('California', 'San Diego', 39.0), ('California', 'Santa Barbara', 2.0), ('California', 'Santa Barbara', 2.0), ('California', 'Santa Clara', 36.0), ('California', 'Solano', 14.0), ('California', 'Yolo', 6.0), ('Colorado', 'Boulder', 16.0), ('Colorado', 'Boulder', 14.0), ('Colorado', 'El Paso', 5.0), ('Colorado', 'El Paso', 28.0), ('Florida', 'Broward', 8.0), ('Florida', 'Sarasota', 11.0), ('Florida', 'Sarasota', 39.0), ('Hawaii', 'Honolulu', 11.0), ('Hawaii', 'Honolulu', 14.0), ('Hawaii', 'Honolulu', 17.0), ('Illinois', 'Will', 3.0), ('Kentucky', 'Fayette', 1.0), ('Massachusetts', 'Worcester', 6.0), ('Michigan', 'Wayne', 7.0), ('Minnesota', 'Anoka', 5.0), ('Minnesota', 'Dakota', 3.0), ('Minnesota', 'Saint Louis', 9.0), ('Missouri', 'Jackson', 8.0), ('Missouri', 'Saint Louis', 7.0), ('Missouri', 'Saint Louis', 2.0), ('Nebraska', 'Douglas', 8.0), ('Nebraska', 'Lancaster', 14.0), ('Nebraska', 'Lancaster', 8.0), ('Nevada', 'Clark', 0.0), ('Nevada', 'Clark', 15.0), ('Nevada', 'Carson City', 13.0), ('New Jersey', 'Monmouth', 19.0), ('New Mexico', 'Bernalillo', 20.0), ('New Mexico', 'Dona Ana', 30.0), ('New York', 'Erie', 9.0), ('New York', 'Nassau', 6.0), ('New York', 'New York', 10.0), ('New York', 'Queens', 7.0), ('North Carolina', 'Mecklenburg', 13.0), ('Ohio', 'Jefferson', 13.0), ('Ohio', 'Montgomery', 5.0), ('Oklahoma', 'Comanche', 3.0), ('Oklahoma', 'Oklahoma', 9.0), ('Pennsylvania', 'Allegheny', 3.0), ('Pennsylvania', 'Lawrence', 14.0), ('Pennsylvania', 'Lehigh', 2.0), ('Pennsylvania', 'Washington', 1.0), ('Pennsylvania', 'Westmoreland', 0.0), ('Pennsylvania', 'Westmoreland', 1.0), ('Pennsylvania', 'York', 1.0), ('Tennessee', 'Davidson', 8.0), ('Tennessee', 'Shelby', 3.0), ('Tennessee', 'Shelby', 23.0), ('Tennessee', 'Sullivan', 13.0), ('Texas', 'Bexar', 7.0), ('Texas', 'El Paso', 6.0), ('Texas', 'Webb', 18.0), ('Utah', 'Weber', 7.0), ('Virginia', 'Fairfax', 3.0), ('Virginia', 'Norfolk City', 14.0), ('Washington', 'King', 25.0), ('West Virginia', 'Hancock', 11.0), ('Wisconsin', 'Waukesha', 2.0), ('Country Of Mexico', 'BAJA CALIFORNIA NORTE', 17.0), ('Alabama', 'Jefferson', 17.0), ('Alabama', 'Jefferson', 6.0), ('Alaska', 'Anchorage ', 19.0), ('Alaska', 'Anchorage ', 18.0), ('Arizona', 'Maricopa', 22.0), ('California', 'Alameda', 6.0), ('California', 'Contra Costa', 8.0), ('California', 'El Dorado', 1.0), ('California', 'Imperial', 13.0), ('California', 'Los Angeles', 9.0), ('California', 'Los Angeles', 17.0), ('California', 'Orange', 5.0), ('California', 'Riverside', 7.0), ('California', 'Riverside', 8.0), ('California', 'San Diego', 6.0), ('California', 'Tulare', 10.0), ('California', 'Tulare', 5.0), ('California', 'Ventura', 5.0), ('California', 'Ventura', 2.0), ('Colorado', 'Boulder', 10.0), ('Colorado', 'Larimer', 18.0), ('Connecticut', 'Fairfield', 13.0), ('Connecticut', 'Hartford', 26.0), ('Florida', 'Broward', 11.0), ('Florida', 'Palm Beach', 3.0), ('Florida', 'Pinellas', 7.0), ('Florida', 'Sarasota', 22.0), ('Illinois', 'Cook', 7.0), ('Illinois', 'Cook', 24.0), ('Indiana', 'Allen', 11.0), ('Iowa', 'Polk', 18.0), ('Kentucky', 'McCracken', 0.0), ('Louisiana', 'East Baton Rouge', 9.0), ('Massachusetts', 'Hampden', 7.0), ('Massachusetts', 'Hampden', 8.0), ('Massachusetts', 'Worcester', 9.0), ('Michigan', 'Kent', 3.0), ('Michigan', 'Wayne', 11.0), ('Michigan', 'Wayne', 5.0), ('Missouri', 'Jackson', 6.0), ('Montana', 'Flathead', 9.0), ('Montana', 'Missoula', 11.0), ('Nebraska', 'Douglas', 18.0), ('Nevada', 'Clark', 0.0), ('Nevada', 'Clark', 0.0), ('Nevada', 'Clark', 18.0), ('Nevada', 'Washoe', 6.0), ('Nevada', 'Washoe', 24.0), ('New Jersey', 'Bergen', 24.0), ('New Jersey', 'Camden', 5.0), ('New Jersey', 'Camden', 2.0), ('New Jersey', 'Essex', 6.0), ('New Jersey', 'Middlesex', 11.0), ('New Jersey', 'Union', 15.0), ('New Mexico', 'Dona Ana', 14.0), ('North Carolina', 'Mecklenburg', 7.0), ('Ohio', 'Hamilton', 18.0), ('Ohio', 'Summit', 15.0), ('Oklahoma', 'Tulsa', 6.0), ('Oregon', 'Multnomah', 24.0), ('Oregon', 'Multnomah', 15.0), ('Pennsylvania', 'Allegheny', 5.0), ('Pennsylvania', 'Bucks', 9.0), ('Pennsylvania', 'Philadelphia', 8.0), ('Texas', 'Bexar', 8.0), ('Texas', 'El Paso', 1.0), ('Texas', 'El Paso', 7.0), ('Texas', 'El Paso', 2.0), ('Texas', 'El Paso', 8.0), ('Texas', 'Harris', 3.0), ('Texas', 'Harris', 3.0), ('Texas', 'Webb', 6.0), ('Utah', 'Salt Lake', 15.0), ('Utah', 'Utah', 14.0), ('Utah', 'Utah', 36.0), ('Virginia', 'Hampton City', 11.0), ('Virginia', 'Richmond City', 7.0), ('Virginia', 'Richmond City', 11.0), ('Washington', 'King', 15.0), ('Washington', 'King', 24.0), ('Washington', 'King', 26.0), ('Washington', 'Pierce', 14.0), ('Washington', 'Spokane', 16.0), ('Washington', 'Thurston', 18.0), ('West Virginia', 'Brooke', 7.0), ('West Virginia', 'Brooke', 3.0), ('West Virginia', 'Ohio', 7.0), ('Wisconsin', 'Racine', 7.0), ('Wisconsin', 'Waukesha', 3.0), ('Country Of Mexico', 'BAJA CALIFORNIA NORTE', 10.0), ('Country Of Mexico', 'BAJA CALIFORNIA NORTE', 33.0), ('Country Of Mexico', 'CHIHUAHUA STATE', 6.0), ('Arizona', 'Maricopa', 45.0), ('California', 'Fresno', 9.0), ('California', 'Los Angeles', 14.0), ('California', 'Mendocino', 17.0), ('California', 'Sacramento', 5.0), ('California', 'Sacramento', 5.0), ('California', 'San Bernardino', 3.0), ('California', 'Ventura', 5.0), ('Colorado', 'Denver', 19.0), ('Colorado', 'Jefferson', 8.0), ('Colorado', 'Mesa', 28.0), ('Connecticut', 'Fairfield', 8.0), ('Connecticut', 'Fairfield', 13.0), ('Connecticut', 'Hartford', 61.0), ('Connecticut', 'New Haven', 9.0), ('District Of Columbia', 'District of Columbia', 16.0), ('District Of Columbia', 'District of Columbia', 14.0), ('Florida', 'Broward', 8.0), ('Florida', 'Hillsborough', 7.0), ('Florida', 'Miami-Dade', 16.0), ('Florida', 'Palm Beach', 3.0), ('Hawaii', 'Honolulu', 3.0), ('Illinois', 'Cook', 32.0), ('Illinois', 'Sangamon', 10.0), ('Illinois', 'Winnebago', 17.0), ('Indiana', 'Marion', 16.0), ('Kansas', 'Linn', 10.0), ('Kentucky', 'Fayette', 3.0), ('Kentucky', 'Fayette', 1.0), ('Kentucky', 'Jefferson', 23.0), ('Kentucky', 'Jefferson', 20.0), ('Louisiana', 'East Baton Rouge', 50.0), ('Massachusetts', 'Hampden', 34.0), ('Massachusetts', 'Suffolk', 7.0), ('Michigan', 'Wayne', 9.0), ('Minnesota', 'Ramsey', 14.0), ('Minnesota', 'Saint Louis', 17.0), ('Minnesota', 'Stearns', 13.0), ('Missouri', 'Saint Louis', 3.0), ('Nebraska', 'Lancaster', 18.0), ('Nevada', 'Clark', 1.0), ('Nevada', 'Clark', 7.0), ('Nevada', 'Washoe', 10.0), ('Nevada', 'Washoe', 17.0), ('Nevada', 'Carson City', 11.0), ('New Jersey', 'Burlington', 8.0), ('New Mexico', 'Dona Ana', 3.0), ('New Mexico', 'Santa Fe', 10.0), ('New York', 'Kings', 7.0), ('New York', 'Nassau', 6.0), ('New York', 'Nassau', 7.0), ('New York', 'Onondaga', 16.0), ('North Carolina', 'Durham', 5.0), ('North Carolina', 'Forsyth', 18.0), ('North Carolina', 'Mecklenburg', 16.0), ('North Carolina', 'Wake', 8.0), ('Ohio', 'Cuyahoga', 13.0), ('Ohio', 'Montgomery', 6.0), ('Oklahoma', 'Tulsa', 9.0), ('Oregon', 'Jackson', 38.0), ('Oregon', 'Lane', 25.0), ('Oregon', 'Multnomah', 7.0), ('Pennsylvania', 'Allegheny', 10.0), ('Pennsylvania', 'Allegheny', 15.0), ('Pennsylvania', 'Beaver', 6.0), ('Pennsylvania', 'Erie', 7.0), ('Pennsylvania', 'Lackawanna', 5.0), ('Pennsylvania', 'Montgomery', 3.0), ('Tennessee', 'Shelby', 11.0), ('Tennessee', 'Shelby', 10.0), ('Texas', 'El Paso', 5.0), ('Virginia', 'Norfolk City', 14.0), ('Washington', 'King', 8.0), ('Washington', 'Spokane', 32.0), ('Wisconsin', 'Milwaukee', 7.0), ('Alabama', 'Jefferson', 17.0), ('Alaska', 'Fairbanks North Star ', 24.0), ('Alaska', 'Fairbanks North Star ', 19.0), ('Arizona', 'Pima', 7.0), ('California', 'Alameda', 20.0), ('California', 'Contra Costa', 8.0), ('California', 'Imperial', 3.0), ('California', 'Kern', 2.0), ('California', 'Los Angeles', 2.0), ('California', 'Los Angeles', 24.0), ('California', 'Los Angeles', 14.0), ('California', 'Marin', 16.0), ('California', 'Placer', 6.0), ('California', 'Riverside', 11.0), ('California', 'San Diego', 10.0), ('California', 'San Diego', 32.0), ('California', 'San Joaquin', 6.0), ('California', 'Santa Barbara', 5.0), ('California', 'Santa Barbara', 3.0), ('California', 'Sutter', 5.0), ('Colorado', 'Denver', 9.0), ('Colorado', 'Jefferson', 3.0), ('Connecticut', 'Hartford', 18.0), ('Florida', 'Broward', 11.0), ('Florida', 'Broward', 8.0), ('Florida', 'Duval', 8.0), ('Florida', 'Duval', 6.0), ('Illinois', 'Saint Clair', 14.0), ('Kentucky', 'Boyd', 9.0), ('Maryland', 'Baltimore', 5.0), ('Massachusetts', 'Middlesex', 10.0), ('Massachusetts', 'Suffolk', 10.0), ('Michigan', 'Kent', 5.0), ('Minnesota', 'Dakota', 6.0), ('Minnesota', 'Ramsey', 3.0), ('Minnesota', 'Saint Louis', 8.0), ('Nevada', 'Clark', 7.0), ('Nevada', 'Clark', 0.0), ('Nevada', 'Washoe', 22.0), ('New Jersey', 'Hudson', 19.0), ('New Mexico', 'Bernalillo', 33.0), ('New Mexico', 'Bernalillo', 22.0), ('New Mexico', 'Bernalillo', 1.0), ('New York', 'Monroe', 15.0), ('New York', 'Onondaga', 8.0), ('New York', 'Queens', 9.0), ('North Carolina', 'Forsyth', 10.0), ('North Carolina', 'Forsyth', 13.0), ('North Carolina', 'Mecklenburg', 10.0), ('Ohio', 'Cuyahoga', 1.0), ('Ohio', 'Hamilton', 2.0), ('Ohio', 'Jefferson', 24.0), ('Ohio', 'Summit', 6.0), ('Ohio', 'Summit', 8.0), ('Oregon', 'Jackson', 24.0), ('Pennsylvania', 'Bucks', 1.0), ('Pennsylvania', 'Cambria', 11.0), ('Pennsylvania', 'Cambria', 7.0), ('Pennsylvania', 'Philadelphia', 7.0), ('Pennsylvania', 'Washington', 1.0), ('Texas', 'Tarrant', 6.0), ('Texas', 'Webb', 6.0), ('Utah', 'Salt Lake', 8.0), ('Virginia', 'Fairfax', 6.0), ('Virginia', 'Alexandria City', 10.0), ('Virginia', 'Richmond City', 5.0), ('Virginia', 'Roanoke City', 10.0), ('Washington', 'King', 9.0), ('West Virginia', 'Hancock', 17.0), ('Puerto Rico', 'San Juan', 34.0), ('Puerto Rico', 'San Juan', 16.0), ('Puerto Rico', 'San Juan', 7.0), ('Country Of Mexico', 'BAJA CALIFORNIA NORTE', 5.0), ('Alaska', 'Anchorage ', 15.0), ('Alaska', 'Fairbanks North Star ', 5.0), ('Arizona', 'Maricopa', 17.0), ('Arizona', 'Maricopa', 5.0), ('Arizona', 'Pima', 5.0), ('California', 'Alameda', 5.0), ('California', 'Butte', 11.0), ('California', 'Contra Costa', 6.0), ('California', 'Fresno', 10.0), ('California', 'Fresno', 3.0), ('California', 'Orange', 6.0), ('California', 'Sacramento', 9.0), ('California', 'San Bernardino', 6.0), ('California', 'San Bernardino', 17.0), ('California', 'San Mateo', 9.0), ('California', 'Santa Barbara', 3.0), ('California', 'Solano', 5.0), ('California', 'Stanislaus', 6.0), ('Colorado', 'Jefferson', 5.0), ('Colorado', 'La Plata', 5.0), ('District Of Columbia', 'District of Columbia', 31.0), ('Florida', 'Orange', 2.0), ('Florida', 'Sarasota', 20.0), ('Illinois', 'Peoria', 9.0), ('Illinois', 'Saint Clair', 9.0), ('Illinois', 'Winnebago', 8.0), ('Indiana', 'Hendricks', 10.0), ('Indiana', 'Marion', 9.0), ('Kansas', 'Sedgwick', 18.0), ('Massachusetts', 'Worcester', 9.0), ('Michigan', 'Oakland', 7.0), ('Minnesota', 'Anoka', 2.0), ('Minnesota', 'Stearns', 8.0), ('Missouri', 'Greene', 24.0), ('Montana', 'Cascade', 7.0), ('Montana', 'Flathead', 13.0), ('Nevada', 'Clark', 16.0), ('Nevada', 'Clark', 26.0), ('Nevada', 'Washoe', 25.0), ('New Jersey', 'Camden', 3.0), ('New Jersey', 'Camden', 3.0), ('New Jersey', 'Monmouth', 8.0), ('New Mexico', 'Bernalillo', 2.0), ('Ohio', 'Cuyahoga', 9.0), ('Oklahoma', 'Oklahoma', 7.0), ('Pennsylvania', 'Allegheny', 7.0), ('Pennsylvania', 'Allegheny', 2.0), ('Pennsylvania', 'Bucks', 17.0), ('Pennsylvania', 'Philadelphia', 2.0), ('Pennsylvania', 'Washington', 3.0), ('Texas', 'El Paso', 5.0), ('Texas', 'El Paso', 6.0), ('Virginia', 'Roanoke City', 13.0), ('Washington', 'King', 11.0), ('Washington', 'Spokane', 16.0), ('West Virginia', 'Hancock', 3.0), ('Puerto Rico', 'San Juan', 17.0), ('Puerto Rico', 'San Juan', 19.0), ('Country Of Mexico', 'BAJA CALIFORNIA NORTE', 60.0), ('Country Of Mexico', 'BAJA CALIFORNIA NORTE', 28.0), ('Country Of Mexico', 'BAJA CALIFORNIA NORTE', 0.0), ('Alabama', 'Jefferson', 0.0), ('Arizona', 'Maricopa', 25.0), ('Arizona', 'Maricopa', 8.0), ('Arizona', 'Maricopa', 8.0), ('Arizona', 'Pima', 11.0), ('Arizona', 'Pima', 22.0), ('California', 'Contra Costa', 3.0), ('California', 'Imperial', 26.0), ('California', 'Imperial', 0.0), ('California', 'Los Angeles', 5.0), ('California', 'Los Angeles', 3.0), ('California', 'Los Angeles', 3.0), ('California', 'Los Angeles', 7.0), ('California', 'Riverside', 7.0), ('California', 'San Diego', 9.0), ('California', 'San Francisco', 10.0), ('California', 'Santa Cruz', 3.0), ('Colorado', 'Adams', 14.0), ('Colorado', 'Adams', 11.0), ('Connecticut', 'Fairfield', 7.0), ('Florida', 'Sarasota', 15.0), ('Illinois', 'Cook', 24.0), ('Illinois', 'Winnebago', 13.0), ('Indiana', 'Hendricks', 8.0), ('Iowa', 'Linn', 1.0), ('Kansas', 'Sedgwick', 8.0), ('Massachusetts', 'Hampden', 8.0), ('Massachusetts', 'Middlesex', 8.0), ('Minnesota', 'Dakota', 3.0), ('Montana', 'Flathead', 16.0), ('Nevada', 'Washoe', 17.0), ('Nevada', 'Washoe', 5.0), ('New York', 'Monroe', 8.0), ('North Carolina', 'Forsyth', 5.0), ('Ohio', 'Jefferson', 10.0), ('Ohio', 'Stark', 7.0), ('Oregon', 'Lane', 8.0), ('Pennsylvania', 'Adams', 3.0), ('Pennsylvania', 'Berks', 8.0), ('Texas', 'El Paso', 14.0), ('Texas', 'El Paso', 5.0), ('Texas', 'El Paso', 9.0), ('Texas', 'Harris', 10.0), ('Virginia', 'Fairfax', 8.0), ('Virginia', 'Richmond City', 6.0), ('Washington', 'Pierce', 3.0), ('Country Of Mexico', 'BAJA CALIFORNIA NORTE', 13.0), ('Country Of Mexico', 'BAJA CALIFORNIA NORTE', 8.0), ('Alaska', 'Anchorage ', 15.0), ('Arizona', 'Maricopa', 11.0), ('Arizona', 'Maricopa', 9.0), ('Arizona', 'Maricopa', 22.0), ('Arizona', 'Pima', 13.0), ('California', 'Contra Costa', 5.0), ('California', 'Los Angeles', 6.0), ('California', 'Monterey', 7.0), ('California', 'Sacramento', 9.0), ('Colorado', 'Larimer', 7.0), ('Connecticut', 'Fairfield', 14.0), ('Connecticut', 'Hartford', 6.0), ('Connecticut', 'New Haven', 7.0), ('District Of Columbia', 'District of Columbia', 22.0), ('Florida', 'Duval', 16.0), ('Florida', 'Miami-Dade', 7.0), ('Florida', 'Miami-Dade', 18.0), ('Florida', 'Miami-Dade', 8.0), ('Florida', 'Orange', 10.0), ('Florida', 'Orange', 6.0), ('Florida', 'Pinellas', 7.0), ('Florida', 'Sarasota', 19.0), ('Georgia', 'DeKalb', 7.0), ('Georgia', 'Paulding', 5.0), ('Illinois', 'Sangamon', 10.0), ('Illinois', 'Winnebago', 6.0), ('Iowa', 'Polk', 9.0), ('Kansas', 'Linn', 2.0), ('Kansas', 'Sedgwick', 6.0), ('Massachusetts', 'Worcester', 6.0), ('Michigan', 'Wayne', 7.0), ('Minnesota', 'Anoka', 0.0), ('Minnesota', 'Dakota', 3.0), ('Minnesota', 'Ramsey', 15.0), ('Minnesota', 'Saint Louis', 2.0), ('Montana', 'Gallatin', 13.0), ('Montana', 'Yellowstone', 30.0), ('Nevada', 'Clark', 0.0), ('Nevada', 'Washoe', 6.0), ('New Jersey', 'Bergen', 5.0), ('New Jersey', 'Union', 7.0), ('New Mexico', 'Bernalillo', 9.0), ('New York', 'Albany', 7.0), ('New York', 'Bronx', 10.0), ('New York', 'Kings', 14.0), ('North Carolina', 'Guilford', 13.0), ('Ohio', 'Cuyahoga', 10.0), ('Ohio', 'Jefferson', 10.0), ('Ohio', 'Jefferson', 6.0), ('Ohio', 'Montgomery', 8.0), ('Oklahoma', 'Cleveland', 14.0), ('Pennsylvania', 'Beaver', 5.0), ('Pennsylvania', 'Lawrence', 15.0), ('Pennsylvania', 'Northampton', 0.0), ('Pennsylvania', 'Philadelphia', 17.0), ('Pennsylvania', 'Washington', 2.0), ('Texas', 'Bexar', 8.0), ('Texas', 'El Paso', 14.0), ('Texas', 'El Paso', 7.0), ('Texas', 'Harris', 16.0), ('Texas', 'Tarrant', 8.0), ('Virginia', 'Fairfax', 7.0), ('Puerto Rico', 'San Juan', 28.0), ('Country Of Mexico', 'CHIHUAHUA STATE', 14.0), ('Country Of Mexico', 'CHIHUAHUA STATE', 25.0), ('Texas', 'Bexar', 5.0), ('Ohio', 'Lake', 6.0), ('Texas', 'El Paso', 5.0), ('Montana', 'Gallatin', 6.0), ('California', 'Contra Costa', 6.0), ('Nevada', 'Washoe', 5.0), ('Puerto Rico', 'San Juan', 10.0), ('Illinois', 'Cook', 3.0), ('California', 'Sacramento', 3.0), ('Nevada', 'Clark', 10.0), ('Nevada', 'Clark', 13.0), ('New Jersey', 'Union', 5.0), ('Texas', 'El Paso', 8.0), ('Virginia', 'Newport News City', 2.0), ('Arizona', 'Pima', 8.0), ('California', 'Los Angeles', 23.0), ('Alabama', 'Jefferson', 9.0), ('Texas', 'Harris', 3.0), ('New Jersey', 'Union', 9.0), ('Texas', 'Harris', 2.0), ('Massachusetts', 'Worcester', 3.0), ('Massachusetts', 'Worcester', 5.0), ('Nevada', 'Washoe', 9.0), ('Country Of Mexico', 'BAJA CALIFORNIA NORTE', 2.0), ('Pennsylvania', 'Allegheny', 1.0), ('New York', 'Steuben', 2.0), ('Massachusetts', 'Essex', 5.0), ('New York', 'Erie', 2.0), ('Arizona', 'Maricopa', 8.0), ('Kansas', 'Sedgwick', 7.0), ('Texas', 'El Paso', 2.0), ('Pennsylvania', 'Lackawanna', 0.0), ('Alaska', 'Anchorage ', 8.0), ('Virginia', 'Richmond City', 2.0), ('Virginia', 'Alexandria City', 8.0), ('Arizona', 'Maricopa', 22.0), ('Arizona', 'Maricopa', 11.0), ('Arizona', 'Maricopa', 7.0), ('California', 'Alameda', 5.0), ('California', 'Alameda', 8.0), ('California', 'Humboldt', 2.0), ('California', 'Los Angeles', 5.0), ('California', 'Mendocino', 3.0), ('California', 'Orange', 6.0), ('California', 'Riverside', 7.0), ('Colorado', 'Adams', 7.0), ('Florida', 'Miami-Dade', 6.0), ('Florida', 'Miami-Dade', 17.0), ('Georgia', 'DeKalb', 2.0), ('Georgia', 'Paulding', 2.0), ('Illinois', 'Cook', 8.0), ('Illinois', 'Cook', 5.0), ('Indiana', 'Allen', 3.0), ('Iowa', 'Polk', 5.0), ('Kansas', 'Sedgwick', 3.0), ('Kentucky', 'Jefferson', 7.0), ('Maryland', 'Baltimore (City)', 8.0), ('Massachusetts', 'Middlesex', 6.0), ('Montana', 'Yellowstone', 3.0), ('Nevada', 'Clark', 15.0), ('Nevada', 'Washoe', 8.0), ('Nevada', 'Washoe', 10.0), ('Nevada', 'Washoe', 3.0), ('New Jersey', 'Bergen', 8.0), ('New Mexico', 'Bernalillo', 15.0), ('New York', 'Albany', 5.0), ('New York', 'New York', 8.0), ('North Carolina', 'Wake', 19.0), ('Ohio', 'Franklin', 5.0), ('Ohio', 'Lake', 7.0), ('Ohio', 'Summit', 6.0), ('Pennsylvania', 'Allegheny', 8.0), ('Pennsylvania', 'Blair', 5.0), ('Pennsylvania', 'Lackawanna', 2.0), ('Pennsylvania', 'Philadelphia', 8.0), ('Tennessee', 'Shelby', 10.0), ('Texas', 'Cameron', 8.0), ('Texas', 'Dallas', 0.0), ('Texas', 'El Paso', 10.0), ('Texas', 'El Paso', 27.0), ('Texas', 'Harris', 2.0), ('Texas', 'Harris', 6.0), ('Texas', 'Jefferson', 3.0), ('Virginia', 'Fairfax', 11.0), ('Virginia', 'Fairfax', 5.0), ('Virginia', 'Norfolk City', 3.0), ('Virginia', 'Richmond City', 1.0), ('Country Of Mexico', 'BAJA CALIFORNIA NORTE', 1.0), ('Country Of Mexico', 'BAJA CALIFORNIA NORTE', 3.0), ('Country Of Mexico', 'CHIHUAHUA STATE', 14.0), ('Country Of Mexico', 'CHIHUAHUA STATE', 8.0), ('Montana', 'Gallatin', 5.0), ('Alaska', 'Anchorage ', 11.0), ('Colorado', 'Denver', 7.0), ('Illinois', 'Cook', 2.0), ('Pennsylvania', 'Blair', 0.0), ('Arizona', 'Pima', 6.0), ('Ohio', 'Lake', 2.0), ('California', 'Monterey', 5.0), ('California', 'Monterey', 6.0), ('Colorado', 'Adams', 5.0), ('California', 'Orange', 6.0), ('California', 'Santa Barbara', 6.0), ('California', 'Los Angeles', 5.0), ('California', 'Solano', 5.0), ('Arizona', 'Pima', 8.0), ('California', 'Contra Costa', 2.0), ('Texas', 'El Paso', 11.0), ('Pennsylvania', 'Erie', 8.0), ('Texas', 'Bexar', 7.0), ('Arizona', 'Pima', 3.0), ('Alabama', 'Jefferson', 0.0), ('Montana', 'Yellowstone', 8.0), ('Pennsylvania', 'Beaver', 5.0), ('New Jersey', 'Hudson', 6.0), ('New Jersey', 'Camden', 1.0), ('California', 'Mendocino', 7.0), ('Kansas', 'Sedgwick', 6.0), ('Nevada', 'Washoe', 3.0), ('Nevada', 'Washoe', 13.0), ('California', 'Imperial', 13.0), ('Georgia', 'DeKalb', 8.0), ('Maryland', 'Garrett', 2.0), ('Pennsylvania', 'Westmoreland', 0.0), ('Pennsylvania', 'Allegheny', 10.0), ('Alabama', 'Jefferson', 7.0), ('California', 'San Diego', 6.0), ('Missouri', 'St. Louis City', 3.0), ('Country Of Mexico', 'BAJA CALIFORNIA NORTE', 8.0), ('Georgia', 'Paulding', 3.0), ('Missouri', 'Saint Louis', 3.0), ('Massachusetts', 'Worcester', 6.0), ('California', 'Sonoma', 3.0), ('Colorado', 'Denver', 6.0), ('Texas', 'Tarrant', 9.0), ('Colorado', 'Weld', 7.0), ('Ohio', 'Franklin', 3.0), ('Texas', 'Harris', 5.0), ('California', 'San Francisco', 6.0), ('Ohio', 'Summit', 3.0), ('Texas', 'Webb', 8.0), ('Arizona', 'Pima', 3.0), ('California', 'Humboldt', 3.0), ('New Mexico', 'Bernalillo', 9.0), ('Virginia', 'Arlington', 2.0), ('Virginia', 'Arlington', 2.0), ('Louisiana', 'East Baton Rouge', 10.0), ('California', 'Riverside', 2.0), ('Virginia', 'Virginia Beach City', 3.0), ('Virginia', 'Virginia Beach City', 5.0), ('California', 'Los Angeles', 10.0), ('California', 'San Bernardino', 7.0), ('Arizona', 'Maricopa', 5.0), ('Texas', 'El Paso', 5.0), ('Michigan', 'Kent', 3.0), ('Nevada', 'Douglas', 0.0), ('California', 'Fresno', 2.0), ('Alabama', 'Jefferson', 20.0), ('Arizona', 'Maricopa', 16.0), ('Oklahoma', 'Tulsa', 7.0), ('Nevada', 'Washoe', 2.0), ('Texas', 'El Paso', 6.0), ('Georgia', 'DeKalb', 10.0), ('New Jersey', 'Union', 3.0), ('Virginia', 'Henrico', 3.0), ('Virginia', 'Alexandria City', 0.0), ('Virginia', 'Alexandria City', 3.0), ('Pennsylvania', 'Allegheny', 7.0), ('Florida', 'Broward', 5.0), ('Nevada', 'Washoe', 2.0), ('Indiana', 'Allen', 5.0), ('Alabama', 'Jefferson', 8.0), ('Alabama', 'Jefferson', 7.0), ('Arizona', 'Maricopa', 17.0), ('Arizona', 'Maricopa', 28.0), ('Arizona', 'Pima', 6.0), ('California', 'Calaveras', 2.0), ('California', 'Fresno', 8.0), ('California', 'Imperial', 10.0), ('California', 'Imperial', 9.0), ('California', 'Imperial', 0.0), ('California', 'Los Angeles', 13.0), ('California', 'Mendocino', 5.0), ('California', 'Placer', 5.0), ('California', 'San Bernardino', 6.0), ('California', 'San Bernardino', 17.0), ('California', 'San Mateo', 13.0), ('California', 'Santa Clara', 8.0), ('California', 'Santa Cruz', 5.0), ('California', 'Tuolumne', 11.0), ('Colorado', 'El Paso', 7.0), ('Colorado', 'Jefferson', 3.0), ('Colorado', 'Larimer', 10.0), ('District Of Columbia', 'District of Columbia', 22.0), ('Florida', 'Hillsborough', 13.0), ('Florida', 'Hillsborough', 3.0), ('Florida', 'Miami-Dade', 11.0), ('Florida', 'Miami-Dade', 7.0), ('Florida', 'Palm Beach', 14.0), ('Georgia', 'Fulton', 9.0), ('Indiana', 'Hendricks', 9.0), ('Indiana', 'Hendricks', 2.0), ('Iowa', 'Polk', 3.0), ('Maryland', 'Baltimore', 6.0), ('Minnesota', 'Dakota', 1.0), ('Minnesota', 'Saint Louis', 10.0), ('Missouri', 'Jackson', 9.0), ('Missouri', 'Saint Louis', 7.0), ('Missouri', 'St. Louis City', 16.0), ('Montana', 'Flathead', 13.0), ('Montana', 'Gallatin', 2.0), ('Nebraska', 'Lancaster', 11.0), ('Nevada', 'Clark', 7.0), ('Nevada', 'Clark', 3.0), ('Ohio', 'Franklin', 6.0), ('Ohio', 'Hamilton', 13.0), ('Pennsylvania', 'Dauphin', 6.0), ('Pennsylvania', 'Dauphin', 3.0), ('Pennsylvania', 'Erie', 14.0), ('Pennsylvania', 'Schuylkill', 0.0), ('Pennsylvania', 'Westmoreland', 0.0), ('Texas', 'El Paso', 3.0), ('Texas', 'Tarrant', 7.0), ('Texas', 'Travis', 5.0), ('Utah', 'Salt Lake', 16.0), ('Utah', 'Salt Lake', 13.0), ('Virginia', 'Hampton City', 8.0), ('Virginia', 'Roanoke City', 10.0), ('Country Of Mexico', 'BAJA CALIFORNIA NORTE', 79.0), ('Country Of Mexico', 'BAJA CALIFORNIA NORTE', 18.0), ('Montana', 'Gallatin', 10.0), ('Illinois', 'Winnebago', 7.0), ('Country Of Mexico', 'CHIHUAHUA STATE', 23.0), ('Ohio', 'Franklin', 8.0), ('Massachusetts', 'Hampden', 6.0), ('Illinois', 'Cook', 5.0), ('Texas', 'McLennan', 3.0), ('Minnesota', 'Hennepin', 0.0), ('Colorado', 'Mesa', 6.0), ('Arizona', 'Pima', 10.0), ('California', 'San Joaquin', 15.0), ('California', 'Imperial', 2.0), ('California', 'Contra Costa', 8.0), ('North Carolina', 'Wake', 2.0), ('West Virginia', 'Hancock', 3.0), ('Alabama', 'Jefferson', 7.0), ('California', 'Butte', 3.0), ('California', 'San Bernardino', 2.0), ('Washington', 'Spokane', 13.0), ('California', 'Los Angeles', 9.0), ('Nebraska', 'Lancaster', 6.0), ('Alabama', 'Jefferson', 6.0), ('California', 'Santa Barbara', 2.0), ('California', 'Contra Costa', 8.0), ('California', 'San Bernardino', 13.0), ('Nevada', 'Washoe', 2.0), ('Arizona', 'Maricopa', 13.0), ('California', 'Orange', 0.0), ('California', 'Sacramento', 5.0), ('Texas', 'El Paso', 11.0), ('Alabama', 'Jefferson', 6.0), ('Kansas', 'Wyandotte', 3.0), ('Pennsylvania', 'Dauphin', 6.0), ('California', 'Orange', 0.0), ('Nevada', 'Clark', 3.0), ('Pennsylvania', 'Allegheny', 2.0), ('Maryland', 'Baltimore (City)', 5.0), ('New York', 'Erie', 11.0), ('Vermont', 'Chittenden', 6.0), ('Pennsylvania', 'Allegheny', 3.0), ('Missouri', 'St. Louis City', 3.0), ('Massachusetts', 'Worcester', 7.0), ('Illinois', 'Saint Clair', 6.0), ('Massachusetts', 'Essex', 2.0), ('Ohio', 'Cuyahoga', 22.0), ('California', 'Humboldt', 1.0), ('Ohio', 'Lake', 6.0), ('Maryland', 'Baltimore', 2.0), ('Colorado', 'El Paso', 6.0), ('New York', 'New York', 5.0), ('New York', 'New York', 7.0), ('California', 'Santa Barbara', 2.0), ('Texas', 'Harris', 5.0), ('Nevada', 'Washoe', 23.0), ('California', 'Stanislaus', 23.0), ('California', 'San Joaquin', 2.0), ('California', 'Butte', 10.0), ('California', 'Alameda', 5.0), ('Arizona', 'Pima', 5.0), ('Arizona', 'Maricopa', 11.0), ('Ohio', 'Preble', 3.0), ('Pennsylvania', 'Adams', 1.0), ('Michigan', 'Wayne', 2.0), ('Michigan', 'Wayne', 5.0), ('Nevada', 'Washoe', 5.0), ('California', 'Santa Barbara', 2.0), ('California', 'Santa Barbara', 2.0), ('California', 'Riverside', 6.0), ('Michigan', 'Wayne', 1.0), ('California', 'San Bernardino', 5.0), ('California', 'Santa Barbara', 2.0), ('California', 'Sacramento', 6.0), ('Nevada', 'Washoe', 8.0), ('Texas', 'El Paso', 9.0), ('California', 'Los Angeles', 6.0), ('Colorado', 'La Plata', 1.0), ('New Jersey', 'Union', 5.0), ('Texas', 'El Paso', 11.0), ('Nevada', 'Washoe', 6.0), ('District Of Columbia', 'District of Columbia', 8.0), ('Wisconsin', 'Dodge', 2.0), ('New York', 'Erie', 2.0), ('Pennsylvania', 'Allegheny', 2.0), ('Pennsylvania', 'Allegheny', 5.0), ('Georgia', 'Paulding', 3.0), ('Massachusetts', 'Worcester', 8.0), ('Massachusetts', 'Suffolk', 3.0), ('Massachusetts', 'Essex', 2.0), ('California', 'San Francisco', 5.0), ('Texas', 'McLennan', 1.0), ('California', 'San Mateo', 3.0), ('Massachusetts', 'Hampden', 2.0), ('Texas', 'Jefferson', 2.0), ('Alaska', 'Fairbanks North Star ', 6.0), ('North Carolina', 'Mecklenburg', 5.0), ('Virginia', 'Alexandria City', 3.0), ('Oklahoma', 'Tulsa', 3.0), ('New Jersey', 'Essex', 7.0), ('California', 'Santa Barbara', 6.0), ('Arizona', 'Pima', 6.0), ('California', 'Alameda', 1.0), ('Country Of Mexico', 'CHIHUAHUA STATE', 3.0), ('West Virginia', 'Hancock', 3.0), ('Texas', 'El Paso', 10.0), ('California', 'Los Angeles', 6.0), ('California', 'Los Angeles', 16.0), ('Alaska', 'Fairbanks North Star ', 16.0), ('Connecticut', 'Fairfield', 5.0), ('California', 'Santa Barbara', 0.0), ('California', 'San Diego', 2.0), ('Montana', 'Lewis and Clark', 1.0), ('California', 'Sacramento', 20.0), ('Nevada', 'Washoe', 5.0), ('Florida', 'Miami-Dade', 2.0), ('Georgia', 'DeKalb', 2.0), ('Alabama', 'Jefferson', 3.0), ('Puerto Rico', 'Ponce', 5.0), ('California', 'Fresno', 5.0), ('California', 'Fresno', 6.0), ('Nevada', 'Washoe', 7.0), ('New York', 'Erie', 6.0), ('Indiana', 'Allen', 7.0), ('New York', 'Bronx', 3.0), ('Missouri', 'St. Louis City', 3.0), ('Montana', 'Gallatin', 2.0), ('Texas', 'El Paso', 5.0), ('Pennsylvania', 'Bucks', 6.0), ('Ohio', 'Franklin', 3.0), ('Ohio', 'Cuyahoga', 7.0), ('California', 'Santa Clara', 7.0), ('California', 'Humboldt', 2.0), ('Nevada', 'Clark', 3.0), ('Texas', 'Harris', 2.0), ('New Mexico', 'Bernalillo', 2.0), ('Louisiana', 'East Baton Rouge', 8.0), ('Pennsylvania', 'Erie', 9.0), ('California', 'Los Angeles', 5.0), ('Pennsylvania', 'Lawrence', 5.0), ('California', 'Los Angeles', 1.0), ('Michigan', 'Wayne', 2.0), ('New Jersey', 'Hudson', 6.0), ('Oregon', 'Multnomah', 2.0), ('Kentucky', 'Jefferson', 3.0), ('Kentucky', 'Jefferson', 3.0), ('Indiana', 'Vanderburgh', 5.0), ('California', 'San Bernardino', 5.0), ('California', 'San Bernardino', 6.0), ('California', 'Los Angeles', 3.0), ('California', 'Los Angeles', 1.0), ('Vermont', 'Rutland', 3.0), ('Michigan', 'Wayne', 3.0), ('Michigan', 'Wayne', 8.0), ('Florida', 'Miami-Dade', 3.0), ('California', 'Imperial', 2.0), ('California', 'Sutter', 1.0), ('California', 'Riverside', 2.0), ('Kansas', 'Wyandotte', 3.0), ('California', 'Los Angeles', 1.0), ('California', 'Los Angeles', 2.0), ('Florida', 'Duval', 6.0), ('Nevada', 'Washoe', 2.0), ('West Virginia', 'Hancock', 3.0), ('Oregon', 'Washington', 6.0), ('California', 'Humboldt', 2.0), ('Maryland', 'Dorchester', 2.0), ('Oklahoma', 'Adair', 2.0), ('Illinois', 'Saint Clair', 5.0), ('Colorado', 'Denver', 13.0), ('Texas', 'Webb', 9.0), ('Texas', 'Jefferson', 1.0), ('Ohio', 'Hamilton', 6.0), ('New Jersey', 'Essex', 7.0), ('Tennessee', 'Shelby', 2.0), ('California', 'Orange', 8.0), ('Louisiana', 'East Baton Rouge', 2.0), ('Louisiana', 'East Baton Rouge', 3.0), ('California', 'Los Angeles', 8.0), ('California', 'Fresno', 3.0), ('California', 'Fresno', 6.0), ('Florida', 'Miami-Dade', 3.0), ('Connecticut', 'Fairfield', 5.0), ('Michigan', 'Kent', 8.0), ('California', 'Santa Barbara', 2.0), ('Alabama', 'Jefferson', 8.0), ('Texas', 'Tarrant', 2.0), ('California', 'San Bernardino', 9.0), ('Pennsylvania', 'Cambria', 2.0), ('Connecticut', 'Hartford', 2.0), ('Connecticut', 'Hartford', 5.0), ('Vermont', 'Rutland', 6.0), ('Michigan', 'Wayne', 5.0), ('California', 'San Bernardino', 6.0), ('Tennessee', 'Blount', 2.0), ('Maryland', 'Howard', 6.0), ('Indiana', 'Marion', 3.0), ('Colorado', 'La Plata', 2.0), ('Georgia', 'DeKalb', 8.0), ('Alabama', 'Jefferson', 3.0), ('Kansas', 'Wyandotte', 3.0), ('Virginia', 'Henrico', 1.0), ('New York', 'Steuben', 1.0), ('Tennessee', 'Shelby', 3.0), ('New York', 'Albany', 2.0), ('New York', 'Albany', 3.0), ('New York', 'Erie', 1.0), ('New York', 'Bronx', 2.0), ('Indiana', 'Lake', 15.0), ('Missouri', 'St. Louis City', 7.0), ('Oklahoma', 'Adair', 2.0), ('Ohio', 'Belmont', 2.0), ('Ohio', 'Hamilton', 5.0), ('Nevada', 'Clark', 2.0), ('California', 'Orange', 3.0), ('California', 'Los Angeles', 5.0), ('Florida', 'Orange', 3.0), ('California', 'San Mateo', 5.0), ('Tennessee', 'Shelby', 2.0), ('North Carolina', 'Mecklenburg', 5.0), ('Washington', 'King', 3.0), ('Minnesota', 'Dakota', 6.0), ('Pennsylvania', 'Philadelphia', 6.0), ('California', 'Santa Barbara', 5.0), ('Vermont', 'Chittenden', 5.0), ('Nevada', 'Washoe', 2.0), ('Connecticut', 'New Haven', 5.0), ('California', 'Humboldt', 2.0), ('Ohio', 'Cuyahoga', 10.0), ('Michigan', 'Wayne', 3.0), ('Michigan', 'Wayne', 7.0), ('California', 'Los Angeles', 5.0), ('Missouri', 'St. Louis City', 3.0), ('Texas', 'McLennan', 1.0), ('Tennessee', 'Davidson', 5.0), ('New Mexico', 'Bernalillo', 2.0), ('Utah', 'Weber', 8.0), ('New Jersey', 'Hudson', 6.0), ('Illinois', 'Saint Clair', 3.0), ('California', 'San Diego', 6.0), ('California', 'Orange', 0.0), ('Oklahoma', 'Oklahoma', 3.0), ('New York', 'Steuben', 2.0), ('Virginia', 'Hampton City', 5.0), ('New York', 'Monroe', 5.0), ('Pennsylvania', 'Cambria', 3.0), ('Tennessee', 'Shelby', 5.0), ('Texas', 'Tarrant', 5.0), ('Indiana', 'Vanderburgh', 6.0), ('California', 'Sacramento', 5.0), ('Texas', 'Travis', 6.0), ('Ohio', 'Montgomery', 5.0), ('Arizona', 'Maricopa', 14.0), ('Arizona', 'Pima', 5.0), ('North Carolina', 'Wake', 5.0), ('Hawaii', 'Honolulu', 7.0), ('Kansas', 'Wyandotte', 2.0), ('Puerto Rico', 'Guaynabo', 5.0), ('Colorado', 'La Plata', 1.0), ('Utah', 'Utah', 0.0), ('Colorado', 'Denver', 3.0), ('California', 'Alameda', 6.0), ('California', 'Sacramento', 5.0), ('Washington', 'King', 9.0), ('California', 'Napa', 8.0), ('Oklahoma', 'Oklahoma', 9.0), ('California', 'Imperial', 2.0), ('California', 'Marin', 6.0), ('California', 'Contra Costa', 5.0), ('Texas', 'Bexar', 3.0), ('Puerto Rico', 'San Juan', 13.0), ('California', 'Los Angeles', 7.0), ('Texas', 'Tarrant', 5.0), ('California', 'Solano', 2.0), ('Ohio', 'Preble', 2.0), ('District Of Columbia', 'District of Columbia', 5.0), ('Pennsylvania', 'Philadelphia', 2.0), ('Hawaii', 'Honolulu', 2.0), ('Utah', 'Salt Lake', 6.0), ('California', 'Fresno', 7.0), ('Vermont', 'Chittenden', 2.0), ('Indiana', 'Marion', 3.0), ('Arizona', 'Maricopa', 5.0), ('Missouri', 'St. Louis City', 5.0), ('Alabama', 'Jefferson', 5.0), ('Puerto Rico', 'Bayamon', 6.0), ('Oklahoma', 'Oklahoma', 9.0), ('Connecticut', 'New Haven', 2.0), ('Pennsylvania', 'Allegheny', 9.0), ('Connecticut', 'Litchfield', 1.0), ('California', 'San Diego', 5.0), ('Florida', 'Broward', 7.0), ('Missouri', 'St. Louis City', 5.0), ('California', 'San Francisco', 6.0), ('Texas', 'Bexar', 1.0), ('California', 'Inyo', 7.0), ('District Of Columbia', 'District of Columbia', 9.0), ('Colorado', 'Weld', 1.0), ('Texas', 'Tarrant', 5.0), ('California', 'Santa Barbara', 0.0), ('Georgia', 'Fulton', 7.0), ('California', 'Monterey', 1.0), ('Pennsylvania', 'Lackawanna', 3.0), ('New Mexico', 'Bernalillo', 6.0), ('California', 'Los Angeles', 2.0), ('Colorado', 'Denver', 3.0), ('Arizona', 'Maricopa', 0.0), ('Puerto Rico', 'Caguas', 7.0), ('Wisconsin', 'Milwaukee', 3.0), ('Wisconsin', 'Milwaukee', 3.0), ('Utah', 'Salt Lake', 3.0), ('California', 'Sacramento', 3.0), ('Texas', 'Harris', 7.0), ('California', 'Orange', 3.0), ('Massachusetts', 'Suffolk', 5.0), ('Florida', 'Broward', 5.0), ('Florida', 'Broward', 8.0), ('Montana', 'Gallatin', 2.0), ('Arizona', 'Maricopa', 13.0), ('Arizona', 'Maricopa', 17.0), ('California', 'Orange', 11.0), ('Louisiana', 'East Baton Rouge', 2.0), ('Louisiana', 'East Baton Rouge', 3.0), ('Puerto Rico', 'Ponce', 6.0), ('California', 'Los Angeles', 3.0), ('Pennsylvania', 'Cambria', 0.0), ('California', 'Santa Barbara', 5.0), ('New Mexico', 'Bernalillo', 1.0), ('Alaska', 'Fairbanks North Star ', 2.0), ('Michigan', 'Wayne', 5.0), ('Ohio', 'Belmont', 3.0), ('Hawaii', 'Honolulu', 2.0), ('Minnesota', 'Dakota', 0.0), ('West Virginia', 'Brooke', 5.0), ('California', 'Los Angeles', 5.0), ('Texas', 'Webb', 7.0), ('Texas', 'Webb', 9.0), ('California', 'Santa Barbara', 2.0), ('Texas', 'Jefferson', 2.0), ('California', 'Imperial', 2.0), ('Texas', 'El Paso', 1.0), ('Florida', 'Miami-Dade', 5.0), ('Florida', 'Broward', 6.0), ('Missouri', 'St. Louis City', 3.0), ('Arizona', 'Maricopa', 7.0), ('Tennessee', 'Davidson', 5.0), ('California', 'Contra Costa', 6.0), ('Puerto Rico', 'Ponce', 14.0), ('Virginia', 'Hampton City', 3.0), ('Florida', 'Pinellas', 1.0), ('California', 'Riverside', 2.0), ('California', 'Riverside', 1.0), ('Tennessee', 'Shelby', 5.0), ('Minnesota', 'Hennepin', 1.0), ('Florida', 'Duval', 5.0), ('California', 'Imperial', 3.0), ('California', 'Alameda', 3.0), ('California', 'Alameda', 6.0), ('Ohio', 'Preble', 2.0), ('Arizona', 'Maricopa', 5.0), ('Washington', 'King', 6.0), ('Colorado', 'Denver', 5.0), ('Texas', 'El Paso', 2.0), ('Kentucky', 'Jefferson', 5.0), ('Massachusetts', 'Suffolk', 9.0), ('Colorado', 'Adams', 3.0), ('California', 'Orange', 9.0), ('Colorado', 'Mesa', 2.0), ('California', 'Santa Barbara', 3.0), ('California', 'Los Angeles', 2.0), ('California', 'Los Angeles', 3.0), ('California', 'Alameda', 5.0), ('California', 'Santa Barbara', 1.0), ('California', 'San Diego', 7.0), ('California', 'San Diego', 8.0), ('Arizona', 'Maricopa', 1.0), ('Arizona', 'Maricopa', 5.0), ('Nevada', 'Washoe', 10.0), ('Iowa', 'Scott', 2.0), ('Iowa', 'Scott', 3.0), ('Michigan', 'Wayne', 3.0), ('New Jersey', 'Hudson', 10.0), ('Iowa', 'Polk', 3.0), ('Kentucky', 'Jefferson', 2.0), ('Indiana', 'Vanderburgh', 3.0), ('Michigan', 'Wayne', 5.0), ('Michigan', 'Wayne', 10.0), ('Michigan', 'Wayne', 6.0), ('Florida', 'Miami-Dade', 3.0), ('Maryland', 'Howard', 3.0), ('California', 'Orange', 3.0), ('Indiana', 'Marion', 5.0), ('Nebraska', 'Douglas', 2.0), ('Alabama', 'Jefferson', 3.0), ('California', 'Orange', 6.0), ('California', 'Los Angeles', 5.0), ('California', 'Fresno', 2.0), ('New York', 'Bronx', 7.0), ('Missouri', 'St. Louis City', 5.0), ('Pennsylvania', 'Allegheny', 3.0), ('New York', 'Erie', 0.0)]\n"
     ]
    }
   ],
   "source": [
    "### YOUR CODE HERE ###\n",
    "epa_tuples = []\n",
    "i=0\n",
    "while i < len(state_list):\n",
    "    epa_tuples.append((state_list[i],county_list[i],aqi_list[i]))\n",
    "    i += 1\n",
    "print(epa_tuples)\n",
    "    "
   ]
  },
  {
   "cell_type": "markdown",
   "metadata": {
    "id": "Jj_vkIbrfOFN"
   },
   "source": [
    "<details><summary><h4>Hint 1</h4></summary>\n",
    "\n",
    "Refer to what you learned about element-wise combination of iterable objects.\n",
    "\n",
    "</details>"
   ]
  },
  {
   "cell_type": "markdown",
   "metadata": {
    "id": "NxWv7DjUffHi"
   },
   "source": [
    "<details><summary><h4>Hint 2</h4></summary>\n",
    "\n",
    "It's possible to create a list of tuples using a loop, but there's a much simpler way of accomplishing the task using a built-in Python function.\n",
    "\n",
    "</details>"
   ]
  },
  {
   "cell_type": "markdown",
   "metadata": {
    "id": "-QK1uv6Gf998"
   },
   "source": [
    "<details><summary><h4>Hint 3</h4></summary>\n",
    "\n",
    "The `zip()` function accepts any number of iterable objects as arguments. If the arguments are all of equal length, the function returns an iterator object of tuples, where each tuple contains `element[i]` of each argument.\n",
    "\n",
    "You can then either loop over the iterator object or pass it to the `list()` function to unpack its values.\n",
    "\n",
    "Refer to the [zip() Python documentation](https://docs.python.org/3/library/functions.html#zip) for more information.\n",
    "\n",
    "</details>"
   ]
  },
  {
   "cell_type": "markdown",
   "metadata": {
    "id": "tKtXEIRrgiY0"
   },
   "source": [
    "## 1b: Create a dictionary\n",
    "\n",
    "Now that you have a list of tuples containing AQI records, use it to create a dictionary that allows you to look up a state and get all the county-AQI pairs associated with that state.\n",
    "\n",
    "* Create a dictionary called `aqi_dict`:\n",
    "    * Use a loop to unpack information from each tuple in `epa_tuples`.\n",
    "    * Your dictionary's keys should be states.\n",
    "    * The value at each key should be a list of tuples, where each tuple is a county-AQI pair of a record from a given state.\n",
    "\n",
    "*Example:*\n",
    "```\n",
    "[IN]  aqi_dict['Vermont']\n",
    "[OUT] [('Chittenden', 18.0),\n",
    "       ('Chittenden', 20.0),\n",
    "       ('Chittenden', 3.0),\n",
    "       ('Chittenden', 49.0),\n",
    "       ('Rutland', 15.0),\n",
    "       ('Chittenden', 3.0),\n",
    "       ('Chittenden', 6.0),\n",
    "       ('Rutland', 3.0),\n",
    "       ('Rutland', 6.0),\n",
    "       ('Chittenden', 5.0),\n",
    "       ('Chittenden', 2.0)]\n",
    "```"
   ]
  },
  {
   "cell_type": "code",
   "execution_count": 24,
   "metadata": {
    "id": "5wf42bG-d6wC"
   },
   "outputs": [
    {
     "name": "stdout",
     "output_type": "stream",
     "text": [
      "{'Arizona': [('Maricopa', 18.0), ('Maricopa', 9.0), ('Pima', 20.0), ('Maricopa', 56.0), ('Pima', 30.0), ('Maricopa', 66.0), ('Maricopa', 14.0), ('Maricopa', 60.0), ('Pima', 20.0), ('Pima', 36.0), ('Maricopa', 8.0), ('Maricopa', 18.0), ('Pima', 16.0), ('Pima', 30.0), ('Pima', 5.0), ('Pima', 13.0), ('Pima', 11.0), ('Pima', 5.0), ('Maricopa', 33.0), ('Maricopa', 30.0), ('Maricopa', 22.0), ('Maricopa', 11.0), ('Maricopa', 7.0), ('Maricopa', 31.0), ('Maricopa', 18.0), ('Maricopa', 66.0), ('Maricopa', 22.0), ('Maricopa', 25.0), ('Maricopa', 22.0), ('Maricopa', 45.0), ('Pima', 7.0), ('Maricopa', 17.0), ('Maricopa', 5.0), ('Pima', 5.0), ('Maricopa', 25.0), ('Maricopa', 8.0), ('Maricopa', 8.0), ('Pima', 11.0), ('Pima', 22.0), ('Maricopa', 11.0), ('Maricopa', 9.0), ('Maricopa', 22.0), ('Pima', 13.0), ('Pima', 8.0), ('Maricopa', 8.0), ('Maricopa', 22.0), ('Maricopa', 11.0), ('Maricopa', 7.0), ('Pima', 6.0), ('Pima', 8.0), ('Pima', 3.0), ('Pima', 3.0), ('Maricopa', 5.0), ('Maricopa', 16.0), ('Maricopa', 17.0), ('Maricopa', 28.0), ('Pima', 6.0), ('Pima', 10.0), ('Maricopa', 13.0), ('Pima', 5.0), ('Maricopa', 11.0), ('Pima', 6.0), ('Maricopa', 14.0), ('Pima', 5.0), ('Maricopa', 5.0), ('Maricopa', 0.0), ('Maricopa', 13.0), ('Maricopa', 17.0), ('Maricopa', 7.0), ('Maricopa', 5.0), ('Maricopa', 1.0), ('Maricopa', 5.0)], 'California': [('Alameda', 11.0), ('Butte', 6.0), ('Fresno', 11.0), ('Kern', 7.0), ('Kern', 3.0), ('Kern', 7.0), ('Los Angeles', 13.0), ('Los Angeles', 18.0), ('Mono', 5.0), ('Sacramento', 35.0), ('San Bernardino', 18.0), ('San Diego', 23.0), ('Santa Barbara', 0.0), ('Shasta', 11.0), ('Humboldt', 30.0), ('Humboldt', 11.0), ('Riverside', 18.0), ('San Bernardino', 11.0), ('San Bernardino', 22.0), ('San Bernardino', 11.0), ('San Diego', 24.0), ('Santa Barbara', 11.0), ('Santa Barbara', 7.0), ('Santa Clara', 11.0), ('Sonoma', 11.0), ('Stanislaus', 0.0), ('Butte', 9.0), ('Kern', 19.0), ('Los Angeles', 23.0), ('Los Angeles', 33.0), ('Los Angeles', 10.0), ('Monterey', 16.0), ('Placer', 13.0), ('Santa Barbara', 47.0), ('Santa Barbara', 0.0), ('Santa Clara', 6.0), ('Tulare', 11.0), ('Alameda', 11.0), ('Contra Costa', 15.0), ('El Dorado', 16.0), ('Fresno', 5.0), ('Mendocino', 0.0), ('Riverside', 13.0), ('Riverside', 40.0), ('San Diego', 10.0), ('Solano', 3.0), ('Alameda', 11.0), ('Butte', 14.0), ('El Dorado', 8.0), ('El Dorado', 6.0), ('Fresno', 35.0), ('Los Angeles', 38.0), ('Los Angeles', 22.0), ('Los Angeles', 93.0), ('Los Angeles', 10.0), ('Los Angeles', 11.0), ('Placer', 6.0), ('Riverside', 43.0), ('San Bernardino', 5.0), ('San Diego', 16.0), ('San Diego', 7.0), ('San Luis Obispo', 13.0), ('Santa Clara', 10.0), ('Ventura', 7.0), ('El Dorado', 18.0), ('Los Angeles', 17.0), ('Los Angeles', 24.0), ('Marin', 8.0), ('Monterey', 7.0), ('Monterey', 1.0), ('Napa', 10.0), ('Placer', 16.0), ('San Bernardino', 6.0), ('San Diego', 6.0), ('San Francisco', 20.0), ('San Luis Obispo', 6.0), ('Sutter', 28.0), ('Tulare', 8.0), ('Ventura', 19.0), ('Fresno', 23.0), ('Kern', 8.0), ('Los Angeles', 20.0), ('Monterey', 6.0), ('Orange', 47.0), ('Orange', 3.0), ('Placer', 10.0), ('Sacramento', 7.0), ('Sacramento', 5.0), ('San Bernardino', 2.0), ('San Bernardino', 10.0), ('San Francisco', 8.0), ('San Joaquin', 3.0), ('San Joaquin', 5.0), ('Santa Clara', 10.0), ('Alameda', 15.0), ('Calaveras', 3.0), ('Contra Costa', 13.0), ('Fresno', 15.0), ('Los Angeles', 59.0), ('Orange', 16.0), ('Sacramento', 20.0), ('Sacramento', 5.0), ('San Diego', 24.0), ('San Diego', 6.0), ('San Francisco', 16.0), ('San Francisco', 16.0), ('Santa Barbara', 2.0), ('Sutter', 5.0), ('Tulare', 17.0), ('Alameda', 5.0), ('Alameda', 11.0), ('El Dorado', 23.0), ('Los Angeles', 13.0), ('Los Angeles', 20.0), ('Mendocino', 8.0), ('Sonoma', 17.0), ('El Dorado', 6.0), ('Los Angeles', 14.0), ('Los Angeles', 28.0), ('Los Angeles', 16.0), ('Orange', 10.0), ('Orange', 47.0), ('Sacramento', 14.0), ('San Diego', 39.0), ('Santa Barbara', 2.0), ('Santa Barbara', 2.0), ('Santa Clara', 36.0), ('Solano', 14.0), ('Yolo', 6.0), ('Alameda', 6.0), ('Contra Costa', 8.0), ('El Dorado', 1.0), ('Imperial', 13.0), ('Los Angeles', 9.0), ('Los Angeles', 17.0), ('Orange', 5.0), ('Riverside', 7.0), ('Riverside', 8.0), ('San Diego', 6.0), ('Tulare', 10.0), ('Tulare', 5.0), ('Ventura', 5.0), ('Ventura', 2.0), ('Fresno', 9.0), ('Los Angeles', 14.0), ('Mendocino', 17.0), ('Sacramento', 5.0), ('Sacramento', 5.0), ('San Bernardino', 3.0), ('Ventura', 5.0), ('Alameda', 20.0), ('Contra Costa', 8.0), ('Imperial', 3.0), ('Kern', 2.0), ('Los Angeles', 2.0), ('Los Angeles', 24.0), ('Los Angeles', 14.0), ('Marin', 16.0), ('Placer', 6.0), ('Riverside', 11.0), ('San Diego', 10.0), ('San Diego', 32.0), ('San Joaquin', 6.0), ('Santa Barbara', 5.0), ('Santa Barbara', 3.0), ('Sutter', 5.0), ('Alameda', 5.0), ('Butte', 11.0), ('Contra Costa', 6.0), ('Fresno', 10.0), ('Fresno', 3.0), ('Orange', 6.0), ('Sacramento', 9.0), ('San Bernardino', 6.0), ('San Bernardino', 17.0), ('San Mateo', 9.0), ('Santa Barbara', 3.0), ('Solano', 5.0), ('Stanislaus', 6.0), ('Contra Costa', 3.0), ('Imperial', 26.0), ('Imperial', 0.0), ('Los Angeles', 5.0), ('Los Angeles', 3.0), ('Los Angeles', 3.0), ('Los Angeles', 7.0), ('Riverside', 7.0), ('San Diego', 9.0), ('San Francisco', 10.0), ('Santa Cruz', 3.0), ('Contra Costa', 5.0), ('Los Angeles', 6.0), ('Monterey', 7.0), ('Sacramento', 9.0), ('Contra Costa', 6.0), ('Sacramento', 3.0), ('Los Angeles', 23.0), ('Alameda', 5.0), ('Alameda', 8.0), ('Humboldt', 2.0), ('Los Angeles', 5.0), ('Mendocino', 3.0), ('Orange', 6.0), ('Riverside', 7.0), ('Monterey', 5.0), ('Monterey', 6.0), ('Orange', 6.0), ('Santa Barbara', 6.0), ('Los Angeles', 5.0), ('Solano', 5.0), ('Contra Costa', 2.0), ('Mendocino', 7.0), ('Imperial', 13.0), ('San Diego', 6.0), ('Sonoma', 3.0), ('San Francisco', 6.0), ('Humboldt', 3.0), ('Riverside', 2.0), ('Los Angeles', 10.0), ('San Bernardino', 7.0), ('Fresno', 2.0), ('Calaveras', 2.0), ('Fresno', 8.0), ('Imperial', 10.0), ('Imperial', 9.0), ('Imperial', 0.0), ('Los Angeles', 13.0), ('Mendocino', 5.0), ('Placer', 5.0), ('San Bernardino', 6.0), ('San Bernardino', 17.0), ('San Mateo', 13.0), ('Santa Clara', 8.0), ('Santa Cruz', 5.0), ('Tuolumne', 11.0), ('San Joaquin', 15.0), ('Imperial', 2.0), ('Contra Costa', 8.0), ('Butte', 3.0), ('San Bernardino', 2.0), ('Los Angeles', 9.0), ('Santa Barbara', 2.0), ('Contra Costa', 8.0), ('San Bernardino', 13.0), ('Orange', 0.0), ('Sacramento', 5.0), ('Orange', 0.0), ('Humboldt', 1.0), ('Santa Barbara', 2.0), ('Stanislaus', 23.0), ('San Joaquin', 2.0), ('Butte', 10.0), ('Alameda', 5.0), ('Santa Barbara', 2.0), ('Santa Barbara', 2.0), ('Riverside', 6.0), ('San Bernardino', 5.0), ('Santa Barbara', 2.0), ('Sacramento', 6.0), ('Los Angeles', 6.0), ('San Francisco', 5.0), ('San Mateo', 3.0), ('Santa Barbara', 6.0), ('Alameda', 1.0), ('Los Angeles', 6.0), ('Los Angeles', 16.0), ('Santa Barbara', 0.0), ('San Diego', 2.0), ('Sacramento', 20.0), ('Fresno', 5.0), ('Fresno', 6.0), ('Santa Clara', 7.0), ('Humboldt', 2.0), ('Los Angeles', 5.0), ('Los Angeles', 1.0), ('San Bernardino', 5.0), ('San Bernardino', 6.0), ('Los Angeles', 3.0), ('Los Angeles', 1.0), ('Imperial', 2.0), ('Sutter', 1.0), ('Riverside', 2.0), ('Los Angeles', 1.0), ('Los Angeles', 2.0), ('Humboldt', 2.0), ('Orange', 8.0), ('Los Angeles', 8.0), ('Fresno', 3.0), ('Fresno', 6.0), ('Santa Barbara', 2.0), ('San Bernardino', 9.0), ('San Bernardino', 6.0), ('Orange', 3.0), ('Los Angeles', 5.0), ('San Mateo', 5.0), ('Santa Barbara', 5.0), ('Humboldt', 2.0), ('Los Angeles', 5.0), ('San Diego', 6.0), ('Orange', 0.0), ('Sacramento', 5.0), ('Alameda', 6.0), ('Sacramento', 5.0), ('Napa', 8.0), ('Imperial', 2.0), ('Marin', 6.0), ('Contra Costa', 5.0), ('Los Angeles', 7.0), ('Solano', 2.0), ('Fresno', 7.0), ('San Diego', 5.0), ('San Francisco', 6.0), ('Inyo', 7.0), ('Santa Barbara', 0.0), ('Monterey', 1.0), ('Los Angeles', 2.0), ('Sacramento', 3.0), ('Orange', 3.0), ('Orange', 11.0), ('Los Angeles', 3.0), ('Santa Barbara', 5.0), ('Los Angeles', 5.0), ('Santa Barbara', 2.0), ('Imperial', 2.0), ('Contra Costa', 6.0), ('Riverside', 2.0), ('Riverside', 1.0), ('Imperial', 3.0), ('Alameda', 3.0), ('Alameda', 6.0), ('Orange', 9.0), ('Santa Barbara', 3.0), ('Los Angeles', 2.0), ('Los Angeles', 3.0), ('Alameda', 5.0), ('Santa Barbara', 1.0), ('San Diego', 7.0), ('San Diego', 8.0), ('Orange', 3.0), ('Orange', 6.0), ('Los Angeles', 5.0), ('Fresno', 2.0)], 'Colorado': [('El Paso', 9.0), ('Boulder', 28.0), ('El Paso', 9.0), ('El Paso', 9.0), ('El Paso', 25.0), ('El Paso', 7.0), ('El Paso', 10.0), ('El Paso', 8.0), ('Arapahoe', 15.0), ('Denver', 28.0), ('Larimer', 5.0), ('Larimer', 6.0), ('Boulder', 11.0), ('El Paso', 31.0), ('El Paso', 23.0), ('El Paso', 9.0), ('Mesa', 20.0), ('Denver', 19.0), ('El Paso', 36.0), ('El Paso', 24.0), ('El Paso', 5.0), ('El Paso', 20.0), ('Larimer', 16.0), ('Denver', 25.0), ('Weld', 28.0), ('Weld', 16.0), ('Weld', 13.0), ('Boulder', 7.0), ('Denver', 30.0), ('El Paso', 11.0), ('Boulder', 16.0), ('Boulder', 14.0), ('El Paso', 5.0), ('El Paso', 28.0), ('Boulder', 10.0), ('Larimer', 18.0), ('Denver', 19.0), ('Jefferson', 8.0), ('Mesa', 28.0), ('Denver', 9.0), ('Jefferson', 3.0), ('Jefferson', 5.0), ('La Plata', 5.0), ('Adams', 14.0), ('Adams', 11.0), ('Larimer', 7.0), ('Adams', 7.0), ('Denver', 7.0), ('Adams', 5.0), ('Denver', 6.0), ('Weld', 7.0), ('El Paso', 7.0), ('Jefferson', 3.0), ('Larimer', 10.0), ('Mesa', 6.0), ('El Paso', 6.0), ('La Plata', 1.0), ('Denver', 13.0), ('La Plata', 2.0), ('La Plata', 1.0), ('Denver', 3.0), ('Weld', 1.0), ('Denver', 3.0), ('Denver', 5.0), ('Adams', 3.0), ('Mesa', 2.0)], 'Florida': [('Duval', 15.0), ('Duval', 13.0), ('Hillsborough', 19.0), ('Broward', 17.0), ('Broward', 24.0), ('Broward', 15.0), ('Hillsborough', 13.0), ('Broward', 5.0), ('Duval', 13.0), ('Duval', 16.0), ('Miami-Dade', 43.0), ('Broward', 8.0), ('Duval', 11.0), ('Duval', 18.0), ('Hillsborough', 15.0), ('Hillsborough', 17.0), ('Orange', 9.0), ('Palm Beach', 18.0), ('Pinellas', 7.0), ('Sarasota', 7.0), ('Broward', 15.0), ('Broward', 8.0), ('Duval', 6.0), ('Miami-Dade', 7.0), ('Pinellas', 15.0), ('Broward', 15.0), ('Duval', 10.0), ('Pinellas', 20.0), ('Sarasota', 36.0), ('Sarasota', 15.0), ('Hillsborough', 20.0), ('Hillsborough', 11.0), ('Orange', 17.0), ('Palm Beach', 17.0), ('Broward', 8.0), ('Sarasota', 11.0), ('Sarasota', 39.0), ('Broward', 11.0), ('Palm Beach', 3.0), ('Pinellas', 7.0), ('Sarasota', 22.0), ('Broward', 8.0), ('Hillsborough', 7.0), ('Miami-Dade', 16.0), ('Palm Beach', 3.0), ('Broward', 11.0), ('Broward', 8.0), ('Duval', 8.0), ('Duval', 6.0), ('Orange', 2.0), ('Sarasota', 20.0), ('Sarasota', 15.0), ('Duval', 16.0), ('Miami-Dade', 7.0), ('Miami-Dade', 18.0), ('Miami-Dade', 8.0), ('Orange', 10.0), ('Orange', 6.0), ('Pinellas', 7.0), ('Sarasota', 19.0), ('Miami-Dade', 6.0), ('Miami-Dade', 17.0), ('Broward', 5.0), ('Hillsborough', 13.0), ('Hillsborough', 3.0), ('Miami-Dade', 11.0), ('Miami-Dade', 7.0), ('Palm Beach', 14.0), ('Miami-Dade', 2.0), ('Miami-Dade', 3.0), ('Duval', 6.0), ('Miami-Dade', 3.0), ('Orange', 3.0), ('Broward', 7.0), ('Broward', 5.0), ('Broward', 8.0), ('Miami-Dade', 5.0), ('Broward', 6.0), ('Pinellas', 1.0), ('Duval', 5.0), ('Miami-Dade', 3.0)], 'Hawaii': [('Honolulu', 10.0), ('Honolulu', 6.0), ('Honolulu', 5.0), ('Honolulu', 7.0), ('Honolulu', 7.0), ('Honolulu', 6.0), ('Honolulu', 11.0), ('Honolulu', 2.0), ('Honolulu', 13.0), ('Honolulu', 11.0), ('Honolulu', 14.0), ('Honolulu', 17.0), ('Honolulu', 3.0), ('Honolulu', 7.0), ('Honolulu', 2.0), ('Honolulu', 2.0)], 'Illinois': [('Sangamon', 20.0), ('Sangamon', 26.0), ('Sangamon', 16.0), ('Sangamon', 14.0), ('Cook', 9.0), ('Cook', 19.0), ('Peoria', 40.0), ('Cook', 10.0), ('Cook', 11.0), ('Madison', 17.0), ('Madison', 14.0), ('Will', 1.0), ('Cook', 10.0), ('Will', 2.0), ('Will', 3.0), ('Cook', 7.0), ('Cook', 24.0), ('Cook', 32.0), ('Sangamon', 10.0), ('Winnebago', 17.0), ('Saint Clair', 14.0), ('Peoria', 9.0), ('Saint Clair', 9.0), ('Winnebago', 8.0), ('Cook', 24.0), ('Winnebago', 13.0), ('Sangamon', 10.0), ('Winnebago', 6.0), ('Cook', 3.0), ('Cook', 8.0), ('Cook', 5.0), ('Cook', 2.0), ('Winnebago', 7.0), ('Cook', 5.0), ('Saint Clair', 6.0), ('Saint Clair', 5.0), ('Saint Clair', 3.0)], 'Indiana': [('Marion', 32.0), ('Marion', 27.0), ('St. Joseph', 9.0), ('Vanderburgh', 15.0), ('St. Joseph', 17.0), ('Allen', 19.0), ('Allen', 9.0), ('St. Joseph', 20.0), ('Vigo', 14.0), ('Marion', 19.0), ('Allen', 11.0), ('Marion', 16.0), ('Hendricks', 10.0), ('Marion', 9.0), ('Hendricks', 8.0), ('Allen', 3.0), ('Allen', 5.0), ('Hendricks', 9.0), ('Hendricks', 2.0), ('Allen', 7.0), ('Vanderburgh', 5.0), ('Marion', 3.0), ('Lake', 15.0), ('Vanderburgh', 6.0), ('Marion', 3.0), ('Vanderburgh', 3.0), ('Marion', 5.0)], 'Kentucky': [('Henderson', 8.0), ('Jefferson', 6.0), ('McCracken', 13.0), ('McCracken', 13.0), ('Jefferson', 15.0), ('McCracken', 8.0), ('Jefferson', 7.0), ('McCracken', 6.0), ('Jefferson', 16.0), ('Kenton', 17.0), ('Bell', 11.0), ('Jefferson', 10.0), ('Fayette', 1.0), ('McCracken', 0.0), ('Fayette', 3.0), ('Fayette', 1.0), ('Jefferson', 23.0), ('Jefferson', 20.0), ('Boyd', 9.0), ('Jefferson', 7.0), ('Jefferson', 3.0), ('Jefferson', 3.0), ('Jefferson', 5.0), ('Jefferson', 2.0)], 'Louisiana': [('East Baton Rouge', 5.0), ('Orleans', 5.0), ('East Baton Rouge', 32.0), ('East Baton Rouge', 49.0), ('East Baton Rouge', 9.0), ('East Baton Rouge', 50.0), ('East Baton Rouge', 10.0), ('East Baton Rouge', 8.0), ('East Baton Rouge', 2.0), ('East Baton Rouge', 3.0), ('East Baton Rouge', 2.0), ('East Baton Rouge', 3.0)], 'Maryland': [('Baltimore (City)', 33.0), ('Allegany', 9.0), ('Montgomery', 24.0), (\"Prince George's\", 3.0), ('Baltimore', 15.0), ('Baltimore (City)', 18.0), ('Baltimore', 5.0), ('Baltimore (City)', 8.0), ('Garrett', 2.0), ('Baltimore', 6.0), ('Baltimore (City)', 5.0), ('Baltimore', 2.0), ('Dorchester', 2.0), ('Howard', 6.0), ('Howard', 3.0)], 'Massachusetts': [('Suffolk', 13.0), ('Suffolk', 23.0), ('Hampden', 19.0), ('Hampden', 11.0), ('Hampden', 7.0), ('Suffolk', 24.0), ('Worcester', 24.0), ('Worcester', 6.0), ('Hampden', 7.0), ('Hampden', 8.0), ('Worcester', 9.0), ('Hampden', 34.0), ('Suffolk', 7.0), ('Middlesex', 10.0), ('Suffolk', 10.0), ('Worcester', 9.0), ('Hampden', 8.0), ('Middlesex', 8.0), ('Worcester', 6.0), ('Worcester', 3.0), ('Worcester', 5.0), ('Essex', 5.0), ('Middlesex', 6.0), ('Worcester', 6.0), ('Hampden', 6.0), ('Worcester', 7.0), ('Essex', 2.0), ('Worcester', 8.0), ('Suffolk', 3.0), ('Essex', 2.0), ('Hampden', 2.0), ('Suffolk', 5.0), ('Suffolk', 9.0)], 'Michigan': [('Wayne', 19.0), ('Wayne', 17.0), ('Macomb', 31.0), ('Kalamazoo', 6.0), ('Kalamazoo', 6.0), ('Wayne', 7.0), ('Oakland', 11.0), ('Wayne', 7.0), ('Kent', 3.0), ('Wayne', 11.0), ('Wayne', 5.0), ('Wayne', 9.0), ('Kent', 5.0), ('Oakland', 7.0), ('Wayne', 7.0), ('Kent', 3.0), ('Wayne', 2.0), ('Wayne', 5.0), ('Wayne', 1.0), ('Wayne', 2.0), ('Wayne', 3.0), ('Wayne', 8.0), ('Kent', 8.0), ('Wayne', 5.0), ('Wayne', 3.0), ('Wayne', 7.0), ('Wayne', 5.0), ('Wayne', 3.0), ('Wayne', 5.0), ('Wayne', 10.0), ('Wayne', 6.0)], 'Minnesota': [('Saint Louis', 16.0), ('Hennepin', 16.0), ('Ramsey', 20.0), ('Hennepin', 32.0), ('Hennepin', 13.0), ('Stearns', 22.0), ('Ramsey', 10.0), ('Anoka', 5.0), ('Dakota', 3.0), ('Saint Louis', 9.0), ('Ramsey', 14.0), ('Saint Louis', 17.0), ('Stearns', 13.0), ('Dakota', 6.0), ('Ramsey', 3.0), ('Saint Louis', 8.0), ('Anoka', 2.0), ('Stearns', 8.0), ('Dakota', 3.0), ('Anoka', 0.0), ('Dakota', 3.0), ('Ramsey', 15.0), ('Saint Louis', 2.0), ('Dakota', 1.0), ('Saint Louis', 10.0), ('Hennepin', 0.0), ('Dakota', 6.0), ('Dakota', 0.0), ('Hennepin', 1.0)], 'Missouri': [('Saint Louis', 10.0), ('Clay', 6.0), ('Jackson', 3.0), ('St. Louis City', 6.0), ('Saint Louis', 8.0), ('Taney', 9.0), ('Jackson', 2.0), ('Saint Louis', 11.0), ('Saint Louis', 6.0), ('Saint Louis', 10.0), ('Saint Louis', 6.0), ('Greene', 11.0), ('Jackson', 8.0), ('St. Louis City', 15.0), ('Jackson', 8.0), ('Saint Louis', 7.0), ('Saint Louis', 2.0), ('Jackson', 6.0), ('Saint Louis', 3.0), ('Greene', 24.0), ('St. Louis City', 3.0), ('Saint Louis', 3.0), ('Jackson', 9.0), ('Saint Louis', 7.0), ('St. Louis City', 16.0), ('St. Louis City', 3.0), ('St. Louis City', 3.0), ('St. Louis City', 7.0), ('St. Louis City', 3.0), ('St. Louis City', 5.0), ('St. Louis City', 5.0), ('St. Louis City', 3.0), ('St. Louis City', 5.0)], 'New Jersey': [('Bergen', 41.0), ('Middlesex', 17.0), ('Camden', 7.0), ('Atlantic', 26.0), ('Bergen', 11.0), ('Hudson', 32.0), ('Middlesex', 20.0), ('Union', 16.0), ('Burlington', 45.0), ('Camden', 18.0), ('Morris', 17.0), ('Bergen', 11.0), ('Camden', 8.0), ('Hudson', 30.0), ('Middlesex', 25.0), ('Union', 49.0), ('Essex', 11.0), ('Essex', 13.0), ('Union', 35.0), ('Monmouth', 19.0), ('Bergen', 24.0), ('Camden', 5.0), ('Camden', 2.0), ('Essex', 6.0), ('Middlesex', 11.0), ('Union', 15.0), ('Burlington', 8.0), ('Hudson', 19.0), ('Camden', 3.0), ('Camden', 3.0), ('Monmouth', 8.0), ('Bergen', 5.0), ('Union', 7.0), ('Union', 5.0), ('Union', 9.0), ('Bergen', 8.0), ('Hudson', 6.0), ('Camden', 1.0), ('Union', 3.0), ('Union', 5.0), ('Essex', 7.0), ('Hudson', 6.0), ('Essex', 7.0), ('Hudson', 6.0), ('Hudson', 10.0)], 'New Mexico': [('Bernalillo', 11.0), ('San Juan', 6.0), ('San Juan', 17.0), ('San Juan', 14.0), ('Bernalillo', 13.0), ('Bernalillo', 54.0), ('Bernalillo', 10.0), ('Bernalillo', 16.0), ('Dona Ana', 11.0), ('Sandoval', 6.0), ('Bernalillo', 6.0), ('Bernalillo', 6.0), ('Bernalillo', 10.0), ('Bernalillo', 26.0), ('Bernalillo', 20.0), ('Dona Ana', 30.0), ('Dona Ana', 14.0), ('Dona Ana', 3.0), ('Santa Fe', 10.0), ('Bernalillo', 33.0), ('Bernalillo', 22.0), ('Bernalillo', 1.0), ('Bernalillo', 2.0), ('Bernalillo', 9.0), ('Bernalillo', 15.0), ('Bernalillo', 9.0), ('Bernalillo', 2.0), ('Bernalillo', 2.0), ('Bernalillo', 6.0), ('Bernalillo', 1.0)], 'New York': [('New York', 13.0), ('New York', 24.0), ('Niagara', 13.0), ('Monroe', 18.0), ('Niagara', 6.0), ('Schenectady', 19.0), ('Nassau', 7.0), ('Niagara', 9.0), ('Kings', 48.0), ('New York', 39.0), ('Niagara', 6.0), ('Nassau', 23.0), ('Monroe', 9.0), ('Erie', 5.0), ('Monroe', 1.0), ('New York', 13.0), ('Niagara', 5.0), ('Erie', 9.0), ('Nassau', 6.0), ('New York', 10.0), ('Queens', 7.0), ('Kings', 7.0), ('Nassau', 6.0), ('Nassau', 7.0), ('Onondaga', 16.0), ('Monroe', 15.0), ('Onondaga', 8.0), ('Queens', 9.0), ('Monroe', 8.0), ('Albany', 7.0), ('Bronx', 10.0), ('Kings', 14.0), ('Steuben', 2.0), ('Erie', 2.0), ('Albany', 5.0), ('New York', 8.0), ('Erie', 11.0), ('New York', 5.0), ('New York', 7.0), ('Erie', 2.0), ('Erie', 6.0), ('Bronx', 3.0), ('Steuben', 1.0), ('Albany', 2.0), ('Albany', 3.0), ('Erie', 1.0), ('Bronx', 2.0), ('Steuben', 2.0), ('Monroe', 5.0), ('Bronx', 7.0), ('Erie', 0.0)], 'North Carolina': [('Mecklenburg', 28.0), ('Mecklenburg', 11.0), ('Forsyth', 18.0), ('Forsyth', 23.0), ('Forsyth', 8.0), ('Chatham', 5.0), ('Cumberland', 10.0), ('Forsyth', 6.0), ('Forsyth', 6.0), ('Mecklenburg', 30.0), ('Forsyth', 19.0), ('Gaston', 19.0), ('Wake', 32.0), ('Forsyth', 9.0), ('Mecklenburg', 10.0), ('Mecklenburg', 36.0), ('Durham', 16.0), ('Durham', 18.0), ('Mecklenburg', 13.0), ('Mecklenburg', 7.0), ('Durham', 5.0), ('Forsyth', 18.0), ('Mecklenburg', 16.0), ('Wake', 8.0), ('Forsyth', 10.0), ('Forsyth', 13.0), ('Mecklenburg', 10.0), ('Forsyth', 5.0), ('Guilford', 13.0), ('Wake', 19.0), ('Wake', 2.0), ('Mecklenburg', 5.0), ('Mecklenburg', 5.0), ('Wake', 5.0)], 'Ohio': [('Franklin', 10.0), ('Hamilton', 17.0), ('Franklin', 11.0), ('Lucas', 13.0), ('Cuyahoga', 36.0), ('Cuyahoga', 31.0), ('Cuyahoga', 11.0), ('Mahoning', 2.0), ('Cuyahoga', 17.0), ('Cuyahoga', 14.0), ('Cuyahoga', 14.0), ('Cuyahoga', 13.0), ('Summit', 18.0), ('Hamilton', 9.0), ('Stark', 13.0), ('Franklin', 13.0), ('Lake', 20.0), ('Stark', 10.0), ('Cuyahoga', 8.0), ('Montgomery', 6.0), ('Stark', 7.0), ('Summit', 11.0), ('Jefferson', 13.0), ('Montgomery', 5.0), ('Hamilton', 18.0), ('Summit', 15.0), ('Cuyahoga', 13.0), ('Montgomery', 6.0), ('Cuyahoga', 1.0), ('Hamilton', 2.0), ('Jefferson', 24.0), ('Summit', 6.0), ('Summit', 8.0), ('Cuyahoga', 9.0), ('Jefferson', 10.0), ('Stark', 7.0), ('Cuyahoga', 10.0), ('Jefferson', 10.0), ('Jefferson', 6.0), ('Montgomery', 8.0), ('Lake', 6.0), ('Franklin', 5.0), ('Lake', 7.0), ('Summit', 6.0), ('Lake', 2.0), ('Franklin', 3.0), ('Summit', 3.0), ('Franklin', 6.0), ('Hamilton', 13.0), ('Franklin', 8.0), ('Cuyahoga', 22.0), ('Lake', 6.0), ('Preble', 3.0), ('Franklin', 3.0), ('Cuyahoga', 7.0), ('Hamilton', 6.0), ('Belmont', 2.0), ('Hamilton', 5.0), ('Cuyahoga', 10.0), ('Montgomery', 5.0), ('Preble', 2.0), ('Belmont', 3.0), ('Preble', 2.0)], 'Oklahoma': [('Oklahoma', 14.0), ('Cleveland', 7.0), ('Tulsa', 13.0), ('Tulsa', 16.0), ('Comanche', 13.0), ('Comanche', 8.0), ('Oklahoma', 30.0), ('Cleveland', 16.0), ('Oklahoma', 13.0), ('Comanche', 3.0), ('Oklahoma', 9.0), ('Tulsa', 6.0), ('Tulsa', 9.0), ('Oklahoma', 7.0), ('Cleveland', 14.0), ('Tulsa', 7.0), ('Tulsa', 3.0), ('Adair', 2.0), ('Adair', 2.0), ('Oklahoma', 3.0), ('Oklahoma', 9.0), ('Oklahoma', 9.0)], 'Oregon': [('Klamath', 31.0), ('Multnomah', 28.0), ('Jackson', 51.0), ('Lane', 32.0), ('Lane', 9.0), ('Jackson', 24.0), ('Multnomah', 23.0), ('Deschutes', 34.0), ('Multnomah', 24.0), ('Multnomah', 15.0), ('Jackson', 38.0), ('Lane', 25.0), ('Multnomah', 7.0), ('Jackson', 24.0), ('Lane', 8.0), ('Multnomah', 2.0), ('Washington', 6.0)], 'Pennsylvania': [('Erie', 7.0), ('Philadelphia', 13.0), ('Dauphin', 6.0), ('Lancaster', 5.0), ('Philadelphia', 10.0), ('Berks', 19.0), ('Berks', 16.0), ('Erie', 18.0), ('Lackawanna', 5.0), ('Philadelphia', 13.0), ('Washington', 9.0), ('Allegheny', 5.0), ('Luzerne', 11.0), ('Allegheny', 9.0), ('Allegheny', 22.0), ('Lackawanna', 11.0), ('Schuylkill', 9.0), ('Allegheny', 8.0), ('Beaver', 7.0), ('Cambria', 23.0), ('Schuylkill', 6.0), ('Dauphin', 16.0), ('Dauphin', 14.0), ('Philadelphia', 24.0), ('Allegheny', 15.0), ('Erie', 6.0), ('Monroe', 1.0), ('Washington', 2.0), ('Washington', 0.0), ('Westmoreland', 1.0), ('Bucks', 5.0), ('Lackawanna', 0.0), ('Philadelphia', 11.0), ('Allegheny', 3.0), ('Lawrence', 14.0), ('Lehigh', 2.0), ('Washington', 1.0), ('Westmoreland', 0.0), ('Westmoreland', 1.0), ('York', 1.0), ('Allegheny', 5.0), ('Bucks', 9.0), ('Philadelphia', 8.0), ('Allegheny', 10.0), ('Allegheny', 15.0), ('Beaver', 6.0), ('Erie', 7.0), ('Lackawanna', 5.0), ('Montgomery', 3.0), ('Bucks', 1.0), ('Cambria', 11.0), ('Cambria', 7.0), ('Philadelphia', 7.0), ('Washington', 1.0), ('Allegheny', 7.0), ('Allegheny', 2.0), ('Bucks', 17.0), ('Philadelphia', 2.0), ('Washington', 3.0), ('Adams', 3.0), ('Berks', 8.0), ('Beaver', 5.0), ('Lawrence', 15.0), ('Northampton', 0.0), ('Philadelphia', 17.0), ('Washington', 2.0), ('Allegheny', 1.0), ('Lackawanna', 0.0), ('Allegheny', 8.0), ('Blair', 5.0), ('Lackawanna', 2.0), ('Philadelphia', 8.0), ('Blair', 0.0), ('Erie', 8.0), ('Beaver', 5.0), ('Westmoreland', 0.0), ('Allegheny', 10.0), ('Allegheny', 7.0), ('Dauphin', 6.0), ('Dauphin', 3.0), ('Erie', 14.0), ('Schuylkill', 0.0), ('Westmoreland', 0.0), ('Dauphin', 6.0), ('Allegheny', 2.0), ('Allegheny', 3.0), ('Adams', 1.0), ('Allegheny', 2.0), ('Allegheny', 5.0), ('Bucks', 6.0), ('Erie', 9.0), ('Lawrence', 5.0), ('Cambria', 2.0), ('Philadelphia', 6.0), ('Cambria', 3.0), ('Philadelphia', 2.0), ('Allegheny', 9.0), ('Lackawanna', 3.0), ('Cambria', 0.0), ('Allegheny', 3.0)], 'Tennessee': [('Shelby', 38.0), ('Shelby', 74.0), ('Knox', 27.0), ('Shelby', 7.0), ('Knox', 39.0), ('Davidson', 18.0), ('Davidson', 24.0), ('Davidson', 28.0), ('Shelby', 9.0), ('Shelby', 9.0), ('Davidson', 10.0), ('Shelby', 15.0), ('Davidson', 8.0), ('Shelby', 3.0), ('Shelby', 23.0), ('Sullivan', 13.0), ('Shelby', 11.0), ('Shelby', 10.0), ('Shelby', 10.0), ('Shelby', 2.0), ('Blount', 2.0), ('Shelby', 3.0), ('Shelby', 2.0), ('Davidson', 5.0), ('Shelby', 5.0), ('Davidson', 5.0), ('Shelby', 5.0)], 'Texas': [('Bexar', 22.0), ('Bexar', 6.0), ('Dallas', 2.0), ('El Paso', 47.0), ('Bexar', 34.0), ('Bexar', 18.0), ('Dallas', 25.0), ('El Paso', 7.0), ('El Paso', 18.0), ('Harris', 14.0), ('El Paso', 40.0), ('El Paso', 30.0), ('Harris', 11.0), ('Harris', 16.0), ('Tarrant', 10.0), ('Harris', 9.0), ('Harris', 34.0), ('Tarrant', 5.0), ('El Paso', 40.0), ('El Paso', 15.0), ('Harris', 9.0), ('Harris', 11.0), ('Tarrant', 15.0), ('Travis', 11.0), ('Bexar', 11.0), ('Webb', 10.0), ('Bexar', 14.0), ('Dallas', 6.0), ('El Paso', 10.0), ('El Paso', 15.0), ('Bexar', 7.0), ('El Paso', 6.0), ('Webb', 18.0), ('Bexar', 8.0), ('El Paso', 1.0), ('El Paso', 7.0), ('El Paso', 2.0), ('El Paso', 8.0), ('Harris', 3.0), ('Harris', 3.0), ('Webb', 6.0), ('El Paso', 5.0), ('Tarrant', 6.0), ('Webb', 6.0), ('El Paso', 5.0), ('El Paso', 6.0), ('El Paso', 14.0), ('El Paso', 5.0), ('El Paso', 9.0), ('Harris', 10.0), ('Bexar', 8.0), ('El Paso', 14.0), ('El Paso', 7.0), ('Harris', 16.0), ('Tarrant', 8.0), ('Bexar', 5.0), ('El Paso', 5.0), ('El Paso', 8.0), ('Harris', 3.0), ('Harris', 2.0), ('El Paso', 2.0), ('Cameron', 8.0), ('Dallas', 0.0), ('El Paso', 10.0), ('El Paso', 27.0), ('Harris', 2.0), ('Harris', 6.0), ('Jefferson', 3.0), ('El Paso', 11.0), ('Bexar', 7.0), ('Tarrant', 9.0), ('Harris', 5.0), ('Webb', 8.0), ('El Paso', 5.0), ('El Paso', 6.0), ('El Paso', 3.0), ('Tarrant', 7.0), ('Travis', 5.0), ('McLennan', 3.0), ('El Paso', 11.0), ('Harris', 5.0), ('El Paso', 9.0), ('El Paso', 11.0), ('McLennan', 1.0), ('Jefferson', 2.0), ('El Paso', 10.0), ('El Paso', 5.0), ('Harris', 2.0), ('Webb', 9.0), ('Jefferson', 1.0), ('Tarrant', 2.0), ('McLennan', 1.0), ('Tarrant', 5.0), ('Travis', 6.0), ('Bexar', 3.0), ('Tarrant', 5.0), ('Bexar', 1.0), ('Tarrant', 5.0), ('Harris', 7.0), ('Webb', 7.0), ('Webb', 9.0), ('Jefferson', 2.0), ('El Paso', 1.0), ('El Paso', 2.0)], 'Utah': [('Salt Lake', 19.0), ('Davis', 22.0), ('Salt Lake', 19.0), ('Salt Lake', 31.0), ('Utah', 42.0), ('Utah', 15.0), ('Salt Lake', 20.0), ('Utah', 23.0), ('Salt Lake', 9.0), ('Utah', 38.0), ('Utah', 16.0), ('Salt Lake', 13.0), ('Utah', 40.0), ('Salt Lake', 15.0), ('Salt Lake', 25.0), ('Weber', 7.0), ('Salt Lake', 15.0), ('Utah', 14.0), ('Utah', 36.0), ('Salt Lake', 8.0), ('Salt Lake', 16.0), ('Salt Lake', 13.0), ('Weber', 8.0), ('Utah', 0.0), ('Salt Lake', 6.0), ('Salt Lake', 3.0)], 'Vermont': [('Chittenden', 18.0), ('Chittenden', 20.0), ('Chittenden', 3.0), ('Chittenden', 49.0), ('Rutland', 15.0), ('Chittenden', 3.0), ('Chittenden', 6.0), ('Rutland', 3.0), ('Rutland', 6.0), ('Chittenden', 5.0), ('Chittenden', 2.0)], 'Virginia': [('Fairfax', 39.0), ('Norfolk City', 15.0), ('Richmond City', 17.0), ('Fairfax', 15.0), ('Alexandria City', 13.0), ('Newport News City', 8.0), ('Arlington', 16.0), ('Norfolk City', 6.0), ('Fairfax', 47.0), ('Fairfax', 9.0), ('Fairfax', 6.0), ('Newport News City', 11.0), ('Fairfax', 8.0), ('Richmond City', 8.0), ('Alexandria City', 6.0), ('Richmond City', 0.0), ('Fairfax', 9.0), ('Fairfax', 3.0), ('Norfolk City', 14.0), ('Hampton City', 11.0), ('Richmond City', 7.0), ('Richmond City', 11.0), ('Norfolk City', 14.0), ('Fairfax', 6.0), ('Alexandria City', 10.0), ('Richmond City', 5.0), ('Roanoke City', 10.0), ('Roanoke City', 13.0), ('Fairfax', 8.0), ('Richmond City', 6.0), ('Fairfax', 7.0), ('Newport News City', 2.0), ('Richmond City', 2.0), ('Alexandria City', 8.0), ('Fairfax', 11.0), ('Fairfax', 5.0), ('Norfolk City', 3.0), ('Richmond City', 1.0), ('Arlington', 2.0), ('Arlington', 2.0), ('Virginia Beach City', 3.0), ('Virginia Beach City', 5.0), ('Henrico', 3.0), ('Alexandria City', 0.0), ('Alexandria City', 3.0), ('Hampton City', 8.0), ('Roanoke City', 10.0), ('Alexandria City', 3.0), ('Henrico', 1.0), ('Hampton City', 5.0), ('Hampton City', 3.0)], 'Washington': [('King', 55.0), ('King', 22.0), ('Yakima', 35.0), ('King', 44.0), ('Snohomish', 76.0), ('Spokane', 32.0), ('Yakima', 58.0), ('Yakima', 57.0), ('King', 45.0), ('King', 35.0), ('Thurston', 32.0), ('King', 25.0), ('King', 13.0), ('Snohomish', 40.0), ('Spokane', 19.0), ('Clark', 15.0), ('Clark', 15.0), ('Spokane', 13.0), ('Spokane', 20.0), ('King', 25.0), ('King', 15.0), ('King', 24.0), ('King', 26.0), ('Pierce', 14.0), ('Spokane', 16.0), ('Thurston', 18.0), ('King', 8.0), ('Spokane', 32.0), ('King', 9.0), ('King', 11.0), ('Spokane', 16.0), ('Pierce', 3.0), ('Spokane', 13.0), ('King', 3.0), ('King', 9.0), ('King', 6.0)], 'Wisconsin': [('Milwaukee', 10.0), ('Milwaukee', 22.0), ('Milwaukee', 14.0), ('Milwaukee', 9.0), ('Racine', 35.0), ('Milwaukee', 2.0), ('Milwaukee', 7.0), ('Milwaukee', 3.0), ('Milwaukee', 5.0), ('Milwaukee', 13.0), ('Milwaukee', 10.0), ('Milwaukee', 2.0), ('Waukesha', 3.0), ('Waukesha', 2.0), ('Racine', 7.0), ('Waukesha', 3.0), ('Milwaukee', 7.0), ('Dodge', 2.0), ('Milwaukee', 3.0), ('Milwaukee', 3.0)], 'Iowa': [('Polk', 14.0), ('Polk', 18.0), ('Linn', 9.0), ('Polk', 11.0), ('Polk', 18.0), ('Linn', 1.0), ('Polk', 9.0), ('Polk', 5.0), ('Polk', 3.0), ('Scott', 2.0), ('Scott', 3.0), ('Polk', 3.0)], 'Kansas': [('Sedgwick', 16.0), ('Sedgwick', 9.0), ('Sherman', 0.0), ('Linn', 10.0), ('Sedgwick', 18.0), ('Sedgwick', 8.0), ('Linn', 2.0), ('Sedgwick', 6.0), ('Sedgwick', 7.0), ('Sedgwick', 3.0), ('Sedgwick', 6.0), ('Wyandotte', 3.0), ('Wyandotte', 3.0), ('Wyandotte', 3.0), ('Wyandotte', 2.0)], 'Montana': [('Missoula', 14.0), ('Missoula', 19.0), ('Flathead', 28.0), ('Flathead', 9.0), ('Missoula', 11.0), ('Cascade', 7.0), ('Flathead', 13.0), ('Flathead', 16.0), ('Gallatin', 13.0), ('Yellowstone', 30.0), ('Gallatin', 6.0), ('Yellowstone', 3.0), ('Gallatin', 5.0), ('Yellowstone', 8.0), ('Flathead', 13.0), ('Gallatin', 2.0), ('Gallatin', 10.0), ('Lewis and Clark', 1.0), ('Gallatin', 2.0), ('Gallatin', 2.0)], 'Nevada': [('Washoe', 52.0), ('Washoe', 8.0), ('Clark', 13.0), ('Washoe', 13.0), ('Douglas', 8.0), ('Washoe', 13.0), ('Clark', 15.0), ('Washoe', 32.0), ('Clark', 6.0), ('Clark', 19.0), ('Clark', 16.0), ('Clark', 28.0), ('Douglas', 14.0), ('Washoe', 7.0), ('Clark', 0.0), ('Clark', 15.0), ('Carson City', 13.0), ('Clark', 0.0), ('Clark', 0.0), ('Clark', 18.0), ('Washoe', 6.0), ('Washoe', 24.0), ('Clark', 1.0), ('Clark', 7.0), ('Washoe', 10.0), ('Washoe', 17.0), ('Carson City', 11.0), ('Clark', 7.0), ('Clark', 0.0), ('Washoe', 22.0), ('Clark', 16.0), ('Clark', 26.0), ('Washoe', 25.0), ('Washoe', 17.0), ('Washoe', 5.0), ('Clark', 0.0), ('Washoe', 6.0), ('Washoe', 5.0), ('Clark', 10.0), ('Clark', 13.0), ('Washoe', 9.0), ('Clark', 15.0), ('Washoe', 8.0), ('Washoe', 10.0), ('Washoe', 3.0), ('Washoe', 3.0), ('Washoe', 13.0), ('Douglas', 0.0), ('Washoe', 2.0), ('Washoe', 2.0), ('Clark', 7.0), ('Clark', 3.0), ('Washoe', 2.0), ('Clark', 3.0), ('Washoe', 23.0), ('Washoe', 5.0), ('Washoe', 8.0), ('Washoe', 6.0), ('Washoe', 5.0), ('Washoe', 7.0), ('Clark', 3.0), ('Washoe', 2.0), ('Clark', 2.0), ('Washoe', 2.0), ('Washoe', 10.0)], 'West Virginia': [('Greenbrier', 2.0), ('Kanawha', 8.0), ('Brooke', 6.0), ('Hancock', 5.0), ('Ohio', 16.0), ('Hancock', 11.0), ('Brooke', 7.0), ('Brooke', 3.0), ('Ohio', 7.0), ('Hancock', 17.0), ('Hancock', 3.0), ('Hancock', 3.0), ('Hancock', 3.0), ('Hancock', 3.0), ('Brooke', 5.0)], 'Puerto Rico': [('San Juan', 35.0), ('San Juan', 18.0), ('San Juan', 28.0), ('San Juan', 18.0), ('San Juan', 17.0), ('San Juan', 34.0), ('San Juan', 16.0), ('San Juan', 7.0), ('San Juan', 17.0), ('San Juan', 19.0), ('San Juan', 28.0), ('San Juan', 10.0), ('Ponce', 5.0), ('Guaynabo', 5.0), ('San Juan', 13.0), ('Bayamon', 6.0), ('Caguas', 7.0), ('Ponce', 6.0), ('Ponce', 14.0)], 'Alabama': [('Jefferson', 23.0), ('Jefferson', 5.0), ('Montgomery', 0.0), ('Jefferson', 5.0), ('Jefferson', 17.0), ('Jefferson', 6.0), ('Jefferson', 17.0), ('Jefferson', 0.0), ('Jefferson', 9.0), ('Jefferson', 0.0), ('Jefferson', 7.0), ('Jefferson', 20.0), ('Jefferson', 8.0), ('Jefferson', 7.0), ('Jefferson', 7.0), ('Jefferson', 6.0), ('Jefferson', 6.0), ('Jefferson', 3.0), ('Jefferson', 8.0), ('Jefferson', 3.0), ('Jefferson', 5.0), ('Jefferson', 3.0)], 'District Of Columbia': [('District of Columbia', 22.0), ('District of Columbia', 7.0), ('District of Columbia', 22.0), ('District of Columbia', 13.0), ('District of Columbia', 16.0), ('District of Columbia', 14.0), ('District of Columbia', 31.0), ('District of Columbia', 22.0), ('District of Columbia', 22.0), ('District of Columbia', 8.0), ('District of Columbia', 5.0), ('District of Columbia', 9.0)], 'Georgia': [('DeKalb', 8.0), ('Fulton', 25.0), ('DeKalb', 7.0), ('Paulding', 5.0), ('DeKalb', 2.0), ('Paulding', 2.0), ('DeKalb', 8.0), ('Paulding', 3.0), ('DeKalb', 10.0), ('Fulton', 9.0), ('Paulding', 3.0), ('DeKalb', 2.0), ('DeKalb', 8.0), ('Fulton', 7.0)], 'Nebraska': [('Douglas', 28.0), ('Douglas', 8.0), ('Lancaster', 23.0), ('Douglas', 50.0), ('Douglas', 3.0), ('Douglas', 8.0), ('Lancaster', 14.0), ('Lancaster', 8.0), ('Douglas', 18.0), ('Lancaster', 18.0), ('Lancaster', 11.0), ('Lancaster', 6.0), ('Douglas', 2.0)], 'Country Of Mexico': [('CHIHUAHUA STATE', 45.0), ('CHIHUAHUA STATE', 13.0), ('BAJA CALIFORNIA NORTE', 14.0), ('BAJA CALIFORNIA NORTE', 36.0), ('BAJA CALIFORNIA NORTE', 14.0), ('CHIHUAHUA STATE', 34.0), ('BAJA CALIFORNIA NORTE', 17.0), ('BAJA CALIFORNIA NORTE', 10.0), ('BAJA CALIFORNIA NORTE', 33.0), ('CHIHUAHUA STATE', 6.0), ('BAJA CALIFORNIA NORTE', 5.0), ('BAJA CALIFORNIA NORTE', 60.0), ('BAJA CALIFORNIA NORTE', 28.0), ('BAJA CALIFORNIA NORTE', 0.0), ('BAJA CALIFORNIA NORTE', 13.0), ('BAJA CALIFORNIA NORTE', 8.0), ('CHIHUAHUA STATE', 14.0), ('CHIHUAHUA STATE', 25.0), ('BAJA CALIFORNIA NORTE', 2.0), ('BAJA CALIFORNIA NORTE', 1.0), ('BAJA CALIFORNIA NORTE', 3.0), ('CHIHUAHUA STATE', 14.0), ('CHIHUAHUA STATE', 8.0), ('BAJA CALIFORNIA NORTE', 8.0), ('BAJA CALIFORNIA NORTE', 79.0), ('BAJA CALIFORNIA NORTE', 18.0), ('CHIHUAHUA STATE', 23.0), ('CHIHUAHUA STATE', 3.0)], 'Connecticut': [('Fairfield', 24.0), ('Fairfield', 24.0), ('Fairfield', 10.0), ('Fairfield', 13.0), ('Hartford', 26.0), ('Fairfield', 8.0), ('Fairfield', 13.0), ('Hartford', 61.0), ('New Haven', 9.0), ('Hartford', 18.0), ('Fairfield', 7.0), ('Fairfield', 14.0), ('Hartford', 6.0), ('New Haven', 7.0), ('Fairfield', 5.0), ('Fairfield', 5.0), ('Hartford', 2.0), ('Hartford', 5.0), ('New Haven', 5.0), ('New Haven', 2.0), ('Litchfield', 1.0)], 'Alaska': [('Fairbanks North Star ', 23.0), ('Anchorage ', 39.0), ('Anchorage ', 19.0), ('Anchorage ', 18.0), ('Fairbanks North Star ', 24.0), ('Fairbanks North Star ', 19.0), ('Anchorage ', 15.0), ('Fairbanks North Star ', 5.0), ('Anchorage ', 15.0), ('Anchorage ', 8.0), ('Anchorage ', 11.0), ('Fairbanks North Star ', 6.0), ('Fairbanks North Star ', 16.0), ('Fairbanks North Star ', 2.0)]}\n"
     ]
    }
   ],
   "source": [
    "### YOUR CODE HERE ###\n",
    "aqi_dict = {}\n",
    "for state,county,aqi in epa_tuples:\n",
    "    if state in aqi_dict:\n",
    "        aqi_dict[state].append((county,aqi))\n",
    "    else:\n",
    "        aqi_dict[state]=[(county,aqi)]\n",
    "print(aqi_dict)"
   ]
  },
  {
   "cell_type": "markdown",
   "metadata": {
    "id": "Tndsby6dn4c4"
   },
   "source": [
    "<details><summary><h4>Hint 1</h4></summary>\n",
    "\n",
    "Refer to what you learned about unpacking tuples in loops and creating dictionaries.\n",
    "\n",
    "</details>"
   ]
  },
  {
   "cell_type": "markdown",
   "metadata": {
    "id": "zJ45IKZ0oA4Z"
   },
   "source": [
    "<details><summary><h4>Hint 2</h4></summary>\n",
    "\n",
    "There are 3 elements in each tuple in `epa_tuples`. Therefore, for each iteration of your loop, you'll need to unpack these 3 elements into their own variables.\n",
    "\n",
    "</details>"
   ]
  },
  {
   "cell_type": "markdown",
   "metadata": {
    "id": "6IzSWU-sodMQ"
   },
   "source": [
    "<details><summary><h4>Hint 3</h4></summary>\n",
    "\n",
    "With each loop iteration, check whether the state is already a key in `aqi_dict`. Then, use conditional logic:\n",
    "* If it is, append the county and AQI as a tuple to the list at that state's value.\n",
    "* If it's not, assign the state as a new key in `aqi_dict`, with a value that is a list containing the county-AQI tuple.\n",
    "\n",
    "</details>"
   ]
  },
  {
   "cell_type": "markdown",
   "metadata": {
    "id": "igHmjfKI0eHK"
   },
   "source": [
    "# Task 2: Use the dictionary to retrieve information\n",
    "\n",
    "Now that you have a dictionary of county-AQI readings by state, you can use it to retrieve information and draw further insight from your data."
   ]
  },
  {
   "cell_type": "markdown",
   "metadata": {
    "id": "cGZhPv6g06W4"
   },
   "source": [
    "## 2a: Calculate how many readings were recorded in the state of Arizona\n",
    "\n",
    "Use your Python skills to calculate the number of readings that were recorded in the state of Arizona.\n",
    "\n",
    "*Expected output:*\n",
    "```\n",
    "[OUT] 72\n",
    "```"
   ]
  },
  {
   "cell_type": "code",
   "execution_count": 6,
   "metadata": {
    "id": "E14DYfPFzk5K"
   },
   "outputs": [
    {
     "data": {
      "text/plain": [
       "72"
      ]
     },
     "execution_count": 6,
     "metadata": {},
     "output_type": "execute_result"
    }
   ],
   "source": [
    "### YOUR CODE HERE ###\n",
    "len(aqi_dict['Arizona'])"
   ]
  },
  {
   "cell_type": "markdown",
   "metadata": {
    "id": "JQacJGL09nn2"
   },
   "source": [
    "<details><summary><h4>Hint</h4></summary>\n",
    "\n",
    "Because you only need a count of records, try using the `len()` function to check how many records are in the list that represents the value associated with the `'Arizona'` key.\n",
    "\n",
    "</details>"
   ]
  },
  {
   "cell_type": "markdown",
   "metadata": {
    "id": "vWGIlgb29Nzd"
   },
   "source": [
    "## 2b: Calculate the mean AQI from the state of California\n",
    "\n",
    "Use your Python skills to calculate the mean of the AQI readings that were recorded in the state of California. Note that there are many different approaches you can take. Be creative!\n",
    "\n",
    "*Expected output:*\n",
    "```\n",
    "[OUT] 9.412280701754385\n",
    "```"
   ]
  },
  {
   "cell_type": "code",
   "execution_count": 9,
   "metadata": {
    "id": "Rb9y0usK0Ebn"
   },
   "outputs": [
    {
     "data": {
      "text/plain": [
       "9.412280701754385"
      ]
     },
     "execution_count": 9,
     "metadata": {},
     "output_type": "execute_result"
    }
   ],
   "source": [
    "### YOUR CODE HERE ###\n",
    "sum = 0\n",
    "for county,aqi in aqi_dict['California']:\n",
    "    sum += aqi\n",
    "sum/len(aqi_dict['California'])"
   ]
  },
  {
   "cell_type": "markdown",
   "metadata": {
    "id": "M5wrWklg-caP"
   },
   "source": [
    "<details><summary><h4>Hint 1</h4></summary>\n",
    "\n",
    "When you look up a state as a key in `aqi_dict`, its corresponding value is a list of tuples. Consider using a list comprehension to unpack the data contained in each tuple so you can perform operations on it.\n",
    "\n",
    "</details>"
   ]
  },
  {
   "cell_type": "markdown",
   "metadata": {
    "id": "S2AJij6g_cy6"
   },
   "source": [
    "<details><summary><h4>Hint 2</h4></summary>\n",
    "\n",
    "If you can create a list of just the AQI values from each tuple in the values of the 'California' key, then you can calculate the mean of the list in the next step.\n",
    "\n",
    "</details>"
   ]
  },
  {
   "cell_type": "markdown",
   "metadata": {
    "id": "IA7ArHMU_5w4"
   },
   "source": [
    "<details><summary><h4>Hint 3</h4></summary>\n",
    "\n",
    "One way to construct your list is:\n",
    "```\n",
    "[aqi for county, aqi in aqi_dict['California']]\n",
    "```\n",
    "Then, you can sum all the elements in the list and divide by the length of the list to calculate the mean.\n",
    "\n",
    "</details>"
   ]
  },
  {
   "cell_type": "markdown",
   "metadata": {
    "id": "QK6P3Az0J_H9"
   },
   "source": [
    "# Task 3: Define a `county_counter()` function\n",
    "\n",
    "You want to be able to quickly look up how many times a county is represented in a given state's readings. Even though you already have a list containing just county names, it's not safe to rely on the counts from that list alone because some states might have counties with the same name. Therefore, you'll need to use the state-specific information in `aqi_dict` to calculate this information."
   ]
  },
  {
   "cell_type": "markdown",
   "metadata": {
    "id": "vqEANCSJOUU0"
   },
   "source": [
    "## 3a: Write the function\n",
    "\n",
    "* Define a function called `county_counter` that takes one argument:\n",
    "    * `state` - a string of the name of a U.S. state\n",
    "\n",
    "* Return `county_dict` - a `dictionary` object whose keys are counties of the `state` given in the function's argument. For each county key, the corresponding value should be the count of the number of times that county is represented in the AQI data for that state.\n",
    "\n",
    "*Example:*\n",
    "```\n",
    "[IN]  county_counter('Florida')\n",
    "[OUT] {'Duval': 13,\n",
    "       'Hillsborough': 9,\n",
    "       'Broward': 18,\n",
    "       'Miami-Dade': 15,\n",
    "       'Orange': 6,\n",
    "       'Palm Beach': 5,\n",
    "       'Pinellas': 6,\n",
    "       'Sarasota': 9}\n",
    "```\n",
    "\n",
    "**NOTE:** Depending on the version of Python you're using, the order of the items returned by a dictionary can vary, so it's possible that your keys might not print in the same order as listed above. However, the key-value pairs themselves will be the same if you do the exercise successfully."
   ]
  },
  {
   "cell_type": "code",
   "execution_count": 15,
   "metadata": {
    "id": "VoYZhy8PLMvN"
   },
   "outputs": [
    {
     "data": {
      "text/plain": [
       "{'Duval': 13,\n",
       " 'Hillsborough': 9,\n",
       " 'Broward': 18,\n",
       " 'Miami-Dade': 15,\n",
       " 'Orange': 6,\n",
       " 'Palm Beach': 5,\n",
       " 'Pinellas': 6,\n",
       " 'Sarasota': 9}"
      ]
     },
     "execution_count": 15,
     "metadata": {},
     "output_type": "execute_result"
    }
   ],
   "source": [
    "### YOUR CODE HERE ###\n",
    "def county_counter(state):\n",
    "    county_dict = {}\n",
    "    for county,aqi in aqi_dict[state]:\n",
    "        if county in county_dict:\n",
    "            county_dict[county] += 1\n",
    "        else:\n",
    "            county_dict[county] = 1\n",
    "    return county_dict\n",
    "county_counter('Florida')"
   ]
  },
  {
   "cell_type": "markdown",
   "metadata": {
    "id": "731imqkOOs3w"
   },
   "source": [
    "<details><summary><h4>Hint 1</h4></summary>\n",
    "\n",
    "Refer to what you learned about function syntax, how dictionaries behave with iteration techniques, and how to unpack tuples.\n",
    "\n",
    "</details>"
   ]
  },
  {
   "cell_type": "markdown",
   "metadata": {
    "id": "5IiueHVyPN6i"
   },
   "source": [
    "<details><summary><h4>Hint 2</h4></summary>\n",
    "\n",
    "* Use `aqi_dict` in the body of the function.\n",
    "\n",
    "* When you look up a state as a key in `aqi_dict`, its corresponding value is a list of tuples. Unpack the tuples to extract the county, which you can then use to build `county_dict`.\n",
    "\n",
    "</details>"
   ]
  },
  {
   "cell_type": "markdown",
   "metadata": {
    "id": "c-IjDlffPyST"
   },
   "source": [
    "<details><summary><h4>Hint 3</h4></summary>\n",
    "\n",
    "* Begin by instantiating `county_dict` as an empty dictionary.\n",
    "* Then, in a `for` loop, unpack `county, aqi` from each tuple in `aqi_dict[state]`.\n",
    "* Next, use conditional logic to assemble `county_dict`:\n",
    "    * If `county` is already a key in `county_dict`, increment the value at that key by 1.\n",
    "    * If `county` is not a key in `county_dict`, then assign it as a new key whose value is 1.\n",
    "* Return `county_dict`.\n",
    "\n",
    "</details>"
   ]
  },
  {
   "cell_type": "markdown",
   "metadata": {
    "id": "3lt2nty2QzHM"
   },
   "source": [
    "## 3b: Use the function to check Washington County, PA.\n",
    "\n",
    "Use the `county_counter()` function to calculate how many AQI readings were from `Washington` County, `Pennsylvania`.\n",
    "\n",
    "*Expected result:*\n",
    "```\n",
    "[OUT] 7\n",
    "```"
   ]
  },
  {
   "cell_type": "code",
   "execution_count": 18,
   "metadata": {
    "colab": {
     "base_uri": "https://localhost:8080/"
    },
    "executionInfo": {
     "elapsed": 7,
     "status": "ok",
     "timestamp": 1680293128736,
     "user": {
      "displayName": "Matteo Riotto",
      "userId": "15211004813978485634"
     },
     "user_tz": 420
    },
    "id": "hLdLi46fM0wy",
    "outputId": "36830c47-ce36-4a76-da10-db6ee54d6a71"
   },
   "outputs": [
    {
     "data": {
      "text/plain": [
       "7"
      ]
     },
     "execution_count": 18,
     "metadata": {},
     "output_type": "execute_result"
    }
   ],
   "source": [
    "### YOUR CODE HERE ###\n",
    "county_counter('Pennsylvania')['Washington']"
   ]
  },
  {
   "cell_type": "markdown",
   "metadata": {
    "id": "N68ywkC5R5x1"
   },
   "source": [
    "<details><summary><h4>Hint</h4></summary>\n",
    "\n",
    "Use the `county_counter()` function to generate a dictionary of county counts for the state of Pennsylvania. Then, use the resulting dictionary to look up the count for Washington county.\n",
    "\n",
    "</details>\n"
   ]
  },
  {
   "cell_type": "markdown",
   "metadata": {
    "id": "R5KpMuUtVk66"
   },
   "source": [
    "## 3c: Use the function to check the different counties in Indiana\n",
    "\n",
    "Use the `county_counter` function to obtain a list of all the different counties in the state of Indiana.\n",
    "\n",
    "*Expected result:*\n",
    "```\n",
    "[OUT] dict_keys(['Marion', 'St. Joseph', 'Vanderburgh', 'Allen', 'Vigo'\n",
    "      'Hendricks', 'Lake'])\n",
    "```\n",
    "\n",
    "**NOTE:** Depending on the version of Python you're using, the order of the items returned by a dictionary can vary, so it's possible that your keys might not print in this same order as listed above. However, the key-value pairs themselves will be the same if you do the exercise successfully."
   ]
  },
  {
   "cell_type": "code",
   "execution_count": 21,
   "metadata": {
    "colab": {
     "base_uri": "https://localhost:8080/"
    },
    "executionInfo": {
     "elapsed": 216,
     "status": "ok",
     "timestamp": 1680295256697,
     "user": {
      "displayName": "Matteo Riotto",
      "userId": "15211004813978485634"
     },
     "user_tz": 420
    },
    "id": "liiiVWXgV4_8",
    "outputId": "c73b05a3-7585-49e3-f55e-59c1b0ab6b61"
   },
   "outputs": [
    {
     "data": {
      "text/plain": [
       "dict_keys(['Marion', 'St. Joseph', 'Vanderburgh', 'Allen', 'Vigo', 'Hendricks', 'Lake'])"
      ]
     },
     "execution_count": 21,
     "metadata": {},
     "output_type": "execute_result"
    }
   ],
   "source": [
    "### YOUR CODE HERE ###\n",
    "county_counter('Indiana').keys()"
   ]
  },
  {
   "cell_type": "markdown",
   "metadata": {
    "id": "7nLYmg5ZWnDz"
   },
   "source": [
    "<details><summary><h4>Hint 1</h4></summary>\n",
    "\n",
    "Refer to what you learned about dictionary methods.\n",
    "\n",
    "</details>"
   ]
  },
  {
   "cell_type": "markdown",
   "metadata": {
    "id": "EOLQUj4ZWvgz"
   },
   "source": [
    "<details><summary><h4>Hint 2</h4></summary>\n",
    "\n",
    "Enter `'Indiana'` as an argument to your `county_counter()` function to get a dictionary of county counts in the state of Indiana. Then, use a dictionary method on the resulting dictionary.\n",
    "\n",
    "</details>"
   ]
  },
  {
   "cell_type": "markdown",
   "metadata": {
    "id": "2B-xdyiCXNdm"
   },
   "source": [
    "<details><summary><h4>Hint 3</h4></summary>\n",
    "\n",
    "Use the `keys()` dictionary method to return a list of the dictionary's keys, which represents the different counties in the state of Indiana.\n",
    "\n",
    "</details>"
   ]
  },
  {
   "cell_type": "markdown",
   "metadata": {
    "id": "gqDduvi4Xe1U"
   },
   "source": [
    "# Task 4: Use sets to determine how many counties share a name\n",
    "\n",
    "In this task, you'll create a list of every county from every state, then use it to determine how many counties have the same name."
   ]
  },
  {
   "cell_type": "markdown",
   "metadata": {
    "id": "PY-64mhWeJiZ"
   },
   "source": [
    "## 4a: Construct a list of every county from every state\n",
    "\n",
    "1.  * Use `aqi_dict` and `county_counter()` to construct a list of every county from every state.\n",
    "    * Assign the result to a variable called `all_counties`.\n",
    "\n",
    "2. Find the length of `all_counties`.\n",
    "\n",
    "*Expected result:*\n",
    "```\n",
    "[OUT] 277\n",
    "```"
   ]
  },
  {
   "cell_type": "markdown",
   "metadata": {
    "id": "S4CXm4CrfFyh"
   },
   "source": [
    "<details><summary><h4>Hint 1</h4></summary>\n",
    "\n",
    "Refer to what you learned about looping over dictionaries. Also, review previous tasks you completed in this notebook.\n",
    "\n",
    "</details>"
   ]
  },
  {
   "cell_type": "markdown",
   "metadata": {
    "id": "LdobBRhXfM-f"
   },
   "source": [
    "<details><summary><h4>Hint 2</h4></summary>\n",
    "\n",
    "* Note that when you call the `keys()` method on a dictionary, the returned object is similar to a list, but it's not of type `list`. It's a dictionary view object, but you can convert it to a list using the `list()` function.\n",
    "\n",
    "* Be mindful of the following:\n",
    "    * `list_a.append(list_b)` increases the length of `list_a`  by 1 no matter how long `list_b` is, because `append()` creates a list of lists.\n",
    "    * `list_a + list_b` increases the length of `list_a` by `len(list_b)`, because adding (`+`) lists combines them.\n",
    "\n",
    "</details>"
   ]
  },
  {
   "cell_type": "markdown",
   "metadata": {
    "id": "kaFWKV3OhXrb"
   },
   "source": [
    "<details><summary><h4>Hint 3</h4></summary>\n",
    "\n",
    "1. Instantiate an empty list called `all_counties`.\n",
    "2. Loop over each state in `aqi_dict.keys()`. For each iteration:\n",
    "    * Extract a list of that state's counties using `list(county_counter(state).keys())`.\n",
    "    * Add the list of counties to `all_counties`.\n",
    "3. Print `len(all_counties)`\n",
    "\n",
    "</details>"
   ]
  },
  {
   "cell_type": "code",
   "execution_count": 47,
   "metadata": {
    "colab": {
     "base_uri": "https://localhost:8080/"
    },
    "executionInfo": {
     "elapsed": 361,
     "status": "ok",
     "timestamp": 1680295739343,
     "user": {
      "displayName": "Matteo Riotto",
      "userId": "15211004813978485634"
     },
     "user_tz": 420
    },
    "id": "2z7AZm6KaEj0",
    "outputId": "33104782-9476-4ce7-a18b-8765e387c673"
   },
   "outputs": [
    {
     "name": "stdout",
     "output_type": "stream",
     "text": [
      "['Maricopa', 'Pima', 'Alameda', 'Butte', 'Fresno', 'Kern', 'Los Angeles', 'Mono', 'Sacramento', 'San Bernardino', 'San Diego', 'Santa Barbara', 'Shasta', 'Humboldt', 'Riverside', 'Santa Clara', 'Sonoma', 'Stanislaus', 'Monterey', 'Placer', 'Tulare', 'Contra Costa', 'El Dorado', 'Mendocino', 'Solano', 'San Luis Obispo', 'Ventura', 'Marin', 'Napa', 'San Francisco', 'Sutter', 'Orange', 'San Joaquin', 'Calaveras', 'Yolo', 'Imperial', 'San Mateo', 'Santa Cruz', 'Tuolumne', 'Inyo', 'El Paso', 'Boulder', 'Arapahoe', 'Denver', 'Larimer', 'Mesa', 'Weld', 'Jefferson', 'La Plata', 'Adams', 'Duval', 'Hillsborough', 'Broward', 'Miami-Dade', 'Orange', 'Palm Beach', 'Pinellas', 'Sarasota', 'Honolulu', 'Sangamon', 'Cook', 'Peoria', 'Madison', 'Will', 'Winnebago', 'Saint Clair', 'Marion', 'St. Joseph', 'Vanderburgh', 'Allen', 'Vigo', 'Hendricks', 'Lake', 'Henderson', 'Jefferson', 'McCracken', 'Kenton', 'Bell', 'Fayette', 'Boyd', 'East Baton Rouge', 'Orleans', 'Baltimore (City)', 'Allegany', 'Montgomery', \"Prince George's\", 'Baltimore', 'Garrett', 'Dorchester', 'Howard', 'Suffolk', 'Hampden', 'Worcester', 'Middlesex', 'Essex', 'Wayne', 'Macomb', 'Kalamazoo', 'Oakland', 'Kent', 'Saint Louis', 'Hennepin', 'Ramsey', 'Stearns', 'Anoka', 'Dakota', 'Saint Louis', 'Clay', 'Jackson', 'St. Louis City', 'Taney', 'Greene', 'Bergen', 'Middlesex', 'Camden', 'Atlantic', 'Hudson', 'Union', 'Burlington', 'Morris', 'Essex', 'Monmouth', 'Bernalillo', 'San Juan', 'Dona Ana', 'Sandoval', 'Santa Fe', 'New York', 'Niagara', 'Monroe', 'Schenectady', 'Nassau', 'Kings', 'Erie', 'Queens', 'Onondaga', 'Albany', 'Bronx', 'Steuben', 'Mecklenburg', 'Forsyth', 'Chatham', 'Cumberland', 'Gaston', 'Wake', 'Durham', 'Guilford', 'Franklin', 'Hamilton', 'Lucas', 'Cuyahoga', 'Mahoning', 'Summit', 'Stark', 'Lake', 'Montgomery', 'Jefferson', 'Preble', 'Belmont', 'Oklahoma', 'Cleveland', 'Tulsa', 'Comanche', 'Adair', 'Klamath', 'Multnomah', 'Jackson', 'Lane', 'Deschutes', 'Washington', 'Erie', 'Philadelphia', 'Dauphin', 'Lancaster', 'Berks', 'Lackawanna', 'Washington', 'Allegheny', 'Luzerne', 'Schuylkill', 'Beaver', 'Cambria', 'Monroe', 'Westmoreland', 'Bucks', 'Lawrence', 'Lehigh', 'York', 'Montgomery', 'Adams', 'Northampton', 'Blair', 'Shelby', 'Knox', 'Davidson', 'Sullivan', 'Blount', 'Bexar', 'Dallas', 'El Paso', 'Harris', 'Tarrant', 'Travis', 'Webb', 'Cameron', 'Jefferson', 'McLennan', 'Salt Lake', 'Davis', 'Utah', 'Weber', 'Chittenden', 'Rutland', 'Fairfax', 'Norfolk City', 'Richmond City', 'Alexandria City', 'Newport News City', 'Arlington', 'Hampton City', 'Roanoke City', 'Virginia Beach City', 'Henrico', 'King', 'Yakima', 'Snohomish', 'Spokane', 'Thurston', 'Clark', 'Pierce', 'Milwaukee', 'Racine', 'Waukesha', 'Dodge', 'Polk', 'Linn', 'Scott', 'Sedgwick', 'Sherman', 'Linn', 'Wyandotte', 'Missoula', 'Flathead', 'Cascade', 'Gallatin', 'Yellowstone', 'Lewis and Clark', 'Washoe', 'Clark', 'Douglas', 'Carson City', 'Greenbrier', 'Kanawha', 'Brooke', 'Hancock', 'Ohio', 'San Juan', 'Ponce', 'Guaynabo', 'Bayamon', 'Caguas', 'Jefferson', 'Montgomery', 'District of Columbia', 'DeKalb', 'Fulton', 'Paulding', 'Douglas', 'Lancaster', 'CHIHUAHUA STATE', 'BAJA CALIFORNIA NORTE', 'Fairfield', 'Hartford', 'New Haven', 'Litchfield', 'Fairbanks North Star ', 'Anchorage '] 277\n"
     ]
    }
   ],
   "source": [
    "### YOUR CODE HERE ###\n",
    "all_counties = []\n",
    "# print(aqi_dict)\n",
    "for state in aqi_dict.keys():\n",
    "    for county in county_counter(state).keys():\n",
    "        all_counties.append(county)    \n",
    "# print(all_counties,len(all_counties))"
   ]
  },
  {
   "cell_type": "markdown",
   "metadata": {
    "id": "gDepYdewiSIV"
   },
   "source": [
    "## 4b: Calculate how many counties share names\n",
    "\n",
    "Use `all_counties` and your knowledge of sets and list methods to determine how many counties share names.\n",
    "\n",
    "*Expected result:*\n",
    "```\n",
    "[OUT] 41\n",
    "```"
   ]
  },
  {
   "cell_type": "code",
   "execution_count": 49,
   "metadata": {
    "colab": {
     "base_uri": "https://localhost:8080/"
    },
    "executionInfo": {
     "elapsed": 9,
     "status": "ok",
     "timestamp": 1680297704209,
     "user": {
      "displayName": "Matteo Riotto",
      "userId": "15211004813978485634"
     },
     "user_tz": 420
    },
    "id": "ai7AFt_9irLm",
    "outputId": "78834ce6-acd3-4ded-f80f-d4fa4fc9ac6e"
   },
   "outputs": [
    {
     "name": "stdout",
     "output_type": "stream",
     "text": [
      "{'Peoria', 'Lucas', 'Nassau', 'Marion', 'Burlington', 'Cumberland', 'San Mateo', 'Kenton', 'East Baton Rouge', 'Adams', 'Boulder', 'Jackson', 'Wayne', 'Travis', 'La Plata', 'CHIHUAHUA STATE', 'Queens', 'Newport News City', 'Riverside', 'Ramsey', 'Erie', 'Knox', 'Multnomah', 'Scott', 'Niagara', \"Prince George's\", 'Baltimore', 'Monroe', 'Madison', 'Cuyahoga', 'Douglas', 'Paulding', 'Belmont', 'Sedgwick', 'Broward', 'Bell', 'Alexandria City', 'Adair', 'Anchorage ', 'Snohomish', 'Boyd', 'Napa', 'Atlantic', 'Monmouth', 'San Luis Obispo', 'Hillsborough', 'Lawrence', 'Fairfax', 'Kalamazoo', 'Ventura', 'Essex', 'San Joaquin', 'Wake', 'Hamilton', 'Schuylkill', 'DeKalb', 'Oklahoma', 'Orleans', 'Yakima', 'Orange', 'Kent', 'Northampton', 'San Bernardino', 'Guilford', 'Garrett', 'Middlesex', 'Caguas', 'Deschutes', 'Durham', 'Santa Cruz', 'BAJA CALIFORNIA NORTE', 'Sarasota', 'Imperial', 'Vanderburgh', 'Harris', 'Franklin', 'Dauphin', 'Virginia Beach City', 'District of Columbia', 'Summit', 'Contra Costa', 'Salt Lake', 'Tulsa', 'Jefferson', 'Gallatin', 'Stearns', 'Richmond City', 'Flathead', 'Washoe', 'Brooke', 'Macomb', 'Chatham', 'Klamath', 'Litchfield', 'Guaynabo', 'Hartford', 'San Juan', 'Mono', 'Duval', 'Bergen', 'Yolo', 'Steuben', 'St. Joseph', 'Will', 'Stark', 'Sonoma', 'Tarrant', 'Norfolk City', 'Bronx', 'McLennan', 'Allegheny', 'Sangamon', 'Albany', 'Saint Clair', 'Cook', 'Philadelphia', 'Washington', 'Bucks', 'Baltimore (City)', 'Bexar', 'Calaveras', 'Polk', 'St. Louis City', 'Fairbanks North Star ', 'McCracken', 'Gaston', 'Dallas', 'Wyandotte', 'Yellowstone', 'Fairfield', 'Kern', 'Hancock', 'Oakland', 'Utah', 'Monterey', 'Blair', 'El Dorado', 'Palm Beach', 'Santa Clara', 'Greenbrier', 'Inyo', 'Berks', 'Worcester', 'Comanche', 'Cambria', 'New Haven', 'Placer', 'Tulare', 'Beaver', 'Ohio', 'Humboldt', 'Tuolumne', 'Henderson', 'Mesa', 'Hendricks', 'Dakota', 'Camden', 'Henrico', 'Union', 'Spokane', 'Milwaukee', 'Carson City', 'Bayamon', 'Fulton', 'Pima', 'Weld', 'Miami-Dade', 'Blount', 'Sherman', 'Marin', 'Weber', 'Fayette', 'Santa Barbara', 'New York', 'Schenectady', 'Cascade', 'Solano', 'Winnebago', 'Stanislaus', 'Howard', 'Maricopa', 'Onondaga', 'Mecklenburg', 'Westmoreland', 'Butte', 'Clark', 'Shasta', 'Roanoke City', 'Greene', 'Linn', 'Chittenden', 'Kanawha', 'San Francisco', 'Santa Fe', 'Hudson', 'Larimer', 'Bernalillo', 'Lane', 'Lancaster', 'Racine', 'Ponce', 'Lehigh', 'Shelby', 'Hampden', 'Clay', 'Waukesha', 'Dodge', 'Sandoval', 'Fresno', 'Lake', 'Morris', 'Davidson', 'King', 'Saint Louis', 'Dorchester', 'Los Angeles', 'Davis', 'Rutland', 'Missoula', 'Arlington', 'Anoka', 'Kings', 'Cleveland', 'York', 'Pierce', 'Dona Ana', 'Forsyth', 'Webb', 'El Paso', 'Honolulu', 'Sutter', 'Arapahoe', 'Pinellas', 'Vigo', 'Allegany', 'Allen', 'Sullivan', 'Suffolk', 'Luzerne', 'San Diego', 'Taney', 'Sacramento', 'Lackawanna', 'Alameda', 'Montgomery', 'Preble', 'Cameron', 'Hampton City', 'Thurston', 'Mendocino', 'Denver', 'Lewis and Clark', 'Mahoning', 'Hennepin'} 254\n",
      "['Adams', 'Jackson', 'Erie', 'Monroe', 'Douglas', 'Essex', 'Orange', 'Middlesex', 'Jefferson', 'San Juan', 'Washington', 'Clark', 'Linn', 'Lancaster', 'Lake', 'Saint Louis', 'El Paso', 'Montgomery'] 18\n"
     ]
    }
   ],
   "source": [
    "### YOUR CODE HERE ###\n",
    "all_counties_set = set(all_counties)\n",
    "result = [county for county in all_counties_set if all_counties.count(county) > 1]\n",
    "print(all_counties_set,len(all_counties_set))\n",
    "print(result, len(result))"
   ]
  },
  {
   "cell_type": "markdown",
   "metadata": {
    "id": "5_C1MQq85aHA"
   },
   "source": [
    "<details><summary><h4>Hint 1</h4></summary>\n",
    "\n",
    "Refer to what you've learned about sets and review the list methods provided in [Reference guide: Lists](https://www.coursera.org/learn/get-started-with-python/supplement/5lejs/reference-guide-lists).\n",
    "\n",
    "</details>"
   ]
  },
  {
   "cell_type": "markdown",
   "metadata": {
    "id": "FE7GBLPF5aBy"
   },
   "source": [
    "<details><summary><h4>Hint 2</h4></summary>\n",
    "\n",
    "- A set cannot contain any duplicate elements. Each value is unique.\n",
    "- Which list method returns the number of times an element occurs in a list?\n",
    "\n",
    "</details>"
   ]
  },
  {
   "cell_type": "markdown",
   "metadata": {
    "id": "5_YEjQ2n5Z9I"
   },
   "source": [
    "<details><summary><h4>Hint 3</h4></summary>\n",
    "\n",
    "1. Instantiate a counter with an initial value of `0` to record the number of counties with shared names. \n",
    "    \n",
    "2. Loop over each unique county name in `all_counties`. (Use the `set()` function to get unique names.)\n",
    "\n",
    "3. For each iteration of the loop, use the `count()` list method to determine how many counties in `all_counties` have that county name.\n",
    "\n",
    "4. If the number of counties with that name is more than one, add that number to the counter (from step 1).\n",
    "\n",
    "</details>"
   ]
  },
  {
   "cell_type": "markdown",
   "metadata": {
    "id": "xhKq_IF9k2z5"
   },
   "source": [
    "Note that this doesn't tell you how many *different* county names were duplicated. Further analysis could uncover more details about this. Perhaps you can figure it out!"
   ]
  },
  {
   "cell_type": "markdown",
   "metadata": {
    "id": "K9nId3uu5Z47"
   },
   "source": [
    "## Conclusion\n",
    "\n",
    "**What are your key takeaways from this lab?**"
   ]
  },
  {
   "cell_type": "markdown",
   "metadata": {
    "id": "A2eoSHnIQG1I"
   },
   "source": [
    "[Double-click to record your response here.]"
   ]
  },
  {
   "cell_type": "markdown",
   "metadata": {},
   "source": [
    "**Congratulations!** You've completed this lab. However, you may not notice a green check mark next to this item on Coursera's platform. Please continue your progress regardless of the check mark. Just click on the \"save\" icon at the top of this notebook to ensure your work has been logged. "
   ]
  }
 ],
 "metadata": {
  "colab": {
   "provenance": []
  },
  "kernelspec": {
   "display_name": "Python 3 (ipykernel)",
   "language": "python",
   "name": "python3"
  },
  "language_info": {
   "codemirror_mode": {
    "name": "ipython",
    "version": 3
   },
   "file_extension": ".py",
   "mimetype": "text/x-python",
   "name": "python",
   "nbconvert_exporter": "python",
   "pygments_lexer": "ipython3",
   "version": "3.12.0"
  }
 },
 "nbformat": 4,
 "nbformat_minor": 4
}
