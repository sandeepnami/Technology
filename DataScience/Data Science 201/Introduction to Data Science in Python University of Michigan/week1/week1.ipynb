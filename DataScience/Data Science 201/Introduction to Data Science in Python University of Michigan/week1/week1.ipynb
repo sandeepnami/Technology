{
 "cells": [
  {
   "cell_type": "code",
   "execution_count": 1,
   "id": "e4ee2249-7ae3-4222-8a5b-61d8c0dbf6a8",
   "metadata": {},
   "outputs": [],
   "source": [
    "# Data Files and Summary Statistics"
   ]
  },
  {
   "cell_type": "code",
   "execution_count": 6,
   "id": "eb4159c6-857f-4429-8df0-ac78fc363f01",
   "metadata": {},
   "outputs": [],
   "source": [
    "# Glossary\n",
    "# MPG is the unit of measure for a car's fuel economy (also known as 'fuel consumption'). It stands for Miles Per Gallon. MPG numbers tell you how many miles a car can go on a gallon of fuel."
   ]
  },
  {
   "cell_type": "code",
   "execution_count": 2,
   "id": "b576d409-0f9e-41cf-b146-1bbf8b2a1697",
   "metadata": {},
   "outputs": [
    {
     "data": {
      "text/plain": [
       "[{'': '1',\n",
       "  'manufacturer': 'audi',\n",
       "  'model': 'a4',\n",
       "  'displ': '1.8',\n",
       "  'year': '1999',\n",
       "  'cyl': '4',\n",
       "  'trans': 'auto(l5)',\n",
       "  'drv': 'f',\n",
       "  'cty': '18',\n",
       "  'hwy': '29',\n",
       "  'fl': 'p',\n",
       "  'class': 'compact'},\n",
       " {'': '2',\n",
       "  'manufacturer': 'audi',\n",
       "  'model': 'a4',\n",
       "  'displ': '1.8',\n",
       "  'year': '1999',\n",
       "  'cyl': '4',\n",
       "  'trans': 'manual(m5)',\n",
       "  'drv': 'f',\n",
       "  'cty': '21',\n",
       "  'hwy': '29',\n",
       "  'fl': 'p',\n",
       "  'class': 'compact'},\n",
       " {'': '3',\n",
       "  'manufacturer': 'audi',\n",
       "  'model': 'a4',\n",
       "  'displ': '2',\n",
       "  'year': '2008',\n",
       "  'cyl': '4',\n",
       "  'trans': 'manual(m6)',\n",
       "  'drv': 'f',\n",
       "  'cty': '20',\n",
       "  'hwy': '31',\n",
       "  'fl': 'p',\n",
       "  'class': 'compact'}]"
      ]
     },
     "execution_count": 2,
     "metadata": {},
     "output_type": "execute_result"
    }
   ],
   "source": [
    "import csv\n",
    "\n",
    "%precision 2\n",
    "\n",
    "with open('datasets/mpg.csv') as csvfile:\n",
    "    mpg = list(csv.DictReader(csvfile))\n",
    "\n",
    "mpg[:3]"
   ]
  },
  {
   "cell_type": "code",
   "execution_count": 3,
   "id": "10cc1120-db99-4731-8729-f74951fa32ab",
   "metadata": {},
   "outputs": [
    {
     "data": {
      "text/plain": [
       "234"
      ]
     },
     "execution_count": 3,
     "metadata": {},
     "output_type": "execute_result"
    }
   ],
   "source": [
    "len(mpg)"
   ]
  },
  {
   "cell_type": "code",
   "execution_count": 5,
   "id": "aea6494d-03ec-40fa-8df9-73c4957cc81f",
   "metadata": {},
   "outputs": [
    {
     "data": {
      "text/plain": [
       "dict_keys(['', 'manufacturer', 'model', 'displ', 'year', 'cyl', 'trans', 'drv', 'cty', 'hwy', 'fl', 'class'])"
      ]
     },
     "execution_count": 5,
     "metadata": {},
     "output_type": "execute_result"
    }
   ],
   "source": [
    "mpg[0].keys()"
   ]
  },
  {
   "cell_type": "code",
   "execution_count": 8,
   "id": "f5167f93-92ed-4266-887f-49e8d3928075",
   "metadata": {},
   "outputs": [
    {
     "data": {
      "text/plain": [
       "16.86"
      ]
     },
     "execution_count": 8,
     "metadata": {},
     "output_type": "execute_result"
    }
   ],
   "source": [
    "sum(float(d['cty']) for d in mpg) / len(mpg)"
   ]
  },
  {
   "cell_type": "code",
   "execution_count": 9,
   "id": "71c34f2f-19d5-4dcc-9b66-c5267dbc78f5",
   "metadata": {},
   "outputs": [
    {
     "data": {
      "text/plain": [
       "23.44"
      ]
     },
     "execution_count": 9,
     "metadata": {},
     "output_type": "execute_result"
    }
   ],
   "source": [
    "sum(float(d['hwy']) for d in mpg) / len(mpg)"
   ]
  },
  {
   "cell_type": "code",
   "execution_count": 11,
   "id": "05302d88-8778-4b6e-9e2e-040df09a67aa",
   "metadata": {},
   "outputs": [
    {
     "data": {
      "text/plain": [
       "{'4', '5', '6', '8'}"
      ]
     },
     "execution_count": 11,
     "metadata": {},
     "output_type": "execute_result"
    }
   ],
   "source": [
    "cylinders = set(d['cyl'] for d in mpg)\n",
    "cylinders"
   ]
  },
  {
   "cell_type": "code",
   "execution_count": 17,
   "id": "f529cae5-4b85-4f73-a2e6-49c31eaa06b3",
   "metadata": {},
   "outputs": [
    {
     "data": {
      "text/plain": [
       "[('4', 21.01), ('5', 20.50), ('6', 16.22), ('8', 12.57)]"
      ]
     },
     "execution_count": 17,
     "metadata": {},
     "output_type": "execute_result"
    }
   ],
   "source": [
    "cty_mpg_by_cyl = []\n",
    "for cyl_typ in cylinders:\n",
    "    sum_mpg = 0\n",
    "    cyl_typ_count = 0\n",
    "    for d in mpg:\n",
    "        if d['cyl'] == cyl_typ:\n",
    "            sum_mpg += float(d['cty'])\n",
    "            cyl_typ_count += 1\n",
    "    cty_mpg_by_cyl.append((cyl_typ,sum_mpg/cyl_typ_count))\n",
    "\n",
    "cty_mpg_by_cyl.sort(key= lambda x: x[0])\n",
    "cty_mpg_by_cyl"
   ]
  },
  {
   "cell_type": "code",
   "execution_count": null,
   "id": "57687114-d7ac-4ccd-a9b6-32ab15f77ac5",
   "metadata": {},
   "outputs": [],
   "source": []
  }
 ],
 "metadata": {
  "kernelspec": {
   "display_name": "Python 3 (ipykernel)",
   "language": "python",
   "name": "python3"
  },
  "language_info": {
   "codemirror_mode": {
    "name": "ipython",
    "version": 3
   },
   "file_extension": ".py",
   "mimetype": "text/x-python",
   "name": "python",
   "nbconvert_exporter": "python",
   "pygments_lexer": "ipython3",
   "version": "3.12.0"
  }
 },
 "nbformat": 4,
 "nbformat_minor": 5
}
