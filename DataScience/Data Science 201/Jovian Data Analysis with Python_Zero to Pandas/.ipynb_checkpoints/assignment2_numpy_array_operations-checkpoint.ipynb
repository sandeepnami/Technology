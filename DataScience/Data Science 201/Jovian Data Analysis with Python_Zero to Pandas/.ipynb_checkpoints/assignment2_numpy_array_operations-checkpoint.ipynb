{
  "cells": [
    {
      "cell_type": "markdown",
      "metadata": {
        "id": "-D26yQeey_EG"
      },
      "source": [
        "> ### **Assignment 2 - Numpy Array Operations**\n",
        ">\n",
        "> This assignment is part of the course [\"Data Analysis with Python: Zero to Pandas\"](http://zerotopandas.com). The objective of this assignment is to develop a solid understanding of Numpy array operations. In this assignment you will:\n",
        ">\n",
        "> 1. Pick 5 interesting Numpy array functions by going through the documentation: https://numpy.org/doc/stable/reference/routines.html\n",
        "> 2. Run and modify this Jupyter notebook to illustrate their usage (some explanation and 3 examples for each function). Use your imagination to come up with interesting and unique examples.\n",
        "> 3. Upload this notebook to your Jovian profile using `jovian.commit` and make a submission here: https://jovian.ml/learn/data-analysis-with-python-zero-to-pandas/assignment/assignment-2-numpy-array-operations\n",
        "> 4. (Optional) Share your notebook online (on Twitter, LinkedIn, Facebook) and on the community forum thread: https://jovian.ml/forum/t/assignment-2-numpy-array-operations-share-your-work/10575 .\n",
        "> 5. (Optional) Check out the notebooks [shared by other participants](https://jovian.ml/forum/t/assignment-2-numpy-array-operations-share-your-work/10575) and give feedback & appreciation.\n",
        ">\n",
        "> The recommended way to run this notebook is to click the \"Run\" button at the top of this page, and select \"Run on Binder\". This will run the notebook on mybinder.org, a free online service for running Jupyter notebooks.\n",
        ">\n",
        "> Try to give your notebook a catchy title & subtitle e.g. \"All about Numpy array operations\", \"5 Numpy functions you didn't know you needed\", \"A beginner's guide to broadcasting in Numpy\", \"Interesting ways to create Numpy arrays\", \"Trigonometic functions in Numpy\", \"How to use Python for Linear Algebra\" etc.\n",
        ">\n",
        "> **NOTE**: Remove this block of explanation text before submitting or sharing your notebook online - to make it more presentable.\n",
        "\n",
        "\n",
        "# Title Here\n",
        "\n",
        "\n",
        "### Subtitle Here\n",
        "\n",
        "Write a short introduction about Numpy and list the chosen functions.\n",
        "\n",
        "- function 1\n",
        "- function 2\n",
        "- function 3\n",
        "- function 4\n",
        "- function 5\n",
        "\n",
        "The recommended way to run this notebook is to click the \"Run\" button at the top of this page, and select \"Run on Binder\". This will run the notebook on mybinder.org, a free online service for running Jupyter notebooks."
      ]
    },
    {
      "cell_type": "code",
      "execution_count": null,
      "metadata": {
        "id": "6ekuZM32y_EK"
      },
      "outputs": [],
      "source": [
        "!pip install jovian --upgrade -q"
      ]
    },
    {
      "cell_type": "code",
      "execution_count": null,
      "metadata": {
        "id": "zkNMI5cEy_EL"
      },
      "outputs": [],
      "source": [
        "import jovian"
      ]
    },
    {
      "cell_type": "code",
      "execution_count": null,
      "metadata": {
        "id": "gv-ZVRZqy_EL",
        "outputId": "92c1c203-f806-4fd7-e2b4-7d7326b29ce1"
      },
      "outputs": [
        {
          "data": {
            "application/javascript": [
              "window.require && require([\"base/js/namespace\"],function(Jupyter){Jupyter.notebook.save_checkpoint()})"
            ],
            "text/plain": [
              "<IPython.core.display.Javascript object>"
            ]
          },
          "metadata": {},
          "output_type": "display_data"
        },
        {
          "name": "stdout",
          "output_type": "stream",
          "text": [
            "[jovian] Attempting to save notebook..\u001b[0m\n"
          ]
        }
      ],
      "source": [
        "jovian.commit(project='numpy-array-operations')"
      ]
    },
    {
      "cell_type": "markdown",
      "metadata": {
        "id": "ClcEWyKxy_EM"
      },
      "source": [
        "Let's begin by importing Numpy and listing out the functions covered in this notebook."
      ]
    },
    {
      "cell_type": "code",
      "execution_count": null,
      "metadata": {
        "id": "gkOI4Svly_EM"
      },
      "outputs": [],
      "source": [
        "import numpy as np"
      ]
    },
    {
      "cell_type": "code",
      "execution_count": null,
      "metadata": {
        "id": "F0FbW_Pcy_EN"
      },
      "outputs": [],
      "source": [
        "# List of functions explained\n",
        "function1 = np.concatenate  # (change this)\n",
        "function2 = ???\n",
        "function3 = ???\n",
        "function4 = ???\n",
        "function5 = ???"
      ]
    },
    {
      "cell_type": "markdown",
      "metadata": {
        "id": "9M0l-6KCy_EN"
      },
      "source": [
        "## Function 1 - np.concatenate (change this)\n",
        "\n",
        "Add some explanation about the function in your own words"
      ]
    },
    {
      "cell_type": "code",
      "execution_count": null,
      "metadata": {
        "id": "4Ozacqyfy_EN",
        "outputId": "438a15b3-f4cd-4d4a-a3f7-276a9ac4ec27"
      },
      "outputs": [
        {
          "data": {
            "text/plain": [
              "array([[ 1.,  2.,  5.,  6.,  7.],\n",
              "       [ 3.,  4.,  8.,  9., 10.]])"
            ]
          },
          "execution_count": 14,
          "metadata": {},
          "output_type": "execute_result"
        }
      ],
      "source": [
        "# Example 1 - working (change this)\n",
        "arr1 = [[1, 2],\n",
        "        [3, 4.]]\n",
        "\n",
        "arr2 = [[5, 6, 7],\n",
        "        [8, 9, 10]]\n",
        "\n",
        "np.concatenate((arr1, arr2), axis=1)"
      ]
    },
    {
      "cell_type": "markdown",
      "metadata": {
        "id": "QSvFaFoRy_EO"
      },
      "source": [
        "Explanation about example"
      ]
    },
    {
      "cell_type": "code",
      "execution_count": null,
      "metadata": {
        "id": "F87OMhydy_EO"
      },
      "outputs": [],
      "source": [
        "# Example 2 - working\n",
        "???"
      ]
    },
    {
      "cell_type": "markdown",
      "metadata": {
        "id": "QYGKT2F3y_EO"
      },
      "source": [
        "Explanation about example"
      ]
    },
    {
      "cell_type": "code",
      "execution_count": null,
      "metadata": {
        "id": "DWj3IFUdy_EP",
        "outputId": "bd17de4a-e2b6-4506-b248-56bdae7a66ed"
      },
      "outputs": [
        {
          "ename": "ValueError",
          "evalue": "all the input array dimensions for the concatenation axis must match exactly, but along dimension 1, the array at index 0 has size 2 and the array at index 1 has size 3",
          "output_type": "error",
          "traceback": [
            "\u001b[0;31m---------------------------------------------------------------------------\u001b[0m",
            "\u001b[0;31mValueError\u001b[0m                                Traceback (most recent call last)",
            "\u001b[0;32m<ipython-input-15-3386a3db1c34>\u001b[0m in \u001b[0;36m<module>\u001b[0;34m\u001b[0m\n\u001b[1;32m      6\u001b[0m         [8, 9, 10]]\n\u001b[1;32m      7\u001b[0m \u001b[0;34m\u001b[0m\u001b[0m\n\u001b[0;32m----> 8\u001b[0;31m \u001b[0mnp\u001b[0m\u001b[0;34m.\u001b[0m\u001b[0mconcatenate\u001b[0m\u001b[0;34m(\u001b[0m\u001b[0;34m(\u001b[0m\u001b[0marr1\u001b[0m\u001b[0;34m,\u001b[0m \u001b[0marr2\u001b[0m\u001b[0;34m)\u001b[0m\u001b[0;34m,\u001b[0m \u001b[0maxis\u001b[0m\u001b[0;34m=\u001b[0m\u001b[0;36m0\u001b[0m\u001b[0;34m)\u001b[0m\u001b[0;34m\u001b[0m\u001b[0;34m\u001b[0m\u001b[0m\n\u001b[0m",
            "\u001b[0;32m<__array_function__ internals>\u001b[0m in \u001b[0;36mconcatenate\u001b[0;34m(*args, **kwargs)\u001b[0m\n",
            "\u001b[0;31mValueError\u001b[0m: all the input array dimensions for the concatenation axis must match exactly, but along dimension 1, the array at index 0 has size 2 and the array at index 1 has size 3"
          ]
        }
      ],
      "source": [
        "# Example 3 - breaking (to illustrate when it breaks)\n",
        "arr1 = [[1, 2],\n",
        "        [3, 4.]]\n",
        "\n",
        "arr2 = [[5, 6, 7],\n",
        "        [8, 9, 10]]\n",
        "\n",
        "np.concatenate((arr1, arr2), axis=0)"
      ]
    },
    {
      "cell_type": "markdown",
      "metadata": {
        "id": "KSIBtM1vy_EP"
      },
      "source": [
        "Explanation about example (why it breaks and how to fix it)"
      ]
    },
    {
      "cell_type": "markdown",
      "metadata": {
        "id": "HdEfesxXy_EP"
      },
      "source": [
        "Some closing comments about when to use this function."
      ]
    },
    {
      "cell_type": "code",
      "execution_count": null,
      "metadata": {
        "id": "2ixxm1say_EP",
        "outputId": "67810922-3d98-48d8-a168-80ea1eae63b4"
      },
      "outputs": [
        {
          "data": {
            "application/javascript": [
              "window.require && require([\"base/js/namespace\"],function(Jupyter){Jupyter.notebook.save_checkpoint()})"
            ],
            "text/plain": [
              "<IPython.core.display.Javascript object>"
            ]
          },
          "metadata": {},
          "output_type": "display_data"
        },
        {
          "name": "stdout",
          "output_type": "stream",
          "text": [
            "[jovian] Attempting to save notebook..\u001b[0m\n",
            "[jovian] Updating notebook \"aakashns/numpy-array-operations\" on https://jovian.ml/\u001b[0m\n",
            "[jovian] Uploading notebook..\u001b[0m\n",
            "[jovian] Capturing environment..\u001b[0m\n",
            "[jovian] Committed successfully! https://jovian.ml/aakashns/numpy-array-operations\u001b[0m\n"
          ]
        },
        {
          "data": {
            "text/plain": [
              "'https://jovian.ml/aakashns/numpy-array-operations'"
            ]
          },
          "execution_count": 23,
          "metadata": {},
          "output_type": "execute_result"
        }
      ],
      "source": [
        "jovian.commit()"
      ]
    },
    {
      "cell_type": "markdown",
      "metadata": {
        "id": "XZr13NZOy_EP"
      },
      "source": [
        "## Function 2 - ???\n",
        "\n",
        "Add some explanations"
      ]
    },
    {
      "cell_type": "code",
      "execution_count": null,
      "metadata": {
        "id": "uQ2k5g2Dy_EQ"
      },
      "outputs": [],
      "source": [
        "# Example 1 - working\n",
        "???"
      ]
    },
    {
      "cell_type": "markdown",
      "metadata": {
        "id": "0iGuUAGly_EQ"
      },
      "source": [
        "Explanation about example"
      ]
    },
    {
      "cell_type": "code",
      "execution_count": null,
      "metadata": {
        "id": "pAJslXJUy_EQ"
      },
      "outputs": [],
      "source": [
        "# Example 2 - working\n",
        "???"
      ]
    },
    {
      "cell_type": "markdown",
      "metadata": {
        "id": "Q3ZJ5-82y_EQ"
      },
      "source": [
        "Explanation about example"
      ]
    },
    {
      "cell_type": "code",
      "execution_count": null,
      "metadata": {
        "id": "heC7kU9-y_EQ"
      },
      "outputs": [],
      "source": [
        "# Example 3 - breaking (to illustrate when it breaks)\n",
        "???"
      ]
    },
    {
      "cell_type": "markdown",
      "metadata": {
        "id": "KapRnatUy_EQ"
      },
      "source": [
        "Explanation about example (why it breaks and how to fix it)"
      ]
    },
    {
      "cell_type": "markdown",
      "metadata": {
        "id": "14KB6YDpy_EQ"
      },
      "source": [
        "Some closing comments about when to use this function."
      ]
    },
    {
      "cell_type": "code",
      "execution_count": null,
      "metadata": {
        "id": "9WF_sly1y_EQ",
        "outputId": "e6236bc8-c86c-460e-ded4-10055ccde325"
      },
      "outputs": [
        {
          "data": {
            "application/javascript": [
              "window.require && require([\"base/js/namespace\"],function(Jupyter){Jupyter.notebook.save_checkpoint()})"
            ],
            "text/plain": [
              "<IPython.core.display.Javascript object>"
            ]
          },
          "metadata": {},
          "output_type": "display_data"
        },
        {
          "name": "stdout",
          "output_type": "stream",
          "text": [
            "[jovian] Attempting to save notebook..\u001b[0m\n",
            "[jovian] Updating notebook \"aakashns/numpy-array-operations\" on https://jovian.ml/\u001b[0m\n",
            "[jovian] Uploading notebook..\u001b[0m\n",
            "[jovian] Capturing environment..\u001b[0m\n",
            "[jovian] Committed successfully! https://jovian.ml/aakashns/numpy-array-operations\u001b[0m\n"
          ]
        },
        {
          "data": {
            "text/plain": [
              "'https://jovian.ml/aakashns/numpy-array-operations'"
            ]
          },
          "execution_count": 32,
          "metadata": {},
          "output_type": "execute_result"
        }
      ],
      "source": [
        "jovian.commit()"
      ]
    },
    {
      "cell_type": "markdown",
      "metadata": {
        "id": "PxJ75UAgy_ER"
      },
      "source": [
        "## Function 3 - ???\n",
        "\n",
        "Add some explanations"
      ]
    },
    {
      "cell_type": "code",
      "execution_count": null,
      "metadata": {
        "id": "nA5BBzuqy_ER"
      },
      "outputs": [],
      "source": [
        "# Example 1 - working\n",
        "???"
      ]
    },
    {
      "cell_type": "markdown",
      "metadata": {
        "id": "xg_TcdG9y_ER"
      },
      "source": [
        "Explanation about example"
      ]
    },
    {
      "cell_type": "code",
      "execution_count": null,
      "metadata": {
        "id": "R5lrv2tmy_ER"
      },
      "outputs": [],
      "source": [
        "# Example 2 - working\n",
        "???"
      ]
    },
    {
      "cell_type": "markdown",
      "metadata": {
        "id": "FiEPhKidy_ER"
      },
      "source": [
        "Explanation about example"
      ]
    },
    {
      "cell_type": "code",
      "execution_count": null,
      "metadata": {
        "id": "rSKbOxHOy_ER"
      },
      "outputs": [],
      "source": [
        "# Example 3 - breaking (to illustrate when it breaks)\n",
        "???"
      ]
    },
    {
      "cell_type": "markdown",
      "metadata": {
        "id": "PvMlXXjfy_ER"
      },
      "source": [
        "Explanation about example (why it breaks and how to fix it)"
      ]
    },
    {
      "cell_type": "markdown",
      "metadata": {
        "id": "KJBANOX7y_ER"
      },
      "source": [
        "Some closing comments about when to use this function."
      ]
    },
    {
      "cell_type": "code",
      "execution_count": null,
      "metadata": {
        "id": "5EbEQ6lyy_ER",
        "outputId": "c058d522-7940-4909-bf32-7a641d89cf56"
      },
      "outputs": [
        {
          "data": {
            "application/javascript": [
              "window.require && require([\"base/js/namespace\"],function(Jupyter){Jupyter.notebook.save_checkpoint()})"
            ],
            "text/plain": [
              "<IPython.core.display.Javascript object>"
            ]
          },
          "metadata": {},
          "output_type": "display_data"
        },
        {
          "name": "stdout",
          "output_type": "stream",
          "text": [
            "[jovian] Attempting to save notebook..\u001b[0m\n",
            "[jovian] Updating notebook \"aakashns/numpy-array-operations\" on https://jovian.ml/\u001b[0m\n",
            "[jovian] Uploading notebook..\u001b[0m\n",
            "[jovian] Capturing environment..\u001b[0m\n",
            "[jovian] Committed successfully! https://jovian.ml/aakashns/numpy-array-operations\u001b[0m\n"
          ]
        },
        {
          "data": {
            "text/plain": [
              "'https://jovian.ml/aakashns/numpy-array-operations'"
            ]
          },
          "execution_count": 26,
          "metadata": {},
          "output_type": "execute_result"
        }
      ],
      "source": [
        "jovian.commit()"
      ]
    },
    {
      "cell_type": "markdown",
      "metadata": {
        "id": "tuvkahU-y_ES"
      },
      "source": [
        "## Function 4 - ???\n",
        "\n",
        "Add some explanations"
      ]
    },
    {
      "cell_type": "code",
      "execution_count": null,
      "metadata": {
        "id": "P8lltapiy_ES"
      },
      "outputs": [],
      "source": [
        "# Example 1 - working\n",
        "???"
      ]
    },
    {
      "cell_type": "markdown",
      "metadata": {
        "id": "g_atpRZcy_ES"
      },
      "source": [
        "Explanation about example"
      ]
    },
    {
      "cell_type": "code",
      "execution_count": null,
      "metadata": {
        "id": "agYcf1Bfy_ES"
      },
      "outputs": [],
      "source": [
        "# Example 2 - working\n",
        "???"
      ]
    },
    {
      "cell_type": "markdown",
      "metadata": {
        "id": "JANStB-Uy_ES"
      },
      "source": [
        "Explanation about example"
      ]
    },
    {
      "cell_type": "code",
      "execution_count": null,
      "metadata": {
        "id": "nwER7gu3y_EW"
      },
      "outputs": [],
      "source": [
        "# Example 3 - breaking (to illustrate when it breaks)\n",
        "???"
      ]
    },
    {
      "cell_type": "markdown",
      "metadata": {
        "id": "6w7AKn7uy_EW"
      },
      "source": [
        "Explanation about example (why it breaks and how to fix it)"
      ]
    },
    {
      "cell_type": "markdown",
      "metadata": {
        "id": "-QVpXZFVy_EW"
      },
      "source": [
        "Some closing comments about when to use this function."
      ]
    },
    {
      "cell_type": "code",
      "execution_count": null,
      "metadata": {
        "id": "z2DZY8Lpy_EW",
        "outputId": "5bee92d0-3bc8-48b6-eb33-6943a53df8f2"
      },
      "outputs": [
        {
          "data": {
            "application/javascript": [
              "window.require && require([\"base/js/namespace\"],function(Jupyter){Jupyter.notebook.save_checkpoint()})"
            ],
            "text/plain": [
              "<IPython.core.display.Javascript object>"
            ]
          },
          "metadata": {},
          "output_type": "display_data"
        },
        {
          "name": "stdout",
          "output_type": "stream",
          "text": [
            "[jovian] Attempting to save notebook..\u001b[0m\n",
            "[jovian] Updating notebook \"aakashns/numpy-array-operations\" on https://jovian.ml/\u001b[0m\n",
            "[jovian] Uploading notebook..\u001b[0m\n",
            "[jovian] Capturing environment..\u001b[0m\n",
            "[jovian] Committed successfully! https://jovian.ml/aakashns/numpy-array-operations\u001b[0m\n"
          ]
        },
        {
          "data": {
            "text/plain": [
              "'https://jovian.ml/aakashns/numpy-array-operations'"
            ]
          },
          "execution_count": 27,
          "metadata": {},
          "output_type": "execute_result"
        }
      ],
      "source": [
        "jovian.commit()"
      ]
    },
    {
      "cell_type": "markdown",
      "metadata": {
        "id": "_3lvTMOdy_EW"
      },
      "source": [
        "## Function 5 - ???\n",
        "\n",
        "Add some explanations"
      ]
    },
    {
      "cell_type": "code",
      "execution_count": null,
      "metadata": {
        "id": "qvQyPP_Sy_EX"
      },
      "outputs": [],
      "source": [
        "# Example 1 - working\n",
        "???"
      ]
    },
    {
      "cell_type": "markdown",
      "metadata": {
        "id": "smfbozKIy_EX"
      },
      "source": [
        "Explanation about example"
      ]
    },
    {
      "cell_type": "code",
      "execution_count": null,
      "metadata": {
        "id": "jWpZoexRy_EX"
      },
      "outputs": [],
      "source": [
        "# Example 2 - working\n",
        "???"
      ]
    },
    {
      "cell_type": "markdown",
      "metadata": {
        "id": "Lkwx4mCmy_EX"
      },
      "source": [
        "Explanation about example"
      ]
    },
    {
      "cell_type": "code",
      "execution_count": null,
      "metadata": {
        "id": "BCunL611y_EX"
      },
      "outputs": [],
      "source": [
        "# Example 3 - breaking (to illustrate when it breaks)\n",
        "???"
      ]
    },
    {
      "cell_type": "markdown",
      "metadata": {
        "id": "8UnRb9rRy_EX"
      },
      "source": [
        "Explanation about example (why it breaks and how to fix it)"
      ]
    },
    {
      "cell_type": "markdown",
      "metadata": {
        "id": "8r_AF8w4y_EX"
      },
      "source": [
        "Some closing comments about when to use this function."
      ]
    },
    {
      "cell_type": "code",
      "execution_count": null,
      "metadata": {
        "id": "kF1nvfF8y_EX",
        "outputId": "b9128f10-94a9-4ab0-d39c-26b2bae8bda8"
      },
      "outputs": [
        {
          "data": {
            "application/javascript": [
              "window.require && require([\"base/js/namespace\"],function(Jupyter){Jupyter.notebook.save_checkpoint()})"
            ],
            "text/plain": [
              "<IPython.core.display.Javascript object>"
            ]
          },
          "metadata": {},
          "output_type": "display_data"
        },
        {
          "name": "stdout",
          "output_type": "stream",
          "text": [
            "[jovian] Attempting to save notebook..\u001b[0m\n",
            "[jovian] Updating notebook \"aakashns/numpy-array-operations\" on https://jovian.ml/\u001b[0m\n",
            "[jovian] Uploading notebook..\u001b[0m\n",
            "[jovian] Capturing environment..\u001b[0m\n",
            "[jovian] Committed successfully! https://jovian.ml/aakashns/numpy-array-operations\u001b[0m\n"
          ]
        },
        {
          "data": {
            "text/plain": [
              "'https://jovian.ml/aakashns/numpy-array-operations'"
            ]
          },
          "execution_count": 28,
          "metadata": {},
          "output_type": "execute_result"
        }
      ],
      "source": [
        "jovian.commit()"
      ]
    },
    {
      "cell_type": "markdown",
      "metadata": {
        "id": "_bNDCrfey_EY"
      },
      "source": [
        "## Conclusion\n",
        "\n",
        "Summarize what was covered in this notebook, and where to go next"
      ]
    },
    {
      "cell_type": "markdown",
      "metadata": {
        "id": "L3wzji7_y_EY"
      },
      "source": [
        "## Reference Links\n",
        "Provide links to your references and other interesting articles about Numpy arrays:\n",
        "* Numpy official tutorial : https://numpy.org/doc/stable/user/quickstart.html\n",
        "* ..."
      ]
    },
    {
      "cell_type": "code",
      "execution_count": null,
      "metadata": {
        "id": "Pb0wzUHYy_EY",
        "outputId": "01159c89-7964-4182-d8d5-aad1f69d4a9d"
      },
      "outputs": [
        {
          "data": {
            "application/javascript": [
              "window.require && require([\"base/js/namespace\"],function(Jupyter){Jupyter.notebook.save_checkpoint()})"
            ],
            "text/plain": [
              "<IPython.core.display.Javascript object>"
            ]
          },
          "metadata": {},
          "output_type": "display_data"
        }
      ],
      "source": [
        "jovian.commit()"
      ]
    },
    {
      "cell_type": "code",
      "execution_count": null,
      "metadata": {
        "id": "ds0TpAzRy_EY"
      },
      "outputs": [],
      "source": []
    }
  ],
  "metadata": {
    "kernelspec": {
      "display_name": "Python 3",
      "language": "python",
      "name": "python3"
    },
    "language_info": {
      "codemirror_mode": {
        "name": "ipython",
        "version": 3
      },
      "file_extension": ".py",
      "mimetype": "text/x-python",
      "name": "python",
      "nbconvert_exporter": "python",
      "pygments_lexer": "ipython3",
      "version": "3.8.6"
    },
    "colab": {
      "provenance": []
    }
  },
  "nbformat": 4,
  "nbformat_minor": 0
}