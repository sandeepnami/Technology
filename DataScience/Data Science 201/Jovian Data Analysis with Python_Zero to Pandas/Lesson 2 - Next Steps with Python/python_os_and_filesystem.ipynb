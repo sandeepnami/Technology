{
  "cells": [
    {
      "cell_type": "markdown",
      "metadata": {
        "id": "zEGlHETtPEK5"
      },
      "source": [
        "# Reading from and Writing to Files using Python\n",
        "\n",
        "![](https://i.imgur.com/rv8wZ7l.png)\n",
        "\n",
        "\n",
        "\n",
        "\n",
        "This tutorial series is a beginner-friendly introduction to programming and data analysis using the Python programming language. These tutorials take a practical and coding-focused approach. The best way to learn the material is to execute the code and experiment with it yourself. Check out the full series here:\n",
        "\n",
        "1. [First Steps with Python and Jupyter](https://jovian.ai/aakashns/first-steps-with-python)\n",
        "2. [A Quick Tour of Variables and Data Types](https://jovian.ai/aakashns/python-variables-and-data-types)\n",
        "3. [Branching using Conditional Statements and Loops](https://jovian.ai/aakashns/python-branching-and-loops)\n",
        "4. [Writing Reusable Code Using Functions](https://jovian.ai/aakashns/python-functions-and-scope)\n",
        "5. [Reading from and Writing to Files](https://jovian.ai/aakashns/python-os-and-filesystem)\n",
        "6. [Numerical Computing with Python and Numpy](https://jovian.ai/aakashns/python-numerical-computing-with-numpy)\n",
        "7. [Analyzing Tabular Data using Pandas](https://jovian.ai/aakashns/python-pandas-data-analysis)\n",
        "8. [Data Visualization using Matplotlib & Seaborn](https://jovian.ai/aakashns/python-matplotlib-data-visualization)\n",
        "9. [Exploratory Data Analysis - A Case Study](https://jovian.ai/aakashns/python-eda-stackoverflow-survey)\n"
      ]
    },
    {
      "cell_type": "markdown",
      "metadata": {
        "id": "g33LL0gTPEK9"
      },
      "source": [
        "This tutorial covers the following topics:\n",
        "\n",
        "- Interacting with the filesystem using the `os` module\n",
        "- Downloading files from the internet using the `urllib` module\n",
        "- Reading and processing data from text files\n",
        "- Parsing data from CSV files into dictionaries & lists\n",
        "- Writing formatted data back to text files"
      ]
    },
    {
      "cell_type": "markdown",
      "metadata": {
        "id": "NpQEQPedPEK-"
      },
      "source": [
        "### How to run the code\n",
        "\n",
        "This tutorial is an executable [Jupyter notebook](https://jupyter.org) hosted on [Jovian](https://www.jovian.ai). You can _run_ this tutorial and experiment with the code examples in a couple of ways: *using free online resources* (recommended) or *on your computer*.\n",
        "\n",
        "#### Option 1: Running using free online resources (1-click, recommended)\n",
        "\n",
        "The easiest way to start executing the code is to click the **Run** button at the top of this page and select **Run on Binder**. You can also select \"Run on Colab\" or \"Run on Kaggle\", but you'll need to create an account on [Google Colab](https://colab.research.google.com) or [Kaggle](https://kaggle.com) to use these platforms.\n",
        "\n",
        "\n",
        "#### Option 2: Running on your computer locally\n",
        "\n",
        "To run the code on your computer locally, you'll need to set up [Python](https://www.python.org), download the notebook and install the required libraries. We recommend using the [Conda](https://docs.conda.io/projects/conda/en/latest/user-guide/install/) distribution of Python. Click the **Run** button at the top of this page, select the **Run Locally** option, and follow the instructions.\n",
        "\n",
        ">  **Jupyter Notebooks**: This tutorial is a [Jupyter notebook](https://jupyter.org) - a document made of _cells_. Each cell can contain code written in Python or explanations in plain English. You can execute code cells and view the results, e.g., numbers, messages, graphs, tables, files, etc., instantly within the notebook. Jupyter is a powerful platform for experimentation and analysis. Don't be afraid to mess around with the code & break things - you'll learn a lot by encountering and fixing errors. You can use the \"Kernel > Restart & Clear Output\" menu option to clear all outputs and start again from the top."
      ]
    },
    {
      "cell_type": "markdown",
      "metadata": {
        "id": "Aclix9GsPEK_"
      },
      "source": [
        "## Interacting with the OS and filesystem\n",
        "\n",
        "The `os` module in Python provides many functions for interacting with the OS and the filesystem. Let's import it and try out some examples."
      ]
    },
    {
      "cell_type": "code",
      "execution_count": null,
      "metadata": {
        "id": "jnCSNu0KPEK_"
      },
      "outputs": [],
      "source": [
        "import os"
      ]
    },
    {
      "cell_type": "markdown",
      "metadata": {
        "id": "4AXynGpgPELA"
      },
      "source": [
        "We can check the present working directory using the `os.getcwd` function."
      ]
    },
    {
      "cell_type": "code",
      "execution_count": null,
      "metadata": {
        "id": "ldVEHDJ9PELB",
        "outputId": "e7e00fa4-9609-4dad-b5fe-26b8f3a4e729"
      },
      "outputs": [
        {
          "data": {
            "text/plain": [
              "'/Users/aakashns/workspace/zerotoanalyst/python-os-and-filesystem'"
            ]
          },
          "execution_count": 2,
          "metadata": {},
          "output_type": "execute_result"
        }
      ],
      "source": [
        "os.getcwd()"
      ]
    },
    {
      "cell_type": "markdown",
      "metadata": {
        "id": "vs0PF0x2PELD"
      },
      "source": [
        "To get the list of files in a directory, use `os.listdir`. You pass an absolute or relative path of a directory as the argument to the function."
      ]
    },
    {
      "cell_type": "code",
      "execution_count": null,
      "metadata": {
        "id": "H4JWqyCDPELD",
        "outputId": "7a56d589-ae2c-4a16-eec5-e3307ff8074c"
      },
      "outputs": [
        {
          "name": "stdout",
          "output_type": "stream",
          "text": [
            "Help on built-in function listdir in module posix:\n",
            "\n",
            "listdir(path=None)\n",
            "    Return a list containing the names of the files in the directory.\n",
            "    \n",
            "    path can be specified as either str, bytes, or a path-like object.  If path is bytes,\n",
            "      the filenames returned will also be bytes; in all other circumstances\n",
            "      the filenames returned will be str.\n",
            "    If path is None, uses the path='.'.\n",
            "    On some platforms, path may also be specified as an open file descriptor;\\\n",
            "      the file descriptor must refer to a directory.\n",
            "      If this functionality is unavailable, using it raises NotImplementedError.\n",
            "    \n",
            "    The list is in arbitrary order.  It does not include the special\n",
            "    entries '.' and '..' even if they are present in the directory.\n",
            "\n"
          ]
        }
      ],
      "source": [
        "help(os.listdir)"
      ]
    },
    {
      "cell_type": "code",
      "execution_count": null,
      "metadata": {
        "id": "rSyZcnuCPELE",
        "outputId": "ec8672af-83d0-4603-bcce-2a7244316482"
      },
      "outputs": [
        {
          "data": {
            "text/plain": [
              "['.jovianrc', '.ipynb_checkpoints', 'python-os-and-filesystem.ipynb']"
            ]
          },
          "execution_count": 4,
          "metadata": {},
          "output_type": "execute_result"
        }
      ],
      "source": [
        "os.listdir('.') # relative path"
      ]
    },
    {
      "cell_type": "code",
      "execution_count": null,
      "metadata": {
        "id": "MMELePsAPELE",
        "outputId": "f4b8bd21-43d3-451b-f6b3-28483e12cc2c"
      },
      "outputs": [
        {
          "data": {
            "text/plain": [
              "['bin',\n",
              " 'standalone',\n",
              " 'libexec',\n",
              " 'sbin',\n",
              " 'local',\n",
              " 'lib',\n",
              " 'X11',\n",
              " 'X11R6',\n",
              " 'share']"
            ]
          },
          "execution_count": 5,
          "metadata": {},
          "output_type": "execute_result"
        }
      ],
      "source": [
        "os.listdir('/usr') # absolute path"
      ]
    },
    {
      "cell_type": "markdown",
      "metadata": {
        "id": "2lB9zz6EPELE"
      },
      "source": [
        "You can create a new directory using `os.makedirs`. Let's create a new directory called `data`, where we'll later download some files."
      ]
    },
    {
      "cell_type": "code",
      "execution_count": null,
      "metadata": {
        "id": "ifV-J0jAPELF"
      },
      "outputs": [],
      "source": [
        "os.makedirs('./data', exist_ok=True)"
      ]
    },
    {
      "cell_type": "markdown",
      "metadata": {
        "id": "d-8hnZ3ePELF"
      },
      "source": [
        "Can you figure out what the argument `exist_ok` does? Try using the `help` function or [read the documentation](https://docs.python.org/3/library/os.html#os.makedirs).\n",
        "\n",
        "Let's verify that the directory was created and is currently empty."
      ]
    },
    {
      "cell_type": "code",
      "execution_count": null,
      "metadata": {
        "id": "cQ5WkwGEPELF",
        "outputId": "4f13dd9a-d0e5-4a43-fd13-24ac9088ecbc"
      },
      "outputs": [
        {
          "data": {
            "text/plain": [
              "True"
            ]
          },
          "execution_count": 7,
          "metadata": {},
          "output_type": "execute_result"
        }
      ],
      "source": [
        "'data' in os.listdir('.')"
      ]
    },
    {
      "cell_type": "code",
      "execution_count": null,
      "metadata": {
        "id": "37MgUmL1PELF",
        "outputId": "2491aa9e-56da-433d-c041-eb30ed598abd"
      },
      "outputs": [
        {
          "data": {
            "text/plain": [
              "[]"
            ]
          },
          "execution_count": 8,
          "metadata": {},
          "output_type": "execute_result"
        }
      ],
      "source": [
        "os.listdir('./data')"
      ]
    },
    {
      "cell_type": "markdown",
      "metadata": {
        "id": "0jerMtF4PELF"
      },
      "source": [
        "Let us download some files into the `data` directory using the `urllib` module."
      ]
    },
    {
      "cell_type": "code",
      "execution_count": null,
      "metadata": {
        "id": "-2w_u8zhPELF"
      },
      "outputs": [],
      "source": [
        "url1 = 'https://gist.githubusercontent.com/aakashns/257f6e6c8719c17d0e498ea287d1a386/raw/7def9ef4234ddf0bc82f855ad67dac8b971852ef/loans1.txt'\n",
        "url2 = 'https://gist.githubusercontent.com/aakashns/257f6e6c8719c17d0e498ea287d1a386/raw/7def9ef4234ddf0bc82f855ad67dac8b971852ef/loans2.txt'\n",
        "url3 = 'https://gist.githubusercontent.com/aakashns/257f6e6c8719c17d0e498ea287d1a386/raw/7def9ef4234ddf0bc82f855ad67dac8b971852ef/loans3.txt'"
      ]
    },
    {
      "cell_type": "code",
      "execution_count": null,
      "metadata": {
        "id": "06gaFqjFPELG"
      },
      "outputs": [],
      "source": [
        "from urllib.request import urlretrieve"
      ]
    },
    {
      "cell_type": "code",
      "execution_count": null,
      "metadata": {
        "id": "Zyung_3GPELG",
        "outputId": "5b303a9a-ccfd-4ba0-cc3d-a6397961a400"
      },
      "outputs": [
        {
          "data": {
            "text/plain": [
              "('./data/loans1.txt', <http.client.HTTPMessage at 0x7fe15cdcc898>)"
            ]
          },
          "execution_count": 11,
          "metadata": {},
          "output_type": "execute_result"
        }
      ],
      "source": [
        "urlretrieve(url1, './data/loans1.txt')"
      ]
    },
    {
      "cell_type": "code",
      "execution_count": null,
      "metadata": {
        "id": "LjIfe-bAPELG",
        "outputId": "dc691e87-29c7-4cea-836a-720707681832"
      },
      "outputs": [
        {
          "data": {
            "text/plain": [
              "('./data/loans2.txt', <http.client.HTTPMessage at 0x7fe1573a5390>)"
            ]
          },
          "execution_count": 12,
          "metadata": {},
          "output_type": "execute_result"
        }
      ],
      "source": [
        "urlretrieve(url2, './data/loans2.txt')"
      ]
    },
    {
      "cell_type": "code",
      "execution_count": null,
      "metadata": {
        "id": "ieTNqNbcPELG",
        "outputId": "a746070e-e902-4eda-e3d7-d9ceb93190c6"
      },
      "outputs": [
        {
          "data": {
            "text/plain": [
              "('./data/loans3.txt', <http.client.HTTPMessage at 0x7fe15cdb8748>)"
            ]
          },
          "execution_count": 13,
          "metadata": {},
          "output_type": "execute_result"
        }
      ],
      "source": [
        "urlretrieve(url3, './data/loans3.txt')"
      ]
    },
    {
      "cell_type": "markdown",
      "metadata": {
        "id": "8vUrW23VPELH"
      },
      "source": [
        "Let's verify that the files were downloaded."
      ]
    },
    {
      "cell_type": "code",
      "execution_count": null,
      "metadata": {
        "id": "Xbyu8szHPELH",
        "outputId": "9c8c2962-df5a-486b-cb8b-8408f872c1aa"
      },
      "outputs": [
        {
          "data": {
            "text/plain": [
              "['loans2.txt', 'loans3.txt', 'loans1.txt']"
            ]
          },
          "execution_count": 14,
          "metadata": {},
          "output_type": "execute_result"
        }
      ],
      "source": [
        "os.listdir('./data')"
      ]
    },
    {
      "cell_type": "markdown",
      "metadata": {
        "id": "oVbEzeLFPELH"
      },
      "source": [
        "You can also use the [`requests`](https://docs.python-requests.org/en/master/) library to dowload URLs, although you'll need to [write some additional code](https://stackoverflow.com/questions/44699682/how-to-save-a-file-downloaded-from-requests-to-another-directory) to save the contents of the page to a file."
      ]
    },
    {
      "cell_type": "markdown",
      "metadata": {
        "id": "R0MZ2jkjPELH"
      },
      "source": [
        "## Reading from a file\n",
        "\n",
        "To read the contents of a file, we first need to open the file using the built-in `open` function. The `open` function returns a file object and provides several methods for interacting with the file's contents."
      ]
    },
    {
      "cell_type": "code",
      "execution_count": null,
      "metadata": {
        "id": "hv7W2NadPELH"
      },
      "outputs": [],
      "source": [
        "file1 = open('./data/loans1.txt', mode='r')"
      ]
    },
    {
      "cell_type": "markdown",
      "metadata": {
        "id": "_zCsPOudPELH"
      },
      "source": [
        "The `open` function also accepts a `mode` argument to specifies how we can interact with the file. The following options are supported:\n",
        "\n",
        "```\n",
        "    ========= ===============================================================\n",
        "    Character Meaning\n",
        "    --------- ---------------------------------------------------------------\n",
        "    'r'       open for reading (default)\n",
        "    'w'       open for writing, truncating the file first\n",
        "    'x'       create a new file and open it for writing\n",
        "    'a'       open for writing, appending to the end of the file if it exists\n",
        "    'b'       binary mode\n",
        "    't'       text mode (default)\n",
        "    '+'       open a disk file for updating (reading and writing)\n",
        "    'U'       universal newline mode (deprecated)\n",
        "    ========= ===============================================================\n",
        "```\n",
        "\n",
        "To view the contents of the file, we can use the `read` method of the file object."
      ]
    },
    {
      "cell_type": "code",
      "execution_count": null,
      "metadata": {
        "id": "V9dNpvDBPELH"
      },
      "outputs": [],
      "source": [
        "file1_contents = file1.read()"
      ]
    },
    {
      "cell_type": "code",
      "execution_count": null,
      "metadata": {
        "id": "cL2kMU9KPELI",
        "outputId": "4c40e181-c5eb-463c-d030-05ccb01164dd"
      },
      "outputs": [
        {
          "name": "stdout",
          "output_type": "stream",
          "text": [
            "amount,duration,rate,down_payment\n",
            "100000,36,0.08,20000\n",
            "200000,12,0.1,\n",
            "628400,120,0.12,100000\n",
            "4637400,240,0.06,\n",
            "42900,90,0.07,8900\n",
            "916000,16,0.13,\n",
            "45230,48,0.08,4300\n",
            "991360,99,0.08,\n",
            "423000,27,0.09,47200\n"
          ]
        }
      ],
      "source": [
        "print(file1_contents)"
      ]
    },
    {
      "cell_type": "markdown",
      "metadata": {
        "id": "gO1KPu-7PELI"
      },
      "source": [
        "The file contains information about loans. It is a set of comma-separated values (CSV).\n",
        "\n",
        "> **CSVs**: A comma-separated values (CSV) file is a delimited text file that uses a comma to separate values. Each line of the file is a data record. Each record consists of one or more fields, separated by commas. A CSV file typically stores tabular data (numbers and text) in plain text, in which case each line will have the same number of fields. (Wikipedia)\n",
        "\n",
        "The first line of the file is the header, indicating what each of the numbers on the remaining lines represents. Each of the remaining lines provides information about a loan. Thus, the second line `100000,36,0.08,20000` represents a loan with:\n",
        "\n",
        "* an *amount* of `$100000`,\n",
        "* *duration* of `36` months,\n",
        "* *rate of interest* of `8%` per annum, and\n",
        "* a down payment of `$20000`\n",
        "\n",
        "The CSV is a standard file format used for sharing data for analysis and visualization. Over the course of this tutorial, we will read the data from these CSV files, process it, and write the results back to files. Before we continue, let's close the file using the `close` method (otherwise, Python will continue to hold the entire file in the RAM)"
      ]
    },
    {
      "cell_type": "code",
      "execution_count": null,
      "metadata": {
        "id": "XeOHEeoQPELI"
      },
      "outputs": [],
      "source": [
        "file1.close()"
      ]
    },
    {
      "cell_type": "markdown",
      "metadata": {
        "id": "IJtBGS-1PELI"
      },
      "source": [
        "Once a file is closed, you can no longer read from it."
      ]
    },
    {
      "cell_type": "code",
      "execution_count": null,
      "metadata": {
        "id": "JUI4GOLjPELI",
        "outputId": "a7dc4e94-ae74-4f55-d445-778fa982365f"
      },
      "outputs": [
        {
          "ename": "ValueError",
          "evalue": "I/O operation on closed file.",
          "output_type": "error",
          "traceback": [
            "\u001b[0;31m---------------------------------------------------------------------------\u001b[0m",
            "\u001b[0;31mValueError\u001b[0m                                Traceback (most recent call last)",
            "\u001b[0;32m<ipython-input-19-2fcf3b5e742f>\u001b[0m in \u001b[0;36m<module>\u001b[0;34m\u001b[0m\n\u001b[0;32m----> 1\u001b[0;31m \u001b[0mfile1\u001b[0m\u001b[0;34m.\u001b[0m\u001b[0mread\u001b[0m\u001b[0;34m(\u001b[0m\u001b[0;34m)\u001b[0m\u001b[0;34m\u001b[0m\u001b[0;34m\u001b[0m\u001b[0m\n\u001b[0m",
            "\u001b[0;31mValueError\u001b[0m: I/O operation on closed file."
          ]
        }
      ],
      "source": [
        "file1.read()"
      ]
    },
    {
      "cell_type": "markdown",
      "metadata": {
        "id": "aKQLRHitPELI"
      },
      "source": [
        "## Closing files automatically using `with`\n",
        "\n",
        "To close a file automatically after you've processed it, you can open it using the `with` statement."
      ]
    },
    {
      "cell_type": "code",
      "execution_count": null,
      "metadata": {
        "id": "g4_nE6utPELJ",
        "outputId": "3d360fe6-b6b5-49d9-ba4b-0c462782103d"
      },
      "outputs": [
        {
          "name": "stdout",
          "output_type": "stream",
          "text": [
            "amount,duration,rate,down_payment\n",
            "828400,120,0.11,100000\n",
            "4633400,240,0.06,\n",
            "42900,90,0.08,8900\n",
            "983000,16,0.14,\n",
            "15230,48,0.07,4300\n"
          ]
        }
      ],
      "source": [
        "with open('./data/loans2.txt') as file2:\n",
        "    file2_contents = file2.read()\n",
        "    print(file2_contents)"
      ]
    },
    {
      "cell_type": "markdown",
      "metadata": {
        "id": "pgdYKDmbPELJ"
      },
      "source": [
        "Once the statements within the `with` block are executed, the `.close` method on `file2` is automatically invoked. Let's verify this by trying to read from the file object again."
      ]
    },
    {
      "cell_type": "code",
      "execution_count": null,
      "metadata": {
        "id": "NhmS1s-ePELJ",
        "outputId": "6cad119b-facb-4ab3-b5f2-a2084ad29243"
      },
      "outputs": [
        {
          "ename": "ValueError",
          "evalue": "I/O operation on closed file.",
          "output_type": "error",
          "traceback": [
            "\u001b[0;31m---------------------------------------------------------------------------\u001b[0m",
            "\u001b[0;31mValueError\u001b[0m                                Traceback (most recent call last)",
            "\u001b[0;32m<ipython-input-21-4a9205324152>\u001b[0m in \u001b[0;36m<module>\u001b[0;34m\u001b[0m\n\u001b[0;32m----> 1\u001b[0;31m \u001b[0mfile2\u001b[0m\u001b[0;34m.\u001b[0m\u001b[0mread\u001b[0m\u001b[0;34m(\u001b[0m\u001b[0;34m)\u001b[0m\u001b[0;34m\u001b[0m\u001b[0;34m\u001b[0m\u001b[0m\n\u001b[0m",
            "\u001b[0;31mValueError\u001b[0m: I/O operation on closed file."
          ]
        }
      ],
      "source": [
        "file2.read()"
      ]
    },
    {
      "cell_type": "markdown",
      "metadata": {
        "id": "kTWfkZTMPELJ"
      },
      "source": [
        "## Reading a file line by line\n",
        "\n",
        "\n",
        "File objects provide a `readlines` method to read a file line-by-line."
      ]
    },
    {
      "cell_type": "code",
      "execution_count": null,
      "metadata": {
        "id": "P661czUTPELN"
      },
      "outputs": [],
      "source": [
        "with open('./data/loans3.txt', 'r') as file3:\n",
        "    file3_lines = file3.readlines()"
      ]
    },
    {
      "cell_type": "code",
      "execution_count": null,
      "metadata": {
        "id": "e74ixgQuPELN",
        "outputId": "b93cc6c5-0120-4f6b-905d-3a4c155eb0a7"
      },
      "outputs": [
        {
          "data": {
            "text/plain": [
              "['amount,duration,rate,down_payment\\n',\n",
              " '45230,48,0.07,4300\\n',\n",
              " '883000,16,0.14,\\n',\n",
              " '100000,12,0.1,\\n',\n",
              " '728400,120,0.12,100000\\n',\n",
              " '3637400,240,0.06,\\n',\n",
              " '82900,90,0.07,8900\\n',\n",
              " '316000,16,0.13,\\n',\n",
              " '15230,48,0.08,4300\\n',\n",
              " '991360,99,0.08,\\n',\n",
              " '323000,27,0.09,4720010000,36,0.08,20000\\n',\n",
              " '528400,120,0.11,100000\\n',\n",
              " '8633400,240,0.06,\\n',\n",
              " '12900,90,0.08,8900']"
            ]
          },
          "execution_count": 23,
          "metadata": {},
          "output_type": "execute_result"
        }
      ],
      "source": [
        "file3_lines"
      ]
    },
    {
      "cell_type": "markdown",
      "metadata": {
        "id": "kcjVnUgIPELN"
      },
      "source": [
        "## Processing data from files\n",
        "\n",
        "Before performing any operations on the data stored in a file, we need to convert the file's contents from one large string into Python data types. For the file `loans1.txt` containing information about loans in a CSV format, we can do the following:\n",
        "\n",
        "* Read the file line by line\n",
        "* Parse the first line to get a list of the column names or headers\n",
        "* Split each remaining line and convert each value into a float\n",
        "* Create a dictionary for each loan using the headers as keys\n",
        "* Create a list of dictionaries to keep track of all the loans\n",
        "\n",
        "Since we will perform the same operations for multiple files, it would be useful to define a function `read_csv`. We'll also define some helper functions to build up the functionality step by step.\n",
        "\n",
        "Let's start by defining a function `parse_header` that takes a line as input and returns a list of column headers."
      ]
    },
    {
      "cell_type": "code",
      "execution_count": null,
      "metadata": {
        "id": "iOadpI4PPELN"
      },
      "outputs": [],
      "source": [
        "def parse_headers(header_line):\n",
        "    return header_line.strip().split(',')"
      ]
    },
    {
      "cell_type": "markdown",
      "metadata": {
        "id": "zjJVGJ_-PELN"
      },
      "source": [
        "The `strip` method removes any extra spaces and the newline character `\\n`. The `split` method breaks a string into a list using the given separator (`,` in this case)."
      ]
    },
    {
      "cell_type": "code",
      "execution_count": null,
      "metadata": {
        "id": "-NzdDOj4PELO",
        "outputId": "d368fedf-4756-4f57-b4a3-fa5f3e73f6d3"
      },
      "outputs": [
        {
          "data": {
            "text/plain": [
              "'amount,duration,rate,down_payment\\n'"
            ]
          },
          "execution_count": 25,
          "metadata": {},
          "output_type": "execute_result"
        }
      ],
      "source": [
        "file3_lines[0]"
      ]
    },
    {
      "cell_type": "code",
      "execution_count": null,
      "metadata": {
        "id": "P1PBmFLAPELO"
      },
      "outputs": [],
      "source": [
        "headers = parse_headers(file3_lines[0])"
      ]
    },
    {
      "cell_type": "code",
      "execution_count": null,
      "metadata": {
        "id": "8hkVMR9SPELO",
        "outputId": "c85667ef-52c9-4509-af90-6d553babb9b6"
      },
      "outputs": [
        {
          "data": {
            "text/plain": [
              "['amount', 'duration', 'rate', 'down_payment']"
            ]
          },
          "execution_count": 27,
          "metadata": {},
          "output_type": "execute_result"
        }
      ],
      "source": [
        "headers"
      ]
    },
    {
      "cell_type": "markdown",
      "metadata": {
        "id": "EPGlMNoSPELO"
      },
      "source": [
        "Next, let's define a function `parse_values` that takes a line containing some data and returns a list of floating-point numbers."
      ]
    },
    {
      "cell_type": "code",
      "execution_count": null,
      "metadata": {
        "id": "gc7HTeXJPELO"
      },
      "outputs": [],
      "source": [
        "def parse_values(data_line):\n",
        "    values = []\n",
        "    for item in data_line.strip().split(','):\n",
        "        values.append(float(item))\n",
        "    return values"
      ]
    },
    {
      "cell_type": "code",
      "execution_count": null,
      "metadata": {
        "id": "oDf1B0UbPELP",
        "outputId": "debdd766-61ab-493b-d46c-8f099afde15f"
      },
      "outputs": [
        {
          "data": {
            "text/plain": [
              "'45230,48,0.07,4300\\n'"
            ]
          },
          "execution_count": 29,
          "metadata": {},
          "output_type": "execute_result"
        }
      ],
      "source": [
        "file3_lines[1]"
      ]
    },
    {
      "cell_type": "code",
      "execution_count": null,
      "metadata": {
        "id": "7NaSg3w2PELP",
        "outputId": "733bfc84-8112-4fee-eac2-1fea297b0003"
      },
      "outputs": [
        {
          "data": {
            "text/plain": [
              "[45230.0, 48.0, 0.07, 4300.0]"
            ]
          },
          "execution_count": 30,
          "metadata": {},
          "output_type": "execute_result"
        }
      ],
      "source": [
        "parse_values(file3_lines[1])"
      ]
    },
    {
      "cell_type": "markdown",
      "metadata": {
        "id": "87sH15zIPELP"
      },
      "source": [
        "The values were parsed and converted to floating point numbers, as expected. Let's try it for another line from the file, which does not contain a value for the down payment."
      ]
    },
    {
      "cell_type": "code",
      "execution_count": null,
      "metadata": {
        "id": "sILB9zl6PELP",
        "outputId": "de4d6211-2916-4837-ae36-6fc9fb37a90d"
      },
      "outputs": [
        {
          "data": {
            "text/plain": [
              "'883000,16,0.14,\\n'"
            ]
          },
          "execution_count": 31,
          "metadata": {},
          "output_type": "execute_result"
        }
      ],
      "source": [
        "file3_lines[2]"
      ]
    },
    {
      "cell_type": "code",
      "execution_count": null,
      "metadata": {
        "id": "j2GpeRjBPELQ",
        "outputId": "17edab88-81f2-4411-cef9-6e1a7592f69b"
      },
      "outputs": [
        {
          "ename": "ValueError",
          "evalue": "could not convert string to float: ",
          "output_type": "error",
          "traceback": [
            "\u001b[0;31m---------------------------------------------------------------------------\u001b[0m",
            "\u001b[0;31mValueError\u001b[0m                                Traceback (most recent call last)",
            "\u001b[0;32m<ipython-input-32-b170e8564609>\u001b[0m in \u001b[0;36m<module>\u001b[0;34m\u001b[0m\n\u001b[0;32m----> 1\u001b[0;31m \u001b[0mparse_values\u001b[0m\u001b[0;34m(\u001b[0m\u001b[0mfile3_lines\u001b[0m\u001b[0;34m[\u001b[0m\u001b[0;36m2\u001b[0m\u001b[0;34m]\u001b[0m\u001b[0;34m)\u001b[0m\u001b[0;34m\u001b[0m\u001b[0;34m\u001b[0m\u001b[0m\n\u001b[0m",
            "\u001b[0;32m<ipython-input-28-8be4024619c8>\u001b[0m in \u001b[0;36mparse_values\u001b[0;34m(data_line)\u001b[0m\n\u001b[1;32m      2\u001b[0m     \u001b[0mvalues\u001b[0m \u001b[0;34m=\u001b[0m \u001b[0;34m[\u001b[0m\u001b[0;34m]\u001b[0m\u001b[0;34m\u001b[0m\u001b[0;34m\u001b[0m\u001b[0m\n\u001b[1;32m      3\u001b[0m     \u001b[0;32mfor\u001b[0m \u001b[0mitem\u001b[0m \u001b[0;32min\u001b[0m \u001b[0mdata_line\u001b[0m\u001b[0;34m.\u001b[0m\u001b[0mstrip\u001b[0m\u001b[0;34m(\u001b[0m\u001b[0;34m)\u001b[0m\u001b[0;34m.\u001b[0m\u001b[0msplit\u001b[0m\u001b[0;34m(\u001b[0m\u001b[0;34m','\u001b[0m\u001b[0;34m)\u001b[0m\u001b[0;34m:\u001b[0m\u001b[0;34m\u001b[0m\u001b[0;34m\u001b[0m\u001b[0m\n\u001b[0;32m----> 4\u001b[0;31m         \u001b[0mvalues\u001b[0m\u001b[0;34m.\u001b[0m\u001b[0mappend\u001b[0m\u001b[0;34m(\u001b[0m\u001b[0mfloat\u001b[0m\u001b[0;34m(\u001b[0m\u001b[0mitem\u001b[0m\u001b[0;34m)\u001b[0m\u001b[0;34m)\u001b[0m\u001b[0;34m\u001b[0m\u001b[0;34m\u001b[0m\u001b[0m\n\u001b[0m\u001b[1;32m      5\u001b[0m     \u001b[0;32mreturn\u001b[0m \u001b[0mvalues\u001b[0m\u001b[0;34m\u001b[0m\u001b[0;34m\u001b[0m\u001b[0m\n",
            "\u001b[0;31mValueError\u001b[0m: could not convert string to float: "
          ]
        }
      ],
      "source": [
        "parse_values(file3_lines[2])"
      ]
    },
    {
      "cell_type": "markdown",
      "metadata": {
        "id": "_RqGwZyZPELQ"
      },
      "source": [
        "The code above leads to a `ValueError` because the empty string `''` cannot be converted to a float. We can enhance the `parse_values` function to handle this *edge case*. We will also handle the case where the value is not a float."
      ]
    },
    {
      "cell_type": "code",
      "execution_count": null,
      "metadata": {
        "id": "UVROHGuKPELQ"
      },
      "outputs": [],
      "source": [
        "def parse_values(data_line):\n",
        "    values = []\n",
        "    for item in data_line.strip().split(','):\n",
        "        if item == '':\n",
        "            values.append(0.0)\n",
        "        else:\n",
        "            try:\n",
        "                values.append(float(item))\n",
        "            except ValueError:\n",
        "                values.append(item)\n",
        "    return values"
      ]
    },
    {
      "cell_type": "code",
      "execution_count": null,
      "metadata": {
        "id": "BpdQV1i4PELQ",
        "outputId": "886a71d1-f08e-4e52-e44f-7d7b096f8019"
      },
      "outputs": [
        {
          "data": {
            "text/plain": [
              "'883000,16,0.14,\\n'"
            ]
          },
          "execution_count": 34,
          "metadata": {},
          "output_type": "execute_result"
        }
      ],
      "source": [
        "file3_lines[2]"
      ]
    },
    {
      "cell_type": "code",
      "execution_count": null,
      "metadata": {
        "id": "yqdqD5f7PELQ",
        "outputId": "63765beb-2f43-4e76-f621-4b913453d520"
      },
      "outputs": [
        {
          "data": {
            "text/plain": [
              "[883000.0, 16.0, 0.14, 0.0]"
            ]
          },
          "execution_count": 35,
          "metadata": {},
          "output_type": "execute_result"
        }
      ],
      "source": [
        "parse_values(file3_lines[2])"
      ]
    },
    {
      "cell_type": "markdown",
      "metadata": {
        "id": "Man0UGonPELR"
      },
      "source": [
        "Next, let's define a function `create_item_dict` that takes a list of values and a list of headers as inputs and returns a dictionary with the values associated with their respective headers as keys.\n"
      ]
    },
    {
      "cell_type": "code",
      "execution_count": null,
      "metadata": {
        "id": "zS92Em8yPELR"
      },
      "outputs": [],
      "source": [
        "def create_item_dict(values, headers):\n",
        "    result = {}\n",
        "    for value, header in zip(values, headers):\n",
        "        result[header] = value\n",
        "    return result"
      ]
    },
    {
      "cell_type": "markdown",
      "metadata": {
        "id": "0_J1ZuUBPELR"
      },
      "source": [
        "Can you figure out what the Python built-in function `zip` does? Try out an example, or [read the documentation](https://docs.python.org/3.3/library/functions.html#zip)."
      ]
    },
    {
      "cell_type": "code",
      "execution_count": null,
      "metadata": {
        "id": "6qRUS5OzPELR",
        "outputId": "d4f158b7-d6a5-42d1-9679-4e7a8a6e86c4"
      },
      "outputs": [
        {
          "name": "stdout",
          "output_type": "stream",
          "text": [
            "(1, 'a')\n",
            "(2, 'b')\n",
            "(3, 'c')\n"
          ]
        }
      ],
      "source": [
        "for item in zip([1,2,3], ['a', 'b', 'c']):\n",
        "    print(item)"
      ]
    },
    {
      "cell_type": "markdown",
      "metadata": {
        "id": "-_F64g6ePELR"
      },
      "source": [
        "Let's try out `create_item_dict` with a couple of examples."
      ]
    },
    {
      "cell_type": "code",
      "execution_count": null,
      "metadata": {
        "id": "EOhApqn-PELR",
        "outputId": "70a09088-1fe8-4732-91dd-d36e39018962"
      },
      "outputs": [
        {
          "data": {
            "text/plain": [
              "'45230,48,0.07,4300\\n'"
            ]
          },
          "execution_count": 38,
          "metadata": {},
          "output_type": "execute_result"
        }
      ],
      "source": [
        "file3_lines[1]"
      ]
    },
    {
      "cell_type": "code",
      "execution_count": null,
      "metadata": {
        "id": "rnuTtaWNPELS",
        "outputId": "05a41ba4-0570-4f1a-c220-0f73eb83b009"
      },
      "outputs": [
        {
          "data": {
            "text/plain": [
              "{'amount': 45230.0, 'duration': 48.0, 'rate': 0.07, 'down_payment': 4300.0}"
            ]
          },
          "execution_count": 39,
          "metadata": {},
          "output_type": "execute_result"
        }
      ],
      "source": [
        "values1 = parse_values(file3_lines[1])\n",
        "create_item_dict(values1, headers)"
      ]
    },
    {
      "cell_type": "code",
      "execution_count": null,
      "metadata": {
        "id": "mQFs7Cj1PELS",
        "outputId": "ded00ac1-6254-45ea-aa66-b025e1ab0cc9"
      },
      "outputs": [
        {
          "data": {
            "text/plain": [
              "'883000,16,0.14,\\n'"
            ]
          },
          "execution_count": 40,
          "metadata": {},
          "output_type": "execute_result"
        }
      ],
      "source": [
        "file3_lines[2]"
      ]
    },
    {
      "cell_type": "code",
      "execution_count": null,
      "metadata": {
        "id": "W6XwSoj5PELS",
        "outputId": "70762fde-d701-4c64-a08b-c09abc834b90"
      },
      "outputs": [
        {
          "data": {
            "text/plain": [
              "{'amount': 883000.0, 'duration': 16.0, 'rate': 0.14, 'down_payment': 0.0}"
            ]
          },
          "execution_count": 41,
          "metadata": {},
          "output_type": "execute_result"
        }
      ],
      "source": [
        "values2 = parse_values(file3_lines[2])\n",
        "create_item_dict(values2, headers)"
      ]
    },
    {
      "cell_type": "markdown",
      "metadata": {
        "id": "glUu63K0PELS"
      },
      "source": [
        "As expected, the values & header are combined to create a dictionary with the appropriate key-value pairs.\n",
        "\n",
        "We are now ready to put it all together and define the `read_csv` function."
      ]
    },
    {
      "cell_type": "code",
      "execution_count": null,
      "metadata": {
        "id": "SNi4JVFxPELS"
      },
      "outputs": [],
      "source": [
        "def read_csv(path):\n",
        "    result = []\n",
        "    # Open the file in read mode\n",
        "    with open(path, 'r') as f:\n",
        "        # Get a list of lines\n",
        "        lines = f.readlines()\n",
        "        # Parse the header\n",
        "        headers = parse_headers(lines[0])\n",
        "        # Loop over the remaining lines\n",
        "        for data_line in lines[1:]:\n",
        "            # Parse the values\n",
        "            values = parse_values(data_line)\n",
        "            # Create a dictionary using values & headers\n",
        "            item_dict = create_item_dict(values, headers)\n",
        "            # Add the dictionary to the result\n",
        "            result.append(item_dict)\n",
        "    return result"
      ]
    },
    {
      "cell_type": "markdown",
      "metadata": {
        "id": "4yPAG4ERPELS"
      },
      "source": [
        "Let's try it out!"
      ]
    },
    {
      "cell_type": "code",
      "execution_count": null,
      "metadata": {
        "id": "fTj4204ZPELS",
        "outputId": "90fb1cac-7c52-4da0-ba2b-f7979ca7cd8d"
      },
      "outputs": [
        {
          "name": "stdout",
          "output_type": "stream",
          "text": [
            "amount,duration,rate,down_payment\n",
            "828400,120,0.11,100000\n",
            "4633400,240,0.06,\n",
            "42900,90,0.08,8900\n",
            "983000,16,0.14,\n",
            "15230,48,0.07,4300\n"
          ]
        }
      ],
      "source": [
        "with open('./data/loans2.txt') as file2:\n",
        "    print(file2.read())"
      ]
    },
    {
      "cell_type": "code",
      "execution_count": null,
      "metadata": {
        "id": "3ILalwFuPELT",
        "outputId": "ed62d24c-bd4b-4883-acda-4a6f5323413b"
      },
      "outputs": [
        {
          "data": {
            "text/plain": [
              "[{'amount': 828400.0,\n",
              "  'duration': 120.0,\n",
              "  'rate': 0.11,\n",
              "  'down_payment': 100000.0},\n",
              " {'amount': 4633400.0, 'duration': 240.0, 'rate': 0.06, 'down_payment': 0.0},\n",
              " {'amount': 42900.0, 'duration': 90.0, 'rate': 0.08, 'down_payment': 8900.0},\n",
              " {'amount': 983000.0, 'duration': 16.0, 'rate': 0.14, 'down_payment': 0.0},\n",
              " {'amount': 15230.0, 'duration': 48.0, 'rate': 0.07, 'down_payment': 4300.0}]"
            ]
          },
          "execution_count": 44,
          "metadata": {},
          "output_type": "execute_result"
        }
      ],
      "source": [
        "read_csv('./data/loans2.txt')"
      ]
    },
    {
      "cell_type": "markdown",
      "metadata": {
        "id": "j3wPMRKuPELT"
      },
      "source": [
        "The file is read and converted to a list of dictionaries, as expected. The `read_csv` file is generic enough that it can parse any file in the CSV format, with any number of rows or columns. Here's the full code for `read_csv` along with the helper functions:"
      ]
    },
    {
      "cell_type": "code",
      "execution_count": null,
      "metadata": {
        "id": "CP2DUUFbPELT"
      },
      "outputs": [],
      "source": [
        "def parse_headers(header_line):\n",
        "    return header_line.strip().split(',')\n",
        "\n",
        "def parse_values(data_line):\n",
        "    values = []\n",
        "    for item in data_line.strip().split(','):\n",
        "        if item == '':\n",
        "            values.append(0.0)\n",
        "        else:\n",
        "            try:\n",
        "                values.append(float(item))\n",
        "            except ValueError:\n",
        "                values.append(item)\n",
        "    return values\n",
        "\n",
        "def create_item_dict(values, headers):\n",
        "    result = {}\n",
        "    for value, header in zip(values, headers):\n",
        "        result[header] = value\n",
        "    return result\n",
        "\n",
        "def read_csv(path):\n",
        "    result = []\n",
        "    # Open the file in read mode\n",
        "    with open(path, 'r') as f:\n",
        "        # Get a list of lines\n",
        "        lines = f.readlines()\n",
        "        # Parse the header\n",
        "        headers = parse_headers(lines[0])\n",
        "        # Loop over the remaining lines\n",
        "        for data_line in lines[1:]:\n",
        "            # Parse the values\n",
        "            values = parse_values(data_line)\n",
        "            # Create a dictionary using values & headers\n",
        "            item_dict = create_item_dict(values, headers)\n",
        "            # Add the dictionary to the result\n",
        "            result.append(item_dict)\n",
        "    return result"
      ]
    },
    {
      "cell_type": "markdown",
      "metadata": {
        "id": "dhebaST8PELT"
      },
      "source": [
        "Try to create small, generic, and reusable functions whenever possible. They will likely be useful beyond just the problem at hand and save you significant effort in the future.\n",
        "\n",
        "In the [previous tutorial](https://jovian.ml/aakashns/python-functions-and-scope), we defined a function to calculate the equal monthly installments for a loan. Here's what it looked like:"
      ]
    },
    {
      "cell_type": "code",
      "execution_count": null,
      "metadata": {
        "id": "4KpIL2dqPELT"
      },
      "outputs": [],
      "source": [
        "import math\n",
        "\n",
        "def loan_emi(amount, duration, rate, down_payment=0):\n",
        "    \"\"\"Calculates the equal montly installment (EMI) for a loan.\n",
        "\n",
        "    Arguments:\n",
        "        amount - Total amount to be spent (loan + down payment)\n",
        "        duration - Duration of the loan (in months)\n",
        "        rate - Rate of interest (monthly)\n",
        "        down_payment (optional) - Optional intial payment (deducted from amount)\n",
        "    \"\"\"\n",
        "    loan_amount = amount - down_payment\n",
        "    try:\n",
        "        emi = loan_amount * rate * ((1+rate)**duration) / (((1+rate)**duration)-1)\n",
        "    except ZeroDivisionError:\n",
        "        emi = loan_amount / duration\n",
        "    emi = math.ceil(emi)\n",
        "    return emi"
      ]
    },
    {
      "cell_type": "markdown",
      "metadata": {
        "id": "Xi8kmY3hPELU"
      },
      "source": [
        "We can use this function to calculate EMIs for all the loans in a file."
      ]
    },
    {
      "cell_type": "code",
      "execution_count": null,
      "metadata": {
        "id": "Y1ifWPJbPELU"
      },
      "outputs": [],
      "source": [
        "loans2 = read_csv('./data/loans2.txt')"
      ]
    },
    {
      "cell_type": "code",
      "execution_count": null,
      "metadata": {
        "id": "1GjzILY_PELU",
        "outputId": "3abfc703-e194-4cf2-ad44-465255950c72"
      },
      "outputs": [
        {
          "data": {
            "text/plain": [
              "[{'amount': 828400.0,\n",
              "  'duration': 120.0,\n",
              "  'rate': 0.11,\n",
              "  'down_payment': 100000.0},\n",
              " {'amount': 4633400.0, 'duration': 240.0, 'rate': 0.06, 'down_payment': 0.0},\n",
              " {'amount': 42900.0, 'duration': 90.0, 'rate': 0.08, 'down_payment': 8900.0},\n",
              " {'amount': 983000.0, 'duration': 16.0, 'rate': 0.14, 'down_payment': 0.0},\n",
              " {'amount': 15230.0, 'duration': 48.0, 'rate': 0.07, 'down_payment': 4300.0}]"
            ]
          },
          "execution_count": 48,
          "metadata": {},
          "output_type": "execute_result"
        }
      ],
      "source": [
        "loans2"
      ]
    },
    {
      "cell_type": "code",
      "execution_count": null,
      "metadata": {
        "id": "xN5IYquZPELV"
      },
      "outputs": [],
      "source": [
        "for loan in loans2:\n",
        "    loan['emi'] = loan_emi(loan['amount'],\n",
        "                           loan['duration'],\n",
        "                           loan['rate']/12, # the CSV contains yearly rates\n",
        "                           loan['down_payment'])"
      ]
    },
    {
      "cell_type": "code",
      "execution_count": null,
      "metadata": {
        "id": "P-7nVOQVPELV",
        "outputId": "0780d415-2dd3-42a3-ec9b-951b3f0d07b9"
      },
      "outputs": [
        {
          "data": {
            "text/plain": [
              "[{'amount': 828400.0,\n",
              "  'duration': 120.0,\n",
              "  'rate': 0.11,\n",
              "  'down_payment': 100000.0,\n",
              "  'emi': 10034},\n",
              " {'amount': 4633400.0,\n",
              "  'duration': 240.0,\n",
              "  'rate': 0.06,\n",
              "  'down_payment': 0.0,\n",
              "  'emi': 33196},\n",
              " {'amount': 42900.0,\n",
              "  'duration': 90.0,\n",
              "  'rate': 0.08,\n",
              "  'down_payment': 8900.0,\n",
              "  'emi': 504},\n",
              " {'amount': 983000.0,\n",
              "  'duration': 16.0,\n",
              "  'rate': 0.14,\n",
              "  'down_payment': 0.0,\n",
              "  'emi': 67707},\n",
              " {'amount': 15230.0,\n",
              "  'duration': 48.0,\n",
              "  'rate': 0.07,\n",
              "  'down_payment': 4300.0,\n",
              "  'emi': 262}]"
            ]
          },
          "execution_count": 50,
          "metadata": {},
          "output_type": "execute_result"
        }
      ],
      "source": [
        "loans2"
      ]
    },
    {
      "cell_type": "markdown",
      "metadata": {
        "id": "g9aKtxsZPELV"
      },
      "source": [
        "You can see that each loan now has a new key `emi`, which provides the EMI for the loan. We can extract this logic into a function so that we can use it for other files too."
      ]
    },
    {
      "cell_type": "code",
      "execution_count": null,
      "metadata": {
        "id": "DwdVwCv7PELV"
      },
      "outputs": [],
      "source": [
        "def compute_emis(loans):\n",
        "    for loan in loans:\n",
        "        loan['emi'] = loan_emi(\n",
        "            loan['amount'],\n",
        "            loan['duration'],\n",
        "            loan['rate']/12, # the CSV contains yearly rates\n",
        "            loan['down_payment'])"
      ]
    },
    {
      "cell_type": "markdown",
      "metadata": {
        "id": "nWI2YlZSPELV"
      },
      "source": [
        "## Writing to files\n",
        "\n",
        "Now that we have performed some processing on the data, it would be good to write the results back to a CSV file. We can create/open a file in `w` mode using `open` and write to it using the `.write` method. The string `format` method will come in handy here."
      ]
    },
    {
      "cell_type": "code",
      "execution_count": null,
      "metadata": {
        "id": "4HcOwFLoPELV"
      },
      "outputs": [],
      "source": [
        "loans2 = read_csv('./data/loans2.txt')"
      ]
    },
    {
      "cell_type": "code",
      "execution_count": null,
      "metadata": {
        "id": "zbnJz-kPPELW"
      },
      "outputs": [],
      "source": [
        "compute_emis(loans2)"
      ]
    },
    {
      "cell_type": "code",
      "execution_count": null,
      "metadata": {
        "id": "WMJ1J4vwPELW",
        "outputId": "3a8a5df1-1fbe-4d5f-c75a-fc67b8a2dffd"
      },
      "outputs": [
        {
          "data": {
            "text/plain": [
              "[{'amount': 828400.0,\n",
              "  'duration': 120.0,\n",
              "  'rate': 0.11,\n",
              "  'down_payment': 100000.0,\n",
              "  'emi': 10034},\n",
              " {'amount': 4633400.0,\n",
              "  'duration': 240.0,\n",
              "  'rate': 0.06,\n",
              "  'down_payment': 0.0,\n",
              "  'emi': 33196},\n",
              " {'amount': 42900.0,\n",
              "  'duration': 90.0,\n",
              "  'rate': 0.08,\n",
              "  'down_payment': 8900.0,\n",
              "  'emi': 504},\n",
              " {'amount': 983000.0,\n",
              "  'duration': 16.0,\n",
              "  'rate': 0.14,\n",
              "  'down_payment': 0.0,\n",
              "  'emi': 67707},\n",
              " {'amount': 15230.0,\n",
              "  'duration': 48.0,\n",
              "  'rate': 0.07,\n",
              "  'down_payment': 4300.0,\n",
              "  'emi': 262}]"
            ]
          },
          "execution_count": 54,
          "metadata": {},
          "output_type": "execute_result"
        }
      ],
      "source": [
        "loans2"
      ]
    },
    {
      "cell_type": "code",
      "execution_count": null,
      "metadata": {
        "id": "W7VbgQ7gPELW"
      },
      "outputs": [],
      "source": [
        "with open('./data/emis2.txt', 'w') as f:\n",
        "    for loan in loans2:\n",
        "        f.write('{},{},{},{},{}\\n'.format(\n",
        "            loan['amount'],\n",
        "            loan['duration'],\n",
        "            loan['rate'],\n",
        "            loan['down_payment'],\n",
        "            loan['emi']))"
      ]
    },
    {
      "cell_type": "markdown",
      "metadata": {
        "id": "fm5zaSRpPELW"
      },
      "source": [
        "Let's verify that the file was created and written to as expected."
      ]
    },
    {
      "cell_type": "code",
      "execution_count": null,
      "metadata": {
        "id": "o2evLkLxPELW",
        "outputId": "c21e06aa-4edd-4401-8465-a832e0ba969c"
      },
      "outputs": [
        {
          "data": {
            "text/plain": [
              "['loans2.txt', 'loans3.txt', 'loans1.txt', 'emis2.txt']"
            ]
          },
          "execution_count": 56,
          "metadata": {},
          "output_type": "execute_result"
        }
      ],
      "source": [
        "os.listdir('data')"
      ]
    },
    {
      "cell_type": "code",
      "execution_count": null,
      "metadata": {
        "id": "YhSLhHNkPELY",
        "outputId": "53e6447b-fa7b-4119-e44d-2c8f27e0bf73"
      },
      "outputs": [
        {
          "name": "stdout",
          "output_type": "stream",
          "text": [
            "828400.0,120.0,0.11,100000.0,10034\n",
            "4633400.0,240.0,0.06,0.0,33196\n",
            "42900.0,90.0,0.08,8900.0,504\n",
            "983000.0,16.0,0.14,0.0,67707\n",
            "15230.0,48.0,0.07,4300.0,262\n",
            "\n"
          ]
        }
      ],
      "source": [
        "with open('./data/emis2.txt', 'r') as f:\n",
        "    print(f.read())"
      ]
    },
    {
      "cell_type": "markdown",
      "metadata": {
        "id": "7AOnxLVyPELY"
      },
      "source": [
        "Great, looks like the loan details (along with the computed EMIs) were written into the file.\n",
        "\n",
        "Let's define a generic function `write_csv` which takes a list of dictionaries and writes it to a file in CSV format. We will also include the column headers in the first line."
      ]
    },
    {
      "cell_type": "code",
      "execution_count": null,
      "metadata": {
        "id": "jtP3dy4OPELY"
      },
      "outputs": [],
      "source": [
        "def write_csv(items, path):\n",
        "    # Open the file in write mode\n",
        "    with open(path, 'w') as f:\n",
        "        # Return if there's nothing to write\n",
        "        if len(items) == 0:\n",
        "            return\n",
        "\n",
        "        # Write the headers in the first line\n",
        "        headers = list(items[0].keys())\n",
        "        f.write(','.join(headers) + '\\n')\n",
        "\n",
        "        # Write one item per line\n",
        "        for item in items:\n",
        "            values = []\n",
        "            for header in headers:\n",
        "                values.append(str(item.get(header, \"\")))\n",
        "            f.write(','.join(values) + \"\\n\")"
      ]
    },
    {
      "cell_type": "markdown",
      "metadata": {
        "id": "bgQOp2UdPELY"
      },
      "source": [
        "Do you understand how the function works? If now, try executing each statement by line by line or a different cell to figure out how it works.\n",
        "\n",
        "Let's try it out!"
      ]
    },
    {
      "cell_type": "code",
      "execution_count": null,
      "metadata": {
        "id": "0eBieH8uPELZ"
      },
      "outputs": [],
      "source": [
        "loans3 = read_csv('./data/loans3.txt')"
      ]
    },
    {
      "cell_type": "code",
      "execution_count": null,
      "metadata": {
        "id": "KeOpaxr2PELZ"
      },
      "outputs": [],
      "source": [
        "compute_emis(loans3)"
      ]
    },
    {
      "cell_type": "code",
      "execution_count": null,
      "metadata": {
        "id": "aFW6wm61PELZ"
      },
      "outputs": [],
      "source": [
        "write_csv(loans3, './data/emis3.txt')"
      ]
    },
    {
      "cell_type": "code",
      "execution_count": null,
      "metadata": {
        "id": "D-LiyXi9PELZ",
        "outputId": "7226648d-e961-4473-d621-a5bb3bcfa9fa"
      },
      "outputs": [
        {
          "name": "stdout",
          "output_type": "stream",
          "text": [
            "amount,duration,rate,down_payment,emi\n",
            "45230.0,48.0,0.07,4300.0,981\n",
            "883000.0,16.0,0.14,0.0,60819\n",
            "100000.0,12.0,0.1,0.0,8792\n",
            "728400.0,120.0,0.12,100000.0,9016\n",
            "3637400.0,240.0,0.06,0.0,26060\n",
            "82900.0,90.0,0.07,8900.0,1060\n",
            "316000.0,16.0,0.13,0.0,21618\n",
            "15230.0,48.0,0.08,4300.0,267\n",
            "991360.0,99.0,0.08,0.0,13712\n",
            "323000.0,27.0,0.09,4720010000.0,-193751447\n",
            "528400.0,120.0,0.11,100000.0,5902\n",
            "8633400.0,240.0,0.06,0.0,61853\n",
            "12900.0,90.0,0.08,8900.0,60\n",
            "\n"
          ]
        }
      ],
      "source": [
        "with open('./data/emis3.txt', 'r') as f:\n",
        "    print(f.read())"
      ]
    },
    {
      "cell_type": "markdown",
      "metadata": {
        "id": "kk23rtddPELZ"
      },
      "source": [
        "With just four lines of code, we can now read each downloaded file, calculate the EMIs, and write the results back to new files:"
      ]
    },
    {
      "cell_type": "code",
      "execution_count": null,
      "metadata": {
        "id": "3lyasTS2PELZ"
      },
      "outputs": [],
      "source": [
        "for i in range(1,4):\n",
        "    loans = read_csv('./data/loans{}.txt'.format(i))\n",
        "    compute_emis(loans)\n",
        "    write_csv(loans, './data/emis{}.txt'.format(i))"
      ]
    },
    {
      "cell_type": "code",
      "execution_count": null,
      "metadata": {
        "id": "KqxuTPB3PELZ",
        "outputId": "073cc814-99ab-42d9-9436-764733b183a1"
      },
      "outputs": [
        {
          "data": {
            "text/plain": [
              "['loans2.txt',\n",
              " 'loans3.txt',\n",
              " 'loans1.txt',\n",
              " 'emis3.txt',\n",
              " 'emis2.txt',\n",
              " 'emis1.txt']"
            ]
          },
          "execution_count": 64,
          "metadata": {},
          "output_type": "execute_result"
        }
      ],
      "source": [
        "os.listdir('./data')"
      ]
    },
    {
      "cell_type": "markdown",
      "metadata": {
        "id": "fB_HHDEVPELZ"
      },
      "source": [
        "Isn't that wonderful? Once all the functions are defined, we can calculate EMIs for thousands or even millions of loans across many files in seconds with just a few lines of code. Now we're starting to see the real power of using a programming language like Python for processing data!"
      ]
    },
    {
      "cell_type": "markdown",
      "metadata": {
        "id": "A1xm-mbcPELa"
      },
      "source": [
        "## Using Pandas to Read and Write CSVs\n",
        "\n",
        "There are some limitations to the `read_csv` and `write_csv` functions we've defined above:\n",
        "\n",
        "* The `read_csv` function fails to create a proper dictionary if any of the values in the CSV files contains commas\n",
        "* The `write_csv` function fails to create a proper CSV if any of the values to be written contains commas\n",
        "\n",
        "When a value in a CSV file contains a comma (`,`), the value is generally placed within double quotes. Double quotes (`\"`) in values are converted into two double quotes (`\"\"`). Here's an example:\n",
        "\n",
        "```\n",
        "title,description\n",
        "Fast & Furious,\"A movie, a race, a franchise\"\n",
        "The Dark Knight,\"Gotham, the \"\"Batman\"\", and the Joker\"\n",
        "Memento,A guy forgets everything every 15 minutes\n",
        "\n",
        "```\n",
        "\n",
        "Let's try it out."
      ]
    },
    {
      "cell_type": "code",
      "execution_count": null,
      "metadata": {
        "id": "X0hwcKi2PELa"
      },
      "outputs": [],
      "source": [
        "movies_url = \"https://gist.githubusercontent.com/aakashns/afee0a407d44bbc02321993548021af9/raw/6d7473f0ac4c54aca65fc4b06ed831b8a4840190/movies.csv\""
      ]
    },
    {
      "cell_type": "code",
      "execution_count": null,
      "metadata": {
        "id": "86_Cf6wzPELa",
        "outputId": "12294d4e-8d63-4bd0-e155-4afe8bb0aabc"
      },
      "outputs": [
        {
          "data": {
            "text/plain": [
              "('data/movies.csv', <http.client.HTTPMessage at 0x7fe15cf813c8>)"
            ]
          },
          "execution_count": 66,
          "metadata": {},
          "output_type": "execute_result"
        }
      ],
      "source": [
        "urlretrieve(movies_url, 'data/movies.csv')"
      ]
    },
    {
      "cell_type": "code",
      "execution_count": null,
      "metadata": {
        "id": "RqgjysjEPELa"
      },
      "outputs": [],
      "source": [
        "movies = read_csv('data/movies.csv')"
      ]
    },
    {
      "cell_type": "code",
      "execution_count": null,
      "metadata": {
        "id": "8UW-F4SlPELa",
        "outputId": "99f20870-f214-4f4d-b2c3-b31590131386"
      },
      "outputs": [
        {
          "data": {
            "text/plain": [
              "[{'title': 'Fast & Furious', 'description': '\"A movie'},\n",
              " {'title': 'The Dark Knight', 'description': '\"Gotham'},\n",
              " {'title': 'Memento',\n",
              "  'description': 'A guy forgets everything every 15 minutes'}]"
            ]
          },
          "execution_count": 68,
          "metadata": {},
          "output_type": "execute_result"
        }
      ],
      "source": [
        "movies"
      ]
    },
    {
      "cell_type": "markdown",
      "metadata": {
        "id": "LIaTaO1EPELb"
      },
      "source": [
        "As you can seen above, the movie descriptions weren't parsed properly.\n",
        "\n",
        "To read this CSV properly, we can use the `pandas` library."
      ]
    },
    {
      "cell_type": "code",
      "execution_count": null,
      "metadata": {
        "id": "TOC3aFNzPELb"
      },
      "outputs": [],
      "source": [
        "!pip install pandas --upgrade --quiet"
      ]
    },
    {
      "cell_type": "code",
      "execution_count": null,
      "metadata": {
        "id": "L1DxHX8aPELb"
      },
      "outputs": [],
      "source": [
        "import pandas as pd"
      ]
    },
    {
      "cell_type": "markdown",
      "metadata": {
        "id": "o8xzvXoVPELb"
      },
      "source": [
        "The `pd.read_csv` function can be used to read the CSV file into a pandas data frame: a spreadsheet-like object for analyzing and processing data. We'll learn more about data frames in a future lesson."
      ]
    },
    {
      "cell_type": "code",
      "execution_count": null,
      "metadata": {
        "id": "xdSVBIyAPELb"
      },
      "outputs": [],
      "source": [
        "movies_dataframe = pd.read_csv('data/movies.csv')"
      ]
    },
    {
      "cell_type": "code",
      "execution_count": null,
      "metadata": {
        "id": "SrkP6aibPELb",
        "outputId": "1c51d60d-115e-41de-8ab1-d4432ec86aae"
      },
      "outputs": [
        {
          "data": {
            "text/html": [
              "<div>\n",
              "<style scoped>\n",
              "    .dataframe tbody tr th:only-of-type {\n",
              "        vertical-align: middle;\n",
              "    }\n",
              "\n",
              "    .dataframe tbody tr th {\n",
              "        vertical-align: top;\n",
              "    }\n",
              "\n",
              "    .dataframe thead th {\n",
              "        text-align: right;\n",
              "    }\n",
              "</style>\n",
              "<table border=\"1\" class=\"dataframe\">\n",
              "  <thead>\n",
              "    <tr style=\"text-align: right;\">\n",
              "      <th></th>\n",
              "      <th>title</th>\n",
              "      <th>description</th>\n",
              "    </tr>\n",
              "  </thead>\n",
              "  <tbody>\n",
              "    <tr>\n",
              "      <th>0</th>\n",
              "      <td>Fast &amp; Furious</td>\n",
              "      <td>A movie, a race, a franchise</td>\n",
              "    </tr>\n",
              "    <tr>\n",
              "      <th>1</th>\n",
              "      <td>The Dark Knight</td>\n",
              "      <td>Gotham, the \"Batman\", and the Joker</td>\n",
              "    </tr>\n",
              "    <tr>\n",
              "      <th>2</th>\n",
              "      <td>Memento</td>\n",
              "      <td>A guy forgets everything every 15 minutes</td>\n",
              "    </tr>\n",
              "  </tbody>\n",
              "</table>\n",
              "</div>"
            ],
            "text/plain": [
              "             title                                description\n",
              "0   Fast & Furious               A movie, a race, a franchise\n",
              "1  The Dark Knight        Gotham, the \"Batman\", and the Joker\n",
              "2          Memento  A guy forgets everything every 15 minutes"
            ]
          },
          "execution_count": 72,
          "metadata": {},
          "output_type": "execute_result"
        }
      ],
      "source": [
        "movies_dataframe"
      ]
    },
    {
      "cell_type": "markdown",
      "metadata": {
        "id": "bDKO5pDYPELb"
      },
      "source": [
        "A dataframe can be converted into a list of dictionaries using the `to_dict` method."
      ]
    },
    {
      "cell_type": "code",
      "execution_count": null,
      "metadata": {
        "id": "brr03KV0PELb"
      },
      "outputs": [],
      "source": [
        "movies = movies_dataframe.to_dict('records')"
      ]
    },
    {
      "cell_type": "code",
      "execution_count": null,
      "metadata": {
        "id": "_TcQW5jOPELc",
        "outputId": "497f9c7a-8f63-43f4-c094-e78a179c19bc"
      },
      "outputs": [
        {
          "data": {
            "text/plain": [
              "[{'title': 'Fast & Furious', 'description': 'A movie, a race, a franchise'},\n",
              " {'title': 'The Dark Knight',\n",
              "  'description': 'Gotham, the \"Batman\", and the Joker'},\n",
              " {'title': 'Memento',\n",
              "  'description': 'A guy forgets everything every 15 minutes'}]"
            ]
          },
          "execution_count": 74,
          "metadata": {},
          "output_type": "execute_result"
        }
      ],
      "source": [
        "movies"
      ]
    },
    {
      "cell_type": "markdown",
      "metadata": {
        "id": "2UrmG8k2PELc"
      },
      "source": [
        "If you don't pass the arguments `records`, you get a dictionary of lists instead."
      ]
    },
    {
      "cell_type": "code",
      "execution_count": null,
      "metadata": {
        "id": "ZavQgg8JPELc"
      },
      "outputs": [],
      "source": [
        "movies_dict = movies_dataframe.to_dict()"
      ]
    },
    {
      "cell_type": "code",
      "execution_count": null,
      "metadata": {
        "id": "tED62Lj8PELc",
        "outputId": "0ea847c7-1083-4f84-e0a3-0df54ccbe232"
      },
      "outputs": [
        {
          "data": {
            "text/plain": [
              "{'title': {0: 'Fast & Furious', 1: 'The Dark Knight', 2: 'Memento'},\n",
              " 'description': {0: 'A movie, a race, a franchise',\n",
              "  1: 'Gotham, the \"Batman\", and the Joker',\n",
              "  2: 'A guy forgets everything every 15 minutes'}}"
            ]
          },
          "execution_count": 76,
          "metadata": {},
          "output_type": "execute_result"
        }
      ],
      "source": [
        "movies_dict"
      ]
    },
    {
      "cell_type": "markdown",
      "metadata": {
        "id": "LBiINa_-PELc"
      },
      "source": [
        "Let's try using the `write_csv` function to write the data in `movies` back to a CSV file."
      ]
    },
    {
      "cell_type": "code",
      "execution_count": null,
      "metadata": {
        "id": "3IaH76oRPELc"
      },
      "outputs": [],
      "source": [
        "write_csv(movies, 'movies2.csv')"
      ]
    },
    {
      "cell_type": "code",
      "execution_count": null,
      "metadata": {
        "id": "d6gNYn5uPELc",
        "outputId": "e502aff9-8073-435a-d44d-6ba4edd542cd"
      },
      "outputs": [
        {
          "name": "stdout",
          "output_type": "stream",
          "text": [
            "title,description\r\n",
            "Fast & Furious,A movie, a race, a franchise\r\n",
            "The Dark Knight,Gotham, the \"Batman\", and the Joker\r\n",
            "Memento,A guy forgets everything every 15 minutes\r\n"
          ]
        }
      ],
      "source": [
        "!head movies2.csv"
      ]
    },
    {
      "cell_type": "markdown",
      "metadata": {
        "id": "WKls2-AsPELc"
      },
      "source": [
        "As you can see above, the CSV file is not formatted properly. This can be verified by attempting to read the file using `pd.read_csv`."
      ]
    },
    {
      "cell_type": "code",
      "execution_count": null,
      "metadata": {
        "id": "k08k2UvLPELd",
        "outputId": "df561e91-d9ff-4389-930d-a81665b8401e"
      },
      "outputs": [
        {
          "data": {
            "text/html": [
              "<div>\n",
              "<style scoped>\n",
              "    .dataframe tbody tr th:only-of-type {\n",
              "        vertical-align: middle;\n",
              "    }\n",
              "\n",
              "    .dataframe tbody tr th {\n",
              "        vertical-align: top;\n",
              "    }\n",
              "\n",
              "    .dataframe thead th {\n",
              "        text-align: right;\n",
              "    }\n",
              "</style>\n",
              "<table border=\"1\" class=\"dataframe\">\n",
              "  <thead>\n",
              "    <tr style=\"text-align: right;\">\n",
              "      <th></th>\n",
              "      <th></th>\n",
              "      <th>title</th>\n",
              "      <th>description</th>\n",
              "    </tr>\n",
              "  </thead>\n",
              "  <tbody>\n",
              "    <tr>\n",
              "      <th>Fast &amp; Furious</th>\n",
              "      <th>A movie</th>\n",
              "      <td>a race</td>\n",
              "      <td>a franchise</td>\n",
              "    </tr>\n",
              "    <tr>\n",
              "      <th>The Dark Knight</th>\n",
              "      <th>Gotham</th>\n",
              "      <td>the \"Batman\"</td>\n",
              "      <td>and the Joker</td>\n",
              "    </tr>\n",
              "    <tr>\n",
              "      <th>Memento</th>\n",
              "      <th>A guy forgets everything every 15 minutes</th>\n",
              "      <td>NaN</td>\n",
              "      <td>NaN</td>\n",
              "    </tr>\n",
              "  </tbody>\n",
              "</table>\n",
              "</div>"
            ],
            "text/plain": [
              "                                                                   title  \\\n",
              "Fast & Furious  A movie                                           a race   \n",
              "The Dark Knight Gotham                                      the \"Batman\"   \n",
              "Memento         A guy forgets everything every 15 minutes            NaN   \n",
              "\n",
              "                                                              description  \n",
              "Fast & Furious  A movie                                       a franchise  \n",
              "The Dark Knight Gotham                                      and the Joker  \n",
              "Memento         A guy forgets everything every 15 minutes             NaN  "
            ]
          },
          "execution_count": 79,
          "metadata": {},
          "output_type": "execute_result"
        }
      ],
      "source": [
        "pd.read_csv('movies2.csv')"
      ]
    },
    {
      "cell_type": "markdown",
      "metadata": {
        "id": "gfLp52xjPELd"
      },
      "source": [
        "To convert a list of dictionaries into a dataframe, you can use the `pd.DataFrame` constructor."
      ]
    },
    {
      "cell_type": "code",
      "execution_count": null,
      "metadata": {
        "id": "Gw1BoyXPPELd"
      },
      "outputs": [],
      "source": [
        "df2 = pd.DataFrame(movies)"
      ]
    },
    {
      "cell_type": "code",
      "execution_count": null,
      "metadata": {
        "id": "9U2s8u2aPELd",
        "outputId": "794a7dbc-cbdd-435c-e951-96a1cd9c1f43"
      },
      "outputs": [
        {
          "data": {
            "text/html": [
              "<div>\n",
              "<style scoped>\n",
              "    .dataframe tbody tr th:only-of-type {\n",
              "        vertical-align: middle;\n",
              "    }\n",
              "\n",
              "    .dataframe tbody tr th {\n",
              "        vertical-align: top;\n",
              "    }\n",
              "\n",
              "    .dataframe thead th {\n",
              "        text-align: right;\n",
              "    }\n",
              "</style>\n",
              "<table border=\"1\" class=\"dataframe\">\n",
              "  <thead>\n",
              "    <tr style=\"text-align: right;\">\n",
              "      <th></th>\n",
              "      <th>title</th>\n",
              "      <th>description</th>\n",
              "    </tr>\n",
              "  </thead>\n",
              "  <tbody>\n",
              "    <tr>\n",
              "      <th>0</th>\n",
              "      <td>Fast &amp; Furious</td>\n",
              "      <td>A movie, a race, a franchise</td>\n",
              "    </tr>\n",
              "    <tr>\n",
              "      <th>1</th>\n",
              "      <td>The Dark Knight</td>\n",
              "      <td>Gotham, the \"Batman\", and the Joker</td>\n",
              "    </tr>\n",
              "    <tr>\n",
              "      <th>2</th>\n",
              "      <td>Memento</td>\n",
              "      <td>A guy forgets everything every 15 minutes</td>\n",
              "    </tr>\n",
              "  </tbody>\n",
              "</table>\n",
              "</div>"
            ],
            "text/plain": [
              "             title                                description\n",
              "0   Fast & Furious               A movie, a race, a franchise\n",
              "1  The Dark Knight        Gotham, the \"Batman\", and the Joker\n",
              "2          Memento  A guy forgets everything every 15 minutes"
            ]
          },
          "execution_count": 81,
          "metadata": {},
          "output_type": "execute_result"
        }
      ],
      "source": [
        "df2"
      ]
    },
    {
      "cell_type": "markdown",
      "metadata": {
        "id": "QrLVdTp7PELd"
      },
      "source": [
        "It can now be written to a CSV file using the `.to_csv` method of a dataframe."
      ]
    },
    {
      "cell_type": "code",
      "execution_count": null,
      "metadata": {
        "id": "pfv-ICjbPELd"
      },
      "outputs": [],
      "source": [
        "df2.to_csv('movies3.csv', index=None)"
      ]
    },
    {
      "cell_type": "markdown",
      "metadata": {
        "id": "bjP-bVznPELe"
      },
      "source": [
        "Can you guess what the argument `index=None` does? Try removing it and observing the difference in output."
      ]
    },
    {
      "cell_type": "code",
      "execution_count": null,
      "metadata": {
        "id": "KQkfOkuRPELe",
        "outputId": "b07d4758-12b6-4779-f900-a9ff2e8f9e64"
      },
      "outputs": [
        {
          "name": "stdout",
          "output_type": "stream",
          "text": [
            "title,description\r\n",
            "Fast & Furious,\"A movie, a race, a franchise\"\r\n",
            "The Dark Knight,\"Gotham, the \"\"Batman\"\", and the Joker\"\r\n",
            "Memento,A guy forgets everything every 15 minutes\r\n"
          ]
        }
      ],
      "source": [
        "!head movies3.csv"
      ]
    },
    {
      "cell_type": "markdown",
      "metadata": {
        "id": "rYfCVpGsPELe"
      },
      "source": [
        "The CSV file is formatted properly. We can verify this by trying to read it back."
      ]
    },
    {
      "cell_type": "code",
      "execution_count": null,
      "metadata": {
        "id": "3eJ_PUb0PELe",
        "outputId": "fc5ca173-0a72-42aa-8141-2996bb494cd4"
      },
      "outputs": [
        {
          "data": {
            "text/html": [
              "<div>\n",
              "<style scoped>\n",
              "    .dataframe tbody tr th:only-of-type {\n",
              "        vertical-align: middle;\n",
              "    }\n",
              "\n",
              "    .dataframe tbody tr th {\n",
              "        vertical-align: top;\n",
              "    }\n",
              "\n",
              "    .dataframe thead th {\n",
              "        text-align: right;\n",
              "    }\n",
              "</style>\n",
              "<table border=\"1\" class=\"dataframe\">\n",
              "  <thead>\n",
              "    <tr style=\"text-align: right;\">\n",
              "      <th></th>\n",
              "      <th>title</th>\n",
              "      <th>description</th>\n",
              "    </tr>\n",
              "  </thead>\n",
              "  <tbody>\n",
              "    <tr>\n",
              "      <th>0</th>\n",
              "      <td>Fast &amp; Furious</td>\n",
              "      <td>A movie, a race, a franchise</td>\n",
              "    </tr>\n",
              "    <tr>\n",
              "      <th>1</th>\n",
              "      <td>The Dark Knight</td>\n",
              "      <td>Gotham, the \"Batman\", and the Joker</td>\n",
              "    </tr>\n",
              "    <tr>\n",
              "      <th>2</th>\n",
              "      <td>Memento</td>\n",
              "      <td>A guy forgets everything every 15 minutes</td>\n",
              "    </tr>\n",
              "  </tbody>\n",
              "</table>\n",
              "</div>"
            ],
            "text/plain": [
              "             title                                description\n",
              "0   Fast & Furious               A movie, a race, a franchise\n",
              "1  The Dark Knight        Gotham, the \"Batman\", and the Joker\n",
              "2          Memento  A guy forgets everything every 15 minutes"
            ]
          },
          "execution_count": 84,
          "metadata": {},
          "output_type": "execute_result"
        }
      ],
      "source": [
        "pd.read_csv('movies3.csv')"
      ]
    },
    {
      "cell_type": "markdown",
      "metadata": {
        "id": "gzyWXyM-PELe"
      },
      "source": [
        "We're able to write and read the file properly with `pandas`.\n",
        "\n",
        "In general, it's always a better idea to use libraries like Pandas for reading and writing CSV files."
      ]
    },
    {
      "cell_type": "markdown",
      "metadata": {
        "id": "rcOEQEJDPELe"
      },
      "source": [
        "### Save and upload your notebook\n",
        "\n",
        "Whether you're running this Jupyter notebook online or on your computer, it's essential to save your work from time to time. You can continue working on a saved notebook later or share it with friends and colleagues to let them execute your code. [Jovian](https://www.jovian.ai) offers an easy way of saving and sharing your Jupyter notebooks online."
      ]
    },
    {
      "cell_type": "code",
      "execution_count": null,
      "metadata": {
        "id": "09NsEOzcPELf"
      },
      "outputs": [],
      "source": [
        "# Install the library\n",
        "!pip install jovian --upgrade --quiet"
      ]
    },
    {
      "cell_type": "code",
      "execution_count": null,
      "metadata": {
        "id": "B8nQcdqKPELf"
      },
      "outputs": [],
      "source": [
        "# Import the jovian module\n",
        "import jovian"
      ]
    },
    {
      "cell_type": "code",
      "execution_count": null,
      "metadata": {
        "id": "cYPxoiCuPELf",
        "outputId": "b0810eef-bed8-4ce5-a95d-870f6c93c272"
      },
      "outputs": [
        {
          "data": {
            "application/javascript": [
              "window.require && require([\"base/js/namespace\"],function(Jupyter){Jupyter.notebook.save_checkpoint()})"
            ],
            "text/plain": [
              "<IPython.core.display.Javascript object>"
            ]
          },
          "metadata": {},
          "output_type": "display_data"
        },
        {
          "name": "stdout",
          "output_type": "stream",
          "text": [
            "[jovian] Attempting to save notebook..\u001b[0m\n"
          ]
        }
      ],
      "source": [
        "jovian.commit(project='python-os-and-filesystem')"
      ]
    },
    {
      "cell_type": "markdown",
      "metadata": {
        "id": "FXJSqLm7PELf"
      },
      "source": [
        "The first time you run `jovian.commit`, you'll be asked to provide an API Key to securely upload the notebook to your Jovian account. You can get the API key from your [Jovian profile page](https://jovian.ai) after logging in / signing up.\n",
        "\n",
        "\n",
        "`jovian.commit` uploads the notebook to your Jovian account, captures the Python environment, and creates a shareable link for your notebook, as shown above. You can use this link to share your work and let anyone (including you) run your notebooks and reproduce your work."
      ]
    },
    {
      "cell_type": "markdown",
      "metadata": {
        "id": "uU-hxcMGPELf"
      },
      "source": [
        "## Exercise - Processing CSV files using a dictionary of lists\n",
        "\n",
        "We defined the functions `read_csv` and `write_csv` above to convert a CSV file into a list of dictionaries and vice versa. In this exercise, you'll transform the CSV data into a dictionary of lists instead, with one list for each column in the file.\n",
        "\n",
        "For example, consider the following CSV file:\n",
        "\n",
        "```\n",
        "amount,duration,rate,down_payment\n",
        "828400,120,0.11,100000\n",
        "4633400,240,0.06,\n",
        "42900,90,0.08,8900\n",
        "983000,16,0.14,\n",
        "15230,48,0.07,4300\n",
        "```\n",
        "\n",
        "We'll convert it into the following dictionary of lists:\n",
        "\n",
        "```\n",
        "{\n",
        "  amount: [828400, 4633400, 42900, 983000, 15230],\n",
        "  duration: []120, 240, 90, 16, 48],\n",
        "  rate: [0.11, 0.06, 0.08, 0.14, 0.07],\n",
        "  down_payment: [100000, 0, 8900, 0, 4300]\n",
        "}\n",
        "```\n",
        "\n",
        "Complete the following tasks using the empty cells below:\n",
        "\n",
        "1. Download three CSV files to the folder `data2` using the URLs listed in the code cell below, and verify the downloaded files.\n",
        "2. Define a function `read_csv_columnar` that reads a CSV file and returns a dictionary of lists in the format shown above.\n",
        "3. Define a function `compute_emis` that adds another key `emi` into the dictionary with a list of EMIs computed for each row of data.\n",
        "4. Define a function `write_csv_columnar` that writes the data from the dictionary of lists into a correctly formatted CSV file.\n",
        "5. Process all three downloaded files and write the results by creating new files in the directory `data2`.\n",
        "\n",
        "Define helper functions wherever required.\n"
      ]
    },
    {
      "cell_type": "code",
      "execution_count": null,
      "metadata": {
        "id": "fI59bMysPELg"
      },
      "outputs": [],
      "source": [
        "url1 = 'https://gist.githubusercontent.com/aakashns/257f6e6c8719c17d0e498ea287d1a386/raw/7def9ef4234ddf0bc82f855ad67dac8b971852ef/loans1.txt'\n",
        "url2 = 'https://gist.githubusercontent.com/aakashns/257f6e6c8719c17d0e498ea287d1a386/raw/7def9ef4234ddf0bc82f855ad67dac8b971852ef/loans2.txt'\n",
        "url3 = 'https://gist.githubusercontent.com/aakashns/257f6e6c8719c17d0e498ea287d1a386/raw/7def9ef4234ddf0bc82f855ad67dac8b971852ef/loans3.txt'"
      ]
    },
    {
      "cell_type": "code",
      "execution_count": null,
      "metadata": {
        "id": "967PG58UPELg"
      },
      "outputs": [],
      "source": []
    },
    {
      "cell_type": "code",
      "execution_count": null,
      "metadata": {
        "id": "vwZCczqwPELg"
      },
      "outputs": [],
      "source": []
    },
    {
      "cell_type": "code",
      "execution_count": null,
      "metadata": {
        "id": "Q3Ck2CfGPELg"
      },
      "outputs": [],
      "source": []
    },
    {
      "cell_type": "code",
      "execution_count": null,
      "metadata": {
        "id": "pH_Dxsn_PELg"
      },
      "outputs": [],
      "source": []
    },
    {
      "cell_type": "code",
      "execution_count": null,
      "metadata": {
        "id": "0-Vxt1caPELg"
      },
      "outputs": [],
      "source": []
    },
    {
      "cell_type": "markdown",
      "metadata": {
        "id": "B-ILmYHgPELh"
      },
      "source": [
        "Finally, let's save a snapshot of our work using `jovian.commit`."
      ]
    },
    {
      "cell_type": "code",
      "execution_count": null,
      "metadata": {
        "id": "fjdmMu5GPELh"
      },
      "outputs": [],
      "source": [
        "jovian.commit(project='python-os-and-filesystem')"
      ]
    },
    {
      "cell_type": "markdown",
      "metadata": {
        "id": "IpI5d4xHPELh"
      },
      "source": [
        "## Summary and Further Reading\n",
        "\n",
        "With this, we complete our discussion of reading from and writing to files in Python. We've covered the following topics in this tutorial:\n",
        "\n",
        "* Interacting with the file system using the `os` module\n",
        "* Downloading files from URLs using the `urllib` module\n",
        "* Opening files using the `open` built-in function\n",
        "* Reading the contents of a file using `.read`\n",
        "* Closing a file automatically using `with`\n",
        "* Reading a file line by line using `readlines`\n",
        "* Processing data from a CSV file by defining functions\n",
        "* Using helper functions to build more complex functions\n",
        "* Writing data to a file using `.write`\n",
        "\n",
        "This tutorial on working with files in Python is by no means exhaustive. Following are some more resources you should check out:\n",
        "\n",
        "* Python Tutorial at W3Schools: https://www.w3schools.com/python/\n",
        "* Practical Python Programming: https://dabeaz-course.github.io/practical-python/Notes/Contents.html\n",
        "* Python official documentation: https://docs.python.org/3/tutorial/index.html\n",
        "\n",
        "You are ready to move on to the next tutorial: [Numerical Computing with Python and Numpy](https://jovian.ai/aakashns/python-numerical-computing-with-numpy)."
      ]
    },
    {
      "cell_type": "markdown",
      "metadata": {
        "id": "ERaHcKQvPELh"
      },
      "source": [
        "## Questions for Revision\n",
        "\n",
        "Try answering the following questions to test your understanding of the topics covered in this notebook:\n",
        "\n",
        "1. What is the purpose of the `os` module in Python?\n",
        "2. How do you identify the current working directory in a Jupyter notebook?\n",
        "3. How do you retrieve the list of files within a directory using Python?\n",
        "4. How do you create a directory using Python?\n",
        "5. How do you check whether a file or directory exists on the filesystem? Hint: `os.path.exists`.\n",
        "6. Where can you find the full list of functions contained in the `os` module?\n",
        "7. Give examples of 5 useful functions from the `os` and `os.path` modules.\n",
        "8. How do you download a file from a URL using Python?\n",
        "9. How do you open a file using Python? Give an example?\n",
        "10. What are the different modes for opening a file in Python?\n",
        "11. Can you open a file in multiple modes? Illustrate with an example.\n",
        "12. What is the file object? How is it useful?\n",
        "13. How do you read the contents of a file into a string?\n",
        "14. What is a CSV file? Give an example.\n",
        "15. How do you close an open file?\n",
        "16. Why is it essential to close a file after processing it?\n",
        "17. How do you ensure that files are closed automatically after processing? Give an example.\n",
        "18. How is the `with` statement useful for working with files?\n",
        "19. What happens if you try to read from a closed file?\n",
        "20. How do you read the contents of a file line by line?\n",
        "21. Write a function to convert the contents of a CSV file into a list of dictionaries (one dictionary for each row of the file).\n",
        "22. Write a function to convert the contents of a CSV file into a dictionary of lists (one dictionary for each column of the file).\n",
        "23. How do you write to a file using Python?\n",
        "24. How is the string `.format` method for writing data to a file in CSV format?\n",
        "25. Write a function to write data from a list of dictionaries into a CSV file.\n",
        "26. Write a function to write data from a dictionary of lists into a CSV file.\n",
        "27. Where can you learn about the methods supported by the file object in Python?\n",
        "28. How can you read from and write to CSV files using Pandas?\n"
      ]
    },
    {
      "cell_type": "code",
      "execution_count": null,
      "metadata": {
        "id": "nf0wNih8PELh"
      },
      "outputs": [],
      "source": []
    }
  ],
  "metadata": {
    "language_info": {
      "codemirror_mode": {
        "name": "ipython",
        "version": 3
      },
      "file_extension": ".py",
      "mimetype": "text/x-python",
      "name": "python",
      "nbconvert_exporter": "python",
      "pygments_lexer": "ipython3",
      "version": "3.6.13"
    },
    "colab": {
      "provenance": []
    }
  },
  "nbformat": 4,
  "nbformat_minor": 0
}