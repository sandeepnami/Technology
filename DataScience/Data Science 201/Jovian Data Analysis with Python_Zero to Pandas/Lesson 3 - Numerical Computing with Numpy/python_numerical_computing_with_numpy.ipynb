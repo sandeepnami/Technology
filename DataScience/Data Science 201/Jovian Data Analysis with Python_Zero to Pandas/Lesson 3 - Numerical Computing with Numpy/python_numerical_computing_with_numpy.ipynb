{
 "cells": [
  {
   "cell_type": "markdown",
   "metadata": {
    "id": "QIPn3NuXwyAY"
   },
   "source": [
    "# Numerical Computing with Python and Numpy\n",
    "\n",
    "![](https://i.imgur.com/mg8O3kd.png)\n",
    "\n",
    "This tutorial series is a beginner-friendly introduction to programming and data analysis using the Python programming language. These tutorials take a practical and coding-focused approach. The best way to learn the material is to execute the code and experiment with it yourself."
   ]
  },
  {
   "cell_type": "markdown",
   "metadata": {
    "id": "hyoIAkvxwyAb"
   },
   "source": [
    "This tutorial covers the following topics:\n",
    "\n",
    "- Working with numerical data in Python\n",
    "- Going from Python lists to Numpy arrays\n",
    "- Multi-dimensional Numpy arrays and their benefits\n",
    "- Array operations, broadcasting, indexing, and slicing\n",
    "- Working with CSV data files using Numpy"
   ]
  },
  {
   "cell_type": "markdown",
   "metadata": {
    "id": "RJosoMOhwyAc"
   },
   "source": [
    "### How to run the code\n",
    "\n",
    "This tutorial is an executable [Jupyter notebook](https://jupyter.org) hosted on [Jovian](https://www.jovian.ai). You can _run_ this tutorial and experiment with the code examples in a couple of ways: *using free online resources* (recommended) or *on your computer*.\n",
    "\n",
    "#### Option 1: Running using free online resources (1-click, recommended)\n",
    "\n",
    "The easiest way to start executing the code is to click the **Run** button at the top of this page and select **Run on Binder**. You can also select \"Run on Colab\" or \"Run on Kaggle\", but you'll need to create an account on [Google Colab](https://colab.research.google.com) or [Kaggle](https://kaggle.com) to use these platforms.\n",
    "\n",
    "\n",
    "#### Option 2: Running on your computer locally\n",
    "\n",
    "To run the code on your computer locally, you'll need to set up [Python](https://www.python.org), download the notebook and install the required libraries. We recommend using the [Conda](https://docs.conda.io/projects/conda/en/latest/user-guide/install/) distribution of Python. Click the **Run** button at the top of this page, select the **Run Locally** option, and follow the instructions.\n",
    "\n",
    ">  **Jupyter Notebooks**: This tutorial is a [Jupyter notebook](https://jupyter.org) - a document made of _cells_. Each cell can contain code written in Python or explanations in plain English. You can execute code cells and view the results, e.g., numbers, messages, graphs, tables, files, etc., instantly within the notebook. Jupyter is a powerful platform for experimentation and analysis. Don't be afraid to mess around with the code & break things - you'll learn a lot by encountering and fixing errors. You can use the \"Kernel > Restart & Clear Output\" menu option to clear all outputs and start again from the top."
   ]
  },
  {
   "cell_type": "markdown",
   "metadata": {
    "id": "lQo5ETvqwyAd"
   },
   "source": [
    "## Working with numerical data\n",
    "\n",
    "The \"data\" in *Data Analysis* typically refers to numerical data, e.g., stock prices, sales figures, sensor measurements, sports scores, database tables, etc. The [Numpy](https://numpy.org) library provides specialized data structures, functions, and other tools for numerical computing in Python. Let's work through an example to see why & how to use Numpy for working with numerical data.\n",
    "\n",
    "\n",
    "> Suppose we want to use climate data like the temperature, rainfall, and humidity to determine if a region is well suited for growing apples. A simple approach for doing this would be to formulate the relationship between the annual yield of apples (tons per hectare) and the climatic conditions like the average temperature (in degrees Fahrenheit), rainfall (in  millimeters) & average relative humidity (in percentage) as a linear equation.\n",
    ">\n",
    "> `yield_of_apples = w1 * temperature + w2 * rainfall + w3 * humidity`\n",
    "\n",
    "We're expressing the yield of apples as a weighted sum of the temperature, rainfall, and humidity. This equation is an approximation since the actual relationship may not necessarily be linear, and there may be other factors involved. But a simple linear model like this often works well in practice.\n",
    "\n",
    "Based on some statical analysis of historical data, we might come up with reasonable values for the weights `w1`, `w2`, and `w3`. Here's an example set of values:"
   ]
  },
  {
   "cell_type": "code",
   "execution_count": 1,
   "metadata": {
    "id": "7hwYeXSNwyAd"
   },
   "outputs": [],
   "source": [
    "w1, w2, w3 = 0.3, 0.2, 0.5"
   ]
  },
  {
   "cell_type": "markdown",
   "metadata": {
    "id": "74z2u-xowyAe"
   },
   "source": [
    "Given some climate data for a region, we can now predict the yield of apples. Here's some sample data:\n",
    "\n",
    "<img src=\"https://i.imgur.com/TXPBiqv.png\" style=\"width:360px;\">\n",
    "\n",
    "To begin, we can define some variables to record climate data for a region."
   ]
  },
  {
   "cell_type": "code",
   "execution_count": 2,
   "metadata": {
    "id": "44vyUipqwyAf"
   },
   "outputs": [],
   "source": [
    "kanto_temp = 73\n",
    "kanto_rainfall = 67\n",
    "kanto_humidity = 43"
   ]
  },
  {
   "cell_type": "markdown",
   "metadata": {
    "id": "399eHXDrwyAf"
   },
   "source": [
    "We can now substitute these variables into the linear equation to predict the yield of apples."
   ]
  },
  {
   "cell_type": "code",
   "execution_count": 3,
   "metadata": {
    "id": "l1W-APkHwyAg",
    "outputId": "32b88e85-54c4-404a-a30a-005bdf639567"
   },
   "outputs": [
    {
     "data": {
      "text/plain": [
       "56.8"
      ]
     },
     "execution_count": 3,
     "metadata": {},
     "output_type": "execute_result"
    }
   ],
   "source": [
    "kanto_yield_apples = kanto_temp * w1 + kanto_rainfall * w2 + kanto_humidity * w3\n",
    "kanto_yield_apples"
   ]
  },
  {
   "cell_type": "code",
   "execution_count": 4,
   "metadata": {
    "id": "Lz3uDcMKwyAh",
    "outputId": "911719d2-159c-4e73-d55a-1589243ae407"
   },
   "outputs": [
    {
     "name": "stdout",
     "output_type": "stream",
     "text": [
      "The expected yield of apples in Kanto region is 56.8 tons per hectare.\n"
     ]
    }
   ],
   "source": [
    "print(\"The expected yield of apples in Kanto region is {} tons per hectare.\".format(kanto_yield_apples))"
   ]
  },
  {
   "cell_type": "markdown",
   "metadata": {
    "id": "cJinMqf9wyAh"
   },
   "source": [
    "To make it slightly easier to perform the above computation for multiple regions, we can represent the climate data for each region as a vector, i.e., a list of numbers."
   ]
  },
  {
   "cell_type": "code",
   "execution_count": 5,
   "metadata": {
    "id": "NRsRgVl2wyAh"
   },
   "outputs": [],
   "source": [
    "kanto = [73, 67, 43]\n",
    "johto = [91, 88, 64]\n",
    "hoenn = [87, 134, 58]\n",
    "sinnoh = [102, 43, 37]\n",
    "unova = [69, 96, 70]"
   ]
  },
  {
   "cell_type": "markdown",
   "metadata": {
    "id": "3zcXG3cRwyAh"
   },
   "source": [
    "The three numbers in each vector represent the temperature, rainfall, and humidity data, respectively.\n",
    "\n",
    "We can also represent the set of weights used in the formula as a vector."
   ]
  },
  {
   "cell_type": "code",
   "execution_count": 6,
   "metadata": {
    "id": "puPgdMiowyAi"
   },
   "outputs": [],
   "source": [
    "weights = [w1, w2, w3]"
   ]
  },
  {
   "cell_type": "markdown",
   "metadata": {
    "id": "f0dyoOgOwyAi"
   },
   "source": [
    "We can now write a function `crop_yield` to calcuate the yield of apples (or any other crop) given the climate data and the respective weights."
   ]
  },
  {
   "cell_type": "code",
   "execution_count": 7,
   "metadata": {
    "id": "tEHD-e4xwyAi"
   },
   "outputs": [],
   "source": [
    "def crop_yield(region, weights):\n",
    "    result = 0\n",
    "    for x, w in zip(region, weights):\n",
    "        result += x * w\n",
    "    return result"
   ]
  },
  {
   "cell_type": "code",
   "execution_count": 8,
   "metadata": {
    "id": "0cQt4wYYwyAi",
    "outputId": "44d2d1fa-dd78-4495-c361-73f20e8b08c8"
   },
   "outputs": [
    {
     "data": {
      "text/plain": [
       "56.8"
      ]
     },
     "execution_count": 8,
     "metadata": {},
     "output_type": "execute_result"
    }
   ],
   "source": [
    "crop_yield(kanto, weights)"
   ]
  },
  {
   "cell_type": "code",
   "execution_count": 9,
   "metadata": {
    "id": "tm0nZ3fPwyAi",
    "outputId": "ca931a8b-8c91-4e0f-a6f0-af8778a599b3"
   },
   "outputs": [
    {
     "data": {
      "text/plain": [
       "76.9"
      ]
     },
     "execution_count": 9,
     "metadata": {},
     "output_type": "execute_result"
    }
   ],
   "source": [
    "crop_yield(johto, weights)"
   ]
  },
  {
   "cell_type": "code",
   "execution_count": 10,
   "metadata": {
    "id": "zSdz7AXUwyAj",
    "outputId": "f8491044-1136-4bb9-b5b5-dd0678c7049d"
   },
   "outputs": [
    {
     "data": {
      "text/plain": [
       "74.9"
      ]
     },
     "execution_count": 10,
     "metadata": {},
     "output_type": "execute_result"
    }
   ],
   "source": [
    "crop_yield(unova, weights)"
   ]
  },
  {
   "cell_type": "markdown",
   "metadata": {
    "id": "6RCYva5-wyAj"
   },
   "source": [
    "## Going from Python lists to Numpy arrays\n",
    "\n",
    "\n",
    "The calculation performed by the `crop_yield` (element-wise multiplication of two vectors and taking a sum of the results) is also called the *dot product*. Learn more about dot product here: https://www.khanacademy.org/math/linear-algebra/vectors-and-spaces/dot-cross-products/v/vector-dot-product-and-vector-length .\n",
    "\n",
    "The Numpy library provides a built-in function to compute the dot product of two vectors. However, we must first convert the lists into Numpy arrays.\n",
    "\n",
    "Let's install the Numpy library using the `pip` package manager."
   ]
  },
  {
   "cell_type": "code",
   "execution_count": 11,
   "metadata": {
    "id": "14YwRvQcwyAj"
   },
   "outputs": [],
   "source": [
    "!pip install numpy --upgrade --quiet"
   ]
  },
  {
   "cell_type": "markdown",
   "metadata": {
    "id": "tcYMV3ulwyAj"
   },
   "source": [
    "Next, let's import the `numpy` module. It's common practice to import numpy with the alias `np`."
   ]
  },
  {
   "cell_type": "code",
   "execution_count": 12,
   "metadata": {
    "id": "vI6TfKL9wyAj"
   },
   "outputs": [],
   "source": [
    "import numpy as np"
   ]
  },
  {
   "cell_type": "markdown",
   "metadata": {
    "id": "Aoyy3F8IwyAj"
   },
   "source": [
    "We can now use the `np.array` function to create Numpy arrays."
   ]
  },
  {
   "cell_type": "code",
   "execution_count": 13,
   "metadata": {
    "id": "PN-E3LHiwyAj"
   },
   "outputs": [],
   "source": [
    "kanto = np.array([73, 67, 43])"
   ]
  },
  {
   "cell_type": "code",
   "execution_count": 14,
   "metadata": {
    "id": "nW0WPKxLwyAk",
    "outputId": "4ba42c6b-885d-4fc8-af4a-543801ad82a3"
   },
   "outputs": [
    {
     "data": {
      "text/plain": [
       "array([73, 67, 43])"
      ]
     },
     "execution_count": 14,
     "metadata": {},
     "output_type": "execute_result"
    }
   ],
   "source": [
    "kanto"
   ]
  },
  {
   "cell_type": "code",
   "execution_count": 15,
   "metadata": {
    "id": "20yIiJibwyAk"
   },
   "outputs": [],
   "source": [
    "weights = np.array([w1, w2, w3])"
   ]
  },
  {
   "cell_type": "code",
   "execution_count": 16,
   "metadata": {
    "id": "iYYuSfq7wyAk",
    "outputId": "b8b442f5-8f82-402b-aceb-66877eb99479"
   },
   "outputs": [
    {
     "data": {
      "text/plain": [
       "array([0.3, 0.2, 0.5])"
      ]
     },
     "execution_count": 16,
     "metadata": {},
     "output_type": "execute_result"
    }
   ],
   "source": [
    "weights"
   ]
  },
  {
   "cell_type": "markdown",
   "metadata": {
    "id": "urMmV9eLwyAk"
   },
   "source": [
    "Numpy arrays have the type `ndarray`."
   ]
  },
  {
   "cell_type": "code",
   "execution_count": 17,
   "metadata": {
    "id": "wb0y51eswyAk",
    "outputId": "1bee2015-f49f-478e-f517-61f56794a42a"
   },
   "outputs": [
    {
     "data": {
      "text/plain": [
       "numpy.ndarray"
      ]
     },
     "execution_count": 17,
     "metadata": {},
     "output_type": "execute_result"
    }
   ],
   "source": [
    "type(kanto)"
   ]
  },
  {
   "cell_type": "code",
   "execution_count": 18,
   "metadata": {
    "id": "zlxWhxLBwyAk",
    "outputId": "c060a9e8-945b-4a67-b1db-c8c6dafe8c35"
   },
   "outputs": [
    {
     "data": {
      "text/plain": [
       "numpy.ndarray"
      ]
     },
     "execution_count": 18,
     "metadata": {},
     "output_type": "execute_result"
    }
   ],
   "source": [
    "type(weights)"
   ]
  },
  {
   "cell_type": "markdown",
   "metadata": {
    "id": "V6Cb1e1RwyAl"
   },
   "source": [
    "Just like lists, Numpy arrays support the indexing notation `[]`."
   ]
  },
  {
   "cell_type": "code",
   "execution_count": 19,
   "metadata": {
    "id": "UhM3-pi-wyAl",
    "outputId": "3e9789ef-9a24-4b57-d00f-a48893cfb77d"
   },
   "outputs": [
    {
     "data": {
      "text/plain": [
       "0.3"
      ]
     },
     "execution_count": 19,
     "metadata": {},
     "output_type": "execute_result"
    }
   ],
   "source": [
    "weights[0]"
   ]
  },
  {
   "cell_type": "code",
   "execution_count": 20,
   "metadata": {
    "id": "ld-M8NNxwyAl",
    "outputId": "eafa0c92-eddd-407f-c28a-bda448f89fc7"
   },
   "outputs": [
    {
     "data": {
      "text/plain": [
       "43"
      ]
     },
     "execution_count": 20,
     "metadata": {},
     "output_type": "execute_result"
    }
   ],
   "source": [
    "kanto[2]"
   ]
  },
  {
   "cell_type": "markdown",
   "metadata": {
    "id": "cSJdCfMjwyAl"
   },
   "source": [
    "## Operating on Numpy arrays\n",
    "\n",
    "We can now compute the dot product of the two vectors using the `np.dot` function."
   ]
  },
  {
   "cell_type": "code",
   "execution_count": 21,
   "metadata": {
    "id": "anOoVwGOwyAm",
    "outputId": "6074a6f7-038f-4bbf-e029-2868e8bec1c1"
   },
   "outputs": [
    {
     "data": {
      "text/plain": [
       "56.8"
      ]
     },
     "execution_count": 21,
     "metadata": {},
     "output_type": "execute_result"
    }
   ],
   "source": [
    "np.dot(kanto, weights)"
   ]
  },
  {
   "cell_type": "markdown",
   "metadata": {
    "id": "7LjtkevBwyAm"
   },
   "source": [
    "We can achieve the same result with low-level operations supported by Numpy arrays: performing an element-wise multiplication and calculating the resulting numbers' sum."
   ]
  },
  {
   "cell_type": "code",
   "execution_count": 22,
   "metadata": {
    "id": "_vqfTTTawyAm",
    "outputId": "a1cab7ec-619f-42df-932d-d51cd2f80261"
   },
   "outputs": [
    {
     "data": {
      "text/plain": [
       "56.8"
      ]
     },
     "execution_count": 22,
     "metadata": {},
     "output_type": "execute_result"
    }
   ],
   "source": [
    "(kanto * weights).sum()"
   ]
  },
  {
   "cell_type": "markdown",
   "metadata": {
    "id": "-yj6UsGpwyAm"
   },
   "source": [
    "The `*` operator performs an element-wise multiplication of two arrays if they have the same size. The `sum` method calculates the sum of numbers in an array."
   ]
  },
  {
   "cell_type": "code",
   "execution_count": 23,
   "metadata": {
    "id": "yXijC5YAwyAq"
   },
   "outputs": [],
   "source": [
    "arr1 = np.array([1, 2, 3])\n",
    "arr2 = np.array([4, 5, 6])"
   ]
  },
  {
   "cell_type": "code",
   "execution_count": 24,
   "metadata": {
    "id": "gd1nUCBswyAq",
    "outputId": "830b6794-3a0f-4f17-a77c-80b203576099"
   },
   "outputs": [
    {
     "data": {
      "text/plain": [
       "array([ 4, 10, 18])"
      ]
     },
     "execution_count": 24,
     "metadata": {},
     "output_type": "execute_result"
    }
   ],
   "source": [
    "arr1 * arr2"
   ]
  },
  {
   "cell_type": "code",
   "execution_count": 25,
   "metadata": {
    "id": "q11DBgJqwyAq",
    "outputId": "f116dfff-3afc-442f-a94b-4cc84851b63a"
   },
   "outputs": [
    {
     "data": {
      "text/plain": [
       "15"
      ]
     },
     "execution_count": 25,
     "metadata": {},
     "output_type": "execute_result"
    }
   ],
   "source": [
    "arr2.sum()"
   ]
  },
  {
   "cell_type": "markdown",
   "metadata": {
    "id": "8qZJK_DawyAr"
   },
   "source": [
    "## Benefits of using Numpy arrays\n",
    "\n",
    "Numpy arrays offer the following benefits over Python lists for operating on numerical data:\n",
    "\n",
    "- **Ease of use**: You can write small, concise, and intuitive mathematical expressions like `(kanto * weights).sum()` rather than using loops & custom functions like `crop_yield`.\n",
    "- **Performance**: Numpy operations and functions are implemented internally in C++, which makes them much faster than using Python statements & loops that are interpreted at runtime\n",
    "\n",
    "Here's a comparison of dot products performed using Python loops vs. Numpy arrays on two vectors with a million elements each."
   ]
  },
  {
   "cell_type": "code",
   "execution_count": 26,
   "metadata": {
    "id": "U1AGtHQ0wyAr"
   },
   "outputs": [],
   "source": [
    "# Python lists\n",
    "arr1 = list(range(1000000))\n",
    "arr2 = list(range(1000000, 2000000))\n",
    "\n",
    "# Numpy arrays\n",
    "arr1_np = np.array(arr1)\n",
    "arr2_np = np.array(arr2)"
   ]
  },
  {
   "cell_type": "code",
   "execution_count": 27,
   "metadata": {
    "id": "js1KJc73wyAr",
    "outputId": "80218f96-3aba-41d5-b372-075babcb8cd9"
   },
   "outputs": [
    {
     "name": "stdout",
     "output_type": "stream",
     "text": [
      "CPU times: total: 125 ms\n",
      "Wall time: 158 ms\n"
     ]
    },
    {
     "data": {
      "text/plain": [
       "833332333333500000"
      ]
     },
     "execution_count": 27,
     "metadata": {},
     "output_type": "execute_result"
    }
   ],
   "source": [
    "%%time\n",
    "result = 0\n",
    "for x1, x2 in zip(arr1, arr2):\n",
    "    result += x1*x2\n",
    "result"
   ]
  },
  {
   "cell_type": "code",
   "execution_count": 28,
   "metadata": {
    "id": "m7ApQdTQwyAr",
    "outputId": "248ac870-9798-460d-8454-5ff276fb45c8"
   },
   "outputs": [
    {
     "name": "stdout",
     "output_type": "stream",
     "text": [
      "CPU times: total: 0 ns\n",
      "Wall time: 979 µs\n"
     ]
    },
    {
     "data": {
      "text/plain": [
       "-1942957984"
      ]
     },
     "execution_count": 28,
     "metadata": {},
     "output_type": "execute_result"
    }
   ],
   "source": [
    "%%time\n",
    "np.dot(arr1_np, arr2_np)"
   ]
  },
  {
   "cell_type": "markdown",
   "metadata": {
    "id": "XQ5mfMIWwyAr"
   },
   "source": [
    "As you can see, using `np.dot` is 100 times faster than using a `for` loop. This makes Numpy especially useful while working with really large datasets with tens of thousands or millions of data points.\n",
    "\n",
    "Let's save our work before continuing."
   ]
  },
  {
   "cell_type": "markdown",
   "metadata": {
    "id": "m2j8Al5UwyAs"
   },
   "source": [
    "## Multi-dimensional Numpy arrays\n",
    "\n",
    "We can now go one step further and represent the climate data for all the regions using a single 2-dimensional Numpy array."
   ]
  },
  {
   "cell_type": "code",
   "execution_count": 29,
   "metadata": {
    "id": "R3IcQuZZwyAs"
   },
   "outputs": [],
   "source": [
    "climate_data = np.array([[73, 67, 43],\n",
    "                         [91, 88, 64],\n",
    "                         [87, 134, 58],\n",
    "                         [102, 43, 37],\n",
    "                         [69, 96, 70]])"
   ]
  },
  {
   "cell_type": "code",
   "execution_count": 30,
   "metadata": {
    "id": "oPwzSOGDwyAs",
    "outputId": "a15f02d6-5db5-4489-b582-07c72053de9a"
   },
   "outputs": [
    {
     "data": {
      "text/plain": [
       "array([[ 73,  67,  43],\n",
       "       [ 91,  88,  64],\n",
       "       [ 87, 134,  58],\n",
       "       [102,  43,  37],\n",
       "       [ 69,  96,  70]])"
      ]
     },
     "execution_count": 30,
     "metadata": {},
     "output_type": "execute_result"
    }
   ],
   "source": [
    "climate_data"
   ]
  },
  {
   "cell_type": "markdown",
   "metadata": {
    "id": "L0z15eo9wyAs"
   },
   "source": [
    "If you've taken a linear algebra class in high school, you may recognize the above 2-d array as a matrix with five rows and three columns. Each row represents one region, and the columns represent temperature, rainfall, and humidity, respectively.\n",
    "\n",
    "Numpy arrays can have any number of dimensions and different lengths along each dimension. We can inspect the length along each dimension using the `.shape` property of an array.\n",
    "\n",
    "<img src=\"https://fgnt.github.io/python_crashkurs_doc/_images/numpy_array_t.png\" width=\"420\">\n",
    "\n"
   ]
  },
  {
   "cell_type": "code",
   "execution_count": 31,
   "metadata": {
    "id": "e4aJP5eMwyAt",
    "outputId": "eaf834c5-f31c-4c9c-adc8-0f3983c8d2d3"
   },
   "outputs": [
    {
     "data": {
      "text/plain": [
       "(5, 3)"
      ]
     },
     "execution_count": 31,
     "metadata": {},
     "output_type": "execute_result"
    }
   ],
   "source": [
    "# 2D array (matrix)\n",
    "climate_data.shape"
   ]
  },
  {
   "cell_type": "code",
   "execution_count": 41,
   "metadata": {
    "id": "Zts_Rg5owyAt",
    "outputId": "31cc0e88-e47d-46a4-a349-215ef0104206"
   },
   "outputs": [
    {
     "data": {
      "text/plain": [
       "array([0.3, 0.2, 0.5])"
      ]
     },
     "execution_count": 41,
     "metadata": {},
     "output_type": "execute_result"
    }
   ],
   "source": [
    "weights"
   ]
  },
  {
   "cell_type": "code",
   "execution_count": 42,
   "metadata": {
    "id": "oaXYzsVowyAt",
    "outputId": "a7a3b822-e090-4cbc-872e-a1b1c80cf92d"
   },
   "outputs": [
    {
     "data": {
      "text/plain": [
       "(3,)"
      ]
     },
     "execution_count": 42,
     "metadata": {},
     "output_type": "execute_result"
    }
   ],
   "source": [
    "# 1D array (vector)\n",
    "weights.shape"
   ]
  },
  {
   "cell_type": "code",
   "execution_count": 43,
   "metadata": {
    "id": "uPftrH4_wyAt"
   },
   "outputs": [],
   "source": [
    "# 3D array\n",
    "arr3 = np.array([\n",
    "    [[11, 12, 13],\n",
    "     [13, 14, 15]],\n",
    "    [[15, 16, 17],\n",
    "     [17, 18, 19.5]]])"
   ]
  },
  {
   "cell_type": "code",
   "execution_count": 44,
   "metadata": {
    "id": "HrDpde24wyAt",
    "outputId": "37c7470c-2b83-4b1e-ef3c-5b006e0dbc6d"
   },
   "outputs": [
    {
     "data": {
      "text/plain": [
       "(2, 2, 3)"
      ]
     },
     "execution_count": 44,
     "metadata": {},
     "output_type": "execute_result"
    }
   ],
   "source": [
    "arr3.shape"
   ]
  },
  {
   "cell_type": "markdown",
   "metadata": {
    "id": "EaRAETlLwyAu"
   },
   "source": [
    "All the elements in a numpy array have the same data type. You can check the data type of an array using the `.dtype` property."
   ]
  },
  {
   "cell_type": "code",
   "execution_count": 45,
   "metadata": {
    "id": "3nETYs89wyAu",
    "outputId": "bd157fef-1b59-485e-9f05-6db45a8c8fe9"
   },
   "outputs": [
    {
     "data": {
      "text/plain": [
       "dtype('float64')"
      ]
     },
     "execution_count": 45,
     "metadata": {},
     "output_type": "execute_result"
    }
   ],
   "source": [
    "weights.dtype"
   ]
  },
  {
   "cell_type": "code",
   "execution_count": 46,
   "metadata": {
    "id": "6v_W5JA7wyAu",
    "outputId": "c1f950e8-03be-479e-db19-fc9043fb1676"
   },
   "outputs": [
    {
     "data": {
      "text/plain": [
       "dtype('int32')"
      ]
     },
     "execution_count": 46,
     "metadata": {},
     "output_type": "execute_result"
    }
   ],
   "source": [
    "climate_data.dtype"
   ]
  },
  {
   "cell_type": "markdown",
   "metadata": {
    "id": "XfqzO-IswyAu"
   },
   "source": [
    "If an array contains even a single floating point number, all the other elements are also converted to floats."
   ]
  },
  {
   "cell_type": "code",
   "execution_count": 47,
   "metadata": {
    "id": "G4sZIIEZwyAu",
    "outputId": "24c91933-b52a-4383-a78a-4880a7057280"
   },
   "outputs": [
    {
     "data": {
      "text/plain": [
       "dtype('float64')"
      ]
     },
     "execution_count": 47,
     "metadata": {},
     "output_type": "execute_result"
    }
   ],
   "source": [
    "arr3.dtype"
   ]
  },
  {
   "cell_type": "markdown",
   "metadata": {
    "id": "Y2C8BaK6wyAu"
   },
   "source": [
    "We can now compute the predicted yields of apples in all the regions, using a single matrix multiplication between `climate_data` (a 5x3 matrix) and `weights` (a vector of length 3). Here's what it looks like visually:\n",
    "\n",
    "<img src=\"https://i.imgur.com/LJ2WKSI.png\" width=\"240\">\n",
    "\n",
    "You can learn about matrices and matrix multiplication by watching the first 3-4 videos of this playlist: https://www.youtube.com/watch?v=xyAuNHPsq-g&list=PLFD0EB975BA0CC1E0&index=1 .\n",
    "\n",
    "We can use the `np.matmul` function or the `@` operator to perform matrix multiplication."
   ]
  },
  {
   "cell_type": "code",
   "execution_count": 48,
   "metadata": {
    "id": "t_zL3FirwyAu",
    "outputId": "b6b03b6a-e166-4d00-92b0-f77ed2b6ba55"
   },
   "outputs": [
    {
     "data": {
      "text/plain": [
       "array([56.8, 76.9, 81.9, 57.7, 74.9])"
      ]
     },
     "execution_count": 48,
     "metadata": {},
     "output_type": "execute_result"
    }
   ],
   "source": [
    "np.matmul(climate_data, weights)"
   ]
  },
  {
   "cell_type": "code",
   "execution_count": 49,
   "metadata": {
    "id": "N4qYx8WdwyAv",
    "outputId": "06d7e34c-16de-4ea0-cd24-2f4586da725f"
   },
   "outputs": [
    {
     "data": {
      "text/plain": [
       "array([56.8, 76.9, 81.9, 57.7, 74.9])"
      ]
     },
     "execution_count": 49,
     "metadata": {},
     "output_type": "execute_result"
    }
   ],
   "source": [
    "climate_data @ weights"
   ]
  },
  {
   "cell_type": "markdown",
   "metadata": {
    "id": "1Wpc_gyLwyAv"
   },
   "source": [
    "## Working with CSV data files\n",
    "\n",
    "Numpy also provides helper functions reading from & writing to files. Let's download a file `climate.txt`, which contains 10,000 climate measurements (temperature, rainfall & humidity) in the following format:\n",
    "\n",
    "\n",
    "```\n",
    "temperature,rainfall,humidity\n",
    "25.00,76.00,99.00\n",
    "39.00,65.00,70.00\n",
    "59.00,45.00,77.00\n",
    "84.00,63.00,38.00\n",
    "66.00,50.00,52.00\n",
    "41.00,94.00,77.00\n",
    "91.00,57.00,96.00\n",
    "49.00,96.00,99.00\n",
    "67.00,20.00,28.00\n",
    "...\n",
    "```\n",
    "\n",
    "This format of storing data is known as *comma-separated values* or CSV.\n",
    "\n",
    "> **CSVs**: A comma-separated values (CSV) file is a delimited text file that uses a comma to separate values. Each line of the file is a data record. Each record consists of one or more fields, separated by commas. A CSV file typically stores tabular data (numbers and text) in plain text, in which case each line will have the same number of fields. (Wikipedia)\n",
    "\n",
    "\n",
    "To read this file into a numpy array, we can use the `genfromtxt` function."
   ]
  },
  {
   "cell_type": "code",
   "execution_count": 51,
   "metadata": {
    "id": "aV9_mlrlwyAv",
    "outputId": "bef3eb38-b0eb-4a8f-d0cb-1116110f4697"
   },
   "outputs": [
    {
     "data": {
      "text/plain": [
       "('climate.txt', <http.client.HTTPMessage at 0x19c6fb28080>)"
      ]
     },
     "execution_count": 51,
     "metadata": {},
     "output_type": "execute_result"
    }
   ],
   "source": [
    "import urllib.request\n",
    "\n",
    "urllib.request.urlretrieve(\n",
    "    'https://gist.github.com/BirajCoder/a4ffcb76fd6fb221d76ac2ee2b8584e9/raw/4054f90adfd361b7aa4255e99c2e874664094cea/climate.csv',\n",
    "    'climate.txt')"
   ]
  },
  {
   "cell_type": "code",
   "execution_count": 52,
   "metadata": {
    "id": "_GxBEKSAwyAv"
   },
   "outputs": [],
   "source": [
    "climate_data = np.genfromtxt('climate.txt', delimiter=',', skip_header=1)"
   ]
  },
  {
   "cell_type": "code",
   "execution_count": 53,
   "metadata": {
    "id": "YN-R_z-9wyAv",
    "outputId": "e8ba2ff5-a84d-421a-a916-a09c7e03d407"
   },
   "outputs": [
    {
     "data": {
      "text/plain": [
       "array([[25., 76., 99.],\n",
       "       [39., 65., 70.],\n",
       "       [59., 45., 77.],\n",
       "       ...,\n",
       "       [99., 62., 58.],\n",
       "       [70., 71., 91.],\n",
       "       [92., 39., 76.]])"
      ]
     },
     "execution_count": 53,
     "metadata": {},
     "output_type": "execute_result"
    }
   ],
   "source": [
    "climate_data"
   ]
  },
  {
   "cell_type": "code",
   "execution_count": 54,
   "metadata": {
    "id": "NLI5gmsnwyAv",
    "outputId": "a317064e-2df9-472b-d8a1-787ceb7a9ada"
   },
   "outputs": [
    {
     "data": {
      "text/plain": [
       "(10000, 3)"
      ]
     },
     "execution_count": 54,
     "metadata": {},
     "output_type": "execute_result"
    }
   ],
   "source": [
    "climate_data.shape"
   ]
  },
  {
   "cell_type": "markdown",
   "metadata": {
    "id": "VBNFw4ddwyAw"
   },
   "source": [
    "We can now perform a matrix multiplication using the `@` operator to predict the yield of apples for the entire dataset using a given set of weights."
   ]
  },
  {
   "cell_type": "code",
   "execution_count": 55,
   "metadata": {
    "id": "jMnOkPufwyAw"
   },
   "outputs": [],
   "source": [
    "weights = np.array([0.3, 0.2, 0.5])"
   ]
  },
  {
   "cell_type": "code",
   "execution_count": 56,
   "metadata": {
    "id": "nyWKV5L6wyAw"
   },
   "outputs": [],
   "source": [
    "yields = climate_data @ weights"
   ]
  },
  {
   "cell_type": "code",
   "execution_count": 57,
   "metadata": {
    "id": "PaU2LMjTwyAw",
    "outputId": "c6931d84-4480-4dc2-a497-a527dc25be13"
   },
   "outputs": [
    {
     "data": {
      "text/plain": [
       "array([72.2, 59.7, 65.2, ..., 71.1, 80.7, 73.4])"
      ]
     },
     "execution_count": 57,
     "metadata": {},
     "output_type": "execute_result"
    }
   ],
   "source": [
    "yields"
   ]
  },
  {
   "cell_type": "code",
   "execution_count": 58,
   "metadata": {
    "id": "qy5Ct4D-wyAw",
    "outputId": "6a674868-0075-4d61-e4a3-3906e21a3a98"
   },
   "outputs": [
    {
     "data": {
      "text/plain": [
       "(10000,)"
      ]
     },
     "execution_count": 58,
     "metadata": {},
     "output_type": "execute_result"
    }
   ],
   "source": [
    "yields.shape"
   ]
  },
  {
   "cell_type": "markdown",
   "metadata": {
    "id": "2OoHiw3hwyAw"
   },
   "source": [
    "Let's add the `yields` to `climate_data` as a fourth column using the [`np.concatenate`](https://numpy.org/doc/stable/reference/generated/numpy.concatenate.html) function."
   ]
  },
  {
   "cell_type": "code",
   "execution_count": 59,
   "metadata": {
    "id": "F9Ye2o1nwyAx"
   },
   "outputs": [],
   "source": [
    "climate_results = np.concatenate((climate_data, yields.reshape(10000, 1)), axis=1)"
   ]
  },
  {
   "cell_type": "code",
   "execution_count": 60,
   "metadata": {
    "id": "bOle60ZrwyAx",
    "outputId": "574bc053-cc9f-4871-d1b3-942bf47f1aab"
   },
   "outputs": [
    {
     "data": {
      "text/plain": [
       "array([[25. , 76. , 99. , 72.2],\n",
       "       [39. , 65. , 70. , 59.7],\n",
       "       [59. , 45. , 77. , 65.2],\n",
       "       ...,\n",
       "       [99. , 62. , 58. , 71.1],\n",
       "       [70. , 71. , 91. , 80.7],\n",
       "       [92. , 39. , 76. , 73.4]])"
      ]
     },
     "execution_count": 60,
     "metadata": {},
     "output_type": "execute_result"
    }
   ],
   "source": [
    "climate_results"
   ]
  },
  {
   "cell_type": "markdown",
   "metadata": {
    "id": "JZoDnGB_wyAx"
   },
   "source": [
    "There are a couple of subtleties here:\n",
    "\n",
    "* Since we wish to add new columns, we pass the argument `axis=1` to `np.concatenate`. The `axis` argument specifies the dimension for concatenation.\n",
    "\n",
    "*  The arrays should have the same number of dimensions, and the same length along each except the dimension used for concatenation. We use the [`np.reshape`](https://numpy.org/doc/stable/reference/generated/numpy.reshape.html) function to change the shape of `yields` from `(10000,)` to `(10000,1)`.\n",
    "\n",
    "Here's a visual explanation of `np.concatenate` along `axis=1` (can you guess what `axis=0` results in?):\n",
    "\n",
    "<img src=\"https://www.w3resource.com/w3r_images/python-numpy-image-exercise-58.png\" width=\"300\">\n",
    "\n",
    "The best way to understand what a Numpy function does is to experiment with it and read the documentation to learn about its arguments & return values. Use the cells below to experiment with `np.concatenate` and `np.reshape`."
   ]
  },
  {
   "cell_type": "code",
   "execution_count": null,
   "metadata": {
    "id": "fTYk4M0FwyAy"
   },
   "outputs": [],
   "source": []
  },
  {
   "cell_type": "code",
   "execution_count": null,
   "metadata": {
    "id": "IBc8EYQswyAy"
   },
   "outputs": [],
   "source": []
  },
  {
   "cell_type": "code",
   "execution_count": null,
   "metadata": {
    "id": "LxRmJTOCwyAy"
   },
   "outputs": [],
   "source": []
  },
  {
   "cell_type": "markdown",
   "metadata": {
    "id": "mKRtrCmRwyAy"
   },
   "source": [
    "Let's write the final results from our computation above back to a file using the `np.savetxt` function."
   ]
  },
  {
   "cell_type": "code",
   "execution_count": 61,
   "metadata": {
    "id": "PKDg0u9BwyAy",
    "outputId": "cca946cd-14a3-41a5-bea7-a455b388b9ed"
   },
   "outputs": [
    {
     "data": {
      "text/plain": [
       "array([[25. , 76. , 99. , 72.2],\n",
       "       [39. , 65. , 70. , 59.7],\n",
       "       [59. , 45. , 77. , 65.2],\n",
       "       ...,\n",
       "       [99. , 62. , 58. , 71.1],\n",
       "       [70. , 71. , 91. , 80.7],\n",
       "       [92. , 39. , 76. , 73.4]])"
      ]
     },
     "execution_count": 61,
     "metadata": {},
     "output_type": "execute_result"
    }
   ],
   "source": [
    "climate_results"
   ]
  },
  {
   "cell_type": "code",
   "execution_count": 62,
   "metadata": {
    "id": "7R5dXehWwyAz"
   },
   "outputs": [],
   "source": [
    "np.savetxt('climate_results.txt',\n",
    "           climate_results,\n",
    "           fmt='%.2f',\n",
    "           delimiter=',',\n",
    "           header='temperature,rainfall,humidity,yeild_apples',\n",
    "           comments='')"
   ]
  },
  {
   "cell_type": "markdown",
   "metadata": {
    "id": "DknOeLRmwyA0"
   },
   "source": [
    "The results are written back in the CSV format to the file `climate_results.txt`.\n",
    "\n",
    "```\n",
    "temperature,rainfall,humidity,yeild_apples\n",
    "25.00,76.00,99.00,72.20\n",
    "39.00,65.00,70.00,59.70\n",
    "59.00,45.00,77.00,65.20\n",
    "84.00,63.00,38.00,56.80\n",
    "...\n",
    "```\n",
    "\n"
   ]
  },
  {
   "cell_type": "markdown",
   "metadata": {
    "id": "CUGy3qgiwyA0"
   },
   "source": [
    "Numpy provides hundreds of functions for performing operations on arrays. Here are some commonly used functions:\n",
    "\n",
    "\n",
    "* Mathematics: `np.sum`, `np.exp`, `np.round`, arithemtic operators\n",
    "* Array manipulation: `np.reshape`, `np.stack`, `np.concatenate`, `np.split`\n",
    "* Linear Algebra: `np.matmul`, `np.dot`, `np.transpose`, `np.eigvals`\n",
    "* Statistics: `np.mean`, `np.median`, `np.std`, `np.max`\n",
    "\n",
    "> **How to find the function you need?** The easiest way to find the right function for a specific operation or use-case is to do a web search. For instance, searching for \"How to join numpy arrays\" leads to [this tutorial on array concatenation](https://cmdlinetips.com/2018/04/how-to-concatenate-arrays-in-numpy/).\n",
    "\n",
    "You can find a full list of array functions here: https://numpy.org/doc/stable/reference/routines.html"
   ]
  },
  {
   "cell_type": "markdown",
   "metadata": {
    "id": "s72VJwFtwyA1"
   },
   "source": [
    "The first time you run `jovian.commit`, you'll be asked to provide an API Key to securely upload the notebook to your Jovian account. You can get the API key from your [Jovian profile page](https://jovian.ai) after logging in / signing up.\n",
    "\n",
    "\n",
    "`jovian.commit` uploads the notebook to your Jovian account, captures the Python environment, and creates a shareable link for your notebook, as shown above. You can use this link to share your work and let anyone (including you) run your notebooks and reproduce your work."
   ]
  },
  {
   "cell_type": "markdown",
   "metadata": {
    "id": "pQZ5yJDswyA1"
   },
   "source": [
    "## Arithmetic operations, broadcasting and comparison\n",
    "\n",
    "Numpy arrays support arithmetic operators like `+`, `-`, `*`, etc. You can perform an arithmetic operation with a single number (also called scalar) or with another array of the same shape. Operators make it easy to write mathematical expressions with multi-dimensional arrays."
   ]
  },
  {
   "cell_type": "code",
   "execution_count": 63,
   "metadata": {
    "id": "mJrQiVvrwyA1"
   },
   "outputs": [],
   "source": [
    "arr2 = np.array([[1, 2, 3, 4],\n",
    "                 [5, 6, 7, 8],\n",
    "                 [9, 1, 2, 3]])"
   ]
  },
  {
   "cell_type": "code",
   "execution_count": 64,
   "metadata": {
    "id": "I-CrN1fuwyA1"
   },
   "outputs": [],
   "source": [
    "arr3 = np.array([[11, 12, 13, 14],\n",
    "                 [15, 16, 17, 18],\n",
    "                 [19, 11, 12, 13]])"
   ]
  },
  {
   "cell_type": "code",
   "execution_count": 65,
   "metadata": {
    "id": "zaUONAKpwyA1",
    "outputId": "e3cdc82d-be6e-4c7f-b72d-427d45aa7f58"
   },
   "outputs": [
    {
     "data": {
      "text/plain": [
       "array([[ 4,  5,  6,  7],\n",
       "       [ 8,  9, 10, 11],\n",
       "       [12,  4,  5,  6]])"
      ]
     },
     "execution_count": 65,
     "metadata": {},
     "output_type": "execute_result"
    }
   ],
   "source": [
    "# Adding a scalar\n",
    "arr2 + 3"
   ]
  },
  {
   "cell_type": "code",
   "execution_count": 66,
   "metadata": {
    "id": "zbgcU7EQwyA1",
    "outputId": "c10fb61f-8dbc-456c-dfc0-b245899e4ed2"
   },
   "outputs": [
    {
     "data": {
      "text/plain": [
       "array([[10, 10, 10, 10],\n",
       "       [10, 10, 10, 10],\n",
       "       [10, 10, 10, 10]])"
      ]
     },
     "execution_count": 66,
     "metadata": {},
     "output_type": "execute_result"
    }
   ],
   "source": [
    "# Element-wise subtraction\n",
    "arr3 - arr2"
   ]
  },
  {
   "cell_type": "code",
   "execution_count": 67,
   "metadata": {
    "id": "k5cRg46SwyA1",
    "outputId": "5b071e1b-16f7-4d7a-9837-db9a2b8e71db"
   },
   "outputs": [
    {
     "data": {
      "text/plain": [
       "array([[0.5, 1. , 1.5, 2. ],\n",
       "       [2.5, 3. , 3.5, 4. ],\n",
       "       [4.5, 0.5, 1. , 1.5]])"
      ]
     },
     "execution_count": 67,
     "metadata": {},
     "output_type": "execute_result"
    }
   ],
   "source": [
    "# Division by scalar\n",
    "arr2 / 2"
   ]
  },
  {
   "cell_type": "code",
   "execution_count": 68,
   "metadata": {
    "id": "Dee1_CaswyA2",
    "outputId": "4f45f356-ffe4-4371-9e64-bc0de76f3b12"
   },
   "outputs": [
    {
     "data": {
      "text/plain": [
       "array([[ 11,  24,  39,  56],\n",
       "       [ 75,  96, 119, 144],\n",
       "       [171,  11,  24,  39]])"
      ]
     },
     "execution_count": 68,
     "metadata": {},
     "output_type": "execute_result"
    }
   ],
   "source": [
    "# Element-wise multiplication\n",
    "arr2 * arr3"
   ]
  },
  {
   "cell_type": "code",
   "execution_count": 69,
   "metadata": {
    "id": "EdWWpJR7wyA2",
    "outputId": "51cd9568-6958-43ba-ad45-68ea7e1086ec"
   },
   "outputs": [
    {
     "data": {
      "text/plain": [
       "array([[1, 2, 3, 0],\n",
       "       [1, 2, 3, 0],\n",
       "       [1, 1, 2, 3]], dtype=int32)"
      ]
     },
     "execution_count": 69,
     "metadata": {},
     "output_type": "execute_result"
    }
   ],
   "source": [
    "# Modulus with scalar\n",
    "arr2 % 4"
   ]
  },
  {
   "cell_type": "markdown",
   "metadata": {
    "id": "V3iQeFSBwyA2"
   },
   "source": [
    "### Array Broadcasting\n",
    "\n",
    "Numpy arrays also support *broadcasting*, allowing arithmetic operations between two arrays with different numbers of dimensions but compatible shapes. Let's look at an example to see how it works."
   ]
  },
  {
   "cell_type": "code",
   "execution_count": 70,
   "metadata": {
    "id": "wrF_rxjvwyA2"
   },
   "outputs": [],
   "source": [
    "arr2 = np.array([[1, 2, 3, 4],\n",
    "                 [5, 6, 7, 8],\n",
    "                 [9, 1, 2, 3]])"
   ]
  },
  {
   "cell_type": "code",
   "execution_count": 71,
   "metadata": {
    "id": "4JCWHdbOwyA2",
    "outputId": "b500c007-1f8f-4c9e-cb3d-5a9f064ed0d0"
   },
   "outputs": [
    {
     "data": {
      "text/plain": [
       "(3, 4)"
      ]
     },
     "execution_count": 71,
     "metadata": {},
     "output_type": "execute_result"
    }
   ],
   "source": [
    "arr2.shape"
   ]
  },
  {
   "cell_type": "code",
   "execution_count": 72,
   "metadata": {
    "id": "MKUwTMdcwyA2"
   },
   "outputs": [],
   "source": [
    "arr4 = np.array([4, 5, 6, 7])"
   ]
  },
  {
   "cell_type": "code",
   "execution_count": 73,
   "metadata": {
    "id": "xrJzMWJmwyA3",
    "outputId": "57969d75-9b44-4693-dc11-ff745992e6da"
   },
   "outputs": [
    {
     "data": {
      "text/plain": [
       "(4,)"
      ]
     },
     "execution_count": 73,
     "metadata": {},
     "output_type": "execute_result"
    }
   ],
   "source": [
    "arr4.shape"
   ]
  },
  {
   "cell_type": "code",
   "execution_count": 74,
   "metadata": {
    "id": "gozkKx5HwyA3",
    "outputId": "f71d874d-29c9-438b-b87b-ed8bd5185c81"
   },
   "outputs": [
    {
     "data": {
      "text/plain": [
       "array([[ 5,  7,  9, 11],\n",
       "       [ 9, 11, 13, 15],\n",
       "       [13,  6,  8, 10]])"
      ]
     },
     "execution_count": 74,
     "metadata": {},
     "output_type": "execute_result"
    }
   ],
   "source": [
    "arr2 + arr4"
   ]
  },
  {
   "cell_type": "markdown",
   "metadata": {
    "id": "KIPIZFWqwyA3"
   },
   "source": [
    "When the expression `arr2 + arr4` is evaluated, `arr4` (which has the shape `(4,)`) is replicated three times to match the shape `(3, 4)` of `arr2`. Numpy performs the replication without actually creating three copies of the smaller dimension array, thus improving performance and using lower memory.\n",
    "\n",
    "<img src=\"https://jakevdp.github.io/PythonDataScienceHandbook/figures/02.05-broadcasting.png\" width=\"360\">\n",
    "\n",
    "Broadcasting only works if one of the arrays can be replicated to match the other array's shape."
   ]
  },
  {
   "cell_type": "code",
   "execution_count": 75,
   "metadata": {
    "id": "HaOK22dnwyA3"
   },
   "outputs": [],
   "source": [
    "arr5 = np.array([7, 8])"
   ]
  },
  {
   "cell_type": "code",
   "execution_count": 76,
   "metadata": {
    "id": "n78L1sF2wyA3",
    "outputId": "06f188fb-e4e4-4cd4-ad1e-9135552bbdb8"
   },
   "outputs": [
    {
     "data": {
      "text/plain": [
       "(2,)"
      ]
     },
     "execution_count": 76,
     "metadata": {},
     "output_type": "execute_result"
    }
   ],
   "source": [
    "arr5.shape"
   ]
  },
  {
   "cell_type": "code",
   "execution_count": 77,
   "metadata": {
    "id": "eqp5JkrpwyA4",
    "outputId": "dff757d7-fe70-488a-93af-30b7a1e5c87d"
   },
   "outputs": [
    {
     "ename": "ValueError",
     "evalue": "operands could not be broadcast together with shapes (3,4) (2,) ",
     "output_type": "error",
     "traceback": [
      "\u001b[1;31m---------------------------------------------------------------------------\u001b[0m",
      "\u001b[1;31mValueError\u001b[0m                                Traceback (most recent call last)",
      "Cell \u001b[1;32mIn[77], line 1\u001b[0m\n\u001b[1;32m----> 1\u001b[0m \u001b[43marr2\u001b[49m\u001b[43m \u001b[49m\u001b[38;5;241;43m+\u001b[39;49m\u001b[43m \u001b[49m\u001b[43marr5\u001b[49m\n",
      "\u001b[1;31mValueError\u001b[0m: operands could not be broadcast together with shapes (3,4) (2,) "
     ]
    }
   ],
   "source": [
    "arr2 + arr5"
   ]
  },
  {
   "cell_type": "markdown",
   "metadata": {
    "id": "iu8K4lwnwyA4"
   },
   "source": [
    "In the above example, even if `arr5` is replicated three times, it will not match the shape of `arr2`. Hence `arr2 + arr5` cannot be evaluated successfully. Learn more about broadcasting here: https://numpy.org/doc/stable/user/basics.broadcasting.html ."
   ]
  },
  {
   "cell_type": "markdown",
   "metadata": {
    "id": "tMhrU0LVwyA4"
   },
   "source": [
    "### Array Comparison\n",
    "\n",
    "Numpy arrays also support comparison operations like `==`, `!=`, `>` etc. The result is an array of booleans."
   ]
  },
  {
   "cell_type": "code",
   "execution_count": 78,
   "metadata": {
    "id": "PzdijjGrwyA4"
   },
   "outputs": [],
   "source": [
    "arr1 = np.array([[1, 2, 3], [3, 4, 5]])\n",
    "arr2 = np.array([[2, 2, 3], [1, 2, 5]])"
   ]
  },
  {
   "cell_type": "code",
   "execution_count": 79,
   "metadata": {
    "id": "nTl_YLXFwyA4",
    "outputId": "85dbc25c-1280-450d-c393-42639e47b00f"
   },
   "outputs": [
    {
     "data": {
      "text/plain": [
       "array([[False,  True,  True],\n",
       "       [False, False,  True]])"
      ]
     },
     "execution_count": 79,
     "metadata": {},
     "output_type": "execute_result"
    }
   ],
   "source": [
    "arr1 == arr2"
   ]
  },
  {
   "cell_type": "code",
   "execution_count": 80,
   "metadata": {
    "id": "1mbOo8M5wyA4",
    "outputId": "3375ae2d-716f-42a9-b727-26a64f99a4ec"
   },
   "outputs": [
    {
     "data": {
      "text/plain": [
       "array([[ True, False, False],\n",
       "       [ True,  True, False]])"
      ]
     },
     "execution_count": 80,
     "metadata": {},
     "output_type": "execute_result"
    }
   ],
   "source": [
    "arr1 != arr2"
   ]
  },
  {
   "cell_type": "code",
   "execution_count": 81,
   "metadata": {
    "id": "T79lCMaBwyA4",
    "outputId": "b0ff288a-2717-40da-fa1c-8d1b0ac807c1"
   },
   "outputs": [
    {
     "data": {
      "text/plain": [
       "array([[False,  True,  True],\n",
       "       [ True,  True,  True]])"
      ]
     },
     "execution_count": 81,
     "metadata": {},
     "output_type": "execute_result"
    }
   ],
   "source": [
    "arr1 >= arr2"
   ]
  },
  {
   "cell_type": "code",
   "execution_count": 82,
   "metadata": {
    "id": "XQjLqWdtwyA5",
    "outputId": "41422540-67c6-4f1c-c69c-df79f83366a4"
   },
   "outputs": [
    {
     "data": {
      "text/plain": [
       "array([[ True, False, False],\n",
       "       [False, False, False]])"
      ]
     },
     "execution_count": 82,
     "metadata": {},
     "output_type": "execute_result"
    }
   ],
   "source": [
    "arr1 < arr2"
   ]
  },
  {
   "cell_type": "markdown",
   "metadata": {
    "id": "kLHMvrJhwyA5"
   },
   "source": [
    "Array comparison is frequently used to count the number of equal elements in two arrays using the `sum` method. Remember that `True` evaluates to `1` and `False` evaluates to `0` when booleans are used in arithmetic operations."
   ]
  },
  {
   "cell_type": "code",
   "execution_count": 83,
   "metadata": {
    "id": "J0xp-RYlwyA5",
    "outputId": "3542b091-819e-4dbe-86f9-cc36d759f066"
   },
   "outputs": [
    {
     "data": {
      "text/plain": [
       "3"
      ]
     },
     "execution_count": 83,
     "metadata": {},
     "output_type": "execute_result"
    }
   ],
   "source": [
    "(arr1 == arr2).sum()"
   ]
  },
  {
   "cell_type": "markdown",
   "metadata": {
    "id": "QsTYcQvlwyA5"
   },
   "source": [
    "## Array indexing and slicing\n",
    "\n",
    "Numpy extends Python's list indexing notation using `[]` to multiple dimensions in an intuitive fashion. You can provide a comma-separated list of indices or ranges to select a specific element or a subarray (also called a slice) from a Numpy array."
   ]
  },
  {
   "cell_type": "code",
   "execution_count": 84,
   "metadata": {
    "id": "1fBXPl6bwyA5"
   },
   "outputs": [],
   "source": [
    "arr3 = np.array([\n",
    "    [[11, 12, 13, 14],\n",
    "     [13, 14, 15, 19]],\n",
    "\n",
    "    [[15, 16, 17, 21],\n",
    "     [63, 92, 36, 18]],\n",
    "\n",
    "    [[98, 32, 81, 23],\n",
    "     [17, 18, 19.5, 43]]])"
   ]
  },
  {
   "cell_type": "code",
   "execution_count": 85,
   "metadata": {
    "id": "IxBNbZFTwyA5",
    "outputId": "812eea45-2ada-4ff6-96e3-7aca261eb6b0"
   },
   "outputs": [
    {
     "data": {
      "text/plain": [
       "(3, 2, 4)"
      ]
     },
     "execution_count": 85,
     "metadata": {},
     "output_type": "execute_result"
    }
   ],
   "source": [
    "arr3.shape"
   ]
  },
  {
   "cell_type": "code",
   "execution_count": 86,
   "metadata": {
    "id": "ODljUbEowyA5",
    "outputId": "171d7d7c-248b-4746-fc63-1dfe8b46f8cc"
   },
   "outputs": [
    {
     "data": {
      "text/plain": [
       "36.0"
      ]
     },
     "execution_count": 86,
     "metadata": {},
     "output_type": "execute_result"
    }
   ],
   "source": [
    "# Single element\n",
    "arr3[1, 1, 2]"
   ]
  },
  {
   "cell_type": "code",
   "execution_count": 87,
   "metadata": {
    "id": "15SfcJnMwyA5",
    "outputId": "3971a58a-f029-497c-fce1-da93cef77f72"
   },
   "outputs": [
    {
     "data": {
      "text/plain": [
       "array([[[15., 16.]],\n",
       "\n",
       "       [[98., 32.]]])"
      ]
     },
     "execution_count": 87,
     "metadata": {},
     "output_type": "execute_result"
    }
   ],
   "source": [
    "# Subarray using ranges\n",
    "arr3[1:, 0:1, :2]"
   ]
  },
  {
   "cell_type": "code",
   "execution_count": 88,
   "metadata": {
    "id": "hJnjk0D1wyA6",
    "outputId": "4d521463-b447-4b7b-af3e-b7990c5cb838"
   },
   "outputs": [
    {
     "data": {
      "text/plain": [
       "array([18., 43.])"
      ]
     },
     "execution_count": 88,
     "metadata": {},
     "output_type": "execute_result"
    }
   ],
   "source": [
    "# Mixing indices and ranges\n",
    "arr3[1:, 1, 3]"
   ]
  },
  {
   "cell_type": "code",
   "execution_count": 89,
   "metadata": {
    "id": "Yd_DUjPmwyA6",
    "outputId": "45099838-7035-40b1-d389-c6b224090e8b"
   },
   "outputs": [
    {
     "data": {
      "text/plain": [
       "array([[63. , 92. , 36. ],\n",
       "       [17. , 18. , 19.5]])"
      ]
     },
     "execution_count": 89,
     "metadata": {},
     "output_type": "execute_result"
    }
   ],
   "source": [
    "# Mixing indices and ranges\n",
    "arr3[1:, 1, :3]"
   ]
  },
  {
   "cell_type": "code",
   "execution_count": 90,
   "metadata": {
    "id": "3aMB6j8MwyA6",
    "outputId": "5e1b7189-4ce3-4356-fde8-e1e7069aa3ac"
   },
   "outputs": [
    {
     "data": {
      "text/plain": [
       "array([[15., 16., 17., 21.],\n",
       "       [63., 92., 36., 18.]])"
      ]
     },
     "execution_count": 90,
     "metadata": {},
     "output_type": "execute_result"
    }
   ],
   "source": [
    "# Using fewer indices\n",
    "arr3[1]"
   ]
  },
  {
   "cell_type": "code",
   "execution_count": 91,
   "metadata": {
    "id": "iXGuptnrwyA6",
    "outputId": "a6bfd399-d60b-4e27-f585-7a2762b0099a"
   },
   "outputs": [
    {
     "data": {
      "text/plain": [
       "array([[13., 14., 15., 19.],\n",
       "       [63., 92., 36., 18.]])"
      ]
     },
     "execution_count": 91,
     "metadata": {},
     "output_type": "execute_result"
    }
   ],
   "source": [
    "# Using fewer indices\n",
    "arr3[:2, 1]"
   ]
  },
  {
   "cell_type": "code",
   "execution_count": 92,
   "metadata": {
    "id": "u79P_0svwyA7",
    "outputId": "65095a64-dad7-4a2e-863d-f06f9d3d43d1"
   },
   "outputs": [
    {
     "ename": "IndexError",
     "evalue": "too many indices for array: array is 3-dimensional, but 4 were indexed",
     "output_type": "error",
     "traceback": [
      "\u001b[1;31m---------------------------------------------------------------------------\u001b[0m",
      "\u001b[1;31mIndexError\u001b[0m                                Traceback (most recent call last)",
      "Cell \u001b[1;32mIn[92], line 2\u001b[0m\n\u001b[0;32m      1\u001b[0m \u001b[38;5;66;03m# Using too many indices\u001b[39;00m\n\u001b[1;32m----> 2\u001b[0m \u001b[43marr3\u001b[49m\u001b[43m[\u001b[49m\u001b[38;5;241;43m1\u001b[39;49m\u001b[43m,\u001b[49m\u001b[38;5;241;43m3\u001b[39;49m\u001b[43m,\u001b[49m\u001b[38;5;241;43m2\u001b[39;49m\u001b[43m,\u001b[49m\u001b[38;5;241;43m1\u001b[39;49m\u001b[43m]\u001b[49m\n",
      "\u001b[1;31mIndexError\u001b[0m: too many indices for array: array is 3-dimensional, but 4 were indexed"
     ]
    }
   ],
   "source": [
    "# Using too many indices\n",
    "arr3[1,3,2,1]"
   ]
  },
  {
   "cell_type": "markdown",
   "metadata": {
    "id": "_iInNJ2LwyA7"
   },
   "source": [
    "The notation and its results can seem confusing at first, so take your time to experiment and become comfortable with it. Use the cells below to try out some examples of array indexing and slicing, with different combinations of indices and ranges. Here are some more examples demonstrated visually:\n",
    "\n",
    "<img src=\"https://scipy-lectures.org/_images/numpy_indexing.png\" width=\"360\">"
   ]
  },
  {
   "cell_type": "code",
   "execution_count": null,
   "metadata": {
    "id": "CebA1SUNwyA7"
   },
   "outputs": [],
   "source": []
  },
  {
   "cell_type": "code",
   "execution_count": null,
   "metadata": {
    "id": "rzoz148iwyA7"
   },
   "outputs": [],
   "source": []
  },
  {
   "cell_type": "code",
   "execution_count": null,
   "metadata": {
    "id": "-pHaYhLuwyA7"
   },
   "outputs": [],
   "source": []
  },
  {
   "cell_type": "code",
   "execution_count": null,
   "metadata": {
    "id": "jeaAEzXSwyA7"
   },
   "outputs": [],
   "source": []
  },
  {
   "cell_type": "markdown",
   "metadata": {
    "id": "BawZTvQnwyA8"
   },
   "source": [
    "## Other ways of creating Numpy arrays\n",
    "\n",
    "Numpy also provides some handy functions to create arrays of desired shapes with fixed or random values. Check out the [official documentation](https://numpy.org/doc/stable/reference/routines.array-creation.html) or use the `help` function to learn more."
   ]
  },
  {
   "cell_type": "code",
   "execution_count": 93,
   "metadata": {
    "id": "9oSDeZVEwyA8",
    "outputId": "b1a86097-3a05-420e-9ee2-97d3eeeeb71d"
   },
   "outputs": [
    {
     "data": {
      "text/plain": [
       "array([[0., 0.],\n",
       "       [0., 0.],\n",
       "       [0., 0.]])"
      ]
     },
     "execution_count": 93,
     "metadata": {},
     "output_type": "execute_result"
    }
   ],
   "source": [
    "# All zeros\n",
    "np.zeros((3, 2))"
   ]
  },
  {
   "cell_type": "code",
   "execution_count": 94,
   "metadata": {
    "id": "PoWBsrzDwyA8",
    "outputId": "d8ef452c-be6f-4c3e-beea-b63b5ee7c503"
   },
   "outputs": [
    {
     "data": {
      "text/plain": [
       "array([[[1., 1., 1.],\n",
       "        [1., 1., 1.]],\n",
       "\n",
       "       [[1., 1., 1.],\n",
       "        [1., 1., 1.]]])"
      ]
     },
     "execution_count": 94,
     "metadata": {},
     "output_type": "execute_result"
    }
   ],
   "source": [
    "# All ones\n",
    "np.ones([2, 2, 3])"
   ]
  },
  {
   "cell_type": "code",
   "execution_count": 95,
   "metadata": {
    "id": "uutpTKbNwyA8",
    "outputId": "e9f2c20a-de6c-4e27-d98b-18710d205a7a"
   },
   "outputs": [
    {
     "data": {
      "text/plain": [
       "array([[1., 0., 0.],\n",
       "       [0., 1., 0.],\n",
       "       [0., 0., 1.]])"
      ]
     },
     "execution_count": 95,
     "metadata": {},
     "output_type": "execute_result"
    }
   ],
   "source": [
    "# Identity matrix\n",
    "np.eye(3)"
   ]
  },
  {
   "cell_type": "code",
   "execution_count": 96,
   "metadata": {
    "id": "wtXGu6vBwyA8",
    "outputId": "dcdbf517-0ab3-4e6f-c288-4dfb45c0d2b5"
   },
   "outputs": [
    {
     "data": {
      "text/plain": [
       "array([0.66362724, 0.49265623, 0.87600176, 0.17686618, 0.17391942])"
      ]
     },
     "execution_count": 96,
     "metadata": {},
     "output_type": "execute_result"
    }
   ],
   "source": [
    "# Random vector\n",
    "np.random.rand(5)"
   ]
  },
  {
   "cell_type": "code",
   "execution_count": 97,
   "metadata": {
    "id": "_jvyCiVuwyA8",
    "outputId": "81e27884-fa6d-4fbc-a503-eae5de81329d"
   },
   "outputs": [
    {
     "data": {
      "text/plain": [
       "array([[ 0.03752625,  1.50415947, -1.65839819],\n",
       "       [ 0.12586063,  0.47088146,  1.38932569]])"
      ]
     },
     "execution_count": 97,
     "metadata": {},
     "output_type": "execute_result"
    }
   ],
   "source": [
    "# Random matrix\n",
    "np.random.randn(2, 3) # rand vs. randn - what's the difference?"
   ]
  },
  {
   "cell_type": "code",
   "execution_count": 98,
   "metadata": {
    "id": "Hkz9RpVywyA8",
    "outputId": "87ef73e4-2c01-4c20-868d-c7a6ddaa3d00"
   },
   "outputs": [
    {
     "data": {
      "text/plain": [
       "array([[42, 42, 42],\n",
       "       [42, 42, 42]])"
      ]
     },
     "execution_count": 98,
     "metadata": {},
     "output_type": "execute_result"
    }
   ],
   "source": [
    "# Fixed value\n",
    "np.full([2, 3], 42)"
   ]
  },
  {
   "cell_type": "code",
   "execution_count": 99,
   "metadata": {
    "id": "E5s2C6CzwyA9",
    "outputId": "14acca78-c643-49d3-b6bc-a072306d06ae"
   },
   "outputs": [
    {
     "data": {
      "text/plain": [
       "array([10, 13, 16, 19, 22, 25, 28, 31, 34, 37, 40, 43, 46, 49, 52, 55, 58,\n",
       "       61, 64, 67, 70, 73, 76, 79, 82, 85, 88])"
      ]
     },
     "execution_count": 99,
     "metadata": {},
     "output_type": "execute_result"
    }
   ],
   "source": [
    "# Range with start, end and step\n",
    "np.arange(10, 90, 3)"
   ]
  },
  {
   "cell_type": "code",
   "execution_count": 100,
   "metadata": {
    "id": "vE-71a3pwyA9",
    "outputId": "19ee80b2-738f-49a2-f5cc-634bf1c4fcf2"
   },
   "outputs": [
    {
     "data": {
      "text/plain": [
       "array([ 3.,  6.,  9., 12., 15., 18., 21., 24., 27.])"
      ]
     },
     "execution_count": 100,
     "metadata": {},
     "output_type": "execute_result"
    }
   ],
   "source": [
    "# Equally spaced numbers in a range\n",
    "np.linspace(3, 27, 9)"
   ]
  },
  {
   "cell_type": "markdown",
   "metadata": {
    "id": "UjUkxanmwyBA"
   },
   "source": [
    "## Exercises\n",
    "\n",
    "Try the following exercises to become familiar with Numpy arrays and practice your skills:\n",
    "\n",
    "- Assignment on Numpy array functions: https://jovian.ai/aakashns/numpy-array-operations\n",
    "- (Optional) 100 numpy exercises: https://jovian.ai/aakashns/100-numpy-exercises\n"
   ]
  },
  {
   "cell_type": "markdown",
   "metadata": {
    "id": "MkbLh6T_wyBA"
   },
   "source": [
    "## Summary and Further Reading\n",
    "\n",
    "With this, we complete our discussion of numerical computing with Numpy. We've covered the following topics in this tutorial:\n",
    "\n",
    "- Going from Python lists to Numpy arrays\n",
    "- Operating on Numpy arrays\n",
    "- Benefits of using Numpy arrays over lists\n",
    "- Multi-dimensional Numpy arrays\n",
    "- Working with CSV data files\n",
    "- Arithmetic operations and broadcasting\n",
    "- Array indexing and slicing\n",
    "- Other ways of creating Numpy arrays\n",
    "\n",
    "\n",
    "Check out the following resources for learning more about Numpy:\n",
    "\n",
    "- Official tutorial: https://numpy.org/devdocs/user/quickstart.html\n",
    "- Numpy tutorial on W3Schools: https://www.w3schools.com/python/numpy_intro.asp\n",
    "- Advanced Numpy (exploring the internals): http://scipy-lectures.org/advanced/advanced_numpy/index.html\n",
    "\n",
    "You are ready to move on to the next tutorial: [Analyzing Tabular Data using Pandas](https://jovian.ai/aakashns/python-pandas-data-analysis)."
   ]
  },
  {
   "cell_type": "markdown",
   "metadata": {
    "id": "Yyz00esxwyBB"
   },
   "source": [
    "## Questions for Revision\n",
    "\n",
    "Try answering the following questions to test your understanding of the topics covered in this notebook:\n",
    "\n",
    "1. What is a vector?\n",
    "2. How do you represent vectors using a Python list? Give an example.\n",
    "3. What is a dot product of two vectors?\n",
    "4. Write a function to compute the dot product of two vectors.\n",
    "5. What is Numpy?\n",
    "6. How do you install Numpy?\n",
    "7. How do you import the `numpy` module?\n",
    "8. What does it mean to import a module with an alias? Give an example.\n",
    "9. What is the commonly used alias for `numpy`?\n",
    "10. What is a Numpy array?\n",
    "11. How do you create a Numpy array? Give an example.\n",
    "12. What is the type of Numpy arrays?\n",
    "13. How do you access the elements of a Numpy array?\n",
    "14. How do you compute the dot product of two vectors using Numpy?\n",
    "15. What happens if you try to compute the dot product of two vectors which have different sizes?\n",
    "16. How do you compute the element-wise product of two Numpy arrays?\n",
    "17. How do you compute the sum of all the elements in a Numpy array?\n",
    "18. What are the benefits of using Numpy arrays over Python lists for operating on numerical data?\n",
    "19. Why do Numpy array operations have better performance compared to Python functions and loops?\n",
    "20. Illustrate the performance difference between Numpy array operations and Python loops using an example.\n",
    "21. What are multi-dimensional Numpy arrays?\n",
    "22. Illustrate the creation of Numpy arrays with 2, 3, and 4 dimensions.\n",
    "23. How do you inspect the number of dimensions and the length along each dimension in a Numpy array?\n",
    "24. Can the elements of a Numpy array have different data types?\n",
    "25. How do you check the data type of the elements of a Numpy array?\n",
    "26. What is the data type of a Numpy array?\n",
    "27. What is the difference between a matrix and a 2D Numpy array?\n",
    "28. How do you perform matrix multiplication using Numpy?\n",
    "29. What is the `@` operator used for in Numpy?\n",
    "30. What is the CSV file format?\n",
    "31. How do you read data from a CSV file using Numpy?\n",
    "32. How do you concatenate two Numpy arrays?\n",
    "33. What is the purpose of the `axis` argument of `np.concatenate`?\n",
    "34. When are two Numpy arrays compatible for concatenation?\n",
    "35. Give an example of two Numpy arrays that can be concatenated.\n",
    "36. Give an example of two Numpy arrays that cannot be concatenated.\n",
    "37. What is the purpose of the `np.reshape` function?\n",
    "38. What does it mean to “reshape” a Numpy array?\n",
    "39. How do you write a numpy array into a CSV file?\n",
    "40. Give some examples of Numpy functions for performing mathematical operations.\n",
    "41. Give some examples of Numpy functions for performing array manipulation.\n",
    "42. Give some examples of Numpy functions for performing linear algebra.\n",
    "43. Give some examples of Numpy functions for performing statistical operations.\n",
    "44. How do you find the right Numpy function for a specific operation or use case?\n",
    "45. Where can you see a list of all the Numpy array functions and operations?\n",
    "46. What are the arithmetic operators supported by Numpy arrays? Illustrate with examples.\n",
    "47. What is array broadcasting? How is it useful? Illustrate with an example.\n",
    "48. Give some examples of arrays that are compatible for broadcasting?\n",
    "49. Give some examples of arrays that are not compatible for broadcasting?\n",
    "50. What are the comparison operators supported by Numpy arrays? Illustrate with examples.\n",
    "51. How do you access a specific subarray or slice from a Numpy array?\n",
    "52. Illustrate array indexing and slicing in multi-dimensional Numpy arrays with some examples.\n",
    "53. How do you create a Numpy array with a given shape containing all zeros?\n",
    "54. How do you create a Numpy array with a given shape containing all ones?\n",
    "55. How do you create an identity matrix of a given shape?\n",
    "56. How do you create a random vector of a given length?\n",
    "57. How do you create a Numpy array with a given shape with a fixed value for each element?\n",
    "58. How do you create a Numpy array with a given shape containing randomly initialized elements?\n",
    "59. What is the difference between `np.random.rand` and `np.random.randn`? Illustrate with examples.\n",
    "60. What is the difference between `np.arange` and `np.linspace`? Illustrate with examples.\n"
   ]
  },
  {
   "cell_type": "code",
   "execution_count": null,
   "metadata": {
    "id": "jGlMwOgUwyBB"
   },
   "outputs": [],
   "source": []
  }
 ],
 "metadata": {
  "colab": {
   "provenance": []
  },
  "kernelspec": {
   "display_name": "Python 3 (ipykernel)",
   "language": "python",
   "name": "python3"
  },
  "language_info": {
   "codemirror_mode": {
    "name": "ipython",
    "version": 3
   },
   "file_extension": ".py",
   "mimetype": "text/x-python",
   "name": "python",
   "nbconvert_exporter": "python",
   "pygments_lexer": "ipython3",
   "version": "3.12.0"
  }
 },
 "nbformat": 4,
 "nbformat_minor": 4
}
