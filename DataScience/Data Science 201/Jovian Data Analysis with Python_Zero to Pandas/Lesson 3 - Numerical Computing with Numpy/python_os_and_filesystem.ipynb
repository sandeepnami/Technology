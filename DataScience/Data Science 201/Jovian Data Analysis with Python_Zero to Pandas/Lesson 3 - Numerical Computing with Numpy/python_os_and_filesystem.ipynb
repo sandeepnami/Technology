{
  "cells": [
    {
      "cell_type": "markdown",
      "metadata": {
        "id": "0OjlZ2Nzw0K5"
      },
      "source": [
        "# Reading from and Writing to Files using Python\n",
        "\n",
        "![](https://i.imgur.com/rv8wZ7l.png)\n",
        "\n",
        "\n",
        "\n",
        "\n",
        "This tutorial series is a beginner-friendly introduction to programming and data analysis using the Python programming language. These tutorials take a practical and coding-focused approach. The best way to learn the material is to execute the code and experiment with it yourself. Check out the full series here:\n",
        "\n",
        "1. [First Steps with Python and Jupyter](https://jovian.ai/aakashns/first-steps-with-python)\n",
        "2. [A Quick Tour of Variables and Data Types](https://jovian.ai/aakashns/python-variables-and-data-types)\n",
        "3. [Branching using Conditional Statements and Loops](https://jovian.ai/aakashns/python-branching-and-loops)\n",
        "4. [Writing Reusable Code Using Functions](https://jovian.ai/aakashns/python-functions-and-scope)\n",
        "5. [Reading from and Writing to Files](https://jovian.ai/aakashns/python-os-and-filesystem)\n",
        "6. [Numerical Computing with Python and Numpy](https://jovian.ai/aakashns/python-numerical-computing-with-numpy)\n",
        "7. [Analyzing Tabular Data using Pandas](https://jovian.ai/aakashns/python-pandas-data-analysis)\n",
        "8. [Data Visualization using Matplotlib & Seaborn](https://jovian.ai/aakashns/python-matplotlib-data-visualization)\n",
        "9. [Exploratory Data Analysis - A Case Study](https://jovian.ai/aakashns/python-eda-stackoverflow-survey)\n"
      ]
    },
    {
      "cell_type": "markdown",
      "metadata": {
        "id": "8r8PrUbhw0K9"
      },
      "source": [
        "This tutorial covers the following topics:\n",
        "\n",
        "- Interacting with the filesystem using the `os` module\n",
        "- Downloading files from the internet using the `urllib` module\n",
        "- Reading and processing data from text files\n",
        "- Parsing data from CSV files into dictionaries & lists\n",
        "- Writing formatted data back to text files"
      ]
    },
    {
      "cell_type": "markdown",
      "metadata": {
        "id": "e7M6pNTew0K-"
      },
      "source": [
        "### How to run the code\n",
        "\n",
        "This tutorial is an executable [Jupyter notebook](https://jupyter.org) hosted on [Jovian](https://www.jovian.ai). You can _run_ this tutorial and experiment with the code examples in a couple of ways: *using free online resources* (recommended) or *on your computer*.\n",
        "\n",
        "#### Option 1: Running using free online resources (1-click, recommended)\n",
        "\n",
        "The easiest way to start executing the code is to click the **Run** button at the top of this page and select **Run on Binder**. You can also select \"Run on Colab\" or \"Run on Kaggle\", but you'll need to create an account on [Google Colab](https://colab.research.google.com) or [Kaggle](https://kaggle.com) to use these platforms.\n",
        "\n",
        "\n",
        "#### Option 2: Running on your computer locally\n",
        "\n",
        "To run the code on your computer locally, you'll need to set up [Python](https://www.python.org), download the notebook and install the required libraries. We recommend using the [Conda](https://docs.conda.io/projects/conda/en/latest/user-guide/install/) distribution of Python. Click the **Run** button at the top of this page, select the **Run Locally** option, and follow the instructions.\n",
        "\n",
        ">  **Jupyter Notebooks**: This tutorial is a [Jupyter notebook](https://jupyter.org) - a document made of _cells_. Each cell can contain code written in Python or explanations in plain English. You can execute code cells and view the results, e.g., numbers, messages, graphs, tables, files, etc., instantly within the notebook. Jupyter is a powerful platform for experimentation and analysis. Don't be afraid to mess around with the code & break things - you'll learn a lot by encountering and fixing errors. You can use the \"Kernel > Restart & Clear Output\" menu option to clear all outputs and start again from the top."
      ]
    },
    {
      "cell_type": "markdown",
      "metadata": {
        "id": "_gXYKzszw0K-"
      },
      "source": [
        "## Interacting with the OS and filesystem\n",
        "\n",
        "The `os` module in Python provides many functions for interacting with the OS and the filesystem. Let's import it and try out some examples."
      ]
    },
    {
      "cell_type": "code",
      "execution_count": null,
      "metadata": {
        "id": "sHe0xaUUw0K_"
      },
      "outputs": [],
      "source": [
        "import os"
      ]
    },
    {
      "cell_type": "markdown",
      "metadata": {
        "id": "dIahNU2qw0LA"
      },
      "source": [
        "We can check the present working directory using the `os.getcwd` function."
      ]
    },
    {
      "cell_type": "code",
      "execution_count": null,
      "metadata": {
        "id": "8yjbbBUKw0LA",
        "outputId": "56c7cfcf-b21d-4db4-faa7-a4970fd01794"
      },
      "outputs": [
        {
          "data": {
            "text/plain": [
              "'/Users/aakashns/workspace/zerotoanalyst/python-os-and-filesystem'"
            ]
          },
          "execution_count": 2,
          "metadata": {},
          "output_type": "execute_result"
        }
      ],
      "source": [
        "os.getcwd()"
      ]
    },
    {
      "cell_type": "markdown",
      "metadata": {
        "id": "1d6qsgpYw0LB"
      },
      "source": [
        "To get the list of files in a directory, use `os.listdir`. You pass an absolute or relative path of a directory as the argument to the function."
      ]
    },
    {
      "cell_type": "code",
      "execution_count": null,
      "metadata": {
        "id": "59MdPPWDw0LC",
        "outputId": "254c7c4f-4bc3-4b57-ef5e-7725b0a41701"
      },
      "outputs": [
        {
          "name": "stdout",
          "output_type": "stream",
          "text": [
            "Help on built-in function listdir in module posix:\n",
            "\n",
            "listdir(path=None)\n",
            "    Return a list containing the names of the files in the directory.\n",
            "    \n",
            "    path can be specified as either str, bytes, or a path-like object.  If path is bytes,\n",
            "      the filenames returned will also be bytes; in all other circumstances\n",
            "      the filenames returned will be str.\n",
            "    If path is None, uses the path='.'.\n",
            "    On some platforms, path may also be specified as an open file descriptor;\\\n",
            "      the file descriptor must refer to a directory.\n",
            "      If this functionality is unavailable, using it raises NotImplementedError.\n",
            "    \n",
            "    The list is in arbitrary order.  It does not include the special\n",
            "    entries '.' and '..' even if they are present in the directory.\n",
            "\n"
          ]
        }
      ],
      "source": [
        "help(os.listdir)"
      ]
    },
    {
      "cell_type": "code",
      "execution_count": null,
      "metadata": {
        "id": "ZRJXNp1rw0LC",
        "outputId": "6b016c2a-25a9-4baa-94ae-4703e8f0f934"
      },
      "outputs": [
        {
          "data": {
            "text/plain": [
              "['.jovianrc', '.ipynb_checkpoints', 'python-os-and-filesystem.ipynb']"
            ]
          },
          "execution_count": 4,
          "metadata": {},
          "output_type": "execute_result"
        }
      ],
      "source": [
        "os.listdir('.') # relative path"
      ]
    },
    {
      "cell_type": "code",
      "execution_count": null,
      "metadata": {
        "id": "Uh4jo6jAw0LD",
        "outputId": "64f998e4-4f02-4340-a75d-f526c2e2cd82"
      },
      "outputs": [
        {
          "data": {
            "text/plain": [
              "['bin',\n",
              " 'standalone',\n",
              " 'libexec',\n",
              " 'sbin',\n",
              " 'local',\n",
              " 'lib',\n",
              " 'X11',\n",
              " 'X11R6',\n",
              " 'share']"
            ]
          },
          "execution_count": 5,
          "metadata": {},
          "output_type": "execute_result"
        }
      ],
      "source": [
        "os.listdir('/usr') # absolute path"
      ]
    },
    {
      "cell_type": "markdown",
      "metadata": {
        "id": "3WiKhtx6w0LD"
      },
      "source": [
        "You can create a new directory using `os.makedirs`. Let's create a new directory called `data`, where we'll later download some files."
      ]
    },
    {
      "cell_type": "code",
      "execution_count": null,
      "metadata": {
        "id": "YvuhMLkmw0LD"
      },
      "outputs": [],
      "source": [
        "os.makedirs('./data', exist_ok=True)"
      ]
    },
    {
      "cell_type": "markdown",
      "metadata": {
        "id": "z6csr_3Zw0LD"
      },
      "source": [
        "Can you figure out what the argument `exist_ok` does? Try using the `help` function or [read the documentation](https://docs.python.org/3/library/os.html#os.makedirs).\n",
        "\n",
        "Let's verify that the directory was created and is currently empty."
      ]
    },
    {
      "cell_type": "code",
      "execution_count": null,
      "metadata": {
        "id": "hqnnSYeQw0LE",
        "outputId": "3a01054b-1b3d-448f-cfa7-a74c7e790c00"
      },
      "outputs": [
        {
          "data": {
            "text/plain": [
              "True"
            ]
          },
          "execution_count": 7,
          "metadata": {},
          "output_type": "execute_result"
        }
      ],
      "source": [
        "'data' in os.listdir('.')"
      ]
    },
    {
      "cell_type": "code",
      "execution_count": null,
      "metadata": {
        "id": "mUCh6P6sw0LE",
        "outputId": "727a6c30-f7d6-451c-ed35-bd9f98736101"
      },
      "outputs": [
        {
          "data": {
            "text/plain": [
              "[]"
            ]
          },
          "execution_count": 8,
          "metadata": {},
          "output_type": "execute_result"
        }
      ],
      "source": [
        "os.listdir('./data')"
      ]
    },
    {
      "cell_type": "markdown",
      "metadata": {
        "id": "p9TqxqgRw0LE"
      },
      "source": [
        "Let us download some files into the `data` directory using the `urllib` module."
      ]
    },
    {
      "cell_type": "code",
      "execution_count": null,
      "metadata": {
        "id": "zx5Kz2qJw0LE"
      },
      "outputs": [],
      "source": [
        "url1 = 'https://gist.githubusercontent.com/aakashns/257f6e6c8719c17d0e498ea287d1a386/raw/7def9ef4234ddf0bc82f855ad67dac8b971852ef/loans1.txt'\n",
        "url2 = 'https://gist.githubusercontent.com/aakashns/257f6e6c8719c17d0e498ea287d1a386/raw/7def9ef4234ddf0bc82f855ad67dac8b971852ef/loans2.txt'\n",
        "url3 = 'https://gist.githubusercontent.com/aakashns/257f6e6c8719c17d0e498ea287d1a386/raw/7def9ef4234ddf0bc82f855ad67dac8b971852ef/loans3.txt'"
      ]
    },
    {
      "cell_type": "code",
      "execution_count": null,
      "metadata": {
        "id": "_63aTzH5w0LE"
      },
      "outputs": [],
      "source": [
        "from urllib.request import urlretrieve"
      ]
    },
    {
      "cell_type": "code",
      "execution_count": null,
      "metadata": {
        "id": "BLuJXf6lw0LF",
        "outputId": "bb886359-805a-4379-cb8c-ec679f2028ba"
      },
      "outputs": [
        {
          "data": {
            "text/plain": [
              "('./data/loans1.txt', <http.client.HTTPMessage at 0x7fe15cdcc898>)"
            ]
          },
          "execution_count": 11,
          "metadata": {},
          "output_type": "execute_result"
        }
      ],
      "source": [
        "urlretrieve(url1, './data/loans1.txt')"
      ]
    },
    {
      "cell_type": "code",
      "execution_count": null,
      "metadata": {
        "id": "a4VIAXDdw0LF",
        "outputId": "4e98a2a3-2164-4d50-b150-3627785eb452"
      },
      "outputs": [
        {
          "data": {
            "text/plain": [
              "('./data/loans2.txt', <http.client.HTTPMessage at 0x7fe1573a5390>)"
            ]
          },
          "execution_count": 12,
          "metadata": {},
          "output_type": "execute_result"
        }
      ],
      "source": [
        "urlretrieve(url2, './data/loans2.txt')"
      ]
    },
    {
      "cell_type": "code",
      "execution_count": null,
      "metadata": {
        "id": "atJurX4gw0LF",
        "outputId": "3d27941b-4618-479c-8046-6feffaa80803"
      },
      "outputs": [
        {
          "data": {
            "text/plain": [
              "('./data/loans3.txt', <http.client.HTTPMessage at 0x7fe15cdb8748>)"
            ]
          },
          "execution_count": 13,
          "metadata": {},
          "output_type": "execute_result"
        }
      ],
      "source": [
        "urlretrieve(url3, './data/loans3.txt')"
      ]
    },
    {
      "cell_type": "markdown",
      "metadata": {
        "id": "Hb0nNc5gw0LF"
      },
      "source": [
        "Let's verify that the files were downloaded."
      ]
    },
    {
      "cell_type": "code",
      "execution_count": null,
      "metadata": {
        "id": "s53E1_Rkw0LF",
        "outputId": "a41687a6-361a-46a6-86fb-6bb9bc652e29"
      },
      "outputs": [
        {
          "data": {
            "text/plain": [
              "['loans2.txt', 'loans3.txt', 'loans1.txt']"
            ]
          },
          "execution_count": 14,
          "metadata": {},
          "output_type": "execute_result"
        }
      ],
      "source": [
        "os.listdir('./data')"
      ]
    },
    {
      "cell_type": "markdown",
      "metadata": {
        "id": "fgyFG6Mfw0LG"
      },
      "source": [
        "You can also use the [`requests`](https://docs.python-requests.org/en/master/) library to dowload URLs, although you'll need to [write some additional code](https://stackoverflow.com/questions/44699682/how-to-save-a-file-downloaded-from-requests-to-another-directory) to save the contents of the page to a file."
      ]
    },
    {
      "cell_type": "markdown",
      "metadata": {
        "id": "N3o-ays9w0LG"
      },
      "source": [
        "## Reading from a file\n",
        "\n",
        "To read the contents of a file, we first need to open the file using the built-in `open` function. The `open` function returns a file object and provides several methods for interacting with the file's contents."
      ]
    },
    {
      "cell_type": "code",
      "execution_count": null,
      "metadata": {
        "id": "Z1Vgxs61w0LG"
      },
      "outputs": [],
      "source": [
        "file1 = open('./data/loans1.txt', mode='r')"
      ]
    },
    {
      "cell_type": "markdown",
      "metadata": {
        "id": "eVw-9QE3w0LG"
      },
      "source": [
        "The `open` function also accepts a `mode` argument to specifies how we can interact with the file. The following options are supported:\n",
        "\n",
        "```\n",
        "    ========= ===============================================================\n",
        "    Character Meaning\n",
        "    --------- ---------------------------------------------------------------\n",
        "    'r'       open for reading (default)\n",
        "    'w'       open for writing, truncating the file first\n",
        "    'x'       create a new file and open it for writing\n",
        "    'a'       open for writing, appending to the end of the file if it exists\n",
        "    'b'       binary mode\n",
        "    't'       text mode (default)\n",
        "    '+'       open a disk file for updating (reading and writing)\n",
        "    'U'       universal newline mode (deprecated)\n",
        "    ========= ===============================================================\n",
        "```\n",
        "\n",
        "To view the contents of the file, we can use the `read` method of the file object."
      ]
    },
    {
      "cell_type": "code",
      "execution_count": null,
      "metadata": {
        "id": "jLIPOkR1w0LG"
      },
      "outputs": [],
      "source": [
        "file1_contents = file1.read()"
      ]
    },
    {
      "cell_type": "code",
      "execution_count": null,
      "metadata": {
        "id": "CS2tEZVqw0LG",
        "outputId": "5c78fc3b-8268-422b-b3ee-3e4274b37bba"
      },
      "outputs": [
        {
          "name": "stdout",
          "output_type": "stream",
          "text": [
            "amount,duration,rate,down_payment\n",
            "100000,36,0.08,20000\n",
            "200000,12,0.1,\n",
            "628400,120,0.12,100000\n",
            "4637400,240,0.06,\n",
            "42900,90,0.07,8900\n",
            "916000,16,0.13,\n",
            "45230,48,0.08,4300\n",
            "991360,99,0.08,\n",
            "423000,27,0.09,47200\n"
          ]
        }
      ],
      "source": [
        "print(file1_contents)"
      ]
    },
    {
      "cell_type": "markdown",
      "metadata": {
        "id": "XRXut5T7w0LG"
      },
      "source": [
        "The file contains information about loans. It is a set of comma-separated values (CSV).\n",
        "\n",
        "> **CSVs**: A comma-separated values (CSV) file is a delimited text file that uses a comma to separate values. Each line of the file is a data record. Each record consists of one or more fields, separated by commas. A CSV file typically stores tabular data (numbers and text) in plain text, in which case each line will have the same number of fields. (Wikipedia)\n",
        "\n",
        "The first line of the file is the header, indicating what each of the numbers on the remaining lines represents. Each of the remaining lines provides information about a loan. Thus, the second line `100000,36,0.08,20000` represents a loan with:\n",
        "\n",
        "* an *amount* of `$100000`,\n",
        "* *duration* of `36` months,\n",
        "* *rate of interest* of `8%` per annum, and\n",
        "* a down payment of `$20000`\n",
        "\n",
        "The CSV is a standard file format used for sharing data for analysis and visualization. Over the course of this tutorial, we will read the data from these CSV files, process it, and write the results back to files. Before we continue, let's close the file using the `close` method (otherwise, Python will continue to hold the entire file in the RAM)"
      ]
    },
    {
      "cell_type": "code",
      "execution_count": null,
      "metadata": {
        "id": "xnzyuO1Sw0LH"
      },
      "outputs": [],
      "source": [
        "file1.close()"
      ]
    },
    {
      "cell_type": "markdown",
      "metadata": {
        "id": "m6Mps_R8w0LH"
      },
      "source": [
        "Once a file is closed, you can no longer read from it."
      ]
    },
    {
      "cell_type": "code",
      "execution_count": null,
      "metadata": {
        "id": "q1Lqy0V-w0LH",
        "outputId": "529d07fe-fe1a-4878-b24c-80fa1b2ad827"
      },
      "outputs": [
        {
          "ename": "ValueError",
          "evalue": "I/O operation on closed file.",
          "output_type": "error",
          "traceback": [
            "\u001b[0;31m---------------------------------------------------------------------------\u001b[0m",
            "\u001b[0;31mValueError\u001b[0m                                Traceback (most recent call last)",
            "\u001b[0;32m<ipython-input-19-2fcf3b5e742f>\u001b[0m in \u001b[0;36m<module>\u001b[0;34m\u001b[0m\n\u001b[0;32m----> 1\u001b[0;31m \u001b[0mfile1\u001b[0m\u001b[0;34m.\u001b[0m\u001b[0mread\u001b[0m\u001b[0;34m(\u001b[0m\u001b[0;34m)\u001b[0m\u001b[0;34m\u001b[0m\u001b[0;34m\u001b[0m\u001b[0m\n\u001b[0m",
            "\u001b[0;31mValueError\u001b[0m: I/O operation on closed file."
          ]
        }
      ],
      "source": [
        "file1.read()"
      ]
    },
    {
      "cell_type": "markdown",
      "metadata": {
        "id": "q16KUUa6w0LH"
      },
      "source": [
        "## Closing files automatically using `with`\n",
        "\n",
        "To close a file automatically after you've processed it, you can open it using the `with` statement."
      ]
    },
    {
      "cell_type": "code",
      "execution_count": null,
      "metadata": {
        "id": "TBsAOrEqw0LH",
        "outputId": "91520884-512f-4430-c024-6c43e1dac6dc"
      },
      "outputs": [
        {
          "name": "stdout",
          "output_type": "stream",
          "text": [
            "amount,duration,rate,down_payment\n",
            "828400,120,0.11,100000\n",
            "4633400,240,0.06,\n",
            "42900,90,0.08,8900\n",
            "983000,16,0.14,\n",
            "15230,48,0.07,4300\n"
          ]
        }
      ],
      "source": [
        "with open('./data/loans2.txt') as file2:\n",
        "    file2_contents = file2.read()\n",
        "    print(file2_contents)"
      ]
    },
    {
      "cell_type": "markdown",
      "metadata": {
        "id": "uo5nPskdw0LI"
      },
      "source": [
        "Once the statements within the `with` block are executed, the `.close` method on `file2` is automatically invoked. Let's verify this by trying to read from the file object again."
      ]
    },
    {
      "cell_type": "code",
      "execution_count": null,
      "metadata": {
        "id": "zav-3w_ww0LI",
        "outputId": "28909672-6f94-4e55-ac8d-b9e5e3bd1c27"
      },
      "outputs": [
        {
          "ename": "ValueError",
          "evalue": "I/O operation on closed file.",
          "output_type": "error",
          "traceback": [
            "\u001b[0;31m---------------------------------------------------------------------------\u001b[0m",
            "\u001b[0;31mValueError\u001b[0m                                Traceback (most recent call last)",
            "\u001b[0;32m<ipython-input-21-4a9205324152>\u001b[0m in \u001b[0;36m<module>\u001b[0;34m\u001b[0m\n\u001b[0;32m----> 1\u001b[0;31m \u001b[0mfile2\u001b[0m\u001b[0;34m.\u001b[0m\u001b[0mread\u001b[0m\u001b[0;34m(\u001b[0m\u001b[0;34m)\u001b[0m\u001b[0;34m\u001b[0m\u001b[0;34m\u001b[0m\u001b[0m\n\u001b[0m",
            "\u001b[0;31mValueError\u001b[0m: I/O operation on closed file."
          ]
        }
      ],
      "source": [
        "file2.read()"
      ]
    },
    {
      "cell_type": "markdown",
      "metadata": {
        "id": "enZrrIXfw0LI"
      },
      "source": [
        "## Reading a file line by line\n",
        "\n",
        "\n",
        "File objects provide a `readlines` method to read a file line-by-line."
      ]
    },
    {
      "cell_type": "code",
      "execution_count": null,
      "metadata": {
        "id": "hBsE6Fouw0LM"
      },
      "outputs": [],
      "source": [
        "with open('./data/loans3.txt', 'r') as file3:\n",
        "    file3_lines = file3.readlines()"
      ]
    },
    {
      "cell_type": "code",
      "execution_count": null,
      "metadata": {
        "id": "GXKFW-zLw0LM",
        "outputId": "e99e9667-ea69-421b-bc9e-c99cd7584fae"
      },
      "outputs": [
        {
          "data": {
            "text/plain": [
              "['amount,duration,rate,down_payment\\n',\n",
              " '45230,48,0.07,4300\\n',\n",
              " '883000,16,0.14,\\n',\n",
              " '100000,12,0.1,\\n',\n",
              " '728400,120,0.12,100000\\n',\n",
              " '3637400,240,0.06,\\n',\n",
              " '82900,90,0.07,8900\\n',\n",
              " '316000,16,0.13,\\n',\n",
              " '15230,48,0.08,4300\\n',\n",
              " '991360,99,0.08,\\n',\n",
              " '323000,27,0.09,4720010000,36,0.08,20000\\n',\n",
              " '528400,120,0.11,100000\\n',\n",
              " '8633400,240,0.06,\\n',\n",
              " '12900,90,0.08,8900']"
            ]
          },
          "execution_count": 23,
          "metadata": {},
          "output_type": "execute_result"
        }
      ],
      "source": [
        "file3_lines"
      ]
    },
    {
      "cell_type": "markdown",
      "metadata": {
        "id": "g0ho2lzZw0LN"
      },
      "source": [
        "## Processing data from files\n",
        "\n",
        "Before performing any operations on the data stored in a file, we need to convert the file's contents from one large string into Python data types. For the file `loans1.txt` containing information about loans in a CSV format, we can do the following:\n",
        "\n",
        "* Read the file line by line\n",
        "* Parse the first line to get a list of the column names or headers\n",
        "* Split each remaining line and convert each value into a float\n",
        "* Create a dictionary for each loan using the headers as keys\n",
        "* Create a list of dictionaries to keep track of all the loans\n",
        "\n",
        "Since we will perform the same operations for multiple files, it would be useful to define a function `read_csv`. We'll also define some helper functions to build up the functionality step by step.\n",
        "\n",
        "Let's start by defining a function `parse_header` that takes a line as input and returns a list of column headers."
      ]
    },
    {
      "cell_type": "code",
      "execution_count": null,
      "metadata": {
        "id": "8J1ByovKw0LN"
      },
      "outputs": [],
      "source": [
        "def parse_headers(header_line):\n",
        "    return header_line.strip().split(',')"
      ]
    },
    {
      "cell_type": "markdown",
      "metadata": {
        "id": "YiAoy5ZGw0LN"
      },
      "source": [
        "The `strip` method removes any extra spaces and the newline character `\\n`. The `split` method breaks a string into a list using the given separator (`,` in this case)."
      ]
    },
    {
      "cell_type": "code",
      "execution_count": null,
      "metadata": {
        "id": "WTc1lFeYw0LN",
        "outputId": "111e3e66-d1c3-481f-d24f-c205ff0dc052"
      },
      "outputs": [
        {
          "data": {
            "text/plain": [
              "'amount,duration,rate,down_payment\\n'"
            ]
          },
          "execution_count": 25,
          "metadata": {},
          "output_type": "execute_result"
        }
      ],
      "source": [
        "file3_lines[0]"
      ]
    },
    {
      "cell_type": "code",
      "execution_count": null,
      "metadata": {
        "id": "MMF_aiebw0LN"
      },
      "outputs": [],
      "source": [
        "headers = parse_headers(file3_lines[0])"
      ]
    },
    {
      "cell_type": "code",
      "execution_count": null,
      "metadata": {
        "id": "H5yUdA64w0LO",
        "outputId": "ad9e1301-5dbd-4843-d9af-5d3561e05a33"
      },
      "outputs": [
        {
          "data": {
            "text/plain": [
              "['amount', 'duration', 'rate', 'down_payment']"
            ]
          },
          "execution_count": 27,
          "metadata": {},
          "output_type": "execute_result"
        }
      ],
      "source": [
        "headers"
      ]
    },
    {
      "cell_type": "markdown",
      "metadata": {
        "id": "lKd_gqUpw0LO"
      },
      "source": [
        "Next, let's define a function `parse_values` that takes a line containing some data and returns a list of floating-point numbers."
      ]
    },
    {
      "cell_type": "code",
      "execution_count": null,
      "metadata": {
        "id": "rQ-XqzNAw0LO"
      },
      "outputs": [],
      "source": [
        "def parse_values(data_line):\n",
        "    values = []\n",
        "    for item in data_line.strip().split(','):\n",
        "        values.append(float(item))\n",
        "    return values"
      ]
    },
    {
      "cell_type": "code",
      "execution_count": null,
      "metadata": {
        "id": "gbu17Wvrw0LO",
        "outputId": "aef8572d-7f75-4114-9e2c-f1f349bef418"
      },
      "outputs": [
        {
          "data": {
            "text/plain": [
              "'45230,48,0.07,4300\\n'"
            ]
          },
          "execution_count": 29,
          "metadata": {},
          "output_type": "execute_result"
        }
      ],
      "source": [
        "file3_lines[1]"
      ]
    },
    {
      "cell_type": "code",
      "execution_count": null,
      "metadata": {
        "id": "XxmkYbzLw0LO",
        "outputId": "92b19008-fed8-4aab-dba2-965d6adeb2ac"
      },
      "outputs": [
        {
          "data": {
            "text/plain": [
              "[45230.0, 48.0, 0.07, 4300.0]"
            ]
          },
          "execution_count": 30,
          "metadata": {},
          "output_type": "execute_result"
        }
      ],
      "source": [
        "parse_values(file3_lines[1])"
      ]
    },
    {
      "cell_type": "markdown",
      "metadata": {
        "id": "UrXr1AGKw0LP"
      },
      "source": [
        "The values were parsed and converted to floating point numbers, as expected. Let's try it for another line from the file, which does not contain a value for the down payment."
      ]
    },
    {
      "cell_type": "code",
      "execution_count": null,
      "metadata": {
        "id": "i6xgtA_tw0LP",
        "outputId": "25efd66a-4ba5-46ad-b52d-2ef67fbab119"
      },
      "outputs": [
        {
          "data": {
            "text/plain": [
              "'883000,16,0.14,\\n'"
            ]
          },
          "execution_count": 31,
          "metadata": {},
          "output_type": "execute_result"
        }
      ],
      "source": [
        "file3_lines[2]"
      ]
    },
    {
      "cell_type": "code",
      "execution_count": null,
      "metadata": {
        "id": "4H9kZyUew0LP",
        "outputId": "7e8e000e-08fc-4bbb-8300-8f56500277ab"
      },
      "outputs": [
        {
          "ename": "ValueError",
          "evalue": "could not convert string to float: ",
          "output_type": "error",
          "traceback": [
            "\u001b[0;31m---------------------------------------------------------------------------\u001b[0m",
            "\u001b[0;31mValueError\u001b[0m                                Traceback (most recent call last)",
            "\u001b[0;32m<ipython-input-32-b170e8564609>\u001b[0m in \u001b[0;36m<module>\u001b[0;34m\u001b[0m\n\u001b[0;32m----> 1\u001b[0;31m \u001b[0mparse_values\u001b[0m\u001b[0;34m(\u001b[0m\u001b[0mfile3_lines\u001b[0m\u001b[0;34m[\u001b[0m\u001b[0;36m2\u001b[0m\u001b[0;34m]\u001b[0m\u001b[0;34m)\u001b[0m\u001b[0;34m\u001b[0m\u001b[0;34m\u001b[0m\u001b[0m\n\u001b[0m",
            "\u001b[0;32m<ipython-input-28-8be4024619c8>\u001b[0m in \u001b[0;36mparse_values\u001b[0;34m(data_line)\u001b[0m\n\u001b[1;32m      2\u001b[0m     \u001b[0mvalues\u001b[0m \u001b[0;34m=\u001b[0m \u001b[0;34m[\u001b[0m\u001b[0;34m]\u001b[0m\u001b[0;34m\u001b[0m\u001b[0;34m\u001b[0m\u001b[0m\n\u001b[1;32m      3\u001b[0m     \u001b[0;32mfor\u001b[0m \u001b[0mitem\u001b[0m \u001b[0;32min\u001b[0m \u001b[0mdata_line\u001b[0m\u001b[0;34m.\u001b[0m\u001b[0mstrip\u001b[0m\u001b[0;34m(\u001b[0m\u001b[0;34m)\u001b[0m\u001b[0;34m.\u001b[0m\u001b[0msplit\u001b[0m\u001b[0;34m(\u001b[0m\u001b[0;34m','\u001b[0m\u001b[0;34m)\u001b[0m\u001b[0;34m:\u001b[0m\u001b[0;34m\u001b[0m\u001b[0;34m\u001b[0m\u001b[0m\n\u001b[0;32m----> 4\u001b[0;31m         \u001b[0mvalues\u001b[0m\u001b[0;34m.\u001b[0m\u001b[0mappend\u001b[0m\u001b[0;34m(\u001b[0m\u001b[0mfloat\u001b[0m\u001b[0;34m(\u001b[0m\u001b[0mitem\u001b[0m\u001b[0;34m)\u001b[0m\u001b[0;34m)\u001b[0m\u001b[0;34m\u001b[0m\u001b[0;34m\u001b[0m\u001b[0m\n\u001b[0m\u001b[1;32m      5\u001b[0m     \u001b[0;32mreturn\u001b[0m \u001b[0mvalues\u001b[0m\u001b[0;34m\u001b[0m\u001b[0;34m\u001b[0m\u001b[0m\n",
            "\u001b[0;31mValueError\u001b[0m: could not convert string to float: "
          ]
        }
      ],
      "source": [
        "parse_values(file3_lines[2])"
      ]
    },
    {
      "cell_type": "markdown",
      "metadata": {
        "id": "w_sxhqb4w0LP"
      },
      "source": [
        "The code above leads to a `ValueError` because the empty string `''` cannot be converted to a float. We can enhance the `parse_values` function to handle this *edge case*. We will also handle the case where the value is not a float."
      ]
    },
    {
      "cell_type": "code",
      "execution_count": null,
      "metadata": {
        "id": "zXn_rVqow0LP"
      },
      "outputs": [],
      "source": [
        "def parse_values(data_line):\n",
        "    values = []\n",
        "    for item in data_line.strip().split(','):\n",
        "        if item == '':\n",
        "            values.append(0.0)\n",
        "        else:\n",
        "            try:\n",
        "                values.append(float(item))\n",
        "            except ValueError:\n",
        "                values.append(item)\n",
        "    return values"
      ]
    },
    {
      "cell_type": "code",
      "execution_count": null,
      "metadata": {
        "id": "kbuqU3Sew0LQ",
        "outputId": "69a47889-2f36-4ce7-cafb-8a9880116829"
      },
      "outputs": [
        {
          "data": {
            "text/plain": [
              "'883000,16,0.14,\\n'"
            ]
          },
          "execution_count": 34,
          "metadata": {},
          "output_type": "execute_result"
        }
      ],
      "source": [
        "file3_lines[2]"
      ]
    },
    {
      "cell_type": "code",
      "execution_count": null,
      "metadata": {
        "id": "ky6GhCeGw0LQ",
        "outputId": "b73ad41c-9428-4b78-eae1-3df089d185c3"
      },
      "outputs": [
        {
          "data": {
            "text/plain": [
              "[883000.0, 16.0, 0.14, 0.0]"
            ]
          },
          "execution_count": 35,
          "metadata": {},
          "output_type": "execute_result"
        }
      ],
      "source": [
        "parse_values(file3_lines[2])"
      ]
    },
    {
      "cell_type": "markdown",
      "metadata": {
        "id": "ib_fl3M6w0LR"
      },
      "source": [
        "Next, let's define a function `create_item_dict` that takes a list of values and a list of headers as inputs and returns a dictionary with the values associated with their respective headers as keys.\n"
      ]
    },
    {
      "cell_type": "code",
      "execution_count": null,
      "metadata": {
        "id": "rS8o2iKuw0LR"
      },
      "outputs": [],
      "source": [
        "def create_item_dict(values, headers):\n",
        "    result = {}\n",
        "    for value, header in zip(values, headers):\n",
        "        result[header] = value\n",
        "    return result"
      ]
    },
    {
      "cell_type": "markdown",
      "metadata": {
        "id": "uUm0hPbYw0LS"
      },
      "source": [
        "Can you figure out what the Python built-in function `zip` does? Try out an example, or [read the documentation](https://docs.python.org/3.3/library/functions.html#zip)."
      ]
    },
    {
      "cell_type": "code",
      "execution_count": null,
      "metadata": {
        "id": "faDc1hxZw0LS",
        "outputId": "fed73fe8-61f6-4166-c83f-dcfbdb3246e6"
      },
      "outputs": [
        {
          "name": "stdout",
          "output_type": "stream",
          "text": [
            "(1, 'a')\n",
            "(2, 'b')\n",
            "(3, 'c')\n"
          ]
        }
      ],
      "source": [
        "for item in zip([1,2,3], ['a', 'b', 'c']):\n",
        "    print(item)"
      ]
    },
    {
      "cell_type": "markdown",
      "metadata": {
        "id": "nHjCl1f-w0LS"
      },
      "source": [
        "Let's try out `create_item_dict` with a couple of examples."
      ]
    },
    {
      "cell_type": "code",
      "execution_count": null,
      "metadata": {
        "id": "oaO9maruw0LS",
        "outputId": "c1204d81-e8d3-43b1-d771-729ae657f8e6"
      },
      "outputs": [
        {
          "data": {
            "text/plain": [
              "'45230,48,0.07,4300\\n'"
            ]
          },
          "execution_count": 38,
          "metadata": {},
          "output_type": "execute_result"
        }
      ],
      "source": [
        "file3_lines[1]"
      ]
    },
    {
      "cell_type": "code",
      "execution_count": null,
      "metadata": {
        "id": "sdLSwJvDw0LS",
        "outputId": "f10e491c-c5f6-4475-db9c-1b28f6942723"
      },
      "outputs": [
        {
          "data": {
            "text/plain": [
              "{'amount': 45230.0, 'duration': 48.0, 'rate': 0.07, 'down_payment': 4300.0}"
            ]
          },
          "execution_count": 39,
          "metadata": {},
          "output_type": "execute_result"
        }
      ],
      "source": [
        "values1 = parse_values(file3_lines[1])\n",
        "create_item_dict(values1, headers)"
      ]
    },
    {
      "cell_type": "code",
      "execution_count": null,
      "metadata": {
        "id": "d_TxwaS1w0LS",
        "outputId": "199dbc29-933a-4aee-8782-cdef19fbf5f3"
      },
      "outputs": [
        {
          "data": {
            "text/plain": [
              "'883000,16,0.14,\\n'"
            ]
          },
          "execution_count": 40,
          "metadata": {},
          "output_type": "execute_result"
        }
      ],
      "source": [
        "file3_lines[2]"
      ]
    },
    {
      "cell_type": "code",
      "execution_count": null,
      "metadata": {
        "id": "-BgDwiISw0LT",
        "outputId": "4bcc1590-413d-416e-d1e0-c92e3cbf7f02"
      },
      "outputs": [
        {
          "data": {
            "text/plain": [
              "{'amount': 883000.0, 'duration': 16.0, 'rate': 0.14, 'down_payment': 0.0}"
            ]
          },
          "execution_count": 41,
          "metadata": {},
          "output_type": "execute_result"
        }
      ],
      "source": [
        "values2 = parse_values(file3_lines[2])\n",
        "create_item_dict(values2, headers)"
      ]
    },
    {
      "cell_type": "markdown",
      "metadata": {
        "id": "SW6I4ud1w0LT"
      },
      "source": [
        "As expected, the values & header are combined to create a dictionary with the appropriate key-value pairs.\n",
        "\n",
        "We are now ready to put it all together and define the `read_csv` function."
      ]
    },
    {
      "cell_type": "code",
      "execution_count": null,
      "metadata": {
        "id": "Jf__OIcdw0LT"
      },
      "outputs": [],
      "source": [
        "def read_csv(path):\n",
        "    result = []\n",
        "    # Open the file in read mode\n",
        "    with open(path, 'r') as f:\n",
        "        # Get a list of lines\n",
        "        lines = f.readlines()\n",
        "        # Parse the header\n",
        "        headers = parse_headers(lines[0])\n",
        "        # Loop over the remaining lines\n",
        "        for data_line in lines[1:]:\n",
        "            # Parse the values\n",
        "            values = parse_values(data_line)\n",
        "            # Create a dictionary using values & headers\n",
        "            item_dict = create_item_dict(values, headers)\n",
        "            # Add the dictionary to the result\n",
        "            result.append(item_dict)\n",
        "    return result"
      ]
    },
    {
      "cell_type": "markdown",
      "metadata": {
        "id": "dxP7o_SIw0LT"
      },
      "source": [
        "Let's try it out!"
      ]
    },
    {
      "cell_type": "code",
      "execution_count": null,
      "metadata": {
        "id": "kia8KC1Aw0LU",
        "outputId": "bfc4751e-9862-481b-abad-286950d567d5"
      },
      "outputs": [
        {
          "name": "stdout",
          "output_type": "stream",
          "text": [
            "amount,duration,rate,down_payment\n",
            "828400,120,0.11,100000\n",
            "4633400,240,0.06,\n",
            "42900,90,0.08,8900\n",
            "983000,16,0.14,\n",
            "15230,48,0.07,4300\n"
          ]
        }
      ],
      "source": [
        "with open('./data/loans2.txt') as file2:\n",
        "    print(file2.read())"
      ]
    },
    {
      "cell_type": "code",
      "execution_count": null,
      "metadata": {
        "id": "iqnFm0fjw0LU",
        "outputId": "078dd09f-b9bb-4665-a16c-752409ac24f5"
      },
      "outputs": [
        {
          "data": {
            "text/plain": [
              "[{'amount': 828400.0,\n",
              "  'duration': 120.0,\n",
              "  'rate': 0.11,\n",
              "  'down_payment': 100000.0},\n",
              " {'amount': 4633400.0, 'duration': 240.0, 'rate': 0.06, 'down_payment': 0.0},\n",
              " {'amount': 42900.0, 'duration': 90.0, 'rate': 0.08, 'down_payment': 8900.0},\n",
              " {'amount': 983000.0, 'duration': 16.0, 'rate': 0.14, 'down_payment': 0.0},\n",
              " {'amount': 15230.0, 'duration': 48.0, 'rate': 0.07, 'down_payment': 4300.0}]"
            ]
          },
          "execution_count": 44,
          "metadata": {},
          "output_type": "execute_result"
        }
      ],
      "source": [
        "read_csv('./data/loans2.txt')"
      ]
    },
    {
      "cell_type": "markdown",
      "metadata": {
        "id": "vuy2Pp_hw0LU"
      },
      "source": [
        "The file is read and converted to a list of dictionaries, as expected. The `read_csv` file is generic enough that it can parse any file in the CSV format, with any number of rows or columns. Here's the full code for `read_csv` along with the helper functions:"
      ]
    },
    {
      "cell_type": "code",
      "execution_count": null,
      "metadata": {
        "id": "1hVa8Leyw0LV"
      },
      "outputs": [],
      "source": [
        "def parse_headers(header_line):\n",
        "    return header_line.strip().split(',')\n",
        "\n",
        "def parse_values(data_line):\n",
        "    values = []\n",
        "    for item in data_line.strip().split(','):\n",
        "        if item == '':\n",
        "            values.append(0.0)\n",
        "        else:\n",
        "            try:\n",
        "                values.append(float(item))\n",
        "            except ValueError:\n",
        "                values.append(item)\n",
        "    return values\n",
        "\n",
        "def create_item_dict(values, headers):\n",
        "    result = {}\n",
        "    for value, header in zip(values, headers):\n",
        "        result[header] = value\n",
        "    return result\n",
        "\n",
        "def read_csv(path):\n",
        "    result = []\n",
        "    # Open the file in read mode\n",
        "    with open(path, 'r') as f:\n",
        "        # Get a list of lines\n",
        "        lines = f.readlines()\n",
        "        # Parse the header\n",
        "        headers = parse_headers(lines[0])\n",
        "        # Loop over the remaining lines\n",
        "        for data_line in lines[1:]:\n",
        "            # Parse the values\n",
        "            values = parse_values(data_line)\n",
        "            # Create a dictionary using values & headers\n",
        "            item_dict = create_item_dict(values, headers)\n",
        "            # Add the dictionary to the result\n",
        "            result.append(item_dict)\n",
        "    return result"
      ]
    },
    {
      "cell_type": "markdown",
      "metadata": {
        "id": "_rONqP25w0LV"
      },
      "source": [
        "Try to create small, generic, and reusable functions whenever possible. They will likely be useful beyond just the problem at hand and save you significant effort in the future.\n",
        "\n",
        "In the [previous tutorial](https://jovian.ml/aakashns/python-functions-and-scope), we defined a function to calculate the equal monthly installments for a loan. Here's what it looked like:"
      ]
    },
    {
      "cell_type": "code",
      "execution_count": null,
      "metadata": {
        "id": "-NvIdv5tw0LV"
      },
      "outputs": [],
      "source": [
        "import math\n",
        "\n",
        "def loan_emi(amount, duration, rate, down_payment=0):\n",
        "    \"\"\"Calculates the equal montly installment (EMI) for a loan.\n",
        "\n",
        "    Arguments:\n",
        "        amount - Total amount to be spent (loan + down payment)\n",
        "        duration - Duration of the loan (in months)\n",
        "        rate - Rate of interest (monthly)\n",
        "        down_payment (optional) - Optional intial payment (deducted from amount)\n",
        "    \"\"\"\n",
        "    loan_amount = amount - down_payment\n",
        "    try:\n",
        "        emi = loan_amount * rate * ((1+rate)**duration) / (((1+rate)**duration)-1)\n",
        "    except ZeroDivisionError:\n",
        "        emi = loan_amount / duration\n",
        "    emi = math.ceil(emi)\n",
        "    return emi"
      ]
    },
    {
      "cell_type": "markdown",
      "metadata": {
        "id": "RMC8SzXHw0LW"
      },
      "source": [
        "We can use this function to calculate EMIs for all the loans in a file."
      ]
    },
    {
      "cell_type": "code",
      "execution_count": null,
      "metadata": {
        "id": "SOq3ggh1w0LX"
      },
      "outputs": [],
      "source": [
        "loans2 = read_csv('./data/loans2.txt')"
      ]
    },
    {
      "cell_type": "code",
      "execution_count": null,
      "metadata": {
        "id": "i9Br95a8w0LX",
        "outputId": "2ba3b161-b7a7-4c4d-c2cc-02d5377f1294"
      },
      "outputs": [
        {
          "data": {
            "text/plain": [
              "[{'amount': 828400.0,\n",
              "  'duration': 120.0,\n",
              "  'rate': 0.11,\n",
              "  'down_payment': 100000.0},\n",
              " {'amount': 4633400.0, 'duration': 240.0, 'rate': 0.06, 'down_payment': 0.0},\n",
              " {'amount': 42900.0, 'duration': 90.0, 'rate': 0.08, 'down_payment': 8900.0},\n",
              " {'amount': 983000.0, 'duration': 16.0, 'rate': 0.14, 'down_payment': 0.0},\n",
              " {'amount': 15230.0, 'duration': 48.0, 'rate': 0.07, 'down_payment': 4300.0}]"
            ]
          },
          "execution_count": 48,
          "metadata": {},
          "output_type": "execute_result"
        }
      ],
      "source": [
        "loans2"
      ]
    },
    {
      "cell_type": "code",
      "execution_count": null,
      "metadata": {
        "id": "S2atEzeUw0LX"
      },
      "outputs": [],
      "source": [
        "for loan in loans2:\n",
        "    loan['emi'] = loan_emi(loan['amount'],\n",
        "                           loan['duration'],\n",
        "                           loan['rate']/12, # the CSV contains yearly rates\n",
        "                           loan['down_payment'])"
      ]
    },
    {
      "cell_type": "code",
      "execution_count": null,
      "metadata": {
        "id": "qTd9xrX4w0LY",
        "outputId": "fe5f491e-e96f-42d2-d398-7d01fae06a03"
      },
      "outputs": [
        {
          "data": {
            "text/plain": [
              "[{'amount': 828400.0,\n",
              "  'duration': 120.0,\n",
              "  'rate': 0.11,\n",
              "  'down_payment': 100000.0,\n",
              "  'emi': 10034},\n",
              " {'amount': 4633400.0,\n",
              "  'duration': 240.0,\n",
              "  'rate': 0.06,\n",
              "  'down_payment': 0.0,\n",
              "  'emi': 33196},\n",
              " {'amount': 42900.0,\n",
              "  'duration': 90.0,\n",
              "  'rate': 0.08,\n",
              "  'down_payment': 8900.0,\n",
              "  'emi': 504},\n",
              " {'amount': 983000.0,\n",
              "  'duration': 16.0,\n",
              "  'rate': 0.14,\n",
              "  'down_payment': 0.0,\n",
              "  'emi': 67707},\n",
              " {'amount': 15230.0,\n",
              "  'duration': 48.0,\n",
              "  'rate': 0.07,\n",
              "  'down_payment': 4300.0,\n",
              "  'emi': 262}]"
            ]
          },
          "execution_count": 50,
          "metadata": {},
          "output_type": "execute_result"
        }
      ],
      "source": [
        "loans2"
      ]
    },
    {
      "cell_type": "markdown",
      "metadata": {
        "id": "A_GADgGUw0LY"
      },
      "source": [
        "You can see that each loan now has a new key `emi`, which provides the EMI for the loan. We can extract this logic into a function so that we can use it for other files too."
      ]
    },
    {
      "cell_type": "code",
      "execution_count": null,
      "metadata": {
        "id": "0AysiwhRw0LY"
      },
      "outputs": [],
      "source": [
        "def compute_emis(loans):\n",
        "    for loan in loans:\n",
        "        loan['emi'] = loan_emi(\n",
        "            loan['amount'],\n",
        "            loan['duration'],\n",
        "            loan['rate']/12, # the CSV contains yearly rates\n",
        "            loan['down_payment'])"
      ]
    },
    {
      "cell_type": "markdown",
      "metadata": {
        "id": "CoHSPi5Ww0LY"
      },
      "source": [
        "## Writing to files\n",
        "\n",
        "Now that we have performed some processing on the data, it would be good to write the results back to a CSV file. We can create/open a file in `w` mode using `open` and write to it using the `.write` method. The string `format` method will come in handy here."
      ]
    },
    {
      "cell_type": "code",
      "execution_count": null,
      "metadata": {
        "id": "0rz_jafrw0LZ"
      },
      "outputs": [],
      "source": [
        "loans2 = read_csv('./data/loans2.txt')"
      ]
    },
    {
      "cell_type": "code",
      "execution_count": null,
      "metadata": {
        "id": "W1noLWnLw0LZ"
      },
      "outputs": [],
      "source": [
        "compute_emis(loans2)"
      ]
    },
    {
      "cell_type": "code",
      "execution_count": null,
      "metadata": {
        "id": "WntWIdPbw0LZ",
        "outputId": "df40ce91-d1bc-4b1d-af33-4d463d450a4f"
      },
      "outputs": [
        {
          "data": {
            "text/plain": [
              "[{'amount': 828400.0,\n",
              "  'duration': 120.0,\n",
              "  'rate': 0.11,\n",
              "  'down_payment': 100000.0,\n",
              "  'emi': 10034},\n",
              " {'amount': 4633400.0,\n",
              "  'duration': 240.0,\n",
              "  'rate': 0.06,\n",
              "  'down_payment': 0.0,\n",
              "  'emi': 33196},\n",
              " {'amount': 42900.0,\n",
              "  'duration': 90.0,\n",
              "  'rate': 0.08,\n",
              "  'down_payment': 8900.0,\n",
              "  'emi': 504},\n",
              " {'amount': 983000.0,\n",
              "  'duration': 16.0,\n",
              "  'rate': 0.14,\n",
              "  'down_payment': 0.0,\n",
              "  'emi': 67707},\n",
              " {'amount': 15230.0,\n",
              "  'duration': 48.0,\n",
              "  'rate': 0.07,\n",
              "  'down_payment': 4300.0,\n",
              "  'emi': 262}]"
            ]
          },
          "execution_count": 54,
          "metadata": {},
          "output_type": "execute_result"
        }
      ],
      "source": [
        "loans2"
      ]
    },
    {
      "cell_type": "code",
      "execution_count": null,
      "metadata": {
        "id": "H6-o-UEWw0La"
      },
      "outputs": [],
      "source": [
        "with open('./data/emis2.txt', 'w') as f:\n",
        "    for loan in loans2:\n",
        "        f.write('{},{},{},{},{}\\n'.format(\n",
        "            loan['amount'],\n",
        "            loan['duration'],\n",
        "            loan['rate'],\n",
        "            loan['down_payment'],\n",
        "            loan['emi']))"
      ]
    },
    {
      "cell_type": "markdown",
      "metadata": {
        "id": "xjT1uJFQw0La"
      },
      "source": [
        "Let's verify that the file was created and written to as expected."
      ]
    },
    {
      "cell_type": "code",
      "execution_count": null,
      "metadata": {
        "id": "WQ-wudIWw0La",
        "outputId": "a45bafb5-3bf8-4e18-d847-cd70897057c4"
      },
      "outputs": [
        {
          "data": {
            "text/plain": [
              "['loans2.txt', 'loans3.txt', 'loans1.txt', 'emis2.txt']"
            ]
          },
          "execution_count": 56,
          "metadata": {},
          "output_type": "execute_result"
        }
      ],
      "source": [
        "os.listdir('data')"
      ]
    },
    {
      "cell_type": "code",
      "execution_count": null,
      "metadata": {
        "id": "80aNeJkAw0La",
        "outputId": "f4994d84-3c0c-405f-bda5-b9476a4c0186"
      },
      "outputs": [
        {
          "name": "stdout",
          "output_type": "stream",
          "text": [
            "828400.0,120.0,0.11,100000.0,10034\n",
            "4633400.0,240.0,0.06,0.0,33196\n",
            "42900.0,90.0,0.08,8900.0,504\n",
            "983000.0,16.0,0.14,0.0,67707\n",
            "15230.0,48.0,0.07,4300.0,262\n",
            "\n"
          ]
        }
      ],
      "source": [
        "with open('./data/emis2.txt', 'r') as f:\n",
        "    print(f.read())"
      ]
    },
    {
      "cell_type": "markdown",
      "metadata": {
        "id": "4rNlFnd-w0Lb"
      },
      "source": [
        "Great, looks like the loan details (along with the computed EMIs) were written into the file.\n",
        "\n",
        "Let's define a generic function `write_csv` which takes a list of dictionaries and writes it to a file in CSV format. We will also include the column headers in the first line."
      ]
    },
    {
      "cell_type": "code",
      "execution_count": null,
      "metadata": {
        "id": "-aTw84UMw0Lb"
      },
      "outputs": [],
      "source": [
        "def write_csv(items, path):\n",
        "    # Open the file in write mode\n",
        "    with open(path, 'w') as f:\n",
        "        # Return if there's nothing to write\n",
        "        if len(items) == 0:\n",
        "            return\n",
        "\n",
        "        # Write the headers in the first line\n",
        "        headers = list(items[0].keys())\n",
        "        f.write(','.join(headers) + '\\n')\n",
        "\n",
        "        # Write one item per line\n",
        "        for item in items:\n",
        "            values = []\n",
        "            for header in headers:\n",
        "                values.append(str(item.get(header, \"\")))\n",
        "            f.write(','.join(values) + \"\\n\")"
      ]
    },
    {
      "cell_type": "markdown",
      "metadata": {
        "id": "Wu1nnhUnw0Lb"
      },
      "source": [
        "Do you understand how the function works? If now, try executing each statement by line by line or a different cell to figure out how it works.\n",
        "\n",
        "Let's try it out!"
      ]
    },
    {
      "cell_type": "code",
      "execution_count": null,
      "metadata": {
        "id": "abb0bMLlw0Lb"
      },
      "outputs": [],
      "source": [
        "loans3 = read_csv('./data/loans3.txt')"
      ]
    },
    {
      "cell_type": "code",
      "execution_count": null,
      "metadata": {
        "id": "Uux5dDmlw0Lb"
      },
      "outputs": [],
      "source": [
        "compute_emis(loans3)"
      ]
    },
    {
      "cell_type": "code",
      "execution_count": null,
      "metadata": {
        "id": "qxlpNjdMw0Lc"
      },
      "outputs": [],
      "source": [
        "write_csv(loans3, './data/emis3.txt')"
      ]
    },
    {
      "cell_type": "code",
      "execution_count": null,
      "metadata": {
        "id": "SQwaGCnFw0Lc",
        "outputId": "84af6666-137e-4f77-c842-94f5284c531c"
      },
      "outputs": [
        {
          "name": "stdout",
          "output_type": "stream",
          "text": [
            "amount,duration,rate,down_payment,emi\n",
            "45230.0,48.0,0.07,4300.0,981\n",
            "883000.0,16.0,0.14,0.0,60819\n",
            "100000.0,12.0,0.1,0.0,8792\n",
            "728400.0,120.0,0.12,100000.0,9016\n",
            "3637400.0,240.0,0.06,0.0,26060\n",
            "82900.0,90.0,0.07,8900.0,1060\n",
            "316000.0,16.0,0.13,0.0,21618\n",
            "15230.0,48.0,0.08,4300.0,267\n",
            "991360.0,99.0,0.08,0.0,13712\n",
            "323000.0,27.0,0.09,4720010000.0,-193751447\n",
            "528400.0,120.0,0.11,100000.0,5902\n",
            "8633400.0,240.0,0.06,0.0,61853\n",
            "12900.0,90.0,0.08,8900.0,60\n",
            "\n"
          ]
        }
      ],
      "source": [
        "with open('./data/emis3.txt', 'r') as f:\n",
        "    print(f.read())"
      ]
    },
    {
      "cell_type": "markdown",
      "metadata": {
        "id": "H7vQwELhw0Lc"
      },
      "source": [
        "With just four lines of code, we can now read each downloaded file, calculate the EMIs, and write the results back to new files:"
      ]
    },
    {
      "cell_type": "code",
      "execution_count": null,
      "metadata": {
        "id": "2AAFoUq-w0Lc"
      },
      "outputs": [],
      "source": [
        "for i in range(1,4):\n",
        "    loans = read_csv('./data/loans{}.txt'.format(i))\n",
        "    compute_emis(loans)\n",
        "    write_csv(loans, './data/emis{}.txt'.format(i))"
      ]
    },
    {
      "cell_type": "code",
      "execution_count": null,
      "metadata": {
        "id": "GpV8DvP8w0Ld",
        "outputId": "76b8e616-b002-433c-f0bb-0e5cacacf5f6"
      },
      "outputs": [
        {
          "data": {
            "text/plain": [
              "['loans2.txt',\n",
              " 'loans3.txt',\n",
              " 'loans1.txt',\n",
              " 'emis3.txt',\n",
              " 'emis2.txt',\n",
              " 'emis1.txt']"
            ]
          },
          "execution_count": 64,
          "metadata": {},
          "output_type": "execute_result"
        }
      ],
      "source": [
        "os.listdir('./data')"
      ]
    },
    {
      "cell_type": "markdown",
      "metadata": {
        "id": "Tv00Dwvpw0Ld"
      },
      "source": [
        "Isn't that wonderful? Once all the functions are defined, we can calculate EMIs for thousands or even millions of loans across many files in seconds with just a few lines of code. Now we're starting to see the real power of using a programming language like Python for processing data!"
      ]
    },
    {
      "cell_type": "markdown",
      "metadata": {
        "id": "rLHyWvS9w0Ld"
      },
      "source": [
        "## Using Pandas to Read and Write CSVs\n",
        "\n",
        "There are some limitations to the `read_csv` and `write_csv` functions we've defined above:\n",
        "\n",
        "* The `read_csv` function fails to create a proper dictionary if any of the values in the CSV files contains commas\n",
        "* The `write_csv` function fails to create a proper CSV if any of the values to be written contains commas\n",
        "\n",
        "When a value in a CSV file contains a comma (`,`), the value is generally placed within double quotes. Double quotes (`\"`) in values are converted into two double quotes (`\"\"`). Here's an example:\n",
        "\n",
        "```\n",
        "title,description\n",
        "Fast & Furious,\"A movie, a race, a franchise\"\n",
        "The Dark Knight,\"Gotham, the \"\"Batman\"\", and the Joker\"\n",
        "Memento,A guy forgets everything every 15 minutes\n",
        "\n",
        "```\n",
        "\n",
        "Let's try it out."
      ]
    },
    {
      "cell_type": "code",
      "execution_count": null,
      "metadata": {
        "id": "WXRI2YFWw0Le"
      },
      "outputs": [],
      "source": [
        "movies_url = \"https://gist.githubusercontent.com/aakashns/afee0a407d44bbc02321993548021af9/raw/6d7473f0ac4c54aca65fc4b06ed831b8a4840190/movies.csv\""
      ]
    },
    {
      "cell_type": "code",
      "execution_count": null,
      "metadata": {
        "id": "m9Plp_Hjw0Le",
        "outputId": "9f83c6b5-21ac-4865-fb16-681bd3a9c7cb"
      },
      "outputs": [
        {
          "data": {
            "text/plain": [
              "('data/movies.csv', <http.client.HTTPMessage at 0x7fe15cf813c8>)"
            ]
          },
          "execution_count": 66,
          "metadata": {},
          "output_type": "execute_result"
        }
      ],
      "source": [
        "urlretrieve(movies_url, 'data/movies.csv')"
      ]
    },
    {
      "cell_type": "code",
      "execution_count": null,
      "metadata": {
        "id": "EdRGw-Q4w0Le"
      },
      "outputs": [],
      "source": [
        "movies = read_csv('data/movies.csv')"
      ]
    },
    {
      "cell_type": "code",
      "execution_count": null,
      "metadata": {
        "id": "xnc-KcElw0Lf",
        "outputId": "6ec00361-b626-40a7-f789-17010d786ce0"
      },
      "outputs": [
        {
          "data": {
            "text/plain": [
              "[{'title': 'Fast & Furious', 'description': '\"A movie'},\n",
              " {'title': 'The Dark Knight', 'description': '\"Gotham'},\n",
              " {'title': 'Memento',\n",
              "  'description': 'A guy forgets everything every 15 minutes'}]"
            ]
          },
          "execution_count": 68,
          "metadata": {},
          "output_type": "execute_result"
        }
      ],
      "source": [
        "movies"
      ]
    },
    {
      "cell_type": "markdown",
      "metadata": {
        "id": "K3K5vGUTw0Lf"
      },
      "source": [
        "As you can seen above, the movie descriptions weren't parsed properly.\n",
        "\n",
        "To read this CSV properly, we can use the `pandas` library."
      ]
    },
    {
      "cell_type": "code",
      "execution_count": null,
      "metadata": {
        "id": "KPIvl53pw0Lf"
      },
      "outputs": [],
      "source": [
        "!pip install pandas --upgrade --quiet"
      ]
    },
    {
      "cell_type": "code",
      "execution_count": null,
      "metadata": {
        "id": "60-Wk2dVw0Lg"
      },
      "outputs": [],
      "source": [
        "import pandas as pd"
      ]
    },
    {
      "cell_type": "markdown",
      "metadata": {
        "id": "9SWq_nIzw0Lg"
      },
      "source": [
        "The `pd.read_csv` function can be used to read the CSV file into a pandas data frame: a spreadsheet-like object for analyzing and processing data. We'll learn more about data frames in a future lesson."
      ]
    },
    {
      "cell_type": "code",
      "execution_count": null,
      "metadata": {
        "id": "g2Aatsndw0Lg"
      },
      "outputs": [],
      "source": [
        "movies_dataframe = pd.read_csv('data/movies.csv')"
      ]
    },
    {
      "cell_type": "code",
      "execution_count": null,
      "metadata": {
        "id": "7zcA_wLyw0Lg",
        "outputId": "562296b7-abe8-440e-e084-ed9afed32888"
      },
      "outputs": [
        {
          "data": {
            "text/html": [
              "<div>\n",
              "<style scoped>\n",
              "    .dataframe tbody tr th:only-of-type {\n",
              "        vertical-align: middle;\n",
              "    }\n",
              "\n",
              "    .dataframe tbody tr th {\n",
              "        vertical-align: top;\n",
              "    }\n",
              "\n",
              "    .dataframe thead th {\n",
              "        text-align: right;\n",
              "    }\n",
              "</style>\n",
              "<table border=\"1\" class=\"dataframe\">\n",
              "  <thead>\n",
              "    <tr style=\"text-align: right;\">\n",
              "      <th></th>\n",
              "      <th>title</th>\n",
              "      <th>description</th>\n",
              "    </tr>\n",
              "  </thead>\n",
              "  <tbody>\n",
              "    <tr>\n",
              "      <th>0</th>\n",
              "      <td>Fast &amp; Furious</td>\n",
              "      <td>A movie, a race, a franchise</td>\n",
              "    </tr>\n",
              "    <tr>\n",
              "      <th>1</th>\n",
              "      <td>The Dark Knight</td>\n",
              "      <td>Gotham, the \"Batman\", and the Joker</td>\n",
              "    </tr>\n",
              "    <tr>\n",
              "      <th>2</th>\n",
              "      <td>Memento</td>\n",
              "      <td>A guy forgets everything every 15 minutes</td>\n",
              "    </tr>\n",
              "  </tbody>\n",
              "</table>\n",
              "</div>"
            ],
            "text/plain": [
              "             title                                description\n",
              "0   Fast & Furious               A movie, a race, a franchise\n",
              "1  The Dark Knight        Gotham, the \"Batman\", and the Joker\n",
              "2          Memento  A guy forgets everything every 15 minutes"
            ]
          },
          "execution_count": 72,
          "metadata": {},
          "output_type": "execute_result"
        }
      ],
      "source": [
        "movies_dataframe"
      ]
    },
    {
      "cell_type": "markdown",
      "metadata": {
        "id": "XIsm-SPyw0Lh"
      },
      "source": [
        "A dataframe can be converted into a list of dictionaries using the `to_dict` method."
      ]
    },
    {
      "cell_type": "code",
      "execution_count": null,
      "metadata": {
        "id": "wzr75uNDw0Lh"
      },
      "outputs": [],
      "source": [
        "movies = movies_dataframe.to_dict('records')"
      ]
    },
    {
      "cell_type": "code",
      "execution_count": null,
      "metadata": {
        "id": "_lFZvY8vw0Lh",
        "outputId": "eabaa3e2-453c-432a-ddb7-deecd053b8ab"
      },
      "outputs": [
        {
          "data": {
            "text/plain": [
              "[{'title': 'Fast & Furious', 'description': 'A movie, a race, a franchise'},\n",
              " {'title': 'The Dark Knight',\n",
              "  'description': 'Gotham, the \"Batman\", and the Joker'},\n",
              " {'title': 'Memento',\n",
              "  'description': 'A guy forgets everything every 15 minutes'}]"
            ]
          },
          "execution_count": 74,
          "metadata": {},
          "output_type": "execute_result"
        }
      ],
      "source": [
        "movies"
      ]
    },
    {
      "cell_type": "markdown",
      "metadata": {
        "id": "aCAIS1BRw0Lh"
      },
      "source": [
        "If you don't pass the arguments `records`, you get a dictionary of lists instead."
      ]
    },
    {
      "cell_type": "code",
      "execution_count": null,
      "metadata": {
        "id": "lXx9NG0xw0Lh"
      },
      "outputs": [],
      "source": [
        "movies_dict = movies_dataframe.to_dict()"
      ]
    },
    {
      "cell_type": "code",
      "execution_count": null,
      "metadata": {
        "id": "VoC5L9hSw0Li",
        "outputId": "9380cfc9-ec2b-4e6c-e5ae-07fff3200aad"
      },
      "outputs": [
        {
          "data": {
            "text/plain": [
              "{'title': {0: 'Fast & Furious', 1: 'The Dark Knight', 2: 'Memento'},\n",
              " 'description': {0: 'A movie, a race, a franchise',\n",
              "  1: 'Gotham, the \"Batman\", and the Joker',\n",
              "  2: 'A guy forgets everything every 15 minutes'}}"
            ]
          },
          "execution_count": 76,
          "metadata": {},
          "output_type": "execute_result"
        }
      ],
      "source": [
        "movies_dict"
      ]
    },
    {
      "cell_type": "markdown",
      "metadata": {
        "id": "vT9-W5dZw0Li"
      },
      "source": [
        "Let's try using the `write_csv` function to write the data in `movies` back to a CSV file."
      ]
    },
    {
      "cell_type": "code",
      "execution_count": null,
      "metadata": {
        "id": "mLxn_i1nw0Li"
      },
      "outputs": [],
      "source": [
        "write_csv(movies, 'movies2.csv')"
      ]
    },
    {
      "cell_type": "code",
      "execution_count": null,
      "metadata": {
        "id": "V2UUHtXnw0Li",
        "outputId": "b89a12f4-3174-4f67-f8be-82702d9442d6"
      },
      "outputs": [
        {
          "name": "stdout",
          "output_type": "stream",
          "text": [
            "title,description\r\n",
            "Fast & Furious,A movie, a race, a franchise\r\n",
            "The Dark Knight,Gotham, the \"Batman\", and the Joker\r\n",
            "Memento,A guy forgets everything every 15 minutes\r\n"
          ]
        }
      ],
      "source": [
        "!head movies2.csv"
      ]
    },
    {
      "cell_type": "markdown",
      "metadata": {
        "id": "8jRT8RVFw0Lj"
      },
      "source": [
        "As you can see above, the CSV file is not formatted properly. This can be verified by attempting to read the file using `pd.read_csv`."
      ]
    },
    {
      "cell_type": "code",
      "execution_count": null,
      "metadata": {
        "id": "mdnjWYJ9w0Lj",
        "outputId": "2888d2e1-a5b3-4de5-fce4-369dca95696a"
      },
      "outputs": [
        {
          "data": {
            "text/html": [
              "<div>\n",
              "<style scoped>\n",
              "    .dataframe tbody tr th:only-of-type {\n",
              "        vertical-align: middle;\n",
              "    }\n",
              "\n",
              "    .dataframe tbody tr th {\n",
              "        vertical-align: top;\n",
              "    }\n",
              "\n",
              "    .dataframe thead th {\n",
              "        text-align: right;\n",
              "    }\n",
              "</style>\n",
              "<table border=\"1\" class=\"dataframe\">\n",
              "  <thead>\n",
              "    <tr style=\"text-align: right;\">\n",
              "      <th></th>\n",
              "      <th></th>\n",
              "      <th>title</th>\n",
              "      <th>description</th>\n",
              "    </tr>\n",
              "  </thead>\n",
              "  <tbody>\n",
              "    <tr>\n",
              "      <th>Fast &amp; Furious</th>\n",
              "      <th>A movie</th>\n",
              "      <td>a race</td>\n",
              "      <td>a franchise</td>\n",
              "    </tr>\n",
              "    <tr>\n",
              "      <th>The Dark Knight</th>\n",
              "      <th>Gotham</th>\n",
              "      <td>the \"Batman\"</td>\n",
              "      <td>and the Joker</td>\n",
              "    </tr>\n",
              "    <tr>\n",
              "      <th>Memento</th>\n",
              "      <th>A guy forgets everything every 15 minutes</th>\n",
              "      <td>NaN</td>\n",
              "      <td>NaN</td>\n",
              "    </tr>\n",
              "  </tbody>\n",
              "</table>\n",
              "</div>"
            ],
            "text/plain": [
              "                                                                   title  \\\n",
              "Fast & Furious  A movie                                           a race   \n",
              "The Dark Knight Gotham                                      the \"Batman\"   \n",
              "Memento         A guy forgets everything every 15 minutes            NaN   \n",
              "\n",
              "                                                              description  \n",
              "Fast & Furious  A movie                                       a franchise  \n",
              "The Dark Knight Gotham                                      and the Joker  \n",
              "Memento         A guy forgets everything every 15 minutes             NaN  "
            ]
          },
          "execution_count": 79,
          "metadata": {},
          "output_type": "execute_result"
        }
      ],
      "source": [
        "pd.read_csv('movies2.csv')"
      ]
    },
    {
      "cell_type": "markdown",
      "metadata": {
        "id": "FjRw5PrLw0Lj"
      },
      "source": [
        "To convert a list of dictionaries into a dataframe, you can use the `pd.DataFrame` constructor."
      ]
    },
    {
      "cell_type": "code",
      "execution_count": null,
      "metadata": {
        "id": "rvFf6zFow0Lj"
      },
      "outputs": [],
      "source": [
        "df2 = pd.DataFrame(movies)"
      ]
    },
    {
      "cell_type": "code",
      "execution_count": null,
      "metadata": {
        "id": "c_Jyr9hlw0Lo",
        "outputId": "df8d3c0b-ef2e-451e-8169-4b2b8991ea6b"
      },
      "outputs": [
        {
          "data": {
            "text/html": [
              "<div>\n",
              "<style scoped>\n",
              "    .dataframe tbody tr th:only-of-type {\n",
              "        vertical-align: middle;\n",
              "    }\n",
              "\n",
              "    .dataframe tbody tr th {\n",
              "        vertical-align: top;\n",
              "    }\n",
              "\n",
              "    .dataframe thead th {\n",
              "        text-align: right;\n",
              "    }\n",
              "</style>\n",
              "<table border=\"1\" class=\"dataframe\">\n",
              "  <thead>\n",
              "    <tr style=\"text-align: right;\">\n",
              "      <th></th>\n",
              "      <th>title</th>\n",
              "      <th>description</th>\n",
              "    </tr>\n",
              "  </thead>\n",
              "  <tbody>\n",
              "    <tr>\n",
              "      <th>0</th>\n",
              "      <td>Fast &amp; Furious</td>\n",
              "      <td>A movie, a race, a franchise</td>\n",
              "    </tr>\n",
              "    <tr>\n",
              "      <th>1</th>\n",
              "      <td>The Dark Knight</td>\n",
              "      <td>Gotham, the \"Batman\", and the Joker</td>\n",
              "    </tr>\n",
              "    <tr>\n",
              "      <th>2</th>\n",
              "      <td>Memento</td>\n",
              "      <td>A guy forgets everything every 15 minutes</td>\n",
              "    </tr>\n",
              "  </tbody>\n",
              "</table>\n",
              "</div>"
            ],
            "text/plain": [
              "             title                                description\n",
              "0   Fast & Furious               A movie, a race, a franchise\n",
              "1  The Dark Knight        Gotham, the \"Batman\", and the Joker\n",
              "2          Memento  A guy forgets everything every 15 minutes"
            ]
          },
          "execution_count": 81,
          "metadata": {},
          "output_type": "execute_result"
        }
      ],
      "source": [
        "df2"
      ]
    },
    {
      "cell_type": "markdown",
      "metadata": {
        "id": "yrB9v2-Xw0Lo"
      },
      "source": [
        "It can now be written to a CSV file using the `.to_csv` method of a dataframe."
      ]
    },
    {
      "cell_type": "code",
      "execution_count": null,
      "metadata": {
        "id": "DiWBtdvdw0Lo"
      },
      "outputs": [],
      "source": [
        "df2.to_csv('movies3.csv', index=None)"
      ]
    },
    {
      "cell_type": "markdown",
      "metadata": {
        "id": "l_M1nlqNw0Lo"
      },
      "source": [
        "Can you guess what the argument `index=None` does? Try removing it and observing the difference in output."
      ]
    },
    {
      "cell_type": "code",
      "execution_count": null,
      "metadata": {
        "id": "hR2hL1djw0Lp",
        "outputId": "7451ae9d-a677-4d22-a39b-7ea104a8587c"
      },
      "outputs": [
        {
          "name": "stdout",
          "output_type": "stream",
          "text": [
            "title,description\r\n",
            "Fast & Furious,\"A movie, a race, a franchise\"\r\n",
            "The Dark Knight,\"Gotham, the \"\"Batman\"\", and the Joker\"\r\n",
            "Memento,A guy forgets everything every 15 minutes\r\n"
          ]
        }
      ],
      "source": [
        "!head movies3.csv"
      ]
    },
    {
      "cell_type": "markdown",
      "metadata": {
        "id": "qiBwSsG_w0Lp"
      },
      "source": [
        "The CSV file is formatted properly. We can verify this by trying to read it back."
      ]
    },
    {
      "cell_type": "code",
      "execution_count": null,
      "metadata": {
        "id": "Rex6NGuqw0Lp",
        "outputId": "dc8abba5-e307-4363-fbb4-fe4808819864"
      },
      "outputs": [
        {
          "data": {
            "text/html": [
              "<div>\n",
              "<style scoped>\n",
              "    .dataframe tbody tr th:only-of-type {\n",
              "        vertical-align: middle;\n",
              "    }\n",
              "\n",
              "    .dataframe tbody tr th {\n",
              "        vertical-align: top;\n",
              "    }\n",
              "\n",
              "    .dataframe thead th {\n",
              "        text-align: right;\n",
              "    }\n",
              "</style>\n",
              "<table border=\"1\" class=\"dataframe\">\n",
              "  <thead>\n",
              "    <tr style=\"text-align: right;\">\n",
              "      <th></th>\n",
              "      <th>title</th>\n",
              "      <th>description</th>\n",
              "    </tr>\n",
              "  </thead>\n",
              "  <tbody>\n",
              "    <tr>\n",
              "      <th>0</th>\n",
              "      <td>Fast &amp; Furious</td>\n",
              "      <td>A movie, a race, a franchise</td>\n",
              "    </tr>\n",
              "    <tr>\n",
              "      <th>1</th>\n",
              "      <td>The Dark Knight</td>\n",
              "      <td>Gotham, the \"Batman\", and the Joker</td>\n",
              "    </tr>\n",
              "    <tr>\n",
              "      <th>2</th>\n",
              "      <td>Memento</td>\n",
              "      <td>A guy forgets everything every 15 minutes</td>\n",
              "    </tr>\n",
              "  </tbody>\n",
              "</table>\n",
              "</div>"
            ],
            "text/plain": [
              "             title                                description\n",
              "0   Fast & Furious               A movie, a race, a franchise\n",
              "1  The Dark Knight        Gotham, the \"Batman\", and the Joker\n",
              "2          Memento  A guy forgets everything every 15 minutes"
            ]
          },
          "execution_count": 84,
          "metadata": {},
          "output_type": "execute_result"
        }
      ],
      "source": [
        "pd.read_csv('movies3.csv')"
      ]
    },
    {
      "cell_type": "markdown",
      "metadata": {
        "id": "2zs2YF12w0Lp"
      },
      "source": [
        "We're able to write and read the file properly with `pandas`.\n",
        "\n",
        "In general, it's always a better idea to use libraries like Pandas for reading and writing CSV files."
      ]
    },
    {
      "cell_type": "markdown",
      "metadata": {
        "id": "W54QCiPEw0Lq"
      },
      "source": [
        "### Save and upload your notebook\n",
        "\n",
        "Whether you're running this Jupyter notebook online or on your computer, it's essential to save your work from time to time. You can continue working on a saved notebook later or share it with friends and colleagues to let them execute your code. [Jovian](https://www.jovian.ai) offers an easy way of saving and sharing your Jupyter notebooks online."
      ]
    },
    {
      "cell_type": "code",
      "execution_count": null,
      "metadata": {
        "id": "Fqkc4Gbzw0Lq"
      },
      "outputs": [],
      "source": [
        "# Install the library\n",
        "!pip install jovian --upgrade --quiet"
      ]
    },
    {
      "cell_type": "code",
      "execution_count": null,
      "metadata": {
        "id": "6Bd8or5zw0Lq"
      },
      "outputs": [],
      "source": [
        "# Import the jovian module\n",
        "import jovian"
      ]
    },
    {
      "cell_type": "code",
      "execution_count": null,
      "metadata": {
        "id": "MRslzYOjw0Lq",
        "outputId": "c135ec8e-fbdf-4910-aa16-8bbea0926db4"
      },
      "outputs": [
        {
          "data": {
            "application/javascript": [
              "window.require && require([\"base/js/namespace\"],function(Jupyter){Jupyter.notebook.save_checkpoint()})"
            ],
            "text/plain": [
              "<IPython.core.display.Javascript object>"
            ]
          },
          "metadata": {},
          "output_type": "display_data"
        },
        {
          "name": "stdout",
          "output_type": "stream",
          "text": [
            "[jovian] Attempting to save notebook..\u001b[0m\n"
          ]
        }
      ],
      "source": [
        "jovian.commit(project='python-os-and-filesystem')"
      ]
    },
    {
      "cell_type": "markdown",
      "metadata": {
        "id": "kb2T3Fp8w0Lr"
      },
      "source": [
        "The first time you run `jovian.commit`, you'll be asked to provide an API Key to securely upload the notebook to your Jovian account. You can get the API key from your [Jovian profile page](https://jovian.ai) after logging in / signing up.\n",
        "\n",
        "\n",
        "`jovian.commit` uploads the notebook to your Jovian account, captures the Python environment, and creates a shareable link for your notebook, as shown above. You can use this link to share your work and let anyone (including you) run your notebooks and reproduce your work."
      ]
    },
    {
      "cell_type": "markdown",
      "metadata": {
        "id": "FWQWm8vuw0Lr"
      },
      "source": [
        "## Exercise - Processing CSV files using a dictionary of lists\n",
        "\n",
        "We defined the functions `read_csv` and `write_csv` above to convert a CSV file into a list of dictionaries and vice versa. In this exercise, you'll transform the CSV data into a dictionary of lists instead, with one list for each column in the file.\n",
        "\n",
        "For example, consider the following CSV file:\n",
        "\n",
        "```\n",
        "amount,duration,rate,down_payment\n",
        "828400,120,0.11,100000\n",
        "4633400,240,0.06,\n",
        "42900,90,0.08,8900\n",
        "983000,16,0.14,\n",
        "15230,48,0.07,4300\n",
        "```\n",
        "\n",
        "We'll convert it into the following dictionary of lists:\n",
        "\n",
        "```\n",
        "{\n",
        "  amount: [828400, 4633400, 42900, 983000, 15230],\n",
        "  duration: []120, 240, 90, 16, 48],\n",
        "  rate: [0.11, 0.06, 0.08, 0.14, 0.07],\n",
        "  down_payment: [100000, 0, 8900, 0, 4300]\n",
        "}\n",
        "```\n",
        "\n",
        "Complete the following tasks using the empty cells below:\n",
        "\n",
        "1. Download three CSV files to the folder `data2` using the URLs listed in the code cell below, and verify the downloaded files.\n",
        "2. Define a function `read_csv_columnar` that reads a CSV file and returns a dictionary of lists in the format shown above.\n",
        "3. Define a function `compute_emis` that adds another key `emi` into the dictionary with a list of EMIs computed for each row of data.\n",
        "4. Define a function `write_csv_columnar` that writes the data from the dictionary of lists into a correctly formatted CSV file.\n",
        "5. Process all three downloaded files and write the results by creating new files in the directory `data2`.\n",
        "\n",
        "Define helper functions wherever required.\n"
      ]
    },
    {
      "cell_type": "code",
      "execution_count": null,
      "metadata": {
        "id": "V4ksezpPw0Lr"
      },
      "outputs": [],
      "source": [
        "url1 = 'https://gist.githubusercontent.com/aakashns/257f6e6c8719c17d0e498ea287d1a386/raw/7def9ef4234ddf0bc82f855ad67dac8b971852ef/loans1.txt'\n",
        "url2 = 'https://gist.githubusercontent.com/aakashns/257f6e6c8719c17d0e498ea287d1a386/raw/7def9ef4234ddf0bc82f855ad67dac8b971852ef/loans2.txt'\n",
        "url3 = 'https://gist.githubusercontent.com/aakashns/257f6e6c8719c17d0e498ea287d1a386/raw/7def9ef4234ddf0bc82f855ad67dac8b971852ef/loans3.txt'"
      ]
    },
    {
      "cell_type": "code",
      "execution_count": null,
      "metadata": {
        "id": "LNyirQhrw0Lr"
      },
      "outputs": [],
      "source": []
    },
    {
      "cell_type": "code",
      "execution_count": null,
      "metadata": {
        "id": "YfEywNB-w0Ls"
      },
      "outputs": [],
      "source": []
    },
    {
      "cell_type": "code",
      "execution_count": null,
      "metadata": {
        "id": "WuFbHwu9w0Ls"
      },
      "outputs": [],
      "source": []
    },
    {
      "cell_type": "code",
      "execution_count": null,
      "metadata": {
        "id": "-517nC37w0Ls"
      },
      "outputs": [],
      "source": []
    },
    {
      "cell_type": "code",
      "execution_count": null,
      "metadata": {
        "id": "87LjaJhFw0Ls"
      },
      "outputs": [],
      "source": []
    },
    {
      "cell_type": "markdown",
      "metadata": {
        "id": "AwNqpADhw0Ls"
      },
      "source": [
        "Finally, let's save a snapshot of our work using `jovian.commit`."
      ]
    },
    {
      "cell_type": "code",
      "execution_count": null,
      "metadata": {
        "id": "9RUtumSBw0Lt"
      },
      "outputs": [],
      "source": [
        "jovian.commit(project='python-os-and-filesystem')"
      ]
    },
    {
      "cell_type": "markdown",
      "metadata": {
        "id": "9dcumwhyw0Lt"
      },
      "source": [
        "## Summary and Further Reading\n",
        "\n",
        "With this, we complete our discussion of reading from and writing to files in Python. We've covered the following topics in this tutorial:\n",
        "\n",
        "* Interacting with the file system using the `os` module\n",
        "* Downloading files from URLs using the `urllib` module\n",
        "* Opening files using the `open` built-in function\n",
        "* Reading the contents of a file using `.read`\n",
        "* Closing a file automatically using `with`\n",
        "* Reading a file line by line using `readlines`\n",
        "* Processing data from a CSV file by defining functions\n",
        "* Using helper functions to build more complex functions\n",
        "* Writing data to a file using `.write`\n",
        "\n",
        "This tutorial on working with files in Python is by no means exhaustive. Following are some more resources you should check out:\n",
        "\n",
        "* Python Tutorial at W3Schools: https://www.w3schools.com/python/\n",
        "* Practical Python Programming: https://dabeaz-course.github.io/practical-python/Notes/Contents.html\n",
        "* Python official documentation: https://docs.python.org/3/tutorial/index.html\n",
        "\n",
        "You are ready to move on to the next tutorial: [Numerical Computing with Python and Numpy](https://jovian.ai/aakashns/python-numerical-computing-with-numpy)."
      ]
    },
    {
      "cell_type": "markdown",
      "metadata": {
        "id": "yhQxrq1sw0Lt"
      },
      "source": [
        "## Questions for Revision\n",
        "\n",
        "Try answering the following questions to test your understanding of the topics covered in this notebook:\n",
        "\n",
        "1. What is the purpose of the `os` module in Python?\n",
        "2. How do you identify the current working directory in a Jupyter notebook?\n",
        "3. How do you retrieve the list of files within a directory using Python?\n",
        "4. How do you create a directory using Python?\n",
        "5. How do you check whether a file or directory exists on the filesystem? Hint: `os.path.exists`.\n",
        "6. Where can you find the full list of functions contained in the `os` module?\n",
        "7. Give examples of 5 useful functions from the `os` and `os.path` modules.\n",
        "8. How do you download a file from a URL using Python?\n",
        "9. How do you open a file using Python? Give an example?\n",
        "10. What are the different modes for opening a file in Python?\n",
        "11. Can you open a file in multiple modes? Illustrate with an example.\n",
        "12. What is the file object? How is it useful?\n",
        "13. How do you read the contents of a file into a string?\n",
        "14. What is a CSV file? Give an example.\n",
        "15. How do you close an open file?\n",
        "16. Why is it essential to close a file after processing it?\n",
        "17. How do you ensure that files are closed automatically after processing? Give an example.\n",
        "18. How is the `with` statement useful for working with files?\n",
        "19. What happens if you try to read from a closed file?\n",
        "20. How do you read the contents of a file line by line?\n",
        "21. Write a function to convert the contents of a CSV file into a list of dictionaries (one dictionary for each row of the file).\n",
        "22. Write a function to convert the contents of a CSV file into a dictionary of lists (one dictionary for each column of the file).\n",
        "23. How do you write to a file using Python?\n",
        "24. How is the string `.format` method for writing data to a file in CSV format?\n",
        "25. Write a function to write data from a list of dictionaries into a CSV file.\n",
        "26. Write a function to write data from a dictionary of lists into a CSV file.\n",
        "27. Where can you learn about the methods supported by the file object in Python?\n",
        "28. How can you read from and write to CSV files using Pandas?\n"
      ]
    },
    {
      "cell_type": "code",
      "execution_count": null,
      "metadata": {
        "id": "JrnS5KTFw0Lt"
      },
      "outputs": [],
      "source": []
    }
  ],
  "metadata": {
    "language_info": {
      "codemirror_mode": {
        "name": "ipython",
        "version": 3
      },
      "file_extension": ".py",
      "mimetype": "text/x-python",
      "name": "python",
      "nbconvert_exporter": "python",
      "pygments_lexer": "ipython3",
      "version": "3.6.13"
    },
    "colab": {
      "provenance": []
    }
  },
  "nbformat": 4,
  "nbformat_minor": 0
}