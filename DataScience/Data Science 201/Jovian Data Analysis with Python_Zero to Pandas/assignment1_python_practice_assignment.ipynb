{
  "cells": [
    {
      "cell_type": "markdown",
      "metadata": {
        "id": "t7pvqanMlTwt"
      },
      "source": [
        "# Assignment 1 - Python Basics Practice\n",
        "\n",
        "*This assignment is a part of the course [\"Data Analysis with Python: Zero to Pandas\"](https://jovian.ml/learn/data-analysis-with-python-zero-to-pandas)*\n",
        "\n",
        "In this assignment, you'll get to practice some of the concepts and skills covered in the following notebooks:\n",
        "\n",
        "1. [First Steps with Python and Jupyter](https://jovian.ml/aakashns/first-steps-with-python)\n",
        "2. [A Quick Tour of Variables and Data Types](https://jovian.ml/aakashns/python-variables-and-data-types)\n",
        "3. [Branching using Conditional Statements and Loops](https://jovian.ml/aakashns/python-branching-and-loops)\n",
        "\n",
        "\n",
        "As you go through this notebook, you will find the symbol **???** in certain places. To complete this assignment, you must replace all the **???** with appropriate values, expressions or statements to ensure that the notebook runs properly end-to-end.\n",
        "\n",
        "**Guidelines**\n",
        "\n",
        "1. Make sure to run all the code cells, otherwise you may get errors like `NameError` for undefined variables.\n",
        "2. Do not change variable names, delete cells or disturb other existing code. It may cause problems during evaluation.\n",
        "3. In some cases, you may need to add some code cells or new statements before or after the line of code containing the **???**.\n",
        "4. Since you'll be using a free online service for code execution, save your work by running `jovian.commit` at regular intervals.\n",
        "5. Questions marked **(Optional)** will not be considered for evaluation, and can be skipped. They are for your learning.\n",
        "6. If you are stuck, you can ask for help on the course forum. Post errors, ask for hints and help others, but **please don't share the full solution answer code** to give others a chance to write the code themselves.\n",
        "7. After submission your code will be tested with some hidden test cases. Make sure to test your code exhaustively to cover all edge cases.\n",
        "\n",
        "\n",
        "Important Links:\n",
        "\n",
        "* Make submissions here: https://jovian.ml/learn/data-analysis-with-python-zero-to-pandas/assignment/assignment-1-python-basics-practice\n",
        "\n",
        "* Get help on the community forum: https://jovian.ml/forum/t/assignment-1-python-practice/7761 . You can get help with errors or ask for hints, but **please don't ask for or share the full working answer code** on the forum.\n"
      ]
    },
    {
      "cell_type": "markdown",
      "metadata": {
        "id": "x9T3jPrQlTwx"
      },
      "source": [
        "### How to Run the Code and Save Your Work\n",
        "\n",
        "**Option 1: Running using free online resources (1-click, recommended)**: Click the **Run** button at the top of this page and select **Run on Binder**. You can also select \"Run on Colab\" or \"Run on Kaggle\", but you'll need to create an account on [Google Colab](https://colab.research.google.com) or [Kaggle](https://kaggle.com) to use these platforms.\n",
        "\n",
        "\n",
        "**Option 2: Running on your computer locally**: To run the code on your computer locally, you'll need to set up [Python](https://www.python.org) & [Conda](https://docs.conda.io/projects/conda/en/latest/user-guide/install/), download the notebook and install the required libraries. Click the **Run** button at the top of this page, select the **Run Locally** option, and follow the instructions.\n",
        "\n",
        "**Saving your work**: You can save a snapshot of the assignment to your [Jovian](https://jovian.ai) profile, so that you can access it later and continue your work. Keep saving your work by running `jovian.commit` from time to time."
      ]
    },
    {
      "cell_type": "code",
      "execution_count": 11,
      "metadata": {
        "colab": {
          "base_uri": "https://localhost:8080/"
        },
        "id": "pszRUEYXlTwy",
        "outputId": "3c6bc400-ba1c-478c-fbbf-fa6e86c1b72b"
      },
      "outputs": [
        {
          "output_type": "stream",
          "name": "stdout",
          "text": [
            "\u001b[?25l     \u001b[90m━━━━━━━━━━━━━━━━━━━━━━━━━━━━━━━━━━━━━━━━\u001b[0m \u001b[32m0.0/68.6 kB\u001b[0m \u001b[31m?\u001b[0m eta \u001b[36m-:--:--\u001b[0m\r\u001b[2K     \u001b[90m━━━━━━━━━━━━━━━━━━━━━━━━━━━━━━━━━━━━━━━━\u001b[0m \u001b[32m68.6/68.6 kB\u001b[0m \u001b[31m1.9 MB/s\u001b[0m eta \u001b[36m0:00:00\u001b[0m\n",
            "\u001b[?25h  Preparing metadata (setup.py) ... \u001b[?25l\u001b[?25hdone\n",
            "  Building wheel for uuid (setup.py) ... \u001b[?25l\u001b[?25hdone\n"
          ]
        }
      ],
      "source": [
        "# Install the library\n",
        "!pip install jovian --upgrade --quiet"
      ]
    },
    {
      "cell_type": "code",
      "execution_count": 12,
      "metadata": {
        "id": "PQwijhNklTwz"
      },
      "outputs": [],
      "source": [
        "# Import it\n",
        "import jovian"
      ]
    },
    {
      "cell_type": "code",
      "execution_count": 13,
      "metadata": {
        "id": "LnwwvVfClTw0"
      },
      "outputs": [],
      "source": [
        "project_name='python-practice-assignment'"
      ]
    },
    {
      "cell_type": "code",
      "execution_count": 14,
      "metadata": {
        "colab": {
          "base_uri": "https://localhost:8080/"
        },
        "id": "txOCEtT5lTw0",
        "outputId": "52e441a9-cfd8-4022-e082-9553bbbcdec5"
      },
      "outputs": [
        {
          "output_type": "stream",
          "name": "stdout",
          "text": [
            "[jovian] Detected Colab notebook...\u001b[0m\n",
            "[jovian] jovian.commit() is no longer required on Google Colab. If you ran this notebook from Jovian, \n",
            "then just save this file in Colab using Ctrl+S/Cmd+S and it will be updated on Jovian. \n",
            "Also, you can also delete this cell, it's no longer necessary.\u001b[0m\n"
          ]
        }
      ],
      "source": [
        "# Capture and upload a snapshot\n",
        "jovian.commit(project=project_name, privacy='secret', evironment=None)"
      ]
    },
    {
      "cell_type": "markdown",
      "metadata": {
        "id": "8XmpQIVvlTw1"
      },
      "source": [
        "You'll be asked to provide an API Key, to securely upload the notebook to your Jovian.ml account. You can get the API key from your Jovian.ml profile page after logging in / signing up. See the docs for details: https://jovian.ml/docs/user-guide/upload.html . The privacy of your assignment notebook is set to *Secret*, so that you can the evlauators can access it, but it will not shown on your public profile to other users."
      ]
    },
    {
      "cell_type": "markdown",
      "metadata": {
        "id": "VQHrfdj2lTw2"
      },
      "source": [
        "## Problem 1 - Variables and Data Types\n",
        "\n",
        "**Q1: Assign your name to the variable `name`.**"
      ]
    },
    {
      "cell_type": "code",
      "execution_count": 4,
      "metadata": {
        "id": "hfLWMhVplTw2"
      },
      "outputs": [],
      "source": [
        "name = \"N Sandeep Kumar\""
      ]
    },
    {
      "cell_type": "markdown",
      "metadata": {
        "id": "dW7jyLSQlTw3"
      },
      "source": [
        "**Q2: Assign your age (real or fake) to the variable `age`.**"
      ]
    },
    {
      "cell_type": "code",
      "execution_count": 5,
      "metadata": {
        "id": "DLadbInKlTw3"
      },
      "outputs": [],
      "source": [
        "age = 39"
      ]
    },
    {
      "cell_type": "markdown",
      "metadata": {
        "id": "Qs9Mz0QdlTw3"
      },
      "source": [
        "**Q3: Assign a boolean value to the variable `has_android_phone`.**"
      ]
    },
    {
      "cell_type": "code",
      "execution_count": 6,
      "metadata": {
        "id": "VpR6yjdylTw3"
      },
      "outputs": [],
      "source": [
        "has_android_phone = True"
      ]
    },
    {
      "cell_type": "markdown",
      "metadata": {
        "id": "zYU2DARtlTw4"
      },
      "source": [
        "You can check the values of these variables by running the next cell."
      ]
    },
    {
      "cell_type": "code",
      "execution_count": 7,
      "metadata": {
        "colab": {
          "base_uri": "https://localhost:8080/"
        },
        "id": "CocWaK8YlTw4",
        "outputId": "0a53f03e-227d-4e9a-f6de-a79193493d0e"
      },
      "outputs": [
        {
          "output_type": "execute_result",
          "data": {
            "text/plain": [
              "('N Sandeep Kumar', 39, True)"
            ]
          },
          "metadata": {},
          "execution_count": 7
        }
      ],
      "source": [
        "name, age, has_android_phone"
      ]
    },
    {
      "cell_type": "markdown",
      "metadata": {
        "id": "Pd3XEzKglTw4"
      },
      "source": [
        "**Q4: Create a dictionary `person` with keys `\"Name\"`, `\"Age\"`, `\"HasAndroidPhone\"` and values using the variables defined above.**"
      ]
    },
    {
      "cell_type": "code",
      "execution_count": 8,
      "metadata": {
        "id": "erkwFKI-lTw4"
      },
      "outputs": [],
      "source": [
        "person = {\"Name\": name, \"Age\": age,\"HasAndroidPhone\":has_android_phone}"
      ]
    },
    {
      "cell_type": "markdown",
      "metadata": {
        "id": "hA4PwXCZlTw4"
      },
      "source": [
        "Let's use the `person` dictionary to print a nice message."
      ]
    },
    {
      "cell_type": "code",
      "execution_count": 9,
      "metadata": {
        "colab": {
          "base_uri": "https://localhost:8080/"
        },
        "id": "p5TlpbxJlTw5",
        "outputId": "224c4dfb-e726-4864-872e-6c8ecaf4b53f"
      },
      "outputs": [
        {
          "output_type": "stream",
          "name": "stdout",
          "text": [
            "N Sandeep Kumar is aged 39, and owns an Android phone.\n"
          ]
        }
      ],
      "source": [
        "print(\"{} is aged {}, and owns an {}.\".format(\n",
        "    person[\"Name\"],\n",
        "    person[\"Age\"],\n",
        "    \"Android phone\" if person[\"HasAndroidPhone\"] else \"iPhone\"\n",
        "))"
      ]
    },
    {
      "cell_type": "markdown",
      "metadata": {
        "id": "Kk5pBRYDlTw5"
      },
      "source": [
        "**Q4b (Optional): Use a `for` loop to display the `type` of each value stored against each key in `person`.**\n",
        "\n",
        "Here's the expected output for the key `\"Name\"`:\n",
        "\n",
        "```\n",
        "The key \"Name\" has the value \"Derek\" of the type \"<class 'str'>\"\n",
        "```"
      ]
    },
    {
      "cell_type": "code",
      "execution_count": 10,
      "metadata": {
        "colab": {
          "base_uri": "https://localhost:8080/"
        },
        "id": "OiZIyyp0lTw5",
        "outputId": "b225ef21-a72e-49c5-e6f0-4a112151023b"
      },
      "outputs": [
        {
          "output_type": "stream",
          "name": "stdout",
          "text": [
            "The key \"Name\" has the value \"N Sandeep Kumar\" of the type \"<class 'str'>\n",
            "The key \"Age\" has the value \"39\" of the type \"<class 'int'>\n",
            "The key \"HasAndroidPhone\" has the value \"True\" of the type \"<class 'bool'>\n"
          ]
        }
      ],
      "source": [
        "# this is optional\n",
        "for key,value in person.items():\n",
        "  print(f'The key \"{key}\" has the value \"{value}\" of the type \"{type(value)}')"
      ]
    },
    {
      "cell_type": "markdown",
      "metadata": {
        "id": "vmCxhCnSlTw5"
      },
      "source": [
        "Now that you've solved one problem, it would be a good idea to record a snapshot of your notebook."
      ]
    },
    {
      "cell_type": "code",
      "execution_count": 15,
      "metadata": {
        "colab": {
          "base_uri": "https://localhost:8080/"
        },
        "id": "ZE9jCXbslTw5",
        "outputId": "3ee4a31e-55a1-4ce6-c840-145897442461"
      },
      "outputs": [
        {
          "output_type": "stream",
          "name": "stdout",
          "text": [
            "[jovian] Detected Colab notebook...\u001b[0m\n",
            "[jovian] jovian.commit() is no longer required on Google Colab. If you ran this notebook from Jovian, \n",
            "then just save this file in Colab using Ctrl+S/Cmd+S and it will be updated on Jovian. \n",
            "Also, you can also delete this cell, it's no longer necessary.\u001b[0m\n"
          ]
        }
      ],
      "source": [
        "jovian.commit(project=project_name,environment=None)"
      ]
    },
    {
      "cell_type": "markdown",
      "metadata": {
        "id": "7dCLYmeolTw5"
      },
      "source": [
        "## Problem 2 - Working with Lists\n",
        "\n",
        "**Q5: Create a list containing the following 3 elements:**\n",
        "\n",
        "* your favorite color\n",
        "* the number of pets you have\n",
        "* a boolean value describing whether you have previous programming experience\n"
      ]
    },
    {
      "cell_type": "code",
      "execution_count": 16,
      "metadata": {
        "id": "65imsaE_lTw5"
      },
      "outputs": [],
      "source": [
        "my_list = ['Red',5,True]"
      ]
    },
    {
      "cell_type": "markdown",
      "metadata": {
        "id": "ptb2vtmllTw5"
      },
      "source": [
        "Let's see what the list looks like:"
      ]
    },
    {
      "cell_type": "code",
      "execution_count": 18,
      "metadata": {
        "colab": {
          "base_uri": "https://localhost:8080/"
        },
        "id": "mnOxGWFZlTw6",
        "outputId": "773eed3e-52d6-42cf-fdd9-4219363b0b74"
      },
      "outputs": [
        {
          "output_type": "execute_result",
          "data": {
            "text/plain": [
              "['Red', 5, True]"
            ]
          },
          "metadata": {},
          "execution_count": 18
        }
      ],
      "source": [
        "my_list"
      ]
    },
    {
      "cell_type": "markdown",
      "metadata": {
        "id": "Tks0JPOZlTw6"
      },
      "source": [
        "**Q6: Complete the following `print` and `if` statements by accessing the appropriate elements from `my_list`.**\n",
        "\n",
        "*Hint*: Use the list indexing notation `[]`."
      ]
    },
    {
      "cell_type": "code",
      "execution_count": 19,
      "metadata": {
        "colab": {
          "base_uri": "https://localhost:8080/"
        },
        "id": "xobXm-rElTw7",
        "outputId": "a302887a-8a27-455b-f414-fa03d073456f"
      },
      "outputs": [
        {
          "output_type": "stream",
          "name": "stdout",
          "text": [
            "My favorite color is Red\n"
          ]
        }
      ],
      "source": [
        "print('My favorite color is', my_list[0])"
      ]
    },
    {
      "cell_type": "code",
      "execution_count": 20,
      "metadata": {
        "colab": {
          "base_uri": "https://localhost:8080/"
        },
        "id": "d3bNV6iflTw7",
        "outputId": "2a06c438-1737-4cdb-fd19-28cb0dd09c6f"
      },
      "outputs": [
        {
          "output_type": "stream",
          "name": "stdout",
          "text": [
            "I have 5 pet(s).\n"
          ]
        }
      ],
      "source": [
        "print('I have {} pet(s).'.format(my_list[1]))"
      ]
    },
    {
      "cell_type": "code",
      "execution_count": 21,
      "metadata": {
        "colab": {
          "base_uri": "https://localhost:8080/"
        },
        "id": "E8Vt8Wr9lTw7",
        "outputId": "8708047c-d6f7-4340-cf23-6d4d56504fab"
      },
      "outputs": [
        {
          "output_type": "stream",
          "name": "stdout",
          "text": [
            "I have previous programming experience\n"
          ]
        }
      ],
      "source": [
        "if my_list[2]:\n",
        "    print(\"I have previous programming experience\")\n",
        "else:\n",
        "    print(\"I do not have previous programming experience\")"
      ]
    },
    {
      "cell_type": "markdown",
      "metadata": {
        "id": "8lRFogDPlTw7"
      },
      "source": [
        "**Q7: Add your favorite single digit number to the end of the list using the appropriate list method.**"
      ]
    },
    {
      "cell_type": "code",
      "execution_count": 22,
      "metadata": {
        "id": "-74y3wJalTw7"
      },
      "outputs": [],
      "source": [
        "my_list.append(3)"
      ]
    },
    {
      "cell_type": "markdown",
      "metadata": {
        "id": "tXCtYHgalTw8"
      },
      "source": [
        "Let's see if the number shows up in the list."
      ]
    },
    {
      "cell_type": "code",
      "execution_count": 23,
      "metadata": {
        "colab": {
          "base_uri": "https://localhost:8080/"
        },
        "id": "4eqn_AHzlTw8",
        "outputId": "60932547-cf1a-4eb1-cf64-211bc4ba5cc3"
      },
      "outputs": [
        {
          "output_type": "execute_result",
          "data": {
            "text/plain": [
              "['Red', 5, True, 3]"
            ]
          },
          "metadata": {},
          "execution_count": 23
        }
      ],
      "source": [
        "my_list"
      ]
    },
    {
      "cell_type": "markdown",
      "metadata": {
        "id": "W5jEVLl4lTw8"
      },
      "source": [
        "**Q8: Remove the first element of the list, using the appropriate list method.**\n",
        "\n",
        "*Hint*: Check out methods of list here: https://www.w3schools.com/python/python_ref_list.asp"
      ]
    },
    {
      "cell_type": "code",
      "execution_count": 24,
      "metadata": {
        "colab": {
          "base_uri": "https://localhost:8080/",
          "height": 36
        },
        "id": "WWqPoPiBlTw8",
        "outputId": "c02c9c98-1943-41e9-b533-85fa40461125"
      },
      "outputs": [
        {
          "output_type": "execute_result",
          "data": {
            "text/plain": [
              "'Red'"
            ],
            "application/vnd.google.colaboratory.intrinsic+json": {
              "type": "string"
            }
          },
          "metadata": {},
          "execution_count": 24
        }
      ],
      "source": [
        "my_list.pop(0)"
      ]
    },
    {
      "cell_type": "code",
      "execution_count": 25,
      "metadata": {
        "colab": {
          "base_uri": "https://localhost:8080/"
        },
        "id": "EX3uI4vHlTw8",
        "outputId": "70274fca-3997-47b2-9eac-33d0ad9ebb89"
      },
      "outputs": [
        {
          "output_type": "execute_result",
          "data": {
            "text/plain": [
              "[5, True, 3]"
            ]
          },
          "metadata": {},
          "execution_count": 25
        }
      ],
      "source": [
        "my_list"
      ]
    },
    {
      "cell_type": "markdown",
      "metadata": {
        "id": "s0Gp7HpGlTw8"
      },
      "source": [
        "**Q9: Complete the `print` statement below to display the number of elements in `my_list`.**"
      ]
    },
    {
      "cell_type": "code",
      "execution_count": 27,
      "metadata": {
        "colab": {
          "base_uri": "https://localhost:8080/"
        },
        "id": "fiy2SzcPlTxA",
        "outputId": "515c7dba-1bec-4ca0-c652-95ca38cf2331"
      },
      "outputs": [
        {
          "output_type": "stream",
          "name": "stdout",
          "text": [
            "The list has 3 elements.\n"
          ]
        }
      ],
      "source": [
        "print(\"The list has {} elements.\".format(len(my_list)))"
      ]
    },
    {
      "cell_type": "markdown",
      "metadata": {
        "id": "WKPDb-AMlTxA"
      },
      "source": [
        "Well done, you're making good progress! Save your work before continuing"
      ]
    },
    {
      "cell_type": "code",
      "execution_count": 28,
      "metadata": {
        "colab": {
          "base_uri": "https://localhost:8080/"
        },
        "id": "ykmCmixFlTxA",
        "outputId": "9dc865f1-c93b-48f9-a09b-1271655aa87c"
      },
      "outputs": [
        {
          "output_type": "stream",
          "name": "stdout",
          "text": [
            "[jovian] Detected Colab notebook...\u001b[0m\n",
            "[jovian] jovian.commit() is no longer required on Google Colab. If you ran this notebook from Jovian, \n",
            "then just save this file in Colab using Ctrl+S/Cmd+S and it will be updated on Jovian. \n",
            "Also, you can also delete this cell, it's no longer necessary.\u001b[0m\n"
          ]
        }
      ],
      "source": [
        "jovian.commit(project=project_name,environment=None)"
      ]
    },
    {
      "cell_type": "markdown",
      "metadata": {
        "id": "S8JVsRcXlTxA"
      },
      "source": [
        "## Problem 3 - Conditions and loops\n",
        "\n",
        "**Q10: Calculate and display the sum of all the numbers divisible by 7 between 18 and 534 i.e. `21+28+35+...+525+532`**.\n",
        "\n",
        "*Hint*: One way to do this is to loop over a `range` using `for` and use an `if` statement inside it."
      ]
    },
    {
      "cell_type": "code",
      "execution_count": 29,
      "metadata": {
        "id": "gB9v_KRXlTxA"
      },
      "outputs": [],
      "source": [
        "# store the final answer in this variable\n",
        "sum_of_numbers = 0\n",
        "\n",
        "# perform the calculation here\n",
        "for num in range(18,535):\n",
        "  if num % 7 == 0:\n",
        "    sum_of_numbers += num"
      ]
    },
    {
      "cell_type": "code",
      "execution_count": 31,
      "metadata": {
        "colab": {
          "base_uri": "https://localhost:8080/"
        },
        "id": "Opv2kMHtlTxB",
        "outputId": "90d27d53-8a73-4d7c-b804-7e803432f889"
      },
      "outputs": [
        {
          "output_type": "stream",
          "name": "stdout",
          "text": [
            "The sum of all the numbers divisible by 7 between 18 and 534 is 20461\n"
          ]
        }
      ],
      "source": [
        "print('The sum of all the numbers divisible by 7 between 18 and 534 is', sum_of_numbers)"
      ]
    },
    {
      "cell_type": "markdown",
      "metadata": {
        "id": "zt-5ttKhlTxB"
      },
      "source": [
        "If you are not able to figure out the solution to this problem, you can ask for hints on the community forum: https://jovian.ml/forum/t/assignment-1-python-practice/7761 . Remember to save your work before moving forward."
      ]
    },
    {
      "cell_type": "code",
      "execution_count": 32,
      "metadata": {
        "colab": {
          "base_uri": "https://localhost:8080/"
        },
        "id": "N_Jt9YK8lTxB",
        "outputId": "03c1fb58-7e9c-47ab-9c60-153a8b6b3b8f"
      },
      "outputs": [
        {
          "output_type": "stream",
          "name": "stdout",
          "text": [
            "[jovian] Detected Colab notebook...\u001b[0m\n",
            "[jovian] jovian.commit() is no longer required on Google Colab. If you ran this notebook from Jovian, \n",
            "then just save this file in Colab using Ctrl+S/Cmd+S and it will be updated on Jovian. \n",
            "Also, you can also delete this cell, it's no longer necessary.\u001b[0m\n"
          ]
        }
      ],
      "source": [
        "jovian.commit(project=project_name,environment=None)"
      ]
    },
    {
      "cell_type": "markdown",
      "metadata": {
        "id": "R23Wx3uxlTxB"
      },
      "source": [
        "## Problem 4 - Flying to the Bahamas\n",
        "\n",
        "**Q11: A travel company wants to fly a plane to the Bahamas. Flying the plane costs 5000 dollars. So far, 29 people have signed up for the trip. If the company charges 200 dollars per ticket, what is the profit made by the company?**\n",
        "\n",
        "Fill in values or arithmetic expressions for the variables below."
      ]
    },
    {
      "cell_type": "code",
      "execution_count": 33,
      "metadata": {
        "id": "QPy9sORklTxB"
      },
      "outputs": [],
      "source": [
        "cost_of_flying_plane = 5000"
      ]
    },
    {
      "cell_type": "code",
      "execution_count": 34,
      "metadata": {
        "id": "QwgRbgjnlTxB"
      },
      "outputs": [],
      "source": [
        "number_of_passengers = 29"
      ]
    },
    {
      "cell_type": "code",
      "execution_count": 35,
      "metadata": {
        "id": "WYe3aqlUlTxB"
      },
      "outputs": [],
      "source": [
        "price_of_ticket = 200"
      ]
    },
    {
      "cell_type": "code",
      "execution_count": 36,
      "metadata": {
        "id": "Xi-yNrjmlTxB"
      },
      "outputs": [],
      "source": [
        "profit = (number_of_passengers * price_of_ticket) - cost_of_flying_plane"
      ]
    },
    {
      "cell_type": "code",
      "execution_count": 37,
      "metadata": {
        "colab": {
          "base_uri": "https://localhost:8080/"
        },
        "id": "G8uR63jTlTxC",
        "outputId": "a3317632-72e0-4928-81e5-2bfc89ff4ad0"
      },
      "outputs": [
        {
          "output_type": "stream",
          "name": "stdout",
          "text": [
            "The company makes of a profit of 800 dollars\n"
          ]
        }
      ],
      "source": [
        "print('The company makes of a profit of {} dollars'.format(profit))"
      ]
    },
    {
      "cell_type": "markdown",
      "metadata": {
        "id": "vtnt2asAlTxC"
      },
      "source": [
        "**Q11b (Optional): Out of the 29 people who took the flight, only 12 buy tickets to return from the Bahamas on the same plane. If the flying the plane back also costs 5000 dollars, and does the company make an overall profit or loss? The company charges the same fee of 200 dollars per ticket for the return flight.**\n",
        "\n",
        "Use an `if` statement to display the result."
      ]
    },
    {
      "cell_type": "code",
      "execution_count": 38,
      "metadata": {
        "id": "iBzk3Qi4lTxC"
      },
      "outputs": [],
      "source": [
        "# this is optional\n",
        "profit_return = (12 * price_of_ticket) - cost_of_flying_plane\n",
        "total_profit = profit + profit_return"
      ]
    },
    {
      "cell_type": "code",
      "execution_count": 40,
      "metadata": {
        "colab": {
          "base_uri": "https://localhost:8080/"
        },
        "id": "h9d-pQwGlTxC",
        "outputId": "6bd08a63-4e3e-4036-837a-3d641f6324cc"
      },
      "outputs": [
        {
          "output_type": "stream",
          "name": "stdout",
          "text": [
            "The company makes an overall loss of -1800 dollars\n"
          ]
        }
      ],
      "source": [
        "# this is optional\n",
        "if total_profit > 0:\n",
        "    print(\"The company makes an overall profit of {} dollars\".format(total_profit))\n",
        "else:\n",
        "    print(\"The company makes an overall loss of {} dollars\".format(total_profit))"
      ]
    },
    {
      "cell_type": "markdown",
      "metadata": {
        "id": "mqOk43kclTxD"
      },
      "source": [
        "Great work so far! Want to take a break? Remember to save and upload your notebook to record your progress."
      ]
    },
    {
      "cell_type": "code",
      "execution_count": 41,
      "metadata": {
        "colab": {
          "base_uri": "https://localhost:8080/"
        },
        "id": "mhbARuC8lTxD",
        "outputId": "8a534e8f-c9cc-4cda-e5bd-df743fc92100"
      },
      "outputs": [
        {
          "output_type": "stream",
          "name": "stdout",
          "text": [
            "[jovian] Detected Colab notebook...\u001b[0m\n",
            "[jovian] jovian.commit() is no longer required on Google Colab. If you ran this notebook from Jovian, \n",
            "then just save this file in Colab using Ctrl+S/Cmd+S and it will be updated on Jovian. \n",
            "Also, you can also delete this cell, it's no longer necessary.\u001b[0m\n"
          ]
        }
      ],
      "source": [
        "jovian.commit(project=project_name,environment=None)"
      ]
    },
    {
      "cell_type": "markdown",
      "metadata": {
        "id": "TLJywMkRlTxD"
      },
      "source": [
        "## Problem 5 - Twitter Sentiment Analysis\n",
        "\n",
        "Are your ready to perform some *Data Analysis with Python*? In this problem, we'll analyze some fictional tweets and find out whether the overall sentiment of Twitter users is happy or sad. This is a simplified version of an important real world problem called *sentiment analysis*.\n",
        "\n",
        "Before we begin, we need a list of tweets to analyze. We're picking a small number of tweets here, but the exact same analysis can also be done for thousands, or even millions of tweets. The collection of data that we perform analysis on is often called a *dataset*."
      ]
    },
    {
      "cell_type": "code",
      "execution_count": 43,
      "metadata": {
        "id": "_9wHzIvzlTxD"
      },
      "outputs": [],
      "source": [
        "tweets = [\n",
        "    \"Wow, what a great day today!! #sunshine\",\n",
        "    \"I feel sad about the things going on around us. #covid19\",\n",
        "    \"I'm really excited to learn Python with @JovianML #zerotopandas\",\n",
        "    \"This is a really nice song. #linkinpark\",\n",
        "    \"The python programming language is useful for data science\",\n",
        "    \"Why do bad things happen to me?\",\n",
        "    \"Apple announces the release of the new iPhone 12. Fans are excited.\",\n",
        "    \"Spent my day with family!! #happy\",\n",
        "    \"Check out my blog post on common string operations in Python. #zerotopandas\",\n",
        "    \"Freecodecamp has great coding tutorials. #skillup\"\n",
        "]"
      ]
    },
    {
      "cell_type": "markdown",
      "metadata": {
        "id": "O242CBnKlTxE"
      },
      "source": [
        "Let's begin by answering a very simple but important question about our dataset.\n",
        "\n",
        "**Q12: How many tweets does the dataset contain?**"
      ]
    },
    {
      "cell_type": "code",
      "execution_count": 44,
      "metadata": {
        "id": "o8oZMZ6ElTxE"
      },
      "outputs": [],
      "source": [
        "number_of_tweets = len(tweets)"
      ]
    },
    {
      "cell_type": "markdown",
      "metadata": {
        "id": "yo3Bs8u7lTxE"
      },
      "source": [
        "Let's create two lists of words: `happy_words` and `sad_words`. We will use these to check if a tweet is happy or sad."
      ]
    },
    {
      "cell_type": "code",
      "execution_count": 45,
      "metadata": {
        "id": "rbaZMiM7lTxE"
      },
      "outputs": [],
      "source": [
        "happy_words = ['great', 'excited', 'happy', 'nice', 'wonderful', 'amazing', 'good', 'best']"
      ]
    },
    {
      "cell_type": "code",
      "execution_count": 46,
      "metadata": {
        "id": "D5Xb4vi2lTxE"
      },
      "outputs": [],
      "source": [
        "sad_words = ['sad', 'bad', 'tragic', 'unhappy', 'worst']"
      ]
    },
    {
      "cell_type": "markdown",
      "metadata": {
        "id": "j2IZqvAClTxE"
      },
      "source": [
        "To identify whether a tweet is happy, we can simply check if contains any of the words from `happy_words`. Here's an example:"
      ]
    },
    {
      "cell_type": "code",
      "execution_count": 47,
      "metadata": {
        "id": "KKd_7GyRlTxF"
      },
      "outputs": [],
      "source": [
        "sample_tweet = tweets[0]"
      ]
    },
    {
      "cell_type": "code",
      "execution_count": 48,
      "metadata": {
        "colab": {
          "base_uri": "https://localhost:8080/",
          "height": 36
        },
        "id": "IrXIdTiBlTxF",
        "outputId": "f3ed15aa-9d8f-4f0e-98ac-0ce9e51dedfd"
      },
      "outputs": [
        {
          "output_type": "execute_result",
          "data": {
            "text/plain": [
              "'Wow, what a great day today!! #sunshine'"
            ],
            "application/vnd.google.colaboratory.intrinsic+json": {
              "type": "string"
            }
          },
          "metadata": {},
          "execution_count": 48
        }
      ],
      "source": [
        "sample_tweet"
      ]
    },
    {
      "cell_type": "code",
      "execution_count": 49,
      "metadata": {
        "id": "HevnVfEmlTxF"
      },
      "outputs": [],
      "source": [
        "is_tweet_happy = False\n",
        "\n",
        "# Get a word from happy_words\n",
        "for word in happy_words:\n",
        "    # Check if the tweet contains the word\n",
        "    if word in sample_tweet:\n",
        "        # Word found! Mark the tweet as happy\n",
        "        is_tweet_happy = True"
      ]
    },
    {
      "cell_type": "markdown",
      "metadata": {
        "id": "vjXu55BplTxF"
      },
      "source": [
        "Do you understand what we're doing above?\n",
        "\n",
        "> For each word in the list of happy words, we check if is a part of the selected tweet. If the word is indded a part of the tweet, we set the variable `is_tweet_happy` to `True`."
      ]
    },
    {
      "cell_type": "code",
      "execution_count": 50,
      "metadata": {
        "colab": {
          "base_uri": "https://localhost:8080/"
        },
        "id": "OMkA1La3lTxF",
        "outputId": "fdaa6962-2d59-412f-fed4-69aed67d0ba5"
      },
      "outputs": [
        {
          "output_type": "execute_result",
          "data": {
            "text/plain": [
              "True"
            ]
          },
          "metadata": {},
          "execution_count": 50
        }
      ],
      "source": [
        "is_tweet_happy"
      ]
    },
    {
      "cell_type": "markdown",
      "metadata": {
        "id": "22bjBTZqlTxF"
      },
      "source": [
        "**Q13: Determine the number of tweets in the dataset that can be classified as happy.**\n",
        "\n",
        "*Hint*: You'll need to use a loop inside another loop to do this. Use the code from the example shown above."
      ]
    },
    {
      "cell_type": "code",
      "execution_count": 61,
      "metadata": {
        "id": "2qouGPeslTxF"
      },
      "outputs": [],
      "source": [
        "# store the final answer in this variable\n",
        "number_of_happy_tweets = 0\n",
        "\n",
        "# perform the calculations here\n",
        "for sample_tweet in tweets:\n",
        "  for word in happy_words:\n",
        "      # Check if the tweet contains the word\n",
        "      if word in sample_tweet:\n",
        "          # Word found! Mark the tweet as happy\n",
        "          # print(sample_tweet)\n",
        "          number_of_happy_tweets += 1\n",
        "\n",
        "\n",
        ""
      ]
    },
    {
      "cell_type": "code",
      "execution_count": 62,
      "metadata": {
        "colab": {
          "base_uri": "https://localhost:8080/"
        },
        "id": "whfbomnDlTxG",
        "outputId": "509dc4f7-6981-48eb-a231-15468e619f7a"
      },
      "outputs": [
        {
          "output_type": "stream",
          "name": "stdout",
          "text": [
            "Number of happy tweets: 6\n"
          ]
        }
      ],
      "source": [
        "print(\"Number of happy tweets:\", number_of_happy_tweets)"
      ]
    },
    {
      "cell_type": "markdown",
      "metadata": {
        "id": "wFcfHxtvlTxG"
      },
      "source": [
        "If you are not able to figure out the solution to this problem, you can ask for hints on the community forum: https://jovian.ml/forum/t/assignment-1-python-practice/7761 . Also try adding `print` statements inside your loops to inspect variables and make sure your logic is correct."
      ]
    },
    {
      "cell_type": "markdown",
      "metadata": {
        "id": "qRvqTV0jlTxG"
      },
      "source": [
        "**Q14: What fraction of the total number of tweets are happy?**\n",
        "\n",
        "For example, if 2 out of 10 tweets are happy, then the answer is `2/10` i.e. `0.2`."
      ]
    },
    {
      "cell_type": "code",
      "execution_count": 63,
      "metadata": {
        "id": "RgY9tvtolTxG"
      },
      "outputs": [],
      "source": [
        "happy_fraction = number_of_happy_tweets/number_of_tweets"
      ]
    },
    {
      "cell_type": "code",
      "execution_count": 64,
      "metadata": {
        "colab": {
          "base_uri": "https://localhost:8080/"
        },
        "id": "hng_aIiXlTxH",
        "outputId": "1da443e5-b39f-4215-b33c-bc7acba9ba52"
      },
      "outputs": [
        {
          "output_type": "stream",
          "name": "stdout",
          "text": [
            "The fraction of happy tweets is: 0.6\n"
          ]
        }
      ],
      "source": [
        "print(\"The fraction of happy tweets is:\", happy_fraction)"
      ]
    },
    {
      "cell_type": "markdown",
      "metadata": {
        "id": "Low7S33rlTxH"
      },
      "source": [
        "To identify whether a tweet is sad, we can simply check if contains any of the words from `sad_words`.\n",
        "\n",
        "**Q15: Determine the number of tweets in the dataset that can be classified as sad.**"
      ]
    },
    {
      "cell_type": "code",
      "execution_count": 67,
      "metadata": {
        "id": "WdWTOxBjlTxH"
      },
      "outputs": [],
      "source": [
        "# store the final answer in this variable\n",
        "number_of_sad_tweets = 0\n",
        "\n",
        "# perform the calculations here\n",
        "for sample_tweet in tweets:\n",
        "  for word in sad_words:\n",
        "      # Check if the tweet contains the word\n",
        "      if word in sample_tweet:\n",
        "          # Word found! Mark the tweet as sad\n",
        "          # print(sample_tweet)\n",
        "          number_of_sad_tweets += 1"
      ]
    },
    {
      "cell_type": "code",
      "execution_count": 68,
      "metadata": {
        "colab": {
          "base_uri": "https://localhost:8080/"
        },
        "id": "ajGfMTPMlTxH",
        "outputId": "b2519208-8cd0-401c-e01c-9192180cb603"
      },
      "outputs": [
        {
          "output_type": "stream",
          "name": "stdout",
          "text": [
            "Number of sad tweets: 2\n"
          ]
        }
      ],
      "source": [
        "print(\"Number of sad tweets:\", number_of_sad_tweets)"
      ]
    },
    {
      "cell_type": "markdown",
      "metadata": {
        "id": "sUK4xfWvlTxH"
      },
      "source": [
        "**Q16: What fraction of the total number of tweets are sad?**"
      ]
    },
    {
      "cell_type": "code",
      "execution_count": 69,
      "metadata": {
        "id": "UH3Y0YyclTxH"
      },
      "outputs": [],
      "source": [
        "sad_fraction = number_of_sad_tweets/number_of_tweets"
      ]
    },
    {
      "cell_type": "code",
      "execution_count": 70,
      "metadata": {
        "colab": {
          "base_uri": "https://localhost:8080/"
        },
        "id": "_ixT5EAZlTxI",
        "outputId": "8b960675-8986-4b28-b567-316af8d6a3ac"
      },
      "outputs": [
        {
          "output_type": "stream",
          "name": "stdout",
          "text": [
            "The fraction of sad tweets is: 0.2\n"
          ]
        }
      ],
      "source": [
        "print(\"The fraction of sad tweets is:\", sad_fraction)"
      ]
    },
    {
      "cell_type": "markdown",
      "metadata": {
        "id": "9W6fkT3llTxI"
      },
      "source": [
        "The rest of this problem is optional. Let's save your work before continuing."
      ]
    },
    {
      "cell_type": "code",
      "execution_count": 71,
      "metadata": {
        "colab": {
          "base_uri": "https://localhost:8080/"
        },
        "id": "LsC9uQ6DlTxI",
        "outputId": "54c9d6d2-cf3e-4500-d07d-c3c96aa2b75f"
      },
      "outputs": [
        {
          "output_type": "stream",
          "name": "stdout",
          "text": [
            "[jovian] Detected Colab notebook...\u001b[0m\n",
            "[jovian] jovian.commit() is no longer required on Google Colab. If you ran this notebook from Jovian, \n",
            "then just save this file in Colab using Ctrl+S/Cmd+S and it will be updated on Jovian. \n",
            "Also, you can also delete this cell, it's no longer necessary.\u001b[0m\n"
          ]
        }
      ],
      "source": [
        "jovian.commit(project=project_name,environment=None)"
      ]
    },
    {
      "cell_type": "markdown",
      "metadata": {
        "id": "KQKST0STlTxI"
      },
      "source": [
        "Great work, even with some basic analysis, we already know a lot about the sentiment of the tweets given to us. Let us now define a metric called \"sentiment score\", to summarize the overall sentiment of the tweets.\n",
        "\n",
        "**Q16b (Optional): Calculate the sentiment score, which is defined as the difference betweek the fraction of happy tweets and the fraction of sad tweets.**"
      ]
    },
    {
      "cell_type": "code",
      "execution_count": 72,
      "metadata": {
        "id": "gjNi0tlFlTxI"
      },
      "outputs": [],
      "source": [
        "sentiment_score = happy_fraction/sad_fraction"
      ]
    },
    {
      "cell_type": "code",
      "execution_count": 73,
      "metadata": {
        "colab": {
          "base_uri": "https://localhost:8080/"
        },
        "id": "3w8ASojRlTxI",
        "outputId": "bdca043b-3ceb-4cbc-ad94-b67a3d92a01d"
      },
      "outputs": [
        {
          "output_type": "stream",
          "name": "stdout",
          "text": [
            "The sentiment score for the given tweets is 2.9999999999999996\n"
          ]
        }
      ],
      "source": [
        "print(\"The sentiment score for the given tweets is\", sentiment_score)"
      ]
    },
    {
      "cell_type": "markdown",
      "metadata": {
        "id": "YU7YcQ9blTxJ"
      },
      "source": [
        "In a real world scenario, we could calculate & record the sentiment score for all the tweets sent out every day. This information can be used to plot a graph and study the trends in the changing sentiment of the world. The following graph was creating using the Python data visualization library `matplotlib`, which we'll cover later in the course.\n",
        "\n",
        "<img src=\"https://i.imgur.com/6CCIwCb.png\" style=\"width:400px\">\n",
        "\n",
        "What does the sentiment score represent? Based on the value of the sentiment score, can you identify if the overall sentiment of the dataset is happy or sad?\n",
        "\n",
        "**Q16c (Optional): Display whether the overall sentiment of the given dataset of tweets is happy or sad, using the sentiment score.**"
      ]
    },
    {
      "cell_type": "code",
      "execution_count": 74,
      "metadata": {
        "colab": {
          "base_uri": "https://localhost:8080/"
        },
        "id": "FTooy4zYlTxJ",
        "outputId": "4cd4c856-3c30-49ab-f01a-23ba984b7d88"
      },
      "outputs": [
        {
          "output_type": "stream",
          "name": "stdout",
          "text": [
            "The overall sentiment is happy\n"
          ]
        }
      ],
      "source": [
        "if sentiment_score > 0:\n",
        "    print(\"The overall sentiment is happy\")\n",
        "else:\n",
        "    print(\"The overall sentiment is sad\")"
      ]
    },
    {
      "cell_type": "markdown",
      "metadata": {
        "id": "GH59BG2DlTxJ"
      },
      "source": [
        "Finally, it's also important to track how many tweets are neutral i.e. neither happy nor sad. If a large fraction of tweets are marked neutral, maybe we need to improve our lists of happy and sad words.\n",
        "\n",
        "**Q16d (Optional): What is the fraction of tweets that are neutral i.e. neither happy nor sad.**"
      ]
    },
    {
      "cell_type": "code",
      "execution_count": 75,
      "metadata": {
        "colab": {
          "base_uri": "https://localhost:8080/"
        },
        "id": "cwbdzEUdlTxJ",
        "outputId": "1b90b881-667d-41e2-f1e9-d91eb9e422df"
      },
      "outputs": [
        {
          "output_type": "stream",
          "name": "stdout",
          "text": [
            "The python programming language is useful for data science\n",
            "Check out my blog post on common string operations in Python. #zerotopandas\n"
          ]
        }
      ],
      "source": [
        "# store the final answer in this variable\n",
        "number_of_neutral_tweets = 0\n",
        "\n",
        "# perform the calculation here\n",
        "for sample_tweet in tweets:\n",
        "  is_sad_tweet = False\n",
        "  is_happy_tweet = False\n",
        "  for word in sad_words:\n",
        "      # Check if the tweet contains the word\n",
        "      if word in sample_tweet:\n",
        "          # Word found! Mark the tweet as sad\n",
        "          # print(sample_tweet)\n",
        "          is_sad_tweet = True\n",
        "  for word in happy_words:\n",
        "      # Check if the tweet contains the word\n",
        "      if word in sample_tweet:\n",
        "          # Word found! Mark the tweet as sad\n",
        "          # print(sample_tweet)\n",
        "          is_happy_tweet = True\n",
        "  if is_happy_tweet == False and is_sad_tweet == False:\n",
        "    print(sample_tweet)\n",
        "    number_of_neutral_tweets += 1"
      ]
    },
    {
      "cell_type": "code",
      "execution_count": 76,
      "metadata": {
        "id": "F1sZHgGOlTxJ"
      },
      "outputs": [],
      "source": [
        "neutral_fraction = number_of_neutral_tweets/number_of_tweets"
      ]
    },
    {
      "cell_type": "code",
      "execution_count": 77,
      "metadata": {
        "colab": {
          "base_uri": "https://localhost:8080/"
        },
        "id": "qQS4aq-slTxJ",
        "outputId": "349ecf12-25a3-4bcd-f7eb-0e69b5aa35c5"
      },
      "outputs": [
        {
          "output_type": "stream",
          "name": "stdout",
          "text": [
            "The fraction of neutral tweets is 0.2\n"
          ]
        }
      ],
      "source": [
        "print('The fraction of neutral tweets is', neutral_fraction)"
      ]
    },
    {
      "cell_type": "markdown",
      "metadata": {
        "id": "p2N1W8YelTxJ"
      },
      "source": [
        "Ponder upon these questions and try some experiments to hone your skills further:\n",
        "\n",
        "* What are the limitations of our approach? When will it go wrong or give incorrect results?\n",
        "* How can we improve our approach to address the limitations?\n",
        "* What are some other questions you would like to ask, given a list of tweets?\n",
        "* Try collecting some real tweets from your Twitter timeline and repeat this analysis. Do the results make sense?\n",
        "\n",
        "**IMPORTANT NOTE**: If you want to try out these experiments, please create a new notebook using the \"New Notebook\" button on your Jovian.ml profile, to avoid making unintended changes to your assignment submission notebook."
      ]
    },
    {
      "cell_type": "markdown",
      "metadata": {
        "id": "Sbw66NColTxJ"
      },
      "source": [
        "## Submission\n",
        "\n",
        "Congratulations on making it this far! You've reached the end of this assignment, and you just completed your first data analysis problem. It's time to record one final version of your notebook for submission.\n",
        "\n",
        "Make a submission here by filling the submission form: https://jovian.ml/learn/data-analysis-with-python-zero-to-pandas/assignment/assignment-1-python-basics-practice"
      ]
    },
    {
      "cell_type": "code",
      "execution_count": 78,
      "metadata": {
        "scrolled": false,
        "colab": {
          "base_uri": "https://localhost:8080/"
        },
        "id": "WuCv6BaRlTxK",
        "outputId": "5fe1b598-8dd1-46ae-f7b5-b60ac88d6d4e"
      },
      "outputs": [
        {
          "output_type": "stream",
          "name": "stdout",
          "text": [
            "[jovian] Detected Colab notebook...\u001b[0m\n",
            "[jovian] jovian.commit() is no longer required on Google Colab. If you ran this notebook from Jovian, \n",
            "then just save this file in Colab using Ctrl+S/Cmd+S and it will be updated on Jovian. \n",
            "Also, you can also delete this cell, it's no longer necessary.\u001b[0m\n"
          ]
        }
      ],
      "source": [
        "jovian.commit(project=project_name,environment=None)"
      ]
    },
    {
      "cell_type": "code",
      "source": [],
      "metadata": {
        "id": "RGrTtCphwL6e"
      },
      "execution_count": null,
      "outputs": []
    }
  ],
  "metadata": {
    "kernelspec": {
      "display_name": "Python 3",
      "language": "python",
      "name": "python3"
    },
    "language_info": {
      "codemirror_mode": {
        "name": "ipython",
        "version": 3
      },
      "file_extension": ".py",
      "mimetype": "text/x-python",
      "name": "python",
      "nbconvert_exporter": "python",
      "pygments_lexer": "ipython3",
      "version": "3.6.13"
    },
    "colab": {
      "provenance": []
    }
  },
  "nbformat": 4,
  "nbformat_minor": 0
}