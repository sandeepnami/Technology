{
 "cells": [
  {
   "cell_type": "markdown",
   "metadata": {},
   "source": [
    "# Project"
   ]
  },
  {
   "cell_type": "code",
   "execution_count": 1,
   "metadata": {},
   "outputs": [
    {
     "name": "stdout",
     "output_type": "stream",
     "text": [
      "['1', '2', '3', '4']\n",
      "['5', '6', '7', '8']\n",
      "['-2', '-3', '-4', '-5']\n",
      "\n"
     ]
    }
   ],
   "source": [
    "\"\"\"\n",
    "Week 3 practice project solution for Python Data Analysis\n",
    "Reading and writing CSV files using lists\n",
    "\"\"\"\n",
    "\n",
    "import csv\n",
    "\n",
    "\n",
    "\n",
    "#########################################################\n",
    "# Part 1 - Week 3\n",
    "\n",
    "\n",
    "\n",
    "def print_table(table):\n",
    "    \"\"\"\n",
    "    Echo a nested list to the console\n",
    "    \"\"\"\n",
    "    for row in table:\n",
    "        print(row) \n",
    "\n",
    "\n",
    "def read_csv_file(file_name):\n",
    "    \"\"\"\n",
    "    Given a CSV file, read the data into a nested list\n",
    "    Input: String corresponding to comma-separated  CSV file\n",
    "    Output: Nested list consisting of the fields in the CSV file\n",
    "    \"\"\" \n",
    "       \n",
    "    with open(file_name, newline='') as csv_file:       # don't need to explicitly close the file now\n",
    "        csv_table = []\n",
    "        csv_reader = csv.reader(csv_file, delimiter=',')\n",
    "        for row in csv_reader:\n",
    "            csv_table.append(row)\n",
    "    return csv_table\n",
    "\n",
    "\n",
    "\n",
    "def write_csv_file(csv_table, file_name):\n",
    "    \"\"\"\n",
    "    Input: Nested list csv_table and a string file_name\n",
    "    Action: Write fields in csv_table into a comma-separated CSV file with the name file_name\n",
    "    \"\"\"\n",
    "    \n",
    "    with open(file_name, 'w', newline='') as csv_file:\n",
    "        csv_writer = csv.writer(csv_file, delimiter=',', quoting=csv.QUOTE_MINIMAL)\n",
    "        for row in csv_table:\n",
    "            csv_writer.writerow(row)\n",
    "\n",
    "        \n",
    "def test_part1_code():\n",
    "    \"\"\"\n",
    "    Run examples that test the functions for part 1\n",
    "    \"\"\"\n",
    "    \n",
    "    # Simple test for reader\n",
    "    test_table = read_csv_file(\"test_case.csv\")  # create a small CSV for this test\n",
    "    print_table(test_table)\n",
    "    print()\n",
    "\n",
    "    # Test the writer\n",
    "    cancer_risk_table = read_csv_file(\"cancer_risk05_v4_county.csv\")\n",
    "    write_csv_file(cancer_risk_table, \"cancer_risk05_v4_county_copy.csv\")\n",
    "    cancer_risk_copy = read_csv_file(\"cancer_risk05_v4_county_copy.csv\")\n",
    "    \n",
    "    # Test whether two tables are the same\n",
    "    for row in range(len(cancer_risk_table)):\n",
    "        for col in range(len(cancer_risk_table[0])):\n",
    "            if cancer_risk_table[row][col] != cancer_risk_copy[row][col]:\n",
    "                print(\"Difference at\", row, col, cancer_risk_table[row][col], cancer_risk_copy[row][col])\n",
    "\n",
    "\n",
    "test_part1_code()\n",
    "\n",
    "\n"
   ]
  },
  {
   "cell_type": "code",
   "execution_count": null,
   "metadata": {},
   "outputs": [],
   "source": []
  }
 ],
 "metadata": {
  "kernelspec": {
   "display_name": "Python 3",
   "language": "python",
   "name": "python3"
  },
  "language_info": {
   "codemirror_mode": {
    "name": "ipython",
    "version": 3
   },
   "file_extension": ".py",
   "mimetype": "text/x-python",
   "name": "python",
   "nbconvert_exporter": "python",
   "pygments_lexer": "ipython3",
   "version": "3.12.0"
  }
 },
 "nbformat": 4,
 "nbformat_minor": 2
}
