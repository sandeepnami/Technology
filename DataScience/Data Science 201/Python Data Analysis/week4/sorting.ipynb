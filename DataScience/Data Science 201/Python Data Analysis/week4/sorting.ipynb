{
 "cells": [
  {
   "cell_type": "markdown",
   "metadata": {},
   "source": [
    "# Sorting"
   ]
  },
  {
   "cell_type": "code",
   "execution_count": 1,
   "metadata": {},
   "outputs": [
    {
     "name": "stdout",
     "output_type": "stream",
     "text": [
      "range data: [0, 1, 2, 3, 4, 5, 6, 7, 8, 9]\n",
      "shuffled data: [5, 7, 9, 4, 3, 8, 2, 1, 6, 0]\n",
      "sorted data: [0, 1, 2, 3, 4, 5, 6, 7, 8, 9]\n",
      "Length of data 10\n",
      "shuffled data: [7, 5, 8, 0, 6, 1, 9, 3, 4, 2]\n",
      "data after sorted: [7, 5, 8, 0, 6, 1, 9, 3, 4, 2]\n",
      "returned from sorted: [0, 1, 2, 3, 4, 5, 6, 7, 8, 9]\n",
      "data tuple: (7, 5, 8, 0, 6, 1, 9, 3, 4, 2)\n",
      "tuple after sort: (7, 5, 8, 0, 6, 1, 9, 3, 4, 2)\n",
      "returned from sorted: [0, 1, 2, 3, 4, 5, 6, 7, 8, 9]\n",
      "data dictionary: {7: 49, 5: 25, 8: 64, 0: 0, 6: 36, 1: 1, 9: 81, 3: 9, 4: 16, 2: 4}\n",
      "returned from sorted: [0, 1, 2, 3, 4, 5, 6, 7, 8, 9]\n"
     ]
    }
   ],
   "source": [
    "\"\"\"\n",
    "Example code to sort sequences.\n",
    "\"\"\"\n",
    "\n",
    "import random\n",
    "\n",
    "# Easily create a list of numbers\n",
    "data = list(range(10))\n",
    "print(\"range data:\", data)\n",
    "\n",
    "# Randomly shuffle those numbers\n",
    "random.shuffle(data)\n",
    "print(\"shuffled data:\", data)\n",
    "\n",
    "# Sort the list of numbers\n",
    "data.sort()\n",
    "print(\"sorted data:\", data)\n",
    "\n",
    "print('Length of data',len(data))\n",
    "\n",
    "# Shuffle it again\n",
    "random.shuffle(data)\n",
    "print(\"shuffled data:\", data)\n",
    "\n",
    "# Use sorted to sort the list\n",
    "newdata = sorted(data)\n",
    "print(\"data after sorted:\", data)\n",
    "print(\"returned from sorted:\", newdata)\n",
    "\n",
    "# Convert to a tuple\n",
    "datatup = tuple(data)\n",
    "print(\"data tuple:\", datatup)\n",
    "\n",
    "# Sort the tuple of numbers\n",
    "# datatup.sort()\n",
    "print(\"tuple after sort:\", datatup)\n",
    "\n",
    "# Use sorted to sort the tuple\n",
    "newdatatup = sorted(datatup)\n",
    "print(\"returned from sorted:\", newdatatup)\n",
    "\n",
    "# Create a dictionary of squares (dictionary comprehension)\n",
    "datamap = {key: key ** 2 for key in datatup}\n",
    "print(\"data dictionary:\", datamap)\n",
    "\n",
    "# Use sorted to sort the dictionary\n",
    "sortmap = sorted(datamap)\n",
    "print(\"returned from sorted:\", sortmap)\n"
   ]
  },
  {
   "cell_type": "markdown",
   "metadata": {},
   "source": [
    "# Lambda"
   ]
  },
  {
   "cell_type": "code",
   "execution_count": 2,
   "metadata": {},
   "outputs": [
    {
     "name": "stdout",
     "output_type": "stream",
     "text": [
      "range data: [0, 1, 2, 3, 4, 5, 6, 7, 8, 9]\n",
      "squares: [0, 1, 4, 9, 16, 25, 36, 49, 64, 81]\n",
      "doubles: [0, 2, 4, 6, 8, 10, 12, 14, 16, 18]\n",
      "random numbers: [2, 2, 3, 4, 2, 2, 4, 2, 6, 2]\n",
      "tuples: [(0, 2), (1, 2), (2, 3), (3, 4), (4, 2), (5, 2), (6, 4), (7, 2), (8, 6), (9, 2)]\n",
      "minimums: [0, 1, 2, 3, 2, 2, 4, 2, 6, 2]\n",
      "filtered: [(4, 2), (5, 2), (6, 4), (7, 2), (8, 6), (9, 2)]\n"
     ]
    }
   ],
   "source": [
    "\"\"\"\n",
    "Examples of creating and using anonymous functions.\n",
    "\"\"\"\n",
    "\n",
    "import random\n",
    "\n",
    "# Easily create a list of numbers\n",
    "data = list(range(10))\n",
    "print(\"range data:\", data)\n",
    "\n",
    "def square(val):\n",
    "    return val ** 2\n",
    "\n",
    "# Square all numbers in the list\n",
    "squares = list(map(square, data))\n",
    "print(\"squares:\", squares)\n",
    "\n",
    "# Double all numbers in the list\n",
    "doubles = list(map(lambda num: num * 2, data))\n",
    "print(\"doubles:\", doubles)\n",
    "\n",
    "# Create a list of random numbers (list comprehension)\n",
    "randnums = [random.randrange(2, num+3) for num in range(10)]\n",
    "print(\"random numbers:\", randnums)\n",
    "\n",
    "# Create a list of tuples\n",
    "tups = list(map(lambda num1, num2: (num1, num2), data, randnums))\n",
    "print(\"tuples:\", tups)\n",
    "\n",
    "# Create a list of the min values in the tuples\n",
    "mins = list(map(lambda pair: min(pair[0], pair[1]), tups))\n",
    "print(\"minimums:\", mins)\n",
    "\n",
    "# Create a list only of tuples where the second item is less than the first\n",
    "newtups = list(filter(lambda pair: pair[1] < pair[0], tups))\n",
    "print(\"filtered:\", newtups)\n"
   ]
  },
  {
   "cell_type": "markdown",
   "metadata": {},
   "source": [
    "# Advanced Sorting"
   ]
  },
  {
   "cell_type": "code",
   "execution_count": 3,
   "metadata": {},
   "outputs": [
    {
     "name": "stdout",
     "output_type": "stream",
     "text": [
      "shuffled data: [3, 7, 5, 9, 2, 0, 4, 8, 6, 1]\n",
      "ascending sort: [0, 1, 2, 3, 4, 5, 6, 7, 8, 9]\n",
      "descending sort: [9, 8, 7, 6, 5, 4, 3, 2, 1, 0]\n",
      "data tuples: [(9, 14), (8, 14), (7, 6), (6, 3), (5, 12), (4, 7), (3, 12), (2, 4), (1, 6), (0, 4)]\n",
      "sorted data tuples: [(0, 4), (1, 6), (2, 4), (3, 12), (4, 7), (5, 12), (6, 3), (7, 6), (8, 14), (9, 14)]\n",
      "sorted by second item: [(6, 3), (0, 4), (2, 4), (1, 6), (7, 6), (4, 7), (3, 12), (5, 12), (8, 14), (9, 14)]\n",
      "sorted by product: [(9, 14), (8, 14), (5, 12), (7, 6), (3, 12), (4, 7), (6, 3), (2, 4), (1, 6), (0, 4)]\n",
      "shuffled tuples: [(1, 6), (3, 12), (4, 7), (6, 3), (7, 6), (0, 4), (2, 4), (5, 12), (9, 14), (8, 14)]\n",
      "tuples after sorted: [(1, 6), (3, 12), (4, 7), (6, 3), (7, 6), (0, 4), (2, 4), (5, 12), (9, 14), (8, 14)]\n",
      "returned from sorted: [(9, 14), (8, 14), (3, 12), (5, 12), (4, 7), (1, 6), (7, 6), (0, 4), (2, 4), (6, 3)]\n"
     ]
    }
   ],
   "source": [
    "\"\"\"\n",
    "More advanced sorting examples.\n",
    "\"\"\"\n",
    "\n",
    "import random\n",
    "\n",
    "# Easily create a shuffled list of numbers\n",
    "data = list(range(10))\n",
    "random.shuffle(data)\n",
    "print(\"shuffled data:\", data)\n",
    "\n",
    "# Sort the list of numbers\n",
    "data.sort()\n",
    "print(\"ascending sort:\", data)\n",
    "data.sort(reverse=True)\n",
    "print(\"descending sort:\", data)\n",
    "\n",
    "# Create a list of tuples\n",
    "datatups = [(item, random.randrange(3, 15)) for item in data]\n",
    "print(\"data tuples:\", datatups)\n",
    "\n",
    "# Sort the list\n",
    "datatups.sort()\n",
    "print(\"sorted data tuples:\", datatups)\n",
    "\n",
    "datatups.sort(key=lambda pair: pair[1])\n",
    "print(\"sorted by second item:\", datatups)\n",
    "\n",
    "datatups.sort(key=lambda pair: pair[0] * pair[1], reverse=True)\n",
    "print(\"sorted by product:\", datatups)\n",
    "\n",
    "# Shuffle it again\n",
    "random.shuffle(datatups)\n",
    "print(\"shuffled tuples:\", datatups)\n",
    "\n",
    "# Use sorted to sort the list\n",
    "newdata = sorted(datatups, key=lambda pair: pair[1], reverse=True)\n",
    "print(\"tuples after sorted:\", datatups)\n",
    "print(\"returned from sorted:\", newdata)\n",
    "\n"
   ]
  },
  {
   "cell_type": "code",
   "execution_count": null,
   "metadata": {},
   "outputs": [],
   "source": []
  }
 ],
 "metadata": {
  "kernelspec": {
   "display_name": "Python 3",
   "language": "python",
   "name": "python3"
  },
  "language_info": {
   "codemirror_mode": {
    "name": "ipython",
    "version": 3
   },
   "file_extension": ".py",
   "mimetype": "text/x-python",
   "name": "python",
   "nbconvert_exporter": "python",
   "pygments_lexer": "ipython3",
   "version": "3.12.0"
  }
 },
 "nbformat": 4,
 "nbformat_minor": 2
}
