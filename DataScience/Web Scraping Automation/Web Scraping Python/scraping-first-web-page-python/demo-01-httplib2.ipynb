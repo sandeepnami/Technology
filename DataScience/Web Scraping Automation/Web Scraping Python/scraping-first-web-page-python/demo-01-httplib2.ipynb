{
 "cells": [
  {
   "cell_type": "markdown",
   "metadata": {},
   "source": [
    "## httplib2"
   ]
  },
  {
   "cell_type": "markdown",
   "metadata": {},
   "source": [
    "##### httplib is renamed as httplib.client in python3,  httplib2 is comprehensive to httplib.client so we are using httplib2 here."
   ]
  },
  {
   "cell_type": "markdown",
   "metadata": {},
   "source": [
    "### Installing and importing httplib2"
   ]
  },
  {
   "cell_type": "code",
   "execution_count": 1,
   "metadata": {},
   "outputs": [
    {
     "name": "stdout",
     "output_type": "stream",
     "text": [
      "Collecting httplib2\n",
      "\u001b[?25l  Downloading https://files.pythonhosted.org/packages/60/55/3902b9f33ad9c15abf447ad91b86ef2d0835a1ae78530f1410c115cf8fe3/httplib2-0.13.1-py3-none-any.whl (94kB)\n",
      "\u001b[K     |████████████████████████████████| 102kB 2.6MB/s ta 0:00:01\n",
      "\u001b[?25hInstalling collected packages: httplib2\n",
      "Successfully installed httplib2-0.13.1\n"
     ]
    }
   ],
   "source": [
    "!pip install httplib2"
   ]
  },
  {
   "cell_type": "code",
   "execution_count": 18,
   "metadata": {},
   "outputs": [],
   "source": [
    "import httplib2\n",
    "from pprint import pprint"
   ]
  },
  {
   "cell_type": "markdown",
   "metadata": {},
   "source": [
    "¬These are the different statuses will get while sending request to the websites. \n",
    "if:                         \n",
    "* status : 200 --> success                                  \n",
    "* status : 404 --> server not available                          \n",
    "* status : 405 --> method not allowed"
   ]
  },
  {
   "cell_type": "markdown",
   "metadata": {},
   "source": [
    "#### https://httpbin.org this website is designed for testing (HTTP Request & Response Service) the methods like \"get( )\", \"post( )\", \"put( )\" ."
   ]
  },
  {
   "cell_type": "code",
   "execution_count": 10,
   "metadata": {},
   "outputs": [],
   "source": [
    "bin_url = 'https://httpbin.org/'"
   ]
  },
  {
   "cell_type": "code",
   "execution_count": 11,
   "metadata": {},
   "outputs": [],
   "source": [
    "http = httplib2.Http()"
   ]
  },
  {
   "cell_type": "markdown",
   "metadata": {},
   "source": [
    "http.request return 2 responses:           \n",
    "* first response with header (meta data) information \n",
    "* second response with actual data (HTML formate)"
   ]
  },
  {
   "cell_type": "code",
   "execution_count": 12,
   "metadata": {},
   "outputs": [],
   "source": [
    "resp, data = http.request(bin_url)"
   ]
  },
  {
   "cell_type": "markdown",
   "metadata": {},
   "source": [
    "#### http.request  returning the response with header details"
   ]
  },
  {
   "cell_type": "code",
   "execution_count": 19,
   "metadata": {},
   "outputs": [
    {
     "name": "stdout",
     "output_type": "stream",
     "text": [
      "{'-content-encoding': 'gzip',\n",
      " 'access-control-allow-credentials': 'true',\n",
      " 'access-control-allow-origin': '*',\n",
      " 'connection': 'keep-alive',\n",
      " 'content-length': '9593',\n",
      " 'content-location': 'https://httpbin.org/',\n",
      " 'content-type': 'text/html; charset=utf-8',\n",
      " 'date': 'Thu, 29 Aug 2019 04:06:08 GMT',\n",
      " 'referrer-policy': 'no-referrer-when-downgrade',\n",
      " 'server': 'nginx',\n",
      " 'status': '200',\n",
      " 'x-content-type-options': 'nosniff',\n",
      " 'x-frame-options': 'DENY',\n",
      " 'x-xss-protection': '1; mode=block'}\n"
     ]
    }
   ],
   "source": [
    "pprint(resp)"
   ]
  },
  {
   "cell_type": "code",
   "execution_count": 20,
   "metadata": {},
   "outputs": [
    {
     "data": {
      "text/plain": [
       "(httplib2.Response, 14)"
      ]
     },
     "execution_count": 20,
     "metadata": {},
     "output_type": "execute_result"
    }
   ],
   "source": [
    "type(resp), len(resp)"
   ]
  },
  {
   "cell_type": "code",
   "execution_count": 26,
   "metadata": {},
   "outputs": [
    {
     "data": {
      "text/plain": [
       "(200, 'OK', 11)"
      ]
     },
     "execution_count": 26,
     "metadata": {},
     "output_type": "execute_result"
    }
   ],
   "source": [
    "resp.status, resp.reason, resp.version"
   ]
  },
  {
   "cell_type": "code",
   "execution_count": 27,
   "metadata": {},
   "outputs": [],
   "source": [
    "resp.previous"
   ]
  },
  {
   "cell_type": "markdown",
   "metadata": {},
   "source": [
    "#### http.request is returning the data in byte formate, we can observe below it is representing by b"
   ]
  },
  {
   "cell_type": "code",
   "execution_count": 21,
   "metadata": {},
   "outputs": [
    {
     "name": "stdout",
     "output_type": "stream",
     "text": [
      "(b'<!DOCTYPE html>\\n<html lang=\"en\">\\n\\n<head>\\n    <meta charset=\"UTF-8\">\\n'\n",
      " b'    <title>httpbin.org</title>\\n    <link href=\"https://fonts.googleapis.'\n",
      " b'com/css?family=Open+Sans:400,700|Source+Code+Pro:300,600|Titillium+Web:400,6'\n",
      " b'00,700\"\\n        rel=\"stylesheet\">\\n    <link rel=\"stylesheet\" type=\"text/'\n",
      " b'css\" href=\"/flasgger_static/swagger-ui.css\">\\n    <link rel=\"icon\" type=\"'\n",
      " b'image/png\" href=\"/static/favicon.ico\" sizes=\"64x64 32x32 16x16\" />\\n    <'\n",
      " b'style>\\n        html {\\n            box-sizing: border-box;\\n            ov'\n",
      " b'erflow: -moz-scrollbars-vertical;\\n            overflow-y: scroll;\\n      '\n",
      " b'  }\\n\\n        *,\\n        *:before,\\n        *:after {\\n            box-'\n",
      " b'sizing: inherit;\\n        }\\n\\n        body {\\n            margin: 0;\\n  '\n",
      " b'          background: #fafafa;\\n        }\\n    </style>\\n</head>\\n\\n<body'\n",
      " b'>\\n    <a href=\"https://github.com/requests/httpbin\" class=\"github-corner'\n",
      " b'\" aria-label=\"View source on Github\">\\n        <svg width=\"80\" height=\"80'\n",
      " b'\" viewBox=\"0 0 250 250\" style=\"fill:#151513; color:#fff; position: absolute;'\n",
      " b' top: 0; border: 0; right: 0;\"\\n            aria-hidden=\"true\">\\n         '\n",
      " b'   <path d=\"M0,0 L115,115 L130,115 L142,142 L250,250 L250,0 Z\"></path>\\n '\n",
      " b'           <path d=\"M128.3,109.0 C113.8,99.7 119.0,89.6 119.0,89.6 C122.0,82'\n",
      " b'.7 120.5,78.6 120.5,78.6 C119.2,72.0 123.4,76.3 123.4,76.3 C127.3,80.9 125.5'\n",
      " b',87.3 125.5,87.3 C122.9,97.6 130.6,101.9 134.4,103.2\"\\n                fi'\n",
      " b'll=\"currentColor\" style=\"transform-origin: 130px 106px;\" class=\"octo-arm\"></'\n",
      " b'path>\\n            <path d=\"M115.0,115.0 C114.9,115.1 118.7,116.5 119.8,1'\n",
      " b'15.4 L133.7,101.6 C136.9,99.2 139.9,98.4 142.2,98.6 C133.8,88.0 127.5,74.4 1'\n",
      " b'43.8,58.0 C148.5,53.4 154.0,51.2 159.7,51.0 C160.3,49.4 163.2,43.6 171.4,40.'\n",
      " b'1 C171.4,40.1 176.1,42.5 178.8,56.2 C183.1,58.6 187.2,61.8 190.9,65.4 C194.5'\n",
      " b',69.0 197.7,73.2 200.1,77.6 C213.8,80.2 216.3,84.9 216.3,84.9 C212.7,93.1 20'\n",
      " b'6.9,96.0 205.4,96.6 C205.1,102.4 203.0,107.8 198.3,112.5 C181.9,128.9 168.3,'\n",
      " b'122.5 157.7,114.1 C157.9,116.9 156.7,120.9 152.7,124.9 L141.0,136.5 C139.8,1'\n",
      " b'37.7 141.6,141.9 141.8,141.8 Z\"\\n                fill=\"currentColor\" clas'\n",
      " b's=\"octo-body\"></path>\\n        </svg>\\n    </a>\\n    <svg xmlns=\"http://www'\n",
      " b'.w3.org/2000/svg\" xmlns:xlink=\"http://www.w3.org/1999/xlink\" style=\"position'\n",
      " b':absolute;width:0;height:0\">\\n        <defs>\\n            <symbol viewBox='\n",
      " b'\"0 0 20 20\" id=\"unlocked\">\\n                <path d=\"M15.8 8H14V5.6C14 2.'\n",
      " b'703 12.665 1 10 1 7.334 1 6 2.703 6 5.6V6h2v-.801C8 3.754 8.797 3 10 3c1.203'\n",
      " b' 0 2 .754 2 2.199V8H4c-.553 0-1 .646-1 1.199V17c0 .549.428 1.139.951 1.307l1'\n",
      " b'.197.387C5.672 18.861 6.55 19 7.1 19h5.8c.549 0 1.428-.139 1.951-.307l1.196-'\n",
      " b'.387c.524-.167.953-.757.953-1.306V9.199C17 8.646 16.352 8 15.8 8z\"></pat'\n",
      " b'h>\\n            </symbol>\\n\\n            <symbol viewBox=\"0 0 20 20\" id=\"lo'\n",
      " b'cked\">\\n                <path d=\"M15.8 8H14V5.6C14 2.703 12.665 1 10 1 7.'\n",
      " b'334 1 6 2.703 6 5.6V8H4c-.553 0-1 .646-1 1.199V17c0 .549.428 1.139.951 1.307'\n",
      " b'l1.197.387C5.672 18.861 6.55 19 7.1 19h5.8c.549 0 1.428-.139 1.951-.307l1.19'\n",
      " b'6-.387c.524-.167.953-.757.953-1.306V9.199C17 8.646 16.352 8 15.8 8zM12 8H8V5'\n",
      " b'.199C8 3.754 8.797 3 10 3c1.203 0 2 .754 2 2.199V8z\"\\n                />\\n'\n",
      " b'            </symbol>\\n\\n            <symbol viewBox=\"0 0 20 20\" id=\"close'\n",
      " b'\">\\n                <path d=\"M14.348 14.849c-.469.469-1.229.469-1.697 0L1'\n",
      " b'0 11.819l-2.651 3.029c-.469.469-1.229.469-1.697 0-.469-.469-.469-1.229 0-1.6'\n",
      " b'97l2.758-3.15-2.759-3.152c-.469-.469-.469-1.228 0-1.697.469-.469 1.228-.469 '\n",
      " b'1.697 0L10 8.183l2.651-3.031c.469-.469 1.228-.469 1.697 0 .469.469.469 1.229'\n",
      " b' 0 1.697l-2.758 3.152 2.758 3.15c.469.469.469 1.229 0 1.698z\"\\n          '\n",
      " b'      />\\n            </symbol>\\n\\n            <symbol viewBox=\"0 0 20 20\" '\n",
      " b'id=\"large-arrow\">\\n                <path d=\"M13.25 10L6.109 2.58c-.268-.2'\n",
      " b'7-.268-.707 0-.979.268-.27.701-.27.969 0l7.83 7.908c.268.271.268.709 0 .979l'\n",
      " b'-7.83 7.908c-.268.271-.701.27-.969 0-.268-.269-.268-.707 0-.979L13.25 10'\n",
      " b'z\"\\n                />\\n            </symbol>\\n\\n            <symbol viewBox'\n",
      " b'=\"0 0 20 20\" id=\"large-arrow-down\">\\n                <path d=\"M17.418 6.1'\n",
      " b'09c.272-.268.709-.268.979 0s.271.701 0 .969l-7.908 7.83c-.27.268-.707.268-.9'\n",
      " b'79 0l-7.908-7.83c-.27-.268-.27-.701 0-.969.271-.268.709-.268.979 0L10 13.25l'\n",
      " b'7.418-7.141z\"\\n                />\\n            </symbol>\\n\\n\\n           '\n",
      " b' <symbol viewBox=\"0 0 24 24\" id=\"jump-to\">\\n                <path d=\"M19 '\n",
      " b'7v4H5.83l3.58-3.59L8 6l-6 6 6 6 1.41-1.41L5.83 13H21V7z\" />\\n            '\n",
      " b'</symbol>\\n\\n            <symbol viewBox=\"0 0 24 24\" id=\"expand\">\\n        '\n",
      " b'        <path d=\"M10 18h4v-2h-4v2zM3 6v2h18V6H3zm3 7h12v-2H6v2z\" />\\n    '\n",
      " b'        </symbol>\\n\\n        </defs>\\n    </svg>\\n\\n\\n    <div id=\"swagger'\n",
      " b'-ui\">\\n        <div data-reactroot=\"\" class=\"swagger-ui\">\\n            <di'\n",
      " b'v>\\n                <div class=\"information-container wrapper\">\\n         '\n",
      " b'           <section class=\"block col-12\">\\n                        <div c'\n",
      " b'lass=\"info\">\\n                            <hgroup class=\"main\">\\n         '\n",
      " b'                       <h2 class=\"title\">httpbin.org\\n                   '\n",
      " b'                 <small>\\n                                        <pre cl'\n",
      " b'ass=\"version\">0.9.2</pre>\\n                                    </small>\\n '\n",
      " b'                               </h2>\\n                                <pr'\n",
      " b'e class=\"base-url\">[ Base URL: httpbin.org/ ]</pre>\\n                    '\n",
      " b'        </hgroup>\\n                            <div class=\"description\">\\n'\n",
      " b'                                <div class=\"markdown\">\\n                 '\n",
      " b'                   <p>A simple HTTP Request &amp; Response Service.\\n    '\n",
      " b'                                    <br>\\n                               '\n",
      " b'         <br>\\n                                        <b>Run locally: </'\n",
      " b'b>\\n                                        <code>$ docker run -p 80:80 k'\n",
      " b'ennethreitz/httpbin</code>\\n                                    </p>\\n    '\n",
      " b'                            </div>\\n                            </div>\\n  '\n",
      " b'                          <div>\\n                                <div>\\n  '\n",
      " b'                                  <a href=\"https://kennethreitz.org\" target='\n",
      " b'\"_blank\">the developer - Website</a>\\n                                </d'\n",
      " b'iv>\\n                                <a href=\"mailto:me@kennethreitz.org\"'\n",
      " b'>Send email to the developer</a>\\n                            </div>\\n    '\n",
      " b'                    </div>\\n                        <!-- ADDS THE LOADER '\n",
      " b'SPINNER -->\\n                        <div class=\"loading-container\">\\n    '\n",
      " b'                        <div class=\"loading\"></div>\\n                    '\n",
      " b'    </div>\\n\\n                    </section>\\n                </div>\\n      '\n",
      " b\"      </div>\\n        </div>\\n    </div>\\n\\n\\n    <div class='swagger-ui'\"\n",
      " b'>\\n        <div class=\"wrapper\">\\n            <section class=\"clear\">\\n    '\n",
      " b'            <span style=\"float: right;\">\\n                    [Powered by'\n",
      " b'\\n                    <a target=\"_blank\" href=\"https://github.com/rochacb'\n",
      " b'runo/flasgger\">Flasgger</a>]\\n                    <br>\\n                </'\n",
      " b'span>\\n            </section>\\n        </div>\\n    </div>\\n\\n\\n\\n    <scrip'\n",
      " b't src=\"/flasgger_static/swagger-ui-bundle.js\"> </script>\\n    <script src'\n",
      " b'=\"/flasgger_static/swagger-ui-standalone-preset.js\"> </script>\\n    <scri'\n",
      " b\"pt src='/flasgger_static/lib/jquery.min.js' type='text/javascript'></script>\"\n",
      " b'\\n    <script>\\n\\n        window.onload = function () {\\n            \\n\\n '\n",
      " b'           fetch(\"/spec.json\")\\n                .then(function (response)'\n",
      " b' {\\n                    response.json()\\n                        .then(fun'\n",
      " b'ction (json) {\\n                            var current_protocol = window'\n",
      " b'.location.protocol.slice(0, -1);\\n                            if (json.sc'\n",
      " b'hemes[0] != current_protocol) {\\n                                // Switc'\n",
      " b'hes scheme to the current in use\\n                                var oth'\n",
      " b'er_protocol = json.schemes[0];\\n                                json.sche'\n",
      " b'mes[0] = current_protocol;\\n                                json.schemes['\n",
      " b'1] = other_protocol;\\n\\n                            }\\n                    '\n",
      " b'        json.host = window.location.host;  // sets the current host\\n\\n   '\n",
      " b'                         const ui = SwaggerUIBundle({\\n                  '\n",
      " b'              spec: json,\\n                                validatorUrl: '\n",
      " b\"null,\\n                                dom_id: '#swagger-ui',\\n           \"\n",
      " b'                     deepLinking: true,\\n                                '\n",
      " b'jsonEditor: true,\\n                                docExpansion: \"none\",\\n'\n",
      " b'                                apisSorter: \"alpha\",\\n                   '\n",
      " b'             //operationsSorter: \"alpha\",\\n                              '\n",
      " b'  presets: [\\n                                    SwaggerUIBundle.presets'\n",
      " b'.apis,\\n                                    // yay ES6 modules \\xe2\\x86'\n",
      " b'\\x98\\n                                    Array.isArray(SwaggerUIStandaloneP'\n",
      " b'reset) ? SwaggerUIStandalonePreset : SwaggerUIStandalonePreset.default\\n '\n",
      " b'                               ],\\n                                plugin'\n",
      " b's: [\\n                                    SwaggerUIBundle.plugins.Downloa'\n",
      " b'dUrl\\n                                ],\\n            \\n            // layo'\n",
      " b'ut: \"StandaloneLayout\"  // uncomment to enable the green top header\\n    '\n",
      " b'    })\\n\\n        window.ui = ui\\n\\n        // uncomment to rename the top b'\n",
      " b'rand if layout is enabled\\n        // $(\".topbar-wrapper .link span\").rep'\n",
      " b'laceWith(\"<span>httpbin</span>\");\\n        })\\n    })\\n}\\n    </script>  <di'\n",
      " b'v class=\\'swagger-ui\\'>\\n    <div class=\"wrapper\">\\n        <section class=\"'\n",
      " b'block col-12 block-desktop col-12-desktop\">\\n            <div>\\n\\n         '\n",
      " b'       <h2>Other Utilities</h2>\\n\\n                <ul>\\n                  '\n",
      " b'  <li>\\n                        <a href=\"/forms/post\">HTML form</a> that '\n",
      " b'posts to /post /forms/post</li>\\n                </ul>\\n\\n                <'\n",
      " b'br />\\n                <br />\\n            </div>\\n        </section>\\n    <'\n",
      " b'/div>\\n</div>\\n</body>\\n\\n</html>')\n"
     ]
    }
   ],
   "source": [
    "pprint(data)"
   ]
  },
  {
   "cell_type": "code",
   "execution_count": 22,
   "metadata": {},
   "outputs": [
    {
     "data": {
      "text/plain": [
       "(bytes, 9593)"
      ]
     },
     "execution_count": 22,
     "metadata": {},
     "output_type": "execute_result"
    }
   ],
   "source": [
    "type(data), len(data)"
   ]
  },
  {
   "cell_type": "markdown",
   "metadata": {},
   "source": [
    "#### From above http response we can observe it is encoded in \"UTF-8\" , so we are trying to decode this reponse."
   ]
  },
  {
   "cell_type": "code",
   "execution_count": 30,
   "metadata": {},
   "outputs": [
    {
     "data": {
      "text/plain": [
       "str"
      ]
     },
     "execution_count": 30,
     "metadata": {},
     "output_type": "execute_result"
    }
   ],
   "source": [
    "html = data.decode(\"UTF-8\")\n",
    "\n",
    "type(html)"
   ]
  },
  {
   "cell_type": "markdown",
   "metadata": {},
   "source": [
    "#### Here we are displaying the decoded data which is in the form of str and in the starting 'b' is not there"
   ]
  },
  {
   "cell_type": "code",
   "execution_count": 43,
   "metadata": {},
   "outputs": [
    {
     "name": "stdout",
     "output_type": "stream",
     "text": [
      "('<!DOCTYPE html>\\n'\n",
      " '<html lang=\"en\">\\n'\n",
      " '\\n'\n",
      " '<head>\\n'\n",
      " '    <meta charset=\"UTF-8\">\\n'\n",
      " '    <title>httpbin.org</title>\\n'\n",
      " '    <link '\n",
      " 'href=\"https://fonts.googleapis.com/css?family=Open+Sans:400,700|Source+Code+Pro:300,600|Titillium+Web:400,600,700\"\\n'\n",
      " '        rel=\"stylesheet\">\\n'\n",
      " '    <link rel=\"stylesheet\" type=\"text/css\" '\n",
      " 'href=\"/flasgger_static/swagger-ui.css\">\\n'\n",
      " '    <link rel=\"icon\" type=\"image/png\" href=\"/static/favicon.ico\" '\n",
      " 'sizes=\"64x64 32x32 16x16\" />\\n'\n",
      " '    <style>\\n'\n",
      " '        html {\\n'\n",
      " '            box-sizing: border-box;\\n'\n",
      " '            overflow: -moz-scrollbars-vertical;\\n'\n",
      " '            overflow-y: scroll;\\n'\n",
      " '        }\\n'\n",
      " '\\n'\n",
      " '        *,\\n'\n",
      " '        *:before,\\n'\n",
      " '        *:after {\\n'\n",
      " '            box-sizing: inherit;\\n'\n",
      " '        }\\n'\n",
      " '\\n'\n",
      " '        body {\\n'\n",
      " '            margin: 0;\\n'\n",
      " '            background: #fafafa;\\n'\n",
      " '        }\\n'\n",
      " '    </style>\\n'\n",
      " '</head>\\n'\n",
      " '\\n'\n",
      " '<body>\\n'\n",
      " '    <a href=\"https://github.com/requests/httpbin\" class=\"github-corner\" '\n",
      " 'aria-label=\"View source on Github\">\\n'\n",
      " '        <svg width=\"80\" height=\"80\" viewBox=\"0 0 250 250\" '\n",
      " 'style=\"fill:#151513; color:#fff; position: absolute; top: 0; border: 0; '\n",
      " 'right: 0;\"\\n'\n",
      " '            aria-hidden=\"true\">\\n'\n",
      " '            <path d=\"M0,0 L115,115 L130,115 L142,142 L250,250 L250,0 '\n",
      " 'Z\"></path>\\n'\n",
      " '            <path d=\"M128.3,109.0 C113.8,99.7 119.0,89.6 119.0,89.6 '\n",
      " 'C122.0,82.7 120.5,78.6 120.5,78.6 C119.2,72.0 123.4,76.3 123.4,76.3 '\n",
      " 'C127.3,80.9 125.5,87.3 125.5,87.3 C122.9,97.6 130.6,101.9 134.4,103.2\"\\n'\n",
      " '                fill=\"currentColor\" style=\"transform-origin: 130px 106px;\" '\n",
      " 'class=\"octo-arm\"></path>\\n'\n",
      " '            <path d=\"M115.0,115.0 C114.9,115.1 118.7,116.5 119.8,115.4 '\n",
      " 'L133.7,101.6 C136.9,99.2 139.9,98.4 142.2,98.6 C133.8,88.0 127.5,74.4 '\n",
      " '143.8,58.0 C148.5,53.4 154.0,51.2 159.7,51.0 C160.3,49.4 163.2,43.6 '\n",
      " '171.4,40.1 C171.4,40.1 176.1,42.5 178.8,56.2 C183.1,58.6 187.2,61.8 '\n",
      " '190.9,65.4 C194.5,69.0 197.7,73.2 200.1,77.6 C213.8,80.2 216.3,84.9 '\n",
      " '216.3,84.9 C212.7,93.1 206.9,96.0 205.4,96.6 C205.1,102.4 203.0,107.8 '\n",
      " '198.3,112.5 C181.9,128.9 168.3,122.5 157.7,114.1 C157.9,116.9 156.7,120.9 '\n",
      " '152.7,124.9 L141.0,136.5 C139.8,137.7 141.6,141.9 141.8,141.8 Z\"\\n'\n",
      " '                fill=\"currentColor\" class=\"octo-body\"></path>\\n'\n",
      " '        </svg>\\n'\n",
      " '    </a>\\n'\n",
      " '    <svg xmlns=\"http://www.w3.org/2000/svg\" '\n",
      " 'xmlns:xlink=\"http://www.w3.org/1999/xlink\" '\n",
      " 'style=\"position:absolute;width:0;height:0\">\\n'\n",
      " '        <defs>\\n'\n",
      " '            <symbol viewBox=\"0 0 20 20\" id=\"unlocked\">\\n'\n",
      " '                <path d=\"M15.8 8H14V5.6C14 2.703 12.665 1 10 1 7.334 1 6 '\n",
      " '2.703 6 5.6V6h2v-.801C8 3.754 8.797 3 10 3c1.203 0 2 .754 2 2.199V8H4c-.553 '\n",
      " '0-1 .646-1 1.199V17c0 .549.428 1.139.951 1.307l1.197.387C5.672 18.861 6.55 '\n",
      " '19 7.1 19h5.8c.549 0 1.428-.139 '\n",
      " '1.951-.307l1.196-.387c.524-.167.953-.757.953-1.306V9.199C17 8.646 16.352 8 '\n",
      " '15.8 8z\"></path>\\n'\n",
      " '            </symbol>\\n'\n",
      " '\\n'\n",
      " '            <symbol viewBox=\"0 0 20 20\" id=\"locked\">\\n'\n",
      " '                <path d=\"M15.8 8H14V5.6C14 2.703 12.665 1 10 1 7.334 1 6 '\n",
      " '2.703 6 5.6V8H4c-.553 0-1 .646-1 1.199V17c0 .549.428 1.139.951 '\n",
      " '1.307l1.197.387C5.672 18.861 6.55 19 7.1 19h5.8c.549 0 1.428-.139 '\n",
      " '1.951-.307l1.196-.387c.524-.167.953-.757.953-1.306V9.199C17 8.646 16.352 8 '\n",
      " '15.8 8zM12 8H8V5.199C8 3.754 8.797 3 10 3c1.203 0 2 .754 2 2.199V8z\"\\n'\n",
      " '                />\\n'\n",
      " '            </symbol>\\n'\n",
      " '\\n'\n",
      " '            <symbol viewBox=\"0 0 20 20\" id=\"close\">\\n'\n",
      " '                <path d=\"M14.348 14.849c-.469.469-1.229.469-1.697 0L10 '\n",
      " '11.819l-2.651 3.029c-.469.469-1.229.469-1.697 0-.469-.469-.469-1.229 '\n",
      " '0-1.697l2.758-3.15-2.759-3.152c-.469-.469-.469-1.228 0-1.697.469-.469 '\n",
      " '1.228-.469 1.697 0L10 8.183l2.651-3.031c.469-.469 1.228-.469 1.697 0 '\n",
      " '.469.469.469 1.229 0 1.697l-2.758 3.152 2.758 3.15c.469.469.469 1.229 0 '\n",
      " '1.698z\"\\n'\n",
      " '                />\\n'\n",
      " '            </symbol>\\n'\n",
      " '\\n'\n",
      " '            <symbol viewBox=\"0 0 20 20\" id=\"large-arrow\">\\n'\n",
      " '                <path d=\"M13.25 10L6.109 2.58c-.268-.27-.268-.707 '\n",
      " '0-.979.268-.27.701-.27.969 0l7.83 7.908c.268.271.268.709 0 .979l-7.83 '\n",
      " '7.908c-.268.271-.701.27-.969 0-.268-.269-.268-.707 0-.979L13.25 10z\"\\n'\n",
      " '                />\\n'\n",
      " '            </symbol>\\n'\n",
      " '\\n'\n",
      " '            <symbol viewBox=\"0 0 20 20\" id=\"large-arrow-down\">\\n'\n",
      " '                <path d=\"M17.418 6.109c.272-.268.709-.268.979 0s.271.701 0 '\n",
      " '.969l-7.908 7.83c-.27.268-.707.268-.979 0l-7.908-7.83c-.27-.268-.27-.701 '\n",
      " '0-.969.271-.268.709-.268.979 0L10 13.25l7.418-7.141z\"\\n'\n",
      " '                />\\n'\n",
      " '            </symbol>\\n'\n",
      " '\\n'\n",
      " '\\n'\n",
      " '            <symbol viewBox=\"0 0 24 24\" id=\"jump-to\">\\n'\n",
      " '                <path d=\"M19 7v4H5.83l3.58-3.59L8 6l-6 6 6 6 1.41-1.41L5.83 '\n",
      " '13H21V7z\" />\\n'\n",
      " '            </symbol>\\n'\n",
      " '\\n'\n",
      " '            <symbol viewBox=\"0 0 24 24\" id=\"expand\">\\n'\n",
      " '                <path d=\"M10 18h4v-2h-4v2zM3 6v2h18V6H3zm3 7h12v-2H6v2z\" />\\n'\n",
      " '            </symbol>\\n'\n",
      " '\\n'\n",
      " '        </defs>\\n'\n",
      " '    </svg>\\n'\n",
      " '\\n'\n",
      " '\\n'\n",
      " '    <div id=\"swagger-ui\">\\n'\n",
      " '        <div data-reactroot=\"\" class=\"swagger-ui\">\\n'\n",
      " '            <div>\\n'\n",
      " '                <div class=\"information-container wrapper\">\\n'\n",
      " '                    <section class=\"block col-12\">\\n'\n",
      " '                        <div class=\"info\">\\n'\n",
      " '                            <hgroup class=\"main\">\\n'\n",
      " '                                <h2 class=\"title\">httpbin.org\\n'\n",
      " '                                    <small>\\n'\n",
      " '                                        <pre class=\"version\">0.9.2</pre>\\n'\n",
      " '                                    </small>\\n'\n",
      " '                                </h2>\\n'\n",
      " '                                <pre class=\"base-url\">[ Base URL: '\n",
      " 'httpbin.org/ ]</pre>\\n'\n",
      " '                            </hgroup>\\n'\n",
      " '                            <div class=\"description\">\\n'\n",
      " '                                <div class=\"markdown\">\\n'\n",
      " '                                    <p>A simple HTTP Request &amp; Response '\n",
      " 'Service.\\n'\n",
      " '                                        <br>\\n'\n",
      " '                                        <br>\\n'\n",
      " '                                        <b>Run locally: </b>\\n'\n",
      " '                                        <code>$ docker run -p 80:80 '\n",
      " 'kennethreitz/httpbin</code>\\n'\n",
      " '                                    </p>\\n'\n",
      " '                                </div>\\n'\n",
      " '                            </div>\\n'\n",
      " '                            <div>\\n'\n",
      " '                                <div>\\n'\n",
      " '                                    <a href=\"https://kennethreitz.org\" '\n",
      " 'target=\"_blank\">the developer - Website</a>\\n'\n",
      " '                                </div>\\n'\n",
      " '                                <a href=\"mailto:me@kennethreitz.org\">Send '\n",
      " 'email to the developer</a>\\n'\n",
      " '                            </div>\\n'\n",
      " '                        </div>\\n'\n",
      " '                        <!-- ADDS THE LOADER SPINNER -->\\n'\n",
      " '                        <div class=\"loading-container\">\\n'\n",
      " '                            <div class=\"loading\"></div>\\n'\n",
      " '                        </div>\\n'\n",
      " '\\n'\n",
      " '                    </section>\\n'\n",
      " '                </div>\\n'\n",
      " '            </div>\\n'\n",
      " '        </div>\\n'\n",
      " '    </div>\\n'\n",
      " '\\n'\n",
      " '\\n'\n",
      " \"    <div class='swagger-ui'>\\n\"\n",
      " '        <div class=\"wrapper\">\\n'\n",
      " '            <section class=\"clear\">\\n'\n",
      " '                <span style=\"float: right;\">\\n'\n",
      " '                    [Powered by\\n'\n",
      " '                    <a target=\"_blank\" '\n",
      " 'href=\"https://github.com/rochacbruno/flasgger\">Flasgger</a>]\\n'\n",
      " '                    <br>\\n'\n",
      " '                </span>\\n'\n",
      " '            </section>\\n'\n",
      " '        </div>\\n'\n",
      " '    </div>\\n'\n",
      " '\\n'\n",
      " '\\n'\n",
      " '\\n'\n",
      " '    <script src=\"/flasgger_static/swagger-ui-bundle.js\"> </script>\\n'\n",
      " '    <script src=\"/flasgger_static/swagger-ui-standalone-preset.js\"> '\n",
      " '</script>\\n'\n",
      " \"    <script src='/flasgger_static/lib/jquery.min.js' \"\n",
      " \"type='text/javascript'></script>\\n\"\n",
      " '    <script>\\n'\n",
      " '\\n'\n",
      " '        window.onload = function () {\\n'\n",
      " '            \\n'\n",
      " '\\n'\n",
      " '            fetch(\"/spec.json\")\\n'\n",
      " '                .then(function (response) {\\n'\n",
      " '                    response.json()\\n'\n",
      " '                        .then(function (json) {\\n'\n",
      " '                            var current_protocol = '\n",
      " 'window.location.protocol.slice(0, -1);\\n'\n",
      " '                            if (json.schemes[0] != current_protocol) {\\n'\n",
      " '                                // Switches scheme to the current in use\\n'\n",
      " '                                var other_protocol = json.schemes[0];\\n'\n",
      " '                                json.schemes[0] = current_protocol;\\n'\n",
      " '                                json.schemes[1] = other_protocol;\\n'\n",
      " '\\n'\n",
      " '                            }\\n'\n",
      " '                            json.host = window.location.host;  // sets the '\n",
      " 'current host\\n'\n",
      " '\\n'\n",
      " '                            const ui = SwaggerUIBundle({\\n'\n",
      " '                                spec: json,\\n'\n",
      " '                                validatorUrl: null,\\n'\n",
      " \"                                dom_id: '#swagger-ui',\\n\"\n",
      " '                                deepLinking: true,\\n'\n",
      " '                                jsonEditor: true,\\n'\n",
      " '                                docExpansion: \"none\",\\n'\n",
      " '                                apisSorter: \"alpha\",\\n'\n",
      " '                                //operationsSorter: \"alpha\",\\n'\n",
      " '                                presets: [\\n'\n",
      " '                                    SwaggerUIBundle.presets.apis,\\n'\n",
      " '                                    // yay ES6 modules ↘\\n'\n",
      " '                                    Array.isArray(SwaggerUIStandalonePreset) '\n",
      " '? SwaggerUIStandalonePreset : SwaggerUIStandalonePreset.default\\n'\n",
      " '                                ],\\n'\n",
      " '                                plugins: [\\n'\n",
      " '                                    SwaggerUIBundle.plugins.DownloadUrl\\n'\n",
      " '                                ],\\n'\n",
      " '            \\n'\n",
      " '            // layout: \"StandaloneLayout\"  // uncomment to enable the green '\n",
      " 'top header\\n'\n",
      " '        })\\n'\n",
      " '\\n'\n",
      " '        window.ui = ui\\n'\n",
      " '\\n'\n",
      " '        // uncomment to rename the top brand if layout is enabled\\n'\n",
      " '        // $(\".topbar-wrapper .link '\n",
      " 'span\").replaceWith(\"<span>httpbin</span>\");\\n'\n",
      " '        })\\n'\n",
      " '    })\\n'\n",
      " '}\\n'\n",
      " \"    </script>  <div class='swagger-ui'>\\n\"\n",
      " '    <div class=\"wrapper\">\\n'\n",
      " '        <section class=\"block col-12 block-desktop col-12-desktop\">\\n'\n",
      " '            <div>\\n'\n",
      " '\\n'\n",
      " '                <h2>Other Utilities</h2>\\n'\n",
      " '\\n'\n",
      " '                <ul>\\n'\n",
      " '                    <li>\\n'\n",
      " '                        <a href=\"/forms/post\">HTML form</a> that posts to '\n",
      " '/post /forms/post</li>\\n'\n",
      " '                </ul>\\n'\n",
      " '\\n'\n",
      " '                <br />\\n'\n",
      " '                <br />\\n'\n",
      " '            </div>\\n'\n",
      " '        </section>\\n'\n",
      " '    </div>\\n'\n",
      " '</div>\\n'\n",
      " '</body>\\n'\n",
      " '\\n'\n",
      " '</html>')\n"
     ]
    }
   ],
   "source": [
    "pprint(html)"
   ]
  },
  {
   "cell_type": "code",
   "execution_count": 77,
   "metadata": {},
   "outputs": [
    {
     "name": "stdout",
     "output_type": "stream",
     "text": [
      "{'-content-encoding': 'gzip',\n",
      " 'cache-control': 'private, max-age=0',\n",
      " 'content-length': '13915',\n",
      " 'content-location': 'http://www.google.com/',\n",
      " 'content-type': 'text/html; charset=ISO-8859-1',\n",
      " 'date': 'Thu, 29 Aug 2019 05:16:00 GMT',\n",
      " 'expires': '-1',\n",
      " 'p3p': 'CP=\"This is not a P3P policy! See g.co/p3phelp for more info.\"',\n",
      " 'server': 'gws',\n",
      " 'set-cookie': '1P_JAR=2019-08-29-05; expires=Sat, 28-Sep-2019 05:16:00 GMT; '\n",
      "               'path=/; domain=.google.com; SameSite=none, '\n",
      "               'NID=188=bBQzHjfF1FBX_O3RB3hZyVGK7q-X-97Ay49Nt-lVcZZKC9HZXE7HRhz7y1NvbQxCth9sAkonZr49Ji3-KZB75kE7IVYmLx9-ebN6r04rTefqrcPoN_tvfh-vJ6fseqp8ilOaj_Vkyac-D3FotCCJrVOy0NJ1FPBRWiXIlSg4jlg; '\n",
      "               'expires=Fri, 28-Feb-2020 05:16:00 GMT; path=/; '\n",
      "               'domain=.google.com; HttpOnly',\n",
      " 'status': '200',\n",
      " 'x-frame-options': 'SAMEORIGIN',\n",
      " 'x-xss-protection': '0'}\n"
     ]
    }
   ],
   "source": [
    "resp, data = http.request('http://google.com')\n",
    "\n",
    "pprint(resp)"
   ]
  },
  {
   "cell_type": "code",
   "execution_count": 46,
   "metadata": {},
   "outputs": [
    {
     "data": {
      "text/plain": [
       "bytes"
      ]
     },
     "execution_count": 46,
     "metadata": {},
     "output_type": "execute_result"
    }
   ],
   "source": [
    "type(data)"
   ]
  },
  {
   "cell_type": "code",
   "execution_count": 48,
   "metadata": {},
   "outputs": [
    {
     "name": "stdout",
     "output_type": "stream",
     "text": [
      "('<!doctype html><html itemscope=\"\" itemtype=\"http://schema.org/WebPage\" '\n",
      " 'lang=\"en-IN\"><head><meta content=\"text/html; charset=UTF-8\" '\n",
      " 'http-equiv=\"Content-Type\"><meta '\n",
      " 'content=\"/images/branding/googleg/1x/googleg_standard_color_128dp.png\" '\n",
      " 'itemprop=\"image\"><title>Google</title><script '\n",
      " 'nonce=\"8Hrkj8qEiW6Nhj9bg1YTGA==\">(function(){window.google={kEI:\\'RVNnXfjlFYXZvgTMm6K4Ag\\',kEXPI:\\'0,1353747,2015,2422,1225,590,141,223,510,1065,3152,377,207,1017,54,1430,577,2,124,10,713,39,187,90,22,261,1132536,1197512,191,329376,1294,12383,4855,32691,15248,867,12163,6381,3335,2,2,6801,364,3319,5505,224,2212,5373,575,1119,2,579,727,2431,59,2,2,2,1297,4323,3698,1270,773,2250,1407,1414,1073,1996,9,8159,669,1050,1808,1478,7,3,488,2044,5762,1,2841,305,5297,2016,38,920,873,1217,1336,26,1613,2736,48,1510,1503,2,215,1,415,1159,2081,7194,252,620,2884,20,318,235,454,429,904,1150,975,1,369,2777,519,400,992,509,776,8,87,22,1524,989,174,889,78,48,553,11,14,10,1269,2212,202,39,286,3,1245,7,840,324,193,1522,820,1665,1,954,335,483,108,152,52,1132,4,3,1509,1160,1839,184,595,82,1243,377,361,325,1261,242,450,55,61,150,8,26,72,112,44,207,1,791,103,328,1284,16,86,334,81,506,1920,1639,607,91,10,373,1178,161,729,501,557,669,2,1775,437,209,137,499,20,252,260,1288,240,284,7,427,76,225,592,523,76,690,285,1115,799,420,493,147,319,239,175,1130,245,310,60,57,956,885,362,77,1551,6,580,576,1,33,315,83,309,9,112,2,149,142,403,129,26,114,33,52,3,186,1196,596,236,5899321,8800340,4,1572,549,333,444,1,2,80,1,900,577,15,304,1,8,1,2,2132,1,1,1,1,1,414,1,748,141,59,726,3,7,563,1,3119,400,40,2,5,80,5,17,4,26,20746285,1557155\\',authuser:0,kscs:\\'c9c918f0_RVNnXfjlFYXZvgTMm6K4Ag\\',kGL:\\'IN\\',kBL:\\'uT6_\\'};google.sn=\\'webhp\\';google.kHL=\\'en-IN\\';google.jsfs=\\'Ffpdje\\';})();(function(){google.lc=[];google.li=0;google.getEI=function(a){for(var '\n",
      " 'b;a&&(!a.getAttribute||!(b=a.getAttribute(\"eid\")));)a=a.parentNode;return '\n",
      " 'b||google.kEI};google.getLEI=function(a){for(var '\n",
      " 'b=null;a&&(!a.getAttribute||!(b=a.getAttribute(\"leid\")));)a=a.parentNode;return '\n",
      " 'b};google.https=function(){return\"https:\"==window.location.protocol};google.ml=function(){return '\n",
      " 'null};google.time=function(){return(new '\n",
      " 'Date).getTime()};google.log=function(a,b,e,c,g){if(a=google.logUrl(a,b,e,c,g)){b=new '\n",
      " 'Image;var '\n",
      " 'd=google.lc,f=google.li;d[f]=b;b.onerror=b.onload=b.onabort=function(){delete '\n",
      " 'd[f]};google.vel&&google.vel.lu&&google.vel.lu(a);b.src=a;google.li=f+1}};google.logUrl=function(a,b,e,c,g){var '\n",
      " 'd=\"\",f=google.ls||\"\";e||-1!=b.search(\"&ei=\")||(d=\"&ei=\"+google.getEI(c),-1==b.search(\"&lei=\")&&(c=google.getLEI(c))&&(d+=\"&lei=\"+c));c=\"\";!e&&google.cshid&&-1==b.search(\"&cshid=\")&&\"slh\"!=a&&(c=\"&cshid=\"+google.cshid);a=e||\"/\"+(g||\"gen_204\")+\"?atyp=i&ct=\"+a+\"&cad=\"+b+d+f+\"&zx=\"+google.time()+c;/^http:/i.test(a)&&google.https()&&(google.ml(Error(\"a\"),!1,{src:a,glmm:1}),a=\"\");return '\n",
      " 'a};}).call(this);(function(){google.y={};google.x=function(a,b){if(a)var '\n",
      " 'c=a.id;else{do '\n",
      " 'c=Math.random();while(google.y[c])}google.y[c]=[a,b];return!1};google.lm=[];google.plm=function(a){google.lm.push.apply(google.lm,a)};google.lq=[];google.load=function(a,b,c){google.lq.push([[a],b,c])};google.loadAll=function(a,b){google.lq.push([a,b])};}).call(this);google.f={};var '\n",
      " 'a=window.location,b=a.href.indexOf(\"#\");if(0<=b){var '\n",
      " 'c=a.href.substring(b+1);/(^|&)q=/.test(c)&&-1==c.indexOf(\"#\")&&a.replace(\"/search?\"+c.replace(/(^|&)fp=[^&]*/g,\"\")+\"&cad=h\")};</script><style>#gbar,#guser{font-size:13px;padding-top:1px '\n",
      " '!important;}#gbar{height:22px}#guser{padding-bottom:7px '\n",
      " '!important;text-align:right}.gbh,.gbd{border-top:1px solid '\n",
      " '#c9d7f1;font-size:1px}.gbh{height:0;position:absolute;top:24px;width:100%}@media '\n",
      " 'all{.gb1{height:22px;margin-right:.5em;vertical-align:top}#gbar{float:left}}a.gb1,a.gb4{text-decoration:underline '\n",
      " '!important}a.gb1,a.gb4{color:#00c !important}.gbi .gb4{color:#dd8e27 '\n",
      " '!important}.gbf .gb4{color:#900 !important}\\n'\n",
      " '</style><style>body,td,a,p,.h{font-family:arial,sans-serif}body{margin:0;overflow-y:scroll}#gog{padding:3px '\n",
      " '8px 0}td{line-height:.8em}.gac_m '\n",
      " 'td{line-height:17px}form{margin-bottom:20px}.h{color:#36c}.q{color:#00c}.ts '\n",
      " 'td{padding:0}.ts{border-collapse:collapse}em{font-weight:bold;font-style:normal}.lst{height:25px;width:496px}.gsfi,.lst{font:18px '\n",
      " 'arial,sans-serif}.gsfs{font:17px '\n",
      " 'arial,sans-serif}.ds{display:inline-box;display:inline-block;margin:3px 0 '\n",
      " '4px;margin-left:4px}input{font-family:inherit}a.gb1,a.gb2,a.gb3,a.gb4{color:#11c '\n",
      " '!important}body{background:#fff;color:black}a{color:#11c;text-decoration:none}a:hover,a:active{text-decoration:underline}.fl '\n",
      " 'a{color:#36c}a:visited{color:#551a8b}a.gb1,a.gb4{text-decoration:underline}a.gb3:hover{text-decoration:none}#ghead '\n",
      " 'a.gb2:hover{color:#fff !important}.sblc{padding-top:5px}.sblc '\n",
      " 'a{display:block;margin:2px '\n",
      " '0;margin-left:13px;font-size:11px}.lsbb{background:#eee;border:solid '\n",
      " '1px;border-color:#ccc #999 #999 '\n",
      " '#ccc;height:30px}.lsbb{display:block}.ftl,#fll '\n",
      " 'a{display:inline-block;margin:0 '\n",
      " '12px}.lsb{background:url(/images/nav_logo229.png) 0 -261px '\n",
      " 'repeat-x;border:none;color:#000;cursor:pointer;height:30px;margin:0;outline:0;font:15px '\n",
      " 'arial,sans-serif;vertical-align:top}.lsb:active{background:#ccc}.lst:focus{outline:none}</style><script '\n",
      " 'nonce=\"8Hrkj8qEiW6Nhj9bg1YTGA==\"></script></head><body '\n",
      " 'bgcolor=\"#fff\"><script nonce=\"8Hrkj8qEiW6Nhj9bg1YTGA==\">(function(){var '\n",
      " \"src='/images/nav_logo229.png';var iesg=false;document.body.onload = \"\n",
      " 'function(){window.n && window.n();if (document.images){new '\n",
      " 'Image().src=src;}\\n'\n",
      " 'if '\n",
      " '(!iesg){document.f&&document.f.q.focus();document.gbqf&&document.gbqf.q.focus();}\\n'\n",
      " '}\\n'\n",
      " '})();</script><div id=\"mngb\"> <div id=gbar><nobr><b class=gb1>Search</b> <a '\n",
      " 'class=gb1 href=\"http://www.google.co.in/imghp?hl=en&tab=wi\">Images</a> <a '\n",
      " 'class=gb1 href=\"http://maps.google.co.in/maps?hl=en&tab=wl\">Maps</a> <a '\n",
      " 'class=gb1 href=\"https://play.google.com/?hl=en&tab=w8\">Play</a> <a class=gb1 '\n",
      " 'href=\"http://www.youtube.com/?gl=IN&tab=w1\">YouTube</a> <a class=gb1 '\n",
      " 'href=\"http://news.google.co.in/nwshp?hl=en&tab=wn\">News</a> <a class=gb1 '\n",
      " 'href=\"https://mail.google.com/mail/?tab=wm\">Gmail</a> <a class=gb1 '\n",
      " 'href=\"https://drive.google.com/?tab=wo\">Drive</a> <a class=gb1 '\n",
      " 'style=\"text-decoration:none\" '\n",
      " 'href=\"https://www.google.co.in/intl/en/about/products?tab=wh\"><u>More</u> '\n",
      " '&raquo;</a></nobr></div><div id=guser width=100%><nobr><span id=gbn '\n",
      " 'class=gbi></span><span id=gbf class=gbf></span><span id=gbe></span><a '\n",
      " 'href=\"http://www.google.co.in/history/optout?hl=en\" class=gb4>Web '\n",
      " 'History</a> | <a  href=\"/preferences?hl=en\" class=gb4>Settings</a> | <a '\n",
      " 'target=_top id=gb_70 '\n",
      " 'href=\"https://accounts.google.com/ServiceLogin?hl=en&passive=true&continue=http://www.google.com/\" '\n",
      " 'class=gb4>Sign in</a></nobr></div><div class=gbh style=left:0></div><div '\n",
      " 'class=gbh style=right:0></div> </div><center><br clear=\"all\" id=\"lgpd\"><div '\n",
      " 'id=\"lga\"><img alt=\"Google\" height=\"92\" '\n",
      " 'src=\"/images/branding/googlelogo/1x/googlelogo_white_background_color_272x92dp.png\" '\n",
      " 'style=\"padding:28px 0 14px\" width=\"272\" id=\"hplogo\"><br><br></div><form '\n",
      " 'action=\"/search\" name=\"f\"><table cellpadding=\"0\" cellspacing=\"0\"><tr '\n",
      " 'valign=\"top\"><td width=\"25%\">&nbsp;</td><td align=\"center\" nowrap=\"\"><input '\n",
      " 'name=\"ie\" value=\"ISO-8859-1\" type=\"hidden\"><input value=\"en-IN\" name=\"hl\" '\n",
      " 'type=\"hidden\"><input name=\"source\" type=\"hidden\" value=\"hp\"><input '\n",
      " 'name=\"biw\" type=\"hidden\"><input name=\"bih\" type=\"hidden\"><div class=\"ds\" '\n",
      " 'style=\"height:32px;margin:4px 0\"><input '\n",
      " 'style=\"color:#000;margin:0;padding:5px 8px 0 6px;vertical-align:top\" '\n",
      " 'autocomplete=\"off\" class=\"lst\" value=\"\" title=\"Google Search\" '\n",
      " 'maxlength=\"2048\" name=\"q\" size=\"57\"></div><br style=\"line-height:0\"><span '\n",
      " 'class=\"ds\"><span class=\"lsbb\"><input class=\"lsb\" value=\"Google Search\" '\n",
      " 'name=\"btnG\" type=\"submit\"></span></span><span class=\"ds\"><span '\n",
      " 'class=\"lsbb\"><input class=\"lsb\" value=\"I\\'m Feeling Lucky\" name=\"btnI\" '\n",
      " 'onclick=\"/*gws_metadata_pragma__js_inline_handler*/ if(this.form.q.value){ '\n",
      " 'this.checked=1; if (this.form.iflsig)this.form.iflsig.disabled=false; } else '\n",
      " 'top.location=\\'/doodles/\\'\" type=\"submit\"></span></span></td><td class=\"fl '\n",
      " 'sblc\" align=\"left\" nowrap=\"\" width=\"25%\"><a '\n",
      " 'href=\"/advanced_search?hl=en-IN&amp;authuser=0\">Advanced search</a><a '\n",
      " 'href=\"/language_tools?hl=en-IN&amp;authuser=0\">Language '\n",
      " 'tools</a></td></tr></table><input id=\"gbv\" name=\"gbv\" type=\"hidden\" '\n",
      " 'value=\"1\"><script nonce=\"8Hrkj8qEiW6Nhj9bg1YTGA==\">(function(){var '\n",
      " 'a,b=\"1\";if(document&&document.getElementById)if(\"undefined\"!=typeof '\n",
      " 'XMLHttpRequest)b=\"2\";else if(\"undefined\"!=typeof ActiveXObject){var '\n",
      " 'c,d,e=[\"MSXML2.XMLHTTP.6.0\",\"MSXML2.XMLHTTP.3.0\",\"MSXML2.XMLHTTP\",\"Microsoft.XMLHTTP\"];for(c=0;d=e[c++];)try{new '\n",
      " 'ActiveXObject(d),b=\"2\"}catch(h){}}a=b;if(\"2\"==a&&-1==location.search.indexOf(\"&gbv=2\")){var '\n",
      " 'f=google.gbvu,g=document.getElementById(\"gbv\");g&&(g.value=a);f&&window.setTimeout(function(){location.href=f},0)};}).call(this);</script></form><div '\n",
      " 'id=\"gac_scont\"></div><div style=\"font-size:83%;min-height:3.5em\"><br><div '\n",
      " 'id=\"gws-output-pages-elements-homepage_additional_languages__als\"><style>#gws-output-pages-elements-homepage_additional_languages__als{font-size:small;margin-bottom:24px}#SIvCob{display:inline-block;line-height:28px;}#SIvCob '\n",
      " 'a{padding:0 3px;}.H6sW5{display:inline-block;margin:0 '\n",
      " '2px;white-space:nowrap}.z4hgWe{display:inline-block;margin:0 '\n",
      " '2px}</style><div id=\"SIvCob\">Google offered in:  <a '\n",
      " 'href=\"http://www.google.com/setprefs?sig=0_ABiJy6Rpo_kT9Dil388zadcv19E%3D&amp;hl=hi&amp;source=homepage&amp;sa=X&amp;ved=0ahUKEwi4nPTynafkAhWFrI8KHcyNCCcQ2ZgBCAU\">&#2361;&#2367;&#2344;&#2381;&#2342;&#2368;</a>    '\n",
      " '<a '\n",
      " 'href=\"http://www.google.com/setprefs?sig=0_ABiJy6Rpo_kT9Dil388zadcv19E%3D&amp;hl=bn&amp;source=homepage&amp;sa=X&amp;ved=0ahUKEwi4nPTynafkAhWFrI8KHcyNCCcQ2ZgBCAY\">&#2476;&#2494;&#2434;&#2482;&#2494;</a>    '\n",
      " '<a '\n",
      " 'href=\"http://www.google.com/setprefs?sig=0_ABiJy6Rpo_kT9Dil388zadcv19E%3D&amp;hl=te&amp;source=homepage&amp;sa=X&amp;ved=0ahUKEwi4nPTynafkAhWFrI8KHcyNCCcQ2ZgBCAc\">&#3108;&#3142;&#3122;&#3137;&#3095;&#3137;</a>    '\n",
      " '<a '\n",
      " 'href=\"http://www.google.com/setprefs?sig=0_ABiJy6Rpo_kT9Dil388zadcv19E%3D&amp;hl=mr&amp;source=homepage&amp;sa=X&amp;ved=0ahUKEwi4nPTynafkAhWFrI8KHcyNCCcQ2ZgBCAg\">&#2350;&#2352;&#2366;&#2336;&#2368;</a>    '\n",
      " '<a '\n",
      " 'href=\"http://www.google.com/setprefs?sig=0_ABiJy6Rpo_kT9Dil388zadcv19E%3D&amp;hl=ta&amp;source=homepage&amp;sa=X&amp;ved=0ahUKEwi4nPTynafkAhWFrI8KHcyNCCcQ2ZgBCAk\">&#2980;&#2990;&#3007;&#2996;&#3021;</a>    '\n",
      " '<a '\n",
      " 'href=\"http://www.google.com/setprefs?sig=0_ABiJy6Rpo_kT9Dil388zadcv19E%3D&amp;hl=gu&amp;source=homepage&amp;sa=X&amp;ved=0ahUKEwi4nPTynafkAhWFrI8KHcyNCCcQ2ZgBCAo\">&#2711;&#2753;&#2716;&#2736;&#2750;&#2724;&#2752;</a>    '\n",
      " '<a '\n",
      " 'href=\"http://www.google.com/setprefs?sig=0_ABiJy6Rpo_kT9Dil388zadcv19E%3D&amp;hl=kn&amp;source=homepage&amp;sa=X&amp;ved=0ahUKEwi4nPTynafkAhWFrI8KHcyNCCcQ2ZgBCAs\">&#3221;&#3240;&#3277;&#3240;&#3233;</a>    '\n",
      " '<a '\n",
      " 'href=\"http://www.google.com/setprefs?sig=0_ABiJy6Rpo_kT9Dil388zadcv19E%3D&amp;hl=ml&amp;source=homepage&amp;sa=X&amp;ved=0ahUKEwi4nPTynafkAhWFrI8KHcyNCCcQ2ZgBCAw\">&#3374;&#3378;&#3375;&#3390;&#3379;&#3330;</a>    '\n",
      " '<a '\n",
      " 'href=\"http://www.google.com/setprefs?sig=0_ABiJy6Rpo_kT9Dil388zadcv19E%3D&amp;hl=pa&amp;source=homepage&amp;sa=X&amp;ved=0ahUKEwi4nPTynafkAhWFrI8KHcyNCCcQ2ZgBCA0\">&#2602;&#2672;&#2588;&#2622;&#2604;&#2624;</a>  '\n",
      " '</div></div></div><span id=\"footer\"><div style=\"font-size:10pt\"><div '\n",
      " 'style=\"margin:19px auto;text-align:center\" id=\"fll\"><a '\n",
      " 'href=\"/intl/en/ads/\">Advertising\\xa0Programs</a><a '\n",
      " 'href=\"http://www.google.co.in/services/\">Business Solutions</a><a '\n",
      " 'href=\"/intl/en/about.html\">About Google</a><a '\n",
      " 'href=\"http://www.google.com/setprefdomain?prefdom=IN&amp;prev=http://www.google.co.in/&amp;sig=K_WyrcOWJIKpyt51OfAReccC25PhA%3D\">Google.co.in</a></div></div><p '\n",
      " 'style=\"color:#767676;font-size:8pt\">&copy; 2019 - <a '\n",
      " 'href=\"/intl/en/policies/privacy/\">Privacy</a> - <a '\n",
      " 'href=\"/intl/en/policies/terms/\">Terms</a></p></span></center><script '\n",
      " 'nonce=\"8Hrkj8qEiW6Nhj9bg1YTGA==\">(function(){window.google.cdo={height:0,width:0};(function(){var '\n",
      " 'a=window.innerWidth,b=window.innerHeight;if(!a||!b){var '\n",
      " 'c=window.document,d=\"CSS1Compat\"==c.compatMode?c.documentElement:c.body;a=d.clientWidth;b=d.clientHeight}a&&b&&(a!=google.cdo.width||b!=google.cdo.height)&&google.log(\"\",\"\",\"/client_204?&atyp=i&biw=\"+a+\"&bih=\"+b+\"&ei=\"+google.kEI);}).call(this);})();(function(){var '\n",
      " \"u='/xjs/_/js/k\\\\x3dxjs.hp.en.bMD9NsEptgg.O/m\\\\x3dsb_he,d/am\\\\x3dHhbUBA/d\\\\x3d1/rs\\\\x3dACT90oGUOtM16rbPfLEbsQ66cAfjD-1DzA';setTimeout(function(){var \"\n",
      " 'a=document.createElement(\"script\");a.src=u;google.timers&&google.timers.load&&google.tick&&google.tick(\"load\",\"xjsls\");document.body.appendChild(a)},0);})();(function(){window.google.xjsu=\\'/xjs/_/js/k\\\\x3dxjs.hp.en.bMD9NsEptgg.O/m\\\\x3dsb_he,d/am\\\\x3dHhbUBA/d\\\\x3d1/rs\\\\x3dACT90oGUOtM16rbPfLEbsQ66cAfjD-1DzA\\';})();function '\n",
      " '_DumpException(e){throw e;}\\n'\n",
      " 'function _F_installCss(c){}\\n'\n",
      " '(function(){google.spjs=false;google.snet=true;google.em=[];google.emw=false;})();google.sm=1;(function(){var '\n",
      " \"pmc='{\\\\x22JnTczA\\\\x22:{},\\\\x22Qnk92g\\\\x22:{},\\\\x22RWGcrA\\\\x22:{},\\\\x22U5B21g\\\\x22:{},\\\\x22YFCs/g\\\\x22:{},\\\\x22YQeDTA\\\\x22:{},\\\\x22ZI/YVQ\\\\x22:{},\\\\x22d\\\\x22:{},\\\\x22mVopag\\\\x22:{},\\\\x22sb_he\\\\x22:{\\\\x22agen\\\\x22:true,\\\\x22cgen\\\\x22:true,\\\\x22client\\\\x22:\\\\x22heirloom-hp\\\\x22,\\\\x22dh\\\\x22:true,\\\\x22dhqt\\\\x22:true,\\\\x22ds\\\\x22:\\\\x22\\\\x22,\\\\x22ffql\\\\x22:\\\\x22en\\\\x22,\\\\x22fl\\\\x22:true,\\\\x22host\\\\x22:\\\\x22google.com\\\\x22,\\\\x22isbh\\\\x22:28,\\\\x22jsonp\\\\x22:true,\\\\x22msgs\\\\x22:{\\\\x22cibl\\\\x22:\\\\x22Clear \"\n",
      " 'Search\\\\x22,\\\\x22dym\\\\x22:\\\\x22Did you '\n",
      " 'mean:\\\\x22,\\\\x22lcky\\\\x22:\\\\x22I\\\\\\\\u0026#39;m Feeling '\n",
      " 'Lucky\\\\x22,\\\\x22lml\\\\x22:\\\\x22Learn more\\\\x22,\\\\x22oskt\\\\x22:\\\\x22Input '\n",
      " 'tools\\\\x22,\\\\x22psrc\\\\x22:\\\\x22This search was removed from your \\\\\\\\u003Ca '\n",
      " 'href\\\\x3d\\\\\\\\\\\\x22/history\\\\\\\\\\\\x22\\\\\\\\u003EWeb '\n",
      " 'History\\\\\\\\u003C/a\\\\\\\\u003E\\\\x22,\\\\x22psrl\\\\x22:\\\\x22Remove\\\\x22,\\\\x22sbit\\\\x22:\\\\x22Search '\n",
      " 'by image\\\\x22,\\\\x22srch\\\\x22:\\\\x22Google '\n",
      " \"Search\\\\x22},\\\\x22ovr\\\\x22:{},\\\\x22pq\\\\x22:\\\\x22\\\\x22,\\\\x22refpd\\\\x22:true,\\\\x22rfs\\\\x22:[],\\\\x22sbpl\\\\x22:24,\\\\x22sbpr\\\\x22:24,\\\\x22scd\\\\x22:10,\\\\x22sce\\\\x22:5,\\\\x22stok\\\\x22:\\\\x22psQkygGnxQMxczeTBCBxMozSlNo\\\\x22,\\\\x22uhde\\\\x22:false}}';google.pmc=JSON.parse(pmc);})();</script>        \"\n",
      " '</body></html>')\n"
     ]
    }
   ],
   "source": [
    "data = data.decode('ISO-8859-1')\n",
    "\n",
    "pprint(data)"
   ]
  },
  {
   "cell_type": "markdown",
   "metadata": {},
   "source": [
    "### OPTIONS Method"
   ]
  },
  {
   "cell_type": "markdown",
   "metadata": {},
   "source": [
    "#### .options( ) method will show all options like what type of operations we can perform on webpage like... GET, POST, PUT, DELETE, OPTIONS' . It will not return any page data."
   ]
  },
  {
   "cell_type": "code",
   "execution_count": 50,
   "metadata": {},
   "outputs": [
    {
     "name": "stdout",
     "output_type": "stream",
     "text": [
      "{'access-control-allow-credentials': 'true',\n",
      " 'access-control-allow-methods': 'GET, POST, PUT, DELETE, PATCH, OPTIONS',\n",
      " 'access-control-allow-origin': '*',\n",
      " 'access-control-max-age': '3600',\n",
      " 'allow': 'OPTIONS, GET, HEAD',\n",
      " 'connection': 'keep-alive',\n",
      " 'content-length': '0',\n",
      " 'content-type': 'text/html; charset=utf-8',\n",
      " 'date': 'Thu, 29 Aug 2019 04:24:26 GMT',\n",
      " 'referrer-policy': 'no-referrer-when-downgrade',\n",
      " 'server': 'nginx',\n",
      " 'status': '200',\n",
      " 'x-content-type-options': 'nosniff',\n",
      " 'x-frame-options': 'DENY',\n",
      " 'x-xss-protection': '1; mode=block'}\n"
     ]
    }
   ],
   "source": [
    "resp, data = http.request(bin_url, method = 'OPTIONS')\n",
    "\n",
    "pprint(resp)"
   ]
  },
  {
   "cell_type": "markdown",
   "metadata": {},
   "source": [
    "### head"
   ]
  },
  {
   "cell_type": "markdown",
   "metadata": {},
   "source": [
    "#### To get only header info of webpage we have .head( ) method. It will not return any page data."
   ]
  },
  {
   "cell_type": "code",
   "execution_count": 51,
   "metadata": {},
   "outputs": [
    {
     "name": "stdout",
     "output_type": "stream",
     "text": [
      "{'access-control-allow-credentials': 'true',\n",
      " 'access-control-allow-origin': '*',\n",
      " 'connection': 'keep-alive',\n",
      " 'content-encoding': 'gzip',\n",
      " 'content-location': 'https://httpbin.org/',\n",
      " 'content-type': 'text/html; charset=utf-8',\n",
      " 'date': 'Thu, 29 Aug 2019 04:24:47 GMT',\n",
      " 'referrer-policy': 'no-referrer-when-downgrade',\n",
      " 'server': 'nginx',\n",
      " 'status': '200',\n",
      " 'x-content-type-options': 'nosniff',\n",
      " 'x-frame-options': 'DENY',\n",
      " 'x-xss-protection': '1; mode=block'}\n"
     ]
    }
   ],
   "source": [
    "resp, data = http.request(bin_url, method = 'HEAD')\n",
    "\n",
    "pprint(resp)"
   ]
  },
  {
   "cell_type": "markdown",
   "metadata": {},
   "source": [
    "### GET Method"
   ]
  },
  {
   "cell_type": "code",
   "execution_count": 53,
   "metadata": {},
   "outputs": [],
   "source": [
    "resp, data = http.request('https://httpbin.org/get', method = 'GET')"
   ]
  },
  {
   "cell_type": "code",
   "execution_count": 54,
   "metadata": {},
   "outputs": [
    {
     "name": "stdout",
     "output_type": "stream",
     "text": [
      "{'-content-encoding': 'gzip',\n",
      " 'access-control-allow-credentials': 'true',\n",
      " 'access-control-allow-origin': '*',\n",
      " 'connection': 'keep-alive',\n",
      " 'content-length': '239',\n",
      " 'content-location': 'https://httpbin.org/get',\n",
      " 'content-type': 'application/json',\n",
      " 'date': 'Thu, 29 Aug 2019 04:34:16 GMT',\n",
      " 'referrer-policy': 'no-referrer-when-downgrade',\n",
      " 'server': 'nginx',\n",
      " 'status': '200',\n",
      " 'x-content-type-options': 'nosniff',\n",
      " 'x-frame-options': 'DENY',\n",
      " 'x-xss-protection': '1; mode=block'}\n"
     ]
    }
   ],
   "source": [
    "pprint(resp)"
   ]
  },
  {
   "cell_type": "markdown",
   "metadata": {},
   "source": [
    "### POST Method"
   ]
  },
  {
   "cell_type": "markdown",
   "metadata": {},
   "source": [
    "#### \"post\" method will not replace the data in url it will just create the child of existing data. When ever we dont know the exact url where we are going to write the data in such case we will use post( )."
   ]
  },
  {
   "cell_type": "markdown",
   "metadata": {},
   "source": [
    "#### http.request will take data in dictionary formate."
   ]
  },
  {
   "cell_type": "code",
   "execution_count": 55,
   "metadata": {},
   "outputs": [],
   "source": [
    "post_data = '{\"name\": \"Alice\", \"college\": \"Harvard\"}'"
   ]
  },
  {
   "cell_type": "markdown",
   "metadata": {},
   "source": [
    "#### We are trying to write the data to the website using post( ), for this http is providing method parameter to pass the method what ever we want (by default it will take get( ) )."
   ]
  },
  {
   "cell_type": "code",
   "execution_count": 57,
   "metadata": {},
   "outputs": [
    {
     "name": "stdout",
     "output_type": "stream",
     "text": [
      "{'-content-encoding': 'gzip',\n",
      " 'access-control-allow-credentials': 'true',\n",
      " 'access-control-allow-origin': '*',\n",
      " 'connection': 'keep-alive',\n",
      " 'content-length': '468',\n",
      " 'content-type': 'application/json',\n",
      " 'date': 'Thu, 29 Aug 2019 04:34:58 GMT',\n",
      " 'referrer-policy': 'no-referrer-when-downgrade',\n",
      " 'server': 'nginx',\n",
      " 'status': '200',\n",
      " 'x-content-type-options': 'nosniff',\n",
      " 'x-frame-options': 'DENY',\n",
      " 'x-xss-protection': '1; mode=block'}\n"
     ]
    }
   ],
   "source": [
    "resp, data = http.request('https://httpbin.org/post', \n",
    "                          method = 'POST', \n",
    "                          body = post_data,\n",
    "                          headers = {'content-type':'application/json'})\n",
    "\n",
    "pprint(resp)"
   ]
  },
  {
   "cell_type": "code",
   "execution_count": 59,
   "metadata": {},
   "outputs": [
    {
     "name": "stdout",
     "output_type": "stream",
     "text": [
      "('{\\n'\n",
      " '  \"args\": {}, \\n'\n",
      " '  \"data\": \"{\\\\\"name\\\\\": \\\\\"Alice\\\\\", \\\\\"college\\\\\": \\\\\"Harvard\\\\\"}\", \\n'\n",
      " '  \"files\": {}, \\n'\n",
      " '  \"form\": {}, \\n'\n",
      " '  \"headers\": {\\n'\n",
      " '    \"Accept-Encoding\": \"gzip, deflate\", \\n'\n",
      " '    \"Content-Length\": \"39\", \\n'\n",
      " '    \"Content-Type\": \"application/json\", \\n'\n",
      " '    \"Host\": \"httpbin.org\", \\n'\n",
      " '    \"User-Agent\": \"Python-httplib2/0.13.1 (gzip)\"\\n'\n",
      " '  }, \\n'\n",
      " '  \"json\": {\\n'\n",
      " '    \"college\": \"Harvard\", \\n'\n",
      " '    \"name\": \"Alice\"\\n'\n",
      " '  }, \\n'\n",
      " '  \"origin\": \"49.205.217.55, 49.205.217.55\", \\n'\n",
      " '  \"url\": \"https://httpbin.org/post\"\\n'\n",
      " '}\\n')\n"
     ]
    }
   ],
   "source": [
    "pprint(data.decode('UTF-8'))"
   ]
  },
  {
   "cell_type": "markdown",
   "metadata": {},
   "source": [
    "### PUT Method"
   ]
  },
  {
   "cell_type": "markdown",
   "metadata": {},
   "source": [
    "#### \"put\" method will  replace the data in the url . When we know the exact url where we are going to write the data in such case we will use put( ).\n",
    "#### We are trying to write the data to the website using put method in url"
   ]
  },
  {
   "cell_type": "code",
   "execution_count": 60,
   "metadata": {},
   "outputs": [
    {
     "name": "stdout",
     "output_type": "stream",
     "text": [
      "{'-content-encoding': 'gzip',\n",
      " 'access-control-allow-credentials': 'true',\n",
      " 'access-control-allow-origin': '*',\n",
      " 'connection': 'keep-alive',\n",
      " 'content-length': '467',\n",
      " 'content-type': 'application/json',\n",
      " 'date': 'Thu, 29 Aug 2019 04:36:22 GMT',\n",
      " 'referrer-policy': 'no-referrer-when-downgrade',\n",
      " 'server': 'nginx',\n",
      " 'status': '200',\n",
      " 'x-content-type-options': 'nosniff',\n",
      " 'x-frame-options': 'DENY',\n",
      " 'x-xss-protection': '1; mode=block'}\n"
     ]
    }
   ],
   "source": [
    "resp, data = http.request('https://httpbin.org/put',  \n",
    "                          method = 'PUT', \n",
    "                          body = post_data, \n",
    "                          headers = {'content-type':'application/json'})\n",
    "\n",
    "pprint(resp)"
   ]
  },
  {
   "cell_type": "code",
   "execution_count": 63,
   "metadata": {},
   "outputs": [
    {
     "data": {
      "text/plain": [
       "True"
      ]
     },
     "execution_count": 63,
     "metadata": {},
     "output_type": "execute_result"
    }
   ],
   "source": [
    "http.follow_redirects"
   ]
  },
  {
   "cell_type": "code",
   "execution_count": 64,
   "metadata": {},
   "outputs": [
    {
     "data": {
      "text/plain": [
       "False"
      ]
     },
     "execution_count": 64,
     "metadata": {},
     "output_type": "execute_result"
    }
   ],
   "source": [
    "http.follow_all_redirects"
   ]
  },
  {
   "cell_type": "code",
   "execution_count": 83,
   "metadata": {},
   "outputs": [
    {
     "name": "stdout",
     "output_type": "stream",
     "text": [
      "{'-content-encoding': 'gzip',\n",
      " 'access-control-allow-credentials': 'true',\n",
      " 'access-control-allow-origin': '*',\n",
      " 'connection': 'keep-alive',\n",
      " 'content-length': '239',\n",
      " 'content-location': 'http://httpbin.org/get',\n",
      " 'content-type': 'application/json',\n",
      " 'date': 'Thu, 29 Aug 2019 06:10:16 GMT',\n",
      " 'referrer-policy': 'no-referrer-when-downgrade',\n",
      " 'server': 'nginx',\n",
      " 'status': '200',\n",
      " 'x-content-type-options': 'nosniff',\n",
      " 'x-frame-options': 'DENY',\n",
      " 'x-xss-protection': '1; mode=block'}\n"
     ]
    }
   ],
   "source": [
    "resp, data = http.request('https://httpbin.org/absolute-redirect/1',  \n",
    "                          method = 'GET')\n",
    "\n",
    "pprint(resp)"
   ]
  },
  {
   "cell_type": "code",
   "execution_count": 84,
   "metadata": {},
   "outputs": [
    {
     "data": {
      "text/plain": [
       "{'access-control-allow-credentials': 'true',\n",
       " 'access-control-allow-origin': '*',\n",
       " 'connection': 'keep-alive',\n",
       " 'content-length': '251',\n",
       " 'content-location': 'https://httpbin.org/absolute-redirect/1',\n",
       " 'content-type': 'text/html; charset=utf-8',\n",
       " 'date': 'Thu, 29 Aug 2019 06:10:15 GMT',\n",
       " 'location': 'http://httpbin.org/get',\n",
       " 'referrer-policy': 'no-referrer-when-downgrade',\n",
       " 'server': 'nginx',\n",
       " 'status': '302',\n",
       " 'x-content-type-options': 'nosniff',\n",
       " 'x-frame-options': 'DENY',\n",
       " 'x-xss-protection': '1; mode=block'}"
      ]
     },
     "execution_count": 84,
     "metadata": {},
     "output_type": "execute_result"
    }
   ],
   "source": [
    "resp.previous"
   ]
  },
  {
   "cell_type": "code",
   "execution_count": 68,
   "metadata": {},
   "outputs": [],
   "source": [
    "http.follow_redirects = False"
   ]
  },
  {
   "cell_type": "code",
   "execution_count": 69,
   "metadata": {},
   "outputs": [
    {
     "name": "stdout",
     "output_type": "stream",
     "text": [
      "{'access-control-allow-credentials': 'true',\n",
      " 'access-control-allow-origin': '*',\n",
      " 'connection': 'keep-alive',\n",
      " 'content-length': '251',\n",
      " 'content-type': 'text/html; charset=utf-8',\n",
      " 'date': 'Thu, 29 Aug 2019 04:46:42 GMT',\n",
      " 'location': 'http://httpbin.org/get',\n",
      " 'referrer-policy': 'no-referrer-when-downgrade',\n",
      " 'server': 'nginx',\n",
      " 'status': '302',\n",
      " 'x-content-type-options': 'nosniff',\n",
      " 'x-frame-options': 'DENY',\n",
      " 'x-xss-protection': '1; mode=block'}\n"
     ]
    }
   ],
   "source": [
    "resp, data = http.request('https://httpbin.org/absolute-redirect/1',  \n",
    "                          method = 'GET')\n",
    "\n",
    "pprint(resp)"
   ]
  },
  {
   "cell_type": "code",
   "execution_count": 70,
   "metadata": {},
   "outputs": [
    {
     "name": "stdout",
     "output_type": "stream",
     "text": [
      "{'access-control-allow-credentials': 'true',\n",
      " 'access-control-allow-origin': '*',\n",
      " 'connection': 'keep-alive',\n",
      " 'content-length': '0',\n",
      " 'content-type': 'text/html; charset=utf-8',\n",
      " 'date': 'Thu, 29 Aug 2019 04:48:56 GMT',\n",
      " 'location': 'https://google.com',\n",
      " 'referrer-policy': 'no-referrer-when-downgrade',\n",
      " 'server': 'nginx',\n",
      " 'status': '302',\n",
      " 'x-content-type-options': 'nosniff',\n",
      " 'x-frame-options': 'DENY',\n",
      " 'x-xss-protection': '1; mode=block'}\n"
     ]
    }
   ],
   "source": [
    "resp, data = http.request('https://httpbin.org/redirect-to?url=https://google.com&status_code=200',  \n",
    "                          method = 'GET')\n",
    "\n",
    "pprint(resp)"
   ]
  },
  {
   "cell_type": "code",
   "execution_count": 71,
   "metadata": {},
   "outputs": [],
   "source": [
    "http.follow_redirects = True"
   ]
  },
  {
   "cell_type": "code",
   "execution_count": 73,
   "metadata": {},
   "outputs": [
    {
     "name": "stdout",
     "output_type": "stream",
     "text": [
      "{'-content-encoding': 'gzip',\n",
      " 'alt-svc': 'quic=\":443\"; ma=2592000; v=\"46,43,39\"',\n",
      " 'cache-control': 'private, max-age=0',\n",
      " 'content-length': '13900',\n",
      " 'content-location': 'https://www.google.com/',\n",
      " 'content-type': 'text/html; charset=ISO-8859-1',\n",
      " 'date': 'Thu, 29 Aug 2019 04:51:44 GMT',\n",
      " 'expires': '-1',\n",
      " 'p3p': 'CP=\"This is not a P3P policy! See g.co/p3phelp for more info.\"',\n",
      " 'server': 'gws',\n",
      " 'set-cookie': '1P_JAR=2019-08-29-04; expires=Sat, 28-Sep-2019 04:51:44 GMT; '\n",
      "               'path=/; domain=.google.com; SameSite=none, '\n",
      "               'NID=188=ecjZK6JjIBJGXYouMyWOdb4c9wy78ZLMvQmcX1-kizyYTIUkTWgCrFJor7QeENn7QyceSjuC4cVC2vQ2Tv6VRxPlEMZqEsOOkmyw9hflKlkf3qsfDlPgxIjQJFHtBkcrrnez0YVJ45lkFiTgARUor18Jo-G5h15Y_cmmWRGPrpo; '\n",
      "               'expires=Fri, 28-Feb-2020 04:51:44 GMT; path=/; '\n",
      "               'domain=.google.com; HttpOnly',\n",
      " 'status': '200',\n",
      " 'transfer-encoding': 'chunked',\n",
      " 'x-frame-options': 'SAMEORIGIN',\n",
      " 'x-xss-protection': '0'}\n"
     ]
    }
   ],
   "source": [
    "resp, data = http.request('https://httpbin.org/redirect-to?url=https://google.com',  \n",
    "                          method = 'GET')\n",
    "\n",
    "pprint(resp)"
   ]
  },
  {
   "cell_type": "code",
   "execution_count": null,
   "metadata": {},
   "outputs": [],
   "source": []
  }
 ],
 "metadata": {
  "kernelspec": {
   "display_name": "Python 3",
   "language": "python",
   "name": "python3"
  },
  "language_info": {
   "codemirror_mode": {
    "name": "ipython",
    "version": 3
   },
   "file_extension": ".py",
   "mimetype": "text/x-python",
   "name": "python",
   "nbconvert_exporter": "python",
   "pygments_lexer": "ipython3",
   "version": "3.6.9"
  }
 },
 "nbformat": 4,
 "nbformat_minor": 2
}
