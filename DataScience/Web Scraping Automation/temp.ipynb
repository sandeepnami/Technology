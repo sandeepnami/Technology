{
 "cells": [
  {
   "cell_type": "code",
   "execution_count": 1,
   "metadata": {},
   "outputs": [
    {
     "name": "stdout",
     "output_type": "stream",
     "text": [
      "[[], [], []] [[22400, 22500], [22500, 22600], [22600, 22700]]\n"
     ]
    }
   ],
   "source": [
    "nifty_range = [22600,22700]\n",
    "no_of_ranges = 3\n",
    "oi_list_dict_array = []\n",
    "nifty_range_array = []\n",
    "for i in range(-no_of_ranges//2,no_of_ranges//2):\n",
    "    oi_list_dict_array.append([]) \n",
    "    nifty_range_array.append([nifty_range[0]+i*100,nifty_range[1]+i*100])\n",
    "    # oi_list_dict[i] = calc_supp(nifty_range) # to get first values\n",
    "print(oi_list_dict_array,nifty_range_array)"
   ]
  },
  {
   "cell_type": "code",
   "execution_count": null,
   "metadata": {},
   "outputs": [],
   "source": []
  }
 ],
 "metadata": {
  "kernelspec": {
   "display_name": "Python 3",
   "language": "python",
   "name": "python3"
  },
  "language_info": {
   "codemirror_mode": {
    "name": "ipython",
    "version": 3
   },
   "file_extension": ".py",
   "mimetype": "text/x-python",
   "name": "python",
   "nbconvert_exporter": "python",
   "pygments_lexer": "ipython3",
   "version": "3.12.0"
  }
 },
 "nbformat": 4,
 "nbformat_minor": 2
}
