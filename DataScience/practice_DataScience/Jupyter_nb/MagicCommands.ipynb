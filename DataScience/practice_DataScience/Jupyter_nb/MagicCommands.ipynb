{
 "cells": [
  {
   "cell_type": "markdown",
   "id": "0556679b",
   "metadata": {},
   "source": [
    "## Magic Commands"
   ]
  },
  {
   "cell_type": "markdown",
   "id": "74997458",
   "metadata": {},
   "source": [
    "let's see working of magic commands"
   ]
  },
  {
   "cell_type": "code",
   "execution_count": null,
   "id": "1a33507d",
   "metadata": {},
   "outputs": [],
   "source": [
    "%lsmagic"
   ]
  },
  {
   "cell_type": "code",
   "execution_count": null,
   "id": "53ebc985",
   "metadata": {},
   "outputs": [],
   "source": [
    "%cd"
   ]
  },
  {
   "cell_type": "code",
   "execution_count": null,
   "id": "a8d0acba",
   "metadata": {},
   "outputs": [],
   "source": [
    "%run C:\\Users\\namis\\Notebooks\\DataScience\\Jupyter_nb\\myscript.py"
   ]
  },
  {
   "cell_type": "code",
   "execution_count": null,
   "id": "8bd1f505",
   "metadata": {},
   "outputs": [],
   "source": [
    "string = 'I want to pass this string to a different notebook'\n",
    "%store string\n",
    "del string"
   ]
  },
  {
   "cell_type": "code",
   "execution_count": null,
   "id": "9b3fa81f",
   "metadata": {},
   "outputs": [],
   "source": [
    "%run C:\\Users\\namis\\Notebooks\\DataScience\\Jupyter_nb\\sin_curve.ipynb"
   ]
  },
  {
   "cell_type": "code",
   "execution_count": null,
   "id": "e1855ca3",
   "metadata": {},
   "outputs": [],
   "source": [
    "# %load C:\\Users\\namis\\Notebooks\\DataScience\\Jupyter_nb\\myscript.py\n",
    "def square(x):\n",
    "\treturn x ** 2\n",
    "\n",
    "for i in range(1, 4):\n",
    "\tprint( \"square of %s is\"%i, square(i))\n",
    "\n"
   ]
  },
  {
   "cell_type": "code",
   "execution_count": null,
   "id": "9470612b",
   "metadata": {},
   "outputs": [],
   "source": [
    "%%markdown\n",
    "## From here we are trying out Cell Magic commands"
   ]
  },
  {
   "cell_type": "code",
   "execution_count": 1,
   "id": "90506367",
   "metadata": {},
   "outputs": [
    {
     "name": "stdout",
     "output_type": "stream",
     "text": [
      "Wall time: 15.8 s\n"
     ]
    }
   ],
   "source": [
    "%%time\n",
    "import time\n",
    "for i in range(1,1000):\n",
    "    time.sleep(0.01)"
   ]
  },
  {
   "cell_type": "code",
   "execution_count": 3,
   "id": "a12b35ee",
   "metadata": {},
   "outputs": [
    {
     "name": "stdout",
     "output_type": "stream",
     "text": [
      "233 µs ± 11.4 µs per loop (mean ± std. dev. of 7 runs, 1000 loops each)\n"
     ]
    }
   ],
   "source": [
    "%%timeit\n",
    "list_squares=[n**2 for n in range(1,1000)]   # this is comprehension"
   ]
  },
  {
   "cell_type": "code",
   "execution_count": 7,
   "id": "1a15b8e2",
   "metadata": {},
   "outputs": [
    {
     "name": "stdout",
     "output_type": "stream",
     "text": [
      "Overwriting C:\\Users\\namis\\Notebooks\\DataScience\\Jupyter_nb\\test.py\n"
     ]
    }
   ],
   "source": [
    "%%writefile C:\\Users\\namis\\Notebooks\\DataScience\\Jupyter_nb\\test.py\n",
    "print(\"hi\")"
   ]
  },
  {
   "cell_type": "code",
   "execution_count": 8,
   "id": "65d66335",
   "metadata": {},
   "outputs": [
    {
     "name": "stdout",
     "output_type": "stream",
     "text": [
      "hi\n"
     ]
    }
   ],
   "source": [
    "%run C:\\Users\\namis\\Notebooks\\DataScience\\Jupyter_nb\\test.py\n",
    "    "
   ]
  },
  {
   "cell_type": "code",
   "execution_count": 9,
   "id": "545d2363",
   "metadata": {},
   "outputs": [
    {
     "data": {
      "text/html": [
       "<font size=6 color='red'>\n",
       "Sandeep Nami\n",
       "</font>\n"
      ],
      "text/plain": [
       "<IPython.core.display.HTML object>"
      ]
     },
     "metadata": {},
     "output_type": "display_data"
    }
   ],
   "source": [
    "%%html\n",
    "<font size=6 color='red'>\n",
    "Sandeep Nami\n",
    "</font>"
   ]
  },
  {
   "cell_type": "code",
   "execution_count": null,
   "id": "8f249dae",
   "metadata": {},
   "outputs": [],
   "source": []
  },
  {
   "cell_type": "markdown",
   "id": "f48ef477",
   "metadata": {},
   "source": [
    "## Using command prompt inside Jupyter nb"
   ]
  },
  {
   "cell_type": "code",
   "execution_count": null,
   "id": "efd9bde7",
   "metadata": {},
   "outputs": [],
   "source": [
    "!python --version\n",
    "!pip install matplotlib"
   ]
  },
  {
   "cell_type": "code",
   "execution_count": null,
   "id": "6f2cae28",
   "metadata": {},
   "outputs": [],
   "source": [
    "#Directry commands windows\n",
    "!CD\n",
    "!dir\n",
    "!dir /b"
   ]
  },
  {
   "cell_type": "code",
   "execution_count": null,
   "id": "43fb7691",
   "metadata": {},
   "outputs": [],
   "source": [
    "#Directry commands linux\n",
    "#!pwd\n",
    "#!ls"
   ]
  },
  {
   "cell_type": "code",
   "execution_count": null,
   "id": "8df91fef",
   "metadata": {},
   "outputs": [],
   "source": [
    "import matplotlib as plt\n",
    "plt.__version__"
   ]
  },
  {
   "cell_type": "code",
   "execution_count": null,
   "id": "f58c1822",
   "metadata": {},
   "outputs": [],
   "source": []
  },
  {
   "cell_type": "code",
   "execution_count": null,
   "id": "b26fba6c",
   "metadata": {},
   "outputs": [],
   "source": []
  },
  {
   "cell_type": "code",
   "execution_count": null,
   "id": "8ebbc901",
   "metadata": {},
   "outputs": [],
   "source": []
  }
 ],
 "metadata": {
  "kernelspec": {
   "display_name": "Python 3 (ipykernel)",
   "language": "python",
   "name": "python3"
  },
  "language_info": {
   "codemirror_mode": {
    "name": "ipython",
    "version": 3
   },
   "file_extension": ".py",
   "mimetype": "text/x-python",
   "name": "python",
   "nbconvert_exporter": "python",
   "pygments_lexer": "ipython3",
   "version": "3.9.7"
  }
 },
 "nbformat": 4,
 "nbformat_minor": 5
}
