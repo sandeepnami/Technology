{
 "cells": [
  {
   "cell_type": "code",
   "execution_count": 1,
   "id": "568533d2",
   "metadata": {},
   "outputs": [
    {
     "data": {
      "text/html": [
       "<div>\n",
       "<style scoped>\n",
       "    .dataframe tbody tr th:only-of-type {\n",
       "        vertical-align: middle;\n",
       "    }\n",
       "\n",
       "    .dataframe tbody tr th {\n",
       "        vertical-align: top;\n",
       "    }\n",
       "\n",
       "    .dataframe thead th {\n",
       "        text-align: right;\n",
       "    }\n",
       "</style>\n",
       "<table border=\"1\" class=\"dataframe\">\n",
       "  <thead>\n",
       "    <tr style=\"text-align: right;\">\n",
       "      <th></th>\n",
       "      <th>Order Date</th>\n",
       "      <th>Order ID</th>\n",
       "      <th>Title</th>\n",
       "      <th>Category</th>\n",
       "      <th>ASIN/ISBN</th>\n",
       "      <th>UNSPSC Code</th>\n",
       "      <th>Website</th>\n",
       "      <th>Release Date</th>\n",
       "      <th>Condition</th>\n",
       "      <th>Seller</th>\n",
       "      <th>...</th>\n",
       "      <th>Carrier Name &amp; Tracking Number</th>\n",
       "      <th>Item Subtotal</th>\n",
       "      <th>Item Subtotal Tax</th>\n",
       "      <th>Item Total</th>\n",
       "      <th>Tax Exemption Applied</th>\n",
       "      <th>Tax Exemption Type</th>\n",
       "      <th>Exemption Opt-Out</th>\n",
       "      <th>Buyer Name</th>\n",
       "      <th>Currency</th>\n",
       "      <th>Group Name</th>\n",
       "    </tr>\n",
       "  </thead>\n",
       "  <tbody>\n",
       "    <tr>\n",
       "      <th>0</th>\n",
       "      <td>No data found for this time period</td>\n",
       "      <td>NaN</td>\n",
       "      <td>NaN</td>\n",
       "      <td>NaN</td>\n",
       "      <td>NaN</td>\n",
       "      <td>NaN</td>\n",
       "      <td>NaN</td>\n",
       "      <td>NaN</td>\n",
       "      <td>NaN</td>\n",
       "      <td>NaN</td>\n",
       "      <td>...</td>\n",
       "      <td>NaN</td>\n",
       "      <td>NaN</td>\n",
       "      <td>NaN</td>\n",
       "      <td>NaN</td>\n",
       "      <td>NaN</td>\n",
       "      <td>NaN</td>\n",
       "      <td>NaN</td>\n",
       "      <td>NaN</td>\n",
       "      <td>NaN</td>\n",
       "      <td>NaN</td>\n",
       "    </tr>\n",
       "  </tbody>\n",
       "</table>\n",
       "<p>1 rows × 36 columns</p>\n",
       "</div>"
      ],
      "text/plain": [
       "                           Order Date  Order ID  Title  Category  ASIN/ISBN  \\\n",
       "0  No data found for this time period       NaN    NaN       NaN        NaN   \n",
       "\n",
       "   UNSPSC Code  Website  Release Date  Condition  Seller  ...  \\\n",
       "0          NaN      NaN           NaN        NaN     NaN  ...   \n",
       "\n",
       "   Carrier Name & Tracking Number  Item Subtotal  Item Subtotal Tax  \\\n",
       "0                             NaN            NaN                NaN   \n",
       "\n",
       "   Item Total  Tax Exemption Applied  Tax Exemption Type  Exemption Opt-Out  \\\n",
       "0         NaN                    NaN                 NaN                NaN   \n",
       "\n",
       "   Buyer Name  Currency  Group Name  \n",
       "0         NaN       NaN         NaN  \n",
       "\n",
       "[1 rows x 36 columns]"
      ]
     },
     "execution_count": 1,
     "metadata": {},
     "output_type": "execute_result"
    }
   ],
   "source": [
    "import pandas as pd\n",
    "\n",
    "df = pd.read_csv('amazon-orders.csv')\n",
    "df.head()"
   ]
  },
  {
   "cell_type": "code",
   "execution_count": null,
   "id": "6dc21845",
   "metadata": {},
   "outputs": [],
   "source": []
  }
 ],
 "metadata": {
  "kernelspec": {
   "display_name": "Python 3 (ipykernel)",
   "language": "python",
   "name": "python3"
  },
  "language_info": {
   "codemirror_mode": {
    "name": "ipython",
    "version": 3
   },
   "file_extension": ".py",
   "mimetype": "text/x-python",
   "name": "python",
   "nbconvert_exporter": "python",
   "pygments_lexer": "ipython3",
   "version": "3.8.11"
  }
 },
 "nbformat": 4,
 "nbformat_minor": 5
}
