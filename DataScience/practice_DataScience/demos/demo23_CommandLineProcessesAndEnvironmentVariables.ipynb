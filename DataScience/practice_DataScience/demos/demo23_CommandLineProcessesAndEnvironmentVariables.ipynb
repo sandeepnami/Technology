{
 "cells": [
  {
   "cell_type": "code",
   "execution_count": 4,
   "metadata": {},
   "outputs": [],
   "source": [
    "import os"
   ]
  },
  {
   "cell_type": "code",
   "execution_count": 5,
   "metadata": {},
   "outputs": [
    {
     "data": {
      "text/plain": [
       "environ{'TERM_PROGRAM': 'Apple_Terminal',\n",
       "        'PIG_HOME': '/Users/jananiravi/pig-install/pig-0.16.0',\n",
       "        'SHELL': '/bin/bash',\n",
       "        'TERM': 'xterm-color',\n",
       "        'TMPDIR': '/var/folders/yd/1rlyjfk975d3bb98d7_nyt740000gn/T/',\n",
       "        'Apple_PubSub_Socket_Render': '/private/tmp/com.apple.launchd.UfyWy3Xklk/Render',\n",
       "        'TERM_PROGRAM_VERSION': '421.1',\n",
       "        'OLDPWD': '/Users/jananiravi',\n",
       "        'TERM_SESSION_ID': 'B4509430-49F3-42A7-8764-B258E7F94178',\n",
       "        'USER': 'jananiravi',\n",
       "        'SSH_AUTH_SOCK': '/private/tmp/com.apple.launchd.W5rm3pWMJV/Listeners',\n",
       "        'PATH': '/Users/jananiravi/gcp_vms/google-cloud-sdk/bin:/anaconda3/bin:/usr/local/sbin:/usr/local/bin:/usr/bin:/bin:/usr/sbin:/sbin:/usr/local/mysql/bin:/Users/jananiravi/pig-install/pig-0.16.0/bin:/Users/jananiravi/apache-maven-3.3.9/bin:/Users/jananiravi/scala/scala-2.12.1/bin:/usr/local/mysql/bin',\n",
       "        'PWD': '/Users/jananiravi/Desktop/iMovieLibrary',\n",
       "        'JAVA_HOME': '/Library/Java/JavaVirtualMachines/jdk1.8.0_65.jdk/Contents/Home',\n",
       "        'LANG': 'en_US.UTF-8',\n",
       "        'XPC_FLAGS': '0x0',\n",
       "        'PS1': '\\\\[\\\\e[34m\\\\]\\\\w\\\\[\\\\e[m\\\\]>\\\\n-->',\n",
       "        'XPC_SERVICE_NAME': '0',\n",
       "        'SHLVL': '1',\n",
       "        'HOME': '/Users/jananiravi',\n",
       "        'LOGNAME': 'jananiravi',\n",
       "        'CLASSPATH': ':/lib/*:.:/lib/*:',\n",
       "        'SCALA_HOME': '/Users/jananiravi/scala/scala-2.12.1',\n",
       "        'SECURITYSESSIONID': '186a7',\n",
       "        '_': '/anaconda3/bin/jupyter',\n",
       "        'KERNEL_LAUNCH_TIMEOUT': '40',\n",
       "        'JPY_PARENT_PID': '86351',\n",
       "        'CLICOLOR': '1',\n",
       "        'PAGER': 'cat',\n",
       "        'GIT_PAGER': 'cat',\n",
       "        'MPLBACKEND': 'module://ipykernel.pylab.backend_inline'}"
      ]
     },
     "execution_count": 5,
     "metadata": {},
     "output_type": "execute_result"
    }
   ],
   "source": [
    "os.environ"
   ]
  },
  {
   "cell_type": "code",
   "execution_count": 6,
   "metadata": {},
   "outputs": [
    {
     "data": {
      "text/plain": [
       "'jananiravi'"
      ]
     },
     "execution_count": 6,
     "metadata": {},
     "output_type": "execute_result"
    }
   ],
   "source": [
    "os.environ['USER']"
   ]
  },
  {
   "cell_type": "code",
   "execution_count": 9,
   "metadata": {},
   "outputs": [],
   "source": [
    "os.environ['DATASETS'] = os.getcwd() + \"/datasets\""
   ]
  },
  {
   "cell_type": "code",
   "execution_count": 10,
   "metadata": {},
   "outputs": [
    {
     "data": {
      "text/plain": [
       "'/Users/jananiravi/Desktop/iMovieLibrary/Pluralsight/PythonForDataAnalysts/Code/datasets'"
      ]
     },
     "execution_count": 10,
     "metadata": {},
     "output_type": "execute_result"
    }
   ],
   "source": [
    "os.environ['DATASETS']"
   ]
  },
  {
   "cell_type": "code",
   "execution_count": 11,
   "metadata": {},
   "outputs": [
    {
     "data": {
      "text/plain": [
       "environ{'TERM_PROGRAM': 'Apple_Terminal',\n",
       "        'PIG_HOME': '/Users/jananiravi/pig-install/pig-0.16.0',\n",
       "        'SHELL': '/bin/bash',\n",
       "        'TERM': 'xterm-color',\n",
       "        'TMPDIR': '/var/folders/yd/1rlyjfk975d3bb98d7_nyt740000gn/T/',\n",
       "        'Apple_PubSub_Socket_Render': '/private/tmp/com.apple.launchd.UfyWy3Xklk/Render',\n",
       "        'TERM_PROGRAM_VERSION': '421.1',\n",
       "        'OLDPWD': '/Users/jananiravi',\n",
       "        'TERM_SESSION_ID': 'B4509430-49F3-42A7-8764-B258E7F94178',\n",
       "        'USER': 'jananiravi',\n",
       "        'SSH_AUTH_SOCK': '/private/tmp/com.apple.launchd.W5rm3pWMJV/Listeners',\n",
       "        'PATH': '/Users/jananiravi/gcp_vms/google-cloud-sdk/bin:/anaconda3/bin:/usr/local/sbin:/usr/local/bin:/usr/bin:/bin:/usr/sbin:/sbin:/usr/local/mysql/bin:/Users/jananiravi/pig-install/pig-0.16.0/bin:/Users/jananiravi/apache-maven-3.3.9/bin:/Users/jananiravi/scala/scala-2.12.1/bin:/usr/local/mysql/bin',\n",
       "        'PWD': '/Users/jananiravi/Desktop/iMovieLibrary',\n",
       "        'JAVA_HOME': '/Library/Java/JavaVirtualMachines/jdk1.8.0_65.jdk/Contents/Home',\n",
       "        'LANG': 'en_US.UTF-8',\n",
       "        'XPC_FLAGS': '0x0',\n",
       "        'PS1': '\\\\[\\\\e[34m\\\\]\\\\w\\\\[\\\\e[m\\\\]>\\\\n-->',\n",
       "        'XPC_SERVICE_NAME': '0',\n",
       "        'SHLVL': '1',\n",
       "        'HOME': '/Users/jananiravi',\n",
       "        'LOGNAME': 'jananiravi',\n",
       "        'CLASSPATH': ':/lib/*:.:/lib/*:',\n",
       "        'SCALA_HOME': '/Users/jananiravi/scala/scala-2.12.1',\n",
       "        'SECURITYSESSIONID': '186a7',\n",
       "        '_': '/anaconda3/bin/jupyter',\n",
       "        'KERNEL_LAUNCH_TIMEOUT': '40',\n",
       "        'JPY_PARENT_PID': '86351',\n",
       "        'CLICOLOR': '1',\n",
       "        'PAGER': 'cat',\n",
       "        'GIT_PAGER': 'cat',\n",
       "        'MPLBACKEND': 'module://ipykernel.pylab.backend_inline',\n",
       "        'DATASETS': '/Users/jananiravi/Desktop/iMovieLibrary/Pluralsight/PythonForDataAnalysts/Code/datasets'}"
      ]
     },
     "execution_count": 11,
     "metadata": {},
     "output_type": "execute_result"
    }
   ],
   "source": [
    "os.environ"
   ]
  },
  {
   "cell_type": "code",
   "execution_count": 12,
   "metadata": {},
   "outputs": [
    {
     "name": "stdout",
     "output_type": "stream",
     "text": [
      "*Demo10_CompareValuesWithComparisonOperatorsAndAnalyzingDataWithLogicalOperators.ipynb\r\n",
      "*demo15_WhileLoops-Copy1.ipynb\r\n",
      "Demo22_Files.ipynb\r\n",
      "demo01_SimpleExpressions.ipynb\r\n",
      "demo02_LogicalOperations.ipynb\r\n",
      "demo03_Variables.ipynb\r\n",
      "demo04_BasicTypesInPython.ipynb\r\n",
      "demo05_Strings.ipynb\r\n",
      "demo06_BuiltInFunctions.ipynb\r\n",
      "demo07_Lists.ipynb\r\n",
      "demo08_Tuples.ipynb\r\n",
      "demo09_Dictionaries.ipynb\r\n",
      "demo10_Sets.ipynb\r\n",
      "demo11_IfElseAndElifStatements.ipynb\r\n",
      "demo12_ForLoops.ipynb\r\n",
      "demo13_WhileLoops.ipynb\r\n",
      "demo14_BreakContinueAndPass.ipynb\r\n",
      "demo15_ListComprehension.ipynb\r\n",
      "demo16_FunctionsInputArgumentsAndReturnValues.ipynb\r\n",
      "demo17_GlobalVariablesLocalVariables.ipynb\r\n",
      "demo18_ArgumentReassignmentVsModification.ipynb\r\n",
      "demo19_KeywordArgumentsDefaultValues.ipynb\r\n",
      "demo20_FirstClassFunctions.ipynb\r\n",
      "demo21_Lambdas.ipynb\r\n",
      "demo22_ImportingModules.ipynb\r\n",
      "demo23_CommandLineProcessesAndEnvironmentVariables.ipynb\r\n"
     ]
    }
   ],
   "source": [
    "!ls"
   ]
  },
  {
   "cell_type": "code",
   "execution_count": 13,
   "metadata": {},
   "outputs": [
    {
     "name": "stdout",
     "output_type": "stream",
     "text": [
      "total 7200\r\n",
      "-rw-r--r--@ 1 jananiravi  staff    21230 Sep 16 14:27 *Demo10_CompareValuesWithComparisonOperatorsAndAnalyzingDataWithLogicalOperators.ipynb\r\n",
      "-rw-r--r--  1 jananiravi  staff  1659048 Sep 16 16:32 *demo15_WhileLoops-Copy1.ipynb\r\n",
      "-rw-r--r--@ 1 jananiravi  staff    24947 Sep 16 21:18 Demo22_Files.ipynb\r\n",
      "-rw-r--r--@ 1 jananiravi  staff    15329 Sep 16 10:15 demo01_SimpleExpressions.ipynb\r\n",
      "-rw-r--r--  1 jananiravi  staff     9669 Sep 16 10:25 demo02_LogicalOperations.ipynb\r\n",
      "-rw-r--r--@ 1 jananiravi  staff    10554 Sep 16 10:54 demo03_Variables.ipynb\r\n",
      "-rw-r--r--@ 1 jananiravi  staff     9021 Sep 16 11:13 demo04_BasicTypesInPython.ipynb\r\n",
      "-rw-r--r--@ 1 jananiravi  staff     6637 Sep 16 11:42 demo05_Strings.ipynb\r\n",
      "-rw-r--r--@ 1 jananiravi  staff    17115 Sep 16 11:59 demo06_BuiltInFunctions.ipynb\r\n",
      "-rw-r--r--@ 1 jananiravi  staff    17672 Sep 16 12:52 demo07_Lists.ipynb\r\n",
      "-rw-r--r--@ 1 jananiravi  staff     7482 Sep 16 12:41 demo08_Tuples.ipynb\r\n",
      "-rw-r--r--@ 1 jananiravi  staff     9108 Sep 16 12:50 demo09_Dictionaries.ipynb\r\n",
      "-rw-r--r--@ 1 jananiravi  staff     7431 Sep 16 13:02 demo10_Sets.ipynb\r\n",
      "-rw-r--r--@ 1 jananiravi  staff    17128 Sep 16 15:01 demo11_IfElseAndElifStatements.ipynb\r\n",
      "-rw-r--r--@ 1 jananiravi  staff    17598 Sep 16 16:08 demo12_ForLoops.ipynb\r\n",
      "-rw-r--r--@ 1 jananiravi  staff  1656913 Sep 16 16:46 demo13_WhileLoops.ipynb\r\n",
      "-rw-r--r--  1 jananiravi  staff     8773 Sep 16 17:10 demo14_BreakContinueAndPass.ipynb\r\n",
      "-rw-r--r--  1 jananiravi  staff     3767 Sep 16 17:14 demo15_ListComprehension.ipynb\r\n",
      "-rw-r--r--@ 1 jananiravi  staff    19870 Sep 16 19:30 demo16_FunctionsInputArgumentsAndReturnValues.ipynb\r\n",
      "-rw-r--r--@ 1 jananiravi  staff    12010 Sep 16 20:13 demo17_GlobalVariablesLocalVariables.ipynb\r\n",
      "-rw-r--r--  1 jananiravi  staff     7147 Sep 16 20:33 demo18_ArgumentReassignmentVsModification.ipynb\r\n",
      "-rw-r--r--@ 1 jananiravi  staff    13001 Sep 16 20:58 demo19_KeywordArgumentsDefaultValues.ipynb\r\n",
      "-rw-r--r--@ 1 jananiravi  staff     9778 Sep 16 21:13 demo20_FirstClassFunctions.ipynb\r\n",
      "-rw-r--r--  1 jananiravi  staff     3813 Sep 16 21:16 demo21_Lambdas.ipynb\r\n",
      "-rw-r--r--  1 jananiravi  staff    18493 Sep 17 10:08 demo22_ImportingModules.ipynb\r\n",
      "-rw-r--r--  1 jananiravi  staff    24769 Sep 17 10:15 demo23_CommandLineProcessesAndEnvironmentVariables.ipynb\r\n"
     ]
    }
   ],
   "source": [
    "!ls -l"
   ]
  },
  {
   "cell_type": "code",
   "execution_count": 15,
   "metadata": {},
   "outputs": [
    {
     "data": {
      "text/plain": [
       "['demo13_WhileLoops.ipynb',\n",
       " 'demo23_CommandLineProcessesAndEnvironmentVariables.ipynb',\n",
       " 'Demo22_Files.ipynb',\n",
       " 'demo06_BuiltInFunctions.ipynb',\n",
       " 'demo07_Lists.ipynb',\n",
       " 'demo05_Strings.ipynb',\n",
       " 'demo02_LogicalOperations.ipynb',\n",
       " 'demo03_Variables.ipynb',\n",
       " 'demo01_SimpleExpressions.ipynb',\n",
       " '*demo15_WhileLoops-Copy1.ipynb',\n",
       " 'demo20_FirstClassFunctions.ipynb',\n",
       " 'demo15_ListComprehension.ipynb',\n",
       " '*Demo10_CompareValuesWithComparisonOperatorsAndAnalyzingDataWithLogicalOperators.ipynb',\n",
       " 'demo21_Lambdas.ipynb',\n",
       " 'demo19_KeywordArgumentsDefaultValues.ipynb',\n",
       " 'demo08_Tuples.ipynb',\n",
       " 'demo10_Sets.ipynb',\n",
       " '.ipynb_checkpoints',\n",
       " 'demo12_ForLoops.ipynb',\n",
       " 'demo11_IfElseAndElifStatements.ipynb',\n",
       " 'demo17_GlobalVariablesLocalVariables.ipynb',\n",
       " 'demo18_ArgumentReassignmentVsModification.ipynb',\n",
       " 'demo14_BreakContinueAndPass.ipynb',\n",
       " 'demo04_BasicTypesInPython.ipynb',\n",
       " 'demo22_ImportingModules.ipynb',\n",
       " 'demo16_FunctionsInputArgumentsAndReturnValues.ipynb',\n",
       " 'demo09_Dictionaries.ipynb']"
      ]
     },
     "execution_count": 15,
     "metadata": {},
     "output_type": "execute_result"
    }
   ],
   "source": [
    "os.listdir()"
   ]
  },
  {
   "cell_type": "code",
   "execution_count": 17,
   "metadata": {},
   "outputs": [
    {
     "name": "stdout",
     "output_type": "stream",
     "text": [
      "usage: grep [-abcDEFGHhIiJLlmnOoqRSsUVvwxZ] [-A num] [-B num] [-C[num]]\r\n",
      "\t[-e pattern] [-f file] [--binary-files=value] [--color=when]\r\n",
      "\t[--context[=num]] [--directories=action] [--label] [--line-buffered]\r\n",
      "\t[--null] [pattern] [file ...]\r\n"
     ]
    }
   ],
   "source": [
    "!grep"
   ]
  },
  {
   "cell_type": "code",
   "execution_count": 20,
   "metadata": {},
   "outputs": [
    {
     "name": "stdout",
     "output_type": "stream",
     "text": [
      "demo23_CommandLineProcessesAndEnvironmentVariables.ipynb:      \"demo22_ImportingModules.ipynb\\r\\n\",\r\n",
      "demo23_CommandLineProcessesAndEnvironmentVariables.ipynb:      \"-rw-r--r--  1 jananiravi  staff    18493 Sep 17 10:08 demo22_ImportingModules.ipynb\\r\\n\",\r\n",
      "demo23_CommandLineProcessesAndEnvironmentVariables.ipynb:       \" 'demo22_ImportingModules.ipynb',\\n\",\r\n"
     ]
    }
   ],
   "source": [
    "!grep -e \"Modules\" *"
   ]
  },
  {
   "cell_type": "code",
   "execution_count": 21,
   "metadata": {},
   "outputs": [],
   "source": [
    "!grep -e \"Modules\" * > modules.txt"
   ]
  },
  {
   "cell_type": "code",
   "execution_count": 22,
   "metadata": {},
   "outputs": [
    {
     "name": "stdout",
     "output_type": "stream",
     "text": [
      "*Demo10_CompareValuesWithComparisonOperatorsAndAnalyzingDataWithLogicalOperators.ipynb\r\n",
      "*demo15_WhileLoops-Copy1.ipynb\r\n",
      "Demo22_Files.ipynb\r\n",
      "demo01_SimpleExpressions.ipynb\r\n",
      "demo02_LogicalOperations.ipynb\r\n",
      "demo03_Variables.ipynb\r\n",
      "demo04_BasicTypesInPython.ipynb\r\n",
      "demo05_Strings.ipynb\r\n",
      "demo06_BuiltInFunctions.ipynb\r\n",
      "demo07_Lists.ipynb\r\n",
      "demo08_Tuples.ipynb\r\n",
      "demo09_Dictionaries.ipynb\r\n",
      "demo10_Sets.ipynb\r\n",
      "demo11_IfElseAndElifStatements.ipynb\r\n",
      "demo12_ForLoops.ipynb\r\n",
      "demo13_WhileLoops.ipynb\r\n",
      "demo14_BreakContinueAndPass.ipynb\r\n",
      "demo15_ListComprehension.ipynb\r\n",
      "demo16_FunctionsInputArgumentsAndReturnValues.ipynb\r\n",
      "demo17_GlobalVariablesLocalVariables.ipynb\r\n",
      "demo18_ArgumentReassignmentVsModification.ipynb\r\n",
      "demo19_KeywordArgumentsDefaultValues.ipynb\r\n",
      "demo20_FirstClassFunctions.ipynb\r\n",
      "demo21_Lambdas.ipynb\r\n",
      "demo22_ImportingModules.ipynb\r\n",
      "demo23_CommandLineProcessesAndEnvironmentVariables.ipynb\r\n",
      "modules.txt\r\n"
     ]
    }
   ],
   "source": [
    "!ls"
   ]
  },
  {
   "cell_type": "code",
   "execution_count": 23,
   "metadata": {},
   "outputs": [
    {
     "name": "stdout",
     "output_type": "stream",
     "text": [
      "demo23_CommandLineProcessesAndEnvironmentVariables.ipynb:      \"demo22_ImportingModules.ipynb\\r\\n\",\r\n",
      "demo23_CommandLineProcessesAndEnvironmentVariables.ipynb:      \"-rw-r--r--  1 jananiravi  staff    18493 Sep 17 10:08 demo22_ImportingModules.ipynb\\r\\n\",\r\n",
      "demo23_CommandLineProcessesAndEnvironmentVariables.ipynb:       \" 'demo22_ImportingModules.ipynb',\\n\",\r\n"
     ]
    }
   ],
   "source": [
    "!cat modules.txt"
   ]
  },
  {
   "cell_type": "code",
   "execution_count": 24,
   "metadata": {},
   "outputs": [],
   "source": [
    "import subprocess"
   ]
  },
  {
   "cell_type": "code",
   "execution_count": 29,
   "metadata": {},
   "outputs": [
    {
     "data": {
      "text/plain": [
       "0"
      ]
     },
     "execution_count": 29,
     "metadata": {},
     "output_type": "execute_result"
    }
   ],
   "source": [
    "subprocess.call([\"ls\", \"-l\"])"
   ]
  },
  {
   "cell_type": "code",
   "execution_count": 32,
   "metadata": {},
   "outputs": [
    {
     "name": "stdout",
     "output_type": "stream",
     "text": [
      "b'*Demo10_CompareValuesWithComparisonOperatorsAndAnalyzingDataWithLogicalOperators.ipynb\\n*demo15_WhileLoops-Copy1.ipynb\\nDemo22_Files.ipynb\\ndemo01_SimpleExpressions.ipynb\\ndemo02_LogicalOperations.ipynb\\ndemo03_Variables.ipynb\\ndemo04_BasicTypesInPython.ipynb\\ndemo05_Strings.ipynb\\ndemo06_BuiltInFunctions.ipynb\\ndemo07_Lists.ipynb\\ndemo08_Tuples.ipynb\\ndemo09_Dictionaries.ipynb\\ndemo10_Sets.ipynb\\ndemo11_IfElseAndElifStatements.ipynb\\ndemo12_ForLoops.ipynb\\ndemo13_WhileLoops.ipynb\\ndemo14_BreakContinueAndPass.ipynb\\ndemo15_ListComprehension.ipynb\\ndemo16_FunctionsInputArgumentsAndReturnValues.ipynb\\ndemo17_GlobalVariablesLocalVariables.ipynb\\ndemo18_ArgumentReassignmentVsModification.ipynb\\ndemo19_KeywordArgumentsDefaultValues.ipynb\\ndemo20_FirstClassFunctions.ipynb\\ndemo21_Lambdas.ipynb\\ndemo22_ImportingModules.ipynb\\ndemo23_CommandLineProcessesAndEnvironmentVariables.ipynb\\nmodules.txt\\n'\n"
     ]
    }
   ],
   "source": [
    "output = subprocess.check_output(['ls', '-1'])\n",
    "\n",
    "print(output)"
   ]
  },
  {
   "cell_type": "code",
   "execution_count": 36,
   "metadata": {},
   "outputs": [],
   "source": [
    "from subprocess import Popen, PIPE"
   ]
  },
  {
   "cell_type": "code",
   "execution_count": 37,
   "metadata": {},
   "outputs": [],
   "source": [
    "process = Popen(['cat', 'modules.txt'], stdout=PIPE, stderr=PIPE)"
   ]
  },
  {
   "cell_type": "code",
   "execution_count": 38,
   "metadata": {},
   "outputs": [],
   "source": [
    "stdout, stderr = process.communicate()"
   ]
  },
  {
   "cell_type": "code",
   "execution_count": 39,
   "metadata": {},
   "outputs": [
    {
     "data": {
      "text/plain": [
       "b'demo23_CommandLineProcessesAndEnvironmentVariables.ipynb:      \"demo22_ImportingModules.ipynb\\\\r\\\\n\",\\ndemo23_CommandLineProcessesAndEnvironmentVariables.ipynb:      \"-rw-r--r--  1 jananiravi  staff    18493 Sep 17 10:08 demo22_ImportingModules.ipynb\\\\r\\\\n\",\\ndemo23_CommandLineProcessesAndEnvironmentVariables.ipynb:       \" \\'demo22_ImportingModules.ipynb\\',\\\\n\",\\n'"
      ]
     },
     "execution_count": 39,
     "metadata": {},
     "output_type": "execute_result"
    }
   ],
   "source": [
    "stdout"
   ]
  },
  {
   "cell_type": "code",
   "execution_count": 40,
   "metadata": {},
   "outputs": [
    {
     "data": {
      "text/plain": [
       "b''"
      ]
     },
     "execution_count": 40,
     "metadata": {},
     "output_type": "execute_result"
    }
   ],
   "source": [
    "stderr"
   ]
  },
  {
   "cell_type": "code",
   "execution_count": 44,
   "metadata": {},
   "outputs": [],
   "source": [
    "process = Popen(['cat', 'notpresent.txt'], stdout=PIPE, stderr=PIPE)\n",
    "\n",
    "stdout, stderr = process.communicate()"
   ]
  },
  {
   "cell_type": "code",
   "execution_count": 45,
   "metadata": {},
   "outputs": [
    {
     "data": {
      "text/plain": [
       "b''"
      ]
     },
     "execution_count": 45,
     "metadata": {},
     "output_type": "execute_result"
    }
   ],
   "source": [
    "stdout"
   ]
  },
  {
   "cell_type": "code",
   "execution_count": 46,
   "metadata": {},
   "outputs": [
    {
     "data": {
      "text/plain": [
       "b'cat: notpresent.txt: No such file or directory\\n'"
      ]
     },
     "execution_count": 46,
     "metadata": {},
     "output_type": "execute_result"
    }
   ],
   "source": [
    "stderr"
   ]
  },
  {
   "cell_type": "code",
   "execution_count": null,
   "metadata": {},
   "outputs": [],
   "source": []
  }
 ],
 "metadata": {
  "kernelspec": {
   "display_name": "Python 3",
   "language": "python",
   "name": "python3"
  },
  "language_info": {
   "codemirror_mode": {
    "name": "ipython",
    "version": 3
   },
   "file_extension": ".py",
   "mimetype": "text/x-python",
   "name": "python",
   "nbconvert_exporter": "python",
   "pygments_lexer": "ipython3",
   "version": "3.6.9"
  }
 },
 "nbformat": 4,
 "nbformat_minor": 2
}
