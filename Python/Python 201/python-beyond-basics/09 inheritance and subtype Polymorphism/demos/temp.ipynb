{
 "cells": [
  {
   "cell_type": "code",
   "execution_count": 2,
   "metadata": {},
   "outputs": [],
   "source": [
    "import re"
   ]
  },
  {
   "cell_type": "code",
   "execution_count": 4,
   "metadata": {},
   "outputs": [
    {
     "name": "stdout",
     "output_type": "stream",
     "text": [
      "57.3\n"
     ]
    }
   ],
   "source": [
    "from math import pi\n",
    "def radians_to_degrees(rad):\n",
    "\treturn rad * (180/pi) \n",
    "\n",
    "print(round(radians_to_degrees(1),1))"
   ]
  },
  {
   "cell_type": "code",
   "execution_count": 5,
   "metadata": {},
   "outputs": [
    {
     "name": "stdout",
     "output_type": "stream",
     "text": [
      "200 6000 720000\n"
     ]
    }
   ],
   "source": [
    "def damage(damage, speed, time):\n",
    "    if damage < 0 or speed <0:\n",
    "        return 'invalid'\n",
    "    dict1 = {'second': 1,'minute': 60,'hour': 3600}\n",
    "    return damage * speed * dict1[time]\n",
    "\n",
    "print(damage(40, 5, \"second\"), damage(100, 1, \"minute\"), damage(2, 100, \"hour\"))"
   ]
  },
  {
   "cell_type": "code",
   "execution_count": 1,
   "metadata": {},
   "outputs": [],
   "source": [
    "\n",
    "# number between 20 and 50\n",
    "num = input()\n",
    "if num <= 20:\n",
    "    print('{} is between 20 and 50', num)\n",
    "elif num >= 50:\n",
    "    print('{} is between 20 and 50', num)\n",
    "else:\n",
    "    print('{} is not between 20 and 50', num)"
   ]
  },
  {
   "cell_type": "code",
   "execution_count": 1,
   "metadata": {},
   "outputs": [],
   "source": [
    "num = input()\n"
   ]
  }
 ],
 "metadata": {
  "kernelspec": {
   "display_name": "Python 3",
   "language": "python",
   "name": "python3"
  },
  "language_info": {
   "codemirror_mode": {
    "name": "ipython",
    "version": 3
   },
   "file_extension": ".py",
   "mimetype": "text/x-python",
   "name": "python",
   "nbconvert_exporter": "python",
   "pygments_lexer": "ipython3",
   "version": "3.12.0"
  }
 },
 "nbformat": 4,
 "nbformat_minor": 2
}
