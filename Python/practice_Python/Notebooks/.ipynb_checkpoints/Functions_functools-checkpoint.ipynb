{
 "cells": [
  {
   "cell_type": "markdown",
   "id": "bc5534ba",
   "metadata": {},
   "source": [
    "## Sample Map  example Lazy Loading"
   ]
  },
  {
   "cell_type": "code",
   "execution_count": 1,
   "id": "60252058",
   "metadata": {},
   "outputs": [],
   "source": [
    "class Trace:                                    \n",
    "    def __init__(self):                         \n",
    "        self.enabled = True                     \n",
    "    def __call__(self, f):                      \n",
    "        def wrap(*args, **kwargs):              \n",
    "            if self.enabled:                    \n",
    "                print('Calling {}'.format(f))   \n",
    "            return f(*args, **kwargs)           \n",
    "        return wrap                             "
   ]
  },
  {
   "cell_type": "code",
   "execution_count": 2,
   "id": "227bf998",
   "metadata": {},
   "outputs": [
    {
     "data": {
      "text/plain": [
       "<map at 0x1e5d0d5ff40>"
      ]
     },
     "execution_count": 2,
     "metadata": {},
     "output_type": "execute_result"
    }
   ],
   "source": [
    "result = map(Trace()(ord), 'The quick brown fox')\n",
    "result"
   ]
  },
  {
   "cell_type": "code",
   "execution_count": 3,
   "id": "44327b11",
   "metadata": {},
   "outputs": [
    {
     "name": "stdout",
     "output_type": "stream",
     "text": [
      "Calling <built-in function ord>\n"
     ]
    },
    {
     "data": {
      "text/plain": [
       "84"
      ]
     },
     "execution_count": 3,
     "metadata": {},
     "output_type": "execute_result"
    }
   ],
   "source": [
    "next(result)"
   ]
  },
  {
   "cell_type": "code",
   "execution_count": 4,
   "id": "1935c305",
   "metadata": {},
   "outputs": [
    {
     "name": "stdout",
     "output_type": "stream",
     "text": [
      "Calling <built-in function ord>\n"
     ]
    },
    {
     "data": {
      "text/plain": [
       "104"
      ]
     },
     "execution_count": 4,
     "metadata": {},
     "output_type": "execute_result"
    }
   ],
   "source": [
    "next(result)"
   ]
  },
  {
   "cell_type": "code",
   "execution_count": 5,
   "id": "72c4e73b",
   "metadata": {},
   "outputs": [
    {
     "name": "stdout",
     "output_type": "stream",
     "text": [
      "Calling <built-in function ord>\n"
     ]
    },
    {
     "data": {
      "text/plain": [
       "101"
      ]
     },
     "execution_count": 5,
     "metadata": {},
     "output_type": "execute_result"
    }
   ],
   "source": [
    "next(result)"
   ]
  },
  {
   "cell_type": "code",
   "execution_count": 6,
   "id": "ef2ca5ce",
   "metadata": {},
   "outputs": [
    {
     "data": {
      "text/plain": [
       "[84,\n",
       " 104,\n",
       " 101,\n",
       " 32,\n",
       " 113,\n",
       " 117,\n",
       " 105,\n",
       " 99,\n",
       " 107,\n",
       " 32,\n",
       " 98,\n",
       " 114,\n",
       " 111,\n",
       " 119,\n",
       " 110,\n",
       " 32,\n",
       " 102,\n",
       " 111,\n",
       " 120]"
      ]
     },
     "execution_count": 6,
     "metadata": {},
     "output_type": "execute_result"
    }
   ],
   "source": [
    "list(map(ord, 'The quick brown fox'))"
   ]
  },
  {
   "cell_type": "markdown",
   "id": "73540df1",
   "metadata": {},
   "source": [
    "## Map with multiple array inputs"
   ]
  },
  {
   "cell_type": "code",
   "execution_count": 14,
   "id": "a8af5052",
   "metadata": {},
   "outputs": [],
   "source": [
    "sizes = ['small','medium','large']\n",
    "colors = ['lavender', 'teal', 'burnt orange']      \n",
    "animals = ['koala', 'platypus', 'salamander']      \n",
    "def combine(size, color, animal):                  \n",
    "    return '{} {} {}'.format(size, color, animal)"
   ]
  },
  {
   "cell_type": "code",
   "execution_count": 15,
   "id": "9a8bc708",
   "metadata": {},
   "outputs": [
    {
     "data": {
      "text/plain": [
       "['small lavender koala',\n",
       " 'medium teal platypus',\n",
       " 'large burnt orange salamander']"
      ]
     },
     "execution_count": 15,
     "metadata": {},
     "output_type": "execute_result"
    }
   ],
   "source": [
    "list(map(combine, sizes, colors, animals))"
   ]
  },
  {
   "cell_type": "code",
   "execution_count": 16,
   "id": "23850c3e",
   "metadata": {},
   "outputs": [
    {
     "data": {
      "text/plain": [
       "['0 x small lavender koala',\n",
       " '1 x medium teal platypus',\n",
       " '2 x large burnt orange salamander']"
      ]
     },
     "execution_count": 16,
     "metadata": {},
     "output_type": "execute_result"
    }
   ],
   "source": [
    "def combine(quantity, size, color, animal):                      \n",
    "    return '{} x {} {} {}'.format(quantity, size, color, animal) \n",
    "                                                                 \n",
    "import itertools                                                 \n",
    "list(map(combine, itertools.count(), sizes, colors, animals))    "
   ]
  },
  {
   "cell_type": "markdown",
   "id": "a3c6bce8",
   "metadata": {},
   "source": [
    "## Filter Function or function-tool"
   ]
  },
  {
   "cell_type": "code",
   "execution_count": 18,
   "id": "85e9c7ef",
   "metadata": {},
   "outputs": [
    {
     "data": {
      "text/plain": [
       "<filter at 0x1e5d0d5f610>"
      ]
     },
     "execution_count": 18,
     "metadata": {},
     "output_type": "execute_result"
    }
   ],
   "source": [
    "positives = filter(lambda x: x > 0, [1, -5, 0, 6, -2, 8])  \n",
    "positives               "
   ]
  },
  {
   "cell_type": "code",
   "execution_count": 19,
   "id": "314370ff",
   "metadata": {},
   "outputs": [
    {
     "data": {
      "text/plain": [
       "[1, 6, 8]"
      ]
     },
     "execution_count": 19,
     "metadata": {},
     "output_type": "execute_result"
    }
   ],
   "source": [
    "list(positives)                                            "
   ]
  },
  {
   "cell_type": "code",
   "execution_count": 21,
   "id": "6744a122",
   "metadata": {},
   "outputs": [
    {
     "data": {
      "text/plain": [
       "[1, True, [1, 2, 3], 'hello']"
      ]
     },
     "execution_count": 21,
     "metadata": {},
     "output_type": "execute_result"
    }
   ],
   "source": [
    "trues=filter(None,[1, False, True,[], [1, 2, 3],'', 'hello']) \n",
    "list(trues)"
   ]
  },
  {
   "cell_type": "code",
   "execution_count": 22,
   "id": "9673d976",
   "metadata": {},
   "outputs": [],
   "source": [
    "## Reduce function"
   ]
  },
  {
   "cell_type": "code",
   "execution_count": 25,
   "id": "ac835d94",
   "metadata": {},
   "outputs": [
    {
     "data": {
      "text/plain": [
       "15"
      ]
     },
     "execution_count": 25,
     "metadata": {},
     "output_type": "execute_result"
    }
   ],
   "source": [
    "from functools import reduce\n",
    "import operator                                                   \n",
    "reduce(operator.add, [1, 2, 3, 4, 5])                           "
   ]
  },
  {
   "cell_type": "code",
   "execution_count": 26,
   "id": "2c51a64f",
   "metadata": {},
   "outputs": [
    {
     "data": {
      "text/plain": [
       "15"
      ]
     },
     "execution_count": 26,
     "metadata": {},
     "output_type": "execute_result"
    }
   ],
   "source": [
    "numbers = [1, 2, 3, 4, 5]                                         \n",
    "accumulator = operator.add(numbers[0], numbers[1])                \n",
    "for item in numbers[2:]:                                          \n",
    "    accumulator = operator.add(accumulator, item)                 \n",
    "                                                                  \n",
    "accumulator      "
   ]
  },
  {
   "cell_type": "code",
   "execution_count": 27,
   "id": "cb5f0919",
   "metadata": {},
   "outputs": [
    {
     "name": "stdout",
     "output_type": "stream",
     "text": [
      "mul 1 2\n",
      "mul 2 3\n",
      "mul 6 4\n",
      "mul 24 5\n",
      "mul 120 6\n",
      "mul 720 7\n",
      "mul 5040 8\n",
      "mul 40320 9\n"
     ]
    },
    {
     "data": {
      "text/plain": [
       "362880"
      ]
     },
     "execution_count": 27,
     "metadata": {},
     "output_type": "execute_result"
    }
   ],
   "source": [
    "def mul(x, y):                      \n",
    "    print('mul {} {}'.format(x, y)) \n",
    "    return x * y                    \n",
    "                                    \n",
    "reduce(mul, range(1, 10))           "
   ]
  },
  {
   "cell_type": "code",
   "execution_count": 28,
   "id": "76e74870",
   "metadata": {},
   "outputs": [
    {
     "ename": "TypeError",
     "evalue": "reduce() of empty sequence with no initial value",
     "output_type": "error",
     "traceback": [
      "\u001b[1;31m---------------------------------------------------------------------------\u001b[0m",
      "\u001b[1;31mTypeError\u001b[0m                                 Traceback (most recent call last)",
      "\u001b[1;32m~\\AppData\\Local\\Temp/ipykernel_9292/1129795166.py\u001b[0m in \u001b[0;36m<module>\u001b[1;34m\u001b[0m\n\u001b[1;32m----> 1\u001b[1;33m \u001b[0mreduce\u001b[0m\u001b[1;33m(\u001b[0m\u001b[0mmul\u001b[0m\u001b[1;33m,\u001b[0m \u001b[1;33m[\u001b[0m\u001b[1;33m]\u001b[0m\u001b[1;33m)\u001b[0m\u001b[1;33m\u001b[0m\u001b[1;33m\u001b[0m\u001b[0m\n\u001b[0m",
      "\u001b[1;31mTypeError\u001b[0m: reduce() of empty sequence with no initial value"
     ]
    }
   ],
   "source": [
    "reduce(mul, [])"
   ]
  },
  {
   "cell_type": "code",
   "execution_count": 29,
   "id": "7c09644f",
   "metadata": {},
   "outputs": [
    {
     "data": {
      "text/plain": [
       "1"
      ]
     },
     "execution_count": 29,
     "metadata": {},
     "output_type": "execute_result"
    }
   ],
   "source": [
    "reduce(mul, [1])"
   ]
  },
  {
   "cell_type": "code",
   "execution_count": 33,
   "id": "7183e050",
   "metadata": {},
   "outputs": [
    {
     "data": {
      "text/plain": [
       "6"
      ]
     },
     "execution_count": 33,
     "metadata": {},
     "output_type": "execute_result"
    }
   ],
   "source": [
    "values = [1, 2, 3]                          \n",
    "reduce(operator.add, values, 0)             "
   ]
  },
  {
   "cell_type": "code",
   "execution_count": 31,
   "id": "33fc2ffb",
   "metadata": {},
   "outputs": [
    {
     "data": {
      "text/plain": [
       "0"
      ]
     },
     "execution_count": 31,
     "metadata": {},
     "output_type": "execute_result"
    }
   ],
   "source": [
    "values = []                                 \n",
    "reduce(operator.add, values, 0)   "
   ]
  },
  {
   "cell_type": "code",
   "execution_count": 32,
   "id": "385d1204",
   "metadata": {},
   "outputs": [
    {
     "data": {
      "text/plain": [
       "6"
      ]
     },
     "execution_count": 32,
     "metadata": {},
     "output_type": "execute_result"
    }
   ],
   "source": [
    "values = [1, 2, 3]                          \n",
    "reduce(operator.add, values, 0) "
   ]
  },
  {
   "cell_type": "code",
   "execution_count": 34,
   "id": "90dd1c9b",
   "metadata": {},
   "outputs": [
    {
     "data": {
      "text/plain": [
       "6"
      ]
     },
     "execution_count": 34,
     "metadata": {},
     "output_type": "execute_result"
    }
   ],
   "source": [
    "values = [1, 2, 3]                          \n",
    "reduce(operator.mul, values, 1)"
   ]
  },
  {
   "cell_type": "code",
   "execution_count": 35,
   "id": "ddeed9c7",
   "metadata": {},
   "outputs": [],
   "source": [
    "def count_words(doc):                                                       \n",
    "    normalised_doc = ''.join(c.lower() if c.isalpha() else ' ' for c in doc)\n",
    "    frequencies = {}                                                        \n",
    "    for word in normalised_doc.split():                                     \n",
    "        frequencies[word] = frequencies.get(word, 0) + 1                    \n",
    "    return frequencies                                                  "
   ]
  },
  {
   "cell_type": "code",
   "execution_count": 36,
   "id": "5590a7c3",
   "metadata": {},
   "outputs": [
    {
     "data": {
      "text/plain": [
       "{'it': 2, 'was': 2, 'the': 2, 'best': 1, 'of': 2, 'times': 2, 'worst': 1}"
      ]
     },
     "execution_count": 36,
     "metadata": {},
     "output_type": "execute_result"
    }
   ],
   "source": [
    "count_words('It was the best of times, it was the worst of times.')"
   ]
  },
  {
   "cell_type": "code",
   "execution_count": 46,
   "id": "e9caacc1",
   "metadata": {},
   "outputs": [],
   "source": [
    "documents = [                                                               \n",
    "    'It was the best of times, it was the worst of times.',                 \n",
    "    'I went to the woods because I wished to live deliberately, to front only the essential facts of life...',                                              \n",
    "    'Friends, Romans, countrymen, lend me your ears; I come to bury Caesar,to praise him.',                                                            \n",
    "    'I do not like green eggs and ham. I do not like them, Sam-I-Am.',      \n",
    "]                                                                                                                   "
   ]
  },
  {
   "cell_type": "code",
   "execution_count": 50,
   "id": "0423139c",
   "metadata": {},
   "outputs": [],
   "source": [
    "counts = map(count_words, documents)  # lazy calculation\n",
    "#counts_data=list(map(count_words, documents))\n",
    "#print(counts_data)"
   ]
  },
  {
   "cell_type": "code",
   "execution_count": 39,
   "id": "07884bd3",
   "metadata": {},
   "outputs": [],
   "source": [
    "def combine_counts(d1, d2):              \n",
    "    d = d1.copy()                        \n",
    "    for word, count in d2.items():       \n",
    "        d[word] = d.get(word, 0) + count \n",
    "    return d                             "
   ]
  },
  {
   "cell_type": "code",
   "execution_count": 40,
   "id": "ed69b2c8",
   "metadata": {},
   "outputs": [
    {
     "data": {
      "text/plain": [
       "{'it': 2,\n",
       " 'was': 2,\n",
       " 'the': 4,\n",
       " 'best': 1,\n",
       " 'of': 3,\n",
       " 'times': 2,\n",
       " 'worst': 1,\n",
       " 'i': 6,\n",
       " 'went': 1,\n",
       " 'to': 5,\n",
       " 'woods': 1,\n",
       " 'because': 1,\n",
       " 'wished': 1,\n",
       " 'live': 1,\n",
       " 'deliberately': 1,\n",
       " 'front': 1,\n",
       " 'only': 1,\n",
       " 'essential': 1,\n",
       " 'facts': 1,\n",
       " 'life': 1,\n",
       " 'friends': 1,\n",
       " 'romans': 1,\n",
       " 'countrymen': 1,\n",
       " 'lend': 1,\n",
       " 'me': 1,\n",
       " 'your': 1,\n",
       " 'ears': 1,\n",
       " 'come': 1,\n",
       " 'bury': 1,\n",
       " 'caesar': 1,\n",
       " 'praise': 1,\n",
       " 'him': 1,\n",
       " 'do': 2,\n",
       " 'not': 2,\n",
       " 'like': 2,\n",
       " 'green': 1,\n",
       " 'eggs': 1,\n",
       " 'and': 1,\n",
       " 'ham': 1,\n",
       " 'them': 1,\n",
       " 'sam': 1,\n",
       " 'am': 1}"
      ]
     },
     "execution_count": 40,
     "metadata": {},
     "output_type": "execute_result"
    }
   ],
   "source": [
    "total_counts = reduce(combine_counts, counts)  \n",
    "total_counts                                   "
   ]
  },
  {
   "cell_type": "code",
   "execution_count": null,
   "id": "eeffebd4",
   "metadata": {},
   "outputs": [],
   "source": []
  }
 ],
 "metadata": {
  "kernelspec": {
   "display_name": "Python 3 (ipykernel)",
   "language": "python",
   "name": "python3"
  },
  "language_info": {
   "codemirror_mode": {
    "name": "ipython",
    "version": 3
   },
   "file_extension": ".py",
   "mimetype": "text/x-python",
   "name": "python",
   "nbconvert_exporter": "python",
   "pygments_lexer": "ipython3",
   "version": "3.9.7"
  }
 },
 "nbformat": 4,
 "nbformat_minor": 5
}
