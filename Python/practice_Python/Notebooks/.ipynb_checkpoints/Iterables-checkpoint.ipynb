{
 "cells": [
  {
   "cell_type": "markdown",
   "id": "e8be103f",
   "metadata": {},
   "source": [
    "## creating-iterables"
   ]
  },
  {
   "cell_type": "code",
   "execution_count": 7,
   "id": "3ceccca4",
   "metadata": {},
   "outputs": [],
   "source": [
    "iterable_list = [2, 4, 6, 8, 10]\n",
    "iterable_tuple = (\"orange\", \"apple\", \"banana\")\n",
    "iterable_dict = dict(a=\"alpha\", b=\"bravo\", c=\"charlie\")\n",
    "\n",
    "def iterable_oceans():  #generator function\n",
    "    yield \"Arctic\"\n",
    "    yield \"Atlantic\"\n",
    "    yield \"Indian\"\n",
    "    yield \"Pacific\"\n",
    "    yield \"Southern\"\n",
    "\n",
    "iterable_squares = (x*x for x in range(10))  # generator comprehension"
   ]
  },
  {
   "cell_type": "markdown",
   "id": "6de47cf2",
   "metadata": {},
   "source": [
    "iterables"
   ]
  },
  {
   "cell_type": "code",
   "execution_count": 10,
   "id": "b7449c2f",
   "metadata": {},
   "outputs": [
    {
     "name": "stdout",
     "output_type": "stream",
     "text": [
      "2\n"
     ]
    }
   ],
   "source": [
    "class MyIterable:\n",
    "\n",
    "    def __iter__(self):\n",
    "        # Must return a new iterator\n",
    "        # for this iterable\n",
    "        iterator = MyIterator(self)\n",
    "        return iterator\n",
    "\n",
    "iterator = iter(iterable_list)\n",
    "\n",
    "print (next(iterator))"
   ]
  },
  {
   "cell_type": "markdown",
   "id": "02ceb987",
   "metadata": {},
   "source": [
    "Iterator"
   ]
  },
  {
   "cell_type": "code",
   "execution_count": 5,
   "id": "34c4dc5c",
   "metadata": {},
   "outputs": [],
   "source": [
    "class MyIterator:\n",
    "\n",
    "    def __iter__(self):\n",
    "        # All iterators are also iterables\n",
    "        return self\n",
    "\n",
    "    def __next__(self):\n",
    "        if not has_more_items():\n",
    "            raise StopIteration\n",
    "        item = get_the_next_item()\n",
    "        return item"
   ]
  },
  {
   "cell_type": "markdown",
   "id": "bdba26ce",
   "metadata": {},
   "source": [
    "iter and next"
   ]
  },
  {
   "cell_type": "code",
   "execution_count": null,
   "id": "150a175c",
   "metadata": {},
   "outputs": [],
   "source": [
    "iterator = iter(iterable_list)\n",
    "\n",
    "try:\n",
    "    item = next(iterator)\n",
    "    print(item)\n",
    "except StopIteration:\n",
    "    print(\"No more items\")\n"
   ]
  }
 ],
 "metadata": {
  "kernelspec": {
   "display_name": "Python 3 (ipykernel)",
   "language": "python",
   "name": "python3"
  },
  "language_info": {
   "codemirror_mode": {
    "name": "ipython",
    "version": 3
   },
   "file_extension": ".py",
   "mimetype": "text/x-python",
   "name": "python",
   "nbconvert_exporter": "python",
   "pygments_lexer": "ipython3",
   "version": "3.9.7"
  }
 },
 "nbformat": 4,
 "nbformat_minor": 5
}
