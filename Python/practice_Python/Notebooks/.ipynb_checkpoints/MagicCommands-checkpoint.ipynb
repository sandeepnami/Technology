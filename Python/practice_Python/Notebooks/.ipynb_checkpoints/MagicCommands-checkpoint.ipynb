{
 "cells": [
  {
   "cell_type": "markdown",
   "id": "0556679b",
   "metadata": {},
   "source": [
    "## Magic Commands"
   ]
  },
  {
   "cell_type": "markdown",
   "id": "74997458",
   "metadata": {},
   "source": [
    "let's see working of magic commands"
   ]
  },
  {
   "cell_type": "code",
   "execution_count": null,
   "id": "1a33507d",
   "metadata": {},
   "outputs": [],
   "source": [
    "%lsmagic"
   ]
  },
  {
   "cell_type": "code",
   "execution_count": 2,
   "id": "53ebc985",
   "metadata": {},
   "outputs": [
    {
     "name": "stdout",
     "output_type": "stream",
     "text": [
      "C:\\Users\\namis\n"
     ]
    }
   ],
   "source": [
    "%cd"
   ]
  },
  {
   "cell_type": "code",
   "execution_count": 3,
   "id": "a8d0acba",
   "metadata": {},
   "outputs": [
    {
     "name": "stdout",
     "output_type": "stream",
     "text": [
      "square of  1  is =  1\n",
      "square of  2  is =  4\n",
      "square of  3  is =  9\n",
      "square of  4  is =  16\n"
     ]
    }
   ],
   "source": [
    "%run notebooks/myscript.py"
   ]
  },
  {
   "cell_type": "code",
   "execution_count": 4,
   "id": "345635ff",
   "metadata": {},
   "outputs": [
    {
     "name": "stdout",
     "output_type": "stream",
     "text": [
      "C:\\Users\\namis\n",
      "square of  1  is =  1\n",
      "square of  2  is =  4\n",
      "square of  3  is =  9\n",
      "square of  4  is =  16\n",
      "Python 3.9.7\n",
      "Requirement already satisfied: matplotlib in c:\\users\\namis\\anaconda3\\lib\\site-packages (3.4.3)\n",
      "Requirement already satisfied: cycler>=0.10 in c:\\users\\namis\\anaconda3\\lib\\site-packages (from matplotlib) (0.10.0)\n",
      "Requirement already satisfied: pyparsing>=2.2.1 in c:\\users\\namis\\anaconda3\\lib\\site-packages (from matplotlib) (3.0.4)\n",
      "Requirement already satisfied: numpy>=1.16 in c:\\users\\namis\\anaconda3\\lib\\site-packages (from matplotlib) (1.20.3)\n",
      "Requirement already satisfied: python-dateutil>=2.7 in c:\\users\\namis\\anaconda3\\lib\\site-packages (from matplotlib) (2.8.2)\n",
      "Requirement already satisfied: pillow>=6.2.0 in c:\\users\\namis\\anaconda3\\lib\\site-packages (from matplotlib) (8.4.0)\n",
      "Requirement already satisfied: kiwisolver>=1.0.1 in c:\\users\\namis\\anaconda3\\lib\\site-packages (from matplotlib) (1.3.1)\n",
      "Requirement already satisfied: six in c:\\users\\namis\\anaconda3\\lib\\site-packages (from cycler>=0.10->matplotlib) (1.16.0)\n",
      "C:\\Users\\namis\n",
      " Volume in drive C is Acer\n",
      " Volume Serial Number is 28CC-89E3\n",
      "\n",
      " Directory of C:\\Users\\namis\n",
      "\n",
      "06-02-2022  11:55    <DIR>          .\n",
      "05-01-2022  15:46    <DIR>          ..\n",
      "05-02-2022  20:15    <DIR>          .cache\n",
      "06-02-2022  15:18    <DIR>          .conda\n",
      "06-02-2022  00:03                25 .condarc\n",
      "26-01-2022  20:21    <DIR>          .config\n",
      "06-02-2022  00:02    <DIR>          .continuum\n",
      "05-02-2022  20:05    <DIR>          .eclipse\n",
      "05-02-2022  16:43    <DIR>          .idlerc\n",
      "06-02-2022  11:52    <DIR>          .ipynb_checkpoints\n",
      "12-12-2021  21:00    <DIR>          .ipython\n",
      "06-02-2022  15:05    <DIR>          .jupyter\n",
      "16-12-2021  09:11    <DIR>          .matplotlib\n",
      "26-01-2022  18:52                 0 .node_repl_history\n",
      "05-02-2022  20:15    <DIR>          .p2\n",
      "14-01-2022  11:52    <DIR>          .quokka\n",
      "06-02-2022  10:38    <DIR>          .spyder-py3\n",
      "03-01-2022  10:00    <DIR>          .vscode\n",
      "14-01-2022  11:52    <DIR>          .wallaby\n",
      "03-01-2022  10:04    <DIR>          .zowe\n",
      "09-12-2021  09:38    <DIR>          3D Objects\n",
      "02-01-2022  09:56    <DIR>          anaconda3\n",
      "15-01-2022  11:40    <DIR>          Calibre Library\n",
      "30-12-2021  02:41    <DIR>          Contacts\n",
      "05-02-2022  16:45    <DIR>          Desktop\n",
      "05-02-2022  11:33    <DIR>          Documents\n",
      "06-02-2022  12:08    <DIR>          Downloads\n",
      "30-12-2021  02:41    <DIR>          Favorites\n",
      "06-02-2022  09:40    <DIR>          Jedi\n",
      "30-12-2021  02:41    <DIR>          Links\n",
      "30-12-2021  02:41    <DIR>          Music\n",
      "06-02-2022  15:17    <DIR>          Notebooks\n",
      "05-02-2022  22:36    <DIR>          OneDrive\n",
      "30-12-2021  02:41    <DIR>          Pictures\n",
      "05-02-2022  22:40    <DIR>          PycharmProjects\n",
      "06-02-2022  00:14    <DIR>          python_practice\n",
      "30-12-2021  02:41    <DIR>          Saved Games\n",
      "31-12-2021  05:59    <DIR>          Searches\n",
      "06-02-2022  11:55               588 Untitled.ipynb\n",
      "30-12-2021  02:41    <DIR>          Videos\n",
      "               3 File(s)            613 bytes\n",
      "              37 Dir(s)  267,080,556,544 bytes free\n",
      ".cache\n",
      ".conda\n",
      ".condarc\n",
      ".config\n",
      ".continuum\n",
      ".eclipse\n",
      ".idlerc\n",
      ".ipynb_checkpoints\n",
      ".ipython\n",
      ".jupyter\n",
      ".matplotlib\n",
      ".node_repl_history\n",
      ".p2\n",
      ".quokka\n",
      ".spyder-py3\n",
      ".vscode\n",
      ".wallaby\n",
      ".zowe\n",
      "3D Objects\n",
      "anaconda3\n",
      "Calibre Library\n",
      "Contacts\n",
      "Desktop\n",
      "Documents\n",
      "Downloads\n",
      "Favorites\n",
      "Jedi\n",
      "Links\n",
      "Music\n",
      "Notebooks\n",
      "OneDrive\n",
      "Pictures\n",
      "PycharmProjects\n",
      "python_practice\n",
      "Saved Games\n",
      "Searches\n",
      "Untitled.ipynb\n",
      "Videos\n"
     ]
    },
    {
     "name": "stderr",
     "output_type": "stream",
     "text": [
      "'pwd' is not recognized as an internal or external command,\n",
      "operable program or batch file.\n",
      "'ls' is not recognized as an internal or external command,\n",
      "operable program or batch file.\n"
     ]
    }
   ],
   "source": [
    "%run notebooks/magiccommands.ipynb"
   ]
  },
  {
   "cell_type": "code",
   "execution_count": null,
   "id": "188731f8",
   "metadata": {},
   "outputs": [],
   "source": []
  },
  {
   "cell_type": "code",
   "execution_count": null,
   "id": "efd9bde7",
   "metadata": {},
   "outputs": [],
   "source": [
    "!python --version\n",
    "!pip install matplotlib"
   ]
  },
  {
   "cell_type": "code",
   "execution_count": null,
   "id": "6f2cae28",
   "metadata": {},
   "outputs": [],
   "source": [
    "#Directry commands windows\n",
    "!CD\n",
    "!dir\n",
    "!dir /b"
   ]
  },
  {
   "cell_type": "code",
   "execution_count": null,
   "id": "43fb7691",
   "metadata": {},
   "outputs": [],
   "source": [
    "#Directry commands linux\n",
    "!pwd\n",
    "!ls"
   ]
  },
  {
   "cell_type": "code",
   "execution_count": null,
   "id": "8df91fef",
   "metadata": {},
   "outputs": [],
   "source": [
    "import matplotlib as plt\n",
    "plt.__version__"
   ]
  },
  {
   "cell_type": "code",
   "execution_count": null,
   "id": "f58c1822",
   "metadata": {},
   "outputs": [],
   "source": []
  },
  {
   "cell_type": "code",
   "execution_count": null,
   "id": "b26fba6c",
   "metadata": {},
   "outputs": [],
   "source": []
  },
  {
   "cell_type": "code",
   "execution_count": null,
   "id": "8ebbc901",
   "metadata": {},
   "outputs": [],
   "source": []
  }
 ],
 "metadata": {
  "kernelspec": {
   "display_name": "Python 3 (ipykernel)",
   "language": "python",
   "name": "python3"
  },
  "language_info": {
   "codemirror_mode": {
    "name": "ipython",
    "version": 3
   },
   "file_extension": ".py",
   "mimetype": "text/x-python",
   "name": "python",
   "nbconvert_exporter": "python",
   "pygments_lexer": "ipython3",
   "version": "3.9.7"
  }
 },
 "nbformat": 4,
 "nbformat_minor": 5
}
