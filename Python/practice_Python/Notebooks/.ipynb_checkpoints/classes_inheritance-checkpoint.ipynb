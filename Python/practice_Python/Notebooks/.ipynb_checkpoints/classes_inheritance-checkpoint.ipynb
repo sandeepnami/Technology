{
 "cells": [
  {
   "cell_type": "markdown",
   "id": "f48b442e",
   "metadata": {},
   "source": [
    "## Base Class"
   ]
  },
  {
   "cell_type": "code",
   "execution_count": 1,
   "id": "f85238a0",
   "metadata": {},
   "outputs": [],
   "source": [
    "class Base:\n",
    "    def __init__(self):\n",
    "        print('Base initializer')\n",
    "\n",
    "    def f(self):\n",
    "        print('Function from Base f()')\n",
    "\n",
    "\n",
    "class Sub(Base):\n",
    "    def __init__(self):\n",
    "        print('Sub initializer')\n",
    "\n",
    "    def f(self):\n",
    "         print('Function from Sub f()')"
   ]
  },
  {
   "cell_type": "code",
   "execution_count": 2,
   "id": "3c0aa55e",
   "metadata": {},
   "outputs": [
    {
     "name": "stdout",
     "output_type": "stream",
     "text": [
      "Base initializer\n",
      "Function from Base f()\n"
     ]
    }
   ],
   "source": [
    "b=Base()\n",
    "b.f()"
   ]
  },
  {
   "cell_type": "code",
   "execution_count": null,
   "id": "a155462e",
   "metadata": {},
   "outputs": [],
   "source": []
  },
  {
   "cell_type": "code",
   "execution_count": 3,
   "id": "ea416cf1",
   "metadata": {},
   "outputs": [
    {
     "name": "stdout",
     "output_type": "stream",
     "text": [
      "Sub initializer\n",
      "Function from Sub f()\n"
     ]
    }
   ],
   "source": [
    "s=Sub()\n",
    "s.f()"
   ]
  },
  {
   "cell_type": "markdown",
   "id": "8baa6ea3",
   "metadata": {},
   "source": [
    "# second exaple"
   ]
  },
  {
   "cell_type": "code",
   "execution_count": 4,
   "id": "7b8d273d",
   "metadata": {},
   "outputs": [],
   "source": [
    "class Base:\n",
    "    def __init__(self):\n",
    "        print('Base initializer')\n",
    "\n",
    "    def f(self):\n",
    "        print('Base.f()')\n",
    "\n",
    "\n",
    "class Sub(Base):\n",
    "    def __init__(self):\n",
    "        super().__init__()\n",
    "        print('Sub initializer')\n",
    "\n",
    "    def f(self):\n",
    "        print('Sub.f()')"
   ]
  },
  {
   "cell_type": "code",
   "execution_count": 5,
   "id": "4e02810e",
   "metadata": {},
   "outputs": [
    {
     "name": "stdout",
     "output_type": "stream",
     "text": [
      "Base initializer\n"
     ]
    }
   ],
   "source": [
    "b=Base()\n"
   ]
  },
  {
   "cell_type": "code",
   "execution_count": 6,
   "id": "b051e901",
   "metadata": {},
   "outputs": [
    {
     "name": "stdout",
     "output_type": "stream",
     "text": [
      "Base initializer\n",
      "Sub initializer\n"
     ]
    }
   ],
   "source": [
    "s=Sub()"
   ]
  },
  {
   "cell_type": "markdown",
   "id": "2b8e2f1e",
   "metadata": {},
   "source": [
    "## Another Base Class for inheritance study"
   ]
  },
  {
   "cell_type": "code",
   "execution_count": 7,
   "id": "19091d40",
   "metadata": {},
   "outputs": [],
   "source": [
    "class SimpleList:\n",
    "    def __init__(self, items):\n",
    "        self._items = list(items)\n",
    "\n",
    "    def add(self, item):\n",
    "        self._items.append(item)\n",
    "\n",
    "    def __getitem__(self, index):\n",
    "        return self._items[index]\n",
    "\n",
    "    def sort(self):\n",
    "        self._items.sort()\n",
    "\n",
    "    def __len__(self):\n",
    "        return len(self._items)\n",
    "\n",
    "    def __repr__(self): # TO show the description of Class\n",
    "        return f'{type(self).__name__}({self._items!r})'\n",
    "\n",
    "\n",
    "class SortedList(SimpleList):\n",
    "    def __init__(self, items=()):\n",
    "        super().__init__(items)\n",
    "        self.sort()\n",
    "\n",
    "    def add(self, item):\n",
    "        super().add(item)\n",
    "        self.sort()\n"
   ]
  },
  {
   "cell_type": "code",
   "execution_count": 8,
   "id": "e3b7d215",
   "metadata": {},
   "outputs": [],
   "source": [
    "sl=SortedList([12,4,-1])"
   ]
  },
  {
   "cell_type": "code",
   "execution_count": 9,
   "id": "48253df3",
   "metadata": {},
   "outputs": [
    {
     "data": {
      "text/plain": [
       "SortedList([-1, 4, 12])"
      ]
     },
     "execution_count": 9,
     "metadata": {},
     "output_type": "execute_result"
    }
   ],
   "source": [
    "sl"
   ]
  },
  {
   "cell_type": "code",
   "execution_count": 10,
   "id": "92be9f95",
   "metadata": {},
   "outputs": [],
   "source": [
    "sl.add(-40)"
   ]
  },
  {
   "cell_type": "code",
   "execution_count": 11,
   "id": "520422df",
   "metadata": {},
   "outputs": [
    {
     "data": {
      "text/plain": [
       "SortedList([-40, -1, 4, 12])"
      ]
     },
     "execution_count": 11,
     "metadata": {},
     "output_type": "execute_result"
    }
   ],
   "source": [
    "sl"
   ]
  },
  {
   "cell_type": "code",
   "execution_count": 48,
   "id": "8a055551",
   "metadata": {},
   "outputs": [],
   "source": [
    "class SimpleList:\n",
    "    def __init__(self, items):\n",
    "        self._items = list(items)\n",
    "    \n",
    "    def add(self, item):\n",
    "        self._items.append(item)\n",
    "    \n",
    "    def __getitem__(self, index):\n",
    "        return self._items[index]\n",
    "    \n",
    "    def sort(self):\n",
    "        self._items.sort()\n",
    "\n",
    "    def __len__(self):\n",
    "        return len(self._items)\n",
    "    def __repr__(self): # TO show the description of Class\n",
    "        return f'{type(self).__name__}({self._items!r})'\n",
    "\n",
    "    \n",
    "class SortedList(SimpleList):\n",
    "    def __init__(self, items=()):\n",
    "        super().__init__(items)\n",
    "        self.sort()\n",
    "\n",
    "    def add(self, item):\n",
    "        super().add(item)\n",
    "        self.sort()\n",
    "\n",
    "\n",
    "#\n",
    "class IntList(SimpleList):\n",
    "    def __init__(self, items=()):\n",
    "        for x in items: self._validate(x)\n",
    "        super().__init__(items)\n",
    "\n",
    "    @staticmethod\n",
    "    def _validate(x):\n",
    "        if not isinstance(x, int):\n",
    "            raise TypeError('IntList only supports integer values.')\n",
    "\n",
    "    def add(self, item):\n",
    "        self._validate(item)\n",
    "        super().add(item)"
   ]
  },
  {
   "cell_type": "code",
   "execution_count": 13,
   "id": "d7af702e",
   "metadata": {},
   "outputs": [
    {
     "name": "stdout",
     "output_type": "stream",
     "text": [
      "True\n",
      "True\n",
      "False\n"
     ]
    }
   ],
   "source": [
    "# Checking isinstance built-in\n",
    "print(isinstance(3,int))\n",
    "print(isinstance(\"Hello\",str))\n",
    "print(isinstance(4.57,bytes))"
   ]
  },
  {
   "cell_type": "code",
   "execution_count": 14,
   "id": "a637ef6c",
   "metadata": {},
   "outputs": [
    {
     "data": {
      "text/plain": [
       "True"
      ]
     },
     "execution_count": 14,
     "metadata": {},
     "output_type": "execute_result"
    }
   ],
   "source": [
    "sl = SortedList([3, 2, 1])\n",
    "isinstance(sl, SortedList)"
   ]
  },
  {
   "cell_type": "code",
   "execution_count": 15,
   "id": "c4717651",
   "metadata": {},
   "outputs": [
    {
     "data": {
      "text/plain": [
       "True"
      ]
     },
     "execution_count": 15,
     "metadata": {},
     "output_type": "execute_result"
    }
   ],
   "source": [
    "isinstance(sl, SimpleList)"
   ]
  },
  {
   "cell_type": "code",
   "execution_count": 16,
   "id": "05fbae90",
   "metadata": {},
   "outputs": [
    {
     "data": {
      "text/plain": [
       "True"
      ]
     },
     "execution_count": 16,
     "metadata": {},
     "output_type": "execute_result"
    }
   ],
   "source": [
    "x = []\n",
    "isinstance(x, (float, dict, list))"
   ]
  },
  {
   "cell_type": "code",
   "execution_count": 17,
   "id": "32c91855",
   "metadata": {},
   "outputs": [
    {
     "name": "stdout",
     "output_type": "stream",
     "text": [
      "True\n",
      "True\n",
      "False\n"
     ]
    }
   ],
   "source": [
    "print(issubclass(IntList, SimpleList))\n",
    "print(issubclass(SortedList, SimpleList))\n",
    "print(issubclass(SortedList, IntList))   "
   ]
  },
  {
   "cell_type": "code",
   "execution_count": 18,
   "id": "0da96d07",
   "metadata": {},
   "outputs": [
    {
     "data": {
      "text/plain": [
       "True"
      ]
     },
     "execution_count": 18,
     "metadata": {},
     "output_type": "execute_result"
    }
   ],
   "source": [
    "class MyInt(int): pass\n",
    "class MyVerySpecialInt(MyInt): pass\n",
    "issubclass(MyVerySpecialInt, int)"
   ]
  },
  {
   "cell_type": "markdown",
   "id": "24492d13",
   "metadata": {},
   "source": [
    "## Multiple Inheritance"
   ]
  },
  {
   "cell_type": "code",
   "execution_count": 19,
   "id": "9eeaaf11",
   "metadata": {},
   "outputs": [],
   "source": [
    "class SimpleList:\n",
    "    def __init__(self, items):\n",
    "        self._items = list(items)\n",
    "\n",
    "    def add(self, item):\n",
    "        self._items.append(item)\n",
    "\n",
    "    def __getitem__(self, index):\n",
    "        return self._items[index]\n",
    "\n",
    "    def sort(self):\n",
    "        self._items.sort()\n",
    "\n",
    "    def __len__(self):\n",
    "        return len(self._items)\n",
    "\n",
    "    def __repr__(self): # TO show the description of Class\n",
    "        return f'{type(self).__name__}({self._items!r})'\n",
    "    \n",
    "    \n",
    "class SortedList(SimpleList):\n",
    "    def __init__(self, items=()):\n",
    "        super().__init__(items)\n",
    "        self.sort()\n",
    "\n",
    "    def add(self, item):\n",
    "        super().add(item)\n",
    "        self.sort()\n",
    "        \n",
    "        \n",
    "class IntList(SimpleList):\n",
    "    def __init__(self, items=()):\n",
    "        for x in items: self._validate(x)\n",
    "        super().__init__(items)\n",
    "\n",
    "    @staticmethod\n",
    "    def _validate(x):\n",
    "        if not isinstance(x, int):\n",
    "            raise TypeError('IntList only supports integer values.')\n",
    "\n",
    "    def add(self, item):\n",
    "        self._validate(item)\n",
    "        super().add(item)        \n",
    "\n",
    "\n",
    "class SortedList(SimpleList):\n",
    "    def __init__(self, items=()):\n",
    "        super().__init__(items)\n",
    "        self.sort()\n",
    "\n",
    "    def add(self, item):\n",
    "        super().add(item)\n",
    "        self.sort()\n",
    "\n",
    "        \n",
    "#        \n",
    "class SortedIntList(IntList, SortedList):\n",
    "    pass"
   ]
  },
  {
   "cell_type": "code",
   "execution_count": 20,
   "id": "3c182014",
   "metadata": {},
   "outputs": [],
   "source": [
    "sil=SortedIntList([10,40,-1])"
   ]
  },
  {
   "cell_type": "code",
   "execution_count": 21,
   "id": "ad26ef71",
   "metadata": {},
   "outputs": [
    {
     "data": {
      "text/plain": [
       "SortedIntList([-1, 10, 40])"
      ]
     },
     "execution_count": 21,
     "metadata": {},
     "output_type": "execute_result"
    }
   ],
   "source": [
    "sil"
   ]
  },
  {
   "cell_type": "code",
   "execution_count": 22,
   "id": "ca521d9d",
   "metadata": {},
   "outputs": [
    {
     "data": {
      "text/plain": [
       "SortedIntList([-40, -1, 10, 40])"
      ]
     },
     "execution_count": 22,
     "metadata": {},
     "output_type": "execute_result"
    }
   ],
   "source": [
    "sil.add(-40)\n",
    "sil"
   ]
  },
  {
   "cell_type": "code",
   "execution_count": 23,
   "id": "af99dcf8",
   "metadata": {},
   "outputs": [],
   "source": [
    "class Base1:\n",
    "    def __init__(self):\n",
    "        print(\"Base1.__init__\")\n",
    "        \n",
    "class Base2:\n",
    "    def __init__(self):\n",
    "        print(\"Base2.__init__\")\n",
    "        \n",
    "class Sub(Base1,Base2):\n",
    "    def __init__(self):\n",
    "        print(\"Sub.__init__\")"
   ]
  },
  {
   "cell_type": "code",
   "execution_count": 25,
   "id": "38ba5b5e",
   "metadata": {},
   "outputs": [
    {
     "name": "stdout",
     "output_type": "stream",
     "text": [
      "Sub.__init__\n"
     ]
    }
   ],
   "source": [
    "s=Sub()"
   ]
  },
  {
   "cell_type": "code",
   "execution_count": 29,
   "id": "a7efb6b9",
   "metadata": {},
   "outputs": [
    {
     "data": {
      "text/plain": [
       "(__main__.Base1, __main__.Base2)"
      ]
     },
     "execution_count": 29,
     "metadata": {},
     "output_type": "execute_result"
    }
   ],
   "source": [
    "Sub.__bases__"
   ]
  },
  {
   "cell_type": "markdown",
   "id": "eb2ca1f9",
   "metadata": {},
   "source": [
    "## Diamond classes to show Multiple inheritence and MRO Method Resolution Order"
   ]
  },
  {
   "cell_type": "code",
   "execution_count": 31,
   "id": "3c219844",
   "metadata": {},
   "outputs": [],
   "source": [
    "class A:\n",
    "    def func(self):\n",
    "        return 'A.func'\n",
    "\n",
    "    \n",
    "class B(A):\n",
    "    def func(self):\n",
    "        return 'B.func'\n",
    "\n",
    "\n",
    "class C(A):\n",
    "    def func(self):\n",
    "        return 'C.func'\n",
    "\n",
    "\n",
    "class D(B, C): ## in some sence D inherits the base class A indirectly tiwce\n",
    "    pass"
   ]
  },
  {
   "cell_type": "code",
   "execution_count": 32,
   "id": "3bd1e7ad",
   "metadata": {},
   "outputs": [
    {
     "data": {
      "text/plain": [
       "(__main__.D, __main__.B, __main__.C, __main__.A, object)"
      ]
     },
     "execution_count": 32,
     "metadata": {},
     "output_type": "execute_result"
    }
   ],
   "source": [
    "D.__mro__"
   ]
  },
  {
   "cell_type": "code",
   "execution_count": 34,
   "id": "d8505d1b",
   "metadata": {},
   "outputs": [
    {
     "data": {
      "text/plain": [
       "'B.func'"
      ]
     },
     "execution_count": 34,
     "metadata": {},
     "output_type": "execute_result"
    }
   ],
   "source": [
    "d=D()\n",
    "d.func()"
   ]
  },
  {
   "cell_type": "code",
   "execution_count": 84,
   "id": "db2f8924",
   "metadata": {},
   "outputs": [],
   "source": [
    "class SimpleList:\n",
    "    def __init__(self, items):\n",
    "        self._items = list(items)\n",
    "\n",
    "    def add(self, item):\n",
    "        self._items.append(item)\n",
    "\n",
    "    def __getitem__(self, index):\n",
    "        return self._items[index]\n",
    "\n",
    "    def sort(self):\n",
    "        self._items.sort()\n",
    "\n",
    "    def __len__(self):\n",
    "        return len(self._items)\n",
    "\n",
    "    def __repr__(self):\n",
    "        return f'{type(self).__name__}({self._items!r})'\n",
    "\n",
    "\n",
    "class SortedList(SimpleList):\n",
    "    def __init__(self, items=()):\n",
    "        super().__init__(items)\n",
    "        self.sort()\n",
    "\n",
    "    def add(self, item):\n",
    "        print(\"inside SortedList.add()\")\n",
    "        super().add(item)\n",
    "        self.sort()\n",
    "\n",
    "\n",
    "class IntList(SimpleList):\n",
    "    def __init__(self, items=()):\n",
    "        for x in items: self._validate(x)\n",
    "        print(\"MRO before super\",IntList.__mro__)\n",
    "        s = super()\n",
    "        print(f\"Instance of super is {s}\")\n",
    "        s.__init__(items)\n",
    "        print(s.__init__)\n",
    "\n",
    "    @staticmethod\n",
    "    def _validate(x):\n",
    "        print(\"inside _validate() x= \",x)\n",
    "        if not isinstance(x, int):\n",
    "            raise TypeError('IntList only supports integer values.')\n",
    "\n",
    "    def add(self, item):\n",
    "        self._validate(item)\n",
    "        super().add(item)\n",
    "\n",
    "\n",
    "class SortedIntList(IntList, SortedList):\n",
    "    pass\n",
    "\n"
   ]
  },
  {
   "cell_type": "code",
   "execution_count": 85,
   "id": "8f473b9d",
   "metadata": {},
   "outputs": [
    {
     "name": "stdout",
     "output_type": "stream",
     "text": [
      "inside _validate() x=  3\n",
      "inside _validate() x=  2\n",
      "inside _validate() x=  -40\n",
      "inside _validate() x=  10\n",
      "MRO before super (<class '__main__.IntList'>, <class '__main__.SimpleList'>, <class 'object'>)\n",
      "Instance of super is <super: <class 'IntList'>, <SortedIntList object>>\n",
      "<bound method SortedList.__init__ of SortedIntList([-40, 2, 3, 10])>\n"
     ]
    }
   ],
   "source": [
    "sil=SortedIntList([3,2,-40,10])"
   ]
  },
  {
   "cell_type": "code",
   "execution_count": 86,
   "id": "771079e5",
   "metadata": {},
   "outputs": [
    {
     "data": {
      "text/plain": [
       "(__main__.SortedIntList,\n",
       " __main__.IntList,\n",
       " __main__.SortedList,\n",
       " __main__.SimpleList,\n",
       " object)"
      ]
     },
     "execution_count": 86,
     "metadata": {},
     "output_type": "execute_result"
    }
   ],
   "source": [
    "SortedIntList.__mro__"
   ]
  },
  {
   "cell_type": "code",
   "execution_count": 87,
   "id": "0de38db1",
   "metadata": {},
   "outputs": [
    {
     "name": "stdout",
     "output_type": "stream",
     "text": [
      "inside SortedList.add()\n"
     ]
    },
    {
     "data": {
      "text/plain": [
       "SortedIntList([-40, 1, 2, 3, 10])"
      ]
     },
     "execution_count": 87,
     "metadata": {},
     "output_type": "execute_result"
    }
   ],
   "source": [
    "super(IntList,sil).add(1)\n",
    "sil"
   ]
  },
  {
   "attachments": {},
   "cell_type": "markdown",
   "id": "e7941838",
   "metadata": {},
   "source": [
    "<p style=\"color:red\">## Tricky example skipping giving class argument as IntList so super.add goes to SortedList.add()</p>"
   ]
  },
  {
   "cell_type": "code",
   "execution_count": 88,
   "id": "8a1de85f",
   "metadata": {},
   "outputs": [
    {
     "name": "stdout",
     "output_type": "stream",
     "text": [
      "inside SortedList.add()\n"
     ]
    },
    {
     "ename": "TypeError",
     "evalue": "'<' not supported between instances of 'str' and 'int'",
     "output_type": "error",
     "traceback": [
      "\u001b[1;31m---------------------------------------------------------------------------\u001b[0m",
      "\u001b[1;31mTypeError\u001b[0m                                 Traceback (most recent call last)",
      "\u001b[1;32m~\\AppData\\Local\\Temp/ipykernel_24920/4125881612.py\u001b[0m in \u001b[0;36m<module>\u001b[1;34m\u001b[0m\n\u001b[1;32m----> 1\u001b[1;33m \u001b[0msuper\u001b[0m\u001b[1;33m(\u001b[0m\u001b[0mIntList\u001b[0m\u001b[1;33m,\u001b[0m\u001b[0msil\u001b[0m\u001b[1;33m)\u001b[0m\u001b[1;33m.\u001b[0m\u001b[0madd\u001b[0m\u001b[1;33m(\u001b[0m\u001b[1;34m\"I am not a number. I am a free man\"\u001b[0m\u001b[1;33m)\u001b[0m\u001b[1;33m\u001b[0m\u001b[1;33m\u001b[0m\u001b[0m\n\u001b[0m",
      "\u001b[1;32m~\\AppData\\Local\\Temp/ipykernel_24920/1114606849.py\u001b[0m in \u001b[0;36madd\u001b[1;34m(self, item)\u001b[0m\n\u001b[0;32m     27\u001b[0m         \u001b[0mprint\u001b[0m\u001b[1;33m(\u001b[0m\u001b[1;34m\"inside SortedList.add()\"\u001b[0m\u001b[1;33m)\u001b[0m\u001b[1;33m\u001b[0m\u001b[1;33m\u001b[0m\u001b[0m\n\u001b[0;32m     28\u001b[0m         \u001b[0msuper\u001b[0m\u001b[1;33m(\u001b[0m\u001b[1;33m)\u001b[0m\u001b[1;33m.\u001b[0m\u001b[0madd\u001b[0m\u001b[1;33m(\u001b[0m\u001b[0mitem\u001b[0m\u001b[1;33m)\u001b[0m\u001b[1;33m\u001b[0m\u001b[1;33m\u001b[0m\u001b[0m\n\u001b[1;32m---> 29\u001b[1;33m         \u001b[0mself\u001b[0m\u001b[1;33m.\u001b[0m\u001b[0msort\u001b[0m\u001b[1;33m(\u001b[0m\u001b[1;33m)\u001b[0m\u001b[1;33m\u001b[0m\u001b[1;33m\u001b[0m\u001b[0m\n\u001b[0m\u001b[0;32m     30\u001b[0m \u001b[1;33m\u001b[0m\u001b[0m\n\u001b[0;32m     31\u001b[0m \u001b[1;33m\u001b[0m\u001b[0m\n",
      "\u001b[1;32m~\\AppData\\Local\\Temp/ipykernel_24920/1114606849.py\u001b[0m in \u001b[0;36msort\u001b[1;34m(self)\u001b[0m\n\u001b[0;32m     10\u001b[0m \u001b[1;33m\u001b[0m\u001b[0m\n\u001b[0;32m     11\u001b[0m     \u001b[1;32mdef\u001b[0m \u001b[0msort\u001b[0m\u001b[1;33m(\u001b[0m\u001b[0mself\u001b[0m\u001b[1;33m)\u001b[0m\u001b[1;33m:\u001b[0m\u001b[1;33m\u001b[0m\u001b[1;33m\u001b[0m\u001b[0m\n\u001b[1;32m---> 12\u001b[1;33m         \u001b[0mself\u001b[0m\u001b[1;33m.\u001b[0m\u001b[0m_items\u001b[0m\u001b[1;33m.\u001b[0m\u001b[0msort\u001b[0m\u001b[1;33m(\u001b[0m\u001b[1;33m)\u001b[0m\u001b[1;33m\u001b[0m\u001b[1;33m\u001b[0m\u001b[0m\n\u001b[0m\u001b[0;32m     13\u001b[0m \u001b[1;33m\u001b[0m\u001b[0m\n\u001b[0;32m     14\u001b[0m     \u001b[1;32mdef\u001b[0m \u001b[0m__len__\u001b[0m\u001b[1;33m(\u001b[0m\u001b[0mself\u001b[0m\u001b[1;33m)\u001b[0m\u001b[1;33m:\u001b[0m\u001b[1;33m\u001b[0m\u001b[1;33m\u001b[0m\u001b[0m\n",
      "\u001b[1;31mTypeError\u001b[0m: '<' not supported between instances of 'str' and 'int'"
     ]
    }
   ],
   "source": [
    "super(IntList,sil).add(\"I am not a number. I am a free man\") "
   ]
  },
  {
   "cell_type": "code",
   "execution_count": 73,
   "id": "5d017da0",
   "metadata": {},
   "outputs": [
    {
     "data": {
      "text/plain": [
       "SortedIntList([-40, 1, 1, 2, 3, 10, 'I am not a number. I am a free man'])"
      ]
     },
     "execution_count": 73,
     "metadata": {},
     "output_type": "execute_result"
    }
   ],
   "source": [
    "sil"
   ]
  },
  {
   "cell_type": "code",
   "execution_count": 74,
   "id": "3bdac693",
   "metadata": {},
   "outputs": [
    {
     "data": {
      "text/plain": [
       "['__class__',\n",
       " '__delattr__',\n",
       " '__dict__',\n",
       " '__dir__',\n",
       " '__doc__',\n",
       " '__eq__',\n",
       " '__format__',\n",
       " '__ge__',\n",
       " '__getattribute__',\n",
       " '__getitem__',\n",
       " '__gt__',\n",
       " '__hash__',\n",
       " '__init__',\n",
       " '__init_subclass__',\n",
       " '__le__',\n",
       " '__len__',\n",
       " '__lt__',\n",
       " '__module__',\n",
       " '__ne__',\n",
       " '__new__',\n",
       " '__reduce__',\n",
       " '__reduce_ex__',\n",
       " '__repr__',\n",
       " '__setattr__',\n",
       " '__sizeof__',\n",
       " '__str__',\n",
       " '__subclasshook__',\n",
       " '__weakref__',\n",
       " '_items',\n",
       " '_validate',\n",
       " 'add',\n",
       " 'sort']"
      ]
     },
     "execution_count": 74,
     "metadata": {},
     "output_type": "execute_result"
    }
   ],
   "source": [
    "dir(sil)"
   ]
  },
  {
   "cell_type": "code",
   "execution_count": null,
   "id": "65b99b4b",
   "metadata": {},
   "outputs": [],
   "source": []
  }
 ],
 "metadata": {
  "kernelspec": {
   "display_name": "Python 3 (ipykernel)",
   "language": "python",
   "name": "python3"
  },
  "language_info": {
   "codemirror_mode": {
    "name": "ipython",
    "version": 3
   },
   "file_extension": ".py",
   "mimetype": "text/x-python",
   "name": "python",
   "nbconvert_exporter": "python",
   "pygments_lexer": "ipython3",
   "version": "3.9.7"
  }
 },
 "nbformat": 4,
 "nbformat_minor": 5
}
