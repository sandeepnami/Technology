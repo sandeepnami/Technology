{
 "cells": [
  {
   "cell_type": "code",
   "execution_count": 2,
   "id": "035f86dd",
   "metadata": {},
   "outputs": [],
   "source": [
    "class Rectangle:\n",
    "\n",
    "    def __init__(self, width, height):\n",
    "        self.width = width\n",
    "        self.height = height"
   ]
  },
  {
   "cell_type": "markdown",
   "id": "d03152c5",
   "metadata": {},
   "source": [
    "## Class Definition"
   ]
  },
  {
   "cell_type": "code",
   "execution_count": 3,
   "id": "9670bb8a",
   "metadata": {},
   "outputs": [],
   "source": [
    "# basic class\n",
    "class ShippingContainer:\n",
    "\n",
    "    def __init__(self):\n",
    "        pass"
   ]
  },
  {
   "cell_type": "code",
   "execution_count": 4,
   "id": "0ed9ef02",
   "metadata": {},
   "outputs": [],
   "source": [
    "class ShippingContainer:\n",
    "\n",
    "    def __init__(self, owner_code):\n",
    "        self.owner_code = owner_code\n"
   ]
  },
  {
   "cell_type": "code",
   "execution_count": 5,
   "id": "b859fc35",
   "metadata": {},
   "outputs": [],
   "source": [
    "class ShippingContainer:\n",
    "\n",
    "    def __init__(self, owner_code, contents):\n",
    "        self.owner_code = owner_code\n",
    "        self.contents = contents\n"
   ]
  },
  {
   "cell_type": "code",
   "execution_count": 6,
   "id": "a17afd8f",
   "metadata": {},
   "outputs": [],
   "source": [
    "class MyClass:\n",
    "\n",
    "    # Define class attributes in the class block\n",
    "    my_class_attribute = \"class attributes go here\"\n",
    "    MY_CONSTANT = \"they are often class-specific contants\"\n",
    "\n",
    "    def __init__(self):\n",
    "        self.my_instance_attribute = \"instance attributes here\"\n"
   ]
  },
  {
   "cell_type": "code",
   "execution_count": 7,
   "id": "2beec287",
   "metadata": {},
   "outputs": [],
   "source": [
    "class ShippingContainer:\n",
    "\n",
    "    next_serial = 1337\n",
    "\n",
    "    def __init__(self, owner_code, contents):\n",
    "        self.owner_code = owner_code\n",
    "        self.contents = contents\n"
   ]
  },
  {
   "cell_type": "code",
   "execution_count": 8,
   "id": "0d3abf1a",
   "metadata": {},
   "outputs": [],
   "source": [
    "class ShippingContainer:\n",
    "\n",
    "    next_serial = 1337\n",
    "\n",
    "    def __init__(self, owner_code, contents):\n",
    "        self.owner_code = owner_code\n",
    "        self.contents = contents\n",
    "        self.serial = next_serial\n",
    "        next_serial += 1"
   ]
  },
  {
   "cell_type": "markdown",
   "id": "b51b8bbf",
   "metadata": {},
   "source": [
    "Ideal way to avaoid confusion using classname to refer to attributes"
   ]
  },
  {
   "cell_type": "code",
   "execution_count": 9,
   "id": "258666ba",
   "metadata": {},
   "outputs": [],
   "source": [
    "class ShippingContainer:\n",
    "\n",
    "    next_serial = 1337\n",
    "\n",
    "    def __init__(self, owner_code, contents):\n",
    "        self.owner_code = owner_code\n",
    "        self.contents = contents\n",
    "        self.serial = ShippingContainer.next_serial\n",
    "        ShippingContainer.next_serial += 1\n"
   ]
  },
  {
   "cell_type": "markdown",
   "id": "96fd0f44",
   "metadata": {},
   "source": [
    "## static method"
   ]
  },
  {
   "cell_type": "code",
   "execution_count": null,
   "id": "d081752b",
   "metadata": {},
   "outputs": [],
   "source": [
    "class ShippingContainer:\n",
    "\n",
    "    next_serial = 1337\n",
    "\n",
    "    @staticmethod\n",
    "    def _generate_serial():\n",
    "        result = ShippingContainer.next_serial\n",
    "        ShippingContainer.next_serial += 1\n",
    "        return result\n",
    "\n",
    "    def __init__(self, owner_code, contents):\n",
    "        self.owner_code = owner_code\n",
    "        self.contents = contents\n",
    "        self.serial = ShippingContainer._generate_serial()\n"
   ]
  }
 ],
 "metadata": {
  "kernelspec": {
   "display_name": "Python 3 (ipykernel)",
   "language": "python",
   "name": "python3"
  },
  "language_info": {
   "codemirror_mode": {
    "name": "ipython",
    "version": 3
   },
   "file_extension": ".py",
   "mimetype": "text/x-python",
   "name": "python",
   "nbconvert_exporter": "python",
   "pygments_lexer": "ipython3",
   "version": "3.9.7"
  }
 },
 "nbformat": 4,
 "nbformat_minor": 5
}
