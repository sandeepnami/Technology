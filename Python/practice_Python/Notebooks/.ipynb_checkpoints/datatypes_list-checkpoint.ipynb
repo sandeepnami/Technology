{
 "cells": [
  {
   "cell_type": "markdown",
   "id": "665b493a",
   "metadata": {},
   "source": [
    "## Use of Arrays or Lists"
   ]
  },
  {
   "cell_type": "code",
   "execution_count": 1,
   "id": "7014ca32",
   "metadata": {},
   "outputs": [
    {
     "name": "stdout",
     "output_type": "stream",
     "text": [
      "array =  [0, 1, 4, 6, 13]\n"
     ]
    }
   ],
   "source": [
    "## use of arrays or Lists\n",
    "arr=[0,1,4,6,13]\n",
    "print(\"array = \",arr)"
   ]
  },
  {
   "cell_type": "code",
   "execution_count": 2,
   "id": "c4c3a96e",
   "metadata": {},
   "outputs": [
    {
     "name": "stdout",
     "output_type": "stream",
     "text": [
      "after append or concatenate arary =  [0, 1, 4, 6, 13, 19]\n"
     ]
    }
   ],
   "source": [
    "# array concatenation\n",
    "arr=arr+[19]\n",
    "print(\"after append or concatenate arary = \", arr)"
   ]
  },
  {
   "cell_type": "code",
   "execution_count": 3,
   "id": "226082f4",
   "metadata": {},
   "outputs": [
    {
     "name": "stdout",
     "output_type": "stream",
     "text": [
      "0\n",
      "1\n",
      "4\n",
      "6\n",
      "13\n",
      "19\n"
     ]
    }
   ],
   "source": [
    "for i in range(len(arr)):  # here range is used for looping on arrays note that i is always integer.\n",
    "    print(arr[i])          # note arrays are always called with square brackets and index a[1]"
   ]
  },
  {
   "cell_type": "code",
   "execution_count": 4,
   "id": "3a957b70",
   "metadata": {},
   "outputs": [
    {
     "name": "stdout",
     "output_type": "stream",
     "text": [
      "0\n",
      "1\n",
      "4\n",
      "6\n",
      "13\n",
      "19\n"
     ]
    }
   ],
   "source": [
    "for v in arr: # here each array element is assigned to variable v\n",
    "    print(v)"
   ]
  },
  {
   "cell_type": "code",
   "execution_count": 5,
   "id": "cff0c8cc",
   "metadata": {},
   "outputs": [
    {
     "name": "stdout",
     "output_type": "stream",
     "text": [
      "(0, 0)\n",
      "(1, 1)\n",
      "(2, 4)\n",
      "(3, 6)\n",
      "(4, 13)\n",
      "(5, 19)\n"
     ]
    }
   ],
   "source": [
    "for tup in enumerate(arr): # here enumerate function does this, array is unpacked as tuple with index value pairs\n",
    "    print(tup)    "
   ]
  },
  {
   "cell_type": "markdown",
   "id": "1d3b36c2",
   "metadata": {},
   "source": [
    "## Fetching elements of array or list"
   ]
  },
  {
   "cell_type": "code",
   "execution_count": 6,
   "id": "40e0a325",
   "metadata": {},
   "outputs": [
    {
     "name": "stdout",
     "output_type": "stream",
     "text": [
      "arr =  [1, -4, 10, -16, 15]\n",
      "arr[-1] =  15\n",
      "arr[-2] =  -16\n",
      "len(arr) =  5\n",
      "arr[len(arr)-1] = 15\n",
      "arr[0] =  1\n",
      "arr[-0] =  1\n"
     ]
    }
   ],
   "source": [
    "arr=[1,-4,10,-16,15]\n",
    "print('arr = ',arr)\n",
    "print('arr[-1] = ',arr[-1]) # negative numbers used to fetch from end      \n",
    "print('arr[-2] = ',arr[-2])\n",
    "print('len(arr) = ',len(arr))\n",
    "print('arr[len(arr)-1] =',arr[len(arr)-1])\n",
    "print('arr[0] = ',arr[0])\n",
    "print('arr[-0] = ',arr[-0])"
   ]
  },
  {
   "cell_type": "markdown",
   "id": "fa84e235",
   "metadata": {},
   "source": [
    "## Slicing array list.a_list.[start:stop]  -- note that stop index is not included"
   ]
  },
  {
   "cell_type": "code",
   "execution_count": 7,
   "id": "fed30d85",
   "metadata": {},
   "outputs": [
    {
     "name": "stdout",
     "output_type": "stream",
     "text": [
      "arr =  [3, 186, 4431, 74400, 1048443]\n",
      "arr[1:3] =  [186, 4431]\n",
      "arr[2:] =  [4431, 74400, 1048443]\n"
     ]
    }
   ],
   "source": [
    "# slicing array list.a_list.[start:stop]  -- note that stop index is not included\n",
    "arr = [3,186,4431,74400,1048443]\n",
    "print('arr = ', arr)\n",
    "print('arr[1:3] = ', arr[1:3]) # note that stop index is not included\n",
    "print('arr[2:] = ', arr[2:]) # start index is 2 and till end"
   ]
  },
  {
   "cell_type": "markdown",
   "id": "9a021cd3",
   "metadata": {},
   "source": [
    "## lists are mutable and checking its mutable behaviour in python"
   ]
  },
  {
   "cell_type": "code",
   "execution_count": 8,
   "id": "6e13a8b1",
   "metadata": {},
   "outputs": [
    {
     "name": "stdout",
     "output_type": "stream",
     "text": [
      "arr_new =  [3, 186, 4431, 74400, 1048443]\n",
      "checking address of the two arrays arr and arr_new True\n",
      "checking address of the two arrays arr and arr_new2 False\n"
     ]
    }
   ],
   "source": [
    "arr_new=arr  # making two list or arrays equal\n",
    "print('arr_new = ', arr_new)\n",
    "print('checking address of the two arrays arr and arr_new', (arr_new is arr))\n",
    "\n",
    "arr_new2=arr[:] # here references are not passed new varaible is created\n",
    "bool_is=(arr_new2 is arr)\n",
    "print('checking address of the two arrays arr and arr_new2', (arr_new2 is arr))"
   ]
  },
  {
   "cell_type": "markdown",
   "id": "41905838",
   "metadata": {},
   "source": [
    "## This example shows range functionality"
   ]
  },
  {
   "cell_type": "code",
   "execution_count": 9,
   "id": "0efacfbb",
   "metadata": {},
   "outputs": [
    {
     "name": "stdout",
     "output_type": "stream",
     "text": [
      "range(5,10) =  range(5, 10)\n",
      "list(range(5,10)) =  [5, 6, 7, 8, 9]\n",
      "list(range(10,15)) =  [10, 11, 12, 13, 14]\n",
      "list(range(0, 10, 2)) =  [0, 2, 4, 6, 8]\n"
     ]
    }
   ],
   "source": [
    "## This example shows range functionality\n",
    "r=range(5,10) # we must enclose range with list object to generate number sequence.\n",
    "print('range(5,10) = ', r)\n",
    "print('list(range(5,10)) = ', list(range(5,10)))\n",
    "# range start from 10 and stops at 14\n",
    "print('list(range(10,15)) = ', list(range(10,15)))\n",
    "print('list(range(0, 10, 2)) = ', list(range(0, 10, 2))) # here range starts with 0 and increments next number by 2"
   ]
  },
  {
   "cell_type": "markdown",
   "id": "f6782472",
   "metadata": {},
   "source": [
    "## using Pretty Print package"
   ]
  },
  {
   "cell_type": "code",
   "execution_count": 13,
   "id": "c365a3bd",
   "metadata": {},
   "outputs": [
    {
     "name": "stdout",
     "output_type": "stream",
     "text": [
      "[3, 186, 4431, 74400, 1048443]\n"
     ]
    }
   ],
   "source": [
    "from pprint import pprint as pp\n",
    "pp(arr)"
   ]
  },
  {
   "cell_type": "markdown",
   "id": "9f2ec7a5",
   "metadata": {},
   "source": [
    "## using sys package"
   ]
  },
  {
   "cell_type": "code",
   "execution_count": 14,
   "id": "f47af6d2",
   "metadata": {},
   "outputs": [
    {
     "name": "stdout",
     "output_type": "stream",
     "text": [
      "['D:\\\\Sandeep\\\\Technology\\\\Practice\\\\Notebooks',\n",
      " 'C:\\\\Users\\\\namis\\\\anaconda3\\\\python39.zip',\n",
      " 'C:\\\\Users\\\\namis\\\\anaconda3\\\\DLLs',\n",
      " 'C:\\\\Users\\\\namis\\\\anaconda3\\\\lib',\n",
      " 'C:\\\\Users\\\\namis\\\\anaconda3',\n",
      " '',\n",
      " 'C:\\\\Users\\\\namis\\\\anaconda3\\\\lib\\\\site-packages',\n",
      " 'C:\\\\Users\\\\namis\\\\anaconda3\\\\lib\\\\site-packages\\\\locket-0.2.1-py3.9.egg',\n",
      " 'C:\\\\Users\\\\namis\\\\anaconda3\\\\lib\\\\site-packages\\\\win32',\n",
      " 'C:\\\\Users\\\\namis\\\\anaconda3\\\\lib\\\\site-packages\\\\win32\\\\lib',\n",
      " 'C:\\\\Users\\\\namis\\\\anaconda3\\\\lib\\\\site-packages\\\\Pythonwin',\n",
      " 'C:\\\\Users\\\\namis\\\\anaconda3\\\\lib\\\\site-packages\\\\IPython\\\\extensions',\n",
      " 'C:\\\\Users\\\\namis\\\\.ipython']\n"
     ]
    }
   ],
   "source": [
    "import sys\n",
    "pp(sys.path)"
   ]
  },
  {
   "cell_type": "code",
   "execution_count": null,
   "id": "0adbe52b",
   "metadata": {},
   "outputs": [],
   "source": []
  }
 ],
 "metadata": {
  "kernelspec": {
   "display_name": "Python 3 (ipykernel)",
   "language": "python",
   "name": "python3"
  },
  "language_info": {
   "codemirror_mode": {
    "name": "ipython",
    "version": 3
   },
   "file_extension": ".py",
   "mimetype": "text/x-python",
   "name": "python",
   "nbconvert_exporter": "python",
   "pygments_lexer": "ipython3",
   "version": "3.9.7"
  }
 },
 "nbformat": 4,
 "nbformat_minor": 5
}
