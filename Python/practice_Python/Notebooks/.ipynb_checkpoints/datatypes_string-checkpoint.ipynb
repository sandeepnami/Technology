{
 "cells": [
  {
   "cell_type": "markdown",
   "id": "00915eb1",
   "metadata": {},
   "source": [
    "## String Handling"
   ]
  },
  {
   "cell_type": "code",
   "execution_count": 1,
   "id": "865c3f64",
   "metadata": {},
   "outputs": [
    {
     "name": "stdout",
     "output_type": "stream",
     "text": [
      "Hello Sandeep, would you like to learn some Python today!\n",
      "sandeep nami\n",
      "Hello, sandeep nami\n",
      "Hello, Sandeep Nami\n",
      "Ritika Rukhmini Nami\n",
      "RITIKA RUKHMINI NAMI\n",
      "ritika rukhmini nami\n",
      "Right trim=Sandeep\n",
      "Right trim=Nami\n",
      "trim=test\n"
     ]
    }
   ],
   "source": [
    "name='Sandeep'\n",
    "print(\"Hello \" f\"{name}\" \", would you like to learn some Python today!\")\n",
    "#f string usage\n",
    "first_name='sandeep'\n",
    "last_name='nami'\n",
    "full_name=f\"{first_name} {last_name}\"\n",
    "print(full_name)\n",
    "print(f\"Hello, {first_name} {last_name}\")\n",
    "print(f\"Hello, {full_name.title()}\")\n",
    "#Formatting strings upper case like that\n",
    "full_name=\"ritika rukhmini nami\"\n",
    "print(full_name.title())\n",
    "print(full_name.upper())\n",
    "print(full_name.lower())\n",
    "#Trimming spaces\n",
    "first_name=\"Sandeep \"\n",
    "last_name=' Nami'\n",
    "user_name=' test '\n",
    "print(\"Right trim=\"f\"{first_name.rstrip()}\")\n",
    "print(\"Right trim=\"f\"{last_name.lstrip()}\")\n",
    "print(\"trim=\"f\"{user_name.strip()}\")"
   ]
  },
  {
   "cell_type": "code",
   "execution_count": 2,
   "id": "346460c7",
   "metadata": {},
   "outputs": [
    {
     "data": {
      "text/plain": [
       "'The value is 80'"
      ]
     },
     "execution_count": 2,
     "metadata": {},
     "output_type": "execute_result"
    }
   ],
   "source": [
    "value = 4 * 20\n",
    "f'The value is {value}'"
   ]
  },
  {
   "cell_type": "code",
   "execution_count": 3,
   "id": "7b0cebd7",
   "metadata": {},
   "outputs": [
    {
     "data": {
      "text/plain": [
       "'The current time is 2022-02-13T21:47:06.203705.'"
      ]
     },
     "execution_count": 3,
     "metadata": {},
     "output_type": "execute_result"
    }
   ],
   "source": [
    "import datetime  \n",
    "f'The current time is {datetime.datetime.now().isoformat()}.'"
   ]
  },
  {
   "cell_type": "code",
   "execution_count": 7,
   "id": "e91187fb",
   "metadata": {},
   "outputs": [
    {
     "data": {
      "text/plain": [
       "'Math constants: pi=3.142, e=2.718'"
      ]
     },
     "execution_count": 7,
     "metadata": {},
     "output_type": "execute_result"
    }
   ],
   "source": [
    "import math\n",
    "f'Math constants: pi={math.pi!r}, e={math.e!r}'\n",
    "f'Math constants: pi={math.pi:.3f}, e={math.e:.3f}'"
   ]
  },
  {
   "cell_type": "code",
   "execution_count": 8,
   "id": "4ad36985",
   "metadata": {},
   "outputs": [
    {
     "name": "stdout",
     "output_type": "stream",
     "text": [
      "Is num even? False\n"
     ]
    }
   ],
   "source": [
    "num = 87;\n",
    "print(f\"Is num even? {True if num%2==0 else False}\")"
   ]
  },
  {
   "cell_type": "markdown",
   "id": "f857254a",
   "metadata": {},
   "source": [
    "## F strings that are using variable"
   ]
  },
  {
   "cell_type": "code",
   "execution_count": 9,
   "id": "703d12c4",
   "metadata": {},
   "outputs": [
    {
     "name": "stdout",
     "output_type": "stream",
     "text": [
      "This is a book by Jane Smith.\n"
     ]
    }
   ],
   "source": [
    "author = \"jane smith\"\n",
    "a_name = author.title()\n",
    "print(f\"This is a book by {a_name}.\")"
   ]
  },
  {
   "cell_type": "markdown",
   "id": "7fc7dd4c",
   "metadata": {},
   "source": [
    "## F strings that are using Functions"
   ]
  },
  {
   "cell_type": "code",
   "execution_count": 10,
   "id": "62e31a32",
   "metadata": {},
   "outputs": [
    {
     "name": "stdout",
     "output_type": "stream",
     "text": [
      "This is a book by Jane Smith.\n"
     ]
    }
   ],
   "source": [
    "author = \"jane smith\"\n",
    "print(f\"This is a book by {author.title()}.\")"
   ]
  },
  {
   "cell_type": "code",
   "execution_count": 12,
   "id": "c0527384",
   "metadata": {},
   "outputs": [
    {
     "name": "stdout",
     "output_type": "stream",
     "text": [
      "Hello Python, tell me what I should learn. Learn JavaScript!\n"
     ]
    }
   ],
   "source": [
    "def choice(c):\n",
    "  if c%2 ==0:\n",
    "    return \"Learn Python!\"\n",
    "  else:\n",
    "    return \"Learn JavaScript!\"\n",
    "\n",
    "print(f\"Hello Python, tell me what I should learn. {choice(3)}\")"
   ]
  },
  {
   "cell_type": "code",
   "execution_count": null,
   "id": "9268b725",
   "metadata": {},
   "outputs": [],
   "source": []
  }
 ],
 "metadata": {
  "kernelspec": {
   "display_name": "Python 3 (ipykernel)",
   "language": "python",
   "name": "python3"
  },
  "language_info": {
   "codemirror_mode": {
    "name": "ipython",
    "version": 3
   },
   "file_extension": ".py",
   "mimetype": "text/x-python",
   "name": "python",
   "nbconvert_exporter": "python",
   "pygments_lexer": "ipython3",
   "version": "3.9.7"
  }
 },
 "nbformat": 4,
 "nbformat_minor": 5
}
