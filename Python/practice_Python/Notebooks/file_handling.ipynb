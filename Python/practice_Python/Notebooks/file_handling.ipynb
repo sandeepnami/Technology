{
 "cells": [
  {
   "cell_type": "code",
   "execution_count": 2,
   "metadata": {},
   "outputs": [
    {
     "ename": "UnicodeDecodeError",
     "evalue": "'charmap' codec can't decode byte 0x9d in position 796: character maps to <undefined>",
     "output_type": "error",
     "traceback": [
      "\u001b[1;31m---------------------------------------------------------------------------\u001b[0m",
      "\u001b[1;31mUnicodeDecodeError\u001b[0m                        Traceback (most recent call last)",
      "Cell \u001b[1;32mIn[2], line 4\u001b[0m\n\u001b[0;32m      2\u001b[0m file_name \u001b[38;5;241m=\u001b[39m \u001b[38;5;124m'\u001b[39m\u001b[38;5;124msample_file.txt\u001b[39m\u001b[38;5;124m'\u001b[39m\n\u001b[0;32m      3\u001b[0m file \u001b[38;5;241m=\u001b[39m \u001b[38;5;28mopen\u001b[39m(file_name, \u001b[38;5;124m'\u001b[39m\u001b[38;5;124mr\u001b[39m\u001b[38;5;124m'\u001b[39m)\n\u001b[1;32m----> 4\u001b[0m content \u001b[38;5;241m=\u001b[39m \u001b[43mfile\u001b[49m\u001b[38;5;241;43m.\u001b[39;49m\u001b[43mread\u001b[49m\u001b[43m(\u001b[49m\u001b[43m)\u001b[49m\n\u001b[0;32m      5\u001b[0m \u001b[38;5;28mprint\u001b[39m(content)\n\u001b[0;32m      7\u001b[0m file\u001b[38;5;241m.\u001b[39mclose()\n",
      "File \u001b[1;32mc:\\Users\\namis\\AppData\\Local\\Programs\\Python\\Python312\\Lib\\encodings\\cp1252.py:23\u001b[0m, in \u001b[0;36mIncrementalDecoder.decode\u001b[1;34m(self, input, final)\u001b[0m\n\u001b[0;32m     22\u001b[0m \u001b[38;5;28;01mdef\u001b[39;00m \u001b[38;5;21mdecode\u001b[39m(\u001b[38;5;28mself\u001b[39m, \u001b[38;5;28minput\u001b[39m, final\u001b[38;5;241m=\u001b[39m\u001b[38;5;28;01mFalse\u001b[39;00m):\n\u001b[1;32m---> 23\u001b[0m     \u001b[38;5;28;01mreturn\u001b[39;00m \u001b[43mcodecs\u001b[49m\u001b[38;5;241;43m.\u001b[39;49m\u001b[43mcharmap_decode\u001b[49m\u001b[43m(\u001b[49m\u001b[38;5;28;43minput\u001b[39;49m\u001b[43m,\u001b[49m\u001b[38;5;28;43mself\u001b[39;49m\u001b[38;5;241;43m.\u001b[39;49m\u001b[43merrors\u001b[49m\u001b[43m,\u001b[49m\u001b[43mdecoding_table\u001b[49m\u001b[43m)\u001b[49m[\u001b[38;5;241m0\u001b[39m]\n",
      "\u001b[1;31mUnicodeDecodeError\u001b[0m: 'charmap' codec can't decode byte 0x9d in position 796: character maps to <undefined>"
     ]
    }
   ],
   "source": [
    "# Read Option 1\n",
    "file_name = 'sample_file.txt'\n",
    "file = open(file_name, 'r')\n",
    "content = file.read()\n",
    "print(content)\n",
    "\n",
    "file.close()\n",
    "print(file.closed)\n"
   ]
  },
  {
   "cell_type": "code",
   "execution_count": 3,
   "metadata": {},
   "outputs": [
    {
     "name": "stdout",
     "output_type": "stream",
     "text": [
      "I dedicate this book to Nancy Lier Cosgrove Mullis.\n",
      "\n",
      "Jean-Paul Sartre somewhere observed that we each of us make our own hell out of the people around u\n",
      "\n",
      "s. Had Jean-Paul known Nancy, he may have noted that at least one man, someday, might get very lucky,\n",
      "\n",
      "and make his own heaven out of one of the people around him. She will be his morning and his evening\n",
      "\n",
      "star, shining with the brightest and the softest light in his heaven. She will be the end of his wanderings,\n",
      "\n",
      "and their love will arouse the daffodils in the spring to follow the crocuses and precede the irises. Their f\n",
      "\n",
      "aith in one another will be deeper than time and their eternal spirit will be seamless once again.\n",
      "\n",
      "Or maybe he would have just said, “If I’d had a woman like that, my books would not have been about d\n",
      "\n",
      "espair.”\n",
      "\n",
      "This book is not about despair. It is about a little bit of a lot of things, and, if not a single one of them is\n",
      "\n",
      "wet with sadness, it is not due to my lack of depth; it is due to a year of Nancy, and the prospect of neve\n",
      "\n",
      "r again being without her.\n",
      "True\n"
     ]
    }
   ],
   "source": [
    "# Read Option 2\n",
    "file_name = 'sample_file.txt'\n",
    "file = open(file_name, 'r', encoding='utf-8')\n",
    "temp = [print(line) for line in file]\n",
    "\n",
    "file.close()\n",
    "print(file.closed)"
   ]
  },
  {
   "cell_type": "code",
   "execution_count": 9,
   "metadata": {},
   "outputs": [
    {
     "name": "stdout",
     "output_type": "stream",
     "text": [
      "I dedicate this book to Nancy Lier Cosgrove Mullis.\n",
      "Jean-Paul Sartre somewhere observed that we each of us make our own hell out of the people around u\n",
      "s. Had Jean-Paul known Nancy, he may have noted that at least one man, someday, might get very lucky,\n",
      "and make his own heaven out of one of the people around him. She will be his morning and his evening\n",
      "star, shining with the brightest and the softest light in his heaven. She will be the end of his wanderings,\n",
      "and their love will arouse the daffodils in the spring to follow the crocuses and precede the irises. Their f\n",
      "aith in one another will be deeper than time and their eternal spirit will be seamless once again.\n",
      "Or maybe he would have just said, “If I’d had a woman like that, my books would not have been about d\n",
      "espair.”\n",
      "This book is not about despair. It is about a little bit of a lot of things, and, if not a single one of them is\n",
      "wet with sadness, it is not due to my lack of depth; it is due to a year of Nancy, and the prospect of neve\n",
      "r again being without her.\n"
     ]
    }
   ],
   "source": [
    "# Read option 3\n",
    "file_name = 'sample_file.txt'\n",
    "file_path = r\"C:\\Users\\namis\\OneDrive\\Professional\\Technology\\Python\\practice_Python\\Notebooks\\sample_file.txt\"\n",
    "# Assuming 'file' is a file object you've opened, you should specify the encoding when opening it\n",
    "# Give file_name if both code and file are in same directory. Otherwise give file_path\n",
    "with open(file_name, 'r', encoding='utf-8') as file:\n",
    "    content = file.read()  \n",
    "    print(content)"
   ]
  },
  {
   "cell_type": "code",
   "execution_count": 10,
   "metadata": {},
   "outputs": [],
   "source": [
    "# Split file by 10 records each\n",
    "def split_file_by_records(filename, encoding='utf-8', records_per_file=10):\n",
    "    # Counter for the number of files created\n",
    "    file_count = 1\n",
    "    # Counter for the number of records in the current file\n",
    "    record_count = 0\n",
    "    # Open the original file\n",
    "    with open(filename, 'r',encoding=encoding) as original_file:\n",
    "        # Loop through each line in the original file\n",
    "        for line in original_file:\n",
    "            # Open a new file for writing every 10 records\n",
    "            if record_count == 0:\n",
    "                new_file_name = f\"{filename.split('.')[0]}_part{file_count}.txt\"\n",
    "                new_file = open(new_file_name, 'w')\n",
    "            # Write the current line to the current new file\n",
    "            new_file.write(line)\n",
    "            record_count += 1\n",
    "            # If we've written 10 records, close the current new file and reset the counter\n",
    "            if record_count == records_per_file:\n",
    "                new_file.close()\n",
    "                file_count += 1\n",
    "                record_count = 0\n",
    "        # If the last file has less than 10 records, make sure it gets closed\n",
    "        if record_count > 0:\n",
    "            new_file.close()\n",
    "\n",
    "# Example usage\n",
    "split_file_by_records('sample_file.txt')\n"
   ]
  },
  {
   "cell_type": "code",
   "execution_count": null,
   "metadata": {},
   "outputs": [],
   "source": []
  }
 ],
 "metadata": {
  "kernelspec": {
   "display_name": "Python 3",
   "language": "python",
   "name": "python3"
  },
  "language_info": {
   "codemirror_mode": {
    "name": "ipython",
    "version": 3
   },
   "file_extension": ".py",
   "mimetype": "text/x-python",
   "name": "python",
   "nbconvert_exporter": "python",
   "pygments_lexer": "ipython3",
   "version": "3.12.3"
  }
 },
 "nbformat": 4,
 "nbformat_minor": 2
}
