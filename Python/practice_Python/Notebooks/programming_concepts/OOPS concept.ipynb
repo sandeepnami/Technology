{
 "cells": [
  {
   "cell_type": "markdown",
   "id": "d65f2751",
   "metadata": {},
   "source": [
    "## Base Class"
   ]
  },
  {
   "cell_type": "code",
   "execution_count": 2,
   "id": "1182a278",
   "metadata": {},
   "outputs": [],
   "source": [
    "class Base:\n",
    "    def __init__(self):\n",
    "        print('Base initializer')\n",
    "\n",
    "    def f(self):\n",
    "        print('Function from Base f()')\n",
    "\n",
    "\n",
    "class Sub(Base):\n",
    "    def __init__(self):\n",
    "        print('Sub initializer')\n",
    "\n",
    "    def f(self):\n",
    "         print('Function from Sub f()')"
   ]
  },
  {
   "cell_type": "code",
   "execution_count": 3,
   "id": "2e043057",
   "metadata": {},
   "outputs": [
    {
     "name": "stdout",
     "output_type": "stream",
     "text": [
      "Base initializer\n",
      "Function from Base f()\n"
     ]
    }
   ],
   "source": [
    "b=Base()\n",
    "b.f()"
   ]
  },
  {
   "cell_type": "code",
   "execution_count": null,
   "id": "9f8bac04",
   "metadata": {},
   "outputs": [],
   "source": []
  },
  {
   "cell_type": "code",
   "execution_count": 4,
   "id": "876a2bfe",
   "metadata": {},
   "outputs": [
    {
     "name": "stdout",
     "output_type": "stream",
     "text": [
      "Sub initializer\n",
      "Function from Sub f()\n"
     ]
    }
   ],
   "source": [
    "s=Sub()\n",
    "s.f()"
   ]
  },
  {
   "cell_type": "markdown",
   "id": "d5595703",
   "metadata": {},
   "source": [
    "# second exaple"
   ]
  },
  {
   "cell_type": "code",
   "execution_count": 5,
   "id": "7b8ba654",
   "metadata": {},
   "outputs": [],
   "source": [
    "class Base:\n",
    "    def __init__(self):\n",
    "        print('Base initializer')\n",
    "\n",
    "    def f(self):\n",
    "        print('Base.f()')\n",
    "\n",
    "\n",
    "class Sub(Base):\n",
    "    def __init__(self):\n",
    "        super().__init__()\n",
    "        print('Sub initializer')\n",
    "\n",
    "    def f(self):\n",
    "        print('Sub.f()')"
   ]
  },
  {
   "cell_type": "code",
   "execution_count": 6,
   "id": "7b568216",
   "metadata": {},
   "outputs": [
    {
     "name": "stdout",
     "output_type": "stream",
     "text": [
      "Base initializer\n"
     ]
    }
   ],
   "source": [
    "b=Base()\n"
   ]
  },
  {
   "cell_type": "code",
   "execution_count": 7,
   "id": "177e9d09",
   "metadata": {},
   "outputs": [
    {
     "name": "stdout",
     "output_type": "stream",
     "text": [
      "Base initializer\n",
      "Sub initializer\n"
     ]
    }
   ],
   "source": [
    "s=Sub()"
   ]
  },
  {
   "cell_type": "markdown",
   "id": "14c65299",
   "metadata": {},
   "source": [
    "## Another Base Class for inheritance study"
   ]
  },
  {
   "cell_type": "code",
   "execution_count": 8,
   "id": "332334b8",
   "metadata": {},
   "outputs": [],
   "source": [
    "class SimpleList:\n",
    "    def __init__(self, items):\n",
    "        self._items = list(items)\n",
    "\n",
    "    def add(self, item):\n",
    "        self._items.append(item)\n",
    "\n",
    "    def __getitem__(self, index):\n",
    "        return self._items[index]\n",
    "\n",
    "    def sort(self):\n",
    "        self._items.sort()\n",
    "\n",
    "    def __len__(self):\n",
    "        return len(self._items)\n",
    "\n",
    "    def __repr__(self): # TO show the description of Class\n",
    "        return f'{type(self).__name__}({self._items!r})'\n",
    "\n",
    "\n",
    "class SortedList(SimpleList):\n",
    "    def __init__(self, items=()):\n",
    "        super().__init__(items)\n",
    "        self.sort()\n",
    "\n",
    "    def add(self, item):\n",
    "        super().add(item)\n",
    "        self.sort()\n"
   ]
  },
  {
   "cell_type": "code",
   "execution_count": 9,
   "id": "55d8ea46",
   "metadata": {},
   "outputs": [],
   "source": [
    "sl=SortedList([12,4,-1])"
   ]
  },
  {
   "cell_type": "code",
   "execution_count": 10,
   "id": "5ff12793",
   "metadata": {},
   "outputs": [
    {
     "data": {
      "text/plain": [
       "SortedList([-1, 4, 12])"
      ]
     },
     "execution_count": 10,
     "metadata": {},
     "output_type": "execute_result"
    }
   ],
   "source": [
    "sl"
   ]
  },
  {
   "cell_type": "code",
   "execution_count": 11,
   "id": "637e15e4",
   "metadata": {},
   "outputs": [],
   "source": [
    "sl.add(-40)"
   ]
  },
  {
   "cell_type": "code",
   "execution_count": 12,
   "id": "1dc5408a",
   "metadata": {},
   "outputs": [
    {
     "data": {
      "text/plain": [
       "SortedList([-40, -1, 4, 12])"
      ]
     },
     "execution_count": 12,
     "metadata": {},
     "output_type": "execute_result"
    }
   ],
   "source": [
    "sl"
   ]
  },
  {
   "cell_type": "code",
   "execution_count": 13,
   "id": "a6051602",
   "metadata": {},
   "outputs": [],
   "source": [
    "class SimpleList:\n",
    "    def __init__(self, items):\n",
    "        self._items = list(items)\n",
    "    \n",
    "    def add(self, item):\n",
    "        self._items.append(item)\n",
    "    \n",
    "    def __getitem__(self, index):\n",
    "        return self._items[index]\n",
    "    \n",
    "    def sort(self):\n",
    "        self._items.sort()\n",
    "\n",
    "    def __len__(self):\n",
    "        return len(self._items)\n",
    "    def __repr__(self): # TO show the description of Class\n",
    "        return f'{type(self).__name__}({self._items!r})'\n",
    "\n",
    "    \n",
    "class SortedList(SimpleList):\n",
    "    def __init__(self, items=()):\n",
    "        super().__init__(items)\n",
    "        self.sort()\n",
    "\n",
    "    def add(self, item):\n",
    "        super().add(item)\n",
    "        self.sort()\n",
    "\n",
    "\n",
    "#\n",
    "class IntList(SimpleList):\n",
    "    def __init__(self, items=()):\n",
    "        for x in items: self._validate(x)\n",
    "        super().__init__(items)\n",
    "\n",
    "    @staticmethod\n",
    "    def _validate(x):\n",
    "        if not isinstance(x, int):\n",
    "            raise TypeError('IntList only supports integer values.')\n",
    "\n",
    "    def add(self, item):\n",
    "        self._validate(item)\n",
    "        super().add(item)"
   ]
  },
  {
   "cell_type": "code",
   "execution_count": 14,
   "id": "04e0e7ed",
   "metadata": {},
   "outputs": [
    {
     "name": "stdout",
     "output_type": "stream",
     "text": [
      "True\n",
      "True\n",
      "False\n"
     ]
    }
   ],
   "source": [
    "# Checking isinstance built-in\n",
    "print(isinstance(3,int))\n",
    "print(isinstance(\"Hello\",str))\n",
    "print(isinstance(4.57,bytes))"
   ]
  },
  {
   "cell_type": "code",
   "execution_count": 15,
   "id": "40f62f2b",
   "metadata": {},
   "outputs": [
    {
     "data": {
      "text/plain": [
       "True"
      ]
     },
     "execution_count": 15,
     "metadata": {},
     "output_type": "execute_result"
    }
   ],
   "source": [
    "sl = SortedList([3, 2, 1])\n",
    "isinstance(sl, SortedList)"
   ]
  },
  {
   "cell_type": "code",
   "execution_count": 16,
   "id": "109741c3",
   "metadata": {},
   "outputs": [
    {
     "data": {
      "text/plain": [
       "True"
      ]
     },
     "execution_count": 16,
     "metadata": {},
     "output_type": "execute_result"
    }
   ],
   "source": [
    "isinstance(sl, SimpleList)"
   ]
  },
  {
   "cell_type": "code",
   "execution_count": 17,
   "id": "34954463",
   "metadata": {},
   "outputs": [
    {
     "data": {
      "text/plain": [
       "True"
      ]
     },
     "execution_count": 17,
     "metadata": {},
     "output_type": "execute_result"
    }
   ],
   "source": [
    "x = []\n",
    "isinstance(x, (float, dict, list))"
   ]
  },
  {
   "cell_type": "code",
   "execution_count": 18,
   "id": "17f9870b",
   "metadata": {},
   "outputs": [
    {
     "name": "stdout",
     "output_type": "stream",
     "text": [
      "True\n",
      "True\n",
      "False\n"
     ]
    }
   ],
   "source": [
    "print(issubclass(IntList, SimpleList))\n",
    "print(issubclass(SortedList, SimpleList))\n",
    "print(issubclass(SortedList, IntList))   "
   ]
  },
  {
   "cell_type": "code",
   "execution_count": 19,
   "id": "c0145dac",
   "metadata": {},
   "outputs": [
    {
     "data": {
      "text/plain": [
       "True"
      ]
     },
     "execution_count": 19,
     "metadata": {},
     "output_type": "execute_result"
    }
   ],
   "source": [
    "class MyInt(int): pass\n",
    "class MyVerySpecialInt(MyInt): pass\n",
    "issubclass(MyVerySpecialInt, int)"
   ]
  },
  {
   "cell_type": "markdown",
   "id": "9591916c",
   "metadata": {},
   "source": [
    "## Multiple Inheritance"
   ]
  },
  {
   "cell_type": "code",
   "execution_count": 20,
   "id": "fc16f544",
   "metadata": {},
   "outputs": [],
   "source": [
    "class SimpleList:\n",
    "    def __init__(self, items):\n",
    "        self._items = list(items)\n",
    "\n",
    "    def add(self, item):\n",
    "        self._items.append(item)\n",
    "\n",
    "    def __getitem__(self, index):\n",
    "        return self._items[index]\n",
    "\n",
    "    def sort(self):\n",
    "        self._items.sort()\n",
    "\n",
    "    def __len__(self):\n",
    "        return len(self._items)\n",
    "\n",
    "    def __repr__(self): # TO show the description of Class\n",
    "        return f'{type(self).__name__}({self._items!r})'\n",
    "    \n",
    "    \n",
    "class SortedList(SimpleList):\n",
    "    def __init__(self, items=()):\n",
    "        super().__init__(items)\n",
    "        self.sort()\n",
    "\n",
    "    def add(self, item):\n",
    "        super().add(item)\n",
    "        self.sort()\n",
    "        \n",
    "        \n",
    "class IntList(SimpleList):\n",
    "    def __init__(self, items=()):\n",
    "        for x in items: self._validate(x)\n",
    "        super().__init__(items)\n",
    "\n",
    "    @staticmethod\n",
    "    def _validate(x):\n",
    "        if not isinstance(x, int):\n",
    "            raise TypeError('IntList only supports integer values.')\n",
    "\n",
    "    def add(self, item):\n",
    "        self._validate(item)\n",
    "        super().add(item)        \n",
    "\n",
    "\n",
    "class SortedList(SimpleList):\n",
    "    def __init__(self, items=()):\n",
    "        super().__init__(items)\n",
    "        self.sort()\n",
    "\n",
    "    def add(self, item):\n",
    "        super().add(item)\n",
    "        self.sort()\n",
    "\n",
    "        \n",
    "#        \n",
    "class SortedIntList(IntList, SortedList):\n",
    "    pass"
   ]
  },
  {
   "cell_type": "code",
   "execution_count": 21,
   "id": "a8fceefe",
   "metadata": {},
   "outputs": [],
   "source": [
    "sil=SortedIntList([10,40,-1])"
   ]
  },
  {
   "cell_type": "code",
   "execution_count": 22,
   "id": "3a62bbd8",
   "metadata": {},
   "outputs": [
    {
     "data": {
      "text/plain": [
       "SortedIntList([-1, 10, 40])"
      ]
     },
     "execution_count": 22,
     "metadata": {},
     "output_type": "execute_result"
    }
   ],
   "source": [
    "sil"
   ]
  },
  {
   "cell_type": "code",
   "execution_count": 23,
   "id": "0397983a",
   "metadata": {},
   "outputs": [
    {
     "data": {
      "text/plain": [
       "SortedIntList([-40, -1, 10, 40])"
      ]
     },
     "execution_count": 23,
     "metadata": {},
     "output_type": "execute_result"
    }
   ],
   "source": [
    "sil.add(-40)\n",
    "sil"
   ]
  },
  {
   "cell_type": "code",
   "execution_count": 24,
   "id": "dcf0884d",
   "metadata": {},
   "outputs": [],
   "source": [
    "class Base1:\n",
    "    def __init__(self):\n",
    "        print(\"Base1.__init__\")\n",
    "        \n",
    "class Base2:\n",
    "    def __init__(self):\n",
    "        print(\"Base2.__init__\")\n",
    "        \n",
    "class Sub(Base1,Base2):\n",
    "    def __init__(self):\n",
    "        print(\"Sub.__init__\")"
   ]
  },
  {
   "cell_type": "code",
   "execution_count": 25,
   "id": "f7627db1",
   "metadata": {},
   "outputs": [
    {
     "name": "stdout",
     "output_type": "stream",
     "text": [
      "Sub.__init__\n"
     ]
    }
   ],
   "source": [
    "s=Sub()"
   ]
  },
  {
   "cell_type": "code",
   "execution_count": 26,
   "id": "52d1e53d",
   "metadata": {},
   "outputs": [
    {
     "data": {
      "text/plain": [
       "(__main__.Base1, __main__.Base2)"
      ]
     },
     "execution_count": 26,
     "metadata": {},
     "output_type": "execute_result"
    }
   ],
   "source": [
    "Sub.__bases__"
   ]
  },
  {
   "cell_type": "markdown",
   "id": "dcb1b205",
   "metadata": {},
   "source": [
    "## Diamond classes to show Multiple inheritence and MRO Method Resolution Order"
   ]
  },
  {
   "cell_type": "code",
   "execution_count": 27,
   "id": "d3d8c913",
   "metadata": {},
   "outputs": [],
   "source": [
    "class A:\n",
    "    def func(self):\n",
    "        return 'A.func'\n",
    "\n",
    "    \n",
    "class B(A):\n",
    "    def func(self):\n",
    "        return 'B.func'\n",
    "\n",
    "\n",
    "class C(A):\n",
    "    def func(self):\n",
    "        return 'C.func'\n",
    "\n",
    "\n",
    "class D(B, C): ## in some sence D inherits the base class A indirectly tiwce\n",
    "    pass"
   ]
  },
  {
   "cell_type": "code",
   "execution_count": 28,
   "id": "49eb0825",
   "metadata": {},
   "outputs": [
    {
     "data": {
      "text/plain": [
       "(__main__.D, __main__.B, __main__.C, __main__.A, object)"
      ]
     },
     "execution_count": 28,
     "metadata": {},
     "output_type": "execute_result"
    }
   ],
   "source": [
    "D.__mro__"
   ]
  },
  {
   "cell_type": "code",
   "execution_count": 29,
   "id": "21df137a",
   "metadata": {},
   "outputs": [
    {
     "data": {
      "text/plain": [
       "'B.func'"
      ]
     },
     "execution_count": 29,
     "metadata": {},
     "output_type": "execute_result"
    }
   ],
   "source": [
    "d=D()\n",
    "d.func()"
   ]
  },
  {
   "cell_type": "code",
   "execution_count": 30,
   "id": "138abf70",
   "metadata": {},
   "outputs": [],
   "source": [
    "class SimpleList:\n",
    "    def __init__(self, items):\n",
    "        self._items = list(items)\n",
    "\n",
    "    def add(self, item):\n",
    "        self._items.append(item)\n",
    "\n",
    "    def __getitem__(self, index):\n",
    "        return self._items[index]\n",
    "\n",
    "    def sort(self):\n",
    "        self._items.sort()\n",
    "\n",
    "    def __len__(self):\n",
    "        return len(self._items)\n",
    "\n",
    "    def __repr__(self):\n",
    "        return f'{type(self).__name__}({self._items!r})'\n",
    "\n",
    "\n",
    "class SortedList(SimpleList):\n",
    "    def __init__(self, items=()):\n",
    "        super().__init__(items)\n",
    "        self.sort()\n",
    "\n",
    "    def add(self, item):\n",
    "        print(\"inside SortedList.add()\")\n",
    "        super().add(item)\n",
    "        self.sort()\n",
    "\n",
    "\n",
    "class IntList(SimpleList):\n",
    "    def __init__(self, items=()):\n",
    "        for x in items: self._validate(x)\n",
    "        print(\"MRO before super\",IntList.__mro__)\n",
    "        s = super()\n",
    "        print(f\"Instance of super is {s}\")\n",
    "        s.__init__(items)\n",
    "        print(s.__init__)\n",
    "\n",
    "    @staticmethod\n",
    "    def _validate(x):\n",
    "        print(\"inside _validate() x= \",x)\n",
    "        if not isinstance(x, int):\n",
    "            raise TypeError('IntList only supports integer values.')\n",
    "\n",
    "    def add(self, item):\n",
    "        self._validate(item)\n",
    "        super().add(item)\n",
    "\n",
    "\n",
    "class SortedIntList(IntList, SortedList):\n",
    "    pass\n",
    "\n"
   ]
  },
  {
   "cell_type": "code",
   "execution_count": 31,
   "id": "f1244bbf",
   "metadata": {},
   "outputs": [
    {
     "name": "stdout",
     "output_type": "stream",
     "text": [
      "inside _validate() x=  3\n",
      "inside _validate() x=  2\n",
      "inside _validate() x=  -40\n",
      "inside _validate() x=  10\n",
      "MRO before super (<class '__main__.IntList'>, <class '__main__.SimpleList'>, <class 'object'>)\n",
      "Instance of super is <super: <class 'IntList'>, <SortedIntList object>>\n",
      "<bound method SortedList.__init__ of SortedIntList([-40, 2, 3, 10])>\n"
     ]
    }
   ],
   "source": [
    "sil=SortedIntList([3,2,-40,10])"
   ]
  },
  {
   "cell_type": "code",
   "execution_count": 32,
   "id": "a9b2ecc1",
   "metadata": {},
   "outputs": [
    {
     "data": {
      "text/plain": [
       "(__main__.SortedIntList,\n",
       " __main__.IntList,\n",
       " __main__.SortedList,\n",
       " __main__.SimpleList,\n",
       " object)"
      ]
     },
     "execution_count": 32,
     "metadata": {},
     "output_type": "execute_result"
    }
   ],
   "source": [
    "SortedIntList.__mro__"
   ]
  },
  {
   "cell_type": "code",
   "execution_count": 33,
   "id": "6c1c149a",
   "metadata": {},
   "outputs": [
    {
     "name": "stdout",
     "output_type": "stream",
     "text": [
      "inside SortedList.add()\n"
     ]
    },
    {
     "data": {
      "text/plain": [
       "SortedIntList([-40, 1, 2, 3, 10])"
      ]
     },
     "execution_count": 33,
     "metadata": {},
     "output_type": "execute_result"
    }
   ],
   "source": [
    "super(IntList,sil).add(1)\n",
    "sil"
   ]
  },
  {
   "attachments": {},
   "cell_type": "markdown",
   "id": "d02c5839",
   "metadata": {},
   "source": [
    "<p style=\"background-color:#FFD700;color:rgb(0,255,255);font-size:20px;\">## Tricky example skipping giving class argument as IntList so super.add goes to SortedList.add()</p>"
   ]
  },
  {
   "cell_type": "code",
   "execution_count": 34,
   "id": "e7f2be2a",
   "metadata": {},
   "outputs": [
    {
     "name": "stdout",
     "output_type": "stream",
     "text": [
      "inside SortedList.add()\n"
     ]
    },
    {
     "ename": "TypeError",
     "evalue": "'<' not supported between instances of 'str' and 'int'",
     "output_type": "error",
     "traceback": [
      "\u001b[1;31m---------------------------------------------------------------------------\u001b[0m",
      "\u001b[1;31mTypeError\u001b[0m                                 Traceback (most recent call last)",
      "Cell \u001b[1;32mIn[34], line 1\u001b[0m\n\u001b[1;32m----> 1\u001b[0m \u001b[38;5;28;43msuper\u001b[39;49m\u001b[43m(\u001b[49m\u001b[43mIntList\u001b[49m\u001b[43m,\u001b[49m\u001b[43msil\u001b[49m\u001b[43m)\u001b[49m\u001b[38;5;241;43m.\u001b[39;49m\u001b[43madd\u001b[49m\u001b[43m(\u001b[49m\u001b[38;5;124;43m\"\u001b[39;49m\u001b[38;5;124;43mI am not a number. I am a free man\u001b[39;49m\u001b[38;5;124;43m\"\u001b[39;49m\u001b[43m)\u001b[49m \n",
      "Cell \u001b[1;32mIn[30], line 29\u001b[0m, in \u001b[0;36mSortedList.add\u001b[1;34m(self, item)\u001b[0m\n\u001b[0;32m     27\u001b[0m \u001b[38;5;28mprint\u001b[39m(\u001b[38;5;124m\"\u001b[39m\u001b[38;5;124minside SortedList.add()\u001b[39m\u001b[38;5;124m\"\u001b[39m)\n\u001b[0;32m     28\u001b[0m \u001b[38;5;28msuper\u001b[39m()\u001b[38;5;241m.\u001b[39madd(item)\n\u001b[1;32m---> 29\u001b[0m \u001b[38;5;28;43mself\u001b[39;49m\u001b[38;5;241;43m.\u001b[39;49m\u001b[43msort\u001b[49m\u001b[43m(\u001b[49m\u001b[43m)\u001b[49m\n",
      "Cell \u001b[1;32mIn[30], line 12\u001b[0m, in \u001b[0;36mSimpleList.sort\u001b[1;34m(self)\u001b[0m\n\u001b[0;32m     11\u001b[0m \u001b[38;5;28;01mdef\u001b[39;00m \u001b[38;5;21msort\u001b[39m(\u001b[38;5;28mself\u001b[39m):\n\u001b[1;32m---> 12\u001b[0m     \u001b[38;5;28;43mself\u001b[39;49m\u001b[38;5;241;43m.\u001b[39;49m\u001b[43m_items\u001b[49m\u001b[38;5;241;43m.\u001b[39;49m\u001b[43msort\u001b[49m\u001b[43m(\u001b[49m\u001b[43m)\u001b[49m\n",
      "\u001b[1;31mTypeError\u001b[0m: '<' not supported between instances of 'str' and 'int'"
     ]
    }
   ],
   "source": [
    "super(IntList,sil).add(\"I am not a number. I am a free man\") "
   ]
  },
  {
   "cell_type": "code",
   "execution_count": 35,
   "id": "fb660425",
   "metadata": {},
   "outputs": [
    {
     "data": {
      "text/plain": [
       "SortedIntList([-40, 1, 2, 3, 10, 'I am not a number. I am a free man'])"
      ]
     },
     "execution_count": 35,
     "metadata": {},
     "output_type": "execute_result"
    }
   ],
   "source": [
    "sil"
   ]
  },
  {
   "cell_type": "code",
   "execution_count": 36,
   "id": "eb0bc4a6",
   "metadata": {},
   "outputs": [
    {
     "data": {
      "text/plain": [
       "['__class__',\n",
       " '__delattr__',\n",
       " '__dict__',\n",
       " '__dir__',\n",
       " '__doc__',\n",
       " '__eq__',\n",
       " '__format__',\n",
       " '__ge__',\n",
       " '__getattribute__',\n",
       " '__getitem__',\n",
       " '__getstate__',\n",
       " '__gt__',\n",
       " '__hash__',\n",
       " '__init__',\n",
       " '__init_subclass__',\n",
       " '__le__',\n",
       " '__len__',\n",
       " '__lt__',\n",
       " '__module__',\n",
       " '__ne__',\n",
       " '__new__',\n",
       " '__reduce__',\n",
       " '__reduce_ex__',\n",
       " '__repr__',\n",
       " '__setattr__',\n",
       " '__sizeof__',\n",
       " '__str__',\n",
       " '__subclasshook__',\n",
       " '__weakref__',\n",
       " '_items',\n",
       " '_validate',\n",
       " 'add',\n",
       " 'sort']"
      ]
     },
     "execution_count": 36,
     "metadata": {},
     "output_type": "execute_result"
    }
   ],
   "source": [
    "dir(sil)"
   ]
  },
  {
   "cell_type": "code",
   "execution_count": 37,
   "id": "9c47b763",
   "metadata": {},
   "outputs": [],
   "source": [
    "class Rectangle:\n",
    "    \n",
    "    def __init__(self, width, height):\n",
    "        self.width = width\n",
    "        self.height = height"
   ]
  },
  {
   "cell_type": "markdown",
   "id": "a92006b6",
   "metadata": {},
   "source": [
    "## Class Definition"
   ]
  },
  {
   "cell_type": "code",
   "execution_count": 38,
   "id": "8986cce5",
   "metadata": {},
   "outputs": [],
   "source": [
    "# basic class\n",
    "class ShippingContainer:\n",
    "\n",
    "    def __init__(self):\n",
    "        pass"
   ]
  },
  {
   "cell_type": "code",
   "execution_count": 39,
   "id": "e58832c8",
   "metadata": {},
   "outputs": [],
   "source": [
    "class ShippingContainer:\n",
    "\n",
    "    def __init__(self, owner_code):\n",
    "        self.owner_code = owner_code\n"
   ]
  },
  {
   "cell_type": "code",
   "execution_count": 40,
   "id": "a18f50e8",
   "metadata": {},
   "outputs": [],
   "source": [
    "class ShippingContainer:\n",
    "\n",
    "    def __init__(self, owner_code, contents):\n",
    "        self.owner_code = owner_code\n",
    "        self.contents = contents\n"
   ]
  },
  {
   "cell_type": "code",
   "execution_count": 41,
   "id": "849f4241",
   "metadata": {},
   "outputs": [],
   "source": [
    "class MyClass:\n",
    "\n",
    "    # Define class attributes in the class block\n",
    "    my_class_attribute = \"class attributes go here\"\n",
    "    MY_CONSTANT = \"they are often class-specific contants\"\n",
    "\n",
    "    def __init__(self):\n",
    "        self.my_instance_attribute = \"instance attributes here\"\n"
   ]
  },
  {
   "cell_type": "code",
   "execution_count": 42,
   "id": "ac19b4e4",
   "metadata": {},
   "outputs": [],
   "source": [
    "class ShippingContainer:\n",
    "\n",
    "    next_serial = 1337\n",
    "\n",
    "    def __init__(self, owner_code, contents):\n",
    "        self.owner_code = owner_code\n",
    "        self.contents = contents\n"
   ]
  },
  {
   "cell_type": "code",
   "execution_count": 43,
   "id": "5fc79845",
   "metadata": {},
   "outputs": [],
   "source": [
    "class ShippingContainer:\n",
    "\n",
    "    next_serial = 1337\n",
    "\n",
    "    def __init__(self, owner_code, contents):\n",
    "        self.owner_code = owner_code\n",
    "        self.contents = contents\n",
    "        self.serial = next_serial\n",
    "        next_serial += 1"
   ]
  },
  {
   "cell_type": "markdown",
   "id": "6ac79643",
   "metadata": {},
   "source": [
    "Ideal way to avaoid confusion using classname to refer to attributes"
   ]
  },
  {
   "cell_type": "code",
   "execution_count": 44,
   "id": "ba901201",
   "metadata": {},
   "outputs": [],
   "source": [
    "class ShippingContainer:\n",
    "\n",
    "    next_serial = 1337\n",
    "\n",
    "    def __init__(self, owner_code, contents):\n",
    "        self.owner_code = owner_code\n",
    "        self.contents = contents\n",
    "        self.serial = ShippingContainer.next_serial\n",
    "        ShippingContainer.next_serial += 1\n"
   ]
  },
  {
   "cell_type": "markdown",
   "id": "8d221eb6",
   "metadata": {},
   "source": [
    "## static method"
   ]
  },
  {
   "cell_type": "code",
   "execution_count": 45,
   "id": "7da04469",
   "metadata": {},
   "outputs": [],
   "source": [
    "class ShippingContainer:\n",
    "\n",
    "    next_serial = 1337\n",
    "\n",
    "    @staticmethod\n",
    "    def _generate_serial():\n",
    "        result = ShippingContainer.next_serial\n",
    "        ShippingContainer.next_serial += 1\n",
    "        return result\n",
    "\n",
    "    def __init__(self, owner_code, contents):\n",
    "        self.owner_code = owner_code\n",
    "        self.contents = contents\n",
    "        self.serial = ShippingContainer._generate_serial()\n"
   ]
  },
  {
   "cell_type": "markdown",
   "id": "6a2f6177",
   "metadata": {},
   "source": [
    "## Global vs Static"
   ]
  },
  {
   "cell_type": "code",
   "execution_count": 46,
   "id": "724ef6a8",
   "metadata": {},
   "outputs": [],
   "source": [
    "class SplineReticulator:\n",
    "\n",
    "    @classmethod\n",
    "    def reticulate(cls,x, y):\n",
    "        return cls._tricky_math(x, y)\n",
    "\n",
    "    @staticmethod\n",
    "    def _tricky_math(x, y):\n",
    "        return 2 * x**2 - 4*y\n",
    "    \n",
    "    def __init__(self):\n",
    "        pass\n",
    "    "
   ]
  },
  {
   "cell_type": "code",
   "execution_count": 47,
   "id": "f70c1197",
   "metadata": {},
   "outputs": [
    {
     "name": "stdout",
     "output_type": "stream",
     "text": [
      "reticulate static call  12\n"
     ]
    }
   ],
   "source": [
    "obj1=SplineReticulator()\n",
    "print(\"reticulate static call \",obj1.reticulate(4,5))"
   ]
  },
  {
   "cell_type": "code",
   "execution_count": 48,
   "id": "d7c39a77",
   "metadata": {},
   "outputs": [],
   "source": [
    "class SplineReticulator:\n",
    "\n",
    "    def reticulate(x, y):\n",
    "        return _tricky_math(x, y)\n",
    "\n",
    "# Global function\n",
    "def _tricky_math(x, y):\n",
    "    return 2 * x**2 - 4*y\n"
   ]
  },
  {
   "cell_type": "code",
   "execution_count": 49,
   "id": "b5182c08",
   "metadata": {},
   "outputs": [
    {
     "name": "stdout",
     "output_type": "stream",
     "text": [
      "reticulate static call  12\n"
     ]
    }
   ],
   "source": [
    "obj2=SplineReticulator()\n",
    "print(\"reticulate static call \",obj1.reticulate(4,5))"
   ]
  },
  {
   "cell_type": "markdown",
   "id": "2b9d58be",
   "metadata": {},
   "source": [
    "## ISO Module"
   ]
  },
  {
   "cell_type": "markdown",
   "id": "5e357c63",
   "metadata": {},
   "source": [
    "![image.png](attachment:image.png) check shipping image in Current Directory"
   ]
  },
  {
   "cell_type": "code",
   "execution_count": 51,
   "id": "8633e360",
   "metadata": {},
   "outputs": [
    {
     "name": "stderr",
     "output_type": "stream",
     "text": [
      "'[image.png]' is not recognized as an internal or external command,\n",
      "operable program or batch file.\n"
     ]
    }
   ],
   "source": [
    "\"\"\"\n",
    "ISO 6346 shipping container codes.\n",
    "\"\"\"\n",
    "\n",
    "def create(owner_code, serial, category='U'):\n",
    "    \"\"\"Create an ISO 6346 shipping container code.\n",
    "\n",
    "    Args:\n",
    "        owner_code (str): Three character alphabetic container code.\n",
    "        serial (str): Six digit numeric serial number.\n",
    "        category (str): Equipment category identifier.\n",
    "\n",
    "    Returns:\n",
    "        An ISO 6346 container code including a check digit.\n",
    "\n",
    "    Raises:\n",
    "        ValueError: If incorrect values are provided.\n",
    "    \"\"\"\n",
    "    if not (len(owner_code) == 3 and owner_code.isalpha()):\n",
    "        raise ValueError(\"Invalid ISO 6346 owner code '{}'\".format(owner_code))\n",
    "\n",
    "    if category not in ('U', 'J', 'Z', 'R'):\n",
    "        raise ValueError(\"Invalid ISO 6346 category identifier '{}'\".format(category))\n",
    "\n",
    "    if not (len(serial) == 6 and serial.isdigit()):\n",
    "        raise ValueError(\"Invalid ISO 6346 serial number\")\n",
    "\n",
    "    raw_code = owner_code + category + serial\n",
    "    full_code = raw_code + str(check_digit(raw_code))\n",
    "    return full_code\n",
    "\n",
    "\n",
    "def check_digit(raw_code):\n",
    "    \"\"\"Compute the check digit for an ISO 6346 code without that digit\n",
    "\n",
    "    Args:\n",
    "        raw_code (str): An ISO 6346 code lacking a check digit.\n",
    "\n",
    "    Returns:\n",
    "        An integer check digit between 0 and 9 inclusive.\n",
    "    \"\"\"\n",
    "    s = sum(code(char) * 2**index for index, char in enumerate(raw_code))\n",
    "    return s % 11 % 10\n",
    "\n",
    "\n",
    "def code(char):\n",
    "    \"\"\"Determine the ISO 6346 numeric equivalent of a character.\n",
    "\n",
    "    Args:\n",
    "        char (str): A single character string.\n",
    "\n",
    "    Return:\n",
    "        An integer code equivalent to the supplied character.\n",
    "    \"\"\"\n",
    "    return int(char) if char.isdigit() else letter_code(char)\n",
    "\n",
    "\n",
    "def letter_code(letter):\n",
    "    \"\"\"Determine the ISO 6346 numeric code for a letter.\n",
    "\n",
    "    Args:\n",
    "        letter (str): A single letter.\n",
    "\n",
    "    Returns:\n",
    "        An integer character code equivalent to the supplied letter.\n",
    "    \"\"\"\n",
    "    value = ord(letter.lower()) - ord('a') + 10\n",
    "    return value + value // 11\n"
   ]
  },
  {
   "cell_type": "code",
   "execution_count": null,
   "id": "fcc2a64b",
   "metadata": {},
   "outputs": [],
   "source": [
    "import iso6346\n",
    "\n",
    "class ShippingContainer:\n",
    "\n",
    "    next_serial = 1337\n",
    "\n",
    "    @classmethod\n",
    "    def _generate_serial(cls):\n",
    "        result = cls.next_serial\n",
    "        cls.next_serial += 1\n",
    "        return result\n",
    "\n",
    "    @staticmethod\n",
    "    def _make_bic_code(owner_code, serial):\n",
    "        return iso6346.create(\n",
    "            owner_code=owner_code,\n",
    "            serial=str(serial).zfill(6)\n",
    "        )\n",
    "\n",
    "    @classmethod\n",
    "    def create_empty(cls, owner_code):\n",
    "        return cls(owner_code, contents=[])\n",
    "\n",
    "    @classmethod\n",
    "    def create_with_items(cls, owner_code, items):\n",
    "        return cls(owner_code, contents=list(items))\n",
    "\n",
    "    def __init__(self, owner_code, contents):\n",
    "        self.owner_code = owner_code\n",
    "        self.contents = contents\n",
    "        self.serial = ShippingContainer._generate_serial()\n",
    "        ## normal way for readability\n",
    "        #self.bic = ShippingContainer._make_bic_code(\n",
    "        # when polymorphysm is expected to be used call static method with self\n",
    "        self.bic = self._make_bic_code(\n",
    "            owner_code=owner_code,\n",
    "            serial=ShippingContainer._generate_serial()\n",
    "        )\n"
   ]
  },
  {
   "cell_type": "code",
   "execution_count": null,
   "id": "a62a4064",
   "metadata": {},
   "outputs": [
    {
     "data": {
      "text/plain": [
       "[]"
      ]
     },
     "metadata": {},
     "output_type": "display_data"
    }
   ],
   "source": [
    "c1=ShippingContainer.create_empty(\"NSK\") # should be three digit NSK Nami Sandeep Kumar\n",
    "c1.contents"
   ]
  },
  {
   "cell_type": "code",
   "execution_count": null,
   "id": "06a702b0",
   "metadata": {},
   "outputs": [
    {
     "name": "stdout",
     "output_type": "stream",
     "text": [
      "contents of shipment  ['Minerals', 'Textiles', 'Food']\n",
      "bic code  NSKU0013405\n"
     ]
    }
   ],
   "source": [
    "c2=ShippingContainer.create_with_items(\"NSK\",{\"Food\",\"Textiles\",\"Minerals\"})\n",
    "print(\"contents of shipment \",c2.contents)\n",
    "print(\"bic code \",c2.bic)"
   ]
  },
  {
   "cell_type": "code",
   "execution_count": null,
   "id": "b6ad550d",
   "metadata": {},
   "outputs": [],
   "source": [
    "class RefrigeratedShippingContainer(ShippingContainer): # class inheriting ShippingContainer\n",
    "\n",
    "    @staticmethod\n",
    "    def _make_bic_code(owner_code, serial):\n",
    "        return iso6346.create(\n",
    "            owner_code=owner_code,\n",
    "            serial=str(serial).zfill(6),\n",
    "            category=\"R\"\n",
    "        )\n"
   ]
  },
  {
   "cell_type": "code",
   "execution_count": null,
   "id": "54235bf9",
   "metadata": {},
   "outputs": [
    {
     "data": {
      "text/plain": [
       "'NSKR0013424'"
      ]
     },
     "metadata": {},
     "output_type": "display_data"
    }
   ],
   "source": [
    "r1=RefrigeratedShippingContainer('NSK',{\"Fish\"})\n",
    "r1.bic #category didnt get changed to R-Refrigirated Shipment\n"
   ]
  },
  {
   "cell_type": "markdown",
   "id": "fdb4b5c9",
   "metadata": {},
   "source": [
    "<b>Calling static methods of parent and child classes with class name</b>"
   ]
  },
  {
   "cell_type": "code",
   "execution_count": null,
   "id": "b4a44ccc",
   "metadata": {},
   "outputs": [
    {
     "name": "stdout",
     "output_type": "stream",
     "text": [
      "Parent Class static method NSKU0012348\n",
      "Child Class overridden static method NSKR0012346\n"
     ]
    }
   ],
   "source": [
    "print(\"Parent Class static method\",ShippingContainer._make_bic_code('NSK',1234))\n",
    "print(\"Child Class overridden static method\",RefrigeratedShippingContainer._make_bic_code('NSK',1234))"
   ]
  },
  {
   "cell_type": "markdown",
   "id": "926b88c2",
   "metadata": {},
   "source": [
    "<b>Calling static methods of parent and child classes with object instances name</b>"
   ]
  },
  {
   "cell_type": "code",
   "execution_count": null,
   "id": "1936ee96",
   "metadata": {},
   "outputs": [
    {
     "name": "stdout",
     "output_type": "stream",
     "text": [
      "bic code  NSKU0012348\n",
      "bic code  NSKR0012346\n"
     ]
    }
   ],
   "source": [
    "c3=ShippingContainer(\"NSK\",{\"Food\",\"Textiles\",\"Minerals\"})\n",
    "print(\"bic code \",c3._make_bic_code('NSK',1234))\n",
    "r3=RefrigeratedShippingContainer(\"NSK\",{\"Food\",\"Textiles\",\"Minerals\"})\n",
    "print(\"bic code \",r3._make_bic_code('NSK',1234))"
   ]
  },
  {
   "cell_type": "code",
   "execution_count": null,
   "id": "d17719da",
   "metadata": {},
   "outputs": [],
   "source": []
  }
 ],
 "metadata": {
  "kernelspec": {
   "display_name": "Python 3 (ipykernel)",
   "language": "python",
   "name": "python3"
  },
  "language_info": {
   "codemirror_mode": {
    "name": "ipython",
    "version": 3
   },
   "file_extension": ".py",
   "mimetype": "text/x-python",
   "name": "python",
   "nbconvert_exporter": "python",
   "pygments_lexer": "ipython3",
   "version": "3.12.0"
  }
 },
 "nbformat": 4,
 "nbformat_minor": 5
}
