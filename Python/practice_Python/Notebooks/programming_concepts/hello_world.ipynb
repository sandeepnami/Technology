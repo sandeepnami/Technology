{
 "cells": [
  {
   "cell_type": "markdown",
   "id": "2e40af15",
   "metadata": {},
   "source": [
    "# Learning\n",
    "\n",
    "This notebook contains some simple examples of *Jupyter Notebook* and *Python3*"
   ]
  },
  {
   "cell_type": "markdown",
   "id": "88f2a51f",
   "metadata": {},
   "source": [
    "## Example 1: *Hello world*"
   ]
  },
  {
   "cell_type": "code",
   "execution_count": 12,
   "id": "6eef4ad1",
   "metadata": {},
   "outputs": [
    {
     "name": "stdout",
     "output_type": "stream",
     "text": [
      "Hello Sandeep\n",
      "\n"
     ]
    }
   ],
   "source": [
    "my_name='Sandeep'\n",
    "hello_statement='Hello '+my_name\n",
    "print(hello_statement,end='\\n\\n')\n",
    "x=10"
   ]
  },
  {
   "cell_type": "markdown",
   "id": "e5e4b6ee",
   "metadata": {},
   "source": [
    "Example 2: World's best loop is here"
   ]
  },
  {
   "cell_type": "code",
   "execution_count": 13,
   "id": "a554b293",
   "metadata": {},
   "outputs": [
    {
     "name": "stdout",
     "output_type": "stream",
     "text": [
      "j=1 x=11\n",
      "j=2 x=13\n",
      "j=3 x=16\n",
      "j=4 x=20\n"
     ]
    }
   ],
   "source": [
    "#x=10\n",
    "for j in range(1,5):\n",
    "    x=x+j\n",
    "    print(\"j={0} x={1}\".format(j,x))"
   ]
  },
  {
   "cell_type": "code",
   "execution_count": null,
   "id": "f5fbaabe",
   "metadata": {},
   "outputs": [],
   "source": []
  }
 ],
 "metadata": {
  "kernelspec": {
   "display_name": "Python 3 (ipykernel)",
   "language": "python",
   "name": "python3"
  },
  "language_info": {
   "codemirror_mode": {
    "name": "ipython",
    "version": 3
   },
   "file_extension": ".py",
   "mimetype": "text/x-python",
   "name": "python",
   "nbconvert_exporter": "python",
   "pygments_lexer": "ipython3",
   "version": "3.9.7"
  }
 },
 "nbformat": 4,
 "nbformat_minor": 5
}
