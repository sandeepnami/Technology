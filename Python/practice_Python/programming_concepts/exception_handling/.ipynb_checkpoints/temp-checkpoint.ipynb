{
 "cells": [
  {
   "cell_type": "code",
   "execution_count": null,
   "id": "66aea409",
   "metadata": {},
   "outputs": [],
   "source": [
    "DIGIT_MAP = {\n",
    "    'zero':  '0',\n",
    "    'one':   '1',\n",
    "    'two':   '2',\n",
    "    'three': '3',\n",
    "    'four':  '4',\n",
    "    'five':  '5',\n",
    "    'six':   '6',\n",
    "    'seven': '7',\n",
    "    'eight': '8',\n",
    "    'nine':  '9',\n",
    "}\n",
    "\n",
    "\n",
    "def convert(s):\n",
    "    number = ''\n",
    "    for token in s:\n",
    "        number += DIGIT_MAP[token]\n",
    "    x = int(number)\n",
    "    return x\n"
   ]
  },
  {
   "cell_type": "code",
   "execution_count": null,
   "id": "73d8b09f",
   "metadata": {},
   "outputs": [],
   "source": [
    "from exceptional import convert\n",
    "print (convert(\"one three three seven\".split()))"
   ]
  },
  {
   "cell_type": "code",
   "execution_count": null,
   "id": "5d45caf2",
   "metadata": {},
   "outputs": [],
   "source": [
    "print(\"test\")"
   ]
  },
  {
   "cell_type": "code",
   "execution_count": null,
   "id": "d3230224",
   "metadata": {},
   "outputs": [],
   "source": []
  },
  {
   "cell_type": "code",
   "execution_count": null,
   "id": "b80247a1",
   "metadata": {},
   "outputs": [],
   "source": []
  },
  {
   "cell_type": "code",
   "execution_count": null,
   "id": "aac4b0d5",
   "metadata": {},
   "outputs": [],
   "source": []
  }
 ],
 "metadata": {
  "kernelspec": {
   "display_name": "Python 3 (ipykernel)",
   "language": "python",
   "name": "python3"
  }
 },
 "nbformat": 4,
 "nbformat_minor": 5
}
