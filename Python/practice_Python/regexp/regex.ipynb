{
 "cells": [
  {
   "cell_type": "code",
   "execution_count": 2,
   "metadata": {},
   "outputs": [],
   "source": [
    "import re"
   ]
  },
  {
   "cell_type": "code",
   "execution_count": 3,
   "metadata": {},
   "outputs": [
    {
     "name": "stdout",
     "output_type": "stream",
     "text": [
      "found a match <re.Match object; span=(10, 16), match='sample'>\n"
     ]
    }
   ],
   "source": [
    "txt = 'this is a sample text.'\n",
    "pattern = 'sample'\n",
    "\n",
    "match = re.search(pattern,txt)\n",
    "\n",
    "if match:\n",
    "    print('found a match', match)\n",
    "else:\n",
    "    print('no match found')\n"
   ]
  },
  {
   "cell_type": "code",
   "execution_count": 4,
   "metadata": {},
   "outputs": [
    {
     "name": "stdout",
     "output_type": "stream",
     "text": [
      "The text string starts with the word \"The\"\n"
     ]
    }
   ],
   "source": [
    "txt = 'The quick brown fox'\n",
    "pattern = r'^The'\n",
    "\n",
    "match = re.search(pattern,txt)\n",
    "\n",
    "if match:\n",
    "    print('The text string starts with the word \"The\"')\n",
    "else:\n",
    "    print('The text string does not start with the word \"The\"')"
   ]
  },
  {
   "cell_type": "code",
   "execution_count": 5,
   "metadata": {},
   "outputs": [
    {
     "name": "stdout",
     "output_type": "stream",
     "text": [
      "The entire string matches for pattern\n"
     ]
    }
   ],
   "source": [
    "pattern = r'\\d{4}-\\d{2}-\\d{2}'\n",
    "txt = '1985-01-19'\n",
    "\n",
    "fmatch = re.fullmatch(pattern, txt)\n",
    "\n",
    "if fmatch:\n",
    "    print(f'The entire string matches for pattern')\n",
    "else:\n",
    "    print('full match for date is not found')"
   ]
  },
  {
   "cell_type": "code",
   "execution_count": 6,
   "metadata": {},
   "outputs": [
    {
     "name": "stdout",
     "output_type": "stream",
     "text": [
      "['19', '99', '12', '50']\n"
     ]
    }
   ],
   "source": [
    "pattern = r'\\d+'\n",
    "txt = 'The price of the book is $19.99 and the price of the movie is $12.50'\n",
    "\n",
    "matches = re.findall(pattern, txt)\n",
    "print(matches)\n"
   ]
  },
  {
   "cell_type": "code",
   "execution_count": 7,
   "metadata": {},
   "outputs": [
    {
     "name": "stdout",
     "output_type": "stream",
     "text": [
      "The quick brown fox jumps **** the **** dog\n"
     ]
    }
   ],
   "source": [
    "pattern = r'\\b\\w{4}\\b'\n",
    "txt = 'The quick brown fox jumps over the lazy dog'\n",
    "\n",
    "new_txt = re.sub(pattern, '****', txt)\n",
    "print(new_txt)"
   ]
  },
  {
   "cell_type": "code",
   "execution_count": 8,
   "metadata": {},
   "outputs": [
    {
     "name": "stdout",
     "output_type": "stream",
     "text": [
      "['The', 'quick', 'brown', 'fox', 'jumps', 'over', 'the', 'lazy', 'dog']\n",
      "['The', 'quick', 'brown', 'fox jumps over the lazy dog']\n"
     ]
    }
   ],
   "source": [
    "pattern = r'\\s'\n",
    "txt = 'The quick brown fox jumps over the lazy dog'\n",
    "\n",
    "split_txts = re.split(pattern, txt)\n",
    "print(split_txts)\n",
    "split_txts = re.split(pattern, txt, 3)\n",
    "print(split_txts)"
   ]
  },
  {
   "cell_type": "code",
   "execution_count": 9,
   "metadata": {},
   "outputs": [
    {
     "name": "stdout",
     "output_type": "stream",
     "text": [
      "escaped pattern= \\\\b\n",
      "Found a word boundary in the text\n"
     ]
    }
   ],
   "source": [
    "pattern  = r'\\b'\n",
    "text = r'The quick \\brown fox'\n",
    "\n",
    "escaped_pattern = re.escape(pattern)\n",
    "print('escaped pattern=', escaped_pattern)\n",
    "match = re.search(escaped_pattern,text)\n",
    "\n",
    "if match:\n",
    "    print('Found a word boundary in the text')\n",
    "else:\n",
    "    print('could not find a word boundary in the text')"
   ]
  },
  {
   "cell_type": "code",
   "execution_count": 10,
   "metadata": {},
   "outputs": [
    {
     "name": "stdout",
     "output_type": "stream",
     "text": [
      "escaped pattern= \\.\n",
      "Found a word boundary in the text\n"
     ]
    }
   ],
   "source": [
    "pattern = r'.'\n",
    "text = 'The quick brown fox.'\n",
    "\n",
    "escaped_pattern = re.escape(pattern)\n",
    "print('escaped pattern=', escaped_pattern)\n",
    "match = re.search(escaped_pattern,text)\n",
    "\n",
    "if match:\n",
    "    print('Found a word boundary in the text')\n",
    "else:\n",
    "    print('could not find a word boundary in the text')\n"
   ]
  },
  {
   "cell_type": "code",
   "execution_count": 11,
   "metadata": {},
   "outputs": [
    {
     "name": "stdout",
     "output_type": "stream",
     "text": [
      "['19', '99', '12', '50']\n"
     ]
    }
   ],
   "source": [
    "pattern = r'\\d+'\n",
    "text = 'The price of the book is $19.99 and the price of the movie is $12.50'\n",
    "\n",
    "regex = re.compile(pattern)\n",
    "matches = regex.findall(text)\n",
    "print(matches)"
   ]
  },
  {
   "cell_type": "code",
   "execution_count": 12,
   "metadata": {},
   "outputs": [
    {
     "name": "stdout",
     "output_type": "stream",
     "text": [
      "True\n"
     ]
    }
   ],
   "source": [
    "def leap_year(year):\n",
    "    if (year % 100 == 0):\n",
    "        if(year % 400 == 0):\n",
    "            return True\n",
    "        else:\n",
    "            return False\n",
    "    elif(year % 4):\n",
    "        return True\n",
    "    else:\n",
    "        return False\n",
    "\n",
    "print(leap_year(1990))"
   ]
  },
  {
   "cell_type": "code",
   "execution_count": 13,
   "metadata": {},
   "outputs": [
    {
     "name": "stdout",
     "output_type": "stream",
     "text": [
      "Matched Phone number: 444-555-1234\n",
      "Area Code: 444\n",
      "Phone number: 555-1234\n",
      "Start position: 19\n",
      "End position: 31\n",
      "Spsn: (19, 31)\n"
     ]
    }
   ],
   "source": [
    "pattern = r'(\\d{3})-(\\d{3}-\\d{4})'\n",
    "text = 'My phone number is 444-555-1234'\n",
    "\n",
    "match = re.search(pattern, text)\n",
    "\n",
    "if match:\n",
    "    print(f'Matched Phone number: {match.group()}')\n",
    "    print(f'Area Code: {match.group(1)}')\n",
    "    print(f'Phone number: {match.group(2)}')\n",
    "    print(f'Start position: {match.start()}')\n",
    "    print(f'End position: {match.end()}')\n",
    "    print(f'Spsn: {match.span()}')\n",
    "    "
   ]
  },
  {
   "cell_type": "code",
   "execution_count": 14,
   "metadata": {},
   "outputs": [
    {
     "name": "stdout",
     "output_type": "stream",
     "text": [
      "Matched string is Hello\n"
     ]
    }
   ],
   "source": [
    "pattern = r'hello'\n",
    "text = f'Hello, world!'\n",
    "\n",
    "match = re.search(pattern,text,re.IGNORECASE)\n",
    "\n",
    "if match:\n",
    "    print(f'Matched string is {match.group()}')"
   ]
  },
  {
   "cell_type": "code",
   "execution_count": 15,
   "metadata": {},
   "outputs": [
    {
     "name": "stdout",
     "output_type": "stream",
     "text": [
      "Matched string is hello\n",
      " world\n"
     ]
    }
   ],
   "source": [
    "pattern = r'hello.*world'\n",
    "text = f'hello\\n world'\n",
    "\n",
    "match = re.search(pattern, text, re.DOTALL)\n",
    "\n",
    "if match:\n",
    "    print(f'Matched string is {match.group()}')\n",
    "else:\n",
    "    print('No Match found')"
   ]
  },
  {
   "cell_type": "code",
   "execution_count": 16,
   "metadata": {},
   "outputs": [
    {
     "name": "stdout",
     "output_type": "stream",
     "text": [
      "['1', '2', '3']\n"
     ]
    }
   ],
   "source": [
    "pattern = r'\\d+$'\n",
    "text = f'Line 1\\nLine2\\nLine3'\n",
    "\n",
    "matches = re.findall(pattern, text, re.MULTILINE)\n",
    "\n",
    "print(matches)"
   ]
  },
  {
   "cell_type": "code",
   "execution_count": 31,
   "metadata": {},
   "outputs": [
    {
     "name": "stdout",
     "output_type": "stream",
     "text": [
      "Matched string is ['Amy', 'Mary', 'Ruth', 'Peter']\n"
     ]
    }
   ],
   "source": [
    "# find names\n",
    "simple_string = \"\"\"Amy is 5 years old, and her sister Mary is 2 years old. \n",
    "    Ruth and Peter, their parents, have 3 kids.\"\"\"\n",
    "pattern = r'[A-Z][a-z]*'\n",
    "\n",
    "matches = re.findall(pattern, simple_string)\n",
    "print(f'Matched string is {matches}')\n",
    "\n"
   ]
  },
  {
   "cell_type": "code",
   "execution_count": 67,
   "metadata": {},
   "outputs": [
    {
     "name": "stdout",
     "output_type": "stream",
     "text": [
      "21/Jun/2019:15:45:24 -0700\n"
     ]
    }
   ],
   "source": [
    "import re\n",
    "line = ['146.204.224.152 - - feest6811 [21/Jun/2019:15:45:24 -0700] \"POST /incentivize HTTP/1.1\" 302 4622',\n",
    "        '159.253.153.40 - - [21/Jun/2019:15:46:10 -0700] \"POST /e-business HTTP/1.0\" 504 19845'\n",
    "        ]\n",
    "\n",
    "dic = {}\n",
    "# pattern = r'[/d]*-'\n",
    "# matches = re.findall(pattern, line)\n",
    "# print(matches)\n",
    "# str_list = line.split('-')\n",
    "# print(str_list[0].strip())\n",
    "\n",
    "# pattern = r'-\\s*\\w*'\n",
    "# matches = re.findall(pattern, line[0])\n",
    "# print(matches[0])\n",
    "\n",
    "pattern = r'\\[(.*)\\]'\n",
    "matches = re.findall(pattern, line[0])\n",
    "print(matches[0])\n"
   ]
  },
  {
   "cell_type": "code",
   "execution_count": 65,
   "metadata": {},
   "outputs": [
    {
     "data": {
      "text/plain": [
       "'-'"
      ]
     },
     "execution_count": 65,
     "metadata": {},
     "output_type": "execute_result"
    }
   ],
   "source": [
    "'-'.strip()"
   ]
  },
  {
   "cell_type": "code",
   "execution_count": 2,
   "metadata": {},
   "outputs": [
    {
     "data": {
      "text/plain": [
       "['AA', 'AA', 'AA']"
      ]
     },
     "execution_count": 2,
     "metadata": {},
     "output_type": "execute_result"
    },
    {
     "ename": "",
     "evalue": "",
     "output_type": "error",
     "traceback": [
      "\u001b[1;31mThe Kernel crashed while executing code in the the current cell or a previous cell. Please review the code in the cell(s) to identify a possible cause of the failure. Click <a href='https://aka.ms/vscodeJupyterKernelCrash'>here</a> for more info. View Jupyter <a href='command:jupyter.viewOutput'>log</a> for further details."
     ]
    }
   ],
   "source": [
    "import re\n",
    "\n",
    "grades=\"ACAAAABCBCBAA\" \n",
    "\n",
    "re.findall(r'A{2,2}', grades)"
   ]
  },
  {
   "cell_type": "code",
   "execution_count": null,
   "metadata": {},
   "outputs": [],
   "source": []
  }
 ],
 "metadata": {
  "kernelspec": {
   "display_name": "Python 3",
   "language": "python",
   "name": "python3"
  },
  "language_info": {
   "codemirror_mode": {
    "name": "ipython",
    "version": 3
   },
   "file_extension": ".py",
   "mimetype": "text/x-python",
   "name": "python",
   "nbconvert_exporter": "python",
   "pygments_lexer": "ipython3",
   "version": "3.12.0"
  }
 },
 "nbformat": 4,
 "nbformat_minor": 2
}
